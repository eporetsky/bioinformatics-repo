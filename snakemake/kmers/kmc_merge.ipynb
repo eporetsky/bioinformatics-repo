{
 "cells": [
  {
   "cell_type": "code",
   "execution_count": 2,
   "id": "54ef9e90",
   "metadata": {},
   "outputs": [
    {
     "data": {
      "text/html": [
       "<style type='text/css'>\n",
       ".datatable table.frame { margin-bottom: 0; }\n",
       ".datatable table.frame thead { border-bottom: none; }\n",
       ".datatable table.frame tr.coltypes td {  color: #FFFFFF;  line-height: 6px;  padding: 0 0.5em;}\n",
       ".datatable .bool    { background: #DDDD99; }\n",
       ".datatable .object  { background: #565656; }\n",
       ".datatable .int     { background: #5D9E5D; }\n",
       ".datatable .float   { background: #4040CC; }\n",
       ".datatable .str     { background: #CC4040; }\n",
       ".datatable .time    { background: #40CC40; }\n",
       ".datatable .row_index {  background: var(--jp-border-color3);  border-right: 1px solid var(--jp-border-color0);  color: var(--jp-ui-font-color3);  font-size: 9px;}\n",
       ".datatable .frame tbody td { text-align: left; }\n",
       ".datatable .frame tr.coltypes .row_index {  background: var(--jp-border-color0);}\n",
       ".datatable th:nth-child(2) { padding-left: 12px; }\n",
       ".datatable .hellipsis {  color: var(--jp-cell-editor-border-color);}\n",
       ".datatable .vellipsis {  background: var(--jp-layout-color0);  color: var(--jp-cell-editor-border-color);}\n",
       ".datatable .na {  color: var(--jp-cell-editor-border-color);  font-size: 80%;}\n",
       ".datatable .sp {  opacity: 0.25;}\n",
       ".datatable .footer { font-size: 9px; }\n",
       ".datatable .frame_dimensions {  background: var(--jp-border-color3);  border-top: 1px solid var(--jp-border-color0);  color: var(--jp-ui-font-color3);  display: inline-block;  opacity: 0.6;  padding: 1px 10px 1px 5px;}\n",
       "</style>\n"
      ],
      "text/plain": [
       "<IPython.core.display.HTML object>"
      ]
     },
     "metadata": {},
     "output_type": "display_data"
    }
   ],
   "source": [
    "import os\n",
    "import pandas as pd\n",
    "import dask.dataframe as dd\n",
    "import seaborn as sns\n",
    "from datatable import dt, fread\n",
    "# With python v>3.9 need to install datatable from source for the time being\n",
    "# pip install git+https://github.com/h2oai/datatable"
   ]
  },
  {
   "cell_type": "code",
   "execution_count": 10,
   "id": "c6f94acc",
   "metadata": {
    "scrolled": true
   },
   "outputs": [
    {
     "data": {
      "text/html": [
       "<div>\n",
       "<style scoped>\n",
       "    .dataframe tbody tr th:only-of-type {\n",
       "        vertical-align: middle;\n",
       "    }\n",
       "\n",
       "    .dataframe tbody tr th {\n",
       "        vertical-align: top;\n",
       "    }\n",
       "\n",
       "    .dataframe thead th {\n",
       "        text-align: right;\n",
       "    }\n",
       "</style>\n",
       "<table border=\"1\" class=\"dataframe\">\n",
       "  <thead>\n",
       "    <tr style=\"text-align: right;\">\n",
       "      <th></th>\n",
       "      <th>run_accession</th>\n",
       "      <th>sample_accession</th>\n",
       "      <th>study_accession</th>\n",
       "      <th>tax_id</th>\n",
       "      <th>scientific_name</th>\n",
       "      <th>instrument_model</th>\n",
       "      <th>library_strategy</th>\n",
       "      <th>read_count</th>\n",
       "      <th>genotype</th>\n",
       "      <th>sample_alias</th>\n",
       "      <th>fastq_ftp</th>\n",
       "      <th>fastq_md5</th>\n",
       "    </tr>\n",
       "  </thead>\n",
       "  <tbody>\n",
       "    <tr>\n",
       "      <th>0</th>\n",
       "      <td>SRR516201</td>\n",
       "      <td>SAMN01057777</td>\n",
       "      <td>PRJNA179160</td>\n",
       "      <td>4577</td>\n",
       "      <td>Zea mays</td>\n",
       "      <td>Illumina HiSeq 2000</td>\n",
       "      <td>RNA-Seq</td>\n",
       "      <td>28337804</td>\n",
       "      <td>M0001</td>\n",
       "      <td>Maize_IBM_RIL_Shoot_Apex_M0001</td>\n",
       "      <td>ftp.sra.ebi.ac.uk/vol1/fastq/SRR516/SRR516201/...</td>\n",
       "      <td>5b51e0dd31109b0c1e97a511ef3f0450</td>\n",
       "    </tr>\n",
       "    <tr>\n",
       "      <th>1</th>\n",
       "      <td>SRR516795</td>\n",
       "      <td>SAMN01057778</td>\n",
       "      <td>PRJNA179160</td>\n",
       "      <td>4577</td>\n",
       "      <td>Zea mays</td>\n",
       "      <td>Illumina HiSeq 2000</td>\n",
       "      <td>RNA-Seq</td>\n",
       "      <td>32660449</td>\n",
       "      <td>M0005</td>\n",
       "      <td>Maize_IBM_RIL_Shoot_Apex_M0005</td>\n",
       "      <td>ftp.sra.ebi.ac.uk/vol1/fastq/SRR516/SRR516795/...</td>\n",
       "      <td>7cc6577cee718b4905ef1c2496b88314</td>\n",
       "    </tr>\n",
       "    <tr>\n",
       "      <th>2</th>\n",
       "      <td>SRR516796</td>\n",
       "      <td>SAMN01083909</td>\n",
       "      <td>PRJNA179160</td>\n",
       "      <td>4577</td>\n",
       "      <td>Zea mays</td>\n",
       "      <td>Illumina HiSeq 2000</td>\n",
       "      <td>RNA-Seq</td>\n",
       "      <td>34673395</td>\n",
       "      <td>M0007</td>\n",
       "      <td>Maize_IBM_RIL_Shoot_Apex_M0007</td>\n",
       "      <td>ftp.sra.ebi.ac.uk/vol1/fastq/SRR516/SRR516796/...</td>\n",
       "      <td>c7fa8d8c20ab22ea8f7f382adc9fea5c</td>\n",
       "    </tr>\n",
       "    <tr>\n",
       "      <th>3</th>\n",
       "      <td>SRR516797</td>\n",
       "      <td>SAMN01083907</td>\n",
       "      <td>PRJNA179160</td>\n",
       "      <td>4577</td>\n",
       "      <td>Zea mays</td>\n",
       "      <td>Illumina HiSeq 2000</td>\n",
       "      <td>RNA-Seq</td>\n",
       "      <td>43740590</td>\n",
       "      <td>M0008</td>\n",
       "      <td>Maize_IBM_RIL_Shoot_Apex_M0008</td>\n",
       "      <td>ftp.sra.ebi.ac.uk/vol1/fastq/SRR516/SRR516797/...</td>\n",
       "      <td>3f2fcf01661faaed79e51accce47ef8b</td>\n",
       "    </tr>\n",
       "    <tr>\n",
       "      <th>4</th>\n",
       "      <td>SRR516798</td>\n",
       "      <td>SAMN01083910</td>\n",
       "      <td>PRJNA179160</td>\n",
       "      <td>4577</td>\n",
       "      <td>Zea mays</td>\n",
       "      <td>Illumina HiSeq 2000</td>\n",
       "      <td>RNA-Seq</td>\n",
       "      <td>31515426</td>\n",
       "      <td>M0010</td>\n",
       "      <td>Maize_IBM_RIL_Shoot_Apex_M0010</td>\n",
       "      <td>ftp.sra.ebi.ac.uk/vol1/fastq/SRR516/SRR516798/...</td>\n",
       "      <td>417b590b4a72807d20c3ad3158713515</td>\n",
       "    </tr>\n",
       "  </tbody>\n",
       "</table>\n",
       "</div>"
      ],
      "text/plain": [
       "  run_accession sample_accession study_accession  tax_id scientific_name  \\\n",
       "0     SRR516201     SAMN01057777     PRJNA179160    4577        Zea mays   \n",
       "1     SRR516795     SAMN01057778     PRJNA179160    4577        Zea mays   \n",
       "2     SRR516796     SAMN01083909     PRJNA179160    4577        Zea mays   \n",
       "3     SRR516797     SAMN01083907     PRJNA179160    4577        Zea mays   \n",
       "4     SRR516798     SAMN01083910     PRJNA179160    4577        Zea mays   \n",
       "\n",
       "      instrument_model library_strategy  read_count genotype  \\\n",
       "0  Illumina HiSeq 2000          RNA-Seq    28337804    M0001   \n",
       "1  Illumina HiSeq 2000          RNA-Seq    32660449    M0005   \n",
       "2  Illumina HiSeq 2000          RNA-Seq    34673395    M0007   \n",
       "3  Illumina HiSeq 2000          RNA-Seq    43740590    M0008   \n",
       "4  Illumina HiSeq 2000          RNA-Seq    31515426    M0010   \n",
       "\n",
       "                     sample_alias  \\\n",
       "0  Maize_IBM_RIL_Shoot_Apex_M0001   \n",
       "1  Maize_IBM_RIL_Shoot_Apex_M0005   \n",
       "2  Maize_IBM_RIL_Shoot_Apex_M0007   \n",
       "3  Maize_IBM_RIL_Shoot_Apex_M0008   \n",
       "4  Maize_IBM_RIL_Shoot_Apex_M0010   \n",
       "\n",
       "                                           fastq_ftp  \\\n",
       "0  ftp.sra.ebi.ac.uk/vol1/fastq/SRR516/SRR516201/...   \n",
       "1  ftp.sra.ebi.ac.uk/vol1/fastq/SRR516/SRR516795/...   \n",
       "2  ftp.sra.ebi.ac.uk/vol1/fastq/SRR516/SRR516796/...   \n",
       "3  ftp.sra.ebi.ac.uk/vol1/fastq/SRR516/SRR516797/...   \n",
       "4  ftp.sra.ebi.ac.uk/vol1/fastq/SRR516/SRR516798/...   \n",
       "\n",
       "                          fastq_md5  \n",
       "0  5b51e0dd31109b0c1e97a511ef3f0450  \n",
       "1  7cc6577cee718b4905ef1c2496b88314  \n",
       "2  c7fa8d8c20ab22ea8f7f382adc9fea5c  \n",
       "3  3f2fcf01661faaed79e51accce47ef8b  \n",
       "4  417b590b4a72807d20c3ad3158713515  "
      ]
     },
     "execution_count": 10,
     "metadata": {},
     "output_type": "execute_result"
    }
   ],
   "source": [
    "#annot = pd.read_csv(\"PRJNA383416_extracted_condition_genotype_selected.csv\")\n",
    "\n",
    "# IBM RNA-seq samples\n",
    "annot = pd.read_csv(\"PRJNA123456_edited.csv\")\n",
    "annot.rename(columns = {'run_alias':'genotype'}, inplace = True)\n",
    "\n",
    "annot.head()"
   ]
  },
  {
   "cell_type": "code",
   "execution_count": 13,
   "id": "78268313",
   "metadata": {},
   "outputs": [
    {
     "name": "stdout",
     "output_type": "stream",
     "text": [
      "Total genotypes: 107\n"
     ]
    },
    {
     "name": "stderr",
     "output_type": "stream",
     "text": [
      "pigz: skipping: ramdisk/geno_kmers is a directory\n"
     ]
    },
    {
     "name": "stdout",
     "output_type": "stream",
     "text": [
      "Genotypes remaining: 106\n"
     ]
    },
    {
     "name": "stderr",
     "output_type": "stream",
     "text": [
      "pigz: skipping: ramdisk/geno_kmers is a directory\n"
     ]
    },
    {
     "name": "stdout",
     "output_type": "stream",
     "text": [
      "Genotypes remaining: 105\n"
     ]
    },
    {
     "name": "stderr",
     "output_type": "stream",
     "text": [
      "pigz: skipping: ramdisk/geno_kmers is a directory\n"
     ]
    },
    {
     "name": "stdout",
     "output_type": "stream",
     "text": [
      "Genotypes remaining: 104\n"
     ]
    },
    {
     "name": "stderr",
     "output_type": "stream",
     "text": [
      "pigz: skipping: ramdisk/geno_kmers is a directory\n"
     ]
    },
    {
     "name": "stdout",
     "output_type": "stream",
     "text": [
      "Genotypes remaining: 103\n"
     ]
    },
    {
     "name": "stderr",
     "output_type": "stream",
     "text": [
      "pigz: skipping: ramdisk/geno_kmers is a directory\n"
     ]
    },
    {
     "name": "stdout",
     "output_type": "stream",
     "text": [
      "Genotypes remaining: 102\n"
     ]
    },
    {
     "name": "stderr",
     "output_type": "stream",
     "text": [
      "pigz: skipping: ramdisk/geno_kmers is a directory\n"
     ]
    },
    {
     "name": "stdout",
     "output_type": "stream",
     "text": [
      "Genotypes remaining: 101\n"
     ]
    },
    {
     "name": "stderr",
     "output_type": "stream",
     "text": [
      "pigz: skipping: ramdisk/geno_kmers is a directory\n"
     ]
    },
    {
     "name": "stdout",
     "output_type": "stream",
     "text": [
      "Genotypes remaining: 100\n"
     ]
    },
    {
     "name": "stderr",
     "output_type": "stream",
     "text": [
      "pigz: skipping: ramdisk/geno_kmers is a directory\n"
     ]
    },
    {
     "name": "stdout",
     "output_type": "stream",
     "text": [
      "Genotypes remaining: 99\n"
     ]
    },
    {
     "name": "stderr",
     "output_type": "stream",
     "text": [
      "pigz: skipping: ramdisk/geno_kmers is a directory\n"
     ]
    },
    {
     "name": "stdout",
     "output_type": "stream",
     "text": [
      "Genotypes remaining: 98\n"
     ]
    },
    {
     "name": "stderr",
     "output_type": "stream",
     "text": [
      "pigz: skipping: ramdisk/geno_kmers is a directory\n"
     ]
    },
    {
     "name": "stdout",
     "output_type": "stream",
     "text": [
      "Genotypes remaining: 97\n"
     ]
    },
    {
     "name": "stderr",
     "output_type": "stream",
     "text": [
      "pigz: skipping: ramdisk/geno_kmers is a directory\n"
     ]
    },
    {
     "name": "stdout",
     "output_type": "stream",
     "text": [
      "Genotypes remaining: 96\n"
     ]
    },
    {
     "name": "stderr",
     "output_type": "stream",
     "text": [
      "pigz: skipping: ramdisk/geno_kmers is a directory\n"
     ]
    },
    {
     "name": "stdout",
     "output_type": "stream",
     "text": [
      "Genotypes remaining: 95\n"
     ]
    },
    {
     "name": "stderr",
     "output_type": "stream",
     "text": [
      "pigz: skipping: ramdisk/geno_kmers is a directory\n"
     ]
    },
    {
     "name": "stdout",
     "output_type": "stream",
     "text": [
      "Genotypes remaining: 94\n"
     ]
    },
    {
     "name": "stderr",
     "output_type": "stream",
     "text": [
      "pigz: skipping: ramdisk/geno_kmers is a directory\n"
     ]
    },
    {
     "name": "stdout",
     "output_type": "stream",
     "text": [
      "Genotypes remaining: 93\n"
     ]
    },
    {
     "name": "stderr",
     "output_type": "stream",
     "text": [
      "pigz: skipping: ramdisk/geno_kmers is a directory\n"
     ]
    },
    {
     "name": "stdout",
     "output_type": "stream",
     "text": [
      "Genotypes remaining: 92\n"
     ]
    },
    {
     "name": "stderr",
     "output_type": "stream",
     "text": [
      "pigz: skipping: ramdisk/geno_kmers is a directory\n"
     ]
    },
    {
     "name": "stdout",
     "output_type": "stream",
     "text": [
      "Genotypes remaining: 91\n"
     ]
    },
    {
     "name": "stderr",
     "output_type": "stream",
     "text": [
      "pigz: skipping: ramdisk/geno_kmers is a directory\n"
     ]
    },
    {
     "name": "stdout",
     "output_type": "stream",
     "text": [
      "Genotypes remaining: 90\n"
     ]
    },
    {
     "name": "stderr",
     "output_type": "stream",
     "text": [
      "pigz: skipping: ramdisk/geno_kmers is a directory\n"
     ]
    },
    {
     "name": "stdout",
     "output_type": "stream",
     "text": [
      "Genotypes remaining: 89\n"
     ]
    },
    {
     "name": "stderr",
     "output_type": "stream",
     "text": [
      "pigz: skipping: ramdisk/geno_kmers is a directory\n"
     ]
    },
    {
     "name": "stdout",
     "output_type": "stream",
     "text": [
      "Genotypes remaining: 88\n"
     ]
    },
    {
     "name": "stderr",
     "output_type": "stream",
     "text": [
      "pigz: skipping: ramdisk/geno_kmers is a directory\n"
     ]
    },
    {
     "name": "stdout",
     "output_type": "stream",
     "text": [
      "Genotypes remaining: 87\n"
     ]
    },
    {
     "name": "stderr",
     "output_type": "stream",
     "text": [
      "pigz: skipping: ramdisk/geno_kmers is a directory\n"
     ]
    },
    {
     "name": "stdout",
     "output_type": "stream",
     "text": [
      "Genotypes remaining: 86\n"
     ]
    },
    {
     "name": "stderr",
     "output_type": "stream",
     "text": [
      "pigz: skipping: ramdisk/geno_kmers is a directory\n"
     ]
    },
    {
     "name": "stdout",
     "output_type": "stream",
     "text": [
      "Genotypes remaining: 85\n"
     ]
    },
    {
     "name": "stderr",
     "output_type": "stream",
     "text": [
      "pigz: skipping: ramdisk/geno_kmers is a directory\n"
     ]
    },
    {
     "name": "stdout",
     "output_type": "stream",
     "text": [
      "Genotypes remaining: 84\n"
     ]
    },
    {
     "name": "stderr",
     "output_type": "stream",
     "text": [
      "pigz: skipping: ramdisk/geno_kmers is a directory\n"
     ]
    },
    {
     "name": "stdout",
     "output_type": "stream",
     "text": [
      "Genotypes remaining: 83\n"
     ]
    },
    {
     "name": "stderr",
     "output_type": "stream",
     "text": [
      "pigz: skipping: ramdisk/geno_kmers is a directory\n"
     ]
    },
    {
     "name": "stdout",
     "output_type": "stream",
     "text": [
      "Genotypes remaining: 82\n"
     ]
    },
    {
     "name": "stderr",
     "output_type": "stream",
     "text": [
      "pigz: skipping: ramdisk/geno_kmers is a directory\n"
     ]
    },
    {
     "name": "stdout",
     "output_type": "stream",
     "text": [
      "Genotypes remaining: 81\n"
     ]
    },
    {
     "name": "stderr",
     "output_type": "stream",
     "text": [
      "pigz: skipping: ramdisk/geno_kmers is a directory\n"
     ]
    },
    {
     "name": "stdout",
     "output_type": "stream",
     "text": [
      "Genotypes remaining: 80\n"
     ]
    },
    {
     "name": "stderr",
     "output_type": "stream",
     "text": [
      "pigz: skipping: ramdisk/geno_kmers is a directory\n"
     ]
    },
    {
     "name": "stdout",
     "output_type": "stream",
     "text": [
      "Genotypes remaining: 79\n"
     ]
    },
    {
     "name": "stderr",
     "output_type": "stream",
     "text": [
      "pigz: skipping: ramdisk/geno_kmers is a directory\n"
     ]
    },
    {
     "name": "stdout",
     "output_type": "stream",
     "text": [
      "Genotypes remaining: 78\n"
     ]
    },
    {
     "name": "stderr",
     "output_type": "stream",
     "text": [
      "pigz: skipping: ramdisk/geno_kmers is a directory\n"
     ]
    },
    {
     "name": "stdout",
     "output_type": "stream",
     "text": [
      "Genotypes remaining: 77\n"
     ]
    },
    {
     "name": "stderr",
     "output_type": "stream",
     "text": [
      "pigz: skipping: ramdisk/geno_kmers is a directory\n"
     ]
    },
    {
     "name": "stdout",
     "output_type": "stream",
     "text": [
      "Genotypes remaining: 76\n"
     ]
    },
    {
     "name": "stderr",
     "output_type": "stream",
     "text": [
      "pigz: skipping: ramdisk/geno_kmers is a directory\n"
     ]
    },
    {
     "name": "stdout",
     "output_type": "stream",
     "text": [
      "Genotypes remaining: 75\n"
     ]
    },
    {
     "name": "stderr",
     "output_type": "stream",
     "text": [
      "pigz: skipping: ramdisk/geno_kmers is a directory\n"
     ]
    },
    {
     "name": "stdout",
     "output_type": "stream",
     "text": [
      "Genotypes remaining: 74\n"
     ]
    },
    {
     "name": "stderr",
     "output_type": "stream",
     "text": [
      "pigz: skipping: ramdisk/geno_kmers is a directory\n"
     ]
    },
    {
     "name": "stdout",
     "output_type": "stream",
     "text": [
      "Genotypes remaining: 73\n"
     ]
    },
    {
     "name": "stderr",
     "output_type": "stream",
     "text": [
      "pigz: skipping: ramdisk/geno_kmers is a directory\n"
     ]
    },
    {
     "name": "stdout",
     "output_type": "stream",
     "text": [
      "Genotypes remaining: 72\n"
     ]
    },
    {
     "name": "stderr",
     "output_type": "stream",
     "text": [
      "pigz: skipping: ramdisk/geno_kmers is a directory\n"
     ]
    },
    {
     "name": "stdout",
     "output_type": "stream",
     "text": [
      "Genotypes remaining: 71\n"
     ]
    },
    {
     "name": "stderr",
     "output_type": "stream",
     "text": [
      "pigz: skipping: ramdisk/geno_kmers is a directory\n"
     ]
    },
    {
     "name": "stdout",
     "output_type": "stream",
     "text": [
      "Genotypes remaining: 70\n"
     ]
    },
    {
     "name": "stderr",
     "output_type": "stream",
     "text": [
      "pigz: skipping: ramdisk/geno_kmers is a directory\n"
     ]
    },
    {
     "name": "stdout",
     "output_type": "stream",
     "text": [
      "Genotypes remaining: 69\n"
     ]
    },
    {
     "name": "stderr",
     "output_type": "stream",
     "text": [
      "pigz: skipping: ramdisk/geno_kmers is a directory\n"
     ]
    },
    {
     "name": "stdout",
     "output_type": "stream",
     "text": [
      "Genotypes remaining: 68\n"
     ]
    },
    {
     "name": "stderr",
     "output_type": "stream",
     "text": [
      "pigz: skipping: ramdisk/geno_kmers is a directory\n"
     ]
    },
    {
     "name": "stdout",
     "output_type": "stream",
     "text": [
      "Genotypes remaining: 67\n"
     ]
    },
    {
     "name": "stderr",
     "output_type": "stream",
     "text": [
      "pigz: skipping: ramdisk/geno_kmers is a directory\n"
     ]
    },
    {
     "name": "stdout",
     "output_type": "stream",
     "text": [
      "Genotypes remaining: 66\n"
     ]
    },
    {
     "name": "stderr",
     "output_type": "stream",
     "text": [
      "pigz: skipping: ramdisk/geno_kmers is a directory\n"
     ]
    },
    {
     "name": "stdout",
     "output_type": "stream",
     "text": [
      "Genotypes remaining: 65\n"
     ]
    },
    {
     "name": "stderr",
     "output_type": "stream",
     "text": [
      "pigz: skipping: ramdisk/geno_kmers is a directory\n"
     ]
    },
    {
     "name": "stdout",
     "output_type": "stream",
     "text": [
      "Genotypes remaining: 64\n"
     ]
    },
    {
     "name": "stderr",
     "output_type": "stream",
     "text": [
      "pigz: skipping: ramdisk/geno_kmers is a directory\n"
     ]
    },
    {
     "name": "stdout",
     "output_type": "stream",
     "text": [
      "Genotypes remaining: 63\n"
     ]
    },
    {
     "name": "stderr",
     "output_type": "stream",
     "text": [
      "pigz: skipping: ramdisk/geno_kmers is a directory\n"
     ]
    },
    {
     "name": "stdout",
     "output_type": "stream",
     "text": [
      "Genotypes remaining: 62\n"
     ]
    },
    {
     "name": "stderr",
     "output_type": "stream",
     "text": [
      "pigz: skipping: ramdisk/geno_kmers is a directory\n"
     ]
    },
    {
     "name": "stdout",
     "output_type": "stream",
     "text": [
      "Genotypes remaining: 61\n"
     ]
    },
    {
     "name": "stderr",
     "output_type": "stream",
     "text": [
      "pigz: skipping: ramdisk/geno_kmers is a directory\n"
     ]
    },
    {
     "name": "stdout",
     "output_type": "stream",
     "text": [
      "Genotypes remaining: 60\n"
     ]
    },
    {
     "name": "stderr",
     "output_type": "stream",
     "text": [
      "pigz: skipping: ramdisk/geno_kmers is a directory\n"
     ]
    },
    {
     "name": "stdout",
     "output_type": "stream",
     "text": [
      "Genotypes remaining: 59\n"
     ]
    },
    {
     "name": "stderr",
     "output_type": "stream",
     "text": [
      "pigz: skipping: ramdisk/geno_kmers is a directory\n"
     ]
    },
    {
     "name": "stdout",
     "output_type": "stream",
     "text": [
      "Genotypes remaining: 58\n"
     ]
    },
    {
     "name": "stderr",
     "output_type": "stream",
     "text": [
      "pigz: skipping: ramdisk/geno_kmers is a directory\n"
     ]
    },
    {
     "name": "stdout",
     "output_type": "stream",
     "text": [
      "Genotypes remaining: 57\n"
     ]
    },
    {
     "name": "stderr",
     "output_type": "stream",
     "text": [
      "pigz: skipping: ramdisk/geno_kmers is a directory\n"
     ]
    },
    {
     "name": "stdout",
     "output_type": "stream",
     "text": [
      "Genotypes remaining: 56\n"
     ]
    },
    {
     "name": "stderr",
     "output_type": "stream",
     "text": [
      "pigz: skipping: ramdisk/geno_kmers is a directory\n"
     ]
    },
    {
     "name": "stdout",
     "output_type": "stream",
     "text": [
      "Genotypes remaining: 55\n"
     ]
    },
    {
     "name": "stderr",
     "output_type": "stream",
     "text": [
      "pigz: skipping: ramdisk/geno_kmers is a directory\n"
     ]
    },
    {
     "name": "stdout",
     "output_type": "stream",
     "text": [
      "Genotypes remaining: 54\n"
     ]
    },
    {
     "name": "stderr",
     "output_type": "stream",
     "text": [
      "pigz: skipping: ramdisk/geno_kmers is a directory\n"
     ]
    },
    {
     "name": "stdout",
     "output_type": "stream",
     "text": [
      "Genotypes remaining: 53\n"
     ]
    },
    {
     "name": "stderr",
     "output_type": "stream",
     "text": [
      "pigz: skipping: ramdisk/geno_kmers is a directory\n"
     ]
    },
    {
     "name": "stdout",
     "output_type": "stream",
     "text": [
      "Genotypes remaining: 52\n"
     ]
    },
    {
     "name": "stderr",
     "output_type": "stream",
     "text": [
      "pigz: skipping: ramdisk/geno_kmers is a directory\n"
     ]
    },
    {
     "name": "stdout",
     "output_type": "stream",
     "text": [
      "Genotypes remaining: 51\n"
     ]
    },
    {
     "name": "stderr",
     "output_type": "stream",
     "text": [
      "pigz: skipping: ramdisk/geno_kmers is a directory\n"
     ]
    },
    {
     "name": "stdout",
     "output_type": "stream",
     "text": [
      "Genotypes remaining: 50\n"
     ]
    },
    {
     "name": "stderr",
     "output_type": "stream",
     "text": [
      "pigz: skipping: ramdisk/geno_kmers is a directory\n"
     ]
    },
    {
     "name": "stdout",
     "output_type": "stream",
     "text": [
      "Genotypes remaining: 49\n"
     ]
    },
    {
     "name": "stderr",
     "output_type": "stream",
     "text": [
      "pigz: skipping: ramdisk/geno_kmers is a directory\n"
     ]
    },
    {
     "name": "stdout",
     "output_type": "stream",
     "text": [
      "Genotypes remaining: 48\n"
     ]
    },
    {
     "name": "stderr",
     "output_type": "stream",
     "text": [
      "pigz: skipping: ramdisk/geno_kmers is a directory\n"
     ]
    },
    {
     "name": "stdout",
     "output_type": "stream",
     "text": [
      "Genotypes remaining: 47\n"
     ]
    },
    {
     "name": "stderr",
     "output_type": "stream",
     "text": [
      "pigz: skipping: ramdisk/geno_kmers is a directory\n"
     ]
    },
    {
     "name": "stdout",
     "output_type": "stream",
     "text": [
      "Genotypes remaining: 46\n"
     ]
    },
    {
     "name": "stderr",
     "output_type": "stream",
     "text": [
      "pigz: skipping: ramdisk/geno_kmers is a directory\n"
     ]
    },
    {
     "name": "stdout",
     "output_type": "stream",
     "text": [
      "Genotypes remaining: 45\n"
     ]
    },
    {
     "name": "stderr",
     "output_type": "stream",
     "text": [
      "pigz: skipping: ramdisk/geno_kmers is a directory\n"
     ]
    },
    {
     "name": "stdout",
     "output_type": "stream",
     "text": [
      "Genotypes remaining: 44\n"
     ]
    },
    {
     "name": "stderr",
     "output_type": "stream",
     "text": [
      "pigz: skipping: ramdisk/geno_kmers is a directory\n"
     ]
    },
    {
     "name": "stdout",
     "output_type": "stream",
     "text": [
      "Genotypes remaining: 43\n"
     ]
    },
    {
     "name": "stderr",
     "output_type": "stream",
     "text": [
      "pigz: skipping: ramdisk/geno_kmers is a directory\n"
     ]
    },
    {
     "name": "stdout",
     "output_type": "stream",
     "text": [
      "Genotypes remaining: 42\n"
     ]
    },
    {
     "name": "stderr",
     "output_type": "stream",
     "text": [
      "pigz: skipping: ramdisk/geno_kmers is a directory\n"
     ]
    },
    {
     "name": "stdout",
     "output_type": "stream",
     "text": [
      "Genotypes remaining: 41\n"
     ]
    },
    {
     "name": "stderr",
     "output_type": "stream",
     "text": [
      "pigz: skipping: ramdisk/geno_kmers is a directory\n"
     ]
    },
    {
     "name": "stdout",
     "output_type": "stream",
     "text": [
      "Genotypes remaining: 40\n"
     ]
    },
    {
     "name": "stderr",
     "output_type": "stream",
     "text": [
      "pigz: skipping: ramdisk/geno_kmers is a directory\n"
     ]
    },
    {
     "name": "stdout",
     "output_type": "stream",
     "text": [
      "Genotypes remaining: 39\n"
     ]
    },
    {
     "name": "stderr",
     "output_type": "stream",
     "text": [
      "pigz: skipping: ramdisk/geno_kmers is a directory\n"
     ]
    },
    {
     "name": "stdout",
     "output_type": "stream",
     "text": [
      "Genotypes remaining: 38\n"
     ]
    },
    {
     "name": "stderr",
     "output_type": "stream",
     "text": [
      "pigz: skipping: ramdisk/geno_kmers is a directory\n"
     ]
    },
    {
     "name": "stdout",
     "output_type": "stream",
     "text": [
      "Genotypes remaining: 37\n"
     ]
    },
    {
     "name": "stderr",
     "output_type": "stream",
     "text": [
      "pigz: skipping: ramdisk/geno_kmers is a directory\n"
     ]
    },
    {
     "name": "stdout",
     "output_type": "stream",
     "text": [
      "Genotypes remaining: 36\n"
     ]
    },
    {
     "name": "stderr",
     "output_type": "stream",
     "text": [
      "pigz: skipping: ramdisk/geno_kmers is a directory\n"
     ]
    },
    {
     "name": "stdout",
     "output_type": "stream",
     "text": [
      "Genotypes remaining: 35\n"
     ]
    },
    {
     "name": "stderr",
     "output_type": "stream",
     "text": [
      "pigz: skipping: ramdisk/geno_kmers is a directory\n"
     ]
    },
    {
     "name": "stdout",
     "output_type": "stream",
     "text": [
      "Genotypes remaining: 34\n"
     ]
    },
    {
     "name": "stderr",
     "output_type": "stream",
     "text": [
      "pigz: skipping: ramdisk/geno_kmers is a directory\n"
     ]
    },
    {
     "name": "stdout",
     "output_type": "stream",
     "text": [
      "Genotypes remaining: 33\n"
     ]
    },
    {
     "name": "stderr",
     "output_type": "stream",
     "text": [
      "pigz: skipping: ramdisk/geno_kmers is a directory\n"
     ]
    },
    {
     "name": "stdout",
     "output_type": "stream",
     "text": [
      "Genotypes remaining: 32\n"
     ]
    },
    {
     "name": "stderr",
     "output_type": "stream",
     "text": [
      "pigz: skipping: ramdisk/geno_kmers is a directory\n"
     ]
    },
    {
     "name": "stdout",
     "output_type": "stream",
     "text": [
      "Genotypes remaining: 31\n"
     ]
    },
    {
     "name": "stderr",
     "output_type": "stream",
     "text": [
      "pigz: skipping: ramdisk/geno_kmers is a directory\n"
     ]
    },
    {
     "name": "stdout",
     "output_type": "stream",
     "text": [
      "Genotypes remaining: 30\n"
     ]
    },
    {
     "name": "stderr",
     "output_type": "stream",
     "text": [
      "pigz: skipping: ramdisk/geno_kmers is a directory\n"
     ]
    },
    {
     "name": "stdout",
     "output_type": "stream",
     "text": [
      "Genotypes remaining: 29\n"
     ]
    },
    {
     "name": "stderr",
     "output_type": "stream",
     "text": [
      "pigz: skipping: ramdisk/geno_kmers is a directory\n"
     ]
    },
    {
     "name": "stdout",
     "output_type": "stream",
     "text": [
      "Genotypes remaining: 28\n"
     ]
    },
    {
     "name": "stderr",
     "output_type": "stream",
     "text": [
      "pigz: skipping: ramdisk/geno_kmers is a directory\n"
     ]
    },
    {
     "name": "stdout",
     "output_type": "stream",
     "text": [
      "Genotypes remaining: 27\n"
     ]
    },
    {
     "name": "stderr",
     "output_type": "stream",
     "text": [
      "pigz: skipping: ramdisk/geno_kmers is a directory\n"
     ]
    },
    {
     "name": "stdout",
     "output_type": "stream",
     "text": [
      "Genotypes remaining: 26\n"
     ]
    },
    {
     "name": "stderr",
     "output_type": "stream",
     "text": [
      "pigz: skipping: ramdisk/geno_kmers is a directory\n"
     ]
    },
    {
     "name": "stdout",
     "output_type": "stream",
     "text": [
      "Genotypes remaining: 25\n"
     ]
    },
    {
     "name": "stderr",
     "output_type": "stream",
     "text": [
      "pigz: skipping: ramdisk/geno_kmers is a directory\n"
     ]
    },
    {
     "name": "stdout",
     "output_type": "stream",
     "text": [
      "Genotypes remaining: 24\n"
     ]
    },
    {
     "name": "stderr",
     "output_type": "stream",
     "text": [
      "pigz: skipping: ramdisk/geno_kmers is a directory\n"
     ]
    },
    {
     "name": "stdout",
     "output_type": "stream",
     "text": [
      "Genotypes remaining: 23\n"
     ]
    },
    {
     "name": "stderr",
     "output_type": "stream",
     "text": [
      "pigz: skipping: ramdisk/geno_kmers is a directory\n"
     ]
    },
    {
     "name": "stdout",
     "output_type": "stream",
     "text": [
      "Genotypes remaining: 22\n"
     ]
    },
    {
     "name": "stderr",
     "output_type": "stream",
     "text": [
      "pigz: skipping: ramdisk/geno_kmers is a directory\n"
     ]
    },
    {
     "name": "stdout",
     "output_type": "stream",
     "text": [
      "Genotypes remaining: 21\n"
     ]
    },
    {
     "name": "stderr",
     "output_type": "stream",
     "text": [
      "pigz: skipping: ramdisk/geno_kmers is a directory\n"
     ]
    },
    {
     "name": "stdout",
     "output_type": "stream",
     "text": [
      "Genotypes remaining: 20\n"
     ]
    },
    {
     "name": "stderr",
     "output_type": "stream",
     "text": [
      "pigz: skipping: ramdisk/geno_kmers is a directory\n"
     ]
    },
    {
     "name": "stdout",
     "output_type": "stream",
     "text": [
      "Genotypes remaining: 19\n"
     ]
    },
    {
     "name": "stderr",
     "output_type": "stream",
     "text": [
      "pigz: skipping: ramdisk/geno_kmers is a directory\n"
     ]
    },
    {
     "name": "stdout",
     "output_type": "stream",
     "text": [
      "Genotypes remaining: 18\n"
     ]
    },
    {
     "name": "stderr",
     "output_type": "stream",
     "text": [
      "pigz: skipping: ramdisk/geno_kmers is a directory\n"
     ]
    },
    {
     "name": "stdout",
     "output_type": "stream",
     "text": [
      "Genotypes remaining: 17\n"
     ]
    },
    {
     "name": "stderr",
     "output_type": "stream",
     "text": [
      "pigz: skipping: ramdisk/geno_kmers is a directory\n"
     ]
    },
    {
     "name": "stdout",
     "output_type": "stream",
     "text": [
      "Genotypes remaining: 16\n"
     ]
    },
    {
     "name": "stderr",
     "output_type": "stream",
     "text": [
      "pigz: skipping: ramdisk/geno_kmers is a directory\n"
     ]
    },
    {
     "name": "stdout",
     "output_type": "stream",
     "text": [
      "Genotypes remaining: 15\n"
     ]
    },
    {
     "name": "stderr",
     "output_type": "stream",
     "text": [
      "pigz: skipping: ramdisk/geno_kmers is a directory\n"
     ]
    },
    {
     "name": "stdout",
     "output_type": "stream",
     "text": [
      "Genotypes remaining: 14\n"
     ]
    },
    {
     "name": "stderr",
     "output_type": "stream",
     "text": [
      "pigz: skipping: ramdisk/geno_kmers is a directory\n"
     ]
    },
    {
     "name": "stdout",
     "output_type": "stream",
     "text": [
      "Genotypes remaining: 13\n"
     ]
    },
    {
     "name": "stderr",
     "output_type": "stream",
     "text": [
      "pigz: skipping: ramdisk/geno_kmers is a directory\n"
     ]
    },
    {
     "name": "stdout",
     "output_type": "stream",
     "text": [
      "Genotypes remaining: 12\n"
     ]
    },
    {
     "name": "stderr",
     "output_type": "stream",
     "text": [
      "pigz: skipping: ramdisk/geno_kmers is a directory\n"
     ]
    },
    {
     "name": "stdout",
     "output_type": "stream",
     "text": [
      "Genotypes remaining: 11\n"
     ]
    },
    {
     "name": "stderr",
     "output_type": "stream",
     "text": [
      "pigz: skipping: ramdisk/geno_kmers is a directory\n"
     ]
    },
    {
     "name": "stdout",
     "output_type": "stream",
     "text": [
      "Genotypes remaining: 10\n"
     ]
    },
    {
     "name": "stderr",
     "output_type": "stream",
     "text": [
      "pigz: skipping: ramdisk/geno_kmers is a directory\n"
     ]
    },
    {
     "name": "stdout",
     "output_type": "stream",
     "text": [
      "Genotypes remaining: 9\n"
     ]
    },
    {
     "name": "stderr",
     "output_type": "stream",
     "text": [
      "pigz: skipping: ramdisk/geno_kmers is a directory\n"
     ]
    },
    {
     "name": "stdout",
     "output_type": "stream",
     "text": [
      "Genotypes remaining: 8\n"
     ]
    },
    {
     "name": "stderr",
     "output_type": "stream",
     "text": [
      "pigz: skipping: ramdisk/geno_kmers is a directory\n"
     ]
    },
    {
     "name": "stdout",
     "output_type": "stream",
     "text": [
      "Genotypes remaining: 7\n"
     ]
    },
    {
     "name": "stderr",
     "output_type": "stream",
     "text": [
      "pigz: skipping: ramdisk/geno_kmers is a directory\n"
     ]
    },
    {
     "name": "stdout",
     "output_type": "stream",
     "text": [
      "Genotypes remaining: 6\n"
     ]
    },
    {
     "name": "stderr",
     "output_type": "stream",
     "text": [
      "pigz: skipping: ramdisk/geno_kmers is a directory\n"
     ]
    },
    {
     "name": "stdout",
     "output_type": "stream",
     "text": [
      "Genotypes remaining: 5\n"
     ]
    },
    {
     "name": "stderr",
     "output_type": "stream",
     "text": [
      "pigz: skipping: ramdisk/geno_kmers is a directory\n"
     ]
    },
    {
     "name": "stdout",
     "output_type": "stream",
     "text": [
      "Genotypes remaining: 4\n"
     ]
    },
    {
     "name": "stderr",
     "output_type": "stream",
     "text": [
      "pigz: skipping: ramdisk/geno_kmers is a directory\n"
     ]
    },
    {
     "name": "stdout",
     "output_type": "stream",
     "text": [
      "Genotypes remaining: 3\n"
     ]
    },
    {
     "name": "stderr",
     "output_type": "stream",
     "text": [
      "pigz: skipping: ramdisk/geno_kmers is a directory\n"
     ]
    },
    {
     "name": "stdout",
     "output_type": "stream",
     "text": [
      "Genotypes remaining: 2\n"
     ]
    },
    {
     "name": "stderr",
     "output_type": "stream",
     "text": [
      "pigz: skipping: ramdisk/geno_kmers is a directory\n"
     ]
    },
    {
     "name": "stdout",
     "output_type": "stream",
     "text": [
      "Genotypes remaining: 1\n",
      "Genotypes remaining: 0\n"
     ]
    },
    {
     "name": "stderr",
     "output_type": "stream",
     "text": [
      "pigz: skipping: ramdisk/geno_kmers is a directory\n"
     ]
    }
   ],
   "source": [
    "try:\n",
    "    os.mkdir(\"ramdisk/geno_kmers\")\n",
    "except:\n",
    "    None\n",
    "\n",
    "genotypes = set(annot[\"genotype\"].values)\n",
    "genotype_counter = len(genotypes)\n",
    "print(\"Total genotypes:\", genotype_counter)\n",
    "for geno in genotypes:\n",
    "    acc = annot[annot[\"genotype\"] == geno][\"run_accession\"].values.tolist()\n",
    "    if len(acc)==1:\n",
    "        os.system('cp kmc/{0}.kmc_suf.gz ramdisk/'.format(acc[0]))\n",
    "        os.system('cp kmc/{0}.kmc_pre.gz ramdisk/'.format(acc[0]))\n",
    "        os.system('pigz --decompress ramdisk/*')\n",
    "        os.system('mv ramdisk/{0}.kmc_suf ramdisk/geno_kmers/{1}.kmc_suf'.format(acc[0], geno))\n",
    "        os.system('mv ramdisk/{0}.kmc_pre ramdisk/geno_kmers/{1}.kmc_pre'.format(acc[0], geno))\n",
    "    if len(acc)>=2:\n",
    "        fl1, fl2 = acc[0], acc[1]\n",
    "        os.system('cp kmc/{0}.kmc_suf.gz ramdisk/'.format(fl1))\n",
    "        os.system('cp kmc/{0}.kmc_pre.gz ramdisk/'.format(fl1))\n",
    "        os.system('cp kmc/{0}.kmc_suf.gz ramdisk/'.format(fl2))\n",
    "        os.system('cp kmc/{0}.kmc_pre.gz ramdisk/'.format(fl2))\n",
    "        os.system('pigz --decompress ramdisk/*')\n",
    "        os.system('kmc_tools simple ramdisk/{0} ramdisk/{1} union ramdisk/kmer_union0'.format(fl1, fl2))\n",
    "        os.system('rm {0}/{1}.kmc_suf {0}/{1}.kmc_pre {0}/{2}.kmc_suf {0}/{2}.kmc_pre'.format(\"ramdisk\", fl1, fl2))\n",
    "    if len(acc)==2:\n",
    "        os.system('mv ramdisk/kmer_union0.kmc_suf ramdisk/geno_kmers/{0}.kmc_suf'.format(geno))\n",
    "        os.system('mv ramdisk/kmer_union0.kmc_pre ramdisk/geno_kmers/{0}.kmc_pre'.format(geno))\n",
    "    if len(acc)>2:\n",
    "        acc = acc[2:]\n",
    "        # kmc_tools can't overwrite a file so have to iterate back and \n",
    "        # forth with the output file to union merge multiple kmer files\n",
    "        # This also seems to be an easier solution than the internal 'complex'\n",
    "        count = 1\n",
    "        for fl in acc:\n",
    "            os.system('cp kmc/{0}.kmc_suf.gz ramdisk/'.format(fl))\n",
    "            os.system('cp kmc/{0}.kmc_pre.gz ramdisk/'.format(fl))\n",
    "            os.system('pigz --decompress ramdisk/*')\n",
    "            prv, nxt = str((count-1)%2), str(count%2)\n",
    "            os.system('kmc_tools simple ramdisk/kmer_union{0} ramdisk/{1} union ramdisk/kmer_union{2}'.format(prv, fl, nxt))\n",
    "            os.system('rm {0}/{1}.kmc_suf {0}/{1}.kmc_pre {0}/kmer_union{2}.kmc_suf {0}/kmer_union{2}.kmc_pre'.format(\"ramdisk\", fl, prv))\n",
    "            count+=1\n",
    "        # Done union merge of group kmers. Read table \n",
    "        os.system('mv ramdisk/kmer_union{0}.kmc_suf ramdisk/geno_kmers/{1}.kmc_suf'.format(nxt, geno))\n",
    "        os.system('mv ramdisk/kmer_union{0}.kmc_pre ramdisk/geno_kmers/{1}.kmc_pre'.format(nxt, geno))\n",
    "    genotype_counter = genotype_counter - 1\n",
    "    print(\"Genotypes remaining:\", genotype_counter)\n"
   ]
  },
  {
   "cell_type": "markdown",
   "id": "aa3699b3",
   "metadata": {},
   "source": [
    "# Get the combined kmer file for all genotypes "
   ]
  },
  {
   "cell_type": "code",
   "execution_count": 14,
   "id": "eb961fa1",
   "metadata": {},
   "outputs": [
    {
     "name": "stdout",
     "output_type": "stream",
     "text": [
      "Total genotypes: 107\n"
     ]
    },
    {
     "name": "stderr",
     "output_type": "stream",
     "text": [
      "in1: 100% in2: 100% \n"
     ]
    },
    {
     "name": "stdout",
     "output_type": "stream",
     "text": [
      "Total genotypes: 105\n"
     ]
    },
    {
     "name": "stderr",
     "output_type": "stream",
     "text": [
      "in1: 100% in2: 100% \n"
     ]
    },
    {
     "name": "stdout",
     "output_type": "stream",
     "text": [
      "Genotypes remaining: 104\n"
     ]
    },
    {
     "name": "stderr",
     "output_type": "stream",
     "text": [
      "in1: 100% in2: 100% \n"
     ]
    },
    {
     "name": "stdout",
     "output_type": "stream",
     "text": [
      "Genotypes remaining: 103\n"
     ]
    },
    {
     "name": "stderr",
     "output_type": "stream",
     "text": [
      "in1: 100% in2: 100% \n"
     ]
    },
    {
     "name": "stdout",
     "output_type": "stream",
     "text": [
      "Genotypes remaining: 102\n"
     ]
    },
    {
     "name": "stderr",
     "output_type": "stream",
     "text": [
      "in1: 100% in2: 100% \n"
     ]
    },
    {
     "name": "stdout",
     "output_type": "stream",
     "text": [
      "Genotypes remaining: 101\n"
     ]
    },
    {
     "name": "stderr",
     "output_type": "stream",
     "text": [
      "in1: 100% in2: 100% \n"
     ]
    },
    {
     "name": "stdout",
     "output_type": "stream",
     "text": [
      "Genotypes remaining: 100\n"
     ]
    },
    {
     "name": "stderr",
     "output_type": "stream",
     "text": [
      "in1: 100% in2: 100% \n"
     ]
    },
    {
     "name": "stdout",
     "output_type": "stream",
     "text": [
      "Genotypes remaining: 99\n"
     ]
    },
    {
     "name": "stderr",
     "output_type": "stream",
     "text": [
      "in1: 100% in2: 100% \n"
     ]
    },
    {
     "name": "stdout",
     "output_type": "stream",
     "text": [
      "Genotypes remaining: 98\n"
     ]
    },
    {
     "name": "stderr",
     "output_type": "stream",
     "text": [
      "in1: 100% in2: 100% \n"
     ]
    },
    {
     "name": "stdout",
     "output_type": "stream",
     "text": [
      "Genotypes remaining: 97\n"
     ]
    },
    {
     "name": "stderr",
     "output_type": "stream",
     "text": [
      "in1: 100% in2: 100% \n"
     ]
    },
    {
     "name": "stdout",
     "output_type": "stream",
     "text": [
      "Genotypes remaining: 96\n"
     ]
    },
    {
     "name": "stderr",
     "output_type": "stream",
     "text": [
      "in1: 100% in2: 100% \n"
     ]
    },
    {
     "name": "stdout",
     "output_type": "stream",
     "text": [
      "Genotypes remaining: 95\n"
     ]
    },
    {
     "name": "stderr",
     "output_type": "stream",
     "text": [
      "in1: 100% in2: 100% \n"
     ]
    },
    {
     "name": "stdout",
     "output_type": "stream",
     "text": [
      "Genotypes remaining: 94\n"
     ]
    },
    {
     "name": "stderr",
     "output_type": "stream",
     "text": [
      "in1: 100% in2: 100% \n"
     ]
    },
    {
     "name": "stdout",
     "output_type": "stream",
     "text": [
      "Genotypes remaining: 93\n"
     ]
    },
    {
     "name": "stderr",
     "output_type": "stream",
     "text": [
      "in1: 100% in2: 100% \n"
     ]
    },
    {
     "name": "stdout",
     "output_type": "stream",
     "text": [
      "Genotypes remaining: 92\n"
     ]
    },
    {
     "name": "stderr",
     "output_type": "stream",
     "text": [
      "in1: 100% in2: 100% \n"
     ]
    },
    {
     "name": "stdout",
     "output_type": "stream",
     "text": [
      "Genotypes remaining: 91\n"
     ]
    },
    {
     "name": "stderr",
     "output_type": "stream",
     "text": [
      "in1: 100% in2: 100% \n"
     ]
    },
    {
     "name": "stdout",
     "output_type": "stream",
     "text": [
      "Genotypes remaining: 90\n"
     ]
    },
    {
     "name": "stderr",
     "output_type": "stream",
     "text": [
      "in1: 100% in2: 100% \n"
     ]
    },
    {
     "name": "stdout",
     "output_type": "stream",
     "text": [
      "Genotypes remaining: 89\n"
     ]
    },
    {
     "name": "stderr",
     "output_type": "stream",
     "text": [
      "in1: 100% in2: 100% \n"
     ]
    },
    {
     "name": "stdout",
     "output_type": "stream",
     "text": [
      "Genotypes remaining: 88\n"
     ]
    },
    {
     "name": "stderr",
     "output_type": "stream",
     "text": [
      "in1: 100% in2: 100% \n"
     ]
    },
    {
     "name": "stdout",
     "output_type": "stream",
     "text": [
      "Genotypes remaining: 87\n"
     ]
    },
    {
     "name": "stderr",
     "output_type": "stream",
     "text": [
      "in1: 100% in2: 100% \n"
     ]
    },
    {
     "name": "stdout",
     "output_type": "stream",
     "text": [
      "Genotypes remaining: 86\n"
     ]
    },
    {
     "name": "stderr",
     "output_type": "stream",
     "text": [
      "in1: 100% in2: 100% \n"
     ]
    },
    {
     "name": "stdout",
     "output_type": "stream",
     "text": [
      "Genotypes remaining: 85\n"
     ]
    },
    {
     "name": "stderr",
     "output_type": "stream",
     "text": [
      "in1: 100% in2: 100% \n"
     ]
    },
    {
     "name": "stdout",
     "output_type": "stream",
     "text": [
      "Genotypes remaining: 84\n"
     ]
    },
    {
     "name": "stderr",
     "output_type": "stream",
     "text": [
      "in1: 100% in2: 100% \n"
     ]
    },
    {
     "name": "stdout",
     "output_type": "stream",
     "text": [
      "Genotypes remaining: 83\n"
     ]
    },
    {
     "name": "stderr",
     "output_type": "stream",
     "text": [
      "in1: 100% in2: 100% \n"
     ]
    },
    {
     "name": "stdout",
     "output_type": "stream",
     "text": [
      "Genotypes remaining: 82\n"
     ]
    },
    {
     "name": "stderr",
     "output_type": "stream",
     "text": [
      "in1: 100% in2: 100% \n"
     ]
    },
    {
     "name": "stdout",
     "output_type": "stream",
     "text": [
      "Genotypes remaining: 81\n"
     ]
    },
    {
     "name": "stderr",
     "output_type": "stream",
     "text": [
      "in1: 100% in2: 100% \n"
     ]
    },
    {
     "name": "stdout",
     "output_type": "stream",
     "text": [
      "Genotypes remaining: 80\n"
     ]
    },
    {
     "name": "stderr",
     "output_type": "stream",
     "text": [
      "in1: 100% in2: 100% \n"
     ]
    },
    {
     "name": "stdout",
     "output_type": "stream",
     "text": [
      "Genotypes remaining: 79\n"
     ]
    },
    {
     "name": "stderr",
     "output_type": "stream",
     "text": [
      "in1: 100% in2: 100% \n"
     ]
    },
    {
     "name": "stdout",
     "output_type": "stream",
     "text": [
      "Genotypes remaining: 78\n"
     ]
    },
    {
     "name": "stderr",
     "output_type": "stream",
     "text": [
      "in1: 100% in2: 100% \n"
     ]
    },
    {
     "name": "stdout",
     "output_type": "stream",
     "text": [
      "Genotypes remaining: 77\n"
     ]
    },
    {
     "name": "stderr",
     "output_type": "stream",
     "text": [
      "in1: 100% in2: 100% \n"
     ]
    },
    {
     "name": "stdout",
     "output_type": "stream",
     "text": [
      "Genotypes remaining: 76\n"
     ]
    },
    {
     "name": "stderr",
     "output_type": "stream",
     "text": [
      "in1: 100% in2: 100% \n"
     ]
    },
    {
     "name": "stdout",
     "output_type": "stream",
     "text": [
      "Genotypes remaining: 75\n"
     ]
    },
    {
     "name": "stderr",
     "output_type": "stream",
     "text": [
      "in1: 100% in2: 100% \n"
     ]
    },
    {
     "name": "stdout",
     "output_type": "stream",
     "text": [
      "Genotypes remaining: 74\n"
     ]
    },
    {
     "name": "stderr",
     "output_type": "stream",
     "text": [
      "in1: 100% in2: 100% \n"
     ]
    },
    {
     "name": "stdout",
     "output_type": "stream",
     "text": [
      "Genotypes remaining: 73\n"
     ]
    },
    {
     "name": "stderr",
     "output_type": "stream",
     "text": [
      "in1: 100% in2: 100% \n"
     ]
    },
    {
     "name": "stdout",
     "output_type": "stream",
     "text": [
      "Genotypes remaining: 72\n"
     ]
    },
    {
     "name": "stderr",
     "output_type": "stream",
     "text": [
      "in1: 100% in2: 100% \n"
     ]
    },
    {
     "name": "stdout",
     "output_type": "stream",
     "text": [
      "Genotypes remaining: 71\n"
     ]
    },
    {
     "name": "stderr",
     "output_type": "stream",
     "text": [
      "in1: 100% in2: 100% \n"
     ]
    },
    {
     "name": "stdout",
     "output_type": "stream",
     "text": [
      "Genotypes remaining: 70\n"
     ]
    },
    {
     "name": "stderr",
     "output_type": "stream",
     "text": [
      "in1: 100% in2: 100% \n"
     ]
    },
    {
     "name": "stdout",
     "output_type": "stream",
     "text": [
      "Genotypes remaining: 69\n"
     ]
    },
    {
     "name": "stderr",
     "output_type": "stream",
     "text": [
      "in1: 100% in2: 100% \n"
     ]
    },
    {
     "name": "stdout",
     "output_type": "stream",
     "text": [
      "Genotypes remaining: 68\n"
     ]
    },
    {
     "name": "stderr",
     "output_type": "stream",
     "text": [
      "in1: 100% in2: 100% \n"
     ]
    },
    {
     "name": "stdout",
     "output_type": "stream",
     "text": [
      "Genotypes remaining: 67\n"
     ]
    },
    {
     "name": "stderr",
     "output_type": "stream",
     "text": [
      "in1: 100% in2: 100% \n"
     ]
    },
    {
     "name": "stdout",
     "output_type": "stream",
     "text": [
      "Genotypes remaining: 66\n"
     ]
    },
    {
     "name": "stderr",
     "output_type": "stream",
     "text": [
      "in1: 100% in2: 100% \n"
     ]
    },
    {
     "name": "stdout",
     "output_type": "stream",
     "text": [
      "Genotypes remaining: 65\n"
     ]
    },
    {
     "name": "stderr",
     "output_type": "stream",
     "text": [
      "in1: 100% in2: 100% \n"
     ]
    },
    {
     "name": "stdout",
     "output_type": "stream",
     "text": [
      "Genotypes remaining: 64\n"
     ]
    },
    {
     "name": "stderr",
     "output_type": "stream",
     "text": [
      "in1: 100% in2: 100% \n"
     ]
    },
    {
     "name": "stdout",
     "output_type": "stream",
     "text": [
      "Genotypes remaining: 63\n"
     ]
    },
    {
     "name": "stderr",
     "output_type": "stream",
     "text": [
      "in1: 100% in2: 100% \n"
     ]
    },
    {
     "name": "stdout",
     "output_type": "stream",
     "text": [
      "Genotypes remaining: 62\n"
     ]
    },
    {
     "name": "stderr",
     "output_type": "stream",
     "text": [
      "in1: 100% in2: 100% \n"
     ]
    },
    {
     "name": "stdout",
     "output_type": "stream",
     "text": [
      "Genotypes remaining: 61\n"
     ]
    },
    {
     "name": "stderr",
     "output_type": "stream",
     "text": [
      "in1: 100% in2: 100% \n"
     ]
    },
    {
     "name": "stdout",
     "output_type": "stream",
     "text": [
      "Genotypes remaining: 60\n"
     ]
    },
    {
     "name": "stderr",
     "output_type": "stream",
     "text": [
      "in1: 100% in2: 100% \n"
     ]
    },
    {
     "name": "stdout",
     "output_type": "stream",
     "text": [
      "Genotypes remaining: 59\n"
     ]
    },
    {
     "name": "stderr",
     "output_type": "stream",
     "text": [
      "in1: 100% in2: 100% \n"
     ]
    },
    {
     "name": "stdout",
     "output_type": "stream",
     "text": [
      "Genotypes remaining: 58\n"
     ]
    },
    {
     "name": "stderr",
     "output_type": "stream",
     "text": [
      "in1: 100% in2: 100% \n"
     ]
    },
    {
     "name": "stdout",
     "output_type": "stream",
     "text": [
      "Genotypes remaining: 57\n"
     ]
    },
    {
     "name": "stderr",
     "output_type": "stream",
     "text": [
      "in1: 100% in2: 100% \n"
     ]
    },
    {
     "name": "stdout",
     "output_type": "stream",
     "text": [
      "Genotypes remaining: 56\n"
     ]
    },
    {
     "name": "stderr",
     "output_type": "stream",
     "text": [
      "in1: 100% in2: 100% \n"
     ]
    },
    {
     "name": "stdout",
     "output_type": "stream",
     "text": [
      "Genotypes remaining: 55\n"
     ]
    },
    {
     "name": "stderr",
     "output_type": "stream",
     "text": [
      "in1: 100% in2: 100% \n"
     ]
    },
    {
     "name": "stdout",
     "output_type": "stream",
     "text": [
      "Genotypes remaining: 54\n"
     ]
    },
    {
     "name": "stderr",
     "output_type": "stream",
     "text": [
      "in1: 100% in2: 100% \n"
     ]
    },
    {
     "name": "stdout",
     "output_type": "stream",
     "text": [
      "Genotypes remaining: 53\n"
     ]
    },
    {
     "name": "stderr",
     "output_type": "stream",
     "text": [
      "in1: 100% in2: 100% \n"
     ]
    },
    {
     "name": "stdout",
     "output_type": "stream",
     "text": [
      "Genotypes remaining: 52\n"
     ]
    },
    {
     "name": "stderr",
     "output_type": "stream",
     "text": [
      "in1: 100% in2: 100% % in2: 23% \n"
     ]
    },
    {
     "name": "stdout",
     "output_type": "stream",
     "text": [
      "Genotypes remaining: 51\n"
     ]
    },
    {
     "name": "stderr",
     "output_type": "stream",
     "text": [
      "in1: 100% in2: 100% \n"
     ]
    },
    {
     "name": "stdout",
     "output_type": "stream",
     "text": [
      "Genotypes remaining: 50\n"
     ]
    },
    {
     "name": "stderr",
     "output_type": "stream",
     "text": [
      "in1: 100% in2: 100% \n"
     ]
    },
    {
     "name": "stdout",
     "output_type": "stream",
     "text": [
      "Genotypes remaining: 49\n"
     ]
    },
    {
     "name": "stderr",
     "output_type": "stream",
     "text": [
      "in1: 100% in2: 100% \n"
     ]
    },
    {
     "name": "stdout",
     "output_type": "stream",
     "text": [
      "Genotypes remaining: 48\n"
     ]
    },
    {
     "name": "stderr",
     "output_type": "stream",
     "text": [
      "in1: 100% in2: 100% \n"
     ]
    },
    {
     "name": "stdout",
     "output_type": "stream",
     "text": [
      "Genotypes remaining: 47\n"
     ]
    },
    {
     "name": "stderr",
     "output_type": "stream",
     "text": [
      "in1: 100% in2: 100% \n"
     ]
    },
    {
     "name": "stdout",
     "output_type": "stream",
     "text": [
      "Genotypes remaining: 46\n"
     ]
    },
    {
     "name": "stderr",
     "output_type": "stream",
     "text": [
      "in1: 100% in2: 100% \n"
     ]
    },
    {
     "name": "stdout",
     "output_type": "stream",
     "text": [
      "Genotypes remaining: 45\n"
     ]
    },
    {
     "name": "stderr",
     "output_type": "stream",
     "text": [
      "in1: 100% in2: 100% \n"
     ]
    },
    {
     "name": "stdout",
     "output_type": "stream",
     "text": [
      "Genotypes remaining: 44\n"
     ]
    },
    {
     "name": "stderr",
     "output_type": "stream",
     "text": [
      "in1: 100% in2: 100% \n"
     ]
    },
    {
     "name": "stdout",
     "output_type": "stream",
     "text": [
      "Genotypes remaining: 43\n"
     ]
    },
    {
     "name": "stderr",
     "output_type": "stream",
     "text": [
      "in1: 100% in2: 100% \n"
     ]
    },
    {
     "name": "stdout",
     "output_type": "stream",
     "text": [
      "Genotypes remaining: 42\n"
     ]
    },
    {
     "name": "stderr",
     "output_type": "stream",
     "text": [
      "in1: 100% in2: 100% \n"
     ]
    },
    {
     "name": "stdout",
     "output_type": "stream",
     "text": [
      "Genotypes remaining: 41\n"
     ]
    },
    {
     "name": "stderr",
     "output_type": "stream",
     "text": [
      "in1: 100% in2: 100% \n"
     ]
    },
    {
     "name": "stdout",
     "output_type": "stream",
     "text": [
      "Genotypes remaining: 40\n"
     ]
    },
    {
     "name": "stderr",
     "output_type": "stream",
     "text": [
      "in1: 100% in2: 100% \n"
     ]
    },
    {
     "name": "stdout",
     "output_type": "stream",
     "text": [
      "Genotypes remaining: 39\n"
     ]
    },
    {
     "name": "stderr",
     "output_type": "stream",
     "text": [
      "in1: 100% in2: 100% \n"
     ]
    },
    {
     "name": "stdout",
     "output_type": "stream",
     "text": [
      "Genotypes remaining: 38\n"
     ]
    },
    {
     "name": "stderr",
     "output_type": "stream",
     "text": [
      "in1: 100% in2: 100% \n"
     ]
    },
    {
     "name": "stdout",
     "output_type": "stream",
     "text": [
      "Genotypes remaining: 37\n"
     ]
    },
    {
     "name": "stderr",
     "output_type": "stream",
     "text": [
      "in1: 100% in2: 100% \n"
     ]
    },
    {
     "name": "stdout",
     "output_type": "stream",
     "text": [
      "Genotypes remaining: 36\n"
     ]
    },
    {
     "name": "stderr",
     "output_type": "stream",
     "text": [
      "in1: 100% in2: 100%  in2: 12% \n"
     ]
    },
    {
     "name": "stdout",
     "output_type": "stream",
     "text": [
      "Genotypes remaining: 35\n"
     ]
    },
    {
     "name": "stderr",
     "output_type": "stream",
     "text": [
      "in1: 100% in2: 100% \n"
     ]
    },
    {
     "name": "stdout",
     "output_type": "stream",
     "text": [
      "Genotypes remaining: 34\n"
     ]
    },
    {
     "name": "stderr",
     "output_type": "stream",
     "text": [
      "in1: 100% in2: 100% \n"
     ]
    },
    {
     "name": "stdout",
     "output_type": "stream",
     "text": [
      "Genotypes remaining: 33\n"
     ]
    },
    {
     "name": "stderr",
     "output_type": "stream",
     "text": [
      "in1: 100% in2: 100% \n"
     ]
    },
    {
     "name": "stdout",
     "output_type": "stream",
     "text": [
      "Genotypes remaining: 32\n"
     ]
    },
    {
     "name": "stderr",
     "output_type": "stream",
     "text": [
      "in1: 100% in2: 100% \n"
     ]
    },
    {
     "name": "stdout",
     "output_type": "stream",
     "text": [
      "Genotypes remaining: 31\n"
     ]
    },
    {
     "name": "stderr",
     "output_type": "stream",
     "text": [
      "in1: 100% in2: 100% \n"
     ]
    },
    {
     "name": "stdout",
     "output_type": "stream",
     "text": [
      "Genotypes remaining: 30\n"
     ]
    },
    {
     "name": "stderr",
     "output_type": "stream",
     "text": [
      "in1: 100% in2: 100% \n"
     ]
    },
    {
     "name": "stdout",
     "output_type": "stream",
     "text": [
      "Genotypes remaining: 29\n"
     ]
    },
    {
     "name": "stderr",
     "output_type": "stream",
     "text": [
      "in1: 100% in2: 100% \n"
     ]
    },
    {
     "name": "stdout",
     "output_type": "stream",
     "text": [
      "Genotypes remaining: 28\n"
     ]
    },
    {
     "name": "stderr",
     "output_type": "stream",
     "text": [
      "in1: 100% in2: 100% \n"
     ]
    },
    {
     "name": "stdout",
     "output_type": "stream",
     "text": [
      "Genotypes remaining: 27\n"
     ]
    },
    {
     "name": "stderr",
     "output_type": "stream",
     "text": [
      "in1: 100% in2: 100% \n"
     ]
    },
    {
     "name": "stdout",
     "output_type": "stream",
     "text": [
      "Genotypes remaining: 26\n"
     ]
    },
    {
     "name": "stderr",
     "output_type": "stream",
     "text": [
      "in1: 100% in2: 100% \n"
     ]
    },
    {
     "name": "stdout",
     "output_type": "stream",
     "text": [
      "Genotypes remaining: 25\n"
     ]
    },
    {
     "name": "stderr",
     "output_type": "stream",
     "text": [
      "in1: 100% in2: 100% \n"
     ]
    },
    {
     "name": "stdout",
     "output_type": "stream",
     "text": [
      "Genotypes remaining: 24\n"
     ]
    },
    {
     "name": "stderr",
     "output_type": "stream",
     "text": [
      "in1: 100% in2: 100% \n"
     ]
    },
    {
     "name": "stdout",
     "output_type": "stream",
     "text": [
      "Genotypes remaining: 23\n"
     ]
    },
    {
     "name": "stderr",
     "output_type": "stream",
     "text": [
      "in1: 100% in2: 100% \n"
     ]
    },
    {
     "name": "stdout",
     "output_type": "stream",
     "text": [
      "Genotypes remaining: 22\n"
     ]
    },
    {
     "name": "stderr",
     "output_type": "stream",
     "text": [
      "in1: 100% in2: 100% \n"
     ]
    },
    {
     "name": "stdout",
     "output_type": "stream",
     "text": [
      "Genotypes remaining: 21\n"
     ]
    },
    {
     "name": "stderr",
     "output_type": "stream",
     "text": [
      "in1: 100% in2: 100% \n"
     ]
    },
    {
     "name": "stdout",
     "output_type": "stream",
     "text": [
      "Genotypes remaining: 20\n"
     ]
    },
    {
     "name": "stderr",
     "output_type": "stream",
     "text": [
      "in1: 100% in2: 100% \n"
     ]
    },
    {
     "name": "stdout",
     "output_type": "stream",
     "text": [
      "Genotypes remaining: 19\n"
     ]
    },
    {
     "name": "stderr",
     "output_type": "stream",
     "text": [
      "in1: 100% in2: 100% \n"
     ]
    },
    {
     "name": "stdout",
     "output_type": "stream",
     "text": [
      "Genotypes remaining: 18\n"
     ]
    },
    {
     "name": "stderr",
     "output_type": "stream",
     "text": [
      "in1: 100% in2: 100% \n"
     ]
    },
    {
     "name": "stdout",
     "output_type": "stream",
     "text": [
      "Genotypes remaining: 17\n"
     ]
    },
    {
     "name": "stderr",
     "output_type": "stream",
     "text": [
      "in1: 100% in2: 100% \n"
     ]
    },
    {
     "name": "stdout",
     "output_type": "stream",
     "text": [
      "Genotypes remaining: 16\n"
     ]
    },
    {
     "name": "stderr",
     "output_type": "stream",
     "text": [
      "in1: 100% in2: 100% \n"
     ]
    },
    {
     "name": "stdout",
     "output_type": "stream",
     "text": [
      "Genotypes remaining: 15\n"
     ]
    },
    {
     "name": "stderr",
     "output_type": "stream",
     "text": [
      "in1: 100% in2: 100% \n"
     ]
    },
    {
     "name": "stdout",
     "output_type": "stream",
     "text": [
      "Genotypes remaining: 14\n"
     ]
    },
    {
     "name": "stderr",
     "output_type": "stream",
     "text": [
      "in1: 100% in2: 100% % in2: 89% \n"
     ]
    },
    {
     "name": "stdout",
     "output_type": "stream",
     "text": [
      "Genotypes remaining: 13\n"
     ]
    },
    {
     "name": "stderr",
     "output_type": "stream",
     "text": [
      "in1: 100% in2: 100% \n"
     ]
    },
    {
     "name": "stdout",
     "output_type": "stream",
     "text": [
      "Genotypes remaining: 12\n"
     ]
    },
    {
     "name": "stderr",
     "output_type": "stream",
     "text": [
      "in1: 100% in2: 100% % in2: 47% \n"
     ]
    },
    {
     "name": "stdout",
     "output_type": "stream",
     "text": [
      "Genotypes remaining: 11\n"
     ]
    },
    {
     "name": "stderr",
     "output_type": "stream",
     "text": [
      "in1: 100% in2: 100% \n"
     ]
    },
    {
     "name": "stdout",
     "output_type": "stream",
     "text": [
      "Genotypes remaining: 10\n"
     ]
    },
    {
     "name": "stderr",
     "output_type": "stream",
     "text": [
      "in1: 100% in2: 100% \n"
     ]
    },
    {
     "name": "stdout",
     "output_type": "stream",
     "text": [
      "Genotypes remaining: 9\n"
     ]
    },
    {
     "name": "stderr",
     "output_type": "stream",
     "text": [
      "in1: 100% in2: 100% \n"
     ]
    },
    {
     "name": "stdout",
     "output_type": "stream",
     "text": [
      "Genotypes remaining: 8\n"
     ]
    },
    {
     "name": "stderr",
     "output_type": "stream",
     "text": [
      "in1: 100% in2: 100% \n"
     ]
    },
    {
     "name": "stdout",
     "output_type": "stream",
     "text": [
      "Genotypes remaining: 7\n"
     ]
    },
    {
     "name": "stderr",
     "output_type": "stream",
     "text": [
      "in1: 100% in2: 100% \n"
     ]
    },
    {
     "name": "stdout",
     "output_type": "stream",
     "text": [
      "Genotypes remaining: 6\n"
     ]
    },
    {
     "name": "stderr",
     "output_type": "stream",
     "text": [
      "in1: 100% in2: 100% \n"
     ]
    },
    {
     "name": "stdout",
     "output_type": "stream",
     "text": [
      "Genotypes remaining: 5\n"
     ]
    },
    {
     "name": "stderr",
     "output_type": "stream",
     "text": [
      "in1: 100% in2: 100% \n"
     ]
    },
    {
     "name": "stdout",
     "output_type": "stream",
     "text": [
      "Genotypes remaining: 4\n"
     ]
    },
    {
     "name": "stderr",
     "output_type": "stream",
     "text": [
      "in1: 100% in2: 100% \n"
     ]
    },
    {
     "name": "stdout",
     "output_type": "stream",
     "text": [
      "Genotypes remaining: 3\n"
     ]
    },
    {
     "name": "stderr",
     "output_type": "stream",
     "text": [
      "in1: 100% in2: 100% n2: 3% \n"
     ]
    },
    {
     "name": "stdout",
     "output_type": "stream",
     "text": [
      "Genotypes remaining: 2\n"
     ]
    },
    {
     "name": "stderr",
     "output_type": "stream",
     "text": [
      "in1: 100% in2: 100% \n"
     ]
    },
    {
     "name": "stdout",
     "output_type": "stream",
     "text": [
      "Genotypes remaining: 1\n"
     ]
    },
    {
     "name": "stderr",
     "output_type": "stream",
     "text": [
      "in1: 100% in2: 100% \n"
     ]
    },
    {
     "name": "stdout",
     "output_type": "stream",
     "text": [
      "Genotypes remaining: 0\n"
     ]
    },
    {
     "data": {
      "text/plain": [
       "0"
      ]
     },
     "execution_count": 14,
     "metadata": {},
     "output_type": "execute_result"
    }
   ],
   "source": [
    "genotypes = list(set(annot[\"genotype\"].values))\n",
    "genotype_counter = len(genotypes)\n",
    "print(\"Total genotypes:\", genotype_counter)\n",
    "\n",
    "fl1, fl2 = genotypes[0], genotypes[1]\n",
    "os.system('kmc_tools simple ramdisk/geno_kmers/{0} ramdisk/geno_kmers/{1} union ramdisk/kmer_union0'.format(fl1, fl2))\n",
    "\n",
    "genotype_counter = genotype_counter - 2\n",
    "print(\"Total genotypes:\", genotype_counter)\n",
    "\n",
    "count = 1\n",
    "for geno in genotypes[2:]:\n",
    "    # kmc_tools can't overwrite a file so have to iterate back and \n",
    "    # forth with the output file to union merge multiple kmer files\n",
    "    # This also seems to be an easier solution than the internal 'complex'\n",
    "    prv, nxt = str((count-1)%2), str(count%2)\n",
    "    os.system('kmc_tools simple ramdisk/kmer_union{0} ramdisk/geno_kmers/{1} union ramdisk/kmer_union{2}'.format(prv, geno, nxt))\n",
    "    os.system('rm {0}{1}.kmc_suf {0}{1}.kmc_pre'.format(\"ramdisk/kmer_union\", prv))\n",
    "    count+=1\n",
    "\n",
    "    genotype_counter = genotype_counter - 1\n",
    "    print(\"Genotypes remaining:\", genotype_counter)\n",
    "\n",
    "# Rename the file\n",
    "os.system('mv {0}{1}.kmc_suf {0}_all.kmc_suf'.format(\"ramdisk/kmer_union\", nxt))\n",
    "os.system('mv {0}{1}.kmc_pre {0}_all.kmc_pre'.format(\"ramdisk/kmer_union\", nxt))"
   ]
  },
  {
   "cell_type": "markdown",
   "id": "efb8d80e",
   "metadata": {},
   "source": [
    "# Generate the kmer count files for each genotype"
   ]
  },
  {
   "cell_type": "code",
   "execution_count": 57,
   "id": "e4c1cc29",
   "metadata": {},
   "outputs": [
    {
     "name": "stdout",
     "output_type": "stream",
     "text": [
      "Total genotypes: 107\n"
     ]
    },
    {
     "name": "stderr",
     "output_type": "stream",
     "text": [
      "in1: 100% in2: 100% \n",
      "in1: 100% in2: 100% \n",
      "DatatableWarning: Duplicate column name found, and was assigned a unique name: 'C1' -> 'C2'\n",
      "in1: 100% in2: 100% \n",
      "DatatableWarning: Duplicate column names found, and were assigned unique names: 'C0' -> 'C3', 'C1' -> 'C4'\n",
      "in1: 100% in2: 100% \n"
     ]
    },
    {
     "ename": "IOError",
     "evalue": "Too few fields on line 96328990: expected 2 but found only 1 (with sep='t'). Set fill=True to ignore this error.  <<AGCAGCAGGGTATGGATGTTGGGGG>>",
     "output_type": "error",
     "traceback": [
      "\u001b[0;31m---------------------------------------------------------------------------\u001b[0m",
      "\u001b[0;31mIOError\u001b[0m                                   Traceback (most recent call last)",
      "Input \u001b[0;32mIn [57]\u001b[0m, in \u001b[0;36m<cell line: 6>\u001b[0;34m()\u001b[0m\n\u001b[1;32m     14\u001b[0m     count \u001b[38;5;241m=\u001b[39m \u001b[38;5;241m-\u001b[39m\u001b[38;5;241m1\u001b[39m\n\u001b[1;32m     15\u001b[0m     \u001b[38;5;28;01mcontinue\u001b[39;00m\n\u001b[0;32m---> 16\u001b[0m dfk \u001b[38;5;241m=\u001b[39m dt\u001b[38;5;241m.\u001b[39mcbind(dfk, \u001b[43mdt\u001b[49m\u001b[38;5;241;43m.\u001b[39;49m\u001b[43mfread\u001b[49m\u001b[43m(\u001b[49m\u001b[38;5;124;43m\"\u001b[39;49m\u001b[38;5;124;43mramdisk/tmp_dump\u001b[39;49m\u001b[38;5;124;43m\"\u001b[39;49m\u001b[43m,\u001b[49m\u001b[43m \u001b[49m\u001b[43msep\u001b[49m\u001b[38;5;241;43m=\u001b[39;49m\u001b[38;5;124;43m\"\u001b[39;49m\u001b[38;5;130;43;01m\\t\u001b[39;49;00m\u001b[38;5;124;43m\"\u001b[39;49m\u001b[43m)\u001b[49m)\n",
      "\u001b[0;31mIOError\u001b[0m: Too few fields on line 96328990: expected 2 but found only 1 (with sep='t'). Set fill=True to ignore this error.  <<AGCAGCAGGGTATGGATGTTGGGGG>>"
     ]
    }
   ],
   "source": [
    "genotypes = set(annot[\"genotype\"].values)\n",
    "genotype_counter = len(genotypes)\n",
    "print(\"Total genotypes:\", genotype_counter)\n",
    "\n",
    "count = 0\n",
    "for geno in genotypes:\n",
    "    # I wanted to use -cs1 (-cs<value>  - maximal value of a counter) but it doesn't seem to work\n",
    "    os.system('kmc_tools simple ramdisk/kmer_union_all ramdisk/geno_kmers/{0} union ramdisk/tmp -ocright'.format(geno))\n",
    "    os.system('kmc_dump ramdisk/tmp ramdisk/tmp_dump')\n",
    "    if count == 0:\n",
    "        dfk = dt.fread(\"ramdisk/tmp_dump\", sep=\"\\t\")\n",
    "        ixs = dfk[\"C0\"].to_pandas()[\"C0\"].values.tolist()\n",
    "        dfk = dfk[\"C1\"]\n",
    "        count = -1\n",
    "        continue\n",
    "    dfk = dt.cbind(dfk, dt.fread(\"ramdisk/tmp_dump\", sep=\"\\t\")[\"C0\"])"
   ]
  },
  {
   "cell_type": "markdown",
   "id": "3cc57e08",
   "metadata": {},
   "source": [
    "# Combine k-mers to Hapmap file"
   ]
  },
  {
   "cell_type": "code",
   "execution_count": 55,
   "id": "1d2373e9",
   "metadata": {},
   "outputs": [
    {
     "name": "stderr",
     "output_type": "stream",
     "text": [
      "DatatableWarning: Duplicate column name found, and was assigned a unique name: 'C1' -> 'C2'\n",
      "DatatableWarning: Duplicate column names found, and were assigned unique names: 'C1' -> 'C3', 'C2' -> 'C4'\n"
     ]
    },
    {
     "data": {
      "text/html": [
       "<div class='datatable'>\n",
       "  <table class='frame'>\n",
       "  <thead>\n",
       "    <tr class='colnames'><td class='row_index'></td><th>C1</th><th>C2</th><th>C3</th><th>C4</th></tr>\n",
       "    <tr class='coltypes'><td class='row_index'></td><td class='int' title='int32'>&#x25AA;&#x25AA;&#x25AA;&#x25AA;</td><td class='int' title='int32'>&#x25AA;&#x25AA;&#x25AA;&#x25AA;</td><td class='int' title='int32'>&#x25AA;&#x25AA;&#x25AA;&#x25AA;</td><td class='int' title='int32'>&#x25AA;&#x25AA;&#x25AA;&#x25AA;</td></tr>\n",
       "  </thead>\n",
       "  <tbody>\n",
       "    <tr><td class='row_index'>0</td><td>255</td><td>255</td><td>255</td><td>255</td></tr>\n",
       "    <tr><td class='row_index'>1</td><td>113</td><td>113</td><td>113</td><td>113</td></tr>\n",
       "    <tr><td class='row_index'>2</td><td>115</td><td>115</td><td>115</td><td>115</td></tr>\n",
       "    <tr><td class='row_index'>3</td><td>35</td><td>35</td><td>35</td><td>35</td></tr>\n",
       "    <tr><td class='row_index'>4</td><td>69</td><td>69</td><td>69</td><td>69</td></tr>\n",
       "    <tr><td class='row_index'>5</td><td>48</td><td>48</td><td>48</td><td>48</td></tr>\n",
       "    <tr><td class='row_index'>6</td><td>10</td><td>10</td><td>10</td><td>10</td></tr>\n",
       "    <tr><td class='row_index'>7</td><td>20</td><td>20</td><td>20</td><td>20</td></tr>\n",
       "    <tr><td class='row_index'>8</td><td>55</td><td>55</td><td>55</td><td>55</td></tr>\n",
       "    <tr><td class='row_index'>9</td><td>47</td><td>47</td><td>47</td><td>47</td></tr>\n",
       "    <tr><td class='row_index'>10</td><td>32</td><td>32</td><td>32</td><td>32</td></tr>\n",
       "    <tr><td class='row_index'>11</td><td>8</td><td>8</td><td>8</td><td>8</td></tr>\n",
       "    <tr><td class='row_index'>12</td><td>8</td><td>8</td><td>8</td><td>8</td></tr>\n",
       "    <tr><td class='row_index'>13</td><td>13</td><td>13</td><td>13</td><td>13</td></tr>\n",
       "    <tr><td class='row_index'>14</td><td>13</td><td>13</td><td>13</td><td>13</td></tr>\n",
       "    <tr><td class='row_index'>&#x22EE;</td><td class='hellipsis'>&#x22EE;</td><td class='hellipsis'>&#x22EE;</td><td class='hellipsis'>&#x22EE;</td><td class='hellipsis'>&#x22EE;</td></tr>\n",
       "    <tr><td class='row_index'>95</td><td>3</td><td>3</td><td>3</td><td>3</td></tr>\n",
       "    <tr><td class='row_index'>96</td><td>3</td><td>3</td><td>3</td><td>3</td></tr>\n",
       "    <tr><td class='row_index'>97</td><td>131</td><td>131</td><td>131</td><td>131</td></tr>\n",
       "    <tr><td class='row_index'>98</td><td>2</td><td>2</td><td>2</td><td>2</td></tr>\n",
       "    <tr><td class='row_index'>99</td><td>51</td><td>51</td><td>51</td><td>51</td></tr>\n",
       "  </tbody>\n",
       "  </table>\n",
       "  <div class='footer'>\n",
       "    <div class='frame_dimensions'>100 rows &times; 4 columns</div>\n",
       "  </div>\n",
       "</div>\n"
      ],
      "text/plain": [
       "<Frame#7f3bfd45fc60 100x4>"
      ]
     },
     "execution_count": 55,
     "metadata": {},
     "output_type": "execute_result"
    }
   ],
   "source": [
    "t1 = dt.fread(\"ramdisk/tmp_dump\", sep=\"\\t\", max_nrows=100)[\"C1\"]\n",
    "t1 = dt.cbind(t1, t1)\n",
    "t1 = dt.cbind(t1, t1)\n",
    "t1"
   ]
  },
  {
   "cell_type": "code",
   "execution_count": 36,
   "id": "a83518af",
   "metadata": {},
   "outputs": [],
   "source": [
    "?dt.fread"
   ]
  },
  {
   "cell_type": "code",
   "execution_count": 50,
   "id": "9d5ddeb5",
   "metadata": {},
   "outputs": [
    {
     "data": {
      "text/plain": [
       "['AAAAAAAAAAAAAAAAAAAAAAAAA',\n",
       " 'AAAAAAAAAAAAAAAAAAAAAAAAC',\n",
       " 'AAAAAAAAAAAAAAAAAAAAAAAAG',\n",
       " 'AAAAAAAAAAAAAAAAAAAAAAAAT',\n",
       " 'AAAAAAAAAAAAAAAAAAAAAAACA',\n",
       " 'AAAAAAAAAAAAAAAAAAAAAAACC',\n",
       " 'AAAAAAAAAAAAAAAAAAAAAAACG',\n",
       " 'AAAAAAAAAAAAAAAAAAAAAAACT',\n",
       " 'AAAAAAAAAAAAAAAAAAAAAAAGA',\n",
       " 'AAAAAAAAAAAAAAAAAAAAAAAGC',\n",
       " 'AAAAAAAAAAAAAAAAAAAAAAAGG',\n",
       " 'AAAAAAAAAAAAAAAAAAAAAAAGT',\n",
       " 'AAAAAAAAAAAAAAAAAAAAAAATA',\n",
       " 'AAAAAAAAAAAAAAAAAAAAAAATC',\n",
       " 'AAAAAAAAAAAAAAAAAAAAAAATG',\n",
       " 'AAAAAAAAAAAAAAAAAAAAAAATT',\n",
       " 'AAAAAAAAAAAAAAAAAAAAAACAA',\n",
       " 'AAAAAAAAAAAAAAAAAAAAAACAC',\n",
       " 'AAAAAAAAAAAAAAAAAAAAAACAG',\n",
       " 'AAAAAAAAAAAAAAAAAAAAAACAT',\n",
       " 'AAAAAAAAAAAAAAAAAAAAAACCA',\n",
       " 'AAAAAAAAAAAAAAAAAAAAAACCC',\n",
       " 'AAAAAAAAAAAAAAAAAAAAAACCG',\n",
       " 'AAAAAAAAAAAAAAAAAAAAAACCT',\n",
       " 'AAAAAAAAAAAAAAAAAAAAAACGA',\n",
       " 'AAAAAAAAAAAAAAAAAAAAAACGC',\n",
       " 'AAAAAAAAAAAAAAAAAAAAAACGG',\n",
       " 'AAAAAAAAAAAAAAAAAAAAAACGT',\n",
       " 'AAAAAAAAAAAAAAAAAAAAAACTA',\n",
       " 'AAAAAAAAAAAAAAAAAAAAAACTC',\n",
       " 'AAAAAAAAAAAAAAAAAAAAAACTG',\n",
       " 'AAAAAAAAAAAAAAAAAAAAAACTT',\n",
       " 'AAAAAAAAAAAAAAAAAAAAAAGAA',\n",
       " 'AAAAAAAAAAAAAAAAAAAAAAGAC',\n",
       " 'AAAAAAAAAAAAAAAAAAAAAAGAG',\n",
       " 'AAAAAAAAAAAAAAAAAAAAAAGAT',\n",
       " 'AAAAAAAAAAAAAAAAAAAAAAGCA',\n",
       " 'AAAAAAAAAAAAAAAAAAAAAAGCC',\n",
       " 'AAAAAAAAAAAAAAAAAAAAAAGCG',\n",
       " 'AAAAAAAAAAAAAAAAAAAAAAGCT',\n",
       " 'AAAAAAAAAAAAAAAAAAAAAAGGA',\n",
       " 'AAAAAAAAAAAAAAAAAAAAAAGGC',\n",
       " 'AAAAAAAAAAAAAAAAAAAAAAGGG',\n",
       " 'AAAAAAAAAAAAAAAAAAAAAAGGT',\n",
       " 'AAAAAAAAAAAAAAAAAAAAAAGTA',\n",
       " 'AAAAAAAAAAAAAAAAAAAAAAGTC',\n",
       " 'AAAAAAAAAAAAAAAAAAAAAAGTG',\n",
       " 'AAAAAAAAAAAAAAAAAAAAAAGTT',\n",
       " 'AAAAAAAAAAAAAAAAAAAAAATAA',\n",
       " 'AAAAAAAAAAAAAAAAAAAAAATAC',\n",
       " 'AAAAAAAAAAAAAAAAAAAAAATAG',\n",
       " 'AAAAAAAAAAAAAAAAAAAAAATAT',\n",
       " 'AAAAAAAAAAAAAAAAAAAAAATCA',\n",
       " 'AAAAAAAAAAAAAAAAAAAAAATCC',\n",
       " 'AAAAAAAAAAAAAAAAAAAAAATCG',\n",
       " 'AAAAAAAAAAAAAAAAAAAAAATCT',\n",
       " 'AAAAAAAAAAAAAAAAAAAAAATGA',\n",
       " 'AAAAAAAAAAAAAAAAAAAAAATGC',\n",
       " 'AAAAAAAAAAAAAAAAAAAAAATGG',\n",
       " 'AAAAAAAAAAAAAAAAAAAAAATGT',\n",
       " 'AAAAAAAAAAAAAAAAAAAAAATTA',\n",
       " 'AAAAAAAAAAAAAAAAAAAAAATTC',\n",
       " 'AAAAAAAAAAAAAAAAAAAAAATTG',\n",
       " 'AAAAAAAAAAAAAAAAAAAAAATTT',\n",
       " 'AAAAAAAAAAAAAAAAAAAAACAAA',\n",
       " 'AAAAAAAAAAAAAAAAAAAAACAAC',\n",
       " 'AAAAAAAAAAAAAAAAAAAAACAAG',\n",
       " 'AAAAAAAAAAAAAAAAAAAAACAAT',\n",
       " 'AAAAAAAAAAAAAAAAAAAAACACA',\n",
       " 'AAAAAAAAAAAAAAAAAAAAACACC',\n",
       " 'AAAAAAAAAAAAAAAAAAAAACACG',\n",
       " 'AAAAAAAAAAAAAAAAAAAAACACT',\n",
       " 'AAAAAAAAAAAAAAAAAAAAACAGA',\n",
       " 'AAAAAAAAAAAAAAAAAAAAACAGC',\n",
       " 'AAAAAAAAAAAAAAAAAAAAACAGG',\n",
       " 'AAAAAAAAAAAAAAAAAAAAACAGT',\n",
       " 'AAAAAAAAAAAAAAAAAAAAACATA',\n",
       " 'AAAAAAAAAAAAAAAAAAAAACATC',\n",
       " 'AAAAAAAAAAAAAAAAAAAAACATG',\n",
       " 'AAAAAAAAAAAAAAAAAAAAACATT',\n",
       " 'AAAAAAAAAAAAAAAAAAAAACCAA',\n",
       " 'AAAAAAAAAAAAAAAAAAAAACCAC',\n",
       " 'AAAAAAAAAAAAAAAAAAAAACCAG',\n",
       " 'AAAAAAAAAAAAAAAAAAAAACCAT',\n",
       " 'AAAAAAAAAAAAAAAAAAAAACCCA',\n",
       " 'AAAAAAAAAAAAAAAAAAAAACCCC',\n",
       " 'AAAAAAAAAAAAAAAAAAAAACCCG',\n",
       " 'AAAAAAAAAAAAAAAAAAAAACCCT',\n",
       " 'AAAAAAAAAAAAAAAAAAAAACCGA',\n",
       " 'AAAAAAAAAAAAAAAAAAAAACCGC',\n",
       " 'AAAAAAAAAAAAAAAAAAAAACCGG',\n",
       " 'AAAAAAAAAAAAAAAAAAAAACCGT',\n",
       " 'AAAAAAAAAAAAAAAAAAAAACCTA',\n",
       " 'AAAAAAAAAAAAAAAAAAAAACCTC',\n",
       " 'AAAAAAAAAAAAAAAAAAAAACCTG',\n",
       " 'AAAAAAAAAAAAAAAAAAAAACCTT',\n",
       " 'AAAAAAAAAAAAAAAAAAAAACGAA',\n",
       " 'AAAAAAAAAAAAAAAAAAAAACGAC',\n",
       " 'AAAAAAAAAAAAAAAAAAAAACGAG',\n",
       " 'AAAAAAAAAAAAAAAAAAAAACGAT']"
      ]
     },
     "execution_count": 50,
     "metadata": {},
     "output_type": "execute_result"
    }
   ],
   "source": [
    "dfk = dt.fread(\"ramdisk/tmp_dump\", sep=\"\\t\", max_nrows=100)\n",
    "ixs = dfk[\"C0\"].to_pandas()[\"C0\"].values.tolist()"
   ]
  }
 ],
 "metadata": {
  "kernelspec": {
   "display_name": "Python 3 (ipykernel)",
   "language": "python",
   "name": "python3"
  },
  "language_info": {
   "codemirror_mode": {
    "name": "ipython",
    "version": 3
   },
   "file_extension": ".py",
   "mimetype": "text/x-python",
   "name": "python",
   "nbconvert_exporter": "python",
   "pygments_lexer": "ipython3",
   "version": "3.10.4"
  }
 },
 "nbformat": 4,
 "nbformat_minor": 5
}
