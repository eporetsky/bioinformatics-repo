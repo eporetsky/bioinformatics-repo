{
 "cells": [
  {
   "cell_type": "code",
   "execution_count": 3,
   "id": "54ef9e90",
   "metadata": {},
   "outputs": [],
   "source": [
    "import os\n",
    "import pandas as pd\n",
    "import dask.dataframe as dd\n",
    "import seaborn as sns\n",
    "from datatable import dt, fread\n",
    "# With python v>3.9 need to install datatable from source for the time being\n",
    "# pip install git+https://github.com/h2oai/datatable"
   ]
  },
  {
   "cell_type": "code",
   "execution_count": 4,
   "id": "c6f94acc",
   "metadata": {
    "scrolled": true
   },
   "outputs": [
    {
     "data": {
      "text/html": [
       "<div>\n",
       "<style scoped>\n",
       "    .dataframe tbody tr th:only-of-type {\n",
       "        vertical-align: middle;\n",
       "    }\n",
       "\n",
       "    .dataframe tbody tr th {\n",
       "        vertical-align: top;\n",
       "    }\n",
       "\n",
       "    .dataframe thead th {\n",
       "        text-align: right;\n",
       "    }\n",
       "</style>\n",
       "<table border=\"1\" class=\"dataframe\">\n",
       "  <thead>\n",
       "    <tr style=\"text-align: right;\">\n",
       "      <th></th>\n",
       "      <th>run_accession</th>\n",
       "      <th>sample_accession</th>\n",
       "      <th>study_accession</th>\n",
       "      <th>tax_id</th>\n",
       "      <th>scientific_name</th>\n",
       "      <th>instrument_model</th>\n",
       "      <th>library_strategy</th>\n",
       "      <th>read_count</th>\n",
       "      <th>run_alias</th>\n",
       "      <th>sample_alias</th>\n",
       "      <th>fastq_ftp</th>\n",
       "      <th>fastq_md5</th>\n",
       "      <th>condition</th>\n",
       "      <th>genotype</th>\n",
       "    </tr>\n",
       "  </thead>\n",
       "  <tbody>\n",
       "    <tr>\n",
       "      <th>0</th>\n",
       "      <td>SRR5909693</td>\n",
       "      <td>SAMN06764809</td>\n",
       "      <td>PRJNA383416</td>\n",
       "      <td>4577</td>\n",
       "      <td>Zea mays</td>\n",
       "      <td>NextSeq 500</td>\n",
       "      <td>RNA-Seq</td>\n",
       "      <td>1750117</td>\n",
       "      <td>5949_8601_26615_HK537BGXX_KAKRNA6_10346261_GRo...</td>\n",
       "      <td>Maize 3 prime RNASeq</td>\n",
       "      <td>ftp.sra.ebi.ac.uk/vol1/fastq/SRR590/003/SRR590...</td>\n",
       "      <td>817569d2f8d6c2f2bd771e1da0b39a98</td>\n",
       "      <td>GRoot</td>\n",
       "      <td>4226</td>\n",
       "    </tr>\n",
       "    <tr>\n",
       "      <th>1</th>\n",
       "      <td>SRR5909692</td>\n",
       "      <td>SAMN06764809</td>\n",
       "      <td>PRJNA383416</td>\n",
       "      <td>4577</td>\n",
       "      <td>Zea mays</td>\n",
       "      <td>NextSeq 500</td>\n",
       "      <td>RNA-Seq</td>\n",
       "      <td>10898114</td>\n",
       "      <td>5918_8601_26597_HLN5JBGXX_KAKRNA5_GShoot_4226_...</td>\n",
       "      <td>Maize 3 prime RNASeq</td>\n",
       "      <td>ftp.sra.ebi.ac.uk/vol1/fastq/SRR590/002/SRR590...</td>\n",
       "      <td>ea1a59a8ec2883bbc77487b180804d6d</td>\n",
       "      <td>GShoot</td>\n",
       "      <td>4226</td>\n",
       "    </tr>\n",
       "    <tr>\n",
       "      <th>2</th>\n",
       "      <td>SRR5909701</td>\n",
       "      <td>SAMN06764809</td>\n",
       "      <td>PRJNA383416</td>\n",
       "      <td>4577</td>\n",
       "      <td>Zea mays</td>\n",
       "      <td>NextSeq 500</td>\n",
       "      <td>RNA-Seq</td>\n",
       "      <td>5272706</td>\n",
       "      <td>6125_8601_27527_HJ5W5BGXX_KAKRNA16_Kern_4226_T...</td>\n",
       "      <td>Maize 3 prime RNASeq</td>\n",
       "      <td>ftp.sra.ebi.ac.uk/vol1/fastq/SRR590/001/SRR590...</td>\n",
       "      <td>aabfb6561a197ebee20d2f67fda29726</td>\n",
       "      <td>Kern</td>\n",
       "      <td>4226</td>\n",
       "    </tr>\n",
       "    <tr>\n",
       "      <th>3</th>\n",
       "      <td>SRR5909694</td>\n",
       "      <td>SAMN06764809</td>\n",
       "      <td>PRJNA383416</td>\n",
       "      <td>4577</td>\n",
       "      <td>Zea mays</td>\n",
       "      <td>NextSeq 500</td>\n",
       "      <td>RNA-Seq</td>\n",
       "      <td>4329387</td>\n",
       "      <td>6122_8601_27530_HJ7FKBGXX_KAKRNA28_L3Base_4226...</td>\n",
       "      <td>Maize 3 prime RNASeq</td>\n",
       "      <td>ftp.sra.ebi.ac.uk/vol1/fastq/SRR590/004/SRR590...</td>\n",
       "      <td>25f75be94c90a7fd90f5d80d73e05bca</td>\n",
       "      <td>L3Base</td>\n",
       "      <td>4226</td>\n",
       "    </tr>\n",
       "    <tr>\n",
       "      <th>4</th>\n",
       "      <td>SRR5909695</td>\n",
       "      <td>SAMN06764809</td>\n",
       "      <td>PRJNA383416</td>\n",
       "      <td>4577</td>\n",
       "      <td>Zea mays</td>\n",
       "      <td>NextSeq 500</td>\n",
       "      <td>RNA-Seq</td>\n",
       "      <td>6719535</td>\n",
       "      <td>6122_8601_27530_HJ7FKBGXX_KAKRNA28_L3Mid_4226_...</td>\n",
       "      <td>Maize 3 prime RNASeq</td>\n",
       "      <td>ftp.sra.ebi.ac.uk/vol1/fastq/SRR590/005/SRR590...</td>\n",
       "      <td>97136121885635a71aa418b5963fb555</td>\n",
       "      <td>L3Mid</td>\n",
       "      <td>4226</td>\n",
       "    </tr>\n",
       "  </tbody>\n",
       "</table>\n",
       "</div>"
      ],
      "text/plain": [
       "  run_accession sample_accession study_accession  tax_id scientific_name  \\\n",
       "0    SRR5909693     SAMN06764809     PRJNA383416    4577        Zea mays   \n",
       "1    SRR5909692     SAMN06764809     PRJNA383416    4577        Zea mays   \n",
       "2    SRR5909701     SAMN06764809     PRJNA383416    4577        Zea mays   \n",
       "3    SRR5909694     SAMN06764809     PRJNA383416    4577        Zea mays   \n",
       "4    SRR5909695     SAMN06764809     PRJNA383416    4577        Zea mays   \n",
       "\n",
       "  instrument_model library_strategy  read_count  \\\n",
       "0      NextSeq 500          RNA-Seq     1750117   \n",
       "1      NextSeq 500          RNA-Seq    10898114   \n",
       "2      NextSeq 500          RNA-Seq     5272706   \n",
       "3      NextSeq 500          RNA-Seq     4329387   \n",
       "4      NextSeq 500          RNA-Seq     6719535   \n",
       "\n",
       "                                           run_alias          sample_alias  \\\n",
       "0  5949_8601_26615_HK537BGXX_KAKRNA6_10346261_GRo...  Maize 3 prime RNASeq   \n",
       "1  5918_8601_26597_HLN5JBGXX_KAKRNA5_GShoot_4226_...  Maize 3 prime RNASeq   \n",
       "2  6125_8601_27527_HJ5W5BGXX_KAKRNA16_Kern_4226_T...  Maize 3 prime RNASeq   \n",
       "3  6122_8601_27530_HJ7FKBGXX_KAKRNA28_L3Base_4226...  Maize 3 prime RNASeq   \n",
       "4  6122_8601_27530_HJ7FKBGXX_KAKRNA28_L3Mid_4226_...  Maize 3 prime RNASeq   \n",
       "\n",
       "                                           fastq_ftp  \\\n",
       "0  ftp.sra.ebi.ac.uk/vol1/fastq/SRR590/003/SRR590...   \n",
       "1  ftp.sra.ebi.ac.uk/vol1/fastq/SRR590/002/SRR590...   \n",
       "2  ftp.sra.ebi.ac.uk/vol1/fastq/SRR590/001/SRR590...   \n",
       "3  ftp.sra.ebi.ac.uk/vol1/fastq/SRR590/004/SRR590...   \n",
       "4  ftp.sra.ebi.ac.uk/vol1/fastq/SRR590/005/SRR590...   \n",
       "\n",
       "                          fastq_md5 condition genotype  \n",
       "0  817569d2f8d6c2f2bd771e1da0b39a98     GRoot     4226  \n",
       "1  ea1a59a8ec2883bbc77487b180804d6d    GShoot     4226  \n",
       "2  aabfb6561a197ebee20d2f67fda29726      Kern     4226  \n",
       "3  25f75be94c90a7fd90f5d80d73e05bca    L3Base     4226  \n",
       "4  97136121885635a71aa418b5963fb555     L3Mid     4226  "
      ]
     },
     "execution_count": 4,
     "metadata": {},
     "output_type": "execute_result"
    }
   ],
   "source": [
    "annot = pd.read_csv(\"PRJNA383416_extracted_condition_genotype_selected.csv\")\n",
    "annot.head()"
   ]
  },
  {
   "cell_type": "code",
   "execution_count": 5,
   "id": "78268313",
   "metadata": {},
   "outputs": [
    {
     "name": "stdout",
     "output_type": "stream",
     "text": [
      "Total genotypes: 300\n"
     ]
    },
    {
     "name": "stderr",
     "output_type": "stream",
     "text": [
      "pigz: skipping: ramdisk/geno_kmers is a directory\n",
      "in1: 100% in2: 100% \n",
      "pigz: skipping: ramdisk/geno_kmers is a directory\n",
      "pigz: skipping: ramdisk/kmer_union0.kmc_pre does not have compressed suffix\n",
      "pigz: skipping: ramdisk/kmer_union0.kmc_suf does not have compressed suffix\n",
      "in1: 100% in2: 100% \n",
      "pigz: skipping: ramdisk/geno_kmers is a directory\n",
      "pigz: skipping: ramdisk/kmer_union1.kmc_pre does not have compressed suffix\n",
      "pigz: skipping: ramdisk/kmer_union1.kmc_suf does not have compressed suffix\n",
      "in1: 100% in2: 100% \n",
      "pigz: skipping: ramdisk/geno_kmers is a directory\n",
      "pigz: skipping: ramdisk/kmer_union0.kmc_pre does not have compressed suffix\n",
      "pigz: skipping: ramdisk/kmer_union0.kmc_suf does not have compressed suffix\n",
      "in1: 100% in2: 100% \n",
      "pigz: skipping: ramdisk/geno_kmers is a directory\n",
      "pigz: skipping: ramdisk/kmer_union1.kmc_pre does not have compressed suffix\n",
      "pigz: skipping: ramdisk/kmer_union1.kmc_suf does not have compressed suffix\n",
      "in1: 100% in2: 100% \n",
      "pigz: skipping: ramdisk/geno_kmers is a directory\n",
      "pigz: skipping: ramdisk/kmer_union0.kmc_pre does not have compressed suffix\n",
      "pigz: skipping: ramdisk/kmer_union0.kmc_suf does not have compressed suffix\n",
      "in1: 100% in2: 100% \n"
     ]
    },
    {
     "name": "stdout",
     "output_type": "stream",
     "text": [
      "Genotypes remaining: 299\n"
     ]
    },
    {
     "name": "stderr",
     "output_type": "stream",
     "text": [
      "pigz: skipping: ramdisk/geno_kmers is a directory\n",
      "in1: 100% in2: 100% \n",
      "pigz: skipping: ramdisk/geno_kmers is a directory\n",
      "pigz: skipping: ramdisk/kmer_union0.kmc_pre does not have compressed suffix\n",
      "pigz: skipping: ramdisk/kmer_union0.kmc_suf does not have compressed suffix\n",
      "in1: 100% in2: 100% \n",
      "pigz: skipping: ramdisk/geno_kmers is a directory\n",
      "pigz: skipping: ramdisk/kmer_union1.kmc_pre does not have compressed suffix\n",
      "pigz: skipping: ramdisk/kmer_union1.kmc_suf does not have compressed suffix\n",
      "in1: 100% in2: 100% \n",
      "pigz: skipping: ramdisk/geno_kmers is a directory\n",
      "pigz: skipping: ramdisk/kmer_union0.kmc_pre does not have compressed suffix\n",
      "pigz: skipping: ramdisk/kmer_union0.kmc_suf does not have compressed suffix\n",
      "in1: 100% in2: 100% \n",
      "pigz: skipping: ramdisk/geno_kmers is a directory\n",
      "pigz: skipping: ramdisk/kmer_union1.kmc_pre does not have compressed suffix\n",
      "pigz: skipping: ramdisk/kmer_union1.kmc_suf does not have compressed suffix\n",
      "in1: 100% in2: 100% \n",
      "pigz: skipping: ramdisk/geno_kmers is a directory\n",
      "pigz: skipping: ramdisk/kmer_union0.kmc_pre does not have compressed suffix\n",
      "pigz: skipping: ramdisk/kmer_union0.kmc_suf does not have compressed suffix\n",
      "in1: 100% in2: 100% \n"
     ]
    },
    {
     "name": "stdout",
     "output_type": "stream",
     "text": [
      "Genotypes remaining: 298\n"
     ]
    },
    {
     "name": "stderr",
     "output_type": "stream",
     "text": [
      "pigz: skipping: ramdisk/geno_kmers is a directory\n",
      "in1: 100% in2: 100% \n",
      "pigz: skipping: ramdisk/geno_kmers is a directory\n",
      "pigz: skipping: ramdisk/kmer_union0.kmc_pre does not have compressed suffix\n",
      "pigz: skipping: ramdisk/kmer_union0.kmc_suf does not have compressed suffix\n",
      "in1: 100% in2: 100% \n",
      "pigz: skipping: ramdisk/geno_kmers is a directory\n",
      "pigz: skipping: ramdisk/kmer_union1.kmc_pre does not have compressed suffix\n",
      "pigz: skipping: ramdisk/kmer_union1.kmc_suf does not have compressed suffix\n",
      "in1: 100% in2: 100% \n"
     ]
    },
    {
     "name": "stdout",
     "output_type": "stream",
     "text": [
      "Genotypes remaining: 297\n"
     ]
    },
    {
     "name": "stderr",
     "output_type": "stream",
     "text": [
      "pigz: skipping: ramdisk/geno_kmers is a directory\n",
      "in1: 100% in2: 100% \n",
      "pigz: skipping: ramdisk/geno_kmers is a directory\n",
      "pigz: skipping: ramdisk/kmer_union0.kmc_pre does not have compressed suffix\n",
      "pigz: skipping: ramdisk/kmer_union0.kmc_suf does not have compressed suffix\n",
      "in1: 100% in2: 100% \n",
      "pigz: skipping: ramdisk/geno_kmers is a directory\n",
      "pigz: skipping: ramdisk/kmer_union1.kmc_pre does not have compressed suffix\n",
      "pigz: skipping: ramdisk/kmer_union1.kmc_suf does not have compressed suffix\n",
      "in1: 100% in2: 100% \n",
      "pigz: skipping: ramdisk/geno_kmers is a directory\n",
      "pigz: skipping: ramdisk/kmer_union0.kmc_pre does not have compressed suffix\n",
      "pigz: skipping: ramdisk/kmer_union0.kmc_suf does not have compressed suffix\n",
      "in1: 100% in2: 100% \n",
      "pigz: skipping: ramdisk/geno_kmers is a directory\n",
      "pigz: skipping: ramdisk/kmer_union1.kmc_pre does not have compressed suffix\n",
      "pigz: skipping: ramdisk/kmer_union1.kmc_suf does not have compressed suffix\n",
      "in1: 100% in2: 100% \n",
      "pigz: skipping: ramdisk/geno_kmers is a directory\n",
      "pigz: skipping: ramdisk/kmer_union0.kmc_pre does not have compressed suffix\n",
      "pigz: skipping: ramdisk/kmer_union0.kmc_suf does not have compressed suffix\n",
      "in1: 100% in2: 100% \n"
     ]
    },
    {
     "name": "stdout",
     "output_type": "stream",
     "text": [
      "Genotypes remaining: 296\n"
     ]
    },
    {
     "name": "stderr",
     "output_type": "stream",
     "text": [
      "pigz: skipping: ramdisk/geno_kmers is a directory\n",
      "in1: 100% in2: 100% \n",
      "pigz: skipping: ramdisk/geno_kmers is a directory\n",
      "pigz: skipping: ramdisk/kmer_union0.kmc_pre does not have compressed suffix\n",
      "pigz: skipping: ramdisk/kmer_union0.kmc_suf does not have compressed suffix\n",
      "in1: 100% in2: 100% \n"
     ]
    },
    {
     "name": "stdout",
     "output_type": "stream",
     "text": [
      "Genotypes remaining: 295\n"
     ]
    },
    {
     "name": "stderr",
     "output_type": "stream",
     "text": [
      "pigz: skipping: ramdisk/geno_kmers is a directory\n",
      "in1: 100% in2: 100% \n",
      "pigz: skipping: ramdisk/geno_kmers is a directory\n",
      "pigz: skipping: ramdisk/kmer_union0.kmc_pre does not have compressed suffix\n",
      "pigz: skipping: ramdisk/kmer_union0.kmc_suf does not have compressed suffix\n",
      "in1: 100% in2: 100% \n",
      "pigz: skipping: ramdisk/geno_kmers is a directory\n",
      "pigz: skipping: ramdisk/kmer_union1.kmc_pre does not have compressed suffix\n",
      "pigz: skipping: ramdisk/kmer_union1.kmc_suf does not have compressed suffix\n",
      "in1: 100% in2: 100% \n",
      "pigz: skipping: ramdisk/geno_kmers is a directory\n",
      "pigz: skipping: ramdisk/kmer_union0.kmc_pre does not have compressed suffix\n",
      "pigz: skipping: ramdisk/kmer_union0.kmc_suf does not have compressed suffix\n",
      "in1: 100% in2: 100% \n"
     ]
    },
    {
     "name": "stdout",
     "output_type": "stream",
     "text": [
      "Genotypes remaining: 294\n"
     ]
    },
    {
     "name": "stderr",
     "output_type": "stream",
     "text": [
      "pigz: skipping: ramdisk/geno_kmers is a directory\n"
     ]
    },
    {
     "name": "stdout",
     "output_type": "stream",
     "text": [
      "Genotypes remaining: 293\n"
     ]
    },
    {
     "name": "stderr",
     "output_type": "stream",
     "text": [
      "pigz: skipping: ramdisk/geno_kmers is a directory\n",
      "in1: 100% in2: 100% \n",
      "pigz: skipping: ramdisk/geno_kmers is a directory\n",
      "pigz: skipping: ramdisk/kmer_union0.kmc_pre does not have compressed suffix\n",
      "pigz: skipping: ramdisk/kmer_union0.kmc_suf does not have compressed suffix\n",
      "in1: 100% in2: 100% \n",
      "pigz: skipping: ramdisk/geno_kmers is a directory\n",
      "pigz: skipping: ramdisk/kmer_union1.kmc_pre does not have compressed suffix\n",
      "pigz: skipping: ramdisk/kmer_union1.kmc_suf does not have compressed suffix\n",
      "in1: 100% in2: 100% \n",
      "pigz: skipping: ramdisk/geno_kmers is a directory\n",
      "pigz: skipping: ramdisk/kmer_union0.kmc_pre does not have compressed suffix\n",
      "pigz: skipping: ramdisk/kmer_union0.kmc_suf does not have compressed suffix\n",
      "in1: 100% in2: 100% \n",
      "pigz: skipping: ramdisk/geno_kmers is a directory\n",
      "pigz: skipping: ramdisk/kmer_union1.kmc_pre does not have compressed suffix\n",
      "pigz: skipping: ramdisk/kmer_union1.kmc_suf does not have compressed suffix\n",
      "in1: 100% in2: 100% \n"
     ]
    },
    {
     "name": "stdout",
     "output_type": "stream",
     "text": [
      "Genotypes remaining: 292\n"
     ]
    },
    {
     "name": "stderr",
     "output_type": "stream",
     "text": [
      "pigz: skipping: ramdisk/geno_kmers is a directory\n",
      "in1: 100% in2: 100% \n",
      "pigz: skipping: ramdisk/geno_kmers is a directory\n",
      "pigz: skipping: ramdisk/kmer_union0.kmc_pre does not have compressed suffix\n",
      "pigz: skipping: ramdisk/kmer_union0.kmc_suf does not have compressed suffix\n",
      "in1: 100% in2: 100% \n",
      "pigz: skipping: ramdisk/geno_kmers is a directory\n",
      "pigz: skipping: ramdisk/kmer_union1.kmc_pre does not have compressed suffix\n",
      "pigz: skipping: ramdisk/kmer_union1.kmc_suf does not have compressed suffix\n",
      "in1: 100% in2: 100% \n",
      "pigz: skipping: ramdisk/geno_kmers is a directory\n",
      "pigz: skipping: ramdisk/kmer_union0.kmc_pre does not have compressed suffix\n",
      "pigz: skipping: ramdisk/kmer_union0.kmc_suf does not have compressed suffix\n",
      "in1: 100% in2: 100% \n",
      "pigz: skipping: ramdisk/geno_kmers is a directory\n",
      "pigz: skipping: ramdisk/kmer_union1.kmc_pre does not have compressed suffix\n",
      "pigz: skipping: ramdisk/kmer_union1.kmc_suf does not have compressed suffix\n",
      "in1: 100% in2: 100% \n"
     ]
    },
    {
     "name": "stdout",
     "output_type": "stream",
     "text": [
      "Genotypes remaining: 291\n"
     ]
    },
    {
     "name": "stderr",
     "output_type": "stream",
     "text": [
      "pigz: skipping: ramdisk/geno_kmers is a directory\n",
      "in1: 100% in2: 100% \n",
      "pigz: skipping: ramdisk/geno_kmers is a directory\n",
      "pigz: skipping: ramdisk/kmer_union0.kmc_pre does not have compressed suffix\n",
      "pigz: skipping: ramdisk/kmer_union0.kmc_suf does not have compressed suffix\n",
      "in1: 100% in2: 100% \n",
      "pigz: skipping: ramdisk/geno_kmers is a directory\n",
      "pigz: skipping: ramdisk/kmer_union1.kmc_pre does not have compressed suffix\n",
      "pigz: skipping: ramdisk/kmer_union1.kmc_suf does not have compressed suffix\n",
      "in1: 100% in2: 100% % in2: 59% \n",
      "pigz: skipping: ramdisk/geno_kmers is a directory\n",
      "pigz: skipping: ramdisk/kmer_union0.kmc_pre does not have compressed suffix\n",
      "pigz: skipping: ramdisk/kmer_union0.kmc_suf does not have compressed suffix\n",
      "in1: 100% in2: 100% \n",
      "pigz: skipping: ramdisk/geno_kmers is a directory\n",
      "pigz: skipping: ramdisk/kmer_union1.kmc_pre does not have compressed suffix\n",
      "pigz: skipping: ramdisk/kmer_union1.kmc_suf does not have compressed suffix\n",
      "in1: 100% in2: 100% \n",
      "pigz: skipping: ramdisk/geno_kmers is a directory\n",
      "pigz: skipping: ramdisk/kmer_union0.kmc_pre does not have compressed suffix\n",
      "pigz: skipping: ramdisk/kmer_union0.kmc_suf does not have compressed suffix\n",
      "in1: 100% in2: 100% \n"
     ]
    },
    {
     "name": "stdout",
     "output_type": "stream",
     "text": [
      "Genotypes remaining: 290\n"
     ]
    },
    {
     "name": "stderr",
     "output_type": "stream",
     "text": [
      "pigz: skipping: ramdisk/geno_kmers is a directory\n",
      "in1: 100% in2: 100% \n",
      "pigz: skipping: ramdisk/geno_kmers is a directory\n",
      "pigz: skipping: ramdisk/kmer_union0.kmc_pre does not have compressed suffix\n",
      "pigz: skipping: ramdisk/kmer_union0.kmc_suf does not have compressed suffix\n",
      "in1: 100% in2: 100% \n",
      "pigz: skipping: ramdisk/geno_kmers is a directory\n",
      "pigz: skipping: ramdisk/kmer_union1.kmc_pre does not have compressed suffix\n",
      "pigz: skipping: ramdisk/kmer_union1.kmc_suf does not have compressed suffix\n",
      "in1: 100% in2: 100% \n",
      "pigz: skipping: ramdisk/geno_kmers is a directory\n",
      "pigz: skipping: ramdisk/kmer_union0.kmc_pre does not have compressed suffix\n",
      "pigz: skipping: ramdisk/kmer_union0.kmc_suf does not have compressed suffix\n",
      "in1: 100% in2: 100% \n",
      "pigz: skipping: ramdisk/geno_kmers is a directory\n",
      "pigz: skipping: ramdisk/kmer_union1.kmc_pre does not have compressed suffix\n",
      "pigz: skipping: ramdisk/kmer_union1.kmc_suf does not have compressed suffix\n",
      "in1: 100% in2: 100% \n",
      "pigz: skipping: ramdisk/geno_kmers is a directory\n",
      "pigz: skipping: ramdisk/kmer_union0.kmc_pre does not have compressed suffix\n",
      "pigz: skipping: ramdisk/kmer_union0.kmc_suf does not have compressed suffix\n",
      "in1: 100% in2: 100% \n"
     ]
    },
    {
     "name": "stdout",
     "output_type": "stream",
     "text": [
      "Genotypes remaining: 289\n"
     ]
    },
    {
     "name": "stderr",
     "output_type": "stream",
     "text": [
      "pigz: skipping: ramdisk/geno_kmers is a directory\n",
      "in1: 100% in2: 100% \n",
      "pigz: skipping: ramdisk/geno_kmers is a directory\n",
      "pigz: skipping: ramdisk/kmer_union0.kmc_pre does not have compressed suffix\n",
      "pigz: skipping: ramdisk/kmer_union0.kmc_suf does not have compressed suffix\n",
      "in1: 100% in2: 100% 2: 89% \n",
      "pigz: skipping: ramdisk/geno_kmers is a directory\n",
      "pigz: skipping: ramdisk/kmer_union1.kmc_pre does not have compressed suffix\n",
      "pigz: skipping: ramdisk/kmer_union1.kmc_suf does not have compressed suffix\n",
      "in1: 100% in2: 100% \n",
      "pigz: skipping: ramdisk/geno_kmers is a directory\n",
      "pigz: skipping: ramdisk/kmer_union0.kmc_pre does not have compressed suffix\n",
      "pigz: skipping: ramdisk/kmer_union0.kmc_suf does not have compressed suffix\n",
      "in1: 100% in2: 100% \n",
      "pigz: skipping: ramdisk/geno_kmers is a directory\n",
      "pigz: skipping: ramdisk/kmer_union1.kmc_pre does not have compressed suffix\n",
      "pigz: skipping: ramdisk/kmer_union1.kmc_suf does not have compressed suffix\n",
      "in1: 100% in2: 100% \n",
      "pigz: skipping: ramdisk/geno_kmers is a directory\n",
      "pigz: skipping: ramdisk/kmer_union0.kmc_pre does not have compressed suffix\n",
      "pigz: skipping: ramdisk/kmer_union0.kmc_suf does not have compressed suffix\n",
      "in1: 100% in2: 100% \n"
     ]
    },
    {
     "name": "stdout",
     "output_type": "stream",
     "text": [
      "Genotypes remaining: 288\n"
     ]
    },
    {
     "name": "stderr",
     "output_type": "stream",
     "text": [
      "pigz: skipping: ramdisk/geno_kmers is a directory\n",
      "in1: 100% in2: 100% \n",
      "pigz: skipping: ramdisk/geno_kmers is a directory\n",
      "pigz: skipping: ramdisk/kmer_union0.kmc_pre does not have compressed suffix\n",
      "pigz: skipping: ramdisk/kmer_union0.kmc_suf does not have compressed suffix\n",
      "in1: 100% in2: 100% \n",
      "pigz: skipping: ramdisk/geno_kmers is a directory\n",
      "pigz: skipping: ramdisk/kmer_union1.kmc_pre does not have compressed suffix\n",
      "pigz: skipping: ramdisk/kmer_union1.kmc_suf does not have compressed suffix\n",
      "in1: 100% in2: 100% \n",
      "pigz: skipping: ramdisk/geno_kmers is a directory\n",
      "pigz: skipping: ramdisk/kmer_union0.kmc_pre does not have compressed suffix\n",
      "pigz: skipping: ramdisk/kmer_union0.kmc_suf does not have compressed suffix\n",
      "in1: 100% in2: 100% \n",
      "pigz: skipping: ramdisk/geno_kmers is a directory\n",
      "pigz: skipping: ramdisk/kmer_union1.kmc_pre does not have compressed suffix\n",
      "pigz: skipping: ramdisk/kmer_union1.kmc_suf does not have compressed suffix\n",
      "in1: 100% in2: 100% \n",
      "pigz: skipping: ramdisk/geno_kmers is a directory\n",
      "pigz: skipping: ramdisk/kmer_union0.kmc_pre does not have compressed suffix\n",
      "pigz: skipping: ramdisk/kmer_union0.kmc_suf does not have compressed suffix\n",
      "in1: 100% in2: 100% \n"
     ]
    },
    {
     "name": "stdout",
     "output_type": "stream",
     "text": [
      "Genotypes remaining: 287\n"
     ]
    },
    {
     "name": "stderr",
     "output_type": "stream",
     "text": [
      "pigz: skipping: ramdisk/geno_kmers is a directory\n",
      "in1: 100% in2: 100% \n",
      "pigz: skipping: ramdisk/geno_kmers is a directory\n",
      "pigz: skipping: ramdisk/kmer_union0.kmc_pre does not have compressed suffix\n",
      "pigz: skipping: ramdisk/kmer_union0.kmc_suf does not have compressed suffix\n",
      "in1: 100% in2: 100% \n",
      "pigz: skipping: ramdisk/geno_kmers is a directory\n",
      "pigz: skipping: ramdisk/kmer_union1.kmc_pre does not have compressed suffix\n",
      "pigz: skipping: ramdisk/kmer_union1.kmc_suf does not have compressed suffix\n",
      "in1: 100% in2: 100% \n",
      "pigz: skipping: ramdisk/geno_kmers is a directory\n",
      "pigz: skipping: ramdisk/kmer_union0.kmc_pre does not have compressed suffix\n",
      "pigz: skipping: ramdisk/kmer_union0.kmc_suf does not have compressed suffix\n",
      "in1: 100% in2: 100% \n",
      "pigz: skipping: ramdisk/geno_kmers is a directory\n",
      "pigz: skipping: ramdisk/kmer_union1.kmc_pre does not have compressed suffix\n",
      "pigz: skipping: ramdisk/kmer_union1.kmc_suf does not have compressed suffix\n",
      "in1: 100% in2: 100% \n",
      "pigz: skipping: ramdisk/geno_kmers is a directory\n",
      "pigz: skipping: ramdisk/kmer_union0.kmc_pre does not have compressed suffix\n",
      "pigz: skipping: ramdisk/kmer_union0.kmc_suf does not have compressed suffix\n",
      "in1: 100% in2: 100% \n"
     ]
    },
    {
     "name": "stdout",
     "output_type": "stream",
     "text": [
      "Genotypes remaining: 286\n"
     ]
    },
    {
     "name": "stderr",
     "output_type": "stream",
     "text": [
      "pigz: skipping: ramdisk/geno_kmers is a directory\n",
      "in1: 100% in2: 100% \n",
      "pigz: skipping: ramdisk/geno_kmers is a directory\n",
      "pigz: skipping: ramdisk/kmer_union0.kmc_pre does not have compressed suffix\n",
      "pigz: skipping: ramdisk/kmer_union0.kmc_suf does not have compressed suffix\n",
      "in1: 100% in2: 100% \n",
      "pigz: skipping: ramdisk/geno_kmers is a directory\n",
      "pigz: skipping: ramdisk/kmer_union1.kmc_pre does not have compressed suffix\n",
      "pigz: skipping: ramdisk/kmer_union1.kmc_suf does not have compressed suffix\n",
      "in1: 100% in2: 100% \n",
      "pigz: skipping: ramdisk/geno_kmers is a directory\n",
      "pigz: skipping: ramdisk/kmer_union0.kmc_pre does not have compressed suffix\n",
      "pigz: skipping: ramdisk/kmer_union0.kmc_suf does not have compressed suffix\n",
      "in1: 100% in2: 100% \n"
     ]
    },
    {
     "name": "stdout",
     "output_type": "stream",
     "text": [
      "Genotypes remaining: 285\n"
     ]
    },
    {
     "name": "stderr",
     "output_type": "stream",
     "text": [
      "pigz: skipping: ramdisk/geno_kmers is a directory\n",
      "in1: 100% in2: 100% \n",
      "pigz: skipping: ramdisk/geno_kmers is a directory\n",
      "pigz: skipping: ramdisk/kmer_union0.kmc_pre does not have compressed suffix\n",
      "pigz: skipping: ramdisk/kmer_union0.kmc_suf does not have compressed suffix\n",
      "in1: 100% in2: 100% \n",
      "pigz: skipping: ramdisk/geno_kmers is a directory\n",
      "pigz: skipping: ramdisk/kmer_union1.kmc_pre does not have compressed suffix\n",
      "pigz: skipping: ramdisk/kmer_union1.kmc_suf does not have compressed suffix\n",
      "in1: 100% in2: 100% \n",
      "pigz: skipping: ramdisk/geno_kmers is a directory\n",
      "pigz: skipping: ramdisk/kmer_union0.kmc_pre does not have compressed suffix\n",
      "pigz: skipping: ramdisk/kmer_union0.kmc_suf does not have compressed suffix\n",
      "in1: 100% in2: 100% \n",
      "pigz: skipping: ramdisk/geno_kmers is a directory\n",
      "pigz: skipping: ramdisk/kmer_union1.kmc_pre does not have compressed suffix\n",
      "pigz: skipping: ramdisk/kmer_union1.kmc_suf does not have compressed suffix\n",
      "in1: 100% in2: 100% \n",
      "pigz: skipping: ramdisk/geno_kmers is a directory\n",
      "pigz: skipping: ramdisk/kmer_union0.kmc_pre does not have compressed suffix\n",
      "pigz: skipping: ramdisk/kmer_union0.kmc_suf does not have compressed suffix\n",
      "in1: 100% in2: 100% \n",
      "pigz: skipping: ramdisk/geno_kmers is a directory\n",
      "pigz: skipping: ramdisk/kmer_union1.kmc_pre does not have compressed suffix\n",
      "pigz: skipping: ramdisk/kmer_union1.kmc_suf does not have compressed suffix\n",
      "in1: 100% in2: 100% \n"
     ]
    },
    {
     "name": "stdout",
     "output_type": "stream",
     "text": [
      "Genotypes remaining: 284\n"
     ]
    },
    {
     "name": "stderr",
     "output_type": "stream",
     "text": [
      "pigz: skipping: ramdisk/geno_kmers is a directory\n",
      "in1: 100% in2: 100% \n",
      "pigz: skipping: ramdisk/geno_kmers is a directory\n",
      "pigz: skipping: ramdisk/kmer_union0.kmc_pre does not have compressed suffix\n",
      "pigz: skipping: ramdisk/kmer_union0.kmc_suf does not have compressed suffix\n",
      "in1: 100% in2: 100% \n",
      "pigz: skipping: ramdisk/geno_kmers is a directory\n",
      "pigz: skipping: ramdisk/kmer_union1.kmc_pre does not have compressed suffix\n",
      "pigz: skipping: ramdisk/kmer_union1.kmc_suf does not have compressed suffix\n",
      "in1: 100% in2: 100% \n",
      "pigz: skipping: ramdisk/geno_kmers is a directory\n",
      "pigz: skipping: ramdisk/kmer_union0.kmc_pre does not have compressed suffix\n",
      "pigz: skipping: ramdisk/kmer_union0.kmc_suf does not have compressed suffix\n",
      "in1: 100% in2: 100% \n",
      "pigz: skipping: ramdisk/geno_kmers is a directory\n",
      "pigz: skipping: ramdisk/kmer_union1.kmc_pre does not have compressed suffix\n",
      "pigz: skipping: ramdisk/kmer_union1.kmc_suf does not have compressed suffix\n",
      "in1: 100% in2: 100% \n",
      "pigz: skipping: ramdisk/geno_kmers is a directory\n",
      "pigz: skipping: ramdisk/kmer_union0.kmc_pre does not have compressed suffix\n",
      "pigz: skipping: ramdisk/kmer_union0.kmc_suf does not have compressed suffix\n",
      "in1: 100% in2: 100% \n"
     ]
    },
    {
     "name": "stdout",
     "output_type": "stream",
     "text": [
      "Genotypes remaining: 283\n"
     ]
    },
    {
     "name": "stderr",
     "output_type": "stream",
     "text": [
      "pigz: skipping: ramdisk/geno_kmers is a directory\n",
      "in1: 100% in2: 100% \n",
      "pigz: skipping: ramdisk/geno_kmers is a directory\n",
      "pigz: skipping: ramdisk/kmer_union0.kmc_pre does not have compressed suffix\n",
      "pigz: skipping: ramdisk/kmer_union0.kmc_suf does not have compressed suffix\n",
      "in1: 100% in2: 100% \n",
      "pigz: skipping: ramdisk/geno_kmers is a directory\n",
      "pigz: skipping: ramdisk/kmer_union1.kmc_pre does not have compressed suffix\n",
      "pigz: skipping: ramdisk/kmer_union1.kmc_suf does not have compressed suffix\n",
      "in1: 100% in2: 100% \n",
      "pigz: skipping: ramdisk/geno_kmers is a directory\n",
      "pigz: skipping: ramdisk/kmer_union0.kmc_pre does not have compressed suffix\n",
      "pigz: skipping: ramdisk/kmer_union0.kmc_suf does not have compressed suffix\n",
      "in1: 100% in2: 100% \n",
      "pigz: skipping: ramdisk/geno_kmers is a directory\n",
      "pigz: skipping: ramdisk/kmer_union1.kmc_pre does not have compressed suffix\n",
      "pigz: skipping: ramdisk/kmer_union1.kmc_suf does not have compressed suffix\n",
      "in1: 100% in2: 100% \n",
      "pigz: skipping: ramdisk/geno_kmers is a directory\n",
      "pigz: skipping: ramdisk/kmer_union0.kmc_pre does not have compressed suffix\n",
      "pigz: skipping: ramdisk/kmer_union0.kmc_suf does not have compressed suffix\n",
      "in1: 100% in2: 100% \n",
      "pigz: skipping: ramdisk/geno_kmers is a directory\n",
      "pigz: skipping: ramdisk/kmer_union1.kmc_pre does not have compressed suffix\n",
      "pigz: skipping: ramdisk/kmer_union1.kmc_suf does not have compressed suffix\n",
      "in1: 100% in2: 100% \n"
     ]
    },
    {
     "name": "stdout",
     "output_type": "stream",
     "text": [
      "Genotypes remaining: 282\n"
     ]
    },
    {
     "name": "stderr",
     "output_type": "stream",
     "text": [
      "pigz: skipping: ramdisk/geno_kmers is a directory\n",
      "in1: 100% in2: 100% \n",
      "pigz: skipping: ramdisk/geno_kmers is a directory\n",
      "pigz: skipping: ramdisk/kmer_union0.kmc_pre does not have compressed suffix\n",
      "pigz: skipping: ramdisk/kmer_union0.kmc_suf does not have compressed suffix\n",
      "in1: 100% in2: 100% \n",
      "pigz: skipping: ramdisk/geno_kmers is a directory\n",
      "pigz: skipping: ramdisk/kmer_union1.kmc_pre does not have compressed suffix\n",
      "pigz: skipping: ramdisk/kmer_union1.kmc_suf does not have compressed suffix\n",
      "in1: 100% in2: 100% \n",
      "pigz: skipping: ramdisk/geno_kmers is a directory\n",
      "pigz: skipping: ramdisk/kmer_union0.kmc_pre does not have compressed suffix\n",
      "pigz: skipping: ramdisk/kmer_union0.kmc_suf does not have compressed suffix\n",
      "in1: 100% in2: 100% \n",
      "pigz: skipping: ramdisk/geno_kmers is a directory\n",
      "pigz: skipping: ramdisk/kmer_union1.kmc_pre does not have compressed suffix\n",
      "pigz: skipping: ramdisk/kmer_union1.kmc_suf does not have compressed suffix\n",
      "in1: 100% in2: 100% \n"
     ]
    },
    {
     "name": "stdout",
     "output_type": "stream",
     "text": [
      "Genotypes remaining: 281\n"
     ]
    },
    {
     "name": "stderr",
     "output_type": "stream",
     "text": [
      "pigz: skipping: ramdisk/geno_kmers is a directory\n",
      "in1: 100% in2: 100% \n",
      "pigz: skipping: ramdisk/geno_kmers is a directory\n",
      "pigz: skipping: ramdisk/kmer_union0.kmc_pre does not have compressed suffix\n",
      "pigz: skipping: ramdisk/kmer_union0.kmc_suf does not have compressed suffix\n",
      "in1: 100% in2: 100% \n",
      "pigz: skipping: ramdisk/geno_kmers is a directory\n",
      "pigz: skipping: ramdisk/kmer_union1.kmc_pre does not have compressed suffix\n",
      "pigz: skipping: ramdisk/kmer_union1.kmc_suf does not have compressed suffix\n",
      "in1: 100% in2: 100% \n",
      "pigz: skipping: ramdisk/geno_kmers is a directory\n",
      "pigz: skipping: ramdisk/kmer_union0.kmc_pre does not have compressed suffix\n",
      "pigz: skipping: ramdisk/kmer_union0.kmc_suf does not have compressed suffix\n",
      "in1: 100% in2: 100% \n",
      "pigz: skipping: ramdisk/geno_kmers is a directory\n",
      "pigz: skipping: ramdisk/kmer_union1.kmc_pre does not have compressed suffix\n",
      "pigz: skipping: ramdisk/kmer_union1.kmc_suf does not have compressed suffix\n",
      "in1: 100% in2: 100% \n",
      "pigz: skipping: ramdisk/geno_kmers is a directory\n",
      "pigz: skipping: ramdisk/kmer_union0.kmc_pre does not have compressed suffix\n",
      "pigz: skipping: ramdisk/kmer_union0.kmc_suf does not have compressed suffix\n",
      "in1: 100% in2: 100% \n",
      "pigz: skipping: ramdisk/geno_kmers is a directory\n",
      "pigz: skipping: ramdisk/kmer_union1.kmc_pre does not have compressed suffix\n",
      "pigz: skipping: ramdisk/kmer_union1.kmc_suf does not have compressed suffix\n",
      "in1: 100% in2: 100% \n",
      "pigz: skipping: ramdisk/geno_kmers is a directory\n",
      "pigz: skipping: ramdisk/kmer_union0.kmc_pre does not have compressed suffix\n",
      "pigz: skipping: ramdisk/kmer_union0.kmc_suf does not have compressed suffix\n",
      "in1: 100% in2: 100% \n"
     ]
    },
    {
     "name": "stdout",
     "output_type": "stream",
     "text": [
      "Genotypes remaining: 280\n"
     ]
    },
    {
     "name": "stderr",
     "output_type": "stream",
     "text": [
      "pigz: skipping: ramdisk/geno_kmers is a directory\n",
      "in1: 100% in2: 100% \n",
      "pigz: skipping: ramdisk/geno_kmers is a directory\n",
      "pigz: skipping: ramdisk/kmer_union0.kmc_pre does not have compressed suffix\n",
      "pigz: skipping: ramdisk/kmer_union0.kmc_suf does not have compressed suffix\n",
      "in1: 100% in2: 100% \n",
      "pigz: skipping: ramdisk/geno_kmers is a directory\n",
      "pigz: skipping: ramdisk/kmer_union1.kmc_pre does not have compressed suffix\n",
      "pigz: skipping: ramdisk/kmer_union1.kmc_suf does not have compressed suffix\n",
      "in1: 100% in2: 100% \n",
      "pigz: skipping: ramdisk/geno_kmers is a directory\n",
      "pigz: skipping: ramdisk/kmer_union0.kmc_pre does not have compressed suffix\n",
      "pigz: skipping: ramdisk/kmer_union0.kmc_suf does not have compressed suffix\n",
      "in1: 100% in2: 100% \n",
      "pigz: skipping: ramdisk/geno_kmers is a directory\n",
      "pigz: skipping: ramdisk/kmer_union1.kmc_pre does not have compressed suffix\n",
      "pigz: skipping: ramdisk/kmer_union1.kmc_suf does not have compressed suffix\n",
      "in1: 100% in2: 100% \n",
      "pigz: skipping: ramdisk/geno_kmers is a directory\n",
      "pigz: skipping: ramdisk/kmer_union0.kmc_pre does not have compressed suffix\n",
      "pigz: skipping: ramdisk/kmer_union0.kmc_suf does not have compressed suffix\n",
      "in1: 100% in2: 100% \n"
     ]
    },
    {
     "name": "stdout",
     "output_type": "stream",
     "text": [
      "Genotypes remaining: 279\n"
     ]
    },
    {
     "name": "stderr",
     "output_type": "stream",
     "text": [
      "pigz: skipping: ramdisk/geno_kmers is a directory\n",
      "in1: 100% in2: 100% \n",
      "pigz: skipping: ramdisk/geno_kmers is a directory\n",
      "pigz: skipping: ramdisk/kmer_union0.kmc_pre does not have compressed suffix\n",
      "pigz: skipping: ramdisk/kmer_union0.kmc_suf does not have compressed suffix\n",
      "in1: 100% in2: 100% \n",
      "pigz: skipping: ramdisk/geno_kmers is a directory\n",
      "pigz: skipping: ramdisk/kmer_union1.kmc_pre does not have compressed suffix\n",
      "pigz: skipping: ramdisk/kmer_union1.kmc_suf does not have compressed suffix\n",
      "in1: 100% in2: 100% \n",
      "pigz: skipping: ramdisk/geno_kmers is a directory\n",
      "pigz: skipping: ramdisk/kmer_union0.kmc_pre does not have compressed suffix\n",
      "pigz: skipping: ramdisk/kmer_union0.kmc_suf does not have compressed suffix\n",
      "in1: 100% in2: 100% \n",
      "pigz: skipping: ramdisk/geno_kmers is a directory\n",
      "pigz: skipping: ramdisk/kmer_union1.kmc_pre does not have compressed suffix\n",
      "pigz: skipping: ramdisk/kmer_union1.kmc_suf does not have compressed suffix\n",
      "in1: 100% in2: 100% \n",
      "pigz: skipping: ramdisk/geno_kmers is a directory\n",
      "pigz: skipping: ramdisk/kmer_union0.kmc_pre does not have compressed suffix\n",
      "pigz: skipping: ramdisk/kmer_union0.kmc_suf does not have compressed suffix\n",
      "in1: 100% in2: 100% \n"
     ]
    },
    {
     "name": "stdout",
     "output_type": "stream",
     "text": [
      "Genotypes remaining: 278\n"
     ]
    },
    {
     "name": "stderr",
     "output_type": "stream",
     "text": [
      "pigz: skipping: ramdisk/geno_kmers is a directory\n",
      "in1: 100% in2: 100% \n",
      "pigz: skipping: ramdisk/geno_kmers is a directory\n",
      "pigz: skipping: ramdisk/kmer_union0.kmc_pre does not have compressed suffix\n",
      "pigz: skipping: ramdisk/kmer_union0.kmc_suf does not have compressed suffix\n",
      "in1: 100% in2: 100% \n",
      "pigz: skipping: ramdisk/geno_kmers is a directory\n",
      "pigz: skipping: ramdisk/kmer_union1.kmc_pre does not have compressed suffix\n",
      "pigz: skipping: ramdisk/kmer_union1.kmc_suf does not have compressed suffix\n",
      "in1: 100% in2: 100% \n",
      "pigz: skipping: ramdisk/geno_kmers is a directory\n",
      "pigz: skipping: ramdisk/kmer_union0.kmc_pre does not have compressed suffix\n",
      "pigz: skipping: ramdisk/kmer_union0.kmc_suf does not have compressed suffix\n",
      "in1: 100% in2: 100% \n",
      "pigz: skipping: ramdisk/geno_kmers is a directory\n",
      "pigz: skipping: ramdisk/kmer_union1.kmc_pre does not have compressed suffix\n",
      "pigz: skipping: ramdisk/kmer_union1.kmc_suf does not have compressed suffix\n",
      "in1: 100% in2: 100% in2: 79% \n",
      "pigz: skipping: ramdisk/geno_kmers is a directory\n",
      "pigz: skipping: ramdisk/kmer_union0.kmc_pre does not have compressed suffix\n",
      "pigz: skipping: ramdisk/kmer_union0.kmc_suf does not have compressed suffix\n",
      "in1: 100% in2: 100% \n"
     ]
    },
    {
     "name": "stdout",
     "output_type": "stream",
     "text": [
      "Genotypes remaining: 277\n"
     ]
    },
    {
     "name": "stderr",
     "output_type": "stream",
     "text": [
      "pigz: skipping: ramdisk/geno_kmers is a directory\n",
      "in1: 100% in2: 100% \n",
      "pigz: skipping: ramdisk/geno_kmers is a directory\n",
      "pigz: skipping: ramdisk/kmer_union0.kmc_pre does not have compressed suffix\n",
      "pigz: skipping: ramdisk/kmer_union0.kmc_suf does not have compressed suffix\n",
      "in1: 100% in2: 100% \n",
      "pigz: skipping: ramdisk/geno_kmers is a directory\n",
      "pigz: skipping: ramdisk/kmer_union1.kmc_pre does not have compressed suffix\n",
      "pigz: skipping: ramdisk/kmer_union1.kmc_suf does not have compressed suffix\n",
      "in1: 100% in2: 100% \n",
      "pigz: skipping: ramdisk/geno_kmers is a directory\n",
      "pigz: skipping: ramdisk/kmer_union0.kmc_pre does not have compressed suffix\n",
      "pigz: skipping: ramdisk/kmer_union0.kmc_suf does not have compressed suffix\n",
      "in1: 100% in2: 100% \n",
      "pigz: skipping: ramdisk/geno_kmers is a directory\n",
      "pigz: skipping: ramdisk/kmer_union1.kmc_pre does not have compressed suffix\n",
      "pigz: skipping: ramdisk/kmer_union1.kmc_suf does not have compressed suffix\n",
      "in1: 100% in2: 100% \n",
      "pigz: skipping: ramdisk/geno_kmers is a directory\n",
      "pigz: skipping: ramdisk/kmer_union0.kmc_pre does not have compressed suffix\n",
      "pigz: skipping: ramdisk/kmer_union0.kmc_suf does not have compressed suffix\n",
      "in1: 100% in2: 100% \n",
      "pigz: skipping: ramdisk/geno_kmers is a directory\n",
      "pigz: skipping: ramdisk/kmer_union1.kmc_pre does not have compressed suffix\n",
      "pigz: skipping: ramdisk/kmer_union1.kmc_suf does not have compressed suffix\n",
      "in1: 100% in2: 100% \n",
      "pigz: skipping: ramdisk/geno_kmers is a directory\n",
      "pigz: skipping: ramdisk/kmer_union0.kmc_pre does not have compressed suffix\n",
      "pigz: skipping: ramdisk/kmer_union0.kmc_suf does not have compressed suffix\n",
      "in1: 100% in2: 100% \n"
     ]
    },
    {
     "name": "stdout",
     "output_type": "stream",
     "text": [
      "Genotypes remaining: 276\n"
     ]
    },
    {
     "name": "stderr",
     "output_type": "stream",
     "text": [
      "pigz: skipping: ramdisk/geno_kmers is a directory\n",
      "in1: 100% in2: 100% \n",
      "pigz: skipping: ramdisk/geno_kmers is a directory\n",
      "pigz: skipping: ramdisk/kmer_union0.kmc_pre does not have compressed suffix\n",
      "pigz: skipping: ramdisk/kmer_union0.kmc_suf does not have compressed suffix\n",
      "in1: 100% in2: 100% \n",
      "pigz: skipping: ramdisk/geno_kmers is a directory\n",
      "pigz: skipping: ramdisk/kmer_union1.kmc_pre does not have compressed suffix\n",
      "pigz: skipping: ramdisk/kmer_union1.kmc_suf does not have compressed suffix\n",
      "in1: 100% in2: 100% \n",
      "pigz: skipping: ramdisk/geno_kmers is a directory\n",
      "pigz: skipping: ramdisk/kmer_union0.kmc_pre does not have compressed suffix\n",
      "pigz: skipping: ramdisk/kmer_union0.kmc_suf does not have compressed suffix\n",
      "in1: 100% in2: 100% \n",
      "pigz: skipping: ramdisk/geno_kmers is a directory\n",
      "pigz: skipping: ramdisk/kmer_union1.kmc_pre does not have compressed suffix\n",
      "pigz: skipping: ramdisk/kmer_union1.kmc_suf does not have compressed suffix\n",
      "in1: 100% in2: 100% \n",
      "pigz: skipping: ramdisk/geno_kmers is a directory\n",
      "pigz: skipping: ramdisk/kmer_union0.kmc_pre does not have compressed suffix\n",
      "pigz: skipping: ramdisk/kmer_union0.kmc_suf does not have compressed suffix\n",
      "in1: 100% in2: 100% \n"
     ]
    },
    {
     "name": "stdout",
     "output_type": "stream",
     "text": [
      "Genotypes remaining: 275\n"
     ]
    },
    {
     "name": "stderr",
     "output_type": "stream",
     "text": [
      "pigz: skipping: ramdisk/geno_kmers is a directory\n",
      "in1: 100% in2: 100% \n",
      "pigz: skipping: ramdisk/geno_kmers is a directory\n",
      "pigz: skipping: ramdisk/kmer_union0.kmc_pre does not have compressed suffix\n",
      "pigz: skipping: ramdisk/kmer_union0.kmc_suf does not have compressed suffix\n",
      "in1: 100% in2: 100% \n",
      "pigz: skipping: ramdisk/geno_kmers is a directory\n",
      "pigz: skipping: ramdisk/kmer_union1.kmc_pre does not have compressed suffix\n",
      "pigz: skipping: ramdisk/kmer_union1.kmc_suf does not have compressed suffix\n",
      "in1: 100% in2: 100% \n"
     ]
    },
    {
     "name": "stdout",
     "output_type": "stream",
     "text": [
      "Genotypes remaining: 274\n"
     ]
    },
    {
     "name": "stderr",
     "output_type": "stream",
     "text": [
      "pigz: skipping: ramdisk/geno_kmers is a directory\n",
      "in1: 100% in2: 100% \n",
      "pigz: skipping: ramdisk/geno_kmers is a directory\n",
      "pigz: skipping: ramdisk/kmer_union0.kmc_pre does not have compressed suffix\n",
      "pigz: skipping: ramdisk/kmer_union0.kmc_suf does not have compressed suffix\n",
      "in1: 100% in2: 100% \n",
      "pigz: skipping: ramdisk/geno_kmers is a directory\n",
      "pigz: skipping: ramdisk/kmer_union1.kmc_pre does not have compressed suffix\n",
      "pigz: skipping: ramdisk/kmer_union1.kmc_suf does not have compressed suffix\n",
      "in1: 100% in2: 100% \n",
      "pigz: skipping: ramdisk/geno_kmers is a directory\n",
      "pigz: skipping: ramdisk/kmer_union0.kmc_pre does not have compressed suffix\n",
      "pigz: skipping: ramdisk/kmer_union0.kmc_suf does not have compressed suffix\n",
      "in1: 100% in2: 100% \n",
      "pigz: skipping: ramdisk/geno_kmers is a directory\n",
      "pigz: skipping: ramdisk/kmer_union1.kmc_pre does not have compressed suffix\n",
      "pigz: skipping: ramdisk/kmer_union1.kmc_suf does not have compressed suffix\n",
      "in1: 100% in2: 100% \n"
     ]
    },
    {
     "name": "stdout",
     "output_type": "stream",
     "text": [
      "Genotypes remaining: 273\n"
     ]
    },
    {
     "name": "stderr",
     "output_type": "stream",
     "text": [
      "pigz: skipping: ramdisk/geno_kmers is a directory\n",
      "in1: 100% in2: 100% \n",
      "pigz: skipping: ramdisk/geno_kmers is a directory\n",
      "pigz: skipping: ramdisk/kmer_union0.kmc_pre does not have compressed suffix\n",
      "pigz: skipping: ramdisk/kmer_union0.kmc_suf does not have compressed suffix\n",
      "in1: 100% in2: 100% \n",
      "pigz: skipping: ramdisk/geno_kmers is a directory\n",
      "pigz: skipping: ramdisk/kmer_union1.kmc_pre does not have compressed suffix\n",
      "pigz: skipping: ramdisk/kmer_union1.kmc_suf does not have compressed suffix\n",
      "in1: 100% in2: 100% \n",
      "pigz: skipping: ramdisk/geno_kmers is a directory\n",
      "pigz: skipping: ramdisk/kmer_union0.kmc_pre does not have compressed suffix\n",
      "pigz: skipping: ramdisk/kmer_union0.kmc_suf does not have compressed suffix\n",
      "in1: 100% in2: 100% \n",
      "pigz: skipping: ramdisk/geno_kmers is a directory\n",
      "pigz: skipping: ramdisk/kmer_union1.kmc_pre does not have compressed suffix\n",
      "pigz: skipping: ramdisk/kmer_union1.kmc_suf does not have compressed suffix\n",
      "in1: 100% in2: 100% \n",
      "pigz: skipping: ramdisk/geno_kmers is a directory\n",
      "pigz: skipping: ramdisk/kmer_union0.kmc_pre does not have compressed suffix\n",
      "pigz: skipping: ramdisk/kmer_union0.kmc_suf does not have compressed suffix\n",
      "in1: 100% in2: 100% \n"
     ]
    },
    {
     "name": "stdout",
     "output_type": "stream",
     "text": [
      "Genotypes remaining: 272\n"
     ]
    },
    {
     "name": "stderr",
     "output_type": "stream",
     "text": [
      "pigz: skipping: ramdisk/geno_kmers is a directory\n",
      "in1: 100% in2: 100% \n",
      "pigz: skipping: ramdisk/geno_kmers is a directory\n",
      "pigz: skipping: ramdisk/kmer_union0.kmc_pre does not have compressed suffix\n",
      "pigz: skipping: ramdisk/kmer_union0.kmc_suf does not have compressed suffix\n",
      "in1: 100% in2: 100% \n",
      "pigz: skipping: ramdisk/geno_kmers is a directory\n",
      "pigz: skipping: ramdisk/kmer_union1.kmc_pre does not have compressed suffix\n",
      "pigz: skipping: ramdisk/kmer_union1.kmc_suf does not have compressed suffix\n",
      "in1: 100% in2: 100% \n",
      "pigz: skipping: ramdisk/geno_kmers is a directory\n",
      "pigz: skipping: ramdisk/kmer_union0.kmc_pre does not have compressed suffix\n",
      "pigz: skipping: ramdisk/kmer_union0.kmc_suf does not have compressed suffix\n",
      "in1: 100% in2: 100% \n",
      "pigz: skipping: ramdisk/geno_kmers is a directory\n",
      "pigz: skipping: ramdisk/kmer_union1.kmc_pre does not have compressed suffix\n",
      "pigz: skipping: ramdisk/kmer_union1.kmc_suf does not have compressed suffix\n",
      "in1: 100% in2: 100% \n",
      "pigz: skipping: ramdisk/geno_kmers is a directory\n",
      "pigz: skipping: ramdisk/kmer_union0.kmc_pre does not have compressed suffix\n",
      "pigz: skipping: ramdisk/kmer_union0.kmc_suf does not have compressed suffix\n",
      "in1: 100% in2: 100% \n"
     ]
    },
    {
     "name": "stdout",
     "output_type": "stream",
     "text": [
      "Genotypes remaining: 271\n"
     ]
    },
    {
     "name": "stderr",
     "output_type": "stream",
     "text": [
      "pigz: skipping: ramdisk/geno_kmers is a directory\n",
      "in1: 100% in2: 100% \n",
      "pigz: skipping: ramdisk/geno_kmers is a directory\n",
      "pigz: skipping: ramdisk/kmer_union0.kmc_pre does not have compressed suffix\n",
      "pigz: skipping: ramdisk/kmer_union0.kmc_suf does not have compressed suffix\n",
      "in1: 100% in2: 100% \n",
      "pigz: skipping: ramdisk/geno_kmers is a directory\n",
      "pigz: skipping: ramdisk/kmer_union1.kmc_pre does not have compressed suffix\n",
      "pigz: skipping: ramdisk/kmer_union1.kmc_suf does not have compressed suffix\n",
      "in1: 100% in2: 100% \n",
      "pigz: skipping: ramdisk/geno_kmers is a directory\n",
      "pigz: skipping: ramdisk/kmer_union0.kmc_pre does not have compressed suffix\n",
      "pigz: skipping: ramdisk/kmer_union0.kmc_suf does not have compressed suffix\n",
      "in1: 100% in2: 100% \n",
      "pigz: skipping: ramdisk/geno_kmers is a directory\n",
      "pigz: skipping: ramdisk/kmer_union1.kmc_pre does not have compressed suffix\n",
      "pigz: skipping: ramdisk/kmer_union1.kmc_suf does not have compressed suffix\n",
      "in1: 100% in2: 100% \n"
     ]
    },
    {
     "name": "stdout",
     "output_type": "stream",
     "text": [
      "Genotypes remaining: 270\n"
     ]
    },
    {
     "name": "stderr",
     "output_type": "stream",
     "text": [
      "pigz: skipping: ramdisk/geno_kmers is a directory\n",
      "in1: 100% in2: 100% \n",
      "pigz: skipping: ramdisk/geno_kmers is a directory\n",
      "pigz: skipping: ramdisk/kmer_union0.kmc_pre does not have compressed suffix\n",
      "pigz: skipping: ramdisk/kmer_union0.kmc_suf does not have compressed suffix\n",
      "in1: 100% in2: 100% \n",
      "pigz: skipping: ramdisk/geno_kmers is a directory\n",
      "pigz: skipping: ramdisk/kmer_union1.kmc_pre does not have compressed suffix\n",
      "pigz: skipping: ramdisk/kmer_union1.kmc_suf does not have compressed suffix\n",
      "in1: 100% in2: 100% \n",
      "pigz: skipping: ramdisk/geno_kmers is a directory\n",
      "pigz: skipping: ramdisk/kmer_union0.kmc_pre does not have compressed suffix\n",
      "pigz: skipping: ramdisk/kmer_union0.kmc_suf does not have compressed suffix\n",
      "in1: 100% in2: 100% \n",
      "pigz: skipping: ramdisk/geno_kmers is a directory\n",
      "pigz: skipping: ramdisk/kmer_union1.kmc_pre does not have compressed suffix\n",
      "pigz: skipping: ramdisk/kmer_union1.kmc_suf does not have compressed suffix\n",
      "in1: 100% in2: 100% \n",
      "pigz: skipping: ramdisk/geno_kmers is a directory\n",
      "pigz: skipping: ramdisk/kmer_union0.kmc_pre does not have compressed suffix\n",
      "pigz: skipping: ramdisk/kmer_union0.kmc_suf does not have compressed suffix\n",
      "in1: 100% in2: 100% \n"
     ]
    },
    {
     "name": "stdout",
     "output_type": "stream",
     "text": [
      "Genotypes remaining: 269\n"
     ]
    },
    {
     "name": "stderr",
     "output_type": "stream",
     "text": [
      "pigz: skipping: ramdisk/geno_kmers is a directory\n",
      "in1: 100% in2: 100% \n",
      "pigz: skipping: ramdisk/geno_kmers is a directory\n",
      "pigz: skipping: ramdisk/kmer_union0.kmc_pre does not have compressed suffix\n",
      "pigz: skipping: ramdisk/kmer_union0.kmc_suf does not have compressed suffix\n",
      "in1: 100% in2: 100% \n",
      "pigz: skipping: ramdisk/geno_kmers is a directory\n",
      "pigz: skipping: ramdisk/kmer_union1.kmc_pre does not have compressed suffix\n",
      "pigz: skipping: ramdisk/kmer_union1.kmc_suf does not have compressed suffix\n",
      "in1: 100% in2: 100% \n",
      "pigz: skipping: ramdisk/geno_kmers is a directory\n",
      "pigz: skipping: ramdisk/kmer_union0.kmc_pre does not have compressed suffix\n",
      "pigz: skipping: ramdisk/kmer_union0.kmc_suf does not have compressed suffix\n",
      "in1: 100% in2: 100% \n",
      "pigz: skipping: ramdisk/geno_kmers is a directory\n",
      "pigz: skipping: ramdisk/kmer_union1.kmc_pre does not have compressed suffix\n",
      "pigz: skipping: ramdisk/kmer_union1.kmc_suf does not have compressed suffix\n",
      "in1: 100% in2: 100% \n",
      "pigz: skipping: ramdisk/geno_kmers is a directory\n",
      "pigz: skipping: ramdisk/kmer_union0.kmc_pre does not have compressed suffix\n",
      "pigz: skipping: ramdisk/kmer_union0.kmc_suf does not have compressed suffix\n",
      "in1: 100% in2: 100% \n",
      "pigz: skipping: ramdisk/geno_kmers is a directory\n",
      "pigz: skipping: ramdisk/kmer_union1.kmc_pre does not have compressed suffix\n",
      "pigz: skipping: ramdisk/kmer_union1.kmc_suf does not have compressed suffix\n",
      "in1: 100% in2: 100% \n",
      "pigz: skipping: ramdisk/geno_kmers is a directory\n",
      "pigz: skipping: ramdisk/kmer_union0.kmc_pre does not have compressed suffix\n",
      "pigz: skipping: ramdisk/kmer_union0.kmc_suf does not have compressed suffix\n",
      "in1: 100% in2: 100% \n"
     ]
    },
    {
     "name": "stdout",
     "output_type": "stream",
     "text": [
      "Genotypes remaining: 268\n"
     ]
    },
    {
     "name": "stderr",
     "output_type": "stream",
     "text": [
      "pigz: skipping: ramdisk/geno_kmers is a directory\n",
      "in1: 100% in2: 100% \n",
      "pigz: skipping: ramdisk/geno_kmers is a directory\n",
      "pigz: skipping: ramdisk/kmer_union0.kmc_pre does not have compressed suffix\n",
      "pigz: skipping: ramdisk/kmer_union0.kmc_suf does not have compressed suffix\n",
      "in1: 100% in2: 100% \n",
      "pigz: skipping: ramdisk/geno_kmers is a directory\n",
      "pigz: skipping: ramdisk/kmer_union1.kmc_pre does not have compressed suffix\n",
      "pigz: skipping: ramdisk/kmer_union1.kmc_suf does not have compressed suffix\n",
      "in1: 100% in2: 100% \n",
      "pigz: skipping: ramdisk/geno_kmers is a directory\n",
      "pigz: skipping: ramdisk/kmer_union0.kmc_pre does not have compressed suffix\n",
      "pigz: skipping: ramdisk/kmer_union0.kmc_suf does not have compressed suffix\n",
      "in1: 100% in2: 100% \n",
      "pigz: skipping: ramdisk/geno_kmers is a directory\n",
      "pigz: skipping: ramdisk/kmer_union1.kmc_pre does not have compressed suffix\n",
      "pigz: skipping: ramdisk/kmer_union1.kmc_suf does not have compressed suffix\n",
      "in1: 100% in2: 100% \n",
      "pigz: skipping: ramdisk/geno_kmers is a directory\n",
      "pigz: skipping: ramdisk/kmer_union0.kmc_pre does not have compressed suffix\n",
      "pigz: skipping: ramdisk/kmer_union0.kmc_suf does not have compressed suffix\n",
      "in1: 100% in2: 100% \n"
     ]
    },
    {
     "name": "stdout",
     "output_type": "stream",
     "text": [
      "Genotypes remaining: 267\n"
     ]
    },
    {
     "name": "stderr",
     "output_type": "stream",
     "text": [
      "pigz: skipping: ramdisk/geno_kmers is a directory\n",
      "in1: 100% in2: 100% \n",
      "pigz: skipping: ramdisk/geno_kmers is a directory\n",
      "pigz: skipping: ramdisk/kmer_union0.kmc_pre does not have compressed suffix\n",
      "pigz: skipping: ramdisk/kmer_union0.kmc_suf does not have compressed suffix\n",
      "in1: 100% in2: 100% \n",
      "pigz: skipping: ramdisk/geno_kmers is a directory\n",
      "pigz: skipping: ramdisk/kmer_union1.kmc_pre does not have compressed suffix\n",
      "pigz: skipping: ramdisk/kmer_union1.kmc_suf does not have compressed suffix\n",
      "in1: 100% in2: 100% \n",
      "pigz: skipping: ramdisk/geno_kmers is a directory\n",
      "pigz: skipping: ramdisk/kmer_union0.kmc_pre does not have compressed suffix\n",
      "pigz: skipping: ramdisk/kmer_union0.kmc_suf does not have compressed suffix\n",
      "in1: 100% in2: 100% \n",
      "pigz: skipping: ramdisk/geno_kmers is a directory\n",
      "pigz: skipping: ramdisk/kmer_union1.kmc_pre does not have compressed suffix\n",
      "pigz: skipping: ramdisk/kmer_union1.kmc_suf does not have compressed suffix\n",
      "in1: 100% in2: 100% \n",
      "pigz: skipping: ramdisk/geno_kmers is a directory\n",
      "pigz: skipping: ramdisk/kmer_union0.kmc_pre does not have compressed suffix\n",
      "pigz: skipping: ramdisk/kmer_union0.kmc_suf does not have compressed suffix\n",
      "in1: 100% in2: 100% \n"
     ]
    },
    {
     "name": "stdout",
     "output_type": "stream",
     "text": [
      "Genotypes remaining: 266\n"
     ]
    },
    {
     "name": "stderr",
     "output_type": "stream",
     "text": [
      "pigz: skipping: ramdisk/geno_kmers is a directory\n",
      "in1: 100% in2: 100% \n",
      "pigz: skipping: ramdisk/geno_kmers is a directory\n",
      "pigz: skipping: ramdisk/kmer_union0.kmc_pre does not have compressed suffix\n",
      "pigz: skipping: ramdisk/kmer_union0.kmc_suf does not have compressed suffix\n",
      "in1: 100% in2: 100% \n",
      "pigz: skipping: ramdisk/geno_kmers is a directory\n",
      "pigz: skipping: ramdisk/kmer_union1.kmc_pre does not have compressed suffix\n",
      "pigz: skipping: ramdisk/kmer_union1.kmc_suf does not have compressed suffix\n",
      "in1: 100% in2: 100% \n",
      "pigz: skipping: ramdisk/geno_kmers is a directory\n",
      "pigz: skipping: ramdisk/kmer_union0.kmc_pre does not have compressed suffix\n",
      "pigz: skipping: ramdisk/kmer_union0.kmc_suf does not have compressed suffix\n",
      "in1: 100% in2: 100% \n",
      "pigz: skipping: ramdisk/geno_kmers is a directory\n",
      "pigz: skipping: ramdisk/kmer_union1.kmc_pre does not have compressed suffix\n",
      "pigz: skipping: ramdisk/kmer_union1.kmc_suf does not have compressed suffix\n",
      "in1: 100% in2: 100% \n"
     ]
    },
    {
     "name": "stdout",
     "output_type": "stream",
     "text": [
      "Genotypes remaining: 265\n"
     ]
    },
    {
     "name": "stderr",
     "output_type": "stream",
     "text": [
      "pigz: skipping: ramdisk/geno_kmers is a directory\n",
      "in1: 100% in2: 100% \n",
      "pigz: skipping: ramdisk/geno_kmers is a directory\n",
      "pigz: skipping: ramdisk/kmer_union0.kmc_pre does not have compressed suffix\n",
      "pigz: skipping: ramdisk/kmer_union0.kmc_suf does not have compressed suffix\n",
      "in1: 100% in2: 100% \n",
      "pigz: skipping: ramdisk/geno_kmers is a directory\n",
      "pigz: skipping: ramdisk/kmer_union1.kmc_pre does not have compressed suffix\n",
      "pigz: skipping: ramdisk/kmer_union1.kmc_suf does not have compressed suffix\n",
      "in1: 100% in2: 100% \n",
      "pigz: skipping: ramdisk/geno_kmers is a directory\n",
      "pigz: skipping: ramdisk/kmer_union0.kmc_pre does not have compressed suffix\n",
      "pigz: skipping: ramdisk/kmer_union0.kmc_suf does not have compressed suffix\n",
      "in1: 100% in2: 100% \n",
      "pigz: skipping: ramdisk/geno_kmers is a directory\n",
      "pigz: skipping: ramdisk/kmer_union1.kmc_pre does not have compressed suffix\n",
      "pigz: skipping: ramdisk/kmer_union1.kmc_suf does not have compressed suffix\n",
      "in1: 100% in2: 100% \n",
      "pigz: skipping: ramdisk/geno_kmers is a directory\n",
      "pigz: skipping: ramdisk/kmer_union0.kmc_pre does not have compressed suffix\n",
      "pigz: skipping: ramdisk/kmer_union0.kmc_suf does not have compressed suffix\n",
      "in1: 100% in2: 100% \n"
     ]
    },
    {
     "name": "stdout",
     "output_type": "stream",
     "text": [
      "Genotypes remaining: 264\n"
     ]
    },
    {
     "name": "stderr",
     "output_type": "stream",
     "text": [
      "pigz: skipping: ramdisk/geno_kmers is a directory\n",
      "in1: 100% in2: 100% \n",
      "pigz: skipping: ramdisk/geno_kmers is a directory\n",
      "pigz: skipping: ramdisk/kmer_union0.kmc_pre does not have compressed suffix\n",
      "pigz: skipping: ramdisk/kmer_union0.kmc_suf does not have compressed suffix\n",
      "in1: 100% in2: 100% \n",
      "pigz: skipping: ramdisk/geno_kmers is a directory\n",
      "pigz: skipping: ramdisk/kmer_union1.kmc_pre does not have compressed suffix\n",
      "pigz: skipping: ramdisk/kmer_union1.kmc_suf does not have compressed suffix\n",
      "in1: 100% in2: 100% \n",
      "pigz: skipping: ramdisk/geno_kmers is a directory\n",
      "pigz: skipping: ramdisk/kmer_union0.kmc_pre does not have compressed suffix\n",
      "pigz: skipping: ramdisk/kmer_union0.kmc_suf does not have compressed suffix\n",
      "in1: 100% in2: 100% \n"
     ]
    },
    {
     "name": "stdout",
     "output_type": "stream",
     "text": [
      "Genotypes remaining: 263\n"
     ]
    },
    {
     "name": "stderr",
     "output_type": "stream",
     "text": [
      "pigz: skipping: ramdisk/geno_kmers is a directory\n",
      "in1: 100% in2: 100% \n",
      "pigz: skipping: ramdisk/geno_kmers is a directory\n",
      "pigz: skipping: ramdisk/kmer_union0.kmc_pre does not have compressed suffix\n",
      "pigz: skipping: ramdisk/kmer_union0.kmc_suf does not have compressed suffix\n",
      "in1: 100% in2: 100% \n",
      "pigz: skipping: ramdisk/geno_kmers is a directory\n",
      "pigz: skipping: ramdisk/kmer_union1.kmc_pre does not have compressed suffix\n",
      "pigz: skipping: ramdisk/kmer_union1.kmc_suf does not have compressed suffix\n",
      "in1: 100% in2: 100% \n",
      "pigz: skipping: ramdisk/geno_kmers is a directory\n",
      "pigz: skipping: ramdisk/kmer_union0.kmc_pre does not have compressed suffix\n",
      "pigz: skipping: ramdisk/kmer_union0.kmc_suf does not have compressed suffix\n",
      "in1: 100% in2: 100% \n",
      "pigz: skipping: ramdisk/geno_kmers is a directory\n",
      "pigz: skipping: ramdisk/kmer_union1.kmc_pre does not have compressed suffix\n",
      "pigz: skipping: ramdisk/kmer_union1.kmc_suf does not have compressed suffix\n",
      "in1: 100% in2: 100% \n",
      "pigz: skipping: ramdisk/geno_kmers is a directory\n",
      "pigz: skipping: ramdisk/kmer_union0.kmc_pre does not have compressed suffix\n",
      "pigz: skipping: ramdisk/kmer_union0.kmc_suf does not have compressed suffix\n",
      "in1: 100% in2: 100% \n"
     ]
    },
    {
     "name": "stdout",
     "output_type": "stream",
     "text": [
      "Genotypes remaining: 262\n"
     ]
    },
    {
     "name": "stderr",
     "output_type": "stream",
     "text": [
      "pigz: skipping: ramdisk/geno_kmers is a directory\n",
      "in1: 100% in2: 100% \n",
      "pigz: skipping: ramdisk/geno_kmers is a directory\n",
      "pigz: skipping: ramdisk/kmer_union0.kmc_pre does not have compressed suffix\n",
      "pigz: skipping: ramdisk/kmer_union0.kmc_suf does not have compressed suffix\n",
      "in1: 100% in2: 100% \n",
      "pigz: skipping: ramdisk/geno_kmers is a directory\n",
      "pigz: skipping: ramdisk/kmer_union1.kmc_pre does not have compressed suffix\n",
      "pigz: skipping: ramdisk/kmer_union1.kmc_suf does not have compressed suffix\n",
      "in1: 100% in2: 100% \n",
      "pigz: skipping: ramdisk/geno_kmers is a directory\n",
      "pigz: skipping: ramdisk/kmer_union0.kmc_pre does not have compressed suffix\n",
      "pigz: skipping: ramdisk/kmer_union0.kmc_suf does not have compressed suffix\n",
      "in1: 100% in2: 100% \n",
      "pigz: skipping: ramdisk/geno_kmers is a directory\n",
      "pigz: skipping: ramdisk/kmer_union1.kmc_pre does not have compressed suffix\n",
      "pigz: skipping: ramdisk/kmer_union1.kmc_suf does not have compressed suffix\n",
      "in1: 100% in2: 100% \n",
      "pigz: skipping: ramdisk/geno_kmers is a directory\n",
      "pigz: skipping: ramdisk/kmer_union0.kmc_pre does not have compressed suffix\n",
      "pigz: skipping: ramdisk/kmer_union0.kmc_suf does not have compressed suffix\n",
      "in1: 100% in2: 100% \n"
     ]
    },
    {
     "name": "stdout",
     "output_type": "stream",
     "text": [
      "Genotypes remaining: 261\n"
     ]
    },
    {
     "name": "stderr",
     "output_type": "stream",
     "text": [
      "pigz: skipping: ramdisk/geno_kmers is a directory\n",
      "in1: 100% in2: 100% \n",
      "pigz: skipping: ramdisk/geno_kmers is a directory\n",
      "pigz: skipping: ramdisk/kmer_union0.kmc_pre does not have compressed suffix\n",
      "pigz: skipping: ramdisk/kmer_union0.kmc_suf does not have compressed suffix\n",
      "in1: 100% in2: 100% \n",
      "pigz: skipping: ramdisk/geno_kmers is a directory\n",
      "pigz: skipping: ramdisk/kmer_union1.kmc_pre does not have compressed suffix\n",
      "pigz: skipping: ramdisk/kmer_union1.kmc_suf does not have compressed suffix\n",
      "in1: 100% in2: 100% \n",
      "pigz: skipping: ramdisk/geno_kmers is a directory\n",
      "pigz: skipping: ramdisk/kmer_union0.kmc_pre does not have compressed suffix\n",
      "pigz: skipping: ramdisk/kmer_union0.kmc_suf does not have compressed suffix\n",
      "in1: 100% in2: 100% \n",
      "pigz: skipping: ramdisk/geno_kmers is a directory\n",
      "pigz: skipping: ramdisk/kmer_union1.kmc_pre does not have compressed suffix\n",
      "pigz: skipping: ramdisk/kmer_union1.kmc_suf does not have compressed suffix\n",
      "in1: 100% in2: 100% \n",
      "pigz: skipping: ramdisk/geno_kmers is a directory\n",
      "pigz: skipping: ramdisk/kmer_union0.kmc_pre does not have compressed suffix\n",
      "pigz: skipping: ramdisk/kmer_union0.kmc_suf does not have compressed suffix\n",
      "in1: 100% in2: 100% \n"
     ]
    },
    {
     "name": "stdout",
     "output_type": "stream",
     "text": [
      "Genotypes remaining: 260\n"
     ]
    },
    {
     "name": "stderr",
     "output_type": "stream",
     "text": [
      "pigz: skipping: ramdisk/geno_kmers is a directory\n"
     ]
    },
    {
     "name": "stdout",
     "output_type": "stream",
     "text": [
      "Genotypes remaining: 259\n"
     ]
    },
    {
     "name": "stderr",
     "output_type": "stream",
     "text": [
      "pigz: skipping: ramdisk/geno_kmers is a directory\n",
      "in1: 100% in2: 100% \n",
      "pigz: skipping: ramdisk/geno_kmers is a directory\n",
      "pigz: skipping: ramdisk/kmer_union0.kmc_pre does not have compressed suffix\n",
      "pigz: skipping: ramdisk/kmer_union0.kmc_suf does not have compressed suffix\n",
      "in1: 100% in2: 100% \n",
      "pigz: skipping: ramdisk/geno_kmers is a directory\n",
      "pigz: skipping: ramdisk/kmer_union1.kmc_pre does not have compressed suffix\n",
      "pigz: skipping: ramdisk/kmer_union1.kmc_suf does not have compressed suffix\n",
      "in1: 100% in2: 100% \n",
      "pigz: skipping: ramdisk/geno_kmers is a directory\n",
      "pigz: skipping: ramdisk/kmer_union0.kmc_pre does not have compressed suffix\n",
      "pigz: skipping: ramdisk/kmer_union0.kmc_suf does not have compressed suffix\n",
      "in1: 100% in2: 100% \n",
      "pigz: skipping: ramdisk/geno_kmers is a directory\n",
      "pigz: skipping: ramdisk/kmer_union1.kmc_pre does not have compressed suffix\n",
      "pigz: skipping: ramdisk/kmer_union1.kmc_suf does not have compressed suffix\n",
      "in1: 100% in2: 100% \n"
     ]
    },
    {
     "name": "stdout",
     "output_type": "stream",
     "text": [
      "Genotypes remaining: 258\n"
     ]
    },
    {
     "name": "stderr",
     "output_type": "stream",
     "text": [
      "pigz: skipping: ramdisk/geno_kmers is a directory\n",
      "in1: 100% in2: 100% \n",
      "pigz: skipping: ramdisk/geno_kmers is a directory\n",
      "pigz: skipping: ramdisk/kmer_union0.kmc_pre does not have compressed suffix\n",
      "pigz: skipping: ramdisk/kmer_union0.kmc_suf does not have compressed suffix\n",
      "in1: 100% in2: 100% \n",
      "pigz: skipping: ramdisk/geno_kmers is a directory\n",
      "pigz: skipping: ramdisk/kmer_union1.kmc_pre does not have compressed suffix\n",
      "pigz: skipping: ramdisk/kmer_union1.kmc_suf does not have compressed suffix\n",
      "in1: 100% in2: 100% \n",
      "pigz: skipping: ramdisk/geno_kmers is a directory\n",
      "pigz: skipping: ramdisk/kmer_union0.kmc_pre does not have compressed suffix\n",
      "pigz: skipping: ramdisk/kmer_union0.kmc_suf does not have compressed suffix\n",
      "in1: 100% in2: 100% \n"
     ]
    },
    {
     "name": "stdout",
     "output_type": "stream",
     "text": [
      "Genotypes remaining: 257\n"
     ]
    },
    {
     "name": "stderr",
     "output_type": "stream",
     "text": [
      "pigz: skipping: ramdisk/geno_kmers is a directory\n",
      "in1: 100% in2: 100% \n",
      "pigz: skipping: ramdisk/geno_kmers is a directory\n",
      "pigz: skipping: ramdisk/kmer_union0.kmc_pre does not have compressed suffix\n",
      "pigz: skipping: ramdisk/kmer_union0.kmc_suf does not have compressed suffix\n",
      "in1: 100% in2: 100% \n",
      "pigz: skipping: ramdisk/geno_kmers is a directory\n",
      "pigz: skipping: ramdisk/kmer_union1.kmc_pre does not have compressed suffix\n",
      "pigz: skipping: ramdisk/kmer_union1.kmc_suf does not have compressed suffix\n",
      "in1: 100% in2: 100% \n",
      "pigz: skipping: ramdisk/geno_kmers is a directory\n",
      "pigz: skipping: ramdisk/kmer_union0.kmc_pre does not have compressed suffix\n",
      "pigz: skipping: ramdisk/kmer_union0.kmc_suf does not have compressed suffix\n",
      "in1: 100% in2: 100% \n",
      "pigz: skipping: ramdisk/geno_kmers is a directory\n",
      "pigz: skipping: ramdisk/kmer_union1.kmc_pre does not have compressed suffix\n",
      "pigz: skipping: ramdisk/kmer_union1.kmc_suf does not have compressed suffix\n",
      "in1: 100% in2: 100% \n",
      "pigz: skipping: ramdisk/geno_kmers is a directory\n",
      "pigz: skipping: ramdisk/kmer_union0.kmc_pre does not have compressed suffix\n",
      "pigz: skipping: ramdisk/kmer_union0.kmc_suf does not have compressed suffix\n",
      "in1: 100% in2: 100% \n"
     ]
    },
    {
     "name": "stdout",
     "output_type": "stream",
     "text": [
      "Genotypes remaining: 256\n"
     ]
    },
    {
     "name": "stderr",
     "output_type": "stream",
     "text": [
      "pigz: skipping: ramdisk/geno_kmers is a directory\n",
      "in1: 100% in2: 100% \n",
      "pigz: skipping: ramdisk/geno_kmers is a directory\n",
      "pigz: skipping: ramdisk/kmer_union0.kmc_pre does not have compressed suffix\n",
      "pigz: skipping: ramdisk/kmer_union0.kmc_suf does not have compressed suffix\n",
      "in1: 100% in2: 100% \n",
      "pigz: skipping: ramdisk/geno_kmers is a directory\n",
      "pigz: skipping: ramdisk/kmer_union1.kmc_pre does not have compressed suffix\n",
      "pigz: skipping: ramdisk/kmer_union1.kmc_suf does not have compressed suffix\n",
      "in1: 100% in2: 100% \n",
      "pigz: skipping: ramdisk/geno_kmers is a directory\n",
      "pigz: skipping: ramdisk/kmer_union0.kmc_pre does not have compressed suffix\n",
      "pigz: skipping: ramdisk/kmer_union0.kmc_suf does not have compressed suffix\n",
      "in1: 100% in2: 100% \n",
      "pigz: skipping: ramdisk/geno_kmers is a directory\n",
      "pigz: skipping: ramdisk/kmer_union1.kmc_pre does not have compressed suffix\n",
      "pigz: skipping: ramdisk/kmer_union1.kmc_suf does not have compressed suffix\n",
      "in1: 100% in2: 100% \n"
     ]
    },
    {
     "name": "stdout",
     "output_type": "stream",
     "text": [
      "Genotypes remaining: 255\n"
     ]
    },
    {
     "name": "stderr",
     "output_type": "stream",
     "text": [
      "pigz: skipping: ramdisk/geno_kmers is a directory\n",
      "in1: 100% in2: 100% \n",
      "pigz: skipping: ramdisk/geno_kmers is a directory\n",
      "pigz: skipping: ramdisk/kmer_union0.kmc_pre does not have compressed suffix\n",
      "pigz: skipping: ramdisk/kmer_union0.kmc_suf does not have compressed suffix\n",
      "in1: 100% in2: 100% \n",
      "pigz: skipping: ramdisk/geno_kmers is a directory\n",
      "pigz: skipping: ramdisk/kmer_union1.kmc_pre does not have compressed suffix\n",
      "pigz: skipping: ramdisk/kmer_union1.kmc_suf does not have compressed suffix\n",
      "in1: 100% in2: 100% \n",
      "pigz: skipping: ramdisk/geno_kmers is a directory\n",
      "pigz: skipping: ramdisk/kmer_union0.kmc_pre does not have compressed suffix\n",
      "pigz: skipping: ramdisk/kmer_union0.kmc_suf does not have compressed suffix\n",
      "in1: 100% in2: 100% \n",
      "pigz: skipping: ramdisk/geno_kmers is a directory\n",
      "pigz: skipping: ramdisk/kmer_union1.kmc_pre does not have compressed suffix\n",
      "pigz: skipping: ramdisk/kmer_union1.kmc_suf does not have compressed suffix\n",
      "in1: 100% in2: 100% \n"
     ]
    },
    {
     "name": "stdout",
     "output_type": "stream",
     "text": [
      "Genotypes remaining: 254\n"
     ]
    },
    {
     "name": "stderr",
     "output_type": "stream",
     "text": [
      "pigz: skipping: ramdisk/geno_kmers is a directory\n",
      "in1: 100% in2: 100% \n",
      "pigz: skipping: ramdisk/geno_kmers is a directory\n",
      "pigz: skipping: ramdisk/kmer_union0.kmc_pre does not have compressed suffix\n",
      "pigz: skipping: ramdisk/kmer_union0.kmc_suf does not have compressed suffix\n",
      "in1: 100% in2: 100% \n",
      "pigz: skipping: ramdisk/geno_kmers is a directory\n",
      "pigz: skipping: ramdisk/kmer_union1.kmc_pre does not have compressed suffix\n",
      "pigz: skipping: ramdisk/kmer_union1.kmc_suf does not have compressed suffix\n",
      "in1: 100% in2: 100% \n",
      "pigz: skipping: ramdisk/geno_kmers is a directory\n",
      "pigz: skipping: ramdisk/kmer_union0.kmc_pre does not have compressed suffix\n",
      "pigz: skipping: ramdisk/kmer_union0.kmc_suf does not have compressed suffix\n",
      "in1: 100% in2: 100% 100% in2: 99% \n",
      "pigz: skipping: ramdisk/geno_kmers is a directory\n",
      "pigz: skipping: ramdisk/kmer_union1.kmc_pre does not have compressed suffix\n",
      "pigz: skipping: ramdisk/kmer_union1.kmc_suf does not have compressed suffix\n",
      "in1: 100% in2: 100% \n",
      "pigz: skipping: ramdisk/geno_kmers is a directory\n",
      "pigz: skipping: ramdisk/kmer_union0.kmc_pre does not have compressed suffix\n",
      "pigz: skipping: ramdisk/kmer_union0.kmc_suf does not have compressed suffix\n",
      "in1: 100% in2: 100% \n"
     ]
    },
    {
     "name": "stdout",
     "output_type": "stream",
     "text": [
      "Genotypes remaining: 253\n"
     ]
    },
    {
     "name": "stderr",
     "output_type": "stream",
     "text": [
      "pigz: skipping: ramdisk/geno_kmers is a directory\n",
      "in1: 100% in2: 100% \n",
      "pigz: skipping: ramdisk/geno_kmers is a directory\n",
      "pigz: skipping: ramdisk/kmer_union0.kmc_pre does not have compressed suffix\n",
      "pigz: skipping: ramdisk/kmer_union0.kmc_suf does not have compressed suffix\n",
      "in1: 100% in2: 100% \n",
      "pigz: skipping: ramdisk/geno_kmers is a directory\n",
      "pigz: skipping: ramdisk/kmer_union1.kmc_pre does not have compressed suffix\n",
      "pigz: skipping: ramdisk/kmer_union1.kmc_suf does not have compressed suffix\n",
      "in1: 100% in2: 100% \n",
      "pigz: skipping: ramdisk/geno_kmers is a directory\n",
      "pigz: skipping: ramdisk/kmer_union0.kmc_pre does not have compressed suffix\n",
      "pigz: skipping: ramdisk/kmer_union0.kmc_suf does not have compressed suffix\n",
      "in1: 100% in2: 100% \n",
      "pigz: skipping: ramdisk/geno_kmers is a directory\n",
      "pigz: skipping: ramdisk/kmer_union1.kmc_pre does not have compressed suffix\n",
      "pigz: skipping: ramdisk/kmer_union1.kmc_suf does not have compressed suffix\n",
      "in1: 100% in2: 100% \n",
      "pigz: skipping: ramdisk/geno_kmers is a directory\n",
      "pigz: skipping: ramdisk/kmer_union0.kmc_pre does not have compressed suffix\n",
      "pigz: skipping: ramdisk/kmer_union0.kmc_suf does not have compressed suffix\n",
      "in1: 100% in2: 100% \n"
     ]
    },
    {
     "name": "stdout",
     "output_type": "stream",
     "text": [
      "Genotypes remaining: 252\n"
     ]
    },
    {
     "name": "stderr",
     "output_type": "stream",
     "text": [
      "pigz: skipping: ramdisk/geno_kmers is a directory\n",
      "in1: 100% in2: 100% \n",
      "pigz: skipping: ramdisk/geno_kmers is a directory\n",
      "pigz: skipping: ramdisk/kmer_union0.kmc_pre does not have compressed suffix\n",
      "pigz: skipping: ramdisk/kmer_union0.kmc_suf does not have compressed suffix\n",
      "in1: 100% in2: 100% \n",
      "pigz: skipping: ramdisk/geno_kmers is a directory\n",
      "pigz: skipping: ramdisk/kmer_union1.kmc_pre does not have compressed suffix\n",
      "pigz: skipping: ramdisk/kmer_union1.kmc_suf does not have compressed suffix\n",
      "in1: 100% in2: 100% \n",
      "pigz: skipping: ramdisk/geno_kmers is a directory\n",
      "pigz: skipping: ramdisk/kmer_union0.kmc_pre does not have compressed suffix\n",
      "pigz: skipping: ramdisk/kmer_union0.kmc_suf does not have compressed suffix\n",
      "in1: 100% in2: 100% \n",
      "pigz: skipping: ramdisk/geno_kmers is a directory\n",
      "pigz: skipping: ramdisk/kmer_union1.kmc_pre does not have compressed suffix\n",
      "pigz: skipping: ramdisk/kmer_union1.kmc_suf does not have compressed suffix\n",
      "in1: 100% in2: 100% \n",
      "pigz: skipping: ramdisk/geno_kmers is a directory\n",
      "pigz: skipping: ramdisk/kmer_union0.kmc_pre does not have compressed suffix\n",
      "pigz: skipping: ramdisk/kmer_union0.kmc_suf does not have compressed suffix\n",
      "in1: 100% in2: 100% \n",
      "pigz: skipping: ramdisk/geno_kmers is a directory\n",
      "pigz: skipping: ramdisk/kmer_union1.kmc_pre does not have compressed suffix\n",
      "pigz: skipping: ramdisk/kmer_union1.kmc_suf does not have compressed suffix\n",
      "in1: 100% in2: 100% \n"
     ]
    },
    {
     "name": "stdout",
     "output_type": "stream",
     "text": [
      "Genotypes remaining: 251\n"
     ]
    },
    {
     "name": "stderr",
     "output_type": "stream",
     "text": [
      "pigz: skipping: ramdisk/geno_kmers is a directory\n",
      "in1: 100% in2: 100% \n",
      "pigz: skipping: ramdisk/geno_kmers is a directory\n",
      "pigz: skipping: ramdisk/kmer_union0.kmc_pre does not have compressed suffix\n",
      "pigz: skipping: ramdisk/kmer_union0.kmc_suf does not have compressed suffix\n",
      "in1: 100% in2: 100% \n"
     ]
    },
    {
     "name": "stdout",
     "output_type": "stream",
     "text": [
      "Genotypes remaining: 250\n"
     ]
    },
    {
     "name": "stderr",
     "output_type": "stream",
     "text": [
      "pigz: skipping: ramdisk/geno_kmers is a directory\n",
      "in1: 100% in2: 100% \n",
      "pigz: skipping: ramdisk/geno_kmers is a directory\n",
      "pigz: skipping: ramdisk/kmer_union0.kmc_pre does not have compressed suffix\n",
      "pigz: skipping: ramdisk/kmer_union0.kmc_suf does not have compressed suffix\n",
      "in1: 100% in2: 100% \n",
      "pigz: skipping: ramdisk/geno_kmers is a directory\n",
      "pigz: skipping: ramdisk/kmer_union1.kmc_pre does not have compressed suffix\n",
      "pigz: skipping: ramdisk/kmer_union1.kmc_suf does not have compressed suffix\n",
      "in1: 100% in2: 100% \n",
      "pigz: skipping: ramdisk/geno_kmers is a directory\n",
      "pigz: skipping: ramdisk/kmer_union0.kmc_pre does not have compressed suffix\n",
      "pigz: skipping: ramdisk/kmer_union0.kmc_suf does not have compressed suffix\n",
      "in1: 100% in2: 100% \n",
      "pigz: skipping: ramdisk/geno_kmers is a directory\n",
      "pigz: skipping: ramdisk/kmer_union1.kmc_pre does not have compressed suffix\n",
      "pigz: skipping: ramdisk/kmer_union1.kmc_suf does not have compressed suffix\n",
      "in1: 100% in2: 100% \n"
     ]
    },
    {
     "name": "stdout",
     "output_type": "stream",
     "text": [
      "Genotypes remaining: 249\n"
     ]
    },
    {
     "name": "stderr",
     "output_type": "stream",
     "text": [
      "pigz: skipping: ramdisk/geno_kmers is a directory\n",
      "in1: 100% in2: 100% \n",
      "pigz: skipping: ramdisk/geno_kmers is a directory\n",
      "pigz: skipping: ramdisk/kmer_union0.kmc_pre does not have compressed suffix\n",
      "pigz: skipping: ramdisk/kmer_union0.kmc_suf does not have compressed suffix\n",
      "in1: 100% in2: 100% \n",
      "pigz: skipping: ramdisk/geno_kmers is a directory\n",
      "pigz: skipping: ramdisk/kmer_union1.kmc_pre does not have compressed suffix\n",
      "pigz: skipping: ramdisk/kmer_union1.kmc_suf does not have compressed suffix\n",
      "in1: 100% in2: 100% \n",
      "pigz: skipping: ramdisk/geno_kmers is a directory\n",
      "pigz: skipping: ramdisk/kmer_union0.kmc_pre does not have compressed suffix\n",
      "pigz: skipping: ramdisk/kmer_union0.kmc_suf does not have compressed suffix\n",
      "in1: 100% in2: 100% \n",
      "pigz: skipping: ramdisk/geno_kmers is a directory\n",
      "pigz: skipping: ramdisk/kmer_union1.kmc_pre does not have compressed suffix\n",
      "pigz: skipping: ramdisk/kmer_union1.kmc_suf does not have compressed suffix\n",
      "in1: 100% in2: 100% \n",
      "pigz: skipping: ramdisk/geno_kmers is a directory\n",
      "pigz: skipping: ramdisk/kmer_union0.kmc_pre does not have compressed suffix\n",
      "pigz: skipping: ramdisk/kmer_union0.kmc_suf does not have compressed suffix\n",
      "in1: 100% in2: 100% \n"
     ]
    },
    {
     "name": "stdout",
     "output_type": "stream",
     "text": [
      "Genotypes remaining: 248\n"
     ]
    },
    {
     "name": "stderr",
     "output_type": "stream",
     "text": [
      "pigz: skipping: ramdisk/geno_kmers is a directory\n",
      "in1: 100% in2: 100% \n",
      "pigz: skipping: ramdisk/geno_kmers is a directory\n",
      "pigz: skipping: ramdisk/kmer_union0.kmc_pre does not have compressed suffix\n",
      "pigz: skipping: ramdisk/kmer_union0.kmc_suf does not have compressed suffix\n",
      "in1: 100% in2: 100% \n",
      "pigz: skipping: ramdisk/geno_kmers is a directory\n",
      "pigz: skipping: ramdisk/kmer_union1.kmc_pre does not have compressed suffix\n",
      "pigz: skipping: ramdisk/kmer_union1.kmc_suf does not have compressed suffix\n",
      "in1: 100% in2: 100% \n",
      "pigz: skipping: ramdisk/geno_kmers is a directory\n",
      "pigz: skipping: ramdisk/kmer_union0.kmc_pre does not have compressed suffix\n",
      "pigz: skipping: ramdisk/kmer_union0.kmc_suf does not have compressed suffix\n",
      "in1: 100% in2: 100% \n",
      "pigz: skipping: ramdisk/geno_kmers is a directory\n",
      "pigz: skipping: ramdisk/kmer_union1.kmc_pre does not have compressed suffix\n",
      "pigz: skipping: ramdisk/kmer_union1.kmc_suf does not have compressed suffix\n",
      "in1: 100% in2: 100% \n",
      "pigz: skipping: ramdisk/geno_kmers is a directory\n",
      "pigz: skipping: ramdisk/kmer_union0.kmc_pre does not have compressed suffix\n",
      "pigz: skipping: ramdisk/kmer_union0.kmc_suf does not have compressed suffix\n",
      "in1: 100% in2: 100% \n",
      "pigz: skipping: ramdisk/geno_kmers is a directory\n",
      "pigz: skipping: ramdisk/kmer_union1.kmc_pre does not have compressed suffix\n",
      "pigz: skipping: ramdisk/kmer_union1.kmc_suf does not have compressed suffix\n",
      "in1: 100% in2: 100% \n",
      "pigz: skipping: ramdisk/geno_kmers is a directory\n",
      "pigz: skipping: ramdisk/kmer_union0.kmc_pre does not have compressed suffix\n",
      "pigz: skipping: ramdisk/kmer_union0.kmc_suf does not have compressed suffix\n",
      "in1: 100% in2: 100% \n",
      "pigz: skipping: ramdisk/geno_kmers is a directory\n",
      "pigz: skipping: ramdisk/kmer_union1.kmc_pre does not have compressed suffix\n",
      "pigz: skipping: ramdisk/kmer_union1.kmc_suf does not have compressed suffix\n",
      "in1: 100% in2: 100% \n"
     ]
    },
    {
     "name": "stdout",
     "output_type": "stream",
     "text": [
      "Genotypes remaining: 247\n"
     ]
    },
    {
     "name": "stderr",
     "output_type": "stream",
     "text": [
      "pigz: skipping: ramdisk/geno_kmers is a directory\n"
     ]
    },
    {
     "name": "stdout",
     "output_type": "stream",
     "text": [
      "Genotypes remaining: 246\n"
     ]
    },
    {
     "name": "stderr",
     "output_type": "stream",
     "text": [
      "pigz: skipping: ramdisk/geno_kmers is a directory\n",
      "in1: 100% in2: 100% \n",
      "pigz: skipping: ramdisk/geno_kmers is a directory\n",
      "pigz: skipping: ramdisk/kmer_union0.kmc_pre does not have compressed suffix\n",
      "pigz: skipping: ramdisk/kmer_union0.kmc_suf does not have compressed suffix\n",
      "in1: 100% in2: 100% \n",
      "pigz: skipping: ramdisk/geno_kmers is a directory\n",
      "pigz: skipping: ramdisk/kmer_union1.kmc_pre does not have compressed suffix\n",
      "pigz: skipping: ramdisk/kmer_union1.kmc_suf does not have compressed suffix\n",
      "in1: 100% in2: 100% \n",
      "pigz: skipping: ramdisk/geno_kmers is a directory\n",
      "pigz: skipping: ramdisk/kmer_union0.kmc_pre does not have compressed suffix\n",
      "pigz: skipping: ramdisk/kmer_union0.kmc_suf does not have compressed suffix\n",
      "in1: 100% in2: 100% \n"
     ]
    },
    {
     "name": "stdout",
     "output_type": "stream",
     "text": [
      "Genotypes remaining: 245\n"
     ]
    },
    {
     "name": "stderr",
     "output_type": "stream",
     "text": [
      "pigz: skipping: ramdisk/geno_kmers is a directory\n",
      "in1: 100% in2: 100% \n",
      "pigz: skipping: ramdisk/geno_kmers is a directory\n",
      "pigz: skipping: ramdisk/kmer_union0.kmc_pre does not have compressed suffix\n",
      "pigz: skipping: ramdisk/kmer_union0.kmc_suf does not have compressed suffix\n",
      "in1: 100% in2: 100% \n",
      "pigz: skipping: ramdisk/geno_kmers is a directory\n",
      "pigz: skipping: ramdisk/kmer_union1.kmc_pre does not have compressed suffix\n",
      "pigz: skipping: ramdisk/kmer_union1.kmc_suf does not have compressed suffix\n",
      "in1: 100% in2: 100% \n",
      "pigz: skipping: ramdisk/geno_kmers is a directory\n",
      "pigz: skipping: ramdisk/kmer_union0.kmc_pre does not have compressed suffix\n",
      "pigz: skipping: ramdisk/kmer_union0.kmc_suf does not have compressed suffix\n",
      "in1: 100% in2: 100% \n",
      "pigz: skipping: ramdisk/geno_kmers is a directory\n",
      "pigz: skipping: ramdisk/kmer_union1.kmc_pre does not have compressed suffix\n",
      "pigz: skipping: ramdisk/kmer_union1.kmc_suf does not have compressed suffix\n",
      "in1: 100% in2: 100% \n"
     ]
    },
    {
     "name": "stdout",
     "output_type": "stream",
     "text": [
      "Genotypes remaining: 244\n"
     ]
    },
    {
     "name": "stderr",
     "output_type": "stream",
     "text": [
      "pigz: skipping: ramdisk/geno_kmers is a directory\n",
      "in1: 100% in2: 100% \n",
      "pigz: skipping: ramdisk/geno_kmers is a directory\n",
      "pigz: skipping: ramdisk/kmer_union0.kmc_pre does not have compressed suffix\n",
      "pigz: skipping: ramdisk/kmer_union0.kmc_suf does not have compressed suffix\n",
      "in1: 100% in2: 100% \n",
      "pigz: skipping: ramdisk/geno_kmers is a directory\n",
      "pigz: skipping: ramdisk/kmer_union1.kmc_pre does not have compressed suffix\n",
      "pigz: skipping: ramdisk/kmer_union1.kmc_suf does not have compressed suffix\n",
      "in1: 100% in2: 100% \n",
      "pigz: skipping: ramdisk/geno_kmers is a directory\n",
      "pigz: skipping: ramdisk/kmer_union0.kmc_pre does not have compressed suffix\n",
      "pigz: skipping: ramdisk/kmer_union0.kmc_suf does not have compressed suffix\n",
      "in1: 100% in2: 100% \n",
      "pigz: skipping: ramdisk/geno_kmers is a directory\n",
      "pigz: skipping: ramdisk/kmer_union1.kmc_pre does not have compressed suffix\n",
      "pigz: skipping: ramdisk/kmer_union1.kmc_suf does not have compressed suffix\n",
      "in1: 100% in2: 100% 28% in2: 43% \n",
      "pigz: skipping: ramdisk/geno_kmers is a directory\n",
      "pigz: skipping: ramdisk/kmer_union0.kmc_pre does not have compressed suffix\n",
      "pigz: skipping: ramdisk/kmer_union0.kmc_suf does not have compressed suffix\n",
      "in1: 100% in2: 100% \n"
     ]
    },
    {
     "name": "stdout",
     "output_type": "stream",
     "text": [
      "Genotypes remaining: 243\n"
     ]
    },
    {
     "name": "stderr",
     "output_type": "stream",
     "text": [
      "pigz: skipping: ramdisk/geno_kmers is a directory\n",
      "in1: 100% in2: 100% \n",
      "pigz: skipping: ramdisk/geno_kmers is a directory\n",
      "pigz: skipping: ramdisk/kmer_union0.kmc_pre does not have compressed suffix\n",
      "pigz: skipping: ramdisk/kmer_union0.kmc_suf does not have compressed suffix\n",
      "in1: 100% in2: 100% \n",
      "pigz: skipping: ramdisk/geno_kmers is a directory\n",
      "pigz: skipping: ramdisk/kmer_union1.kmc_pre does not have compressed suffix\n",
      "pigz: skipping: ramdisk/kmer_union1.kmc_suf does not have compressed suffix\n",
      "in1: 100% in2: 100% \n",
      "pigz: skipping: ramdisk/geno_kmers is a directory\n",
      "pigz: skipping: ramdisk/kmer_union0.kmc_pre does not have compressed suffix\n",
      "pigz: skipping: ramdisk/kmer_union0.kmc_suf does not have compressed suffix\n",
      "in1: 100% in2: 100% \n",
      "pigz: skipping: ramdisk/geno_kmers is a directory\n",
      "pigz: skipping: ramdisk/kmer_union1.kmc_pre does not have compressed suffix\n",
      "pigz: skipping: ramdisk/kmer_union1.kmc_suf does not have compressed suffix\n",
      "in1: 100% in2: 100% \n"
     ]
    },
    {
     "name": "stdout",
     "output_type": "stream",
     "text": [
      "Genotypes remaining: 242\n"
     ]
    },
    {
     "name": "stderr",
     "output_type": "stream",
     "text": [
      "pigz: skipping: ramdisk/geno_kmers is a directory\n",
      "in1: 100% in2: 100% \n"
     ]
    },
    {
     "name": "stdout",
     "output_type": "stream",
     "text": [
      "Genotypes remaining: 241\n"
     ]
    },
    {
     "name": "stderr",
     "output_type": "stream",
     "text": [
      "pigz: skipping: ramdisk/geno_kmers is a directory\n",
      "in1: 100% in2: 100% \n",
      "pigz: skipping: ramdisk/geno_kmers is a directory\n",
      "pigz: skipping: ramdisk/kmer_union0.kmc_pre does not have compressed suffix\n",
      "pigz: skipping: ramdisk/kmer_union0.kmc_suf does not have compressed suffix\n",
      "in1: 100% in2: 100% \n",
      "pigz: skipping: ramdisk/geno_kmers is a directory\n",
      "pigz: skipping: ramdisk/kmer_union1.kmc_pre does not have compressed suffix\n",
      "pigz: skipping: ramdisk/kmer_union1.kmc_suf does not have compressed suffix\n",
      "in1: 100% in2: 100% \n",
      "pigz: skipping: ramdisk/geno_kmers is a directory\n",
      "pigz: skipping: ramdisk/kmer_union0.kmc_pre does not have compressed suffix\n",
      "pigz: skipping: ramdisk/kmer_union0.kmc_suf does not have compressed suffix\n",
      "in1: 100% in2: 100% \n",
      "pigz: skipping: ramdisk/geno_kmers is a directory\n",
      "pigz: skipping: ramdisk/kmer_union1.kmc_pre does not have compressed suffix\n",
      "pigz: skipping: ramdisk/kmer_union1.kmc_suf does not have compressed suffix\n",
      "in1: 100% in2: 100% \n"
     ]
    },
    {
     "name": "stdout",
     "output_type": "stream",
     "text": [
      "Genotypes remaining: 240\n"
     ]
    },
    {
     "name": "stderr",
     "output_type": "stream",
     "text": [
      "pigz: skipping: ramdisk/geno_kmers is a directory\n",
      "in1: 100% in2: 100% \n",
      "pigz: skipping: ramdisk/geno_kmers is a directory\n",
      "pigz: skipping: ramdisk/kmer_union0.kmc_pre does not have compressed suffix\n",
      "pigz: skipping: ramdisk/kmer_union0.kmc_suf does not have compressed suffix\n",
      "in1: 100% in2: 100% \n",
      "pigz: skipping: ramdisk/geno_kmers is a directory\n",
      "pigz: skipping: ramdisk/kmer_union1.kmc_pre does not have compressed suffix\n",
      "pigz: skipping: ramdisk/kmer_union1.kmc_suf does not have compressed suffix\n",
      "in1: 100% in2: 100% \n",
      "pigz: skipping: ramdisk/geno_kmers is a directory\n",
      "pigz: skipping: ramdisk/kmer_union0.kmc_pre does not have compressed suffix\n",
      "pigz: skipping: ramdisk/kmer_union0.kmc_suf does not have compressed suffix\n",
      "in1: 100% in2: 100% \n",
      "pigz: skipping: ramdisk/geno_kmers is a directory\n",
      "pigz: skipping: ramdisk/kmer_union1.kmc_pre does not have compressed suffix\n",
      "pigz: skipping: ramdisk/kmer_union1.kmc_suf does not have compressed suffix\n",
      "in1: 100% in2: 100% \n"
     ]
    },
    {
     "name": "stdout",
     "output_type": "stream",
     "text": [
      "Genotypes remaining: 239\n"
     ]
    },
    {
     "name": "stderr",
     "output_type": "stream",
     "text": [
      "pigz: skipping: ramdisk/geno_kmers is a directory\n",
      "in1: 100% in2: 100% \n",
      "pigz: skipping: ramdisk/geno_kmers is a directory\n",
      "pigz: skipping: ramdisk/kmer_union0.kmc_pre does not have compressed suffix\n",
      "pigz: skipping: ramdisk/kmer_union0.kmc_suf does not have compressed suffix\n",
      "in1: 100% in2: 100% \n",
      "pigz: skipping: ramdisk/geno_kmers is a directory\n",
      "pigz: skipping: ramdisk/kmer_union1.kmc_pre does not have compressed suffix\n",
      "pigz: skipping: ramdisk/kmer_union1.kmc_suf does not have compressed suffix\n",
      "in1: 100% in2: 100% \n",
      "pigz: skipping: ramdisk/geno_kmers is a directory\n",
      "pigz: skipping: ramdisk/kmer_union0.kmc_pre does not have compressed suffix\n",
      "pigz: skipping: ramdisk/kmer_union0.kmc_suf does not have compressed suffix\n",
      "in1: 100% in2: 100% 31% in2: 33% \n",
      "pigz: skipping: ramdisk/geno_kmers is a directory\n",
      "pigz: skipping: ramdisk/kmer_union1.kmc_pre does not have compressed suffix\n",
      "pigz: skipping: ramdisk/kmer_union1.kmc_suf does not have compressed suffix\n",
      "in1: 100% in2: 100% \n"
     ]
    },
    {
     "name": "stdout",
     "output_type": "stream",
     "text": [
      "Genotypes remaining: 238\n"
     ]
    },
    {
     "name": "stderr",
     "output_type": "stream",
     "text": [
      "pigz: skipping: ramdisk/geno_kmers is a directory\n"
     ]
    },
    {
     "name": "stdout",
     "output_type": "stream",
     "text": [
      "Genotypes remaining: 237\n"
     ]
    },
    {
     "name": "stderr",
     "output_type": "stream",
     "text": [
      "pigz: skipping: ramdisk/geno_kmers is a directory\n",
      "in1: 100% in2: 100% \n",
      "pigz: skipping: ramdisk/geno_kmers is a directory\n",
      "pigz: skipping: ramdisk/kmer_union0.kmc_pre does not have compressed suffix\n",
      "pigz: skipping: ramdisk/kmer_union0.kmc_suf does not have compressed suffix\n",
      "in1: 100% in2: 100% \n",
      "pigz: skipping: ramdisk/geno_kmers is a directory\n",
      "pigz: skipping: ramdisk/kmer_union1.kmc_pre does not have compressed suffix\n",
      "pigz: skipping: ramdisk/kmer_union1.kmc_suf does not have compressed suffix\n",
      "in1: 100% in2: 100% \n",
      "pigz: skipping: ramdisk/geno_kmers is a directory\n",
      "pigz: skipping: ramdisk/kmer_union0.kmc_pre does not have compressed suffix\n",
      "pigz: skipping: ramdisk/kmer_union0.kmc_suf does not have compressed suffix\n",
      "in1: 100% in2: 100% \n",
      "pigz: skipping: ramdisk/geno_kmers is a directory\n",
      "pigz: skipping: ramdisk/kmer_union1.kmc_pre does not have compressed suffix\n",
      "pigz: skipping: ramdisk/kmer_union1.kmc_suf does not have compressed suffix\n",
      "in1: 100% in2: 100% \n",
      "pigz: skipping: ramdisk/geno_kmers is a directory\n",
      "pigz: skipping: ramdisk/kmer_union0.kmc_pre does not have compressed suffix\n",
      "pigz: skipping: ramdisk/kmer_union0.kmc_suf does not have compressed suffix\n",
      "in1: 100% in2: 100% \n"
     ]
    },
    {
     "name": "stdout",
     "output_type": "stream",
     "text": [
      "Genotypes remaining: 236\n"
     ]
    },
    {
     "name": "stderr",
     "output_type": "stream",
     "text": [
      "pigz: skipping: ramdisk/geno_kmers is a directory\n",
      "in1: 100% in2: 100% \n",
      "pigz: skipping: ramdisk/geno_kmers is a directory\n",
      "pigz: skipping: ramdisk/kmer_union0.kmc_pre does not have compressed suffix\n",
      "pigz: skipping: ramdisk/kmer_union0.kmc_suf does not have compressed suffix\n",
      "in1: 100% in2: 100% \n",
      "pigz: skipping: ramdisk/geno_kmers is a directory\n",
      "pigz: skipping: ramdisk/kmer_union1.kmc_pre does not have compressed suffix\n",
      "pigz: skipping: ramdisk/kmer_union1.kmc_suf does not have compressed suffix\n",
      "in1: 100% in2: 100% \n",
      "pigz: skipping: ramdisk/geno_kmers is a directory\n",
      "pigz: skipping: ramdisk/kmer_union0.kmc_pre does not have compressed suffix\n",
      "pigz: skipping: ramdisk/kmer_union0.kmc_suf does not have compressed suffix\n",
      "in1: 100% in2: 100% \n",
      "pigz: skipping: ramdisk/geno_kmers is a directory\n",
      "pigz: skipping: ramdisk/kmer_union1.kmc_pre does not have compressed suffix\n",
      "pigz: skipping: ramdisk/kmer_union1.kmc_suf does not have compressed suffix\n",
      "in1: 100% in2: 100% \n",
      "pigz: skipping: ramdisk/geno_kmers is a directory\n",
      "pigz: skipping: ramdisk/kmer_union0.kmc_pre does not have compressed suffix\n",
      "pigz: skipping: ramdisk/kmer_union0.kmc_suf does not have compressed suffix\n",
      "in1: 100% in2: 100% \n"
     ]
    },
    {
     "name": "stdout",
     "output_type": "stream",
     "text": [
      "Genotypes remaining: 235\n"
     ]
    },
    {
     "name": "stderr",
     "output_type": "stream",
     "text": [
      "pigz: skipping: ramdisk/geno_kmers is a directory\n",
      "in1: 100% in2: 100% \n",
      "pigz: skipping: ramdisk/geno_kmers is a directory\n",
      "pigz: skipping: ramdisk/kmer_union0.kmc_pre does not have compressed suffix\n",
      "pigz: skipping: ramdisk/kmer_union0.kmc_suf does not have compressed suffix\n",
      "in1: 100% in2: 100% \n",
      "pigz: skipping: ramdisk/geno_kmers is a directory\n",
      "pigz: skipping: ramdisk/kmer_union1.kmc_pre does not have compressed suffix\n",
      "pigz: skipping: ramdisk/kmer_union1.kmc_suf does not have compressed suffix\n",
      "in1: 100% in2: 100% \n",
      "pigz: skipping: ramdisk/geno_kmers is a directory\n",
      "pigz: skipping: ramdisk/kmer_union0.kmc_pre does not have compressed suffix\n",
      "pigz: skipping: ramdisk/kmer_union0.kmc_suf does not have compressed suffix\n",
      "in1: 100% in2: 100% \n",
      "pigz: skipping: ramdisk/geno_kmers is a directory\n",
      "pigz: skipping: ramdisk/kmer_union1.kmc_pre does not have compressed suffix\n",
      "pigz: skipping: ramdisk/kmer_union1.kmc_suf does not have compressed suffix\n",
      "in1: 100% in2: 100% \n",
      "pigz: skipping: ramdisk/geno_kmers is a directory\n",
      "pigz: skipping: ramdisk/kmer_union0.kmc_pre does not have compressed suffix\n",
      "pigz: skipping: ramdisk/kmer_union0.kmc_suf does not have compressed suffix\n",
      "in1: 100% in2: 100% \n"
     ]
    },
    {
     "name": "stdout",
     "output_type": "stream",
     "text": [
      "Genotypes remaining: 234\n"
     ]
    },
    {
     "name": "stderr",
     "output_type": "stream",
     "text": [
      "pigz: skipping: ramdisk/geno_kmers is a directory\n",
      "in1: 100% in2: 100% \n",
      "pigz: skipping: ramdisk/geno_kmers is a directory\n",
      "pigz: skipping: ramdisk/kmer_union0.kmc_pre does not have compressed suffix\n",
      "pigz: skipping: ramdisk/kmer_union0.kmc_suf does not have compressed suffix\n",
      "in1: 100% in2: 100% \n",
      "pigz: skipping: ramdisk/geno_kmers is a directory\n",
      "pigz: skipping: ramdisk/kmer_union1.kmc_pre does not have compressed suffix\n",
      "pigz: skipping: ramdisk/kmer_union1.kmc_suf does not have compressed suffix\n",
      "in1: 100% in2: 100% \n",
      "pigz: skipping: ramdisk/geno_kmers is a directory\n",
      "pigz: skipping: ramdisk/kmer_union0.kmc_pre does not have compressed suffix\n",
      "pigz: skipping: ramdisk/kmer_union0.kmc_suf does not have compressed suffix\n",
      "in1: 100% in2: 100% \n",
      "pigz: skipping: ramdisk/geno_kmers is a directory\n",
      "pigz: skipping: ramdisk/kmer_union1.kmc_pre does not have compressed suffix\n",
      "pigz: skipping: ramdisk/kmer_union1.kmc_suf does not have compressed suffix\n",
      "in1: 100% in2: 100% \n",
      "pigz: skipping: ramdisk/geno_kmers is a directory\n",
      "pigz: skipping: ramdisk/kmer_union0.kmc_pre does not have compressed suffix\n",
      "pigz: skipping: ramdisk/kmer_union0.kmc_suf does not have compressed suffix\n",
      "in1: 100% in2: 100% \n"
     ]
    },
    {
     "name": "stdout",
     "output_type": "stream",
     "text": [
      "Genotypes remaining: 233\n"
     ]
    },
    {
     "name": "stderr",
     "output_type": "stream",
     "text": [
      "pigz: skipping: ramdisk/geno_kmers is a directory\n",
      "in1: 100% in2: 100% \n",
      "pigz: skipping: ramdisk/geno_kmers is a directory\n",
      "pigz: skipping: ramdisk/kmer_union0.kmc_pre does not have compressed suffix\n",
      "pigz: skipping: ramdisk/kmer_union0.kmc_suf does not have compressed suffix\n",
      "in1: 100% in2: 100% \n",
      "pigz: skipping: ramdisk/geno_kmers is a directory\n",
      "pigz: skipping: ramdisk/kmer_union1.kmc_pre does not have compressed suffix\n",
      "pigz: skipping: ramdisk/kmer_union1.kmc_suf does not have compressed suffix\n",
      "in1: 100% in2: 100% \n",
      "pigz: skipping: ramdisk/geno_kmers is a directory\n",
      "pigz: skipping: ramdisk/kmer_union0.kmc_pre does not have compressed suffix\n",
      "pigz: skipping: ramdisk/kmer_union0.kmc_suf does not have compressed suffix\n",
      "in1: 100% in2: 100% \n"
     ]
    },
    {
     "name": "stdout",
     "output_type": "stream",
     "text": [
      "Genotypes remaining: 232\n"
     ]
    },
    {
     "name": "stderr",
     "output_type": "stream",
     "text": [
      "pigz: skipping: ramdisk/geno_kmers is a directory\n",
      "in1: 100% in2: 100% \n",
      "pigz: skipping: ramdisk/geno_kmers is a directory\n",
      "pigz: skipping: ramdisk/kmer_union0.kmc_pre does not have compressed suffix\n",
      "pigz: skipping: ramdisk/kmer_union0.kmc_suf does not have compressed suffix\n",
      "in1: 100% in2: 100% \n",
      "pigz: skipping: ramdisk/geno_kmers is a directory\n",
      "pigz: skipping: ramdisk/kmer_union1.kmc_pre does not have compressed suffix\n",
      "pigz: skipping: ramdisk/kmer_union1.kmc_suf does not have compressed suffix\n",
      "in1: 100% in2: 100% \n",
      "pigz: skipping: ramdisk/geno_kmers is a directory\n",
      "pigz: skipping: ramdisk/kmer_union0.kmc_pre does not have compressed suffix\n",
      "pigz: skipping: ramdisk/kmer_union0.kmc_suf does not have compressed suffix\n",
      "in1: 100% in2: 100% \n",
      "pigz: skipping: ramdisk/geno_kmers is a directory\n",
      "pigz: skipping: ramdisk/kmer_union1.kmc_pre does not have compressed suffix\n",
      "pigz: skipping: ramdisk/kmer_union1.kmc_suf does not have compressed suffix\n",
      "in1: 100% in2: 100% \n",
      "pigz: skipping: ramdisk/geno_kmers is a directory\n",
      "pigz: skipping: ramdisk/kmer_union0.kmc_pre does not have compressed suffix\n",
      "pigz: skipping: ramdisk/kmer_union0.kmc_suf does not have compressed suffix\n",
      "in1: 100% in2: 100% \n"
     ]
    },
    {
     "name": "stdout",
     "output_type": "stream",
     "text": [
      "Genotypes remaining: 231\n"
     ]
    },
    {
     "name": "stderr",
     "output_type": "stream",
     "text": [
      "pigz: skipping: ramdisk/geno_kmers is a directory\n",
      "in1: 100% in2: 100% \n",
      "pigz: skipping: ramdisk/geno_kmers is a directory\n",
      "pigz: skipping: ramdisk/kmer_union0.kmc_pre does not have compressed suffix\n",
      "pigz: skipping: ramdisk/kmer_union0.kmc_suf does not have compressed suffix\n",
      "in1: 100% in2: 100% \n",
      "pigz: skipping: ramdisk/geno_kmers is a directory\n",
      "pigz: skipping: ramdisk/kmer_union1.kmc_pre does not have compressed suffix\n",
      "pigz: skipping: ramdisk/kmer_union1.kmc_suf does not have compressed suffix\n",
      "in1: 100% in2: 100% \n",
      "pigz: skipping: ramdisk/geno_kmers is a directory\n",
      "pigz: skipping: ramdisk/kmer_union0.kmc_pre does not have compressed suffix\n",
      "pigz: skipping: ramdisk/kmer_union0.kmc_suf does not have compressed suffix\n",
      "in1: 100% in2: 100% \n",
      "pigz: skipping: ramdisk/geno_kmers is a directory\n",
      "pigz: skipping: ramdisk/kmer_union1.kmc_pre does not have compressed suffix\n",
      "pigz: skipping: ramdisk/kmer_union1.kmc_suf does not have compressed suffix\n",
      "in1: 100% in2: 100% \n",
      "pigz: skipping: ramdisk/geno_kmers is a directory\n",
      "pigz: skipping: ramdisk/kmer_union0.kmc_pre does not have compressed suffix\n",
      "pigz: skipping: ramdisk/kmer_union0.kmc_suf does not have compressed suffix\n",
      "in1: 100% in2: 100% \n",
      "pigz: skipping: ramdisk/geno_kmers is a directory\n",
      "pigz: skipping: ramdisk/kmer_union1.kmc_pre does not have compressed suffix\n",
      "pigz: skipping: ramdisk/kmer_union1.kmc_suf does not have compressed suffix\n",
      "in1: 100% in2: 100% \n"
     ]
    },
    {
     "name": "stdout",
     "output_type": "stream",
     "text": [
      "Genotypes remaining: 230\n"
     ]
    },
    {
     "name": "stderr",
     "output_type": "stream",
     "text": [
      "pigz: skipping: ramdisk/geno_kmers is a directory\n",
      "in1: 100% in2: 100% \n",
      "pigz: skipping: ramdisk/geno_kmers is a directory\n",
      "pigz: skipping: ramdisk/kmer_union0.kmc_pre does not have compressed suffix\n",
      "pigz: skipping: ramdisk/kmer_union0.kmc_suf does not have compressed suffix\n",
      "in1: 100% in2: 100% \n",
      "pigz: skipping: ramdisk/geno_kmers is a directory\n",
      "pigz: skipping: ramdisk/kmer_union1.kmc_pre does not have compressed suffix\n",
      "pigz: skipping: ramdisk/kmer_union1.kmc_suf does not have compressed suffix\n",
      "in1: 100% in2: 100% \n",
      "pigz: skipping: ramdisk/geno_kmers is a directory\n",
      "pigz: skipping: ramdisk/kmer_union0.kmc_pre does not have compressed suffix\n",
      "pigz: skipping: ramdisk/kmer_union0.kmc_suf does not have compressed suffix\n",
      "in1: 100% in2: 100% \n",
      "pigz: skipping: ramdisk/geno_kmers is a directory\n",
      "pigz: skipping: ramdisk/kmer_union1.kmc_pre does not have compressed suffix\n",
      "pigz: skipping: ramdisk/kmer_union1.kmc_suf does not have compressed suffix\n",
      "in1: 100% in2: 100% \n"
     ]
    },
    {
     "name": "stdout",
     "output_type": "stream",
     "text": [
      "Genotypes remaining: 229\n"
     ]
    },
    {
     "name": "stderr",
     "output_type": "stream",
     "text": [
      "pigz: skipping: ramdisk/geno_kmers is a directory\n",
      "in1: 100% in2: 100% \n",
      "pigz: skipping: ramdisk/geno_kmers is a directory\n",
      "pigz: skipping: ramdisk/kmer_union0.kmc_pre does not have compressed suffix\n",
      "pigz: skipping: ramdisk/kmer_union0.kmc_suf does not have compressed suffix\n",
      "in1: 100% in2: 100% \n",
      "pigz: skipping: ramdisk/geno_kmers is a directory\n",
      "pigz: skipping: ramdisk/kmer_union1.kmc_pre does not have compressed suffix\n",
      "pigz: skipping: ramdisk/kmer_union1.kmc_suf does not have compressed suffix\n",
      "in1: 100% in2: 100% \n",
      "pigz: skipping: ramdisk/geno_kmers is a directory\n",
      "pigz: skipping: ramdisk/kmer_union0.kmc_pre does not have compressed suffix\n",
      "pigz: skipping: ramdisk/kmer_union0.kmc_suf does not have compressed suffix\n",
      "in1: 100% in2: 100% \n",
      "pigz: skipping: ramdisk/geno_kmers is a directory\n",
      "pigz: skipping: ramdisk/kmer_union1.kmc_pre does not have compressed suffix\n",
      "pigz: skipping: ramdisk/kmer_union1.kmc_suf does not have compressed suffix\n",
      "in1: 100% in2: 100% \n",
      "pigz: skipping: ramdisk/geno_kmers is a directory\n",
      "pigz: skipping: ramdisk/kmer_union0.kmc_pre does not have compressed suffix\n",
      "pigz: skipping: ramdisk/kmer_union0.kmc_suf does not have compressed suffix\n",
      "in1: 100% in2: 100% \n"
     ]
    },
    {
     "name": "stdout",
     "output_type": "stream",
     "text": [
      "Genotypes remaining: 228\n"
     ]
    },
    {
     "name": "stderr",
     "output_type": "stream",
     "text": [
      "pigz: skipping: ramdisk/geno_kmers is a directory\n",
      "in1: 100% in2: 100% \n",
      "pigz: skipping: ramdisk/geno_kmers is a directory\n",
      "pigz: skipping: ramdisk/kmer_union0.kmc_pre does not have compressed suffix\n",
      "pigz: skipping: ramdisk/kmer_union0.kmc_suf does not have compressed suffix\n",
      "in1: 100% in2: 100% \n",
      "pigz: skipping: ramdisk/geno_kmers is a directory\n",
      "pigz: skipping: ramdisk/kmer_union1.kmc_pre does not have compressed suffix\n",
      "pigz: skipping: ramdisk/kmer_union1.kmc_suf does not have compressed suffix\n",
      "in1: 100% in2: 100% \n",
      "pigz: skipping: ramdisk/geno_kmers is a directory\n",
      "pigz: skipping: ramdisk/kmer_union0.kmc_pre does not have compressed suffix\n",
      "pigz: skipping: ramdisk/kmer_union0.kmc_suf does not have compressed suffix\n",
      "in1: 100% in2: 100% \n",
      "pigz: skipping: ramdisk/geno_kmers is a directory\n",
      "pigz: skipping: ramdisk/kmer_union1.kmc_pre does not have compressed suffix\n",
      "pigz: skipping: ramdisk/kmer_union1.kmc_suf does not have compressed suffix\n",
      "in1: 100% in2: 100% \n",
      "pigz: skipping: ramdisk/geno_kmers is a directory\n",
      "pigz: skipping: ramdisk/kmer_union0.kmc_pre does not have compressed suffix\n",
      "pigz: skipping: ramdisk/kmer_union0.kmc_suf does not have compressed suffix\n",
      "in1: 100% in2: 100% \n",
      "pigz: skipping: ramdisk/geno_kmers is a directory\n",
      "pigz: skipping: ramdisk/kmer_union1.kmc_pre does not have compressed suffix\n",
      "pigz: skipping: ramdisk/kmer_union1.kmc_suf does not have compressed suffix\n",
      "in1: 100% in2: 100% \n"
     ]
    },
    {
     "name": "stdout",
     "output_type": "stream",
     "text": [
      "Genotypes remaining: 227\n"
     ]
    },
    {
     "name": "stderr",
     "output_type": "stream",
     "text": [
      "pigz: skipping: ramdisk/geno_kmers is a directory\n",
      "in1: 100% in2: 100% \n",
      "pigz: skipping: ramdisk/geno_kmers is a directory\n",
      "pigz: skipping: ramdisk/kmer_union0.kmc_pre does not have compressed suffix\n",
      "pigz: skipping: ramdisk/kmer_union0.kmc_suf does not have compressed suffix\n",
      "in1: 100% in2: 100% \n",
      "pigz: skipping: ramdisk/geno_kmers is a directory\n",
      "pigz: skipping: ramdisk/kmer_union1.kmc_pre does not have compressed suffix\n",
      "pigz: skipping: ramdisk/kmer_union1.kmc_suf does not have compressed suffix\n",
      "in1: 100% in2: 100% \n",
      "pigz: skipping: ramdisk/geno_kmers is a directory\n",
      "pigz: skipping: ramdisk/kmer_union0.kmc_pre does not have compressed suffix\n",
      "pigz: skipping: ramdisk/kmer_union0.kmc_suf does not have compressed suffix\n",
      "in1: 100% in2: 100% \n"
     ]
    },
    {
     "name": "stdout",
     "output_type": "stream",
     "text": [
      "Genotypes remaining: 226\n"
     ]
    },
    {
     "name": "stderr",
     "output_type": "stream",
     "text": [
      "pigz: skipping: ramdisk/geno_kmers is a directory\n",
      "in1: 100% in2: 100% \n",
      "pigz: skipping: ramdisk/geno_kmers is a directory\n",
      "pigz: skipping: ramdisk/kmer_union0.kmc_pre does not have compressed suffix\n",
      "pigz: skipping: ramdisk/kmer_union0.kmc_suf does not have compressed suffix\n",
      "in1: 100% in2: 100% \n",
      "pigz: skipping: ramdisk/geno_kmers is a directory\n",
      "pigz: skipping: ramdisk/kmer_union1.kmc_pre does not have compressed suffix\n",
      "pigz: skipping: ramdisk/kmer_union1.kmc_suf does not have compressed suffix\n",
      "in1: 100% in2: 100% \n",
      "pigz: skipping: ramdisk/geno_kmers is a directory\n",
      "pigz: skipping: ramdisk/kmer_union0.kmc_pre does not have compressed suffix\n",
      "pigz: skipping: ramdisk/kmer_union0.kmc_suf does not have compressed suffix\n",
      "in1: 100% in2: 100% \n"
     ]
    },
    {
     "name": "stdout",
     "output_type": "stream",
     "text": [
      "Genotypes remaining: 225\n"
     ]
    },
    {
     "name": "stderr",
     "output_type": "stream",
     "text": [
      "pigz: skipping: ramdisk/geno_kmers is a directory\n",
      "in1: 100% in2: 100% \n",
      "pigz: skipping: ramdisk/geno_kmers is a directory\n",
      "pigz: skipping: ramdisk/kmer_union0.kmc_pre does not have compressed suffix\n",
      "pigz: skipping: ramdisk/kmer_union0.kmc_suf does not have compressed suffix\n",
      "in1: 100% in2: 100% \n",
      "pigz: skipping: ramdisk/geno_kmers is a directory\n",
      "pigz: skipping: ramdisk/kmer_union1.kmc_pre does not have compressed suffix\n",
      "pigz: skipping: ramdisk/kmer_union1.kmc_suf does not have compressed suffix\n",
      "in1: 100% in2: 100% \n",
      "pigz: skipping: ramdisk/geno_kmers is a directory\n",
      "pigz: skipping: ramdisk/kmer_union0.kmc_pre does not have compressed suffix\n",
      "pigz: skipping: ramdisk/kmer_union0.kmc_suf does not have compressed suffix\n",
      "in1: 100% in2: 100% \n"
     ]
    },
    {
     "name": "stdout",
     "output_type": "stream",
     "text": [
      "Genotypes remaining: 224\n"
     ]
    },
    {
     "name": "stderr",
     "output_type": "stream",
     "text": [
      "pigz: skipping: ramdisk/geno_kmers is a directory\n",
      "in1: 100% in2: 100% \n",
      "pigz: skipping: ramdisk/geno_kmers is a directory\n",
      "pigz: skipping: ramdisk/kmer_union0.kmc_pre does not have compressed suffix\n",
      "pigz: skipping: ramdisk/kmer_union0.kmc_suf does not have compressed suffix\n",
      "in1: 100% in2: 100% \n",
      "pigz: skipping: ramdisk/geno_kmers is a directory\n",
      "pigz: skipping: ramdisk/kmer_union1.kmc_pre does not have compressed suffix\n",
      "pigz: skipping: ramdisk/kmer_union1.kmc_suf does not have compressed suffix\n",
      "in1: 100% in2: 100% \n",
      "pigz: skipping: ramdisk/geno_kmers is a directory\n",
      "pigz: skipping: ramdisk/kmer_union0.kmc_pre does not have compressed suffix\n",
      "pigz: skipping: ramdisk/kmer_union0.kmc_suf does not have compressed suffix\n",
      "in1: 100% in2: 100% \n",
      "pigz: skipping: ramdisk/geno_kmers is a directory\n",
      "pigz: skipping: ramdisk/kmer_union1.kmc_pre does not have compressed suffix\n",
      "pigz: skipping: ramdisk/kmer_union1.kmc_suf does not have compressed suffix\n",
      "in1: 100% in2: 100% in2: 73% \n"
     ]
    },
    {
     "name": "stdout",
     "output_type": "stream",
     "text": [
      "Genotypes remaining: 223\n"
     ]
    },
    {
     "name": "stderr",
     "output_type": "stream",
     "text": [
      "pigz: skipping: ramdisk/geno_kmers is a directory\n",
      "in1: 100% in2: 100% \n",
      "pigz: skipping: ramdisk/geno_kmers is a directory\n",
      "pigz: skipping: ramdisk/kmer_union0.kmc_pre does not have compressed suffix\n",
      "pigz: skipping: ramdisk/kmer_union0.kmc_suf does not have compressed suffix\n",
      "in1: 100% in2: 100% \n",
      "pigz: skipping: ramdisk/geno_kmers is a directory\n",
      "pigz: skipping: ramdisk/kmer_union1.kmc_pre does not have compressed suffix\n",
      "pigz: skipping: ramdisk/kmer_union1.kmc_suf does not have compressed suffix\n",
      "in1: 100% in2: 100% \n",
      "pigz: skipping: ramdisk/geno_kmers is a directory\n",
      "pigz: skipping: ramdisk/kmer_union0.kmc_pre does not have compressed suffix\n",
      "pigz: skipping: ramdisk/kmer_union0.kmc_suf does not have compressed suffix\n",
      "in1: 100% in2: 100% \n",
      "pigz: skipping: ramdisk/geno_kmers is a directory\n",
      "pigz: skipping: ramdisk/kmer_union1.kmc_pre does not have compressed suffix\n",
      "pigz: skipping: ramdisk/kmer_union1.kmc_suf does not have compressed suffix\n",
      "in1: 100% in2: 100% \n",
      "pigz: skipping: ramdisk/geno_kmers is a directory\n",
      "pigz: skipping: ramdisk/kmer_union0.kmc_pre does not have compressed suffix\n",
      "pigz: skipping: ramdisk/kmer_union0.kmc_suf does not have compressed suffix\n",
      "in1: 100% in2: 100% \n"
     ]
    },
    {
     "name": "stdout",
     "output_type": "stream",
     "text": [
      "Genotypes remaining: 222\n"
     ]
    },
    {
     "name": "stderr",
     "output_type": "stream",
     "text": [
      "pigz: skipping: ramdisk/geno_kmers is a directory\n",
      "in1: 100% in2: 100% \n",
      "pigz: skipping: ramdisk/geno_kmers is a directory\n",
      "pigz: skipping: ramdisk/kmer_union0.kmc_pre does not have compressed suffix\n",
      "pigz: skipping: ramdisk/kmer_union0.kmc_suf does not have compressed suffix\n",
      "in1: 100% in2: 100% 2: 84% \n"
     ]
    },
    {
     "name": "stdout",
     "output_type": "stream",
     "text": [
      "Genotypes remaining: 221\n"
     ]
    },
    {
     "name": "stderr",
     "output_type": "stream",
     "text": [
      "pigz: skipping: ramdisk/geno_kmers is a directory\n",
      "in1: 100% in2: 100% \n",
      "pigz: skipping: ramdisk/geno_kmers is a directory\n",
      "pigz: skipping: ramdisk/kmer_union0.kmc_pre does not have compressed suffix\n",
      "pigz: skipping: ramdisk/kmer_union0.kmc_suf does not have compressed suffix\n",
      "in1: 100% in2: 100% % in2: 52% \n",
      "pigz: skipping: ramdisk/geno_kmers is a directory\n",
      "pigz: skipping: ramdisk/kmer_union1.kmc_pre does not have compressed suffix\n",
      "pigz: skipping: ramdisk/kmer_union1.kmc_suf does not have compressed suffix\n",
      "in1: 100% in2: 100% \n",
      "pigz: skipping: ramdisk/geno_kmers is a directory\n",
      "pigz: skipping: ramdisk/kmer_union0.kmc_pre does not have compressed suffix\n",
      "pigz: skipping: ramdisk/kmer_union0.kmc_suf does not have compressed suffix\n",
      "in1: 100% in2: 100% \n",
      "pigz: skipping: ramdisk/geno_kmers is a directory\n",
      "pigz: skipping: ramdisk/kmer_union1.kmc_pre does not have compressed suffix\n",
      "pigz: skipping: ramdisk/kmer_union1.kmc_suf does not have compressed suffix\n",
      "in1: 100% in2: 100% \n"
     ]
    },
    {
     "name": "stdout",
     "output_type": "stream",
     "text": [
      "Genotypes remaining: 220\n"
     ]
    },
    {
     "name": "stderr",
     "output_type": "stream",
     "text": [
      "pigz: skipping: ramdisk/geno_kmers is a directory\n",
      "in1: 100% in2: 100% \n",
      "pigz: skipping: ramdisk/geno_kmers is a directory\n",
      "pigz: skipping: ramdisk/kmer_union0.kmc_pre does not have compressed suffix\n",
      "pigz: skipping: ramdisk/kmer_union0.kmc_suf does not have compressed suffix\n",
      "in1: 100% in2: 100% \n",
      "pigz: skipping: ramdisk/geno_kmers is a directory\n",
      "pigz: skipping: ramdisk/kmer_union1.kmc_pre does not have compressed suffix\n",
      "pigz: skipping: ramdisk/kmer_union1.kmc_suf does not have compressed suffix\n",
      "in1: 100% in2: 100% \n",
      "pigz: skipping: ramdisk/geno_kmers is a directory\n",
      "pigz: skipping: ramdisk/kmer_union0.kmc_pre does not have compressed suffix\n",
      "pigz: skipping: ramdisk/kmer_union0.kmc_suf does not have compressed suffix\n",
      "in1: 100% in2: 100% \n",
      "pigz: skipping: ramdisk/geno_kmers is a directory\n",
      "pigz: skipping: ramdisk/kmer_union1.kmc_pre does not have compressed suffix\n",
      "pigz: skipping: ramdisk/kmer_union1.kmc_suf does not have compressed suffix\n",
      "in1: 100% in2: 100% \n",
      "pigz: skipping: ramdisk/geno_kmers is a directory\n",
      "pigz: skipping: ramdisk/kmer_union0.kmc_pre does not have compressed suffix\n",
      "pigz: skipping: ramdisk/kmer_union0.kmc_suf does not have compressed suffix\n",
      "in1: 100% in2: 100% \n"
     ]
    },
    {
     "name": "stdout",
     "output_type": "stream",
     "text": [
      "Genotypes remaining: 219\n"
     ]
    },
    {
     "name": "stderr",
     "output_type": "stream",
     "text": [
      "pigz: skipping: ramdisk/geno_kmers is a directory\n",
      "in1: 100% in2: 100% \n",
      "pigz: skipping: ramdisk/geno_kmers is a directory\n",
      "pigz: skipping: ramdisk/kmer_union0.kmc_pre does not have compressed suffix\n",
      "pigz: skipping: ramdisk/kmer_union0.kmc_suf does not have compressed suffix\n",
      "in1: 100% in2: 100% \n",
      "pigz: skipping: ramdisk/geno_kmers is a directory\n",
      "pigz: skipping: ramdisk/kmer_union1.kmc_pre does not have compressed suffix\n",
      "pigz: skipping: ramdisk/kmer_union1.kmc_suf does not have compressed suffix\n",
      "in1: 100% in2: 100% \n",
      "pigz: skipping: ramdisk/geno_kmers is a directory\n",
      "pigz: skipping: ramdisk/kmer_union0.kmc_pre does not have compressed suffix\n",
      "pigz: skipping: ramdisk/kmer_union0.kmc_suf does not have compressed suffix\n",
      "in1: 100% in2: 100% \n",
      "pigz: skipping: ramdisk/geno_kmers is a directory\n",
      "pigz: skipping: ramdisk/kmer_union1.kmc_pre does not have compressed suffix\n",
      "pigz: skipping: ramdisk/kmer_union1.kmc_suf does not have compressed suffix\n",
      "in1: 100% in2: 100% \n",
      "pigz: skipping: ramdisk/geno_kmers is a directory\n",
      "pigz: skipping: ramdisk/kmer_union0.kmc_pre does not have compressed suffix\n",
      "pigz: skipping: ramdisk/kmer_union0.kmc_suf does not have compressed suffix\n",
      "in1: 100% in2: 100% \n"
     ]
    },
    {
     "name": "stdout",
     "output_type": "stream",
     "text": [
      "Genotypes remaining: 218\n"
     ]
    },
    {
     "name": "stderr",
     "output_type": "stream",
     "text": [
      "pigz: skipping: ramdisk/geno_kmers is a directory\n",
      "in1: 100% in2: 100% \n",
      "pigz: skipping: ramdisk/geno_kmers is a directory\n",
      "pigz: skipping: ramdisk/kmer_union0.kmc_pre does not have compressed suffix\n",
      "pigz: skipping: ramdisk/kmer_union0.kmc_suf does not have compressed suffix\n",
      "in1: 100% in2: 100% \n",
      "pigz: skipping: ramdisk/geno_kmers is a directory\n",
      "pigz: skipping: ramdisk/kmer_union1.kmc_pre does not have compressed suffix\n",
      "pigz: skipping: ramdisk/kmer_union1.kmc_suf does not have compressed suffix\n",
      "in1: 100% in2: 100% \n",
      "pigz: skipping: ramdisk/geno_kmers is a directory\n",
      "pigz: skipping: ramdisk/kmer_union0.kmc_pre does not have compressed suffix\n",
      "pigz: skipping: ramdisk/kmer_union0.kmc_suf does not have compressed suffix\n",
      "in1: 100% in2: 100% \n",
      "pigz: skipping: ramdisk/geno_kmers is a directory\n",
      "pigz: skipping: ramdisk/kmer_union1.kmc_pre does not have compressed suffix\n",
      "pigz: skipping: ramdisk/kmer_union1.kmc_suf does not have compressed suffix\n",
      "in1: 100% in2: 100% \n",
      "pigz: skipping: ramdisk/geno_kmers is a directory\n",
      "pigz: skipping: ramdisk/kmer_union0.kmc_pre does not have compressed suffix\n",
      "pigz: skipping: ramdisk/kmer_union0.kmc_suf does not have compressed suffix\n",
      "in1: 100% in2: 100% \n"
     ]
    },
    {
     "name": "stdout",
     "output_type": "stream",
     "text": [
      "Genotypes remaining: 217\n"
     ]
    },
    {
     "name": "stderr",
     "output_type": "stream",
     "text": [
      "pigz: skipping: ramdisk/geno_kmers is a directory\n",
      "in1: 100% in2: 100% \n",
      "pigz: skipping: ramdisk/geno_kmers is a directory\n",
      "pigz: skipping: ramdisk/kmer_union0.kmc_pre does not have compressed suffix\n",
      "pigz: skipping: ramdisk/kmer_union0.kmc_suf does not have compressed suffix\n",
      "in1: 100% in2: 100% \n",
      "pigz: skipping: ramdisk/geno_kmers is a directory\n",
      "pigz: skipping: ramdisk/kmer_union1.kmc_pre does not have compressed suffix\n",
      "pigz: skipping: ramdisk/kmer_union1.kmc_suf does not have compressed suffix\n",
      "in1: 100% in2: 100% \n",
      "pigz: skipping: ramdisk/geno_kmers is a directory\n",
      "pigz: skipping: ramdisk/kmer_union0.kmc_pre does not have compressed suffix\n",
      "pigz: skipping: ramdisk/kmer_union0.kmc_suf does not have compressed suffix\n",
      "in1: 100% in2: 100% \n",
      "pigz: skipping: ramdisk/geno_kmers is a directory\n",
      "pigz: skipping: ramdisk/kmer_union1.kmc_pre does not have compressed suffix\n",
      "pigz: skipping: ramdisk/kmer_union1.kmc_suf does not have compressed suffix\n",
      "in1: 100% in2: 100% \n",
      "pigz: skipping: ramdisk/geno_kmers is a directory\n",
      "pigz: skipping: ramdisk/kmer_union0.kmc_pre does not have compressed suffix\n",
      "pigz: skipping: ramdisk/kmer_union0.kmc_suf does not have compressed suffix\n",
      "in1: 100% in2: 100% \n"
     ]
    },
    {
     "name": "stdout",
     "output_type": "stream",
     "text": [
      "Genotypes remaining: 216\n"
     ]
    },
    {
     "name": "stderr",
     "output_type": "stream",
     "text": [
      "pigz: skipping: ramdisk/geno_kmers is a directory\n",
      "in1: 100% in2: 100% \n",
      "pigz: skipping: ramdisk/geno_kmers is a directory\n",
      "pigz: skipping: ramdisk/kmer_union0.kmc_pre does not have compressed suffix\n",
      "pigz: skipping: ramdisk/kmer_union0.kmc_suf does not have compressed suffix\n",
      "in1: 100% in2: 100% \n",
      "pigz: skipping: ramdisk/geno_kmers is a directory\n",
      "pigz: skipping: ramdisk/kmer_union1.kmc_pre does not have compressed suffix\n",
      "pigz: skipping: ramdisk/kmer_union1.kmc_suf does not have compressed suffix\n",
      "in1: 100% in2: 100% \n"
     ]
    },
    {
     "name": "stdout",
     "output_type": "stream",
     "text": [
      "Genotypes remaining: 215\n"
     ]
    },
    {
     "name": "stderr",
     "output_type": "stream",
     "text": [
      "pigz: skipping: ramdisk/geno_kmers is a directory\n",
      "in1: 100% in2: 100% \n",
      "pigz: skipping: ramdisk/geno_kmers is a directory\n",
      "pigz: skipping: ramdisk/kmer_union0.kmc_pre does not have compressed suffix\n",
      "pigz: skipping: ramdisk/kmer_union0.kmc_suf does not have compressed suffix\n",
      "in1: 100% in2: 100% \n",
      "pigz: skipping: ramdisk/geno_kmers is a directory\n",
      "pigz: skipping: ramdisk/kmer_union1.kmc_pre does not have compressed suffix\n",
      "pigz: skipping: ramdisk/kmer_union1.kmc_suf does not have compressed suffix\n",
      "in1: 100% in2: 100% \n",
      "pigz: skipping: ramdisk/geno_kmers is a directory\n",
      "pigz: skipping: ramdisk/kmer_union0.kmc_pre does not have compressed suffix\n",
      "pigz: skipping: ramdisk/kmer_union0.kmc_suf does not have compressed suffix\n",
      "in1: 100% in2: 100% \n",
      "pigz: skipping: ramdisk/geno_kmers is a directory\n",
      "pigz: skipping: ramdisk/kmer_union1.kmc_pre does not have compressed suffix\n",
      "pigz: skipping: ramdisk/kmer_union1.kmc_suf does not have compressed suffix\n",
      "in1: 100% in2: 100% \n",
      "pigz: skipping: ramdisk/geno_kmers is a directory\n",
      "pigz: skipping: ramdisk/kmer_union0.kmc_pre does not have compressed suffix\n",
      "pigz: skipping: ramdisk/kmer_union0.kmc_suf does not have compressed suffix\n",
      "in1: 100% in2: 100% \n",
      "pigz: skipping: ramdisk/geno_kmers is a directory\n",
      "pigz: skipping: ramdisk/kmer_union1.kmc_pre does not have compressed suffix\n",
      "pigz: skipping: ramdisk/kmer_union1.kmc_suf does not have compressed suffix\n",
      "in1: 100% in2: 100% \n",
      "pigz: skipping: ramdisk/geno_kmers is a directory\n",
      "pigz: skipping: ramdisk/kmer_union0.kmc_pre does not have compressed suffix\n",
      "pigz: skipping: ramdisk/kmer_union0.kmc_suf does not have compressed suffix\n",
      "in1: 100% in2: 100% \n",
      "pigz: skipping: ramdisk/geno_kmers is a directory\n",
      "pigz: skipping: ramdisk/kmer_union1.kmc_pre does not have compressed suffix\n",
      "pigz: skipping: ramdisk/kmer_union1.kmc_suf does not have compressed suffix\n",
      "in1: 100% in2: 100% \n"
     ]
    },
    {
     "name": "stdout",
     "output_type": "stream",
     "text": [
      "Genotypes remaining: 214\n"
     ]
    },
    {
     "name": "stderr",
     "output_type": "stream",
     "text": [
      "pigz: skipping: ramdisk/geno_kmers is a directory\n",
      "in1: 100% in2: 100% \n",
      "pigz: skipping: ramdisk/geno_kmers is a directory\n",
      "pigz: skipping: ramdisk/kmer_union0.kmc_pre does not have compressed suffix\n",
      "pigz: skipping: ramdisk/kmer_union0.kmc_suf does not have compressed suffix\n",
      "in1: 100% in2: 100% \n",
      "pigz: skipping: ramdisk/geno_kmers is a directory\n",
      "pigz: skipping: ramdisk/kmer_union1.kmc_pre does not have compressed suffix\n",
      "pigz: skipping: ramdisk/kmer_union1.kmc_suf does not have compressed suffix\n",
      "in1: 100% in2: 100% \n",
      "pigz: skipping: ramdisk/geno_kmers is a directory\n",
      "pigz: skipping: ramdisk/kmer_union0.kmc_pre does not have compressed suffix\n",
      "pigz: skipping: ramdisk/kmer_union0.kmc_suf does not have compressed suffix\n",
      "in1: 100% in2: 100% \n",
      "pigz: skipping: ramdisk/geno_kmers is a directory\n",
      "pigz: skipping: ramdisk/kmer_union1.kmc_pre does not have compressed suffix\n",
      "pigz: skipping: ramdisk/kmer_union1.kmc_suf does not have compressed suffix\n",
      "in1: 100% in2: 100% \n",
      "pigz: skipping: ramdisk/geno_kmers is a directory\n",
      "pigz: skipping: ramdisk/kmer_union0.kmc_pre does not have compressed suffix\n",
      "pigz: skipping: ramdisk/kmer_union0.kmc_suf does not have compressed suffix\n",
      "in1: 100% in2: 100% \n",
      "pigz: skipping: ramdisk/geno_kmers is a directory\n",
      "pigz: skipping: ramdisk/kmer_union1.kmc_pre does not have compressed suffix\n",
      "pigz: skipping: ramdisk/kmer_union1.kmc_suf does not have compressed suffix\n",
      "in1: 100% in2: 100% \n",
      "pigz: skipping: ramdisk/geno_kmers is a directory\n",
      "pigz: skipping: ramdisk/kmer_union0.kmc_pre does not have compressed suffix\n",
      "pigz: skipping: ramdisk/kmer_union0.kmc_suf does not have compressed suffix\n",
      "in1: 100% in2: 100% \n"
     ]
    },
    {
     "name": "stdout",
     "output_type": "stream",
     "text": [
      "Genotypes remaining: 213\n"
     ]
    },
    {
     "name": "stderr",
     "output_type": "stream",
     "text": [
      "pigz: skipping: ramdisk/geno_kmers is a directory\n",
      "in1: 100% in2: 100% \n",
      "pigz: skipping: ramdisk/geno_kmers is a directory\n",
      "pigz: skipping: ramdisk/kmer_union0.kmc_pre does not have compressed suffix\n",
      "pigz: skipping: ramdisk/kmer_union0.kmc_suf does not have compressed suffix\n",
      "in1: 100% in2: 100% \n"
     ]
    },
    {
     "name": "stdout",
     "output_type": "stream",
     "text": [
      "Genotypes remaining: 212\n"
     ]
    },
    {
     "name": "stderr",
     "output_type": "stream",
     "text": [
      "pigz: skipping: ramdisk/geno_kmers is a directory\n",
      "in1: 100% in2: 100% \n",
      "pigz: skipping: ramdisk/geno_kmers is a directory\n",
      "pigz: skipping: ramdisk/kmer_union0.kmc_pre does not have compressed suffix\n",
      "pigz: skipping: ramdisk/kmer_union0.kmc_suf does not have compressed suffix\n",
      "in1: 100% in2: 100% \n",
      "pigz: skipping: ramdisk/geno_kmers is a directory\n",
      "pigz: skipping: ramdisk/kmer_union1.kmc_pre does not have compressed suffix\n",
      "pigz: skipping: ramdisk/kmer_union1.kmc_suf does not have compressed suffix\n",
      "in1: 100% in2: 100% \n",
      "pigz: skipping: ramdisk/geno_kmers is a directory\n",
      "pigz: skipping: ramdisk/kmer_union0.kmc_pre does not have compressed suffix\n",
      "pigz: skipping: ramdisk/kmer_union0.kmc_suf does not have compressed suffix\n",
      "in1: 100% in2: 100% \n"
     ]
    },
    {
     "name": "stdout",
     "output_type": "stream",
     "text": [
      "Genotypes remaining: 211\n"
     ]
    },
    {
     "name": "stderr",
     "output_type": "stream",
     "text": [
      "pigz: skipping: ramdisk/geno_kmers is a directory\n",
      "in1: 100% in2: 100% \n",
      "pigz: skipping: ramdisk/geno_kmers is a directory\n",
      "pigz: skipping: ramdisk/kmer_union0.kmc_pre does not have compressed suffix\n",
      "pigz: skipping: ramdisk/kmer_union0.kmc_suf does not have compressed suffix\n",
      "in1: 100% in2: 100% \n",
      "pigz: skipping: ramdisk/geno_kmers is a directory\n",
      "pigz: skipping: ramdisk/kmer_union1.kmc_pre does not have compressed suffix\n",
      "pigz: skipping: ramdisk/kmer_union1.kmc_suf does not have compressed suffix\n",
      "in1: 100% in2: 100% \n",
      "pigz: skipping: ramdisk/geno_kmers is a directory\n",
      "pigz: skipping: ramdisk/kmer_union0.kmc_pre does not have compressed suffix\n",
      "pigz: skipping: ramdisk/kmer_union0.kmc_suf does not have compressed suffix\n",
      "in1: 100% in2: 100% \n"
     ]
    },
    {
     "name": "stdout",
     "output_type": "stream",
     "text": [
      "Genotypes remaining: 210\n"
     ]
    },
    {
     "name": "stderr",
     "output_type": "stream",
     "text": [
      "pigz: skipping: ramdisk/geno_kmers is a directory\n",
      "in1: 100% in2: 100% \n",
      "pigz: skipping: ramdisk/geno_kmers is a directory\n",
      "pigz: skipping: ramdisk/kmer_union0.kmc_pre does not have compressed suffix\n",
      "pigz: skipping: ramdisk/kmer_union0.kmc_suf does not have compressed suffix\n",
      "in1: 100% in2: 100% \n",
      "pigz: skipping: ramdisk/geno_kmers is a directory\n",
      "pigz: skipping: ramdisk/kmer_union1.kmc_pre does not have compressed suffix\n",
      "pigz: skipping: ramdisk/kmer_union1.kmc_suf does not have compressed suffix\n",
      "in1: 100% in2: 100% \n",
      "pigz: skipping: ramdisk/geno_kmers is a directory\n",
      "pigz: skipping: ramdisk/kmer_union0.kmc_pre does not have compressed suffix\n",
      "pigz: skipping: ramdisk/kmer_union0.kmc_suf does not have compressed suffix\n",
      "in1: 100% in2: 100% \n",
      "pigz: skipping: ramdisk/geno_kmers is a directory\n",
      "pigz: skipping: ramdisk/kmer_union1.kmc_pre does not have compressed suffix\n",
      "pigz: skipping: ramdisk/kmer_union1.kmc_suf does not have compressed suffix\n",
      "in1: 100% in2: 100% \n"
     ]
    },
    {
     "name": "stdout",
     "output_type": "stream",
     "text": [
      "Genotypes remaining: 209\n"
     ]
    },
    {
     "name": "stderr",
     "output_type": "stream",
     "text": [
      "pigz: skipping: ramdisk/geno_kmers is a directory\n",
      "in1: 100% in2: 100% \n",
      "pigz: skipping: ramdisk/geno_kmers is a directory\n",
      "pigz: skipping: ramdisk/kmer_union0.kmc_pre does not have compressed suffix\n",
      "pigz: skipping: ramdisk/kmer_union0.kmc_suf does not have compressed suffix\n",
      "in1: 100% in2: 100% \n",
      "pigz: skipping: ramdisk/geno_kmers is a directory\n",
      "pigz: skipping: ramdisk/kmer_union1.kmc_pre does not have compressed suffix\n",
      "pigz: skipping: ramdisk/kmer_union1.kmc_suf does not have compressed suffix\n",
      "in1: 100% in2: 100% \n",
      "pigz: skipping: ramdisk/geno_kmers is a directory\n",
      "pigz: skipping: ramdisk/kmer_union0.kmc_pre does not have compressed suffix\n",
      "pigz: skipping: ramdisk/kmer_union0.kmc_suf does not have compressed suffix\n",
      "in1: 100% in2: 100% \n",
      "pigz: skipping: ramdisk/geno_kmers is a directory\n",
      "pigz: skipping: ramdisk/kmer_union1.kmc_pre does not have compressed suffix\n",
      "pigz: skipping: ramdisk/kmer_union1.kmc_suf does not have compressed suffix\n",
      "in1: 100% in2: 100% \n",
      "pigz: skipping: ramdisk/geno_kmers is a directory\n",
      "pigz: skipping: ramdisk/kmer_union0.kmc_pre does not have compressed suffix\n",
      "pigz: skipping: ramdisk/kmer_union0.kmc_suf does not have compressed suffix\n",
      "in1: 100% in2: 100% \n"
     ]
    },
    {
     "name": "stdout",
     "output_type": "stream",
     "text": [
      "Genotypes remaining: 208\n"
     ]
    },
    {
     "name": "stderr",
     "output_type": "stream",
     "text": [
      "pigz: skipping: ramdisk/geno_kmers is a directory\n",
      "in1: 100% in2: 100% \n",
      "pigz: skipping: ramdisk/geno_kmers is a directory\n",
      "pigz: skipping: ramdisk/kmer_union0.kmc_pre does not have compressed suffix\n",
      "pigz: skipping: ramdisk/kmer_union0.kmc_suf does not have compressed suffix\n",
      "in1: 100% in2: 100% \n",
      "pigz: skipping: ramdisk/geno_kmers is a directory\n",
      "pigz: skipping: ramdisk/kmer_union1.kmc_pre does not have compressed suffix\n",
      "pigz: skipping: ramdisk/kmer_union1.kmc_suf does not have compressed suffix\n",
      "in1: 100% in2: 100% \n",
      "pigz: skipping: ramdisk/geno_kmers is a directory\n",
      "pigz: skipping: ramdisk/kmer_union0.kmc_pre does not have compressed suffix\n",
      "pigz: skipping: ramdisk/kmer_union0.kmc_suf does not have compressed suffix\n",
      "in1: 100% in2: 100% \n",
      "pigz: skipping: ramdisk/geno_kmers is a directory\n",
      "pigz: skipping: ramdisk/kmer_union1.kmc_pre does not have compressed suffix\n",
      "pigz: skipping: ramdisk/kmer_union1.kmc_suf does not have compressed suffix\n",
      "in1: 100% in2: 100% \n",
      "pigz: skipping: ramdisk/geno_kmers is a directory\n",
      "pigz: skipping: ramdisk/kmer_union0.kmc_pre does not have compressed suffix\n",
      "pigz: skipping: ramdisk/kmer_union0.kmc_suf does not have compressed suffix\n",
      "in1: 100% in2: 100% \n"
     ]
    },
    {
     "name": "stdout",
     "output_type": "stream",
     "text": [
      "Genotypes remaining: 207\n"
     ]
    },
    {
     "name": "stderr",
     "output_type": "stream",
     "text": [
      "pigz: skipping: ramdisk/geno_kmers is a directory\n",
      "in1: 100% in2: 100% \n",
      "pigz: skipping: ramdisk/geno_kmers is a directory\n",
      "pigz: skipping: ramdisk/kmer_union0.kmc_pre does not have compressed suffix\n",
      "pigz: skipping: ramdisk/kmer_union0.kmc_suf does not have compressed suffix\n",
      "in1: 100% in2: 100% \n",
      "pigz: skipping: ramdisk/geno_kmers is a directory\n",
      "pigz: skipping: ramdisk/kmer_union1.kmc_pre does not have compressed suffix\n",
      "pigz: skipping: ramdisk/kmer_union1.kmc_suf does not have compressed suffix\n",
      "in1: 100% in2: 100% \n",
      "pigz: skipping: ramdisk/geno_kmers is a directory\n",
      "pigz: skipping: ramdisk/kmer_union0.kmc_pre does not have compressed suffix\n",
      "pigz: skipping: ramdisk/kmer_union0.kmc_suf does not have compressed suffix\n",
      "in1: 100% in2: 100% \n",
      "pigz: skipping: ramdisk/geno_kmers is a directory\n",
      "pigz: skipping: ramdisk/kmer_union1.kmc_pre does not have compressed suffix\n",
      "pigz: skipping: ramdisk/kmer_union1.kmc_suf does not have compressed suffix\n",
      "in1: 100% in2: 100% \n",
      "pigz: skipping: ramdisk/geno_kmers is a directory\n",
      "pigz: skipping: ramdisk/kmer_union0.kmc_pre does not have compressed suffix\n",
      "pigz: skipping: ramdisk/kmer_union0.kmc_suf does not have compressed suffix\n",
      "in1: 100% in2: 100% \n"
     ]
    },
    {
     "name": "stdout",
     "output_type": "stream",
     "text": [
      "Genotypes remaining: 206\n"
     ]
    },
    {
     "name": "stderr",
     "output_type": "stream",
     "text": [
      "pigz: skipping: ramdisk/geno_kmers is a directory\n",
      "in1: 100% in2: 100% \n",
      "pigz: skipping: ramdisk/geno_kmers is a directory\n",
      "pigz: skipping: ramdisk/kmer_union0.kmc_pre does not have compressed suffix\n",
      "pigz: skipping: ramdisk/kmer_union0.kmc_suf does not have compressed suffix\n",
      "in1: 100% in2: 100% \n",
      "pigz: skipping: ramdisk/geno_kmers is a directory\n",
      "pigz: skipping: ramdisk/kmer_union1.kmc_pre does not have compressed suffix\n",
      "pigz: skipping: ramdisk/kmer_union1.kmc_suf does not have compressed suffix\n",
      "in1: 100% in2: 100% \n",
      "pigz: skipping: ramdisk/geno_kmers is a directory\n",
      "pigz: skipping: ramdisk/kmer_union0.kmc_pre does not have compressed suffix\n",
      "pigz: skipping: ramdisk/kmer_union0.kmc_suf does not have compressed suffix\n",
      "in1: 100% in2: 100% \n",
      "pigz: skipping: ramdisk/geno_kmers is a directory\n",
      "pigz: skipping: ramdisk/kmer_union1.kmc_pre does not have compressed suffix\n",
      "pigz: skipping: ramdisk/kmer_union1.kmc_suf does not have compressed suffix\n",
      "in1: 100% in2: 100% \n",
      "pigz: skipping: ramdisk/geno_kmers is a directory\n",
      "pigz: skipping: ramdisk/kmer_union0.kmc_pre does not have compressed suffix\n",
      "pigz: skipping: ramdisk/kmer_union0.kmc_suf does not have compressed suffix\n",
      "in1: 100% in2: 100% \n"
     ]
    },
    {
     "name": "stdout",
     "output_type": "stream",
     "text": [
      "Genotypes remaining: 205\n"
     ]
    },
    {
     "name": "stderr",
     "output_type": "stream",
     "text": [
      "pigz: skipping: ramdisk/geno_kmers is a directory\n",
      "in1: 100% in2: 100% \n",
      "pigz: skipping: ramdisk/geno_kmers is a directory\n",
      "pigz: skipping: ramdisk/kmer_union0.kmc_pre does not have compressed suffix\n",
      "pigz: skipping: ramdisk/kmer_union0.kmc_suf does not have compressed suffix\n",
      "in1: 100% in2: 100% \n",
      "pigz: skipping: ramdisk/geno_kmers is a directory\n",
      "pigz: skipping: ramdisk/kmer_union1.kmc_pre does not have compressed suffix\n",
      "pigz: skipping: ramdisk/kmer_union1.kmc_suf does not have compressed suffix\n",
      "in1: 100% in2: 100% \n",
      "pigz: skipping: ramdisk/geno_kmers is a directory\n",
      "pigz: skipping: ramdisk/kmer_union0.kmc_pre does not have compressed suffix\n",
      "pigz: skipping: ramdisk/kmer_union0.kmc_suf does not have compressed suffix\n",
      "in1: 100% in2: 100% \n",
      "pigz: skipping: ramdisk/geno_kmers is a directory\n",
      "pigz: skipping: ramdisk/kmer_union1.kmc_pre does not have compressed suffix\n",
      "pigz: skipping: ramdisk/kmer_union1.kmc_suf does not have compressed suffix\n",
      "in1: 100% in2: 100% \n"
     ]
    },
    {
     "name": "stdout",
     "output_type": "stream",
     "text": [
      "Genotypes remaining: 204\n"
     ]
    },
    {
     "name": "stderr",
     "output_type": "stream",
     "text": [
      "pigz: skipping: ramdisk/geno_kmers is a directory\n",
      "in1: 100% in2: 100% \n",
      "pigz: skipping: ramdisk/geno_kmers is a directory\n",
      "pigz: skipping: ramdisk/kmer_union0.kmc_pre does not have compressed suffix\n",
      "pigz: skipping: ramdisk/kmer_union0.kmc_suf does not have compressed suffix\n",
      "in1: 100% in2: 100% \n",
      "pigz: skipping: ramdisk/geno_kmers is a directory\n",
      "pigz: skipping: ramdisk/kmer_union1.kmc_pre does not have compressed suffix\n",
      "pigz: skipping: ramdisk/kmer_union1.kmc_suf does not have compressed suffix\n",
      "in1: 100% in2: 100% \n",
      "pigz: skipping: ramdisk/geno_kmers is a directory\n",
      "pigz: skipping: ramdisk/kmer_union0.kmc_pre does not have compressed suffix\n",
      "pigz: skipping: ramdisk/kmer_union0.kmc_suf does not have compressed suffix\n",
      "in1: 100% in2: 100% \n",
      "pigz: skipping: ramdisk/geno_kmers is a directory\n",
      "pigz: skipping: ramdisk/kmer_union1.kmc_pre does not have compressed suffix\n",
      "pigz: skipping: ramdisk/kmer_union1.kmc_suf does not have compressed suffix\n",
      "in1: 100% in2: 100% \n"
     ]
    },
    {
     "name": "stdout",
     "output_type": "stream",
     "text": [
      "Genotypes remaining: 203\n"
     ]
    },
    {
     "name": "stderr",
     "output_type": "stream",
     "text": [
      "pigz: skipping: ramdisk/geno_kmers is a directory\n",
      "in1: 100% in2: 100% \n"
     ]
    },
    {
     "name": "stdout",
     "output_type": "stream",
     "text": [
      "Genotypes remaining: 202\n"
     ]
    },
    {
     "name": "stderr",
     "output_type": "stream",
     "text": [
      "pigz: skipping: ramdisk/geno_kmers is a directory\n",
      "in1: 100% in2: 100% \n",
      "pigz: skipping: ramdisk/geno_kmers is a directory\n",
      "pigz: skipping: ramdisk/kmer_union0.kmc_pre does not have compressed suffix\n",
      "pigz: skipping: ramdisk/kmer_union0.kmc_suf does not have compressed suffix\n",
      "in1: 100% in2: 100% \n",
      "pigz: skipping: ramdisk/geno_kmers is a directory\n",
      "pigz: skipping: ramdisk/kmer_union1.kmc_pre does not have compressed suffix\n",
      "pigz: skipping: ramdisk/kmer_union1.kmc_suf does not have compressed suffix\n",
      "in1: 100% in2: 100% \n",
      "pigz: skipping: ramdisk/geno_kmers is a directory\n",
      "pigz: skipping: ramdisk/kmer_union0.kmc_pre does not have compressed suffix\n",
      "pigz: skipping: ramdisk/kmer_union0.kmc_suf does not have compressed suffix\n",
      "in1: 100% in2: 100% \n",
      "pigz: skipping: ramdisk/geno_kmers is a directory\n",
      "pigz: skipping: ramdisk/kmer_union1.kmc_pre does not have compressed suffix\n",
      "pigz: skipping: ramdisk/kmer_union1.kmc_suf does not have compressed suffix\n",
      "in1: 100% in2: 100% \n"
     ]
    },
    {
     "name": "stdout",
     "output_type": "stream",
     "text": [
      "Genotypes remaining: 201\n"
     ]
    },
    {
     "name": "stderr",
     "output_type": "stream",
     "text": [
      "pigz: skipping: ramdisk/geno_kmers is a directory\n",
      "in1: 100% in2: 100% \n",
      "pigz: skipping: ramdisk/geno_kmers is a directory\n",
      "pigz: skipping: ramdisk/kmer_union0.kmc_pre does not have compressed suffix\n",
      "pigz: skipping: ramdisk/kmer_union0.kmc_suf does not have compressed suffix\n",
      "in1: 100% in2: 100% \n",
      "pigz: skipping: ramdisk/geno_kmers is a directory\n",
      "pigz: skipping: ramdisk/kmer_union1.kmc_pre does not have compressed suffix\n",
      "pigz: skipping: ramdisk/kmer_union1.kmc_suf does not have compressed suffix\n",
      "in1: 100% in2: 100% \n",
      "pigz: skipping: ramdisk/geno_kmers is a directory\n",
      "pigz: skipping: ramdisk/kmer_union0.kmc_pre does not have compressed suffix\n",
      "pigz: skipping: ramdisk/kmer_union0.kmc_suf does not have compressed suffix\n",
      "in1: 100% in2: 100% \n",
      "pigz: skipping: ramdisk/geno_kmers is a directory\n",
      "pigz: skipping: ramdisk/kmer_union1.kmc_pre does not have compressed suffix\n",
      "pigz: skipping: ramdisk/kmer_union1.kmc_suf does not have compressed suffix\n",
      "in1: 100% in2: 100% \n",
      "pigz: skipping: ramdisk/geno_kmers is a directory\n",
      "pigz: skipping: ramdisk/kmer_union0.kmc_pre does not have compressed suffix\n",
      "pigz: skipping: ramdisk/kmer_union0.kmc_suf does not have compressed suffix\n",
      "in1: 100% in2: 100% \n"
     ]
    },
    {
     "name": "stdout",
     "output_type": "stream",
     "text": [
      "Genotypes remaining: 200\n"
     ]
    },
    {
     "name": "stderr",
     "output_type": "stream",
     "text": [
      "pigz: skipping: ramdisk/geno_kmers is a directory\n",
      "in1: 100% in2: 100% \n",
      "pigz: skipping: ramdisk/geno_kmers is a directory\n",
      "pigz: skipping: ramdisk/kmer_union0.kmc_pre does not have compressed suffix\n",
      "pigz: skipping: ramdisk/kmer_union0.kmc_suf does not have compressed suffix\n",
      "in1: 100% in2: 100% \n",
      "pigz: skipping: ramdisk/geno_kmers is a directory\n",
      "pigz: skipping: ramdisk/kmer_union1.kmc_pre does not have compressed suffix\n",
      "pigz: skipping: ramdisk/kmer_union1.kmc_suf does not have compressed suffix\n",
      "in1: 100% in2: 100% \n",
      "pigz: skipping: ramdisk/geno_kmers is a directory\n",
      "pigz: skipping: ramdisk/kmer_union0.kmc_pre does not have compressed suffix\n",
      "pigz: skipping: ramdisk/kmer_union0.kmc_suf does not have compressed suffix\n",
      "in1: 100% in2: 100% \n",
      "pigz: skipping: ramdisk/geno_kmers is a directory\n",
      "pigz: skipping: ramdisk/kmer_union1.kmc_pre does not have compressed suffix\n",
      "pigz: skipping: ramdisk/kmer_union1.kmc_suf does not have compressed suffix\n",
      "in1: 100% in2: 100% \n",
      "pigz: skipping: ramdisk/geno_kmers is a directory\n",
      "pigz: skipping: ramdisk/kmer_union0.kmc_pre does not have compressed suffix\n",
      "pigz: skipping: ramdisk/kmer_union0.kmc_suf does not have compressed suffix\n",
      "in1: 100% in2: 100% \n"
     ]
    },
    {
     "name": "stdout",
     "output_type": "stream",
     "text": [
      "Genotypes remaining: 199\n"
     ]
    },
    {
     "name": "stderr",
     "output_type": "stream",
     "text": [
      "pigz: skipping: ramdisk/geno_kmers is a directory\n",
      "in1: 100% in2: 100% \n",
      "pigz: skipping: ramdisk/geno_kmers is a directory\n",
      "pigz: skipping: ramdisk/kmer_union0.kmc_pre does not have compressed suffix\n",
      "pigz: skipping: ramdisk/kmer_union0.kmc_suf does not have compressed suffix\n",
      "in1: 100% in2: 100% \n",
      "pigz: skipping: ramdisk/geno_kmers is a directory\n",
      "pigz: skipping: ramdisk/kmer_union1.kmc_pre does not have compressed suffix\n",
      "pigz: skipping: ramdisk/kmer_union1.kmc_suf does not have compressed suffix\n",
      "in1: 100% in2: 100% % \n",
      "pigz: skipping: ramdisk/geno_kmers is a directory\n",
      "pigz: skipping: ramdisk/kmer_union0.kmc_pre does not have compressed suffix\n",
      "pigz: skipping: ramdisk/kmer_union0.kmc_suf does not have compressed suffix\n",
      "in1: 100% in2: 100% \n"
     ]
    },
    {
     "name": "stdout",
     "output_type": "stream",
     "text": [
      "Genotypes remaining: 198\n"
     ]
    },
    {
     "name": "stderr",
     "output_type": "stream",
     "text": [
      "pigz: skipping: ramdisk/geno_kmers is a directory\n",
      "in1: 100% in2: 100% \n",
      "pigz: skipping: ramdisk/geno_kmers is a directory\n",
      "pigz: skipping: ramdisk/kmer_union0.kmc_pre does not have compressed suffix\n",
      "pigz: skipping: ramdisk/kmer_union0.kmc_suf does not have compressed suffix\n",
      "in1: 100% in2: 100% \n",
      "pigz: skipping: ramdisk/geno_kmers is a directory\n",
      "pigz: skipping: ramdisk/kmer_union1.kmc_pre does not have compressed suffix\n",
      "pigz: skipping: ramdisk/kmer_union1.kmc_suf does not have compressed suffix\n",
      "in1: 100% in2: 100% \n",
      "pigz: skipping: ramdisk/geno_kmers is a directory\n",
      "pigz: skipping: ramdisk/kmer_union0.kmc_pre does not have compressed suffix\n",
      "pigz: skipping: ramdisk/kmer_union0.kmc_suf does not have compressed suffix\n",
      "in1: 100% in2: 100% \n",
      "pigz: skipping: ramdisk/geno_kmers is a directory\n",
      "pigz: skipping: ramdisk/kmer_union1.kmc_pre does not have compressed suffix\n",
      "pigz: skipping: ramdisk/kmer_union1.kmc_suf does not have compressed suffix\n",
      "in1: 100% in2: 100% \n"
     ]
    },
    {
     "name": "stdout",
     "output_type": "stream",
     "text": [
      "Genotypes remaining: 197\n"
     ]
    },
    {
     "name": "stderr",
     "output_type": "stream",
     "text": [
      "pigz: skipping: ramdisk/geno_kmers is a directory\n",
      "in1: 100% in2: 100% \n",
      "pigz: skipping: ramdisk/geno_kmers is a directory\n",
      "pigz: skipping: ramdisk/kmer_union0.kmc_pre does not have compressed suffix\n",
      "pigz: skipping: ramdisk/kmer_union0.kmc_suf does not have compressed suffix\n",
      "in1: 100% in2: 100% \n",
      "pigz: skipping: ramdisk/geno_kmers is a directory\n",
      "pigz: skipping: ramdisk/kmer_union1.kmc_pre does not have compressed suffix\n",
      "pigz: skipping: ramdisk/kmer_union1.kmc_suf does not have compressed suffix\n",
      "in1: 100% in2: 100% \n",
      "pigz: skipping: ramdisk/geno_kmers is a directory\n",
      "pigz: skipping: ramdisk/kmer_union0.kmc_pre does not have compressed suffix\n",
      "pigz: skipping: ramdisk/kmer_union0.kmc_suf does not have compressed suffix\n",
      "in1: 100% in2: 100% \n",
      "pigz: skipping: ramdisk/geno_kmers is a directory\n",
      "pigz: skipping: ramdisk/kmer_union1.kmc_pre does not have compressed suffix\n",
      "pigz: skipping: ramdisk/kmer_union1.kmc_suf does not have compressed suffix\n",
      "in1: 100% in2: 100% \n",
      "pigz: skipping: ramdisk/geno_kmers is a directory\n",
      "pigz: skipping: ramdisk/kmer_union0.kmc_pre does not have compressed suffix\n",
      "pigz: skipping: ramdisk/kmer_union0.kmc_suf does not have compressed suffix\n",
      "in1: 100% in2: 100% \n"
     ]
    },
    {
     "name": "stdout",
     "output_type": "stream",
     "text": [
      "Genotypes remaining: 196\n"
     ]
    },
    {
     "name": "stderr",
     "output_type": "stream",
     "text": [
      "pigz: skipping: ramdisk/geno_kmers is a directory\n",
      "in1: 100% in2: 100% \n",
      "pigz: skipping: ramdisk/geno_kmers is a directory\n",
      "pigz: skipping: ramdisk/kmer_union0.kmc_pre does not have compressed suffix\n",
      "pigz: skipping: ramdisk/kmer_union0.kmc_suf does not have compressed suffix\n",
      "in1: 100% in2: 100% \n",
      "pigz: skipping: ramdisk/geno_kmers is a directory\n",
      "pigz: skipping: ramdisk/kmer_union1.kmc_pre does not have compressed suffix\n",
      "pigz: skipping: ramdisk/kmer_union1.kmc_suf does not have compressed suffix\n",
      "in1: 100% in2: 100% \n",
      "pigz: skipping: ramdisk/geno_kmers is a directory\n",
      "pigz: skipping: ramdisk/kmer_union0.kmc_pre does not have compressed suffix\n",
      "pigz: skipping: ramdisk/kmer_union0.kmc_suf does not have compressed suffix\n",
      "in1: 100% in2: 100% \n",
      "pigz: skipping: ramdisk/geno_kmers is a directory\n",
      "pigz: skipping: ramdisk/kmer_union1.kmc_pre does not have compressed suffix\n",
      "pigz: skipping: ramdisk/kmer_union1.kmc_suf does not have compressed suffix\n",
      "in1: 100% in2: 100% \n"
     ]
    },
    {
     "name": "stdout",
     "output_type": "stream",
     "text": [
      "Genotypes remaining: 195\n"
     ]
    },
    {
     "name": "stderr",
     "output_type": "stream",
     "text": [
      "pigz: skipping: ramdisk/geno_kmers is a directory\n",
      "in1: 100% in2: 100% \n",
      "pigz: skipping: ramdisk/geno_kmers is a directory\n",
      "pigz: skipping: ramdisk/kmer_union0.kmc_pre does not have compressed suffix\n",
      "pigz: skipping: ramdisk/kmer_union0.kmc_suf does not have compressed suffix\n",
      "in1: 100% in2: 100% \n",
      "pigz: skipping: ramdisk/geno_kmers is a directory\n",
      "pigz: skipping: ramdisk/kmer_union1.kmc_pre does not have compressed suffix\n",
      "pigz: skipping: ramdisk/kmer_union1.kmc_suf does not have compressed suffix\n",
      "in1: 100% in2: 100% \n",
      "pigz: skipping: ramdisk/geno_kmers is a directory\n",
      "pigz: skipping: ramdisk/kmer_union0.kmc_pre does not have compressed suffix\n",
      "pigz: skipping: ramdisk/kmer_union0.kmc_suf does not have compressed suffix\n",
      "in1: 100% in2: 100% \n",
      "pigz: skipping: ramdisk/geno_kmers is a directory\n",
      "pigz: skipping: ramdisk/kmer_union1.kmc_pre does not have compressed suffix\n",
      "pigz: skipping: ramdisk/kmer_union1.kmc_suf does not have compressed suffix\n",
      "in1: 100% in2: 100% \n",
      "pigz: skipping: ramdisk/geno_kmers is a directory\n",
      "pigz: skipping: ramdisk/kmer_union0.kmc_pre does not have compressed suffix\n",
      "pigz: skipping: ramdisk/kmer_union0.kmc_suf does not have compressed suffix\n",
      "in1: 100% in2: 100% \n"
     ]
    },
    {
     "name": "stdout",
     "output_type": "stream",
     "text": [
      "Genotypes remaining: 194\n"
     ]
    },
    {
     "name": "stderr",
     "output_type": "stream",
     "text": [
      "pigz: skipping: ramdisk/geno_kmers is a directory\n",
      "in1: 100% in2: 100% \n",
      "pigz: skipping: ramdisk/geno_kmers is a directory\n",
      "pigz: skipping: ramdisk/kmer_union0.kmc_pre does not have compressed suffix\n",
      "pigz: skipping: ramdisk/kmer_union0.kmc_suf does not have compressed suffix\n",
      "in1: 100% in2: 100% \n",
      "pigz: skipping: ramdisk/geno_kmers is a directory\n",
      "pigz: skipping: ramdisk/kmer_union1.kmc_pre does not have compressed suffix\n",
      "pigz: skipping: ramdisk/kmer_union1.kmc_suf does not have compressed suffix\n",
      "in1: 100% in2: 100% \n",
      "pigz: skipping: ramdisk/geno_kmers is a directory\n",
      "pigz: skipping: ramdisk/kmer_union0.kmc_pre does not have compressed suffix\n",
      "pigz: skipping: ramdisk/kmer_union0.kmc_suf does not have compressed suffix\n",
      "in1: 100% in2: 100% \n",
      "pigz: skipping: ramdisk/geno_kmers is a directory\n",
      "pigz: skipping: ramdisk/kmer_union1.kmc_pre does not have compressed suffix\n",
      "pigz: skipping: ramdisk/kmer_union1.kmc_suf does not have compressed suffix\n",
      "in1: 100% in2: 100% \n",
      "pigz: skipping: ramdisk/geno_kmers is a directory\n",
      "pigz: skipping: ramdisk/kmer_union0.kmc_pre does not have compressed suffix\n",
      "pigz: skipping: ramdisk/kmer_union0.kmc_suf does not have compressed suffix\n",
      "in1: 100% in2: 100% \n"
     ]
    },
    {
     "name": "stdout",
     "output_type": "stream",
     "text": [
      "Genotypes remaining: 193\n"
     ]
    },
    {
     "name": "stderr",
     "output_type": "stream",
     "text": [
      "pigz: skipping: ramdisk/geno_kmers is a directory\n",
      "in1: 100% in2: 100% \n",
      "pigz: skipping: ramdisk/geno_kmers is a directory\n",
      "pigz: skipping: ramdisk/kmer_union0.kmc_pre does not have compressed suffix\n",
      "pigz: skipping: ramdisk/kmer_union0.kmc_suf does not have compressed suffix\n",
      "in1: 100% in2: 100% \n",
      "pigz: skipping: ramdisk/geno_kmers is a directory\n",
      "pigz: skipping: ramdisk/kmer_union1.kmc_pre does not have compressed suffix\n",
      "pigz: skipping: ramdisk/kmer_union1.kmc_suf does not have compressed suffix\n",
      "in1: 100% in2: 100% \n",
      "pigz: skipping: ramdisk/geno_kmers is a directory\n",
      "pigz: skipping: ramdisk/kmer_union0.kmc_pre does not have compressed suffix\n",
      "pigz: skipping: ramdisk/kmer_union0.kmc_suf does not have compressed suffix\n",
      "in1: 100% in2: 100% \n",
      "pigz: skipping: ramdisk/geno_kmers is a directory\n",
      "pigz: skipping: ramdisk/kmer_union1.kmc_pre does not have compressed suffix\n",
      "pigz: skipping: ramdisk/kmer_union1.kmc_suf does not have compressed suffix\n",
      "in1: 100% in2: 100% 61% in2: 86% \n"
     ]
    },
    {
     "name": "stdout",
     "output_type": "stream",
     "text": [
      "Genotypes remaining: 192\n"
     ]
    },
    {
     "name": "stderr",
     "output_type": "stream",
     "text": [
      "pigz: skipping: ramdisk/geno_kmers is a directory\n",
      "in1: 100% in2: 100% \n",
      "pigz: skipping: ramdisk/geno_kmers is a directory\n",
      "pigz: skipping: ramdisk/kmer_union0.kmc_pre does not have compressed suffix\n",
      "pigz: skipping: ramdisk/kmer_union0.kmc_suf does not have compressed suffix\n",
      "in1: 100% in2: 100% \n",
      "pigz: skipping: ramdisk/geno_kmers is a directory\n",
      "pigz: skipping: ramdisk/kmer_union1.kmc_pre does not have compressed suffix\n",
      "pigz: skipping: ramdisk/kmer_union1.kmc_suf does not have compressed suffix\n",
      "in1: 100% in2: 100% \n",
      "pigz: skipping: ramdisk/geno_kmers is a directory\n",
      "pigz: skipping: ramdisk/kmer_union0.kmc_pre does not have compressed suffix\n",
      "pigz: skipping: ramdisk/kmer_union0.kmc_suf does not have compressed suffix\n",
      "in1: 100% in2: 100% \n",
      "pigz: skipping: ramdisk/geno_kmers is a directory\n",
      "pigz: skipping: ramdisk/kmer_union1.kmc_pre does not have compressed suffix\n",
      "pigz: skipping: ramdisk/kmer_union1.kmc_suf does not have compressed suffix\n",
      "in1: 100% in2: 100% \n",
      "pigz: skipping: ramdisk/geno_kmers is a directory\n",
      "pigz: skipping: ramdisk/kmer_union0.kmc_pre does not have compressed suffix\n",
      "pigz: skipping: ramdisk/kmer_union0.kmc_suf does not have compressed suffix\n",
      "in1: 100% in2: 100% \n"
     ]
    },
    {
     "name": "stdout",
     "output_type": "stream",
     "text": [
      "Genotypes remaining: 191\n"
     ]
    },
    {
     "name": "stderr",
     "output_type": "stream",
     "text": [
      "pigz: skipping: ramdisk/geno_kmers is a directory\n",
      "in1: 100% in2: 100% \n",
      "pigz: skipping: ramdisk/geno_kmers is a directory\n",
      "pigz: skipping: ramdisk/kmer_union0.kmc_pre does not have compressed suffix\n",
      "pigz: skipping: ramdisk/kmer_union0.kmc_suf does not have compressed suffix\n",
      "in1: 100% in2: 100% \n",
      "pigz: skipping: ramdisk/geno_kmers is a directory\n",
      "pigz: skipping: ramdisk/kmer_union1.kmc_pre does not have compressed suffix\n",
      "pigz: skipping: ramdisk/kmer_union1.kmc_suf does not have compressed suffix\n",
      "in1: 100% in2: 100% \n",
      "pigz: skipping: ramdisk/geno_kmers is a directory\n",
      "pigz: skipping: ramdisk/kmer_union0.kmc_pre does not have compressed suffix\n",
      "pigz: skipping: ramdisk/kmer_union0.kmc_suf does not have compressed suffix\n",
      "in1: 100% in2: 100% \n",
      "pigz: skipping: ramdisk/geno_kmers is a directory\n",
      "pigz: skipping: ramdisk/kmer_union1.kmc_pre does not have compressed suffix\n",
      "pigz: skipping: ramdisk/kmer_union1.kmc_suf does not have compressed suffix\n",
      "in1: 100% in2: 100% \n",
      "pigz: skipping: ramdisk/geno_kmers is a directory\n",
      "pigz: skipping: ramdisk/kmer_union0.kmc_pre does not have compressed suffix\n",
      "pigz: skipping: ramdisk/kmer_union0.kmc_suf does not have compressed suffix\n",
      "in1: 100% in2: 100% \n"
     ]
    },
    {
     "name": "stdout",
     "output_type": "stream",
     "text": [
      "Genotypes remaining: 190\n"
     ]
    },
    {
     "name": "stderr",
     "output_type": "stream",
     "text": [
      "pigz: skipping: ramdisk/geno_kmers is a directory\n",
      "in1: 100% in2: 100% \n",
      "pigz: skipping: ramdisk/geno_kmers is a directory\n",
      "pigz: skipping: ramdisk/kmer_union0.kmc_pre does not have compressed suffix\n",
      "pigz: skipping: ramdisk/kmer_union0.kmc_suf does not have compressed suffix\n",
      "in1: 100% in2: 100% \n",
      "pigz: skipping: ramdisk/geno_kmers is a directory\n",
      "pigz: skipping: ramdisk/kmer_union1.kmc_pre does not have compressed suffix\n",
      "pigz: skipping: ramdisk/kmer_union1.kmc_suf does not have compressed suffix\n",
      "in1: 100% in2: 100% \n",
      "pigz: skipping: ramdisk/geno_kmers is a directory\n",
      "pigz: skipping: ramdisk/kmer_union0.kmc_pre does not have compressed suffix\n",
      "pigz: skipping: ramdisk/kmer_union0.kmc_suf does not have compressed suffix\n",
      "in1: 100% in2: 100% \n",
      "pigz: skipping: ramdisk/geno_kmers is a directory\n",
      "pigz: skipping: ramdisk/kmer_union1.kmc_pre does not have compressed suffix\n",
      "pigz: skipping: ramdisk/kmer_union1.kmc_suf does not have compressed suffix\n",
      "in1: 100% in2: 100% \n",
      "pigz: skipping: ramdisk/geno_kmers is a directory\n",
      "pigz: skipping: ramdisk/kmer_union0.kmc_pre does not have compressed suffix\n",
      "pigz: skipping: ramdisk/kmer_union0.kmc_suf does not have compressed suffix\n",
      "in1: 100% in2: 100% \n"
     ]
    },
    {
     "name": "stdout",
     "output_type": "stream",
     "text": [
      "Genotypes remaining: 189\n"
     ]
    },
    {
     "name": "stderr",
     "output_type": "stream",
     "text": [
      "pigz: skipping: ramdisk/geno_kmers is a directory\n",
      "in1: 100% in2: 100% \n",
      "pigz: skipping: ramdisk/geno_kmers is a directory\n",
      "pigz: skipping: ramdisk/kmer_union0.kmc_pre does not have compressed suffix\n",
      "pigz: skipping: ramdisk/kmer_union0.kmc_suf does not have compressed suffix\n",
      "in1: 100% in2: 100% \n",
      "pigz: skipping: ramdisk/geno_kmers is a directory\n",
      "pigz: skipping: ramdisk/kmer_union1.kmc_pre does not have compressed suffix\n",
      "pigz: skipping: ramdisk/kmer_union1.kmc_suf does not have compressed suffix\n",
      "in1: 100% in2: 100% \n",
      "pigz: skipping: ramdisk/geno_kmers is a directory\n",
      "pigz: skipping: ramdisk/kmer_union0.kmc_pre does not have compressed suffix\n",
      "pigz: skipping: ramdisk/kmer_union0.kmc_suf does not have compressed suffix\n",
      "in1: 100% in2: 100% \n",
      "pigz: skipping: ramdisk/geno_kmers is a directory\n",
      "pigz: skipping: ramdisk/kmer_union1.kmc_pre does not have compressed suffix\n",
      "pigz: skipping: ramdisk/kmer_union1.kmc_suf does not have compressed suffix\n",
      "in1: 100% in2: 100% \n",
      "pigz: skipping: ramdisk/geno_kmers is a directory\n",
      "pigz: skipping: ramdisk/kmer_union0.kmc_pre does not have compressed suffix\n",
      "pigz: skipping: ramdisk/kmer_union0.kmc_suf does not have compressed suffix\n",
      "in1: 100% in2: 100% \n"
     ]
    },
    {
     "name": "stdout",
     "output_type": "stream",
     "text": [
      "Genotypes remaining: 188\n"
     ]
    },
    {
     "name": "stderr",
     "output_type": "stream",
     "text": [
      "pigz: skipping: ramdisk/geno_kmers is a directory\n",
      "in1: 100% in2: 100% \n",
      "pigz: skipping: ramdisk/geno_kmers is a directory\n",
      "pigz: skipping: ramdisk/kmer_union0.kmc_pre does not have compressed suffix\n",
      "pigz: skipping: ramdisk/kmer_union0.kmc_suf does not have compressed suffix\n",
      "in1: 100% in2: 100% \n",
      "pigz: skipping: ramdisk/geno_kmers is a directory\n",
      "pigz: skipping: ramdisk/kmer_union1.kmc_pre does not have compressed suffix\n",
      "pigz: skipping: ramdisk/kmer_union1.kmc_suf does not have compressed suffix\n",
      "in1: 100% in2: 100% 94% in2: 99% \n",
      "pigz: skipping: ramdisk/geno_kmers is a directory\n",
      "pigz: skipping: ramdisk/kmer_union0.kmc_pre does not have compressed suffix\n",
      "pigz: skipping: ramdisk/kmer_union0.kmc_suf does not have compressed suffix\n",
      "in1: 100% in2: 100% \n",
      "pigz: skipping: ramdisk/geno_kmers is a directory\n",
      "pigz: skipping: ramdisk/kmer_union1.kmc_pre does not have compressed suffix\n",
      "pigz: skipping: ramdisk/kmer_union1.kmc_suf does not have compressed suffix\n",
      "in1: 100% in2: 100% \n"
     ]
    },
    {
     "name": "stdout",
     "output_type": "stream",
     "text": [
      "Genotypes remaining: 187\n"
     ]
    },
    {
     "name": "stderr",
     "output_type": "stream",
     "text": [
      "pigz: skipping: ramdisk/geno_kmers is a directory\n",
      "in1: 100% in2: 100% \n",
      "pigz: skipping: ramdisk/geno_kmers is a directory\n",
      "pigz: skipping: ramdisk/kmer_union0.kmc_pre does not have compressed suffix\n",
      "pigz: skipping: ramdisk/kmer_union0.kmc_suf does not have compressed suffix\n",
      "in1: 100% in2: 100% \n",
      "pigz: skipping: ramdisk/geno_kmers is a directory\n",
      "pigz: skipping: ramdisk/kmer_union1.kmc_pre does not have compressed suffix\n",
      "pigz: skipping: ramdisk/kmer_union1.kmc_suf does not have compressed suffix\n",
      "in1: 100% in2: 100% \n",
      "pigz: skipping: ramdisk/geno_kmers is a directory\n",
      "pigz: skipping: ramdisk/kmer_union0.kmc_pre does not have compressed suffix\n",
      "pigz: skipping: ramdisk/kmer_union0.kmc_suf does not have compressed suffix\n",
      "in1: 100% in2: 100% \n",
      "pigz: skipping: ramdisk/geno_kmers is a directory\n",
      "pigz: skipping: ramdisk/kmer_union1.kmc_pre does not have compressed suffix\n",
      "pigz: skipping: ramdisk/kmer_union1.kmc_suf does not have compressed suffix\n",
      "in1: 100% in2: 100% \n",
      "pigz: skipping: ramdisk/geno_kmers is a directory\n",
      "pigz: skipping: ramdisk/kmer_union0.kmc_pre does not have compressed suffix\n",
      "pigz: skipping: ramdisk/kmer_union0.kmc_suf does not have compressed suffix\n",
      "in1: 100% in2: 100% \n",
      "pigz: skipping: ramdisk/geno_kmers is a directory\n",
      "pigz: skipping: ramdisk/kmer_union1.kmc_pre does not have compressed suffix\n",
      "pigz: skipping: ramdisk/kmer_union1.kmc_suf does not have compressed suffix\n",
      "in1: 100% in2: 100% \n"
     ]
    },
    {
     "name": "stdout",
     "output_type": "stream",
     "text": [
      "Genotypes remaining: 186\n"
     ]
    },
    {
     "name": "stderr",
     "output_type": "stream",
     "text": [
      "pigz: skipping: ramdisk/geno_kmers is a directory\n",
      "in1: 100% in2: 100% \n",
      "pigz: skipping: ramdisk/geno_kmers is a directory\n",
      "pigz: skipping: ramdisk/kmer_union0.kmc_pre does not have compressed suffix\n",
      "pigz: skipping: ramdisk/kmer_union0.kmc_suf does not have compressed suffix\n",
      "in1: 100% in2: 100% \n",
      "pigz: skipping: ramdisk/geno_kmers is a directory\n",
      "pigz: skipping: ramdisk/kmer_union1.kmc_pre does not have compressed suffix\n",
      "pigz: skipping: ramdisk/kmer_union1.kmc_suf does not have compressed suffix\n",
      "in1: 100% in2: 100% \n",
      "pigz: skipping: ramdisk/geno_kmers is a directory\n",
      "pigz: skipping: ramdisk/kmer_union0.kmc_pre does not have compressed suffix\n",
      "pigz: skipping: ramdisk/kmer_union0.kmc_suf does not have compressed suffix\n",
      "in1: 100% in2: 100% \n",
      "pigz: skipping: ramdisk/geno_kmers is a directory\n",
      "pigz: skipping: ramdisk/kmer_union1.kmc_pre does not have compressed suffix\n",
      "pigz: skipping: ramdisk/kmer_union1.kmc_suf does not have compressed suffix\n",
      "in1: 100% in2: 100% \n"
     ]
    },
    {
     "name": "stdout",
     "output_type": "stream",
     "text": [
      "Genotypes remaining: 185\n"
     ]
    },
    {
     "name": "stderr",
     "output_type": "stream",
     "text": [
      "pigz: skipping: ramdisk/geno_kmers is a directory\n",
      "in1: 100% in2: 100% \n",
      "pigz: skipping: ramdisk/geno_kmers is a directory\n",
      "pigz: skipping: ramdisk/kmer_union0.kmc_pre does not have compressed suffix\n",
      "pigz: skipping: ramdisk/kmer_union0.kmc_suf does not have compressed suffix\n",
      "in1: 100% in2: 100% \n",
      "pigz: skipping: ramdisk/geno_kmers is a directory\n",
      "pigz: skipping: ramdisk/kmer_union1.kmc_pre does not have compressed suffix\n",
      "pigz: skipping: ramdisk/kmer_union1.kmc_suf does not have compressed suffix\n",
      "in1: 100% in2: 100% \n",
      "pigz: skipping: ramdisk/geno_kmers is a directory\n",
      "pigz: skipping: ramdisk/kmer_union0.kmc_pre does not have compressed suffix\n",
      "pigz: skipping: ramdisk/kmer_union0.kmc_suf does not have compressed suffix\n",
      "in1: 100% in2: 100% \n",
      "pigz: skipping: ramdisk/geno_kmers is a directory\n",
      "pigz: skipping: ramdisk/kmer_union1.kmc_pre does not have compressed suffix\n",
      "pigz: skipping: ramdisk/kmer_union1.kmc_suf does not have compressed suffix\n",
      "in1: 100% in2: 100% \n",
      "pigz: skipping: ramdisk/geno_kmers is a directory\n",
      "pigz: skipping: ramdisk/kmer_union0.kmc_pre does not have compressed suffix\n",
      "pigz: skipping: ramdisk/kmer_union0.kmc_suf does not have compressed suffix\n",
      "in1: 100% in2: 100% \n",
      "pigz: skipping: ramdisk/geno_kmers is a directory\n",
      "pigz: skipping: ramdisk/kmer_union1.kmc_pre does not have compressed suffix\n",
      "pigz: skipping: ramdisk/kmer_union1.kmc_suf does not have compressed suffix\n",
      "in1: 100% in2: 100% \n"
     ]
    },
    {
     "name": "stdout",
     "output_type": "stream",
     "text": [
      "Genotypes remaining: 184\n"
     ]
    },
    {
     "name": "stderr",
     "output_type": "stream",
     "text": [
      "pigz: skipping: ramdisk/geno_kmers is a directory\n",
      "in1: 100% in2: 100% \n",
      "pigz: skipping: ramdisk/geno_kmers is a directory\n",
      "pigz: skipping: ramdisk/kmer_union0.kmc_pre does not have compressed suffix\n",
      "pigz: skipping: ramdisk/kmer_union0.kmc_suf does not have compressed suffix\n",
      "in1: 100% in2: 100% \n",
      "pigz: skipping: ramdisk/geno_kmers is a directory\n",
      "pigz: skipping: ramdisk/kmer_union1.kmc_pre does not have compressed suffix\n",
      "pigz: skipping: ramdisk/kmer_union1.kmc_suf does not have compressed suffix\n",
      "in1: 100% in2: 100% \n",
      "pigz: skipping: ramdisk/geno_kmers is a directory\n",
      "pigz: skipping: ramdisk/kmer_union0.kmc_pre does not have compressed suffix\n",
      "pigz: skipping: ramdisk/kmer_union0.kmc_suf does not have compressed suffix\n",
      "in1: 100% in2: 100% \n"
     ]
    },
    {
     "name": "stdout",
     "output_type": "stream",
     "text": [
      "Genotypes remaining: 183\n"
     ]
    },
    {
     "name": "stderr",
     "output_type": "stream",
     "text": [
      "pigz: skipping: ramdisk/geno_kmers is a directory\n",
      "in1: 100% in2: 100% \n"
     ]
    },
    {
     "name": "stdout",
     "output_type": "stream",
     "text": [
      "Genotypes remaining: 182\n"
     ]
    },
    {
     "name": "stderr",
     "output_type": "stream",
     "text": [
      "pigz: skipping: ramdisk/geno_kmers is a directory\n",
      "in1: 100% in2: 100% \n",
      "pigz: skipping: ramdisk/geno_kmers is a directory\n",
      "pigz: skipping: ramdisk/kmer_union0.kmc_pre does not have compressed suffix\n",
      "pigz: skipping: ramdisk/kmer_union0.kmc_suf does not have compressed suffix\n",
      "in1: 100% in2: 100% 2: 47% \n",
      "pigz: skipping: ramdisk/geno_kmers is a directory\n",
      "pigz: skipping: ramdisk/kmer_union1.kmc_pre does not have compressed suffix\n",
      "pigz: skipping: ramdisk/kmer_union1.kmc_suf does not have compressed suffix\n",
      "in1: 100% in2: 100% \n",
      "pigz: skipping: ramdisk/geno_kmers is a directory\n",
      "pigz: skipping: ramdisk/kmer_union0.kmc_pre does not have compressed suffix\n",
      "pigz: skipping: ramdisk/kmer_union0.kmc_suf does not have compressed suffix\n",
      "in1: 100% in2: 100% \n",
      "pigz: skipping: ramdisk/geno_kmers is a directory\n",
      "pigz: skipping: ramdisk/kmer_union1.kmc_pre does not have compressed suffix\n",
      "pigz: skipping: ramdisk/kmer_union1.kmc_suf does not have compressed suffix\n",
      "in1: 100% in2: 100% \n"
     ]
    },
    {
     "name": "stdout",
     "output_type": "stream",
     "text": [
      "Genotypes remaining: 181\n"
     ]
    },
    {
     "name": "stderr",
     "output_type": "stream",
     "text": [
      "pigz: skipping: ramdisk/geno_kmers is a directory\n",
      "in1: 100% in2: 100% \n",
      "pigz: skipping: ramdisk/geno_kmers is a directory\n",
      "pigz: skipping: ramdisk/kmer_union0.kmc_pre does not have compressed suffix\n",
      "pigz: skipping: ramdisk/kmer_union0.kmc_suf does not have compressed suffix\n",
      "in1: 100% in2: 100% \n",
      "pigz: skipping: ramdisk/geno_kmers is a directory\n",
      "pigz: skipping: ramdisk/kmer_union1.kmc_pre does not have compressed suffix\n",
      "pigz: skipping: ramdisk/kmer_union1.kmc_suf does not have compressed suffix\n",
      "in1: 100% in2: 100% \n",
      "pigz: skipping: ramdisk/geno_kmers is a directory\n",
      "pigz: skipping: ramdisk/kmer_union0.kmc_pre does not have compressed suffix\n",
      "pigz: skipping: ramdisk/kmer_union0.kmc_suf does not have compressed suffix\n",
      "in1: 100% in2: 100% \n",
      "pigz: skipping: ramdisk/geno_kmers is a directory\n",
      "pigz: skipping: ramdisk/kmer_union1.kmc_pre does not have compressed suffix\n",
      "pigz: skipping: ramdisk/kmer_union1.kmc_suf does not have compressed suffix\n",
      "in1: 100% in2: 100% \n"
     ]
    },
    {
     "name": "stdout",
     "output_type": "stream",
     "text": [
      "Genotypes remaining: 180\n"
     ]
    },
    {
     "name": "stderr",
     "output_type": "stream",
     "text": [
      "pigz: skipping: ramdisk/geno_kmers is a directory\n",
      "in1: 100% in2: 100% \n",
      "pigz: skipping: ramdisk/geno_kmers is a directory\n",
      "pigz: skipping: ramdisk/kmer_union0.kmc_pre does not have compressed suffix\n",
      "pigz: skipping: ramdisk/kmer_union0.kmc_suf does not have compressed suffix\n",
      "in1: 100% in2: 100% \n",
      "pigz: skipping: ramdisk/geno_kmers is a directory\n",
      "pigz: skipping: ramdisk/kmer_union1.kmc_pre does not have compressed suffix\n",
      "pigz: skipping: ramdisk/kmer_union1.kmc_suf does not have compressed suffix\n",
      "in1: 100% in2: 100% \n",
      "pigz: skipping: ramdisk/geno_kmers is a directory\n",
      "pigz: skipping: ramdisk/kmer_union0.kmc_pre does not have compressed suffix\n",
      "pigz: skipping: ramdisk/kmer_union0.kmc_suf does not have compressed suffix\n",
      "in1: 100% in2: 100% \n"
     ]
    },
    {
     "name": "stdout",
     "output_type": "stream",
     "text": [
      "Genotypes remaining: 179\n"
     ]
    },
    {
     "name": "stderr",
     "output_type": "stream",
     "text": [
      "pigz: skipping: ramdisk/geno_kmers is a directory\n",
      "in1: 100% in2: 100% \n",
      "pigz: skipping: ramdisk/geno_kmers is a directory\n",
      "pigz: skipping: ramdisk/kmer_union0.kmc_pre does not have compressed suffix\n",
      "pigz: skipping: ramdisk/kmer_union0.kmc_suf does not have compressed suffix\n",
      "in1: 100% in2: 100% \n",
      "pigz: skipping: ramdisk/geno_kmers is a directory\n",
      "pigz: skipping: ramdisk/kmer_union1.kmc_pre does not have compressed suffix\n",
      "pigz: skipping: ramdisk/kmer_union1.kmc_suf does not have compressed suffix\n",
      "in1: 100% in2: 100% \n",
      "pigz: skipping: ramdisk/geno_kmers is a directory\n",
      "pigz: skipping: ramdisk/kmer_union0.kmc_pre does not have compressed suffix\n",
      "pigz: skipping: ramdisk/kmer_union0.kmc_suf does not have compressed suffix\n",
      "in1: 100% in2: 100% \n",
      "pigz: skipping: ramdisk/geno_kmers is a directory\n",
      "pigz: skipping: ramdisk/kmer_union1.kmc_pre does not have compressed suffix\n",
      "pigz: skipping: ramdisk/kmer_union1.kmc_suf does not have compressed suffix\n",
      "in1: 100% in2: 100% \n",
      "pigz: skipping: ramdisk/geno_kmers is a directory\n",
      "pigz: skipping: ramdisk/kmer_union0.kmc_pre does not have compressed suffix\n",
      "pigz: skipping: ramdisk/kmer_union0.kmc_suf does not have compressed suffix\n",
      "in1: 100% in2: 100% \n"
     ]
    },
    {
     "name": "stdout",
     "output_type": "stream",
     "text": [
      "Genotypes remaining: 178\n"
     ]
    },
    {
     "name": "stderr",
     "output_type": "stream",
     "text": [
      "pigz: skipping: ramdisk/geno_kmers is a directory\n",
      "in1: 100% in2: 100% \n",
      "pigz: skipping: ramdisk/geno_kmers is a directory\n",
      "pigz: skipping: ramdisk/kmer_union0.kmc_pre does not have compressed suffix\n",
      "pigz: skipping: ramdisk/kmer_union0.kmc_suf does not have compressed suffix\n",
      "in1: 100% in2: 100% \n",
      "pigz: skipping: ramdisk/geno_kmers is a directory\n",
      "pigz: skipping: ramdisk/kmer_union1.kmc_pre does not have compressed suffix\n",
      "pigz: skipping: ramdisk/kmer_union1.kmc_suf does not have compressed suffix\n",
      "in1: 100% in2: 100% \n"
     ]
    },
    {
     "name": "stdout",
     "output_type": "stream",
     "text": [
      "Genotypes remaining: 177\n"
     ]
    },
    {
     "name": "stderr",
     "output_type": "stream",
     "text": [
      "pigz: skipping: ramdisk/geno_kmers is a directory\n",
      "in1: 100% in2: 100% \n",
      "pigz: skipping: ramdisk/geno_kmers is a directory\n",
      "pigz: skipping: ramdisk/kmer_union0.kmc_pre does not have compressed suffix\n",
      "pigz: skipping: ramdisk/kmer_union0.kmc_suf does not have compressed suffix\n",
      "in1: 100% in2: 100% \n",
      "pigz: skipping: ramdisk/geno_kmers is a directory\n",
      "pigz: skipping: ramdisk/kmer_union1.kmc_pre does not have compressed suffix\n",
      "pigz: skipping: ramdisk/kmer_union1.kmc_suf does not have compressed suffix\n",
      "in1: 100% in2: 100% \n",
      "pigz: skipping: ramdisk/geno_kmers is a directory\n",
      "pigz: skipping: ramdisk/kmer_union0.kmc_pre does not have compressed suffix\n",
      "pigz: skipping: ramdisk/kmer_union0.kmc_suf does not have compressed suffix\n",
      "in1: 100% in2: 100% \n",
      "pigz: skipping: ramdisk/geno_kmers is a directory\n",
      "pigz: skipping: ramdisk/kmer_union1.kmc_pre does not have compressed suffix\n",
      "pigz: skipping: ramdisk/kmer_union1.kmc_suf does not have compressed suffix\n",
      "in1: 100% in2: 100% \n",
      "pigz: skipping: ramdisk/geno_kmers is a directory\n",
      "pigz: skipping: ramdisk/kmer_union0.kmc_pre does not have compressed suffix\n",
      "pigz: skipping: ramdisk/kmer_union0.kmc_suf does not have compressed suffix\n",
      "in1: 100% in2: 100% \n",
      "pigz: skipping: ramdisk/geno_kmers is a directory\n",
      "pigz: skipping: ramdisk/kmer_union1.kmc_pre does not have compressed suffix\n",
      "pigz: skipping: ramdisk/kmer_union1.kmc_suf does not have compressed suffix\n",
      "in1: 100% in2: 100% \n"
     ]
    },
    {
     "name": "stdout",
     "output_type": "stream",
     "text": [
      "Genotypes remaining: 176\n"
     ]
    },
    {
     "name": "stderr",
     "output_type": "stream",
     "text": [
      "pigz: skipping: ramdisk/geno_kmers is a directory\n",
      "in1: 100% in2: 100% \n",
      "pigz: skipping: ramdisk/geno_kmers is a directory\n",
      "pigz: skipping: ramdisk/kmer_union0.kmc_pre does not have compressed suffix\n",
      "pigz: skipping: ramdisk/kmer_union0.kmc_suf does not have compressed suffix\n",
      "in1: 100% in2: 100% \n",
      "pigz: skipping: ramdisk/geno_kmers is a directory\n",
      "pigz: skipping: ramdisk/kmer_union1.kmc_pre does not have compressed suffix\n",
      "pigz: skipping: ramdisk/kmer_union1.kmc_suf does not have compressed suffix\n",
      "in1: 100% in2: 100% \n",
      "pigz: skipping: ramdisk/geno_kmers is a directory\n",
      "pigz: skipping: ramdisk/kmer_union0.kmc_pre does not have compressed suffix\n",
      "pigz: skipping: ramdisk/kmer_union0.kmc_suf does not have compressed suffix\n",
      "in1: 100% in2: 100% \n",
      "pigz: skipping: ramdisk/geno_kmers is a directory\n",
      "pigz: skipping: ramdisk/kmer_union1.kmc_pre does not have compressed suffix\n",
      "pigz: skipping: ramdisk/kmer_union1.kmc_suf does not have compressed suffix\n",
      "in1: 100% in2: 100% \n"
     ]
    },
    {
     "name": "stdout",
     "output_type": "stream",
     "text": [
      "Genotypes remaining: 175\n"
     ]
    },
    {
     "name": "stderr",
     "output_type": "stream",
     "text": [
      "pigz: skipping: ramdisk/geno_kmers is a directory\n",
      "in1: 100% in2: 100% \n",
      "pigz: skipping: ramdisk/geno_kmers is a directory\n",
      "pigz: skipping: ramdisk/kmer_union0.kmc_pre does not have compressed suffix\n",
      "pigz: skipping: ramdisk/kmer_union0.kmc_suf does not have compressed suffix\n",
      "in1: 100% in2: 100% \n",
      "pigz: skipping: ramdisk/geno_kmers is a directory\n",
      "pigz: skipping: ramdisk/kmer_union1.kmc_pre does not have compressed suffix\n",
      "pigz: skipping: ramdisk/kmer_union1.kmc_suf does not have compressed suffix\n",
      "in1: 100% in2: 100% \n",
      "pigz: skipping: ramdisk/geno_kmers is a directory\n",
      "pigz: skipping: ramdisk/kmer_union0.kmc_pre does not have compressed suffix\n",
      "pigz: skipping: ramdisk/kmer_union0.kmc_suf does not have compressed suffix\n",
      "in1: 100% in2: 100% \n",
      "pigz: skipping: ramdisk/geno_kmers is a directory\n",
      "pigz: skipping: ramdisk/kmer_union1.kmc_pre does not have compressed suffix\n",
      "pigz: skipping: ramdisk/kmer_union1.kmc_suf does not have compressed suffix\n",
      "in1: 100% in2: 100% \n"
     ]
    },
    {
     "name": "stdout",
     "output_type": "stream",
     "text": [
      "Genotypes remaining: 174\n"
     ]
    },
    {
     "name": "stderr",
     "output_type": "stream",
     "text": [
      "pigz: skipping: ramdisk/geno_kmers is a directory\n",
      "in1: 100% in2: 100% \n",
      "pigz: skipping: ramdisk/geno_kmers is a directory\n",
      "pigz: skipping: ramdisk/kmer_union0.kmc_pre does not have compressed suffix\n",
      "pigz: skipping: ramdisk/kmer_union0.kmc_suf does not have compressed suffix\n",
      "in1: 100% in2: 100% \n",
      "pigz: skipping: ramdisk/geno_kmers is a directory\n",
      "pigz: skipping: ramdisk/kmer_union1.kmc_pre does not have compressed suffix\n",
      "pigz: skipping: ramdisk/kmer_union1.kmc_suf does not have compressed suffix\n",
      "in1: 100% in2: 100% \n",
      "pigz: skipping: ramdisk/geno_kmers is a directory\n",
      "pigz: skipping: ramdisk/kmer_union0.kmc_pre does not have compressed suffix\n",
      "pigz: skipping: ramdisk/kmer_union0.kmc_suf does not have compressed suffix\n",
      "in1: 100% in2: 100% \n",
      "pigz: skipping: ramdisk/geno_kmers is a directory\n",
      "pigz: skipping: ramdisk/kmer_union1.kmc_pre does not have compressed suffix\n",
      "pigz: skipping: ramdisk/kmer_union1.kmc_suf does not have compressed suffix\n",
      "in1: 100% in2: 100% \n"
     ]
    },
    {
     "name": "stdout",
     "output_type": "stream",
     "text": [
      "Genotypes remaining: 173\n"
     ]
    },
    {
     "name": "stderr",
     "output_type": "stream",
     "text": [
      "pigz: skipping: ramdisk/geno_kmers is a directory\n",
      "in1: 100% in2: 100% \n",
      "pigz: skipping: ramdisk/geno_kmers is a directory\n",
      "pigz: skipping: ramdisk/kmer_union0.kmc_pre does not have compressed suffix\n",
      "pigz: skipping: ramdisk/kmer_union0.kmc_suf does not have compressed suffix\n",
      "in1: 100% in2: 100% \n",
      "pigz: skipping: ramdisk/geno_kmers is a directory\n",
      "pigz: skipping: ramdisk/kmer_union1.kmc_pre does not have compressed suffix\n",
      "pigz: skipping: ramdisk/kmer_union1.kmc_suf does not have compressed suffix\n",
      "in1: 100% in2: 100% \n",
      "pigz: skipping: ramdisk/geno_kmers is a directory\n",
      "pigz: skipping: ramdisk/kmer_union0.kmc_pre does not have compressed suffix\n",
      "pigz: skipping: ramdisk/kmer_union0.kmc_suf does not have compressed suffix\n",
      "in1: 100% in2: 100% \n"
     ]
    },
    {
     "name": "stdout",
     "output_type": "stream",
     "text": [
      "Genotypes remaining: 172\n"
     ]
    },
    {
     "name": "stderr",
     "output_type": "stream",
     "text": [
      "pigz: skipping: ramdisk/geno_kmers is a directory\n",
      "in1: 100% in2: 100% \n",
      "pigz: skipping: ramdisk/geno_kmers is a directory\n",
      "pigz: skipping: ramdisk/kmer_union0.kmc_pre does not have compressed suffix\n",
      "pigz: skipping: ramdisk/kmer_union0.kmc_suf does not have compressed suffix\n",
      "in1: 100% in2: 100% \n",
      "pigz: skipping: ramdisk/geno_kmers is a directory\n",
      "pigz: skipping: ramdisk/kmer_union1.kmc_pre does not have compressed suffix\n",
      "pigz: skipping: ramdisk/kmer_union1.kmc_suf does not have compressed suffix\n",
      "in1: 100% in2: 100% \n",
      "pigz: skipping: ramdisk/geno_kmers is a directory\n",
      "pigz: skipping: ramdisk/kmer_union0.kmc_pre does not have compressed suffix\n",
      "pigz: skipping: ramdisk/kmer_union0.kmc_suf does not have compressed suffix\n",
      "in1: 100% in2: 100% \n",
      "pigz: skipping: ramdisk/geno_kmers is a directory\n",
      "pigz: skipping: ramdisk/kmer_union1.kmc_pre does not have compressed suffix\n",
      "pigz: skipping: ramdisk/kmer_union1.kmc_suf does not have compressed suffix\n",
      "in1: 100% in2: 100% \n",
      "pigz: skipping: ramdisk/geno_kmers is a directory\n",
      "pigz: skipping: ramdisk/kmer_union0.kmc_pre does not have compressed suffix\n",
      "pigz: skipping: ramdisk/kmer_union0.kmc_suf does not have compressed suffix\n",
      "in1: 100% in2: 100% \n"
     ]
    },
    {
     "name": "stdout",
     "output_type": "stream",
     "text": [
      "Genotypes remaining: 171\n"
     ]
    },
    {
     "name": "stderr",
     "output_type": "stream",
     "text": [
      "pigz: skipping: ramdisk/geno_kmers is a directory\n",
      "in1: 100% in2: 100% \n",
      "pigz: skipping: ramdisk/geno_kmers is a directory\n",
      "pigz: skipping: ramdisk/kmer_union0.kmc_pre does not have compressed suffix\n",
      "pigz: skipping: ramdisk/kmer_union0.kmc_suf does not have compressed suffix\n",
      "in1: 100% in2: 100% \n",
      "pigz: skipping: ramdisk/geno_kmers is a directory\n",
      "pigz: skipping: ramdisk/kmer_union1.kmc_pre does not have compressed suffix\n",
      "pigz: skipping: ramdisk/kmer_union1.kmc_suf does not have compressed suffix\n",
      "in1: 100% in2: 100% \n",
      "pigz: skipping: ramdisk/geno_kmers is a directory\n",
      "pigz: skipping: ramdisk/kmer_union0.kmc_pre does not have compressed suffix\n",
      "pigz: skipping: ramdisk/kmer_union0.kmc_suf does not have compressed suffix\n",
      "in1: 100% in2: 100% \n",
      "pigz: skipping: ramdisk/geno_kmers is a directory\n",
      "pigz: skipping: ramdisk/kmer_union1.kmc_pre does not have compressed suffix\n",
      "pigz: skipping: ramdisk/kmer_union1.kmc_suf does not have compressed suffix\n",
      "in1: 100% in2: 100% \n"
     ]
    },
    {
     "name": "stdout",
     "output_type": "stream",
     "text": [
      "Genotypes remaining: 170\n"
     ]
    },
    {
     "name": "stderr",
     "output_type": "stream",
     "text": [
      "pigz: skipping: ramdisk/geno_kmers is a directory\n",
      "in1: 100% in2: 100% \n",
      "pigz: skipping: ramdisk/geno_kmers is a directory\n",
      "pigz: skipping: ramdisk/kmer_union0.kmc_pre does not have compressed suffix\n",
      "pigz: skipping: ramdisk/kmer_union0.kmc_suf does not have compressed suffix\n",
      "in1: 100% in2: 100% \n",
      "pigz: skipping: ramdisk/geno_kmers is a directory\n",
      "pigz: skipping: ramdisk/kmer_union1.kmc_pre does not have compressed suffix\n",
      "pigz: skipping: ramdisk/kmer_union1.kmc_suf does not have compressed suffix\n",
      "in1: 100% in2: 100% \n"
     ]
    },
    {
     "name": "stdout",
     "output_type": "stream",
     "text": [
      "Genotypes remaining: 169\n"
     ]
    },
    {
     "name": "stderr",
     "output_type": "stream",
     "text": [
      "pigz: skipping: ramdisk/geno_kmers is a directory\n",
      "in1: 100% in2: 100% \n",
      "pigz: skipping: ramdisk/geno_kmers is a directory\n",
      "pigz: skipping: ramdisk/kmer_union0.kmc_pre does not have compressed suffix\n",
      "pigz: skipping: ramdisk/kmer_union0.kmc_suf does not have compressed suffix\n",
      "in1: 100% in2: 100% \n",
      "pigz: skipping: ramdisk/geno_kmers is a directory\n",
      "pigz: skipping: ramdisk/kmer_union1.kmc_pre does not have compressed suffix\n",
      "pigz: skipping: ramdisk/kmer_union1.kmc_suf does not have compressed suffix\n",
      "in1: 100% in2: 100% \n",
      "pigz: skipping: ramdisk/geno_kmers is a directory\n",
      "pigz: skipping: ramdisk/kmer_union0.kmc_pre does not have compressed suffix\n",
      "pigz: skipping: ramdisk/kmer_union0.kmc_suf does not have compressed suffix\n",
      "in1: 100% in2: 100% \n",
      "pigz: skipping: ramdisk/geno_kmers is a directory\n",
      "pigz: skipping: ramdisk/kmer_union1.kmc_pre does not have compressed suffix\n",
      "pigz: skipping: ramdisk/kmer_union1.kmc_suf does not have compressed suffix\n",
      "in1: 100% in2: 100% \n",
      "pigz: skipping: ramdisk/geno_kmers is a directory\n",
      "pigz: skipping: ramdisk/kmer_union0.kmc_pre does not have compressed suffix\n",
      "pigz: skipping: ramdisk/kmer_union0.kmc_suf does not have compressed suffix\n",
      "in1: 100% in2: 100% \n"
     ]
    },
    {
     "name": "stdout",
     "output_type": "stream",
     "text": [
      "Genotypes remaining: 168\n"
     ]
    },
    {
     "name": "stderr",
     "output_type": "stream",
     "text": [
      "pigz: skipping: ramdisk/geno_kmers is a directory\n",
      "in1: 100% in2: 100% \n",
      "pigz: skipping: ramdisk/geno_kmers is a directory\n",
      "pigz: skipping: ramdisk/kmer_union0.kmc_pre does not have compressed suffix\n",
      "pigz: skipping: ramdisk/kmer_union0.kmc_suf does not have compressed suffix\n",
      "in1: 100% in2: 100% \n",
      "pigz: skipping: ramdisk/geno_kmers is a directory\n",
      "pigz: skipping: ramdisk/kmer_union1.kmc_pre does not have compressed suffix\n",
      "pigz: skipping: ramdisk/kmer_union1.kmc_suf does not have compressed suffix\n",
      "in1: 100% in2: 100% \n",
      "pigz: skipping: ramdisk/geno_kmers is a directory\n",
      "pigz: skipping: ramdisk/kmer_union0.kmc_pre does not have compressed suffix\n",
      "pigz: skipping: ramdisk/kmer_union0.kmc_suf does not have compressed suffix\n",
      "in1: 100% in2: 100% \n",
      "pigz: skipping: ramdisk/geno_kmers is a directory\n",
      "pigz: skipping: ramdisk/kmer_union1.kmc_pre does not have compressed suffix\n",
      "pigz: skipping: ramdisk/kmer_union1.kmc_suf does not have compressed suffix\n",
      "in1: 100% in2: 100% \n",
      "pigz: skipping: ramdisk/geno_kmers is a directory\n",
      "pigz: skipping: ramdisk/kmer_union0.kmc_pre does not have compressed suffix\n",
      "pigz: skipping: ramdisk/kmer_union0.kmc_suf does not have compressed suffix\n",
      "in1: 100% in2: 100% \n"
     ]
    },
    {
     "name": "stdout",
     "output_type": "stream",
     "text": [
      "Genotypes remaining: 167\n"
     ]
    },
    {
     "name": "stderr",
     "output_type": "stream",
     "text": [
      "pigz: skipping: ramdisk/geno_kmers is a directory\n",
      "in1: 100% in2: 100% \n",
      "pigz: skipping: ramdisk/geno_kmers is a directory\n",
      "pigz: skipping: ramdisk/kmer_union0.kmc_pre does not have compressed suffix\n",
      "pigz: skipping: ramdisk/kmer_union0.kmc_suf does not have compressed suffix\n",
      "in1: 100% in2: 100% \n",
      "pigz: skipping: ramdisk/geno_kmers is a directory\n",
      "pigz: skipping: ramdisk/kmer_union1.kmc_pre does not have compressed suffix\n",
      "pigz: skipping: ramdisk/kmer_union1.kmc_suf does not have compressed suffix\n",
      "in1: 100% in2: 100% \n",
      "pigz: skipping: ramdisk/geno_kmers is a directory\n",
      "pigz: skipping: ramdisk/kmer_union0.kmc_pre does not have compressed suffix\n",
      "pigz: skipping: ramdisk/kmer_union0.kmc_suf does not have compressed suffix\n",
      "in1: 100% in2: 100% \n",
      "pigz: skipping: ramdisk/geno_kmers is a directory\n",
      "pigz: skipping: ramdisk/kmer_union1.kmc_pre does not have compressed suffix\n",
      "pigz: skipping: ramdisk/kmer_union1.kmc_suf does not have compressed suffix\n",
      "in1: 100% in2: 100% \n"
     ]
    },
    {
     "name": "stdout",
     "output_type": "stream",
     "text": [
      "Genotypes remaining: 166\n"
     ]
    },
    {
     "name": "stderr",
     "output_type": "stream",
     "text": [
      "pigz: skipping: ramdisk/geno_kmers is a directory\n",
      "in1: 100% in2: 100% \n",
      "pigz: skipping: ramdisk/geno_kmers is a directory\n",
      "pigz: skipping: ramdisk/kmer_union0.kmc_pre does not have compressed suffix\n",
      "pigz: skipping: ramdisk/kmer_union0.kmc_suf does not have compressed suffix\n",
      "in1: 100% in2: 100% \n",
      "pigz: skipping: ramdisk/geno_kmers is a directory\n",
      "pigz: skipping: ramdisk/kmer_union1.kmc_pre does not have compressed suffix\n",
      "pigz: skipping: ramdisk/kmer_union1.kmc_suf does not have compressed suffix\n",
      "in1: 100% in2: 100% \n",
      "pigz: skipping: ramdisk/geno_kmers is a directory\n",
      "pigz: skipping: ramdisk/kmer_union0.kmc_pre does not have compressed suffix\n",
      "pigz: skipping: ramdisk/kmer_union0.kmc_suf does not have compressed suffix\n",
      "in1: 100% in2: 100% \n",
      "pigz: skipping: ramdisk/geno_kmers is a directory\n",
      "pigz: skipping: ramdisk/kmer_union1.kmc_pre does not have compressed suffix\n",
      "pigz: skipping: ramdisk/kmer_union1.kmc_suf does not have compressed suffix\n",
      "in1: 100% in2: 100% \n"
     ]
    },
    {
     "name": "stdout",
     "output_type": "stream",
     "text": [
      "Genotypes remaining: 165\n"
     ]
    },
    {
     "name": "stderr",
     "output_type": "stream",
     "text": [
      "pigz: skipping: ramdisk/geno_kmers is a directory\n",
      "in1: 100% in2: 100% \n",
      "pigz: skipping: ramdisk/geno_kmers is a directory\n",
      "pigz: skipping: ramdisk/kmer_union0.kmc_pre does not have compressed suffix\n",
      "pigz: skipping: ramdisk/kmer_union0.kmc_suf does not have compressed suffix\n",
      "in1: 100% in2: 100% \n",
      "pigz: skipping: ramdisk/geno_kmers is a directory\n",
      "pigz: skipping: ramdisk/kmer_union1.kmc_pre does not have compressed suffix\n",
      "pigz: skipping: ramdisk/kmer_union1.kmc_suf does not have compressed suffix\n",
      "in1: 100% in2: 100% \n",
      "pigz: skipping: ramdisk/geno_kmers is a directory\n",
      "pigz: skipping: ramdisk/kmer_union0.kmc_pre does not have compressed suffix\n",
      "pigz: skipping: ramdisk/kmer_union0.kmc_suf does not have compressed suffix\n",
      "in1: 100% in2: 100% \n",
      "pigz: skipping: ramdisk/geno_kmers is a directory\n",
      "pigz: skipping: ramdisk/kmer_union1.kmc_pre does not have compressed suffix\n",
      "pigz: skipping: ramdisk/kmer_union1.kmc_suf does not have compressed suffix\n",
      "in1: 100% in2: 100% \n"
     ]
    },
    {
     "name": "stdout",
     "output_type": "stream",
     "text": [
      "Genotypes remaining: 164\n"
     ]
    },
    {
     "name": "stderr",
     "output_type": "stream",
     "text": [
      "pigz: skipping: ramdisk/geno_kmers is a directory\n",
      "in1: 100% in2: 100% \n",
      "pigz: skipping: ramdisk/geno_kmers is a directory\n",
      "pigz: skipping: ramdisk/kmer_union0.kmc_pre does not have compressed suffix\n",
      "pigz: skipping: ramdisk/kmer_union0.kmc_suf does not have compressed suffix\n",
      "in1: 100% in2: 100% \n",
      "pigz: skipping: ramdisk/geno_kmers is a directory\n",
      "pigz: skipping: ramdisk/kmer_union1.kmc_pre does not have compressed suffix\n",
      "pigz: skipping: ramdisk/kmer_union1.kmc_suf does not have compressed suffix\n",
      "in1: 100% in2: 100% \n",
      "pigz: skipping: ramdisk/geno_kmers is a directory\n",
      "pigz: skipping: ramdisk/kmer_union0.kmc_pre does not have compressed suffix\n",
      "pigz: skipping: ramdisk/kmer_union0.kmc_suf does not have compressed suffix\n",
      "in1: 100% in2: 100% \n",
      "pigz: skipping: ramdisk/geno_kmers is a directory\n",
      "pigz: skipping: ramdisk/kmer_union1.kmc_pre does not have compressed suffix\n",
      "pigz: skipping: ramdisk/kmer_union1.kmc_suf does not have compressed suffix\n",
      "in1: 100% in2: 100% \n",
      "pigz: skipping: ramdisk/geno_kmers is a directory\n",
      "pigz: skipping: ramdisk/kmer_union0.kmc_pre does not have compressed suffix\n",
      "pigz: skipping: ramdisk/kmer_union0.kmc_suf does not have compressed suffix\n",
      "in1: 100% in2: 100% \n",
      "pigz: skipping: ramdisk/geno_kmers is a directory\n",
      "pigz: skipping: ramdisk/kmer_union1.kmc_pre does not have compressed suffix\n",
      "pigz: skipping: ramdisk/kmer_union1.kmc_suf does not have compressed suffix\n",
      "in1: 100% in2: 100% \n"
     ]
    },
    {
     "name": "stdout",
     "output_type": "stream",
     "text": [
      "Genotypes remaining: 163\n"
     ]
    },
    {
     "name": "stderr",
     "output_type": "stream",
     "text": [
      "pigz: skipping: ramdisk/geno_kmers is a directory\n",
      "in1: 100% in2: 100% \n",
      "pigz: skipping: ramdisk/geno_kmers is a directory\n",
      "pigz: skipping: ramdisk/kmer_union0.kmc_pre does not have compressed suffix\n",
      "pigz: skipping: ramdisk/kmer_union0.kmc_suf does not have compressed suffix\n",
      "in1: 100% in2: 100% \n",
      "pigz: skipping: ramdisk/geno_kmers is a directory\n",
      "pigz: skipping: ramdisk/kmer_union1.kmc_pre does not have compressed suffix\n",
      "pigz: skipping: ramdisk/kmer_union1.kmc_suf does not have compressed suffix\n",
      "in1: 100% in2: 100% \n",
      "pigz: skipping: ramdisk/geno_kmers is a directory\n",
      "pigz: skipping: ramdisk/kmer_union0.kmc_pre does not have compressed suffix\n",
      "pigz: skipping: ramdisk/kmer_union0.kmc_suf does not have compressed suffix\n",
      "in1: 100% in2: 100% \n",
      "pigz: skipping: ramdisk/geno_kmers is a directory\n",
      "pigz: skipping: ramdisk/kmer_union1.kmc_pre does not have compressed suffix\n",
      "pigz: skipping: ramdisk/kmer_union1.kmc_suf does not have compressed suffix\n",
      "in1: 100% in2: 100% \n",
      "pigz: skipping: ramdisk/geno_kmers is a directory\n",
      "pigz: skipping: ramdisk/kmer_union0.kmc_pre does not have compressed suffix\n",
      "pigz: skipping: ramdisk/kmer_union0.kmc_suf does not have compressed suffix\n",
      "in1: 100% in2: 100% \n"
     ]
    },
    {
     "name": "stdout",
     "output_type": "stream",
     "text": [
      "Genotypes remaining: 162\n"
     ]
    },
    {
     "name": "stderr",
     "output_type": "stream",
     "text": [
      "pigz: skipping: ramdisk/geno_kmers is a directory\n",
      "in1: 100% in2: 100% \n",
      "pigz: skipping: ramdisk/geno_kmers is a directory\n",
      "pigz: skipping: ramdisk/kmer_union0.kmc_pre does not have compressed suffix\n",
      "pigz: skipping: ramdisk/kmer_union0.kmc_suf does not have compressed suffix\n",
      "in1: 100% in2: 100% \n",
      "pigz: skipping: ramdisk/geno_kmers is a directory\n",
      "pigz: skipping: ramdisk/kmer_union1.kmc_pre does not have compressed suffix\n",
      "pigz: skipping: ramdisk/kmer_union1.kmc_suf does not have compressed suffix\n",
      "in1: 100% in2: 100% \n",
      "pigz: skipping: ramdisk/geno_kmers is a directory\n",
      "pigz: skipping: ramdisk/kmer_union0.kmc_pre does not have compressed suffix\n",
      "pigz: skipping: ramdisk/kmer_union0.kmc_suf does not have compressed suffix\n",
      "in1: 100% in2: 100% \n"
     ]
    },
    {
     "name": "stdout",
     "output_type": "stream",
     "text": [
      "Genotypes remaining: 161\n"
     ]
    },
    {
     "name": "stderr",
     "output_type": "stream",
     "text": [
      "pigz: skipping: ramdisk/geno_kmers is a directory\n",
      "in1: 100% in2: 100% \n",
      "pigz: skipping: ramdisk/geno_kmers is a directory\n",
      "pigz: skipping: ramdisk/kmer_union0.kmc_pre does not have compressed suffix\n",
      "pigz: skipping: ramdisk/kmer_union0.kmc_suf does not have compressed suffix\n",
      "in1: 100% in2: 100% \n",
      "pigz: skipping: ramdisk/geno_kmers is a directory\n",
      "pigz: skipping: ramdisk/kmer_union1.kmc_pre does not have compressed suffix\n",
      "pigz: skipping: ramdisk/kmer_union1.kmc_suf does not have compressed suffix\n",
      "in1: 100% in2: 100% \n",
      "pigz: skipping: ramdisk/geno_kmers is a directory\n",
      "pigz: skipping: ramdisk/kmer_union0.kmc_pre does not have compressed suffix\n",
      "pigz: skipping: ramdisk/kmer_union0.kmc_suf does not have compressed suffix\n",
      "in1: 100% in2: 100% \n",
      "pigz: skipping: ramdisk/geno_kmers is a directory\n",
      "pigz: skipping: ramdisk/kmer_union1.kmc_pre does not have compressed suffix\n",
      "pigz: skipping: ramdisk/kmer_union1.kmc_suf does not have compressed suffix\n",
      "in1: 100% in2: 100% \n",
      "pigz: skipping: ramdisk/geno_kmers is a directory\n",
      "pigz: skipping: ramdisk/kmer_union0.kmc_pre does not have compressed suffix\n",
      "pigz: skipping: ramdisk/kmer_union0.kmc_suf does not have compressed suffix\n",
      "in1: 100% in2: 100% \n",
      "pigz: skipping: ramdisk/geno_kmers is a directory\n",
      "pigz: skipping: ramdisk/kmer_union1.kmc_pre does not have compressed suffix\n",
      "pigz: skipping: ramdisk/kmer_union1.kmc_suf does not have compressed suffix\n",
      "in1: 100% in2: 100% \n"
     ]
    },
    {
     "name": "stdout",
     "output_type": "stream",
     "text": [
      "Genotypes remaining: 160\n"
     ]
    },
    {
     "name": "stderr",
     "output_type": "stream",
     "text": [
      "pigz: skipping: ramdisk/geno_kmers is a directory\n",
      "in1: 100% in2: 100% \n",
      "pigz: skipping: ramdisk/geno_kmers is a directory\n",
      "pigz: skipping: ramdisk/kmer_union0.kmc_pre does not have compressed suffix\n",
      "pigz: skipping: ramdisk/kmer_union0.kmc_suf does not have compressed suffix\n",
      "in1: 100% in2: 100% \n",
      "pigz: skipping: ramdisk/geno_kmers is a directory\n",
      "pigz: skipping: ramdisk/kmer_union1.kmc_pre does not have compressed suffix\n",
      "pigz: skipping: ramdisk/kmer_union1.kmc_suf does not have compressed suffix\n",
      "in1: 100% in2: 100% \n",
      "pigz: skipping: ramdisk/geno_kmers is a directory\n",
      "pigz: skipping: ramdisk/kmer_union0.kmc_pre does not have compressed suffix\n",
      "pigz: skipping: ramdisk/kmer_union0.kmc_suf does not have compressed suffix\n",
      "in1: 100% in2: 100% \n",
      "pigz: skipping: ramdisk/geno_kmers is a directory\n",
      "pigz: skipping: ramdisk/kmer_union1.kmc_pre does not have compressed suffix\n",
      "pigz: skipping: ramdisk/kmer_union1.kmc_suf does not have compressed suffix\n",
      "in1: 100% in2: 100% \n"
     ]
    },
    {
     "name": "stdout",
     "output_type": "stream",
     "text": [
      "Genotypes remaining: 159\n"
     ]
    },
    {
     "name": "stderr",
     "output_type": "stream",
     "text": [
      "pigz: skipping: ramdisk/geno_kmers is a directory\n",
      "in1: 100% in2: 100% \n",
      "pigz: skipping: ramdisk/geno_kmers is a directory\n",
      "pigz: skipping: ramdisk/kmer_union0.kmc_pre does not have compressed suffix\n",
      "pigz: skipping: ramdisk/kmer_union0.kmc_suf does not have compressed suffix\n",
      "in1: 100% in2: 100% \n",
      "pigz: skipping: ramdisk/geno_kmers is a directory\n",
      "pigz: skipping: ramdisk/kmer_union1.kmc_pre does not have compressed suffix\n",
      "pigz: skipping: ramdisk/kmer_union1.kmc_suf does not have compressed suffix\n",
      "in1: 100% in2: 100% \n",
      "pigz: skipping: ramdisk/geno_kmers is a directory\n",
      "pigz: skipping: ramdisk/kmer_union0.kmc_pre does not have compressed suffix\n",
      "pigz: skipping: ramdisk/kmer_union0.kmc_suf does not have compressed suffix\n",
      "in1: 100% in2: 100% \n",
      "pigz: skipping: ramdisk/geno_kmers is a directory\n",
      "pigz: skipping: ramdisk/kmer_union1.kmc_pre does not have compressed suffix\n",
      "pigz: skipping: ramdisk/kmer_union1.kmc_suf does not have compressed suffix\n",
      "in1: 100% in2: 100% \n",
      "pigz: skipping: ramdisk/geno_kmers is a directory\n",
      "pigz: skipping: ramdisk/kmer_union0.kmc_pre does not have compressed suffix\n",
      "pigz: skipping: ramdisk/kmer_union0.kmc_suf does not have compressed suffix\n",
      "in1: 100% in2: 100% \n"
     ]
    },
    {
     "name": "stdout",
     "output_type": "stream",
     "text": [
      "Genotypes remaining: 158\n"
     ]
    },
    {
     "name": "stderr",
     "output_type": "stream",
     "text": [
      "pigz: skipping: ramdisk/geno_kmers is a directory\n",
      "in1: 100% in2: 100% \n",
      "pigz: skipping: ramdisk/geno_kmers is a directory\n",
      "pigz: skipping: ramdisk/kmer_union0.kmc_pre does not have compressed suffix\n",
      "pigz: skipping: ramdisk/kmer_union0.kmc_suf does not have compressed suffix\n",
      "in1: 100% in2: 100% \n",
      "pigz: skipping: ramdisk/geno_kmers is a directory\n",
      "pigz: skipping: ramdisk/kmer_union1.kmc_pre does not have compressed suffix\n",
      "pigz: skipping: ramdisk/kmer_union1.kmc_suf does not have compressed suffix\n",
      "in1: 100% in2: 100% \n",
      "pigz: skipping: ramdisk/geno_kmers is a directory\n",
      "pigz: skipping: ramdisk/kmer_union0.kmc_pre does not have compressed suffix\n",
      "pigz: skipping: ramdisk/kmer_union0.kmc_suf does not have compressed suffix\n",
      "in1: 100% in2: 100% \n",
      "pigz: skipping: ramdisk/geno_kmers is a directory\n",
      "pigz: skipping: ramdisk/kmer_union1.kmc_pre does not have compressed suffix\n",
      "pigz: skipping: ramdisk/kmer_union1.kmc_suf does not have compressed suffix\n",
      "in1: 100% in2: 100% \n"
     ]
    },
    {
     "name": "stdout",
     "output_type": "stream",
     "text": [
      "Genotypes remaining: 157\n"
     ]
    },
    {
     "name": "stderr",
     "output_type": "stream",
     "text": [
      "pigz: skipping: ramdisk/geno_kmers is a directory\n",
      "in1: 100% in2: 100% \n",
      "pigz: skipping: ramdisk/geno_kmers is a directory\n",
      "pigz: skipping: ramdisk/kmer_union0.kmc_pre does not have compressed suffix\n",
      "pigz: skipping: ramdisk/kmer_union0.kmc_suf does not have compressed suffix\n",
      "in1: 100% in2: 100% \n",
      "pigz: skipping: ramdisk/geno_kmers is a directory\n",
      "pigz: skipping: ramdisk/kmer_union1.kmc_pre does not have compressed suffix\n",
      "pigz: skipping: ramdisk/kmer_union1.kmc_suf does not have compressed suffix\n",
      "in1: 100% in2: 100% \n",
      "pigz: skipping: ramdisk/geno_kmers is a directory\n",
      "pigz: skipping: ramdisk/kmer_union0.kmc_pre does not have compressed suffix\n",
      "pigz: skipping: ramdisk/kmer_union0.kmc_suf does not have compressed suffix\n",
      "in1: 100% in2: 100% \n",
      "pigz: skipping: ramdisk/geno_kmers is a directory\n",
      "pigz: skipping: ramdisk/kmer_union1.kmc_pre does not have compressed suffix\n",
      "pigz: skipping: ramdisk/kmer_union1.kmc_suf does not have compressed suffix\n",
      "in1: 100% in2: 100% \n",
      "pigz: skipping: ramdisk/geno_kmers is a directory\n",
      "pigz: skipping: ramdisk/kmer_union0.kmc_pre does not have compressed suffix\n",
      "pigz: skipping: ramdisk/kmer_union0.kmc_suf does not have compressed suffix\n",
      "in1: 100% in2: 100% \n"
     ]
    },
    {
     "name": "stdout",
     "output_type": "stream",
     "text": [
      "Genotypes remaining: 156\n"
     ]
    },
    {
     "name": "stderr",
     "output_type": "stream",
     "text": [
      "pigz: skipping: ramdisk/geno_kmers is a directory\n",
      "in1: 100% in2: 100% \n",
      "pigz: skipping: ramdisk/geno_kmers is a directory\n",
      "pigz: skipping: ramdisk/kmer_union0.kmc_pre does not have compressed suffix\n",
      "pigz: skipping: ramdisk/kmer_union0.kmc_suf does not have compressed suffix\n",
      "in1: 100% in2: 100% \n",
      "pigz: skipping: ramdisk/geno_kmers is a directory\n",
      "pigz: skipping: ramdisk/kmer_union1.kmc_pre does not have compressed suffix\n",
      "pigz: skipping: ramdisk/kmer_union1.kmc_suf does not have compressed suffix\n",
      "in1: 100% in2: 100% \n",
      "pigz: skipping: ramdisk/geno_kmers is a directory\n",
      "pigz: skipping: ramdisk/kmer_union0.kmc_pre does not have compressed suffix\n",
      "pigz: skipping: ramdisk/kmer_union0.kmc_suf does not have compressed suffix\n",
      "in1: 100% in2: 100% \n",
      "pigz: skipping: ramdisk/geno_kmers is a directory\n",
      "pigz: skipping: ramdisk/kmer_union1.kmc_pre does not have compressed suffix\n",
      "pigz: skipping: ramdisk/kmer_union1.kmc_suf does not have compressed suffix\n",
      "in1: 100% in2: 100% \n",
      "pigz: skipping: ramdisk/geno_kmers is a directory\n",
      "pigz: skipping: ramdisk/kmer_union0.kmc_pre does not have compressed suffix\n",
      "pigz: skipping: ramdisk/kmer_union0.kmc_suf does not have compressed suffix\n",
      "in1: 100% in2: 100% \n"
     ]
    },
    {
     "name": "stdout",
     "output_type": "stream",
     "text": [
      "Genotypes remaining: 155\n"
     ]
    },
    {
     "name": "stderr",
     "output_type": "stream",
     "text": [
      "pigz: skipping: ramdisk/geno_kmers is a directory\n",
      "in1: 100% in2: 100% \n",
      "pigz: skipping: ramdisk/geno_kmers is a directory\n",
      "pigz: skipping: ramdisk/kmer_union0.kmc_pre does not have compressed suffix\n",
      "pigz: skipping: ramdisk/kmer_union0.kmc_suf does not have compressed suffix\n",
      "in1: 100% in2: 100% \n",
      "pigz: skipping: ramdisk/geno_kmers is a directory\n",
      "pigz: skipping: ramdisk/kmer_union1.kmc_pre does not have compressed suffix\n",
      "pigz: skipping: ramdisk/kmer_union1.kmc_suf does not have compressed suffix\n",
      "in1: 100% in2: 100% \n",
      "pigz: skipping: ramdisk/geno_kmers is a directory\n",
      "pigz: skipping: ramdisk/kmer_union0.kmc_pre does not have compressed suffix\n",
      "pigz: skipping: ramdisk/kmer_union0.kmc_suf does not have compressed suffix\n",
      "in1: 100% in2: 100% \n",
      "pigz: skipping: ramdisk/geno_kmers is a directory\n",
      "pigz: skipping: ramdisk/kmer_union1.kmc_pre does not have compressed suffix\n",
      "pigz: skipping: ramdisk/kmer_union1.kmc_suf does not have compressed suffix\n",
      "in1: 100% in2: 100% 37% in2: 56% \n"
     ]
    },
    {
     "name": "stdout",
     "output_type": "stream",
     "text": [
      "Genotypes remaining: 154\n"
     ]
    },
    {
     "name": "stderr",
     "output_type": "stream",
     "text": [
      "pigz: skipping: ramdisk/geno_kmers is a directory\n",
      "in1: 100% in2: 100% \n",
      "pigz: skipping: ramdisk/geno_kmers is a directory\n",
      "pigz: skipping: ramdisk/kmer_union0.kmc_pre does not have compressed suffix\n",
      "pigz: skipping: ramdisk/kmer_union0.kmc_suf does not have compressed suffix\n",
      "in1: 100% in2: 100% \n",
      "pigz: skipping: ramdisk/geno_kmers is a directory\n",
      "pigz: skipping: ramdisk/kmer_union1.kmc_pre does not have compressed suffix\n",
      "pigz: skipping: ramdisk/kmer_union1.kmc_suf does not have compressed suffix\n",
      "in1: 100% in2: 100% \n",
      "pigz: skipping: ramdisk/geno_kmers is a directory\n",
      "pigz: skipping: ramdisk/kmer_union0.kmc_pre does not have compressed suffix\n",
      "pigz: skipping: ramdisk/kmer_union0.kmc_suf does not have compressed suffix\n",
      "in1: 100% in2: 100% \n",
      "pigz: skipping: ramdisk/geno_kmers is a directory\n",
      "pigz: skipping: ramdisk/kmer_union1.kmc_pre does not have compressed suffix\n",
      "pigz: skipping: ramdisk/kmer_union1.kmc_suf does not have compressed suffix\n",
      "in1: 100% in2: 100% \n"
     ]
    },
    {
     "name": "stdout",
     "output_type": "stream",
     "text": [
      "Genotypes remaining: 153\n"
     ]
    },
    {
     "name": "stderr",
     "output_type": "stream",
     "text": [
      "pigz: skipping: ramdisk/geno_kmers is a directory\n",
      "in1: 100% in2: 100% \n",
      "pigz: skipping: ramdisk/geno_kmers is a directory\n",
      "pigz: skipping: ramdisk/kmer_union0.kmc_pre does not have compressed suffix\n",
      "pigz: skipping: ramdisk/kmer_union0.kmc_suf does not have compressed suffix\n",
      "in1: 100% in2: 100% \n",
      "pigz: skipping: ramdisk/geno_kmers is a directory\n",
      "pigz: skipping: ramdisk/kmer_union1.kmc_pre does not have compressed suffix\n",
      "pigz: skipping: ramdisk/kmer_union1.kmc_suf does not have compressed suffix\n",
      "in1: 100% in2: 100% \n",
      "pigz: skipping: ramdisk/geno_kmers is a directory\n",
      "pigz: skipping: ramdisk/kmer_union0.kmc_pre does not have compressed suffix\n",
      "pigz: skipping: ramdisk/kmer_union0.kmc_suf does not have compressed suffix\n",
      "in1: 100% in2: 100% \n",
      "pigz: skipping: ramdisk/geno_kmers is a directory\n",
      "pigz: skipping: ramdisk/kmer_union1.kmc_pre does not have compressed suffix\n",
      "pigz: skipping: ramdisk/kmer_union1.kmc_suf does not have compressed suffix\n",
      "in1: 100% in2: 100% \n"
     ]
    },
    {
     "name": "stdout",
     "output_type": "stream",
     "text": [
      "Genotypes remaining: 152\n"
     ]
    },
    {
     "name": "stderr",
     "output_type": "stream",
     "text": [
      "pigz: skipping: ramdisk/geno_kmers is a directory\n",
      "in1: 100% in2: 100% \n",
      "pigz: skipping: ramdisk/geno_kmers is a directory\n",
      "pigz: skipping: ramdisk/kmer_union0.kmc_pre does not have compressed suffix\n",
      "pigz: skipping: ramdisk/kmer_union0.kmc_suf does not have compressed suffix\n",
      "in1: 100% in2: 100% \n",
      "pigz: skipping: ramdisk/geno_kmers is a directory\n",
      "pigz: skipping: ramdisk/kmer_union1.kmc_pre does not have compressed suffix\n",
      "pigz: skipping: ramdisk/kmer_union1.kmc_suf does not have compressed suffix\n",
      "in1: 100% in2: 100% \n",
      "pigz: skipping: ramdisk/geno_kmers is a directory\n",
      "pigz: skipping: ramdisk/kmer_union0.kmc_pre does not have compressed suffix\n",
      "pigz: skipping: ramdisk/kmer_union0.kmc_suf does not have compressed suffix\n",
      "in1: 100% in2: 100% \n",
      "pigz: skipping: ramdisk/geno_kmers is a directory\n",
      "pigz: skipping: ramdisk/kmer_union1.kmc_pre does not have compressed suffix\n",
      "pigz: skipping: ramdisk/kmer_union1.kmc_suf does not have compressed suffix\n",
      "in1: 100% in2: 100% \n"
     ]
    },
    {
     "name": "stdout",
     "output_type": "stream",
     "text": [
      "Genotypes remaining: 151\n"
     ]
    },
    {
     "name": "stderr",
     "output_type": "stream",
     "text": [
      "pigz: skipping: ramdisk/geno_kmers is a directory\n",
      "in1: 100% in2: 100% \n",
      "pigz: skipping: ramdisk/geno_kmers is a directory\n",
      "pigz: skipping: ramdisk/kmer_union0.kmc_pre does not have compressed suffix\n",
      "pigz: skipping: ramdisk/kmer_union0.kmc_suf does not have compressed suffix\n",
      "in1: 100% in2: 100% \n"
     ]
    },
    {
     "name": "stdout",
     "output_type": "stream",
     "text": [
      "Genotypes remaining: 150\n"
     ]
    },
    {
     "name": "stderr",
     "output_type": "stream",
     "text": [
      "pigz: skipping: ramdisk/geno_kmers is a directory\n",
      "in1: 100% in2: 100% \n"
     ]
    },
    {
     "name": "stdout",
     "output_type": "stream",
     "text": [
      "Genotypes remaining: 149\n"
     ]
    },
    {
     "name": "stderr",
     "output_type": "stream",
     "text": [
      "pigz: skipping: ramdisk/geno_kmers is a directory\n",
      "in1: 100% in2: 100% \n",
      "pigz: skipping: ramdisk/geno_kmers is a directory\n",
      "pigz: skipping: ramdisk/kmer_union0.kmc_pre does not have compressed suffix\n",
      "pigz: skipping: ramdisk/kmer_union0.kmc_suf does not have compressed suffix\n",
      "in1: 100% in2: 100% \n",
      "pigz: skipping: ramdisk/geno_kmers is a directory\n",
      "pigz: skipping: ramdisk/kmer_union1.kmc_pre does not have compressed suffix\n",
      "pigz: skipping: ramdisk/kmer_union1.kmc_suf does not have compressed suffix\n",
      "in1: 100% in2: 100% \n",
      "pigz: skipping: ramdisk/geno_kmers is a directory\n",
      "pigz: skipping: ramdisk/kmer_union0.kmc_pre does not have compressed suffix\n",
      "pigz: skipping: ramdisk/kmer_union0.kmc_suf does not have compressed suffix\n",
      "in1: 100% in2: 100% \n",
      "pigz: skipping: ramdisk/geno_kmers is a directory\n",
      "pigz: skipping: ramdisk/kmer_union1.kmc_pre does not have compressed suffix\n",
      "pigz: skipping: ramdisk/kmer_union1.kmc_suf does not have compressed suffix\n",
      "in1: 100% in2: 100% \n"
     ]
    },
    {
     "name": "stdout",
     "output_type": "stream",
     "text": [
      "Genotypes remaining: 148\n"
     ]
    },
    {
     "name": "stderr",
     "output_type": "stream",
     "text": [
      "pigz: skipping: ramdisk/geno_kmers is a directory\n",
      "in1: 100% in2: 100% \n",
      "pigz: skipping: ramdisk/geno_kmers is a directory\n",
      "pigz: skipping: ramdisk/kmer_union0.kmc_pre does not have compressed suffix\n",
      "pigz: skipping: ramdisk/kmer_union0.kmc_suf does not have compressed suffix\n",
      "in1: 100% in2: 100% \n",
      "pigz: skipping: ramdisk/geno_kmers is a directory\n",
      "pigz: skipping: ramdisk/kmer_union1.kmc_pre does not have compressed suffix\n",
      "pigz: skipping: ramdisk/kmer_union1.kmc_suf does not have compressed suffix\n",
      "in1: 100% in2: 100% \n",
      "pigz: skipping: ramdisk/geno_kmers is a directory\n",
      "pigz: skipping: ramdisk/kmer_union0.kmc_pre does not have compressed suffix\n",
      "pigz: skipping: ramdisk/kmer_union0.kmc_suf does not have compressed suffix\n",
      "in1: 100% in2: 100% \n",
      "pigz: skipping: ramdisk/geno_kmers is a directory\n",
      "pigz: skipping: ramdisk/kmer_union1.kmc_pre does not have compressed suffix\n",
      "pigz: skipping: ramdisk/kmer_union1.kmc_suf does not have compressed suffix\n",
      "in1: 100% in2: 100% \n",
      "pigz: skipping: ramdisk/geno_kmers is a directory\n",
      "pigz: skipping: ramdisk/kmer_union0.kmc_pre does not have compressed suffix\n",
      "pigz: skipping: ramdisk/kmer_union0.kmc_suf does not have compressed suffix\n",
      "in1: 100% in2: 100% \n"
     ]
    },
    {
     "name": "stdout",
     "output_type": "stream",
     "text": [
      "Genotypes remaining: 147\n"
     ]
    },
    {
     "name": "stderr",
     "output_type": "stream",
     "text": [
      "pigz: skipping: ramdisk/geno_kmers is a directory\n",
      "in1: 100% in2: 100% \n",
      "pigz: skipping: ramdisk/geno_kmers is a directory\n",
      "pigz: skipping: ramdisk/kmer_union0.kmc_pre does not have compressed suffix\n",
      "pigz: skipping: ramdisk/kmer_union0.kmc_suf does not have compressed suffix\n",
      "in1: 100% in2: 100% \n",
      "pigz: skipping: ramdisk/geno_kmers is a directory\n",
      "pigz: skipping: ramdisk/kmer_union1.kmc_pre does not have compressed suffix\n",
      "pigz: skipping: ramdisk/kmer_union1.kmc_suf does not have compressed suffix\n",
      "in1: 100% in2: 100% \n",
      "pigz: skipping: ramdisk/geno_kmers is a directory\n",
      "pigz: skipping: ramdisk/kmer_union0.kmc_pre does not have compressed suffix\n",
      "pigz: skipping: ramdisk/kmer_union0.kmc_suf does not have compressed suffix\n",
      "in1: 100% in2: 100% \n",
      "pigz: skipping: ramdisk/geno_kmers is a directory\n",
      "pigz: skipping: ramdisk/kmer_union1.kmc_pre does not have compressed suffix\n",
      "pigz: skipping: ramdisk/kmer_union1.kmc_suf does not have compressed suffix\n",
      "in1: 100% in2: 100% \n",
      "pigz: skipping: ramdisk/geno_kmers is a directory\n",
      "pigz: skipping: ramdisk/kmer_union0.kmc_pre does not have compressed suffix\n",
      "pigz: skipping: ramdisk/kmer_union0.kmc_suf does not have compressed suffix\n",
      "in1: 100% in2: 100% \n"
     ]
    },
    {
     "name": "stdout",
     "output_type": "stream",
     "text": [
      "Genotypes remaining: 146\n"
     ]
    },
    {
     "name": "stderr",
     "output_type": "stream",
     "text": [
      "pigz: skipping: ramdisk/geno_kmers is a directory\n",
      "in1: 100% in2: 100% \n",
      "pigz: skipping: ramdisk/geno_kmers is a directory\n",
      "pigz: skipping: ramdisk/kmer_union0.kmc_pre does not have compressed suffix\n",
      "pigz: skipping: ramdisk/kmer_union0.kmc_suf does not have compressed suffix\n",
      "in1: 100% in2: 100% \n",
      "pigz: skipping: ramdisk/geno_kmers is a directory\n",
      "pigz: skipping: ramdisk/kmer_union1.kmc_pre does not have compressed suffix\n",
      "pigz: skipping: ramdisk/kmer_union1.kmc_suf does not have compressed suffix\n",
      "in1: 100% in2: 100% \n",
      "pigz: skipping: ramdisk/geno_kmers is a directory\n",
      "pigz: skipping: ramdisk/kmer_union0.kmc_pre does not have compressed suffix\n",
      "pigz: skipping: ramdisk/kmer_union0.kmc_suf does not have compressed suffix\n",
      "in1: 100% in2: 100% \n",
      "pigz: skipping: ramdisk/geno_kmers is a directory\n",
      "pigz: skipping: ramdisk/kmer_union1.kmc_pre does not have compressed suffix\n",
      "pigz: skipping: ramdisk/kmer_union1.kmc_suf does not have compressed suffix\n",
      "in1: 100% in2: 100% \n"
     ]
    },
    {
     "name": "stdout",
     "output_type": "stream",
     "text": [
      "Genotypes remaining: 145\n"
     ]
    },
    {
     "name": "stderr",
     "output_type": "stream",
     "text": [
      "pigz: skipping: ramdisk/geno_kmers is a directory\n",
      "in1: 100% in2: 100% \n",
      "pigz: skipping: ramdisk/geno_kmers is a directory\n",
      "pigz: skipping: ramdisk/kmer_union0.kmc_pre does not have compressed suffix\n",
      "pigz: skipping: ramdisk/kmer_union0.kmc_suf does not have compressed suffix\n",
      "in1: 100% in2: 100% \n"
     ]
    },
    {
     "name": "stdout",
     "output_type": "stream",
     "text": [
      "Genotypes remaining: 144\n"
     ]
    },
    {
     "name": "stderr",
     "output_type": "stream",
     "text": [
      "pigz: skipping: ramdisk/geno_kmers is a directory\n",
      "in1: 100% in2: 100% \n",
      "pigz: skipping: ramdisk/geno_kmers is a directory\n",
      "pigz: skipping: ramdisk/kmer_union0.kmc_pre does not have compressed suffix\n",
      "pigz: skipping: ramdisk/kmer_union0.kmc_suf does not have compressed suffix\n",
      "in1: 100% in2: 100% \n",
      "pigz: skipping: ramdisk/geno_kmers is a directory\n",
      "pigz: skipping: ramdisk/kmer_union1.kmc_pre does not have compressed suffix\n",
      "pigz: skipping: ramdisk/kmer_union1.kmc_suf does not have compressed suffix\n",
      "in1: 100% in2: 100% \n",
      "pigz: skipping: ramdisk/geno_kmers is a directory\n",
      "pigz: skipping: ramdisk/kmer_union0.kmc_pre does not have compressed suffix\n",
      "pigz: skipping: ramdisk/kmer_union0.kmc_suf does not have compressed suffix\n",
      "in1: 100% in2: 100% \n",
      "pigz: skipping: ramdisk/geno_kmers is a directory\n",
      "pigz: skipping: ramdisk/kmer_union1.kmc_pre does not have compressed suffix\n",
      "pigz: skipping: ramdisk/kmer_union1.kmc_suf does not have compressed suffix\n",
      "in1: 100% in2: 100% \n",
      "pigz: skipping: ramdisk/geno_kmers is a directory\n",
      "pigz: skipping: ramdisk/kmer_union0.kmc_pre does not have compressed suffix\n",
      "pigz: skipping: ramdisk/kmer_union0.kmc_suf does not have compressed suffix\n",
      "in1: 100% in2: 100% \n"
     ]
    },
    {
     "name": "stdout",
     "output_type": "stream",
     "text": [
      "Genotypes remaining: 143\n"
     ]
    },
    {
     "name": "stderr",
     "output_type": "stream",
     "text": [
      "pigz: skipping: ramdisk/geno_kmers is a directory\n",
      "in1: 100% in2: 100% \n",
      "pigz: skipping: ramdisk/geno_kmers is a directory\n",
      "pigz: skipping: ramdisk/kmer_union0.kmc_pre does not have compressed suffix\n",
      "pigz: skipping: ramdisk/kmer_union0.kmc_suf does not have compressed suffix\n",
      "in1: 100% in2: 100% \n",
      "pigz: skipping: ramdisk/geno_kmers is a directory\n",
      "pigz: skipping: ramdisk/kmer_union1.kmc_pre does not have compressed suffix\n",
      "pigz: skipping: ramdisk/kmer_union1.kmc_suf does not have compressed suffix\n",
      "in1: 100% in2: 100% \n",
      "pigz: skipping: ramdisk/geno_kmers is a directory\n",
      "pigz: skipping: ramdisk/kmer_union0.kmc_pre does not have compressed suffix\n",
      "pigz: skipping: ramdisk/kmer_union0.kmc_suf does not have compressed suffix\n",
      "in1: 100% in2: 100% \n",
      "pigz: skipping: ramdisk/geno_kmers is a directory\n",
      "pigz: skipping: ramdisk/kmer_union1.kmc_pre does not have compressed suffix\n",
      "pigz: skipping: ramdisk/kmer_union1.kmc_suf does not have compressed suffix\n",
      "in1: 100% in2: 100% \n"
     ]
    },
    {
     "name": "stdout",
     "output_type": "stream",
     "text": [
      "Genotypes remaining: 142\n"
     ]
    },
    {
     "name": "stderr",
     "output_type": "stream",
     "text": [
      "pigz: skipping: ramdisk/geno_kmers is a directory\n",
      "in1: 100% in2: 100% \n",
      "pigz: skipping: ramdisk/geno_kmers is a directory\n",
      "pigz: skipping: ramdisk/kmer_union0.kmc_pre does not have compressed suffix\n",
      "pigz: skipping: ramdisk/kmer_union0.kmc_suf does not have compressed suffix\n",
      "in1: 100% in2: 100% 62% in2: 77% \n",
      "pigz: skipping: ramdisk/geno_kmers is a directory\n",
      "pigz: skipping: ramdisk/kmer_union1.kmc_pre does not have compressed suffix\n",
      "pigz: skipping: ramdisk/kmer_union1.kmc_suf does not have compressed suffix\n",
      "in1: 100% in2: 100% \n",
      "pigz: skipping: ramdisk/geno_kmers is a directory\n",
      "pigz: skipping: ramdisk/kmer_union0.kmc_pre does not have compressed suffix\n",
      "pigz: skipping: ramdisk/kmer_union0.kmc_suf does not have compressed suffix\n",
      "in1: 100% in2: 100% \n",
      "pigz: skipping: ramdisk/geno_kmers is a directory\n",
      "pigz: skipping: ramdisk/kmer_union1.kmc_pre does not have compressed suffix\n",
      "pigz: skipping: ramdisk/kmer_union1.kmc_suf does not have compressed suffix\n",
      "in1: 100% in2: 100% \n",
      "pigz: skipping: ramdisk/geno_kmers is a directory\n",
      "pigz: skipping: ramdisk/kmer_union0.kmc_pre does not have compressed suffix\n",
      "pigz: skipping: ramdisk/kmer_union0.kmc_suf does not have compressed suffix\n",
      "in1: 100% in2: 100% \n"
     ]
    },
    {
     "name": "stdout",
     "output_type": "stream",
     "text": [
      "Genotypes remaining: 141\n"
     ]
    },
    {
     "name": "stderr",
     "output_type": "stream",
     "text": [
      "pigz: skipping: ramdisk/geno_kmers is a directory\n",
      "in1: 100% in2: 100% \n",
      "pigz: skipping: ramdisk/geno_kmers is a directory\n",
      "pigz: skipping: ramdisk/kmer_union0.kmc_pre does not have compressed suffix\n",
      "pigz: skipping: ramdisk/kmer_union0.kmc_suf does not have compressed suffix\n",
      "in1: 100% in2: 100% \n",
      "pigz: skipping: ramdisk/geno_kmers is a directory\n",
      "pigz: skipping: ramdisk/kmer_union1.kmc_pre does not have compressed suffix\n",
      "pigz: skipping: ramdisk/kmer_union1.kmc_suf does not have compressed suffix\n",
      "in1: 100% in2: 100% \n",
      "pigz: skipping: ramdisk/geno_kmers is a directory\n",
      "pigz: skipping: ramdisk/kmer_union0.kmc_pre does not have compressed suffix\n",
      "pigz: skipping: ramdisk/kmer_union0.kmc_suf does not have compressed suffix\n",
      "in1: 100% in2: 100% \n",
      "pigz: skipping: ramdisk/geno_kmers is a directory\n",
      "pigz: skipping: ramdisk/kmer_union1.kmc_pre does not have compressed suffix\n",
      "pigz: skipping: ramdisk/kmer_union1.kmc_suf does not have compressed suffix\n",
      "in1: 100% in2: 100% \n"
     ]
    },
    {
     "name": "stdout",
     "output_type": "stream",
     "text": [
      "Genotypes remaining: 140\n"
     ]
    },
    {
     "name": "stderr",
     "output_type": "stream",
     "text": [
      "pigz: skipping: ramdisk/geno_kmers is a directory\n",
      "in1: 100% in2: 100% \n",
      "pigz: skipping: ramdisk/geno_kmers is a directory\n",
      "pigz: skipping: ramdisk/kmer_union0.kmc_pre does not have compressed suffix\n",
      "pigz: skipping: ramdisk/kmer_union0.kmc_suf does not have compressed suffix\n",
      "in1: 100% in2: 100% \n",
      "pigz: skipping: ramdisk/geno_kmers is a directory\n",
      "pigz: skipping: ramdisk/kmer_union1.kmc_pre does not have compressed suffix\n",
      "pigz: skipping: ramdisk/kmer_union1.kmc_suf does not have compressed suffix\n",
      "in1: 100% in2: 100% \n",
      "pigz: skipping: ramdisk/geno_kmers is a directory\n",
      "pigz: skipping: ramdisk/kmer_union0.kmc_pre does not have compressed suffix\n",
      "pigz: skipping: ramdisk/kmer_union0.kmc_suf does not have compressed suffix\n",
      "in1: 100% in2: 100% \n",
      "pigz: skipping: ramdisk/geno_kmers is a directory\n",
      "pigz: skipping: ramdisk/kmer_union1.kmc_pre does not have compressed suffix\n",
      "pigz: skipping: ramdisk/kmer_union1.kmc_suf does not have compressed suffix\n",
      "in1: 100% in2: 100% \n",
      "pigz: skipping: ramdisk/geno_kmers is a directory\n",
      "pigz: skipping: ramdisk/kmer_union0.kmc_pre does not have compressed suffix\n",
      "pigz: skipping: ramdisk/kmer_union0.kmc_suf does not have compressed suffix\n",
      "in1: 100% in2: 100% \n"
     ]
    },
    {
     "name": "stdout",
     "output_type": "stream",
     "text": [
      "Genotypes remaining: 139\n"
     ]
    },
    {
     "name": "stderr",
     "output_type": "stream",
     "text": [
      "pigz: skipping: ramdisk/geno_kmers is a directory\n",
      "in1: 100% in2: 100% \n",
      "pigz: skipping: ramdisk/geno_kmers is a directory\n",
      "pigz: skipping: ramdisk/kmer_union0.kmc_pre does not have compressed suffix\n",
      "pigz: skipping: ramdisk/kmer_union0.kmc_suf does not have compressed suffix\n",
      "in1: 100% in2: 100% \n",
      "pigz: skipping: ramdisk/geno_kmers is a directory\n",
      "pigz: skipping: ramdisk/kmer_union1.kmc_pre does not have compressed suffix\n",
      "pigz: skipping: ramdisk/kmer_union1.kmc_suf does not have compressed suffix\n",
      "in1: 100% in2: 100% \n",
      "pigz: skipping: ramdisk/geno_kmers is a directory\n",
      "pigz: skipping: ramdisk/kmer_union0.kmc_pre does not have compressed suffix\n",
      "pigz: skipping: ramdisk/kmer_union0.kmc_suf does not have compressed suffix\n",
      "in1: 100% in2: 100% \n",
      "pigz: skipping: ramdisk/geno_kmers is a directory\n",
      "pigz: skipping: ramdisk/kmer_union1.kmc_pre does not have compressed suffix\n",
      "pigz: skipping: ramdisk/kmer_union1.kmc_suf does not have compressed suffix\n",
      "in1: 100% in2: 100% \n",
      "pigz: skipping: ramdisk/geno_kmers is a directory\n",
      "pigz: skipping: ramdisk/kmer_union0.kmc_pre does not have compressed suffix\n",
      "pigz: skipping: ramdisk/kmer_union0.kmc_suf does not have compressed suffix\n",
      "in1: 100% in2: 100% \n"
     ]
    },
    {
     "name": "stdout",
     "output_type": "stream",
     "text": [
      "Genotypes remaining: 138\n"
     ]
    },
    {
     "name": "stderr",
     "output_type": "stream",
     "text": [
      "pigz: skipping: ramdisk/geno_kmers is a directory\n",
      "in1: 100% in2: 100% \n",
      "pigz: skipping: ramdisk/geno_kmers is a directory\n",
      "pigz: skipping: ramdisk/kmer_union0.kmc_pre does not have compressed suffix\n",
      "pigz: skipping: ramdisk/kmer_union0.kmc_suf does not have compressed suffix\n",
      "in1: 100% in2: 100% \n",
      "pigz: skipping: ramdisk/geno_kmers is a directory\n",
      "pigz: skipping: ramdisk/kmer_union1.kmc_pre does not have compressed suffix\n",
      "pigz: skipping: ramdisk/kmer_union1.kmc_suf does not have compressed suffix\n",
      "in1: 100% in2: 100% \n",
      "pigz: skipping: ramdisk/geno_kmers is a directory\n",
      "pigz: skipping: ramdisk/kmer_union0.kmc_pre does not have compressed suffix\n",
      "pigz: skipping: ramdisk/kmer_union0.kmc_suf does not have compressed suffix\n",
      "in1: 100% in2: 100% 33% in2: 39% \n",
      "pigz: skipping: ramdisk/geno_kmers is a directory\n",
      "pigz: skipping: ramdisk/kmer_union1.kmc_pre does not have compressed suffix\n",
      "pigz: skipping: ramdisk/kmer_union1.kmc_suf does not have compressed suffix\n",
      "in1: 100% in2: 100% \n"
     ]
    },
    {
     "name": "stdout",
     "output_type": "stream",
     "text": [
      "Genotypes remaining: 137\n"
     ]
    },
    {
     "name": "stderr",
     "output_type": "stream",
     "text": [
      "pigz: skipping: ramdisk/geno_kmers is a directory\n",
      "in1: 100% in2: 100% \n",
      "pigz: skipping: ramdisk/geno_kmers is a directory\n",
      "pigz: skipping: ramdisk/kmer_union0.kmc_pre does not have compressed suffix\n",
      "pigz: skipping: ramdisk/kmer_union0.kmc_suf does not have compressed suffix\n",
      "in1: 100% in2: 100% \n",
      "pigz: skipping: ramdisk/geno_kmers is a directory\n",
      "pigz: skipping: ramdisk/kmer_union1.kmc_pre does not have compressed suffix\n",
      "pigz: skipping: ramdisk/kmer_union1.kmc_suf does not have compressed suffix\n",
      "in1: 100% in2: 100% \n"
     ]
    },
    {
     "name": "stdout",
     "output_type": "stream",
     "text": [
      "Genotypes remaining: 136\n"
     ]
    },
    {
     "name": "stderr",
     "output_type": "stream",
     "text": [
      "pigz: skipping: ramdisk/geno_kmers is a directory\n",
      "in1: 100% in2: 100% \n",
      "pigz: skipping: ramdisk/geno_kmers is a directory\n",
      "pigz: skipping: ramdisk/kmer_union0.kmc_pre does not have compressed suffix\n",
      "pigz: skipping: ramdisk/kmer_union0.kmc_suf does not have compressed suffix\n",
      "in1: 100% in2: 100% \n",
      "pigz: skipping: ramdisk/geno_kmers is a directory\n",
      "pigz: skipping: ramdisk/kmer_union1.kmc_pre does not have compressed suffix\n",
      "pigz: skipping: ramdisk/kmer_union1.kmc_suf does not have compressed suffix\n",
      "in1: 100% in2: 100% \n",
      "pigz: skipping: ramdisk/geno_kmers is a directory\n",
      "pigz: skipping: ramdisk/kmer_union0.kmc_pre does not have compressed suffix\n",
      "pigz: skipping: ramdisk/kmer_union0.kmc_suf does not have compressed suffix\n",
      "in1: 100% in2: 100% \n",
      "pigz: skipping: ramdisk/geno_kmers is a directory\n",
      "pigz: skipping: ramdisk/kmer_union1.kmc_pre does not have compressed suffix\n",
      "pigz: skipping: ramdisk/kmer_union1.kmc_suf does not have compressed suffix\n",
      "in1: 100% in2: 100% in2: 88% \n",
      "pigz: skipping: ramdisk/geno_kmers is a directory\n",
      "pigz: skipping: ramdisk/kmer_union0.kmc_pre does not have compressed suffix\n",
      "pigz: skipping: ramdisk/kmer_union0.kmc_suf does not have compressed suffix\n",
      "in1: 100% in2: 100% 25% in2: 45% \n"
     ]
    },
    {
     "name": "stdout",
     "output_type": "stream",
     "text": [
      "Genotypes remaining: 135\n"
     ]
    },
    {
     "name": "stderr",
     "output_type": "stream",
     "text": [
      "pigz: skipping: ramdisk/geno_kmers is a directory\n",
      "in1: 100% in2: 100% \n",
      "pigz: skipping: ramdisk/geno_kmers is a directory\n",
      "pigz: skipping: ramdisk/kmer_union0.kmc_pre does not have compressed suffix\n",
      "pigz: skipping: ramdisk/kmer_union0.kmc_suf does not have compressed suffix\n",
      "in1: 100% in2: 100% \n",
      "pigz: skipping: ramdisk/geno_kmers is a directory\n",
      "pigz: skipping: ramdisk/kmer_union1.kmc_pre does not have compressed suffix\n",
      "pigz: skipping: ramdisk/kmer_union1.kmc_suf does not have compressed suffix\n",
      "in1: 100% in2: 100% \n",
      "pigz: skipping: ramdisk/geno_kmers is a directory\n",
      "pigz: skipping: ramdisk/kmer_union0.kmc_pre does not have compressed suffix\n",
      "pigz: skipping: ramdisk/kmer_union0.kmc_suf does not have compressed suffix\n",
      "in1: 100% in2: 100% \n",
      "pigz: skipping: ramdisk/geno_kmers is a directory\n",
      "pigz: skipping: ramdisk/kmer_union1.kmc_pre does not have compressed suffix\n",
      "pigz: skipping: ramdisk/kmer_union1.kmc_suf does not have compressed suffix\n",
      "in1: 100% in2: 100% \n",
      "pigz: skipping: ramdisk/geno_kmers is a directory\n",
      "pigz: skipping: ramdisk/kmer_union0.kmc_pre does not have compressed suffix\n",
      "pigz: skipping: ramdisk/kmer_union0.kmc_suf does not have compressed suffix\n",
      "in1: 100% in2: 100% \n"
     ]
    },
    {
     "name": "stdout",
     "output_type": "stream",
     "text": [
      "Genotypes remaining: 134\n"
     ]
    },
    {
     "name": "stderr",
     "output_type": "stream",
     "text": [
      "pigz: skipping: ramdisk/geno_kmers is a directory\n",
      "in1: 100% in2: 100% \n",
      "pigz: skipping: ramdisk/geno_kmers is a directory\n",
      "pigz: skipping: ramdisk/kmer_union0.kmc_pre does not have compressed suffix\n",
      "pigz: skipping: ramdisk/kmer_union0.kmc_suf does not have compressed suffix\n",
      "in1: 100% in2: 100% \n",
      "pigz: skipping: ramdisk/geno_kmers is a directory\n",
      "pigz: skipping: ramdisk/kmer_union1.kmc_pre does not have compressed suffix\n",
      "pigz: skipping: ramdisk/kmer_union1.kmc_suf does not have compressed suffix\n",
      "in1: 100% in2: 100% \n",
      "pigz: skipping: ramdisk/geno_kmers is a directory\n",
      "pigz: skipping: ramdisk/kmer_union0.kmc_pre does not have compressed suffix\n",
      "pigz: skipping: ramdisk/kmer_union0.kmc_suf does not have compressed suffix\n",
      "in1: 100% in2: 100% \n",
      "pigz: skipping: ramdisk/geno_kmers is a directory\n",
      "pigz: skipping: ramdisk/kmer_union1.kmc_pre does not have compressed suffix\n",
      "pigz: skipping: ramdisk/kmer_union1.kmc_suf does not have compressed suffix\n",
      "in1: 100% in2: 100% \n",
      "pigz: skipping: ramdisk/geno_kmers is a directory\n",
      "pigz: skipping: ramdisk/kmer_union0.kmc_pre does not have compressed suffix\n",
      "pigz: skipping: ramdisk/kmer_union0.kmc_suf does not have compressed suffix\n",
      "in1: 100% in2: 100% \n"
     ]
    },
    {
     "name": "stdout",
     "output_type": "stream",
     "text": [
      "Genotypes remaining: 133\n"
     ]
    },
    {
     "name": "stderr",
     "output_type": "stream",
     "text": [
      "pigz: skipping: ramdisk/geno_kmers is a directory\n",
      "in1: 100% in2: 100% \n",
      "pigz: skipping: ramdisk/geno_kmers is a directory\n",
      "pigz: skipping: ramdisk/kmer_union0.kmc_pre does not have compressed suffix\n",
      "pigz: skipping: ramdisk/kmer_union0.kmc_suf does not have compressed suffix\n",
      "in1: 100% in2: 100% \n",
      "pigz: skipping: ramdisk/geno_kmers is a directory\n",
      "pigz: skipping: ramdisk/kmer_union1.kmc_pre does not have compressed suffix\n",
      "pigz: skipping: ramdisk/kmer_union1.kmc_suf does not have compressed suffix\n",
      "in1: 100% in2: 100% \n",
      "pigz: skipping: ramdisk/geno_kmers is a directory\n",
      "pigz: skipping: ramdisk/kmer_union0.kmc_pre does not have compressed suffix\n",
      "pigz: skipping: ramdisk/kmer_union0.kmc_suf does not have compressed suffix\n",
      "in1: 100% in2: 100% \n",
      "pigz: skipping: ramdisk/geno_kmers is a directory\n",
      "pigz: skipping: ramdisk/kmer_union1.kmc_pre does not have compressed suffix\n",
      "pigz: skipping: ramdisk/kmer_union1.kmc_suf does not have compressed suffix\n",
      "in1: 100% in2: 100% \n",
      "pigz: skipping: ramdisk/geno_kmers is a directory\n",
      "pigz: skipping: ramdisk/kmer_union0.kmc_pre does not have compressed suffix\n",
      "pigz: skipping: ramdisk/kmer_union0.kmc_suf does not have compressed suffix\n",
      "in1: 100% in2: 100% \n"
     ]
    },
    {
     "name": "stdout",
     "output_type": "stream",
     "text": [
      "Genotypes remaining: 132\n"
     ]
    },
    {
     "name": "stderr",
     "output_type": "stream",
     "text": [
      "pigz: skipping: ramdisk/geno_kmers is a directory\n",
      "in1: 100% in2: 100% \n",
      "pigz: skipping: ramdisk/geno_kmers is a directory\n",
      "pigz: skipping: ramdisk/kmer_union0.kmc_pre does not have compressed suffix\n",
      "pigz: skipping: ramdisk/kmer_union0.kmc_suf does not have compressed suffix\n",
      "in1: 100% in2: 100% \n",
      "pigz: skipping: ramdisk/geno_kmers is a directory\n",
      "pigz: skipping: ramdisk/kmer_union1.kmc_pre does not have compressed suffix\n",
      "pigz: skipping: ramdisk/kmer_union1.kmc_suf does not have compressed suffix\n",
      "in1: 100% in2: 100% \n",
      "pigz: skipping: ramdisk/geno_kmers is a directory\n",
      "pigz: skipping: ramdisk/kmer_union0.kmc_pre does not have compressed suffix\n",
      "pigz: skipping: ramdisk/kmer_union0.kmc_suf does not have compressed suffix\n",
      "in1: 100% in2: 100% \n",
      "pigz: skipping: ramdisk/geno_kmers is a directory\n",
      "pigz: skipping: ramdisk/kmer_union1.kmc_pre does not have compressed suffix\n",
      "pigz: skipping: ramdisk/kmer_union1.kmc_suf does not have compressed suffix\n",
      "in1: 100% in2: 100% \n",
      "pigz: skipping: ramdisk/geno_kmers is a directory\n",
      "pigz: skipping: ramdisk/kmer_union0.kmc_pre does not have compressed suffix\n",
      "pigz: skipping: ramdisk/kmer_union0.kmc_suf does not have compressed suffix\n",
      "in1: 100% in2: 100% \n"
     ]
    },
    {
     "name": "stdout",
     "output_type": "stream",
     "text": [
      "Genotypes remaining: 131\n"
     ]
    },
    {
     "name": "stderr",
     "output_type": "stream",
     "text": [
      "pigz: skipping: ramdisk/geno_kmers is a directory\n",
      "in1: 100% in2: 100% \n",
      "pigz: skipping: ramdisk/geno_kmers is a directory\n",
      "pigz: skipping: ramdisk/kmer_union0.kmc_pre does not have compressed suffix\n",
      "pigz: skipping: ramdisk/kmer_union0.kmc_suf does not have compressed suffix\n",
      "in1: 100% in2: 100% \n",
      "pigz: skipping: ramdisk/geno_kmers is a directory\n",
      "pigz: skipping: ramdisk/kmer_union1.kmc_pre does not have compressed suffix\n",
      "pigz: skipping: ramdisk/kmer_union1.kmc_suf does not have compressed suffix\n",
      "in1: 100% in2: 100% \n",
      "pigz: skipping: ramdisk/geno_kmers is a directory\n",
      "pigz: skipping: ramdisk/kmer_union0.kmc_pre does not have compressed suffix\n",
      "pigz: skipping: ramdisk/kmer_union0.kmc_suf does not have compressed suffix\n",
      "in1: 100% in2: 100% \n"
     ]
    },
    {
     "name": "stdout",
     "output_type": "stream",
     "text": [
      "Genotypes remaining: 130\n"
     ]
    },
    {
     "name": "stderr",
     "output_type": "stream",
     "text": [
      "pigz: skipping: ramdisk/geno_kmers is a directory\n",
      "in1: 100% in2: 100% \n"
     ]
    },
    {
     "name": "stdout",
     "output_type": "stream",
     "text": [
      "Genotypes remaining: 129\n"
     ]
    },
    {
     "name": "stderr",
     "output_type": "stream",
     "text": [
      "pigz: skipping: ramdisk/geno_kmers is a directory\n",
      "in1: 100% in2: 100% \n",
      "pigz: skipping: ramdisk/geno_kmers is a directory\n",
      "pigz: skipping: ramdisk/kmer_union0.kmc_pre does not have compressed suffix\n",
      "pigz: skipping: ramdisk/kmer_union0.kmc_suf does not have compressed suffix\n",
      "in1: 100% in2: 100% \n",
      "pigz: skipping: ramdisk/geno_kmers is a directory\n",
      "pigz: skipping: ramdisk/kmer_union1.kmc_pre does not have compressed suffix\n",
      "pigz: skipping: ramdisk/kmer_union1.kmc_suf does not have compressed suffix\n",
      "in1: 100% in2: 100% \n"
     ]
    },
    {
     "name": "stdout",
     "output_type": "stream",
     "text": [
      "Genotypes remaining: 128\n"
     ]
    },
    {
     "name": "stderr",
     "output_type": "stream",
     "text": [
      "pigz: skipping: ramdisk/geno_kmers is a directory\n",
      "in1: 100% in2: 100% \n",
      "pigz: skipping: ramdisk/geno_kmers is a directory\n",
      "pigz: skipping: ramdisk/kmer_union0.kmc_pre does not have compressed suffix\n",
      "pigz: skipping: ramdisk/kmer_union0.kmc_suf does not have compressed suffix\n",
      "in1: 100% in2: 100% \n",
      "pigz: skipping: ramdisk/geno_kmers is a directory\n",
      "pigz: skipping: ramdisk/kmer_union1.kmc_pre does not have compressed suffix\n",
      "pigz: skipping: ramdisk/kmer_union1.kmc_suf does not have compressed suffix\n",
      "in1: 100% in2: 100% \n",
      "pigz: skipping: ramdisk/geno_kmers is a directory\n",
      "pigz: skipping: ramdisk/kmer_union0.kmc_pre does not have compressed suffix\n",
      "pigz: skipping: ramdisk/kmer_union0.kmc_suf does not have compressed suffix\n",
      "in1: 100% in2: 100% \n",
      "pigz: skipping: ramdisk/geno_kmers is a directory\n",
      "pigz: skipping: ramdisk/kmer_union1.kmc_pre does not have compressed suffix\n",
      "pigz: skipping: ramdisk/kmer_union1.kmc_suf does not have compressed suffix\n",
      "in1: 100% in2: 100% \n"
     ]
    },
    {
     "name": "stdout",
     "output_type": "stream",
     "text": [
      "Genotypes remaining: 127\n"
     ]
    },
    {
     "name": "stderr",
     "output_type": "stream",
     "text": [
      "pigz: skipping: ramdisk/geno_kmers is a directory\n",
      "in1: 100% in2: 100% \n",
      "pigz: skipping: ramdisk/geno_kmers is a directory\n",
      "pigz: skipping: ramdisk/kmer_union0.kmc_pre does not have compressed suffix\n",
      "pigz: skipping: ramdisk/kmer_union0.kmc_suf does not have compressed suffix\n",
      "in1: 100% in2: 100% \n",
      "pigz: skipping: ramdisk/geno_kmers is a directory\n",
      "pigz: skipping: ramdisk/kmer_union1.kmc_pre does not have compressed suffix\n",
      "pigz: skipping: ramdisk/kmer_union1.kmc_suf does not have compressed suffix\n",
      "in1: 100% in2: 100% \n",
      "pigz: skipping: ramdisk/geno_kmers is a directory\n",
      "pigz: skipping: ramdisk/kmer_union0.kmc_pre does not have compressed suffix\n",
      "pigz: skipping: ramdisk/kmer_union0.kmc_suf does not have compressed suffix\n",
      "in1: 100% in2: 100% \n",
      "pigz: skipping: ramdisk/geno_kmers is a directory\n",
      "pigz: skipping: ramdisk/kmer_union1.kmc_pre does not have compressed suffix\n",
      "pigz: skipping: ramdisk/kmer_union1.kmc_suf does not have compressed suffix\n",
      "in1: 100% in2: 100% \n"
     ]
    },
    {
     "name": "stdout",
     "output_type": "stream",
     "text": [
      "Genotypes remaining: 126\n"
     ]
    },
    {
     "name": "stderr",
     "output_type": "stream",
     "text": [
      "pigz: skipping: ramdisk/geno_kmers is a directory\n",
      "in1: 100% in2: 100% \n",
      "pigz: skipping: ramdisk/geno_kmers is a directory\n",
      "pigz: skipping: ramdisk/kmer_union0.kmc_pre does not have compressed suffix\n",
      "pigz: skipping: ramdisk/kmer_union0.kmc_suf does not have compressed suffix\n",
      "in1: 100% in2: 100% \n",
      "pigz: skipping: ramdisk/geno_kmers is a directory\n",
      "pigz: skipping: ramdisk/kmer_union1.kmc_pre does not have compressed suffix\n",
      "pigz: skipping: ramdisk/kmer_union1.kmc_suf does not have compressed suffix\n",
      "in1: 100% in2: 100% \n",
      "pigz: skipping: ramdisk/geno_kmers is a directory\n",
      "pigz: skipping: ramdisk/kmer_union0.kmc_pre does not have compressed suffix\n",
      "pigz: skipping: ramdisk/kmer_union0.kmc_suf does not have compressed suffix\n",
      "in1: 100% in2: 100% \n"
     ]
    },
    {
     "name": "stdout",
     "output_type": "stream",
     "text": [
      "Genotypes remaining: 125\n"
     ]
    },
    {
     "name": "stderr",
     "output_type": "stream",
     "text": [
      "pigz: skipping: ramdisk/geno_kmers is a directory\n",
      "in1: 100% in2: 100% \n",
      "pigz: skipping: ramdisk/geno_kmers is a directory\n",
      "pigz: skipping: ramdisk/kmer_union0.kmc_pre does not have compressed suffix\n",
      "pigz: skipping: ramdisk/kmer_union0.kmc_suf does not have compressed suffix\n",
      "in1: 100% in2: 100% \n",
      "pigz: skipping: ramdisk/geno_kmers is a directory\n",
      "pigz: skipping: ramdisk/kmer_union1.kmc_pre does not have compressed suffix\n",
      "pigz: skipping: ramdisk/kmer_union1.kmc_suf does not have compressed suffix\n",
      "in1: 100% in2: 100% \n",
      "pigz: skipping: ramdisk/geno_kmers is a directory\n",
      "pigz: skipping: ramdisk/kmer_union0.kmc_pre does not have compressed suffix\n",
      "pigz: skipping: ramdisk/kmer_union0.kmc_suf does not have compressed suffix\n",
      "in1: 100% in2: 100% \n",
      "pigz: skipping: ramdisk/geno_kmers is a directory\n",
      "pigz: skipping: ramdisk/kmer_union1.kmc_pre does not have compressed suffix\n",
      "pigz: skipping: ramdisk/kmer_union1.kmc_suf does not have compressed suffix\n",
      "in1: 100% in2: 100% \n",
      "pigz: skipping: ramdisk/geno_kmers is a directory\n",
      "pigz: skipping: ramdisk/kmer_union0.kmc_pre does not have compressed suffix\n",
      "pigz: skipping: ramdisk/kmer_union0.kmc_suf does not have compressed suffix\n",
      "in1: 100% in2: 100% \n",
      "pigz: skipping: ramdisk/geno_kmers is a directory\n",
      "pigz: skipping: ramdisk/kmer_union1.kmc_pre does not have compressed suffix\n",
      "pigz: skipping: ramdisk/kmer_union1.kmc_suf does not have compressed suffix\n",
      "in1: 100% in2: 100% \n"
     ]
    },
    {
     "name": "stdout",
     "output_type": "stream",
     "text": [
      "Genotypes remaining: 124\n"
     ]
    },
    {
     "name": "stderr",
     "output_type": "stream",
     "text": [
      "pigz: skipping: ramdisk/geno_kmers is a directory\n",
      "in1: 100% in2: 100% \n",
      "pigz: skipping: ramdisk/geno_kmers is a directory\n",
      "pigz: skipping: ramdisk/kmer_union0.kmc_pre does not have compressed suffix\n",
      "pigz: skipping: ramdisk/kmer_union0.kmc_suf does not have compressed suffix\n",
      "in1: 100% in2: 100% \n",
      "pigz: skipping: ramdisk/geno_kmers is a directory\n",
      "pigz: skipping: ramdisk/kmer_union1.kmc_pre does not have compressed suffix\n",
      "pigz: skipping: ramdisk/kmer_union1.kmc_suf does not have compressed suffix\n",
      "in1: 100% in2: 100% \n"
     ]
    },
    {
     "name": "stdout",
     "output_type": "stream",
     "text": [
      "Genotypes remaining: 123\n"
     ]
    },
    {
     "name": "stderr",
     "output_type": "stream",
     "text": [
      "pigz: skipping: ramdisk/geno_kmers is a directory\n",
      "in1: 100% in2: 100% \n",
      "pigz: skipping: ramdisk/geno_kmers is a directory\n",
      "pigz: skipping: ramdisk/kmer_union0.kmc_pre does not have compressed suffix\n",
      "pigz: skipping: ramdisk/kmer_union0.kmc_suf does not have compressed suffix\n",
      "in1: 100% in2: 100% \n",
      "pigz: skipping: ramdisk/geno_kmers is a directory\n",
      "pigz: skipping: ramdisk/kmer_union1.kmc_pre does not have compressed suffix\n",
      "pigz: skipping: ramdisk/kmer_union1.kmc_suf does not have compressed suffix\n",
      "in1: 100% in2: 100% \n",
      "pigz: skipping: ramdisk/geno_kmers is a directory\n",
      "pigz: skipping: ramdisk/kmer_union0.kmc_pre does not have compressed suffix\n",
      "pigz: skipping: ramdisk/kmer_union0.kmc_suf does not have compressed suffix\n",
      "in1: 100% in2: 100% \n",
      "pigz: skipping: ramdisk/geno_kmers is a directory\n",
      "pigz: skipping: ramdisk/kmer_union1.kmc_pre does not have compressed suffix\n",
      "pigz: skipping: ramdisk/kmer_union1.kmc_suf does not have compressed suffix\n",
      "in1: 100% in2: 100% \n",
      "pigz: skipping: ramdisk/geno_kmers is a directory\n",
      "pigz: skipping: ramdisk/kmer_union0.kmc_pre does not have compressed suffix\n",
      "pigz: skipping: ramdisk/kmer_union0.kmc_suf does not have compressed suffix\n",
      "in1: 100% in2: 100% \n"
     ]
    },
    {
     "name": "stdout",
     "output_type": "stream",
     "text": [
      "Genotypes remaining: 122\n"
     ]
    },
    {
     "name": "stderr",
     "output_type": "stream",
     "text": [
      "pigz: skipping: ramdisk/geno_kmers is a directory\n",
      "in1: 100% in2: 100% \n",
      "pigz: skipping: ramdisk/geno_kmers is a directory\n",
      "pigz: skipping: ramdisk/kmer_union0.kmc_pre does not have compressed suffix\n",
      "pigz: skipping: ramdisk/kmer_union0.kmc_suf does not have compressed suffix\n",
      "in1: 100% in2: 100% \n",
      "pigz: skipping: ramdisk/geno_kmers is a directory\n",
      "pigz: skipping: ramdisk/kmer_union1.kmc_pre does not have compressed suffix\n",
      "pigz: skipping: ramdisk/kmer_union1.kmc_suf does not have compressed suffix\n",
      "in1: 100% in2: 100% \n",
      "pigz: skipping: ramdisk/geno_kmers is a directory\n",
      "pigz: skipping: ramdisk/kmer_union0.kmc_pre does not have compressed suffix\n",
      "pigz: skipping: ramdisk/kmer_union0.kmc_suf does not have compressed suffix\n",
      "in1: 100% in2: 100% \n",
      "pigz: skipping: ramdisk/geno_kmers is a directory\n",
      "pigz: skipping: ramdisk/kmer_union1.kmc_pre does not have compressed suffix\n",
      "pigz: skipping: ramdisk/kmer_union1.kmc_suf does not have compressed suffix\n",
      "in1: 100% in2: 100% \n",
      "pigz: skipping: ramdisk/geno_kmers is a directory\n",
      "pigz: skipping: ramdisk/kmer_union0.kmc_pre does not have compressed suffix\n",
      "pigz: skipping: ramdisk/kmer_union0.kmc_suf does not have compressed suffix\n",
      "in1: 100% in2: 100% \n"
     ]
    },
    {
     "name": "stdout",
     "output_type": "stream",
     "text": [
      "Genotypes remaining: 121\n"
     ]
    },
    {
     "name": "stderr",
     "output_type": "stream",
     "text": [
      "pigz: skipping: ramdisk/geno_kmers is a directory\n",
      "in1: 100% in2: 100% \n",
      "pigz: skipping: ramdisk/geno_kmers is a directory\n",
      "pigz: skipping: ramdisk/kmer_union0.kmc_pre does not have compressed suffix\n",
      "pigz: skipping: ramdisk/kmer_union0.kmc_suf does not have compressed suffix\n",
      "in1: 100% in2: 100% \n",
      "pigz: skipping: ramdisk/geno_kmers is a directory\n",
      "pigz: skipping: ramdisk/kmer_union1.kmc_pre does not have compressed suffix\n",
      "pigz: skipping: ramdisk/kmer_union1.kmc_suf does not have compressed suffix\n",
      "in1: 100% in2: 100% % in2: 54% \n",
      "pigz: skipping: ramdisk/geno_kmers is a directory\n",
      "pigz: skipping: ramdisk/kmer_union0.kmc_pre does not have compressed suffix\n",
      "pigz: skipping: ramdisk/kmer_union0.kmc_suf does not have compressed suffix\n",
      "in1: 100% in2: 100% \n",
      "pigz: skipping: ramdisk/geno_kmers is a directory\n",
      "pigz: skipping: ramdisk/kmer_union1.kmc_pre does not have compressed suffix\n",
      "pigz: skipping: ramdisk/kmer_union1.kmc_suf does not have compressed suffix\n",
      "in1: 100% in2: 100% \n"
     ]
    },
    {
     "name": "stdout",
     "output_type": "stream",
     "text": [
      "Genotypes remaining: 120\n"
     ]
    },
    {
     "name": "stderr",
     "output_type": "stream",
     "text": [
      "pigz: skipping: ramdisk/geno_kmers is a directory\n",
      "in1: 100% in2: 100% \n",
      "pigz: skipping: ramdisk/geno_kmers is a directory\n",
      "pigz: skipping: ramdisk/kmer_union0.kmc_pre does not have compressed suffix\n",
      "pigz: skipping: ramdisk/kmer_union0.kmc_suf does not have compressed suffix\n",
      "in1: 100% in2: 100% \n",
      "pigz: skipping: ramdisk/geno_kmers is a directory\n",
      "pigz: skipping: ramdisk/kmer_union1.kmc_pre does not have compressed suffix\n",
      "pigz: skipping: ramdisk/kmer_union1.kmc_suf does not have compressed suffix\n",
      "in1: 100% in2: 100% \n",
      "pigz: skipping: ramdisk/geno_kmers is a directory\n",
      "pigz: skipping: ramdisk/kmer_union0.kmc_pre does not have compressed suffix\n",
      "pigz: skipping: ramdisk/kmer_union0.kmc_suf does not have compressed suffix\n",
      "in1: 100% in2: 100% \n",
      "pigz: skipping: ramdisk/geno_kmers is a directory\n",
      "pigz: skipping: ramdisk/kmer_union1.kmc_pre does not have compressed suffix\n",
      "pigz: skipping: ramdisk/kmer_union1.kmc_suf does not have compressed suffix\n",
      "in1: 100% in2: 100% \n",
      "pigz: skipping: ramdisk/geno_kmers is a directory\n",
      "pigz: skipping: ramdisk/kmer_union0.kmc_pre does not have compressed suffix\n",
      "pigz: skipping: ramdisk/kmer_union0.kmc_suf does not have compressed suffix\n",
      "in1: 100% in2: 100% \n"
     ]
    },
    {
     "name": "stdout",
     "output_type": "stream",
     "text": [
      "Genotypes remaining: 119\n"
     ]
    },
    {
     "name": "stderr",
     "output_type": "stream",
     "text": [
      "pigz: skipping: ramdisk/geno_kmers is a directory\n",
      "in1: 100% in2: 100% \n",
      "pigz: skipping: ramdisk/geno_kmers is a directory\n",
      "pigz: skipping: ramdisk/kmer_union0.kmc_pre does not have compressed suffix\n",
      "pigz: skipping: ramdisk/kmer_union0.kmc_suf does not have compressed suffix\n",
      "in1: 100% in2: 100% \n",
      "pigz: skipping: ramdisk/geno_kmers is a directory\n",
      "pigz: skipping: ramdisk/kmer_union1.kmc_pre does not have compressed suffix\n",
      "pigz: skipping: ramdisk/kmer_union1.kmc_suf does not have compressed suffix\n",
      "in1: 100% in2: 100% \n",
      "pigz: skipping: ramdisk/geno_kmers is a directory\n",
      "pigz: skipping: ramdisk/kmer_union0.kmc_pre does not have compressed suffix\n",
      "pigz: skipping: ramdisk/kmer_union0.kmc_suf does not have compressed suffix\n",
      "in1: 100% in2: 100% \n",
      "pigz: skipping: ramdisk/geno_kmers is a directory\n",
      "pigz: skipping: ramdisk/kmer_union1.kmc_pre does not have compressed suffix\n",
      "pigz: skipping: ramdisk/kmer_union1.kmc_suf does not have compressed suffix\n",
      "in1: 100% in2: 100% \n",
      "pigz: skipping: ramdisk/geno_kmers is a directory\n",
      "pigz: skipping: ramdisk/kmer_union0.kmc_pre does not have compressed suffix\n",
      "pigz: skipping: ramdisk/kmer_union0.kmc_suf does not have compressed suffix\n",
      "in1: 100% in2: 100% \n",
      "pigz: skipping: ramdisk/geno_kmers is a directory\n",
      "pigz: skipping: ramdisk/kmer_union1.kmc_pre does not have compressed suffix\n",
      "pigz: skipping: ramdisk/kmer_union1.kmc_suf does not have compressed suffix\n",
      "in1: 100% in2: 100% \n",
      "pigz: skipping: ramdisk/geno_kmers is a directory\n",
      "pigz: skipping: ramdisk/kmer_union0.kmc_pre does not have compressed suffix\n",
      "pigz: skipping: ramdisk/kmer_union0.kmc_suf does not have compressed suffix\n",
      "in1: 100% in2: 100% \n"
     ]
    },
    {
     "name": "stdout",
     "output_type": "stream",
     "text": [
      "Genotypes remaining: 118\n"
     ]
    },
    {
     "name": "stderr",
     "output_type": "stream",
     "text": [
      "pigz: skipping: ramdisk/geno_kmers is a directory\n",
      "in1: 100% in2: 100% \n",
      "pigz: skipping: ramdisk/geno_kmers is a directory\n",
      "pigz: skipping: ramdisk/kmer_union0.kmc_pre does not have compressed suffix\n",
      "pigz: skipping: ramdisk/kmer_union0.kmc_suf does not have compressed suffix\n",
      "in1: 100% in2: 100% \n",
      "pigz: skipping: ramdisk/geno_kmers is a directory\n",
      "pigz: skipping: ramdisk/kmer_union1.kmc_pre does not have compressed suffix\n",
      "pigz: skipping: ramdisk/kmer_union1.kmc_suf does not have compressed suffix\n",
      "in1: 100% in2: 100% \n",
      "pigz: skipping: ramdisk/geno_kmers is a directory\n",
      "pigz: skipping: ramdisk/kmer_union0.kmc_pre does not have compressed suffix\n",
      "pigz: skipping: ramdisk/kmer_union0.kmc_suf does not have compressed suffix\n",
      "in1: 100% in2: 100% \n",
      "pigz: skipping: ramdisk/geno_kmers is a directory\n",
      "pigz: skipping: ramdisk/kmer_union1.kmc_pre does not have compressed suffix\n",
      "pigz: skipping: ramdisk/kmer_union1.kmc_suf does not have compressed suffix\n",
      "in1: 100% in2: 100% \n",
      "pigz: skipping: ramdisk/geno_kmers is a directory\n",
      "pigz: skipping: ramdisk/kmer_union0.kmc_pre does not have compressed suffix\n",
      "pigz: skipping: ramdisk/kmer_union0.kmc_suf does not have compressed suffix\n",
      "in1: 100% in2: 100% \n"
     ]
    },
    {
     "name": "stdout",
     "output_type": "stream",
     "text": [
      "Genotypes remaining: 117\n"
     ]
    },
    {
     "name": "stderr",
     "output_type": "stream",
     "text": [
      "pigz: skipping: ramdisk/geno_kmers is a directory\n",
      "in1: 100% in2: 100% \n",
      "pigz: skipping: ramdisk/geno_kmers is a directory\n",
      "pigz: skipping: ramdisk/kmer_union0.kmc_pre does not have compressed suffix\n",
      "pigz: skipping: ramdisk/kmer_union0.kmc_suf does not have compressed suffix\n",
      "in1: 100% in2: 100% \n",
      "pigz: skipping: ramdisk/geno_kmers is a directory\n",
      "pigz: skipping: ramdisk/kmer_union1.kmc_pre does not have compressed suffix\n",
      "pigz: skipping: ramdisk/kmer_union1.kmc_suf does not have compressed suffix\n",
      "in1: 100% in2: 100% \n",
      "pigz: skipping: ramdisk/geno_kmers is a directory\n",
      "pigz: skipping: ramdisk/kmer_union0.kmc_pre does not have compressed suffix\n",
      "pigz: skipping: ramdisk/kmer_union0.kmc_suf does not have compressed suffix\n",
      "in1: 100% in2: 100% \n",
      "pigz: skipping: ramdisk/geno_kmers is a directory\n",
      "pigz: skipping: ramdisk/kmer_union1.kmc_pre does not have compressed suffix\n",
      "pigz: skipping: ramdisk/kmer_union1.kmc_suf does not have compressed suffix\n",
      "in1: 100% in2: 100% \n",
      "pigz: skipping: ramdisk/geno_kmers is a directory\n",
      "pigz: skipping: ramdisk/kmer_union0.kmc_pre does not have compressed suffix\n",
      "pigz: skipping: ramdisk/kmer_union0.kmc_suf does not have compressed suffix\n",
      "in1: 100% in2: 100% \n"
     ]
    },
    {
     "name": "stdout",
     "output_type": "stream",
     "text": [
      "Genotypes remaining: 116\n"
     ]
    },
    {
     "name": "stderr",
     "output_type": "stream",
     "text": [
      "pigz: skipping: ramdisk/geno_kmers is a directory\n",
      "in1: 100% in2: 100% \n",
      "pigz: skipping: ramdisk/geno_kmers is a directory\n",
      "pigz: skipping: ramdisk/kmer_union0.kmc_pre does not have compressed suffix\n",
      "pigz: skipping: ramdisk/kmer_union0.kmc_suf does not have compressed suffix\n",
      "in1: 100% in2: 100% \n",
      "pigz: skipping: ramdisk/geno_kmers is a directory\n",
      "pigz: skipping: ramdisk/kmer_union1.kmc_pre does not have compressed suffix\n",
      "pigz: skipping: ramdisk/kmer_union1.kmc_suf does not have compressed suffix\n",
      "in1: 100% in2: 100% \n",
      "pigz: skipping: ramdisk/geno_kmers is a directory\n",
      "pigz: skipping: ramdisk/kmer_union0.kmc_pre does not have compressed suffix\n",
      "pigz: skipping: ramdisk/kmer_union0.kmc_suf does not have compressed suffix\n",
      "in1: 100% in2: 100% \n",
      "pigz: skipping: ramdisk/geno_kmers is a directory\n",
      "pigz: skipping: ramdisk/kmer_union1.kmc_pre does not have compressed suffix\n",
      "pigz: skipping: ramdisk/kmer_union1.kmc_suf does not have compressed suffix\n",
      "in1: 100% in2: 100% \n",
      "pigz: skipping: ramdisk/geno_kmers is a directory\n",
      "pigz: skipping: ramdisk/kmer_union0.kmc_pre does not have compressed suffix\n",
      "pigz: skipping: ramdisk/kmer_union0.kmc_suf does not have compressed suffix\n",
      "in1: 100% in2: 100% \n"
     ]
    },
    {
     "name": "stdout",
     "output_type": "stream",
     "text": [
      "Genotypes remaining: 115\n"
     ]
    },
    {
     "name": "stderr",
     "output_type": "stream",
     "text": [
      "pigz: skipping: ramdisk/geno_kmers is a directory\n",
      "in1: 100% in2: 100% \n",
      "pigz: skipping: ramdisk/geno_kmers is a directory\n",
      "pigz: skipping: ramdisk/kmer_union0.kmc_pre does not have compressed suffix\n",
      "pigz: skipping: ramdisk/kmer_union0.kmc_suf does not have compressed suffix\n",
      "in1: 100% in2: 100% \n",
      "pigz: skipping: ramdisk/geno_kmers is a directory\n",
      "pigz: skipping: ramdisk/kmer_union1.kmc_pre does not have compressed suffix\n",
      "pigz: skipping: ramdisk/kmer_union1.kmc_suf does not have compressed suffix\n",
      "in1: 100% in2: 100% \n",
      "pigz: skipping: ramdisk/geno_kmers is a directory\n",
      "pigz: skipping: ramdisk/kmer_union0.kmc_pre does not have compressed suffix\n",
      "pigz: skipping: ramdisk/kmer_union0.kmc_suf does not have compressed suffix\n",
      "in1: 100% in2: 100% \n",
      "pigz: skipping: ramdisk/geno_kmers is a directory\n",
      "pigz: skipping: ramdisk/kmer_union1.kmc_pre does not have compressed suffix\n",
      "pigz: skipping: ramdisk/kmer_union1.kmc_suf does not have compressed suffix\n",
      "in1: 100% in2: 100% \n"
     ]
    },
    {
     "name": "stdout",
     "output_type": "stream",
     "text": [
      "Genotypes remaining: 114\n"
     ]
    },
    {
     "name": "stderr",
     "output_type": "stream",
     "text": [
      "pigz: skipping: ramdisk/geno_kmers is a directory\n",
      "in1: 100% in2: 100% \n",
      "pigz: skipping: ramdisk/geno_kmers is a directory\n",
      "pigz: skipping: ramdisk/kmer_union0.kmc_pre does not have compressed suffix\n",
      "pigz: skipping: ramdisk/kmer_union0.kmc_suf does not have compressed suffix\n",
      "in1: 100% in2: 100% \n",
      "pigz: skipping: ramdisk/geno_kmers is a directory\n",
      "pigz: skipping: ramdisk/kmer_union1.kmc_pre does not have compressed suffix\n",
      "pigz: skipping: ramdisk/kmer_union1.kmc_suf does not have compressed suffix\n",
      "in1: 100% in2: 100% \n",
      "pigz: skipping: ramdisk/geno_kmers is a directory\n",
      "pigz: skipping: ramdisk/kmer_union0.kmc_pre does not have compressed suffix\n",
      "pigz: skipping: ramdisk/kmer_union0.kmc_suf does not have compressed suffix\n",
      "in1: 100% in2: 100% \n",
      "pigz: skipping: ramdisk/geno_kmers is a directory\n",
      "pigz: skipping: ramdisk/kmer_union1.kmc_pre does not have compressed suffix\n",
      "pigz: skipping: ramdisk/kmer_union1.kmc_suf does not have compressed suffix\n",
      "in1: 100% in2: 100% \n"
     ]
    },
    {
     "name": "stdout",
     "output_type": "stream",
     "text": [
      "Genotypes remaining: 113\n"
     ]
    },
    {
     "name": "stderr",
     "output_type": "stream",
     "text": [
      "pigz: skipping: ramdisk/geno_kmers is a directory\n",
      "in1: 100% in2: 100% \n",
      "pigz: skipping: ramdisk/geno_kmers is a directory\n",
      "pigz: skipping: ramdisk/kmer_union0.kmc_pre does not have compressed suffix\n",
      "pigz: skipping: ramdisk/kmer_union0.kmc_suf does not have compressed suffix\n",
      "in1: 100% in2: 100% \n",
      "pigz: skipping: ramdisk/geno_kmers is a directory\n",
      "pigz: skipping: ramdisk/kmer_union1.kmc_pre does not have compressed suffix\n",
      "pigz: skipping: ramdisk/kmer_union1.kmc_suf does not have compressed suffix\n",
      "in1: 100% in2: 100% \n",
      "pigz: skipping: ramdisk/geno_kmers is a directory\n",
      "pigz: skipping: ramdisk/kmer_union0.kmc_pre does not have compressed suffix\n",
      "pigz: skipping: ramdisk/kmer_union0.kmc_suf does not have compressed suffix\n",
      "in1: 100% in2: 100% \n",
      "pigz: skipping: ramdisk/geno_kmers is a directory\n",
      "pigz: skipping: ramdisk/kmer_union1.kmc_pre does not have compressed suffix\n",
      "pigz: skipping: ramdisk/kmer_union1.kmc_suf does not have compressed suffix\n",
      "in1: 100% in2: 100% \n",
      "pigz: skipping: ramdisk/geno_kmers is a directory\n",
      "pigz: skipping: ramdisk/kmer_union0.kmc_pre does not have compressed suffix\n",
      "pigz: skipping: ramdisk/kmer_union0.kmc_suf does not have compressed suffix\n",
      "in1: 100% in2: 100% \n"
     ]
    },
    {
     "name": "stdout",
     "output_type": "stream",
     "text": [
      "Genotypes remaining: 112\n"
     ]
    },
    {
     "name": "stderr",
     "output_type": "stream",
     "text": [
      "pigz: skipping: ramdisk/geno_kmers is a directory\n",
      "in1: 100% in2: 100% \n",
      "pigz: skipping: ramdisk/geno_kmers is a directory\n",
      "pigz: skipping: ramdisk/kmer_union0.kmc_pre does not have compressed suffix\n",
      "pigz: skipping: ramdisk/kmer_union0.kmc_suf does not have compressed suffix\n",
      "in1: 100% in2: 100% \n",
      "pigz: skipping: ramdisk/geno_kmers is a directory\n",
      "pigz: skipping: ramdisk/kmer_union1.kmc_pre does not have compressed suffix\n",
      "pigz: skipping: ramdisk/kmer_union1.kmc_suf does not have compressed suffix\n",
      "in1: 100% in2: 100% \n",
      "pigz: skipping: ramdisk/geno_kmers is a directory\n",
      "pigz: skipping: ramdisk/kmer_union0.kmc_pre does not have compressed suffix\n",
      "pigz: skipping: ramdisk/kmer_union0.kmc_suf does not have compressed suffix\n",
      "in1: 100% in2: 100% \n",
      "pigz: skipping: ramdisk/geno_kmers is a directory\n",
      "pigz: skipping: ramdisk/kmer_union1.kmc_pre does not have compressed suffix\n",
      "pigz: skipping: ramdisk/kmer_union1.kmc_suf does not have compressed suffix\n",
      "in1: 100% in2: 100% \n",
      "pigz: skipping: ramdisk/geno_kmers is a directory\n",
      "pigz: skipping: ramdisk/kmer_union0.kmc_pre does not have compressed suffix\n",
      "pigz: skipping: ramdisk/kmer_union0.kmc_suf does not have compressed suffix\n",
      "in1: 100% in2: 100% \n"
     ]
    },
    {
     "name": "stdout",
     "output_type": "stream",
     "text": [
      "Genotypes remaining: 111\n"
     ]
    },
    {
     "name": "stderr",
     "output_type": "stream",
     "text": [
      "pigz: skipping: ramdisk/geno_kmers is a directory\n",
      "in1: 100% in2: 100% \n",
      "pigz: skipping: ramdisk/geno_kmers is a directory\n",
      "pigz: skipping: ramdisk/kmer_union0.kmc_pre does not have compressed suffix\n",
      "pigz: skipping: ramdisk/kmer_union0.kmc_suf does not have compressed suffix\n",
      "in1: 100% in2: 100% \n",
      "pigz: skipping: ramdisk/geno_kmers is a directory\n",
      "pigz: skipping: ramdisk/kmer_union1.kmc_pre does not have compressed suffix\n",
      "pigz: skipping: ramdisk/kmer_union1.kmc_suf does not have compressed suffix\n",
      "in1: 100% in2: 100% \n"
     ]
    },
    {
     "name": "stdout",
     "output_type": "stream",
     "text": [
      "Genotypes remaining: 110\n"
     ]
    },
    {
     "name": "stderr",
     "output_type": "stream",
     "text": [
      "pigz: skipping: ramdisk/geno_kmers is a directory\n",
      "in1: 100% in2: 100% \n",
      "pigz: skipping: ramdisk/geno_kmers is a directory\n",
      "pigz: skipping: ramdisk/kmer_union0.kmc_pre does not have compressed suffix\n",
      "pigz: skipping: ramdisk/kmer_union0.kmc_suf does not have compressed suffix\n",
      "in1: 100% in2: 100% \n",
      "pigz: skipping: ramdisk/geno_kmers is a directory\n",
      "pigz: skipping: ramdisk/kmer_union1.kmc_pre does not have compressed suffix\n",
      "pigz: skipping: ramdisk/kmer_union1.kmc_suf does not have compressed suffix\n",
      "in1: 100% in2: 100% \n",
      "pigz: skipping: ramdisk/geno_kmers is a directory\n",
      "pigz: skipping: ramdisk/kmer_union0.kmc_pre does not have compressed suffix\n",
      "pigz: skipping: ramdisk/kmer_union0.kmc_suf does not have compressed suffix\n",
      "in1: 100% in2: 100% \n",
      "pigz: skipping: ramdisk/geno_kmers is a directory\n",
      "pigz: skipping: ramdisk/kmer_union1.kmc_pre does not have compressed suffix\n",
      "pigz: skipping: ramdisk/kmer_union1.kmc_suf does not have compressed suffix\n",
      "in1: 100% in2: 100% \n",
      "pigz: skipping: ramdisk/geno_kmers is a directory\n",
      "pigz: skipping: ramdisk/kmer_union0.kmc_pre does not have compressed suffix\n",
      "pigz: skipping: ramdisk/kmer_union0.kmc_suf does not have compressed suffix\n",
      "in1: 100% in2: 100% \n"
     ]
    },
    {
     "name": "stdout",
     "output_type": "stream",
     "text": [
      "Genotypes remaining: 109\n"
     ]
    },
    {
     "name": "stderr",
     "output_type": "stream",
     "text": [
      "pigz: skipping: ramdisk/geno_kmers is a directory\n",
      "in1: 100% in2: 100% \n",
      "pigz: skipping: ramdisk/geno_kmers is a directory\n",
      "pigz: skipping: ramdisk/kmer_union0.kmc_pre does not have compressed suffix\n",
      "pigz: skipping: ramdisk/kmer_union0.kmc_suf does not have compressed suffix\n",
      "in1: 100% in2: 100% \n",
      "pigz: skipping: ramdisk/geno_kmers is a directory\n",
      "pigz: skipping: ramdisk/kmer_union1.kmc_pre does not have compressed suffix\n",
      "pigz: skipping: ramdisk/kmer_union1.kmc_suf does not have compressed suffix\n",
      "in1: 100% in2: 100% \n",
      "pigz: skipping: ramdisk/geno_kmers is a directory\n",
      "pigz: skipping: ramdisk/kmer_union0.kmc_pre does not have compressed suffix\n",
      "pigz: skipping: ramdisk/kmer_union0.kmc_suf does not have compressed suffix\n",
      "in1: 100% in2: 100% \n",
      "pigz: skipping: ramdisk/geno_kmers is a directory\n",
      "pigz: skipping: ramdisk/kmer_union1.kmc_pre does not have compressed suffix\n",
      "pigz: skipping: ramdisk/kmer_union1.kmc_suf does not have compressed suffix\n",
      "in1: 100% in2: 100% \n",
      "pigz: skipping: ramdisk/geno_kmers is a directory\n",
      "pigz: skipping: ramdisk/kmer_union0.kmc_pre does not have compressed suffix\n",
      "pigz: skipping: ramdisk/kmer_union0.kmc_suf does not have compressed suffix\n",
      "in1: 100% in2: 100% \n",
      "pigz: skipping: ramdisk/geno_kmers is a directory\n",
      "pigz: skipping: ramdisk/kmer_union1.kmc_pre does not have compressed suffix\n",
      "pigz: skipping: ramdisk/kmer_union1.kmc_suf does not have compressed suffix\n",
      "in1: 100% in2: 100% \n"
     ]
    },
    {
     "name": "stdout",
     "output_type": "stream",
     "text": [
      "Genotypes remaining: 108\n"
     ]
    },
    {
     "name": "stderr",
     "output_type": "stream",
     "text": [
      "pigz: skipping: ramdisk/geno_kmers is a directory\n",
      "in1: 100% in2: 100% \n",
      "pigz: skipping: ramdisk/geno_kmers is a directory\n",
      "pigz: skipping: ramdisk/kmer_union0.kmc_pre does not have compressed suffix\n",
      "pigz: skipping: ramdisk/kmer_union0.kmc_suf does not have compressed suffix\n",
      "in1: 100% in2: 100% \n",
      "pigz: skipping: ramdisk/geno_kmers is a directory\n",
      "pigz: skipping: ramdisk/kmer_union1.kmc_pre does not have compressed suffix\n",
      "pigz: skipping: ramdisk/kmer_union1.kmc_suf does not have compressed suffix\n",
      "in1: 100% in2: 100% \n",
      "pigz: skipping: ramdisk/geno_kmers is a directory\n",
      "pigz: skipping: ramdisk/kmer_union0.kmc_pre does not have compressed suffix\n",
      "pigz: skipping: ramdisk/kmer_union0.kmc_suf does not have compressed suffix\n",
      "in1: 100% in2: 100% \n",
      "pigz: skipping: ramdisk/geno_kmers is a directory\n",
      "pigz: skipping: ramdisk/kmer_union1.kmc_pre does not have compressed suffix\n",
      "pigz: skipping: ramdisk/kmer_union1.kmc_suf does not have compressed suffix\n",
      "in1: 100% in2: 100% \n",
      "pigz: skipping: ramdisk/geno_kmers is a directory\n",
      "pigz: skipping: ramdisk/kmer_union0.kmc_pre does not have compressed suffix\n",
      "pigz: skipping: ramdisk/kmer_union0.kmc_suf does not have compressed suffix\n",
      "in1: 100% in2: 100% \n"
     ]
    },
    {
     "name": "stdout",
     "output_type": "stream",
     "text": [
      "Genotypes remaining: 107\n"
     ]
    },
    {
     "name": "stderr",
     "output_type": "stream",
     "text": [
      "pigz: skipping: ramdisk/geno_kmers is a directory\n",
      "in1: 100% in2: 100% \n",
      "pigz: skipping: ramdisk/geno_kmers is a directory\n",
      "pigz: skipping: ramdisk/kmer_union0.kmc_pre does not have compressed suffix\n",
      "pigz: skipping: ramdisk/kmer_union0.kmc_suf does not have compressed suffix\n",
      "in1: 100% in2: 100% \n",
      "pigz: skipping: ramdisk/geno_kmers is a directory\n",
      "pigz: skipping: ramdisk/kmer_union1.kmc_pre does not have compressed suffix\n",
      "pigz: skipping: ramdisk/kmer_union1.kmc_suf does not have compressed suffix\n",
      "in1: 100% in2: 100% \n",
      "pigz: skipping: ramdisk/geno_kmers is a directory\n",
      "pigz: skipping: ramdisk/kmer_union0.kmc_pre does not have compressed suffix\n",
      "pigz: skipping: ramdisk/kmer_union0.kmc_suf does not have compressed suffix\n",
      "in1: 100% in2: 100% \n",
      "pigz: skipping: ramdisk/geno_kmers is a directory\n",
      "pigz: skipping: ramdisk/kmer_union1.kmc_pre does not have compressed suffix\n",
      "pigz: skipping: ramdisk/kmer_union1.kmc_suf does not have compressed suffix\n",
      "in1: 100% in2: 100% \n",
      "pigz: skipping: ramdisk/geno_kmers is a directory\n",
      "pigz: skipping: ramdisk/kmer_union0.kmc_pre does not have compressed suffix\n",
      "pigz: skipping: ramdisk/kmer_union0.kmc_suf does not have compressed suffix\n",
      "in1: 100% in2: 100% \n"
     ]
    },
    {
     "name": "stdout",
     "output_type": "stream",
     "text": [
      "Genotypes remaining: 106\n"
     ]
    },
    {
     "name": "stderr",
     "output_type": "stream",
     "text": [
      "pigz: skipping: ramdisk/geno_kmers is a directory\n",
      "in1: 100% in2: 100% \n",
      "pigz: skipping: ramdisk/geno_kmers is a directory\n",
      "pigz: skipping: ramdisk/kmer_union0.kmc_pre does not have compressed suffix\n",
      "pigz: skipping: ramdisk/kmer_union0.kmc_suf does not have compressed suffix\n",
      "in1: 100% in2: 100% \n",
      "pigz: skipping: ramdisk/geno_kmers is a directory\n",
      "pigz: skipping: ramdisk/kmer_union1.kmc_pre does not have compressed suffix\n",
      "pigz: skipping: ramdisk/kmer_union1.kmc_suf does not have compressed suffix\n",
      "in1: 100% in2: 100% \n",
      "pigz: skipping: ramdisk/geno_kmers is a directory\n",
      "pigz: skipping: ramdisk/kmer_union0.kmc_pre does not have compressed suffix\n",
      "pigz: skipping: ramdisk/kmer_union0.kmc_suf does not have compressed suffix\n",
      "in1: 100% in2: 100% \n",
      "pigz: skipping: ramdisk/geno_kmers is a directory\n",
      "pigz: skipping: ramdisk/kmer_union1.kmc_pre does not have compressed suffix\n",
      "pigz: skipping: ramdisk/kmer_union1.kmc_suf does not have compressed suffix\n",
      "in1: 100% in2: 100% \n",
      "pigz: skipping: ramdisk/geno_kmers is a directory\n",
      "pigz: skipping: ramdisk/kmer_union0.kmc_pre does not have compressed suffix\n",
      "pigz: skipping: ramdisk/kmer_union0.kmc_suf does not have compressed suffix\n",
      "in1: 100% in2: 100% \n"
     ]
    },
    {
     "name": "stdout",
     "output_type": "stream",
     "text": [
      "Genotypes remaining: 105\n"
     ]
    },
    {
     "name": "stderr",
     "output_type": "stream",
     "text": [
      "pigz: skipping: ramdisk/geno_kmers is a directory\n",
      "in1: 100% in2: 100% \n",
      "pigz: skipping: ramdisk/geno_kmers is a directory\n",
      "pigz: skipping: ramdisk/kmer_union0.kmc_pre does not have compressed suffix\n",
      "pigz: skipping: ramdisk/kmer_union0.kmc_suf does not have compressed suffix\n",
      "in1: 100% in2: 100% \n",
      "pigz: skipping: ramdisk/geno_kmers is a directory\n",
      "pigz: skipping: ramdisk/kmer_union1.kmc_pre does not have compressed suffix\n",
      "pigz: skipping: ramdisk/kmer_union1.kmc_suf does not have compressed suffix\n",
      "in1: 100% in2: 100% \n",
      "pigz: skipping: ramdisk/geno_kmers is a directory\n",
      "pigz: skipping: ramdisk/kmer_union0.kmc_pre does not have compressed suffix\n",
      "pigz: skipping: ramdisk/kmer_union0.kmc_suf does not have compressed suffix\n",
      "in1: 100% in2: 100% \n",
      "pigz: skipping: ramdisk/geno_kmers is a directory\n",
      "pigz: skipping: ramdisk/kmer_union1.kmc_pre does not have compressed suffix\n",
      "pigz: skipping: ramdisk/kmer_union1.kmc_suf does not have compressed suffix\n",
      "in1: 100% in2: 100% \n",
      "pigz: skipping: ramdisk/geno_kmers is a directory\n",
      "pigz: skipping: ramdisk/kmer_union0.kmc_pre does not have compressed suffix\n",
      "pigz: skipping: ramdisk/kmer_union0.kmc_suf does not have compressed suffix\n",
      "in1: 100% in2: 100% % in2: 87% \n"
     ]
    },
    {
     "name": "stdout",
     "output_type": "stream",
     "text": [
      "Genotypes remaining: 104\n"
     ]
    },
    {
     "name": "stderr",
     "output_type": "stream",
     "text": [
      "pigz: skipping: ramdisk/geno_kmers is a directory\n",
      "in1: 100% in2: 100% \n",
      "pigz: skipping: ramdisk/geno_kmers is a directory\n",
      "pigz: skipping: ramdisk/kmer_union0.kmc_pre does not have compressed suffix\n",
      "pigz: skipping: ramdisk/kmer_union0.kmc_suf does not have compressed suffix\n",
      "in1: 100% in2: 100% \n",
      "pigz: skipping: ramdisk/geno_kmers is a directory\n",
      "pigz: skipping: ramdisk/kmer_union1.kmc_pre does not have compressed suffix\n",
      "pigz: skipping: ramdisk/kmer_union1.kmc_suf does not have compressed suffix\n",
      "in1: 100% in2: 100% \n",
      "pigz: skipping: ramdisk/geno_kmers is a directory\n",
      "pigz: skipping: ramdisk/kmer_union0.kmc_pre does not have compressed suffix\n",
      "pigz: skipping: ramdisk/kmer_union0.kmc_suf does not have compressed suffix\n",
      "in1: 100% in2: 100% \n",
      "pigz: skipping: ramdisk/geno_kmers is a directory\n",
      "pigz: skipping: ramdisk/kmer_union1.kmc_pre does not have compressed suffix\n",
      "pigz: skipping: ramdisk/kmer_union1.kmc_suf does not have compressed suffix\n",
      "in1: 100% in2: 100% % in2: 87% \n"
     ]
    },
    {
     "name": "stdout",
     "output_type": "stream",
     "text": [
      "Genotypes remaining: 103\n"
     ]
    },
    {
     "name": "stderr",
     "output_type": "stream",
     "text": [
      "pigz: skipping: ramdisk/geno_kmers is a directory\n",
      "in1: 100% in2: 100% \n",
      "pigz: skipping: ramdisk/geno_kmers is a directory\n",
      "pigz: skipping: ramdisk/kmer_union0.kmc_pre does not have compressed suffix\n",
      "pigz: skipping: ramdisk/kmer_union0.kmc_suf does not have compressed suffix\n",
      "in1: 100% in2: 100% \n",
      "pigz: skipping: ramdisk/geno_kmers is a directory\n",
      "pigz: skipping: ramdisk/kmer_union1.kmc_pre does not have compressed suffix\n",
      "pigz: skipping: ramdisk/kmer_union1.kmc_suf does not have compressed suffix\n",
      "in1: 100% in2: 100% \n",
      "pigz: skipping: ramdisk/geno_kmers is a directory\n",
      "pigz: skipping: ramdisk/kmer_union0.kmc_pre does not have compressed suffix\n",
      "pigz: skipping: ramdisk/kmer_union0.kmc_suf does not have compressed suffix\n",
      "in1: 100% in2: 100% \n",
      "pigz: skipping: ramdisk/geno_kmers is a directory\n",
      "pigz: skipping: ramdisk/kmer_union1.kmc_pre does not have compressed suffix\n",
      "pigz: skipping: ramdisk/kmer_union1.kmc_suf does not have compressed suffix\n",
      "in1: 100% in2: 100% \n",
      "pigz: skipping: ramdisk/geno_kmers is a directory\n",
      "pigz: skipping: ramdisk/kmer_union0.kmc_pre does not have compressed suffix\n",
      "pigz: skipping: ramdisk/kmer_union0.kmc_suf does not have compressed suffix\n",
      "in1: 100% in2: 100% \n"
     ]
    },
    {
     "name": "stdout",
     "output_type": "stream",
     "text": [
      "Genotypes remaining: 102\n"
     ]
    },
    {
     "name": "stderr",
     "output_type": "stream",
     "text": [
      "pigz: skipping: ramdisk/geno_kmers is a directory\n",
      "in1: 100% in2: 100% \n",
      "pigz: skipping: ramdisk/geno_kmers is a directory\n",
      "pigz: skipping: ramdisk/kmer_union0.kmc_pre does not have compressed suffix\n",
      "pigz: skipping: ramdisk/kmer_union0.kmc_suf does not have compressed suffix\n",
      "in1: 100% in2: 100% \n",
      "pigz: skipping: ramdisk/geno_kmers is a directory\n",
      "pigz: skipping: ramdisk/kmer_union1.kmc_pre does not have compressed suffix\n",
      "pigz: skipping: ramdisk/kmer_union1.kmc_suf does not have compressed suffix\n",
      "in1: 100% in2: 100% \n",
      "pigz: skipping: ramdisk/geno_kmers is a directory\n",
      "pigz: skipping: ramdisk/kmer_union0.kmc_pre does not have compressed suffix\n",
      "pigz: skipping: ramdisk/kmer_union0.kmc_suf does not have compressed suffix\n",
      "in1: 100% in2: 100% \n"
     ]
    },
    {
     "name": "stdout",
     "output_type": "stream",
     "text": [
      "Genotypes remaining: 101\n"
     ]
    },
    {
     "name": "stderr",
     "output_type": "stream",
     "text": [
      "pigz: skipping: ramdisk/geno_kmers is a directory\n",
      "in1: 100% in2: 100% \n",
      "pigz: skipping: ramdisk/geno_kmers is a directory\n",
      "pigz: skipping: ramdisk/kmer_union0.kmc_pre does not have compressed suffix\n",
      "pigz: skipping: ramdisk/kmer_union0.kmc_suf does not have compressed suffix\n",
      "in1: 100% in2: 100% \n",
      "pigz: skipping: ramdisk/geno_kmers is a directory\n",
      "pigz: skipping: ramdisk/kmer_union1.kmc_pre does not have compressed suffix\n",
      "pigz: skipping: ramdisk/kmer_union1.kmc_suf does not have compressed suffix\n",
      "in1: 100% in2: 100% \n",
      "pigz: skipping: ramdisk/geno_kmers is a directory\n",
      "pigz: skipping: ramdisk/kmer_union0.kmc_pre does not have compressed suffix\n",
      "pigz: skipping: ramdisk/kmer_union0.kmc_suf does not have compressed suffix\n",
      "in1: 100% in2: 100% \n",
      "pigz: skipping: ramdisk/geno_kmers is a directory\n",
      "pigz: skipping: ramdisk/kmer_union1.kmc_pre does not have compressed suffix\n",
      "pigz: skipping: ramdisk/kmer_union1.kmc_suf does not have compressed suffix\n",
      "in1: 100% in2: 100% \n",
      "pigz: skipping: ramdisk/geno_kmers is a directory\n",
      "pigz: skipping: ramdisk/kmer_union0.kmc_pre does not have compressed suffix\n",
      "pigz: skipping: ramdisk/kmer_union0.kmc_suf does not have compressed suffix\n",
      "in1: 100% in2: 100% \n"
     ]
    },
    {
     "name": "stdout",
     "output_type": "stream",
     "text": [
      "Genotypes remaining: 100\n"
     ]
    },
    {
     "name": "stderr",
     "output_type": "stream",
     "text": [
      "pigz: skipping: ramdisk/geno_kmers is a directory\n",
      "in1: 100% in2: 100% \n",
      "pigz: skipping: ramdisk/geno_kmers is a directory\n",
      "pigz: skipping: ramdisk/kmer_union0.kmc_pre does not have compressed suffix\n",
      "pigz: skipping: ramdisk/kmer_union0.kmc_suf does not have compressed suffix\n",
      "in1: 100% in2: 100% \n",
      "pigz: skipping: ramdisk/geno_kmers is a directory\n",
      "pigz: skipping: ramdisk/kmer_union1.kmc_pre does not have compressed suffix\n",
      "pigz: skipping: ramdisk/kmer_union1.kmc_suf does not have compressed suffix\n",
      "in1: 100% in2: 100% \n",
      "pigz: skipping: ramdisk/geno_kmers is a directory\n",
      "pigz: skipping: ramdisk/kmer_union0.kmc_pre does not have compressed suffix\n",
      "pigz: skipping: ramdisk/kmer_union0.kmc_suf does not have compressed suffix\n",
      "in1: 100% in2: 100% \n",
      "pigz: skipping: ramdisk/geno_kmers is a directory\n",
      "pigz: skipping: ramdisk/kmer_union1.kmc_pre does not have compressed suffix\n",
      "pigz: skipping: ramdisk/kmer_union1.kmc_suf does not have compressed suffix\n",
      "in1: 100% in2: 100% \n",
      "pigz: skipping: ramdisk/geno_kmers is a directory\n",
      "pigz: skipping: ramdisk/kmer_union0.kmc_pre does not have compressed suffix\n",
      "pigz: skipping: ramdisk/kmer_union0.kmc_suf does not have compressed suffix\n",
      "in1: 100% in2: 100% \n"
     ]
    },
    {
     "name": "stdout",
     "output_type": "stream",
     "text": [
      "Genotypes remaining: 99\n"
     ]
    },
    {
     "name": "stderr",
     "output_type": "stream",
     "text": [
      "pigz: skipping: ramdisk/geno_kmers is a directory\n",
      "in1: 100% in2: 100% \n",
      "pigz: skipping: ramdisk/geno_kmers is a directory\n",
      "pigz: skipping: ramdisk/kmer_union0.kmc_pre does not have compressed suffix\n",
      "pigz: skipping: ramdisk/kmer_union0.kmc_suf does not have compressed suffix\n",
      "in1: 100% in2: 100% \n",
      "pigz: skipping: ramdisk/geno_kmers is a directory\n",
      "pigz: skipping: ramdisk/kmer_union1.kmc_pre does not have compressed suffix\n",
      "pigz: skipping: ramdisk/kmer_union1.kmc_suf does not have compressed suffix\n",
      "in1: 100% in2: 100% \n",
      "pigz: skipping: ramdisk/geno_kmers is a directory\n",
      "pigz: skipping: ramdisk/kmer_union0.kmc_pre does not have compressed suffix\n",
      "pigz: skipping: ramdisk/kmer_union0.kmc_suf does not have compressed suffix\n",
      "in1: 100% in2: 100% \n"
     ]
    },
    {
     "name": "stdout",
     "output_type": "stream",
     "text": [
      "Genotypes remaining: 98\n"
     ]
    },
    {
     "name": "stderr",
     "output_type": "stream",
     "text": [
      "pigz: skipping: ramdisk/geno_kmers is a directory\n",
      "in1: 100% in2: 100% \n"
     ]
    },
    {
     "name": "stdout",
     "output_type": "stream",
     "text": [
      "Genotypes remaining: 97\n"
     ]
    },
    {
     "name": "stderr",
     "output_type": "stream",
     "text": [
      "pigz: skipping: ramdisk/geno_kmers is a directory\n",
      "in1: 100% in2: 100% \n",
      "pigz: skipping: ramdisk/geno_kmers is a directory\n",
      "pigz: skipping: ramdisk/kmer_union0.kmc_pre does not have compressed suffix\n",
      "pigz: skipping: ramdisk/kmer_union0.kmc_suf does not have compressed suffix\n",
      "in1: 100% in2: 100% \n",
      "pigz: skipping: ramdisk/geno_kmers is a directory\n",
      "pigz: skipping: ramdisk/kmer_union1.kmc_pre does not have compressed suffix\n",
      "pigz: skipping: ramdisk/kmer_union1.kmc_suf does not have compressed suffix\n",
      "in1: 100% in2: 100% \n",
      "pigz: skipping: ramdisk/geno_kmers is a directory\n",
      "pigz: skipping: ramdisk/kmer_union0.kmc_pre does not have compressed suffix\n",
      "pigz: skipping: ramdisk/kmer_union0.kmc_suf does not have compressed suffix\n",
      "in1: 100% in2: 100% \n",
      "pigz: skipping: ramdisk/geno_kmers is a directory\n",
      "pigz: skipping: ramdisk/kmer_union1.kmc_pre does not have compressed suffix\n",
      "pigz: skipping: ramdisk/kmer_union1.kmc_suf does not have compressed suffix\n",
      "in1: 100% in2: 100% \n",
      "pigz: skipping: ramdisk/geno_kmers is a directory\n",
      "pigz: skipping: ramdisk/kmer_union0.kmc_pre does not have compressed suffix\n",
      "pigz: skipping: ramdisk/kmer_union0.kmc_suf does not have compressed suffix\n",
      "in1: 100% in2: 100% \n"
     ]
    },
    {
     "name": "stdout",
     "output_type": "stream",
     "text": [
      "Genotypes remaining: 96\n"
     ]
    },
    {
     "name": "stderr",
     "output_type": "stream",
     "text": [
      "pigz: skipping: ramdisk/geno_kmers is a directory\n",
      "in1: 100% in2: 100% \n",
      "pigz: skipping: ramdisk/geno_kmers is a directory\n",
      "pigz: skipping: ramdisk/kmer_union0.kmc_pre does not have compressed suffix\n",
      "pigz: skipping: ramdisk/kmer_union0.kmc_suf does not have compressed suffix\n",
      "in1: 100% in2: 100% \n",
      "pigz: skipping: ramdisk/geno_kmers is a directory\n",
      "pigz: skipping: ramdisk/kmer_union1.kmc_pre does not have compressed suffix\n",
      "pigz: skipping: ramdisk/kmer_union1.kmc_suf does not have compressed suffix\n",
      "in1: 100% in2: 100% \n",
      "pigz: skipping: ramdisk/geno_kmers is a directory\n",
      "pigz: skipping: ramdisk/kmer_union0.kmc_pre does not have compressed suffix\n",
      "pigz: skipping: ramdisk/kmer_union0.kmc_suf does not have compressed suffix\n",
      "in1: 100% in2: 100% \n",
      "pigz: skipping: ramdisk/geno_kmers is a directory\n",
      "pigz: skipping: ramdisk/kmer_union1.kmc_pre does not have compressed suffix\n",
      "pigz: skipping: ramdisk/kmer_union1.kmc_suf does not have compressed suffix\n",
      "in1: 100% in2: 100% \n"
     ]
    },
    {
     "name": "stdout",
     "output_type": "stream",
     "text": [
      "Genotypes remaining: 95\n"
     ]
    },
    {
     "name": "stderr",
     "output_type": "stream",
     "text": [
      "pigz: skipping: ramdisk/geno_kmers is a directory\n"
     ]
    },
    {
     "name": "stdout",
     "output_type": "stream",
     "text": [
      "Genotypes remaining: 94\n"
     ]
    },
    {
     "name": "stderr",
     "output_type": "stream",
     "text": [
      "pigz: skipping: ramdisk/geno_kmers is a directory\n",
      "in1: 100% in2: 100% \n",
      "pigz: skipping: ramdisk/geno_kmers is a directory\n",
      "pigz: skipping: ramdisk/kmer_union0.kmc_pre does not have compressed suffix\n",
      "pigz: skipping: ramdisk/kmer_union0.kmc_suf does not have compressed suffix\n",
      "in1: 100% in2: 100% % in2: 36% \n",
      "pigz: skipping: ramdisk/geno_kmers is a directory\n",
      "pigz: skipping: ramdisk/kmer_union1.kmc_pre does not have compressed suffix\n",
      "pigz: skipping: ramdisk/kmer_union1.kmc_suf does not have compressed suffix\n",
      "in1: 100% in2: 100% \n",
      "pigz: skipping: ramdisk/geno_kmers is a directory\n",
      "pigz: skipping: ramdisk/kmer_union0.kmc_pre does not have compressed suffix\n",
      "pigz: skipping: ramdisk/kmer_union0.kmc_suf does not have compressed suffix\n",
      "in1: 100% in2: 100% \n",
      "pigz: skipping: ramdisk/geno_kmers is a directory\n",
      "pigz: skipping: ramdisk/kmer_union1.kmc_pre does not have compressed suffix\n",
      "pigz: skipping: ramdisk/kmer_union1.kmc_suf does not have compressed suffix\n",
      "in1: 100% in2: 100% \n",
      "pigz: skipping: ramdisk/geno_kmers is a directory\n",
      "pigz: skipping: ramdisk/kmer_union0.kmc_pre does not have compressed suffix\n",
      "pigz: skipping: ramdisk/kmer_union0.kmc_suf does not have compressed suffix\n",
      "in1: 100% in2: 100% \n"
     ]
    },
    {
     "name": "stdout",
     "output_type": "stream",
     "text": [
      "Genotypes remaining: 93\n"
     ]
    },
    {
     "name": "stderr",
     "output_type": "stream",
     "text": [
      "pigz: skipping: ramdisk/geno_kmers is a directory\n",
      "in1: 100% in2: 100% \n",
      "pigz: skipping: ramdisk/geno_kmers is a directory\n",
      "pigz: skipping: ramdisk/kmer_union0.kmc_pre does not have compressed suffix\n",
      "pigz: skipping: ramdisk/kmer_union0.kmc_suf does not have compressed suffix\n",
      "in1: 100% in2: 100% \n",
      "pigz: skipping: ramdisk/geno_kmers is a directory\n",
      "pigz: skipping: ramdisk/kmer_union1.kmc_pre does not have compressed suffix\n",
      "pigz: skipping: ramdisk/kmer_union1.kmc_suf does not have compressed suffix\n",
      "in1: 100% in2: 100% \n",
      "pigz: skipping: ramdisk/geno_kmers is a directory\n",
      "pigz: skipping: ramdisk/kmer_union0.kmc_pre does not have compressed suffix\n",
      "pigz: skipping: ramdisk/kmer_union0.kmc_suf does not have compressed suffix\n",
      "in1: 100% in2: 100% \n",
      "pigz: skipping: ramdisk/geno_kmers is a directory\n",
      "pigz: skipping: ramdisk/kmer_union1.kmc_pre does not have compressed suffix\n",
      "pigz: skipping: ramdisk/kmer_union1.kmc_suf does not have compressed suffix\n",
      "in1: 100% in2: 100% \n",
      "pigz: skipping: ramdisk/geno_kmers is a directory\n",
      "pigz: skipping: ramdisk/kmer_union0.kmc_pre does not have compressed suffix\n",
      "pigz: skipping: ramdisk/kmer_union0.kmc_suf does not have compressed suffix\n",
      "in1: 100% in2: 100% \n",
      "pigz: skipping: ramdisk/geno_kmers is a directory\n",
      "pigz: skipping: ramdisk/kmer_union1.kmc_pre does not have compressed suffix\n",
      "pigz: skipping: ramdisk/kmer_union1.kmc_suf does not have compressed suffix\n",
      "in1: 100% in2: 100% \n",
      "pigz: skipping: ramdisk/geno_kmers is a directory\n",
      "pigz: skipping: ramdisk/kmer_union0.kmc_pre does not have compressed suffix\n",
      "pigz: skipping: ramdisk/kmer_union0.kmc_suf does not have compressed suffix\n",
      "in1: 100% in2: 100% \n"
     ]
    },
    {
     "name": "stdout",
     "output_type": "stream",
     "text": [
      "Genotypes remaining: 92\n"
     ]
    },
    {
     "name": "stderr",
     "output_type": "stream",
     "text": [
      "pigz: skipping: ramdisk/geno_kmers is a directory\n",
      "in1: 100% in2: 100% \n",
      "pigz: skipping: ramdisk/geno_kmers is a directory\n",
      "pigz: skipping: ramdisk/kmer_union0.kmc_pre does not have compressed suffix\n",
      "pigz: skipping: ramdisk/kmer_union0.kmc_suf does not have compressed suffix\n",
      "in1: 100% in2: 100% \n",
      "pigz: skipping: ramdisk/geno_kmers is a directory\n",
      "pigz: skipping: ramdisk/kmer_union1.kmc_pre does not have compressed suffix\n",
      "pigz: skipping: ramdisk/kmer_union1.kmc_suf does not have compressed suffix\n",
      "in1: 100% in2: 100% \n",
      "pigz: skipping: ramdisk/geno_kmers is a directory\n",
      "pigz: skipping: ramdisk/kmer_union0.kmc_pre does not have compressed suffix\n",
      "pigz: skipping: ramdisk/kmer_union0.kmc_suf does not have compressed suffix\n",
      "in1: 100% in2: 100% \n"
     ]
    },
    {
     "name": "stdout",
     "output_type": "stream",
     "text": [
      "Genotypes remaining: 91\n"
     ]
    },
    {
     "name": "stderr",
     "output_type": "stream",
     "text": [
      "pigz: skipping: ramdisk/geno_kmers is a directory\n",
      "in1: 100% in2: 100% \n",
      "pigz: skipping: ramdisk/geno_kmers is a directory\n",
      "pigz: skipping: ramdisk/kmer_union0.kmc_pre does not have compressed suffix\n",
      "pigz: skipping: ramdisk/kmer_union0.kmc_suf does not have compressed suffix\n",
      "in1: 100% in2: 100% \n",
      "pigz: skipping: ramdisk/geno_kmers is a directory\n",
      "pigz: skipping: ramdisk/kmer_union1.kmc_pre does not have compressed suffix\n",
      "pigz: skipping: ramdisk/kmer_union1.kmc_suf does not have compressed suffix\n",
      "in1: 100% in2: 100% \n",
      "pigz: skipping: ramdisk/geno_kmers is a directory\n",
      "pigz: skipping: ramdisk/kmer_union0.kmc_pre does not have compressed suffix\n",
      "pigz: skipping: ramdisk/kmer_union0.kmc_suf does not have compressed suffix\n",
      "in1: 100% in2: 100% \n"
     ]
    },
    {
     "name": "stdout",
     "output_type": "stream",
     "text": [
      "Genotypes remaining: 90\n"
     ]
    },
    {
     "name": "stderr",
     "output_type": "stream",
     "text": [
      "pigz: skipping: ramdisk/geno_kmers is a directory\n",
      "in1: 100% in2: 100% \n",
      "pigz: skipping: ramdisk/geno_kmers is a directory\n",
      "pigz: skipping: ramdisk/kmer_union0.kmc_pre does not have compressed suffix\n",
      "pigz: skipping: ramdisk/kmer_union0.kmc_suf does not have compressed suffix\n",
      "in1: 100% in2: 100% \n",
      "pigz: skipping: ramdisk/geno_kmers is a directory\n",
      "pigz: skipping: ramdisk/kmer_union1.kmc_pre does not have compressed suffix\n",
      "pigz: skipping: ramdisk/kmer_union1.kmc_suf does not have compressed suffix\n",
      "in1: 100% in2: 100% \n",
      "pigz: skipping: ramdisk/geno_kmers is a directory\n",
      "pigz: skipping: ramdisk/kmer_union0.kmc_pre does not have compressed suffix\n",
      "pigz: skipping: ramdisk/kmer_union0.kmc_suf does not have compressed suffix\n",
      "in1: 100% in2: 100% \n",
      "pigz: skipping: ramdisk/geno_kmers is a directory\n",
      "pigz: skipping: ramdisk/kmer_union1.kmc_pre does not have compressed suffix\n",
      "pigz: skipping: ramdisk/kmer_union1.kmc_suf does not have compressed suffix\n",
      "in1: 100% in2: 100% 28% in2: 30% \n",
      "pigz: skipping: ramdisk/geno_kmers is a directory\n",
      "pigz: skipping: ramdisk/kmer_union0.kmc_pre does not have compressed suffix\n",
      "pigz: skipping: ramdisk/kmer_union0.kmc_suf does not have compressed suffix\n",
      "in1: 100% in2: 100% \n"
     ]
    },
    {
     "name": "stdout",
     "output_type": "stream",
     "text": [
      "Genotypes remaining: 89\n"
     ]
    },
    {
     "name": "stderr",
     "output_type": "stream",
     "text": [
      "pigz: skipping: ramdisk/geno_kmers is a directory\n",
      "in1: 100% in2: 100% \n",
      "pigz: skipping: ramdisk/geno_kmers is a directory\n",
      "pigz: skipping: ramdisk/kmer_union0.kmc_pre does not have compressed suffix\n",
      "pigz: skipping: ramdisk/kmer_union0.kmc_suf does not have compressed suffix\n",
      "in1: 100% in2: 100% \n",
      "pigz: skipping: ramdisk/geno_kmers is a directory\n",
      "pigz: skipping: ramdisk/kmer_union1.kmc_pre does not have compressed suffix\n",
      "pigz: skipping: ramdisk/kmer_union1.kmc_suf does not have compressed suffix\n",
      "in1: 100% in2: 100% \n",
      "pigz: skipping: ramdisk/geno_kmers is a directory\n",
      "pigz: skipping: ramdisk/kmer_union0.kmc_pre does not have compressed suffix\n",
      "pigz: skipping: ramdisk/kmer_union0.kmc_suf does not have compressed suffix\n",
      "in1: 100% in2: 100% \n",
      "pigz: skipping: ramdisk/geno_kmers is a directory\n",
      "pigz: skipping: ramdisk/kmer_union1.kmc_pre does not have compressed suffix\n",
      "pigz: skipping: ramdisk/kmer_union1.kmc_suf does not have compressed suffix\n",
      "in1: 100% in2: 100% \n",
      "pigz: skipping: ramdisk/geno_kmers is a directory\n",
      "pigz: skipping: ramdisk/kmer_union0.kmc_pre does not have compressed suffix\n",
      "pigz: skipping: ramdisk/kmer_union0.kmc_suf does not have compressed suffix\n",
      "in1: 100% in2: 100% \n"
     ]
    },
    {
     "name": "stdout",
     "output_type": "stream",
     "text": [
      "Genotypes remaining: 88\n"
     ]
    },
    {
     "name": "stderr",
     "output_type": "stream",
     "text": [
      "pigz: skipping: ramdisk/geno_kmers is a directory\n",
      "in1: 100% in2: 100% \n",
      "pigz: skipping: ramdisk/geno_kmers is a directory\n",
      "pigz: skipping: ramdisk/kmer_union0.kmc_pre does not have compressed suffix\n",
      "pigz: skipping: ramdisk/kmer_union0.kmc_suf does not have compressed suffix\n",
      "in1: 100% in2: 100% \n",
      "pigz: skipping: ramdisk/geno_kmers is a directory\n",
      "pigz: skipping: ramdisk/kmer_union1.kmc_pre does not have compressed suffix\n",
      "pigz: skipping: ramdisk/kmer_union1.kmc_suf does not have compressed suffix\n",
      "in1: 100% in2: 100% \n",
      "pigz: skipping: ramdisk/geno_kmers is a directory\n",
      "pigz: skipping: ramdisk/kmer_union0.kmc_pre does not have compressed suffix\n",
      "pigz: skipping: ramdisk/kmer_union0.kmc_suf does not have compressed suffix\n",
      "in1: 100% in2: 100% \n",
      "pigz: skipping: ramdisk/geno_kmers is a directory\n",
      "pigz: skipping: ramdisk/kmer_union1.kmc_pre does not have compressed suffix\n",
      "pigz: skipping: ramdisk/kmer_union1.kmc_suf does not have compressed suffix\n",
      "in1: 100% in2: 100% \n",
      "pigz: skipping: ramdisk/geno_kmers is a directory\n",
      "pigz: skipping: ramdisk/kmer_union0.kmc_pre does not have compressed suffix\n",
      "pigz: skipping: ramdisk/kmer_union0.kmc_suf does not have compressed suffix\n",
      "in1: 100% in2: 100% \n"
     ]
    },
    {
     "name": "stdout",
     "output_type": "stream",
     "text": [
      "Genotypes remaining: 87\n"
     ]
    },
    {
     "name": "stderr",
     "output_type": "stream",
     "text": [
      "pigz: skipping: ramdisk/geno_kmers is a directory\n",
      "in1: 100% in2: 100% \n"
     ]
    },
    {
     "name": "stdout",
     "output_type": "stream",
     "text": [
      "Genotypes remaining: 86\n"
     ]
    },
    {
     "name": "stderr",
     "output_type": "stream",
     "text": [
      "pigz: skipping: ramdisk/geno_kmers is a directory\n",
      "in1: 100% in2: 100% \n",
      "pigz: skipping: ramdisk/geno_kmers is a directory\n",
      "pigz: skipping: ramdisk/kmer_union0.kmc_pre does not have compressed suffix\n",
      "pigz: skipping: ramdisk/kmer_union0.kmc_suf does not have compressed suffix\n",
      "in1: 100% in2: 100% \n",
      "pigz: skipping: ramdisk/geno_kmers is a directory\n",
      "pigz: skipping: ramdisk/kmer_union1.kmc_pre does not have compressed suffix\n",
      "pigz: skipping: ramdisk/kmer_union1.kmc_suf does not have compressed suffix\n",
      "in1: 100% in2: 100% \n",
      "pigz: skipping: ramdisk/geno_kmers is a directory\n",
      "pigz: skipping: ramdisk/kmer_union0.kmc_pre does not have compressed suffix\n",
      "pigz: skipping: ramdisk/kmer_union0.kmc_suf does not have compressed suffix\n",
      "in1: 100% in2: 100% \n"
     ]
    },
    {
     "name": "stdout",
     "output_type": "stream",
     "text": [
      "Genotypes remaining: 85\n"
     ]
    },
    {
     "name": "stderr",
     "output_type": "stream",
     "text": [
      "pigz: skipping: ramdisk/geno_kmers is a directory\n",
      "in1: 100% in2: 100% \n",
      "pigz: skipping: ramdisk/geno_kmers is a directory\n",
      "pigz: skipping: ramdisk/kmer_union0.kmc_pre does not have compressed suffix\n",
      "pigz: skipping: ramdisk/kmer_union0.kmc_suf does not have compressed suffix\n",
      "in1: 100% in2: 100% \n",
      "pigz: skipping: ramdisk/geno_kmers is a directory\n",
      "pigz: skipping: ramdisk/kmer_union1.kmc_pre does not have compressed suffix\n",
      "pigz: skipping: ramdisk/kmer_union1.kmc_suf does not have compressed suffix\n",
      "in1: 100% in2: 100% \n",
      "pigz: skipping: ramdisk/geno_kmers is a directory\n",
      "pigz: skipping: ramdisk/kmer_union0.kmc_pre does not have compressed suffix\n",
      "pigz: skipping: ramdisk/kmer_union0.kmc_suf does not have compressed suffix\n",
      "in1: 100% in2: 100% % in2: 52% \n",
      "pigz: skipping: ramdisk/geno_kmers is a directory\n",
      "pigz: skipping: ramdisk/kmer_union1.kmc_pre does not have compressed suffix\n",
      "pigz: skipping: ramdisk/kmer_union1.kmc_suf does not have compressed suffix\n",
      "in1: 100% in2: 100% \n",
      "pigz: skipping: ramdisk/geno_kmers is a directory\n",
      "pigz: skipping: ramdisk/kmer_union0.kmc_pre does not have compressed suffix\n",
      "pigz: skipping: ramdisk/kmer_union0.kmc_suf does not have compressed suffix\n",
      "in1: 100% in2: 100% \n"
     ]
    },
    {
     "name": "stdout",
     "output_type": "stream",
     "text": [
      "Genotypes remaining: 84\n"
     ]
    },
    {
     "name": "stderr",
     "output_type": "stream",
     "text": [
      "pigz: skipping: ramdisk/geno_kmers is a directory\n",
      "in1: 100% in2: 100% \n",
      "pigz: skipping: ramdisk/geno_kmers is a directory\n",
      "pigz: skipping: ramdisk/kmer_union0.kmc_pre does not have compressed suffix\n",
      "pigz: skipping: ramdisk/kmer_union0.kmc_suf does not have compressed suffix\n",
      "in1: 100% in2: 100% \n",
      "pigz: skipping: ramdisk/geno_kmers is a directory\n",
      "pigz: skipping: ramdisk/kmer_union1.kmc_pre does not have compressed suffix\n",
      "pigz: skipping: ramdisk/kmer_union1.kmc_suf does not have compressed suffix\n",
      "in1: 100% in2: 100% \n",
      "pigz: skipping: ramdisk/geno_kmers is a directory\n",
      "pigz: skipping: ramdisk/kmer_union0.kmc_pre does not have compressed suffix\n",
      "pigz: skipping: ramdisk/kmer_union0.kmc_suf does not have compressed suffix\n",
      "in1: 100% in2: 100% \n",
      "pigz: skipping: ramdisk/geno_kmers is a directory\n",
      "pigz: skipping: ramdisk/kmer_union1.kmc_pre does not have compressed suffix\n",
      "pigz: skipping: ramdisk/kmer_union1.kmc_suf does not have compressed suffix\n",
      "in1: 100% in2: 100% \n",
      "pigz: skipping: ramdisk/geno_kmers is a directory\n",
      "pigz: skipping: ramdisk/kmer_union0.kmc_pre does not have compressed suffix\n",
      "pigz: skipping: ramdisk/kmer_union0.kmc_suf does not have compressed suffix\n",
      "in1: 100% in2: 100% \n"
     ]
    },
    {
     "name": "stdout",
     "output_type": "stream",
     "text": [
      "Genotypes remaining: 83\n"
     ]
    },
    {
     "name": "stderr",
     "output_type": "stream",
     "text": [
      "pigz: skipping: ramdisk/geno_kmers is a directory\n",
      "in1: 100% in2: 100% \n",
      "pigz: skipping: ramdisk/geno_kmers is a directory\n",
      "pigz: skipping: ramdisk/kmer_union0.kmc_pre does not have compressed suffix\n",
      "pigz: skipping: ramdisk/kmer_union0.kmc_suf does not have compressed suffix\n",
      "in1: 100% in2: 100% \n",
      "pigz: skipping: ramdisk/geno_kmers is a directory\n",
      "pigz: skipping: ramdisk/kmer_union1.kmc_pre does not have compressed suffix\n",
      "pigz: skipping: ramdisk/kmer_union1.kmc_suf does not have compressed suffix\n",
      "in1: 100% in2: 100% \n",
      "pigz: skipping: ramdisk/geno_kmers is a directory\n",
      "pigz: skipping: ramdisk/kmer_union0.kmc_pre does not have compressed suffix\n",
      "pigz: skipping: ramdisk/kmer_union0.kmc_suf does not have compressed suffix\n",
      "in1: 100% in2: 100% \n",
      "pigz: skipping: ramdisk/geno_kmers is a directory\n",
      "pigz: skipping: ramdisk/kmer_union1.kmc_pre does not have compressed suffix\n",
      "pigz: skipping: ramdisk/kmer_union1.kmc_suf does not have compressed suffix\n",
      "in1: 100% in2: 100% \n"
     ]
    },
    {
     "name": "stdout",
     "output_type": "stream",
     "text": [
      "Genotypes remaining: 82\n"
     ]
    },
    {
     "name": "stderr",
     "output_type": "stream",
     "text": [
      "pigz: skipping: ramdisk/geno_kmers is a directory\n"
     ]
    },
    {
     "name": "stdout",
     "output_type": "stream",
     "text": [
      "Genotypes remaining: 81\n"
     ]
    },
    {
     "name": "stderr",
     "output_type": "stream",
     "text": [
      "pigz: skipping: ramdisk/geno_kmers is a directory\n",
      "in1: 100% in2: 100% \n",
      "pigz: skipping: ramdisk/geno_kmers is a directory\n",
      "pigz: skipping: ramdisk/kmer_union0.kmc_pre does not have compressed suffix\n",
      "pigz: skipping: ramdisk/kmer_union0.kmc_suf does not have compressed suffix\n",
      "in1: 100% in2: 100% 59% in2: 70% \n",
      "pigz: skipping: ramdisk/geno_kmers is a directory\n",
      "pigz: skipping: ramdisk/kmer_union1.kmc_pre does not have compressed suffix\n",
      "pigz: skipping: ramdisk/kmer_union1.kmc_suf does not have compressed suffix\n",
      "in1: 100% in2: 100% \n",
      "pigz: skipping: ramdisk/geno_kmers is a directory\n",
      "pigz: skipping: ramdisk/kmer_union0.kmc_pre does not have compressed suffix\n",
      "pigz: skipping: ramdisk/kmer_union0.kmc_suf does not have compressed suffix\n",
      "in1: 100% in2: 100% \n",
      "pigz: skipping: ramdisk/geno_kmers is a directory\n",
      "pigz: skipping: ramdisk/kmer_union1.kmc_pre does not have compressed suffix\n",
      "pigz: skipping: ramdisk/kmer_union1.kmc_suf does not have compressed suffix\n",
      "in1: 100% in2: 100% \n",
      "pigz: skipping: ramdisk/geno_kmers is a directory\n",
      "pigz: skipping: ramdisk/kmer_union0.kmc_pre does not have compressed suffix\n",
      "pigz: skipping: ramdisk/kmer_union0.kmc_suf does not have compressed suffix\n",
      "in1: 100% in2: 100% \n"
     ]
    },
    {
     "name": "stdout",
     "output_type": "stream",
     "text": [
      "Genotypes remaining: 80\n"
     ]
    },
    {
     "name": "stderr",
     "output_type": "stream",
     "text": [
      "pigz: skipping: ramdisk/geno_kmers is a directory\n",
      "in1: 100% in2: 100% \n",
      "pigz: skipping: ramdisk/geno_kmers is a directory\n",
      "pigz: skipping: ramdisk/kmer_union0.kmc_pre does not have compressed suffix\n",
      "pigz: skipping: ramdisk/kmer_union0.kmc_suf does not have compressed suffix\n",
      "in1: 100% in2: 100% \n",
      "pigz: skipping: ramdisk/geno_kmers is a directory\n",
      "pigz: skipping: ramdisk/kmer_union1.kmc_pre does not have compressed suffix\n",
      "pigz: skipping: ramdisk/kmer_union1.kmc_suf does not have compressed suffix\n",
      "in1: 100% in2: 100% \n",
      "pigz: skipping: ramdisk/geno_kmers is a directory\n",
      "pigz: skipping: ramdisk/kmer_union0.kmc_pre does not have compressed suffix\n",
      "pigz: skipping: ramdisk/kmer_union0.kmc_suf does not have compressed suffix\n",
      "in1: 100% in2: 100% \n",
      "pigz: skipping: ramdisk/geno_kmers is a directory\n",
      "pigz: skipping: ramdisk/kmer_union1.kmc_pre does not have compressed suffix\n",
      "pigz: skipping: ramdisk/kmer_union1.kmc_suf does not have compressed suffix\n",
      "in1: 100% in2: 100% \n",
      "pigz: skipping: ramdisk/geno_kmers is a directory\n",
      "pigz: skipping: ramdisk/kmer_union0.kmc_pre does not have compressed suffix\n",
      "pigz: skipping: ramdisk/kmer_union0.kmc_suf does not have compressed suffix\n",
      "in1: 100% in2: 100% \n"
     ]
    },
    {
     "name": "stdout",
     "output_type": "stream",
     "text": [
      "Genotypes remaining: 79\n"
     ]
    },
    {
     "name": "stderr",
     "output_type": "stream",
     "text": [
      "pigz: skipping: ramdisk/geno_kmers is a directory\n",
      "in1: 100% in2: 100% \n",
      "pigz: skipping: ramdisk/geno_kmers is a directory\n",
      "pigz: skipping: ramdisk/kmer_union0.kmc_pre does not have compressed suffix\n",
      "pigz: skipping: ramdisk/kmer_union0.kmc_suf does not have compressed suffix\n",
      "in1: 100% in2: 100% \n",
      "pigz: skipping: ramdisk/geno_kmers is a directory\n",
      "pigz: skipping: ramdisk/kmer_union1.kmc_pre does not have compressed suffix\n",
      "pigz: skipping: ramdisk/kmer_union1.kmc_suf does not have compressed suffix\n",
      "in1: 100% in2: 100% \n",
      "pigz: skipping: ramdisk/geno_kmers is a directory\n",
      "pigz: skipping: ramdisk/kmer_union0.kmc_pre does not have compressed suffix\n",
      "pigz: skipping: ramdisk/kmer_union0.kmc_suf does not have compressed suffix\n",
      "in1: 100% in2: 100% 45% in2: 58% \n",
      "pigz: skipping: ramdisk/geno_kmers is a directory\n",
      "pigz: skipping: ramdisk/kmer_union1.kmc_pre does not have compressed suffix\n",
      "pigz: skipping: ramdisk/kmer_union1.kmc_suf does not have compressed suffix\n",
      "in1: 100% in2: 100% \n",
      "pigz: skipping: ramdisk/geno_kmers is a directory\n",
      "pigz: skipping: ramdisk/kmer_union0.kmc_pre does not have compressed suffix\n",
      "pigz: skipping: ramdisk/kmer_union0.kmc_suf does not have compressed suffix\n",
      "in1: 100% in2: 100% \n"
     ]
    },
    {
     "name": "stdout",
     "output_type": "stream",
     "text": [
      "Genotypes remaining: 78\n"
     ]
    },
    {
     "name": "stderr",
     "output_type": "stream",
     "text": [
      "pigz: skipping: ramdisk/geno_kmers is a directory\n",
      "in1: 100% in2: 100% \n",
      "pigz: skipping: ramdisk/geno_kmers is a directory\n",
      "pigz: skipping: ramdisk/kmer_union0.kmc_pre does not have compressed suffix\n",
      "pigz: skipping: ramdisk/kmer_union0.kmc_suf does not have compressed suffix\n",
      "in1: 100% in2: 100% \n",
      "pigz: skipping: ramdisk/geno_kmers is a directory\n",
      "pigz: skipping: ramdisk/kmer_union1.kmc_pre does not have compressed suffix\n",
      "pigz: skipping: ramdisk/kmer_union1.kmc_suf does not have compressed suffix\n",
      "in1: 100% in2: 100% \n",
      "pigz: skipping: ramdisk/geno_kmers is a directory\n",
      "pigz: skipping: ramdisk/kmer_union0.kmc_pre does not have compressed suffix\n",
      "pigz: skipping: ramdisk/kmer_union0.kmc_suf does not have compressed suffix\n",
      "in1: 100% in2: 100% \n",
      "pigz: skipping: ramdisk/geno_kmers is a directory\n",
      "pigz: skipping: ramdisk/kmer_union1.kmc_pre does not have compressed suffix\n",
      "pigz: skipping: ramdisk/kmer_union1.kmc_suf does not have compressed suffix\n",
      "in1: 100% in2: 100% \n",
      "pigz: skipping: ramdisk/geno_kmers is a directory\n",
      "pigz: skipping: ramdisk/kmer_union0.kmc_pre does not have compressed suffix\n",
      "pigz: skipping: ramdisk/kmer_union0.kmc_suf does not have compressed suffix\n",
      "in1: 100% in2: 100% \n"
     ]
    },
    {
     "name": "stdout",
     "output_type": "stream",
     "text": [
      "Genotypes remaining: 77\n"
     ]
    },
    {
     "name": "stderr",
     "output_type": "stream",
     "text": [
      "pigz: skipping: ramdisk/geno_kmers is a directory\n",
      "in1: 100% in2: 100% \n",
      "pigz: skipping: ramdisk/geno_kmers is a directory\n",
      "pigz: skipping: ramdisk/kmer_union0.kmc_pre does not have compressed suffix\n",
      "pigz: skipping: ramdisk/kmer_union0.kmc_suf does not have compressed suffix\n",
      "in1: 100% in2: 100% \n",
      "pigz: skipping: ramdisk/geno_kmers is a directory\n",
      "pigz: skipping: ramdisk/kmer_union1.kmc_pre does not have compressed suffix\n",
      "pigz: skipping: ramdisk/kmer_union1.kmc_suf does not have compressed suffix\n",
      "in1: 100% in2: 100% \n",
      "pigz: skipping: ramdisk/geno_kmers is a directory\n",
      "pigz: skipping: ramdisk/kmer_union0.kmc_pre does not have compressed suffix\n",
      "pigz: skipping: ramdisk/kmer_union0.kmc_suf does not have compressed suffix\n",
      "in1: 100% in2: 100% \n",
      "pigz: skipping: ramdisk/geno_kmers is a directory\n",
      "pigz: skipping: ramdisk/kmer_union1.kmc_pre does not have compressed suffix\n",
      "pigz: skipping: ramdisk/kmer_union1.kmc_suf does not have compressed suffix\n",
      "in1: 100% in2: 100% \n",
      "pigz: skipping: ramdisk/geno_kmers is a directory\n",
      "pigz: skipping: ramdisk/kmer_union0.kmc_pre does not have compressed suffix\n",
      "pigz: skipping: ramdisk/kmer_union0.kmc_suf does not have compressed suffix\n",
      "in1: 100% in2: 100% \n"
     ]
    },
    {
     "name": "stdout",
     "output_type": "stream",
     "text": [
      "Genotypes remaining: 76\n"
     ]
    },
    {
     "name": "stderr",
     "output_type": "stream",
     "text": [
      "pigz: skipping: ramdisk/geno_kmers is a directory\n",
      "in1: 100% in2: 100% \n",
      "pigz: skipping: ramdisk/geno_kmers is a directory\n",
      "pigz: skipping: ramdisk/kmer_union0.kmc_pre does not have compressed suffix\n",
      "pigz: skipping: ramdisk/kmer_union0.kmc_suf does not have compressed suffix\n",
      "in1: 100% in2: 100% \n",
      "pigz: skipping: ramdisk/geno_kmers is a directory\n",
      "pigz: skipping: ramdisk/kmer_union1.kmc_pre does not have compressed suffix\n",
      "pigz: skipping: ramdisk/kmer_union1.kmc_suf does not have compressed suffix\n",
      "in1: 100% in2: 100% \n",
      "pigz: skipping: ramdisk/geno_kmers is a directory\n",
      "pigz: skipping: ramdisk/kmer_union0.kmc_pre does not have compressed suffix\n",
      "pigz: skipping: ramdisk/kmer_union0.kmc_suf does not have compressed suffix\n",
      "in1: 100% in2: 100% \n",
      "pigz: skipping: ramdisk/geno_kmers is a directory\n",
      "pigz: skipping: ramdisk/kmer_union1.kmc_pre does not have compressed suffix\n",
      "pigz: skipping: ramdisk/kmer_union1.kmc_suf does not have compressed suffix\n",
      "in1: 100% in2: 100% \n",
      "pigz: skipping: ramdisk/geno_kmers is a directory\n",
      "pigz: skipping: ramdisk/kmer_union0.kmc_pre does not have compressed suffix\n",
      "pigz: skipping: ramdisk/kmer_union0.kmc_suf does not have compressed suffix\n",
      "in1: 100% in2: 100% \n",
      "pigz: skipping: ramdisk/geno_kmers is a directory\n",
      "pigz: skipping: ramdisk/kmer_union1.kmc_pre does not have compressed suffix\n",
      "pigz: skipping: ramdisk/kmer_union1.kmc_suf does not have compressed suffix\n",
      "in1: 100% in2: 100% \n",
      "pigz: skipping: ramdisk/geno_kmers is a directory\n",
      "pigz: skipping: ramdisk/kmer_union0.kmc_pre does not have compressed suffix\n",
      "pigz: skipping: ramdisk/kmer_union0.kmc_suf does not have compressed suffix\n",
      "in1: 100% in2: 100% \n"
     ]
    },
    {
     "name": "stdout",
     "output_type": "stream",
     "text": [
      "Genotypes remaining: 75\n"
     ]
    },
    {
     "name": "stderr",
     "output_type": "stream",
     "text": [
      "pigz: skipping: ramdisk/geno_kmers is a directory\n",
      "in1: 100% in2: 100% \n"
     ]
    },
    {
     "name": "stdout",
     "output_type": "stream",
     "text": [
      "Genotypes remaining: 74\n"
     ]
    },
    {
     "name": "stderr",
     "output_type": "stream",
     "text": [
      "pigz: skipping: ramdisk/geno_kmers is a directory\n",
      "in1: 100% in2: 100% \n"
     ]
    },
    {
     "name": "stdout",
     "output_type": "stream",
     "text": [
      "Genotypes remaining: 73\n"
     ]
    },
    {
     "name": "stderr",
     "output_type": "stream",
     "text": [
      "pigz: skipping: ramdisk/geno_kmers is a directory\n",
      "in1: 100% in2: 100% \n",
      "pigz: skipping: ramdisk/geno_kmers is a directory\n",
      "pigz: skipping: ramdisk/kmer_union0.kmc_pre does not have compressed suffix\n",
      "pigz: skipping: ramdisk/kmer_union0.kmc_suf does not have compressed suffix\n",
      "in1: 100% in2: 100% \n",
      "pigz: skipping: ramdisk/geno_kmers is a directory\n",
      "pigz: skipping: ramdisk/kmer_union1.kmc_pre does not have compressed suffix\n",
      "pigz: skipping: ramdisk/kmer_union1.kmc_suf does not have compressed suffix\n",
      "in1: 100% in2: 100% \n",
      "pigz: skipping: ramdisk/geno_kmers is a directory\n",
      "pigz: skipping: ramdisk/kmer_union0.kmc_pre does not have compressed suffix\n",
      "pigz: skipping: ramdisk/kmer_union0.kmc_suf does not have compressed suffix\n",
      "in1: 100% in2: 100% \n",
      "pigz: skipping: ramdisk/geno_kmers is a directory\n",
      "pigz: skipping: ramdisk/kmer_union1.kmc_pre does not have compressed suffix\n",
      "pigz: skipping: ramdisk/kmer_union1.kmc_suf does not have compressed suffix\n",
      "in1: 100% in2: 100% \n",
      "pigz: skipping: ramdisk/geno_kmers is a directory\n",
      "pigz: skipping: ramdisk/kmer_union0.kmc_pre does not have compressed suffix\n",
      "pigz: skipping: ramdisk/kmer_union0.kmc_suf does not have compressed suffix\n",
      "in1: 100% in2: 100% \n"
     ]
    },
    {
     "name": "stdout",
     "output_type": "stream",
     "text": [
      "Genotypes remaining: 72\n"
     ]
    },
    {
     "name": "stderr",
     "output_type": "stream",
     "text": [
      "pigz: skipping: ramdisk/geno_kmers is a directory\n",
      "in1: 100% in2: 100% \n",
      "pigz: skipping: ramdisk/geno_kmers is a directory\n",
      "pigz: skipping: ramdisk/kmer_union0.kmc_pre does not have compressed suffix\n",
      "pigz: skipping: ramdisk/kmer_union0.kmc_suf does not have compressed suffix\n",
      "in1: 100% in2: 100% \n",
      "pigz: skipping: ramdisk/geno_kmers is a directory\n",
      "pigz: skipping: ramdisk/kmer_union1.kmc_pre does not have compressed suffix\n",
      "pigz: skipping: ramdisk/kmer_union1.kmc_suf does not have compressed suffix\n",
      "in1: 100% in2: 100% \n",
      "pigz: skipping: ramdisk/geno_kmers is a directory\n",
      "pigz: skipping: ramdisk/kmer_union0.kmc_pre does not have compressed suffix\n",
      "pigz: skipping: ramdisk/kmer_union0.kmc_suf does not have compressed suffix\n",
      "in1: 100% in2: 100% \n"
     ]
    },
    {
     "name": "stdout",
     "output_type": "stream",
     "text": [
      "Genotypes remaining: 71\n"
     ]
    },
    {
     "name": "stderr",
     "output_type": "stream",
     "text": [
      "pigz: skipping: ramdisk/geno_kmers is a directory\n",
      "in1: 100% in2: 100% \n",
      "pigz: skipping: ramdisk/geno_kmers is a directory\n",
      "pigz: skipping: ramdisk/kmer_union0.kmc_pre does not have compressed suffix\n",
      "pigz: skipping: ramdisk/kmer_union0.kmc_suf does not have compressed suffix\n",
      "in1: 100% in2: 100% \n",
      "pigz: skipping: ramdisk/geno_kmers is a directory\n",
      "pigz: skipping: ramdisk/kmer_union1.kmc_pre does not have compressed suffix\n",
      "pigz: skipping: ramdisk/kmer_union1.kmc_suf does not have compressed suffix\n",
      "in1: 100% in2: 100% \n",
      "pigz: skipping: ramdisk/geno_kmers is a directory\n",
      "pigz: skipping: ramdisk/kmer_union0.kmc_pre does not have compressed suffix\n",
      "pigz: skipping: ramdisk/kmer_union0.kmc_suf does not have compressed suffix\n",
      "in1: 100% in2: 100% \n",
      "pigz: skipping: ramdisk/geno_kmers is a directory\n",
      "pigz: skipping: ramdisk/kmer_union1.kmc_pre does not have compressed suffix\n",
      "pigz: skipping: ramdisk/kmer_union1.kmc_suf does not have compressed suffix\n",
      "in1: 100% in2: 100% \n"
     ]
    },
    {
     "name": "stdout",
     "output_type": "stream",
     "text": [
      "Genotypes remaining: 70\n"
     ]
    },
    {
     "name": "stderr",
     "output_type": "stream",
     "text": [
      "pigz: skipping: ramdisk/geno_kmers is a directory\n",
      "in1: 100% in2: 100% \n",
      "pigz: skipping: ramdisk/geno_kmers is a directory\n",
      "pigz: skipping: ramdisk/kmer_union0.kmc_pre does not have compressed suffix\n",
      "pigz: skipping: ramdisk/kmer_union0.kmc_suf does not have compressed suffix\n",
      "in1: 100% in2: 100% \n",
      "pigz: skipping: ramdisk/geno_kmers is a directory\n",
      "pigz: skipping: ramdisk/kmer_union1.kmc_pre does not have compressed suffix\n",
      "pigz: skipping: ramdisk/kmer_union1.kmc_suf does not have compressed suffix\n",
      "in1: 100% in2: 100% \n",
      "pigz: skipping: ramdisk/geno_kmers is a directory\n",
      "pigz: skipping: ramdisk/kmer_union0.kmc_pre does not have compressed suffix\n",
      "pigz: skipping: ramdisk/kmer_union0.kmc_suf does not have compressed suffix\n",
      "in1: 100% in2: 100% \n",
      "pigz: skipping: ramdisk/geno_kmers is a directory\n",
      "pigz: skipping: ramdisk/kmer_union1.kmc_pre does not have compressed suffix\n",
      "pigz: skipping: ramdisk/kmer_union1.kmc_suf does not have compressed suffix\n",
      "in1: 100% in2: 100% \n",
      "pigz: skipping: ramdisk/geno_kmers is a directory\n",
      "pigz: skipping: ramdisk/kmer_union0.kmc_pre does not have compressed suffix\n",
      "pigz: skipping: ramdisk/kmer_union0.kmc_suf does not have compressed suffix\n",
      "in1: 100% in2: 100% \n"
     ]
    },
    {
     "name": "stdout",
     "output_type": "stream",
     "text": [
      "Genotypes remaining: 69\n"
     ]
    },
    {
     "name": "stderr",
     "output_type": "stream",
     "text": [
      "pigz: skipping: ramdisk/geno_kmers is a directory\n",
      "in1: 100% in2: 100% \n",
      "pigz: skipping: ramdisk/geno_kmers is a directory\n",
      "pigz: skipping: ramdisk/kmer_union0.kmc_pre does not have compressed suffix\n",
      "pigz: skipping: ramdisk/kmer_union0.kmc_suf does not have compressed suffix\n",
      "in1: 100% in2: 100% \n",
      "pigz: skipping: ramdisk/geno_kmers is a directory\n",
      "pigz: skipping: ramdisk/kmer_union1.kmc_pre does not have compressed suffix\n",
      "pigz: skipping: ramdisk/kmer_union1.kmc_suf does not have compressed suffix\n",
      "in1: 100% in2: 100% \n",
      "pigz: skipping: ramdisk/geno_kmers is a directory\n",
      "pigz: skipping: ramdisk/kmer_union0.kmc_pre does not have compressed suffix\n",
      "pigz: skipping: ramdisk/kmer_union0.kmc_suf does not have compressed suffix\n",
      "in1: 100% in2: 100% \n",
      "pigz: skipping: ramdisk/geno_kmers is a directory\n",
      "pigz: skipping: ramdisk/kmer_union1.kmc_pre does not have compressed suffix\n",
      "pigz: skipping: ramdisk/kmer_union1.kmc_suf does not have compressed suffix\n",
      "in1: 100% in2: 100% \n"
     ]
    },
    {
     "name": "stdout",
     "output_type": "stream",
     "text": [
      "Genotypes remaining: 68\n"
     ]
    },
    {
     "name": "stderr",
     "output_type": "stream",
     "text": [
      "pigz: skipping: ramdisk/geno_kmers is a directory\n",
      "in1: 100% in2: 100% \n",
      "pigz: skipping: ramdisk/geno_kmers is a directory\n",
      "pigz: skipping: ramdisk/kmer_union0.kmc_pre does not have compressed suffix\n",
      "pigz: skipping: ramdisk/kmer_union0.kmc_suf does not have compressed suffix\n",
      "in1: 100% in2: 100% \n",
      "pigz: skipping: ramdisk/geno_kmers is a directory\n",
      "pigz: skipping: ramdisk/kmer_union1.kmc_pre does not have compressed suffix\n",
      "pigz: skipping: ramdisk/kmer_union1.kmc_suf does not have compressed suffix\n",
      "in1: 100% in2: 100% \n",
      "pigz: skipping: ramdisk/geno_kmers is a directory\n",
      "pigz: skipping: ramdisk/kmer_union0.kmc_pre does not have compressed suffix\n",
      "pigz: skipping: ramdisk/kmer_union0.kmc_suf does not have compressed suffix\n",
      "in1: 100% in2: 100% % in2: 42% \n",
      "pigz: skipping: ramdisk/geno_kmers is a directory\n",
      "pigz: skipping: ramdisk/kmer_union1.kmc_pre does not have compressed suffix\n",
      "pigz: skipping: ramdisk/kmer_union1.kmc_suf does not have compressed suffix\n",
      "in1: 100% in2: 100% \n",
      "pigz: skipping: ramdisk/geno_kmers is a directory\n",
      "pigz: skipping: ramdisk/kmer_union0.kmc_pre does not have compressed suffix\n",
      "pigz: skipping: ramdisk/kmer_union0.kmc_suf does not have compressed suffix\n",
      "in1: 100% in2: 100% \n"
     ]
    },
    {
     "name": "stdout",
     "output_type": "stream",
     "text": [
      "Genotypes remaining: 67\n"
     ]
    },
    {
     "name": "stderr",
     "output_type": "stream",
     "text": [
      "pigz: skipping: ramdisk/geno_kmers is a directory\n",
      "in1: 100% in2: 100% \n",
      "pigz: skipping: ramdisk/geno_kmers is a directory\n",
      "pigz: skipping: ramdisk/kmer_union0.kmc_pre does not have compressed suffix\n",
      "pigz: skipping: ramdisk/kmer_union0.kmc_suf does not have compressed suffix\n",
      "in1: 100% in2: 100% \n",
      "pigz: skipping: ramdisk/geno_kmers is a directory\n",
      "pigz: skipping: ramdisk/kmer_union1.kmc_pre does not have compressed suffix\n",
      "pigz: skipping: ramdisk/kmer_union1.kmc_suf does not have compressed suffix\n",
      "in1: 100% in2: 100% \n",
      "pigz: skipping: ramdisk/geno_kmers is a directory\n",
      "pigz: skipping: ramdisk/kmer_union0.kmc_pre does not have compressed suffix\n",
      "pigz: skipping: ramdisk/kmer_union0.kmc_suf does not have compressed suffix\n",
      "in1: 100% in2: 100% \n",
      "pigz: skipping: ramdisk/geno_kmers is a directory\n",
      "pigz: skipping: ramdisk/kmer_union1.kmc_pre does not have compressed suffix\n",
      "pigz: skipping: ramdisk/kmer_union1.kmc_suf does not have compressed suffix\n",
      "in1: 100% in2: 100% \n",
      "pigz: skipping: ramdisk/geno_kmers is a directory\n",
      "pigz: skipping: ramdisk/kmer_union0.kmc_pre does not have compressed suffix\n",
      "pigz: skipping: ramdisk/kmer_union0.kmc_suf does not have compressed suffix\n",
      "in1: 100% in2: 100% \n"
     ]
    },
    {
     "name": "stdout",
     "output_type": "stream",
     "text": [
      "Genotypes remaining: 66\n"
     ]
    },
    {
     "name": "stderr",
     "output_type": "stream",
     "text": [
      "pigz: skipping: ramdisk/geno_kmers is a directory\n",
      "in1: 100% in2: 100% \n",
      "pigz: skipping: ramdisk/geno_kmers is a directory\n",
      "pigz: skipping: ramdisk/kmer_union0.kmc_pre does not have compressed suffix\n",
      "pigz: skipping: ramdisk/kmer_union0.kmc_suf does not have compressed suffix\n",
      "in1: 100% in2: 100% \n",
      "pigz: skipping: ramdisk/geno_kmers is a directory\n",
      "pigz: skipping: ramdisk/kmer_union1.kmc_pre does not have compressed suffix\n",
      "pigz: skipping: ramdisk/kmer_union1.kmc_suf does not have compressed suffix\n",
      "in1: 100% in2: 100% \n",
      "pigz: skipping: ramdisk/geno_kmers is a directory\n",
      "pigz: skipping: ramdisk/kmer_union0.kmc_pre does not have compressed suffix\n",
      "pigz: skipping: ramdisk/kmer_union0.kmc_suf does not have compressed suffix\n",
      "in1: 100% in2: 100% \n",
      "pigz: skipping: ramdisk/geno_kmers is a directory\n",
      "pigz: skipping: ramdisk/kmer_union1.kmc_pre does not have compressed suffix\n",
      "pigz: skipping: ramdisk/kmer_union1.kmc_suf does not have compressed suffix\n",
      "in1: 100% in2: 100% \n",
      "pigz: skipping: ramdisk/geno_kmers is a directory\n",
      "pigz: skipping: ramdisk/kmer_union0.kmc_pre does not have compressed suffix\n",
      "pigz: skipping: ramdisk/kmer_union0.kmc_suf does not have compressed suffix\n",
      "in1: 100% in2: 100% \n"
     ]
    },
    {
     "name": "stdout",
     "output_type": "stream",
     "text": [
      "Genotypes remaining: 65\n"
     ]
    },
    {
     "name": "stderr",
     "output_type": "stream",
     "text": [
      "pigz: skipping: ramdisk/geno_kmers is a directory\n",
      "in1: 100% in2: 100% \n",
      "pigz: skipping: ramdisk/geno_kmers is a directory\n",
      "pigz: skipping: ramdisk/kmer_union0.kmc_pre does not have compressed suffix\n",
      "pigz: skipping: ramdisk/kmer_union0.kmc_suf does not have compressed suffix\n",
      "in1: 100% in2: 100% \n",
      "pigz: skipping: ramdisk/geno_kmers is a directory\n",
      "pigz: skipping: ramdisk/kmer_union1.kmc_pre does not have compressed suffix\n",
      "pigz: skipping: ramdisk/kmer_union1.kmc_suf does not have compressed suffix\n",
      "in1: 100% in2: 100% \n",
      "pigz: skipping: ramdisk/geno_kmers is a directory\n",
      "pigz: skipping: ramdisk/kmer_union0.kmc_pre does not have compressed suffix\n",
      "pigz: skipping: ramdisk/kmer_union0.kmc_suf does not have compressed suffix\n",
      "in1: 100% in2: 100% % in2: 44% \n",
      "pigz: skipping: ramdisk/geno_kmers is a directory\n",
      "pigz: skipping: ramdisk/kmer_union1.kmc_pre does not have compressed suffix\n",
      "pigz: skipping: ramdisk/kmer_union1.kmc_suf does not have compressed suffix\n",
      "in1: 100% in2: 100% \n"
     ]
    },
    {
     "name": "stdout",
     "output_type": "stream",
     "text": [
      "Genotypes remaining: 64\n"
     ]
    },
    {
     "name": "stderr",
     "output_type": "stream",
     "text": [
      "pigz: skipping: ramdisk/geno_kmers is a directory\n",
      "in1: 100% in2: 100% \n",
      "pigz: skipping: ramdisk/geno_kmers is a directory\n",
      "pigz: skipping: ramdisk/kmer_union0.kmc_pre does not have compressed suffix\n",
      "pigz: skipping: ramdisk/kmer_union0.kmc_suf does not have compressed suffix\n",
      "in1: 100% in2: 100% \n",
      "pigz: skipping: ramdisk/geno_kmers is a directory\n",
      "pigz: skipping: ramdisk/kmer_union1.kmc_pre does not have compressed suffix\n",
      "pigz: skipping: ramdisk/kmer_union1.kmc_suf does not have compressed suffix\n",
      "in1: 100% in2: 100% \n",
      "pigz: skipping: ramdisk/geno_kmers is a directory\n",
      "pigz: skipping: ramdisk/kmer_union0.kmc_pre does not have compressed suffix\n",
      "pigz: skipping: ramdisk/kmer_union0.kmc_suf does not have compressed suffix\n",
      "in1: 100% in2: 100% \n",
      "pigz: skipping: ramdisk/geno_kmers is a directory\n",
      "pigz: skipping: ramdisk/kmer_union1.kmc_pre does not have compressed suffix\n",
      "pigz: skipping: ramdisk/kmer_union1.kmc_suf does not have compressed suffix\n",
      "in1: 100% in2: 100% \n",
      "pigz: skipping: ramdisk/geno_kmers is a directory\n",
      "pigz: skipping: ramdisk/kmer_union0.kmc_pre does not have compressed suffix\n",
      "pigz: skipping: ramdisk/kmer_union0.kmc_suf does not have compressed suffix\n",
      "in1: 100% in2: 100% \n",
      "pigz: skipping: ramdisk/geno_kmers is a directory\n",
      "pigz: skipping: ramdisk/kmer_union1.kmc_pre does not have compressed suffix\n",
      "pigz: skipping: ramdisk/kmer_union1.kmc_suf does not have compressed suffix\n",
      "in1: 100% in2: 100% \n",
      "pigz: skipping: ramdisk/geno_kmers is a directory\n",
      "pigz: skipping: ramdisk/kmer_union0.kmc_pre does not have compressed suffix\n",
      "pigz: skipping: ramdisk/kmer_union0.kmc_suf does not have compressed suffix\n",
      "in1: 100% in2: 100% \n",
      "pigz: skipping: ramdisk/geno_kmers is a directory\n",
      "pigz: skipping: ramdisk/kmer_union1.kmc_pre does not have compressed suffix\n",
      "pigz: skipping: ramdisk/kmer_union1.kmc_suf does not have compressed suffix\n",
      "in1: 100% in2: 100% \n"
     ]
    },
    {
     "name": "stdout",
     "output_type": "stream",
     "text": [
      "Genotypes remaining: 63\n"
     ]
    },
    {
     "name": "stderr",
     "output_type": "stream",
     "text": [
      "pigz: skipping: ramdisk/geno_kmers is a directory\n",
      "in1: 100% in2: 100% \n",
      "pigz: skipping: ramdisk/geno_kmers is a directory\n",
      "pigz: skipping: ramdisk/kmer_union0.kmc_pre does not have compressed suffix\n",
      "pigz: skipping: ramdisk/kmer_union0.kmc_suf does not have compressed suffix\n",
      "in1: 100% in2: 100% \n",
      "pigz: skipping: ramdisk/geno_kmers is a directory\n",
      "pigz: skipping: ramdisk/kmer_union1.kmc_pre does not have compressed suffix\n",
      "pigz: skipping: ramdisk/kmer_union1.kmc_suf does not have compressed suffix\n",
      "in1: 100% in2: 100% \n",
      "pigz: skipping: ramdisk/geno_kmers is a directory\n",
      "pigz: skipping: ramdisk/kmer_union0.kmc_pre does not have compressed suffix\n",
      "pigz: skipping: ramdisk/kmer_union0.kmc_suf does not have compressed suffix\n",
      "in1: 100% in2: 100% \n",
      "pigz: skipping: ramdisk/geno_kmers is a directory\n",
      "pigz: skipping: ramdisk/kmer_union1.kmc_pre does not have compressed suffix\n",
      "pigz: skipping: ramdisk/kmer_union1.kmc_suf does not have compressed suffix\n",
      "in1: 100% in2: 100% \n",
      "pigz: skipping: ramdisk/geno_kmers is a directory\n",
      "pigz: skipping: ramdisk/kmer_union0.kmc_pre does not have compressed suffix\n",
      "pigz: skipping: ramdisk/kmer_union0.kmc_suf does not have compressed suffix\n",
      "in1: 100% in2: 100% \n",
      "pigz: skipping: ramdisk/geno_kmers is a directory\n",
      "pigz: skipping: ramdisk/kmer_union1.kmc_pre does not have compressed suffix\n",
      "pigz: skipping: ramdisk/kmer_union1.kmc_suf does not have compressed suffix\n",
      "in1: 100% in2: 100% \n"
     ]
    },
    {
     "name": "stdout",
     "output_type": "stream",
     "text": [
      "Genotypes remaining: 62\n"
     ]
    },
    {
     "name": "stderr",
     "output_type": "stream",
     "text": [
      "pigz: skipping: ramdisk/geno_kmers is a directory\n",
      "in1: 100% in2: 100% \n",
      "pigz: skipping: ramdisk/geno_kmers is a directory\n",
      "pigz: skipping: ramdisk/kmer_union0.kmc_pre does not have compressed suffix\n",
      "pigz: skipping: ramdisk/kmer_union0.kmc_suf does not have compressed suffix\n",
      "in1: 100% in2: 100% \n",
      "pigz: skipping: ramdisk/geno_kmers is a directory\n",
      "pigz: skipping: ramdisk/kmer_union1.kmc_pre does not have compressed suffix\n",
      "pigz: skipping: ramdisk/kmer_union1.kmc_suf does not have compressed suffix\n",
      "in1: 100% in2: 100% \n",
      "pigz: skipping: ramdisk/geno_kmers is a directory\n",
      "pigz: skipping: ramdisk/kmer_union0.kmc_pre does not have compressed suffix\n",
      "pigz: skipping: ramdisk/kmer_union0.kmc_suf does not have compressed suffix\n",
      "in1: 100% in2: 100% \n",
      "pigz: skipping: ramdisk/geno_kmers is a directory\n",
      "pigz: skipping: ramdisk/kmer_union1.kmc_pre does not have compressed suffix\n",
      "pigz: skipping: ramdisk/kmer_union1.kmc_suf does not have compressed suffix\n",
      "in1: 100% in2: 100% \n"
     ]
    },
    {
     "name": "stdout",
     "output_type": "stream",
     "text": [
      "Genotypes remaining: 61\n"
     ]
    },
    {
     "name": "stderr",
     "output_type": "stream",
     "text": [
      "pigz: skipping: ramdisk/geno_kmers is a directory\n",
      "in1: 100% in2: 100% \n",
      "pigz: skipping: ramdisk/geno_kmers is a directory\n",
      "pigz: skipping: ramdisk/kmer_union0.kmc_pre does not have compressed suffix\n",
      "pigz: skipping: ramdisk/kmer_union0.kmc_suf does not have compressed suffix\n",
      "in1: 100% in2: 100% \n",
      "pigz: skipping: ramdisk/geno_kmers is a directory\n",
      "pigz: skipping: ramdisk/kmer_union1.kmc_pre does not have compressed suffix\n",
      "pigz: skipping: ramdisk/kmer_union1.kmc_suf does not have compressed suffix\n",
      "in1: 100% in2: 100% \n"
     ]
    },
    {
     "name": "stdout",
     "output_type": "stream",
     "text": [
      "Genotypes remaining: 60\n"
     ]
    },
    {
     "name": "stderr",
     "output_type": "stream",
     "text": [
      "pigz: skipping: ramdisk/geno_kmers is a directory\n",
      "in1: 100% in2: 100% \n",
      "pigz: skipping: ramdisk/geno_kmers is a directory\n",
      "pigz: skipping: ramdisk/kmer_union0.kmc_pre does not have compressed suffix\n",
      "pigz: skipping: ramdisk/kmer_union0.kmc_suf does not have compressed suffix\n",
      "in1: 100% in2: 100% \n",
      "pigz: skipping: ramdisk/geno_kmers is a directory\n",
      "pigz: skipping: ramdisk/kmer_union1.kmc_pre does not have compressed suffix\n",
      "pigz: skipping: ramdisk/kmer_union1.kmc_suf does not have compressed suffix\n",
      "in1: 100% in2: 100% \n",
      "pigz: skipping: ramdisk/geno_kmers is a directory\n",
      "pigz: skipping: ramdisk/kmer_union0.kmc_pre does not have compressed suffix\n",
      "pigz: skipping: ramdisk/kmer_union0.kmc_suf does not have compressed suffix\n",
      "in1: 100% in2: 100% \n",
      "pigz: skipping: ramdisk/geno_kmers is a directory\n",
      "pigz: skipping: ramdisk/kmer_union1.kmc_pre does not have compressed suffix\n",
      "pigz: skipping: ramdisk/kmer_union1.kmc_suf does not have compressed suffix\n",
      "in1: 100% in2: 100% \n",
      "pigz: skipping: ramdisk/geno_kmers is a directory\n",
      "pigz: skipping: ramdisk/kmer_union0.kmc_pre does not have compressed suffix\n",
      "pigz: skipping: ramdisk/kmer_union0.kmc_suf does not have compressed suffix\n",
      "in1: 100% in2: 100% \n"
     ]
    },
    {
     "name": "stdout",
     "output_type": "stream",
     "text": [
      "Genotypes remaining: 59\n"
     ]
    },
    {
     "name": "stderr",
     "output_type": "stream",
     "text": [
      "pigz: skipping: ramdisk/geno_kmers is a directory\n"
     ]
    },
    {
     "name": "stdout",
     "output_type": "stream",
     "text": [
      "Genotypes remaining: 58\n"
     ]
    },
    {
     "name": "stderr",
     "output_type": "stream",
     "text": [
      "pigz: skipping: ramdisk/geno_kmers is a directory\n",
      "in1: 100% in2: 100% \n",
      "pigz: skipping: ramdisk/geno_kmers is a directory\n",
      "pigz: skipping: ramdisk/kmer_union0.kmc_pre does not have compressed suffix\n",
      "pigz: skipping: ramdisk/kmer_union0.kmc_suf does not have compressed suffix\n",
      "in1: 100% in2: 100% \n",
      "pigz: skipping: ramdisk/geno_kmers is a directory\n",
      "pigz: skipping: ramdisk/kmer_union1.kmc_pre does not have compressed suffix\n",
      "pigz: skipping: ramdisk/kmer_union1.kmc_suf does not have compressed suffix\n",
      "in1: 100% in2: 100% \n",
      "pigz: skipping: ramdisk/geno_kmers is a directory\n",
      "pigz: skipping: ramdisk/kmer_union0.kmc_pre does not have compressed suffix\n",
      "pigz: skipping: ramdisk/kmer_union0.kmc_suf does not have compressed suffix\n",
      "in1: 100% in2: 100% \n",
      "pigz: skipping: ramdisk/geno_kmers is a directory\n",
      "pigz: skipping: ramdisk/kmer_union1.kmc_pre does not have compressed suffix\n",
      "pigz: skipping: ramdisk/kmer_union1.kmc_suf does not have compressed suffix\n",
      "in1: 100% in2: 100% \n",
      "pigz: skipping: ramdisk/geno_kmers is a directory\n",
      "pigz: skipping: ramdisk/kmer_union0.kmc_pre does not have compressed suffix\n",
      "pigz: skipping: ramdisk/kmer_union0.kmc_suf does not have compressed suffix\n",
      "in1: 100% in2: 100% \n"
     ]
    },
    {
     "name": "stdout",
     "output_type": "stream",
     "text": [
      "Genotypes remaining: 57\n"
     ]
    },
    {
     "name": "stderr",
     "output_type": "stream",
     "text": [
      "pigz: skipping: ramdisk/geno_kmers is a directory\n",
      "in1: 100% in2: 100% \n"
     ]
    },
    {
     "name": "stdout",
     "output_type": "stream",
     "text": [
      "Genotypes remaining: 56\n"
     ]
    },
    {
     "name": "stderr",
     "output_type": "stream",
     "text": [
      "pigz: skipping: ramdisk/geno_kmers is a directory\n",
      "in1: 100% in2: 100% \n",
      "pigz: skipping: ramdisk/geno_kmers is a directory\n",
      "pigz: skipping: ramdisk/kmer_union0.kmc_pre does not have compressed suffix\n",
      "pigz: skipping: ramdisk/kmer_union0.kmc_suf does not have compressed suffix\n",
      "in1: 100% in2: 100% \n",
      "pigz: skipping: ramdisk/geno_kmers is a directory\n",
      "pigz: skipping: ramdisk/kmer_union1.kmc_pre does not have compressed suffix\n",
      "pigz: skipping: ramdisk/kmer_union1.kmc_suf does not have compressed suffix\n",
      "in1: 100% in2: 100% \n"
     ]
    },
    {
     "name": "stdout",
     "output_type": "stream",
     "text": [
      "Genotypes remaining: 55\n"
     ]
    },
    {
     "name": "stderr",
     "output_type": "stream",
     "text": [
      "pigz: skipping: ramdisk/geno_kmers is a directory\n",
      "in1: 100% in2: 100% \n",
      "pigz: skipping: ramdisk/geno_kmers is a directory\n",
      "pigz: skipping: ramdisk/kmer_union0.kmc_pre does not have compressed suffix\n",
      "pigz: skipping: ramdisk/kmer_union0.kmc_suf does not have compressed suffix\n",
      "in1: 100% in2: 100% \n",
      "pigz: skipping: ramdisk/geno_kmers is a directory\n",
      "pigz: skipping: ramdisk/kmer_union1.kmc_pre does not have compressed suffix\n",
      "pigz: skipping: ramdisk/kmer_union1.kmc_suf does not have compressed suffix\n",
      "in1: 100% in2: 100% \n",
      "pigz: skipping: ramdisk/geno_kmers is a directory\n",
      "pigz: skipping: ramdisk/kmer_union0.kmc_pre does not have compressed suffix\n",
      "pigz: skipping: ramdisk/kmer_union0.kmc_suf does not have compressed suffix\n",
      "in1: 100% in2: 100% \n",
      "pigz: skipping: ramdisk/geno_kmers is a directory\n",
      "pigz: skipping: ramdisk/kmer_union1.kmc_pre does not have compressed suffix\n",
      "pigz: skipping: ramdisk/kmer_union1.kmc_suf does not have compressed suffix\n",
      "in1: 100% in2: 100% \n",
      "pigz: skipping: ramdisk/geno_kmers is a directory\n",
      "pigz: skipping: ramdisk/kmer_union0.kmc_pre does not have compressed suffix\n",
      "pigz: skipping: ramdisk/kmer_union0.kmc_suf does not have compressed suffix\n",
      "in1: 100% in2: 100% \n"
     ]
    },
    {
     "name": "stdout",
     "output_type": "stream",
     "text": [
      "Genotypes remaining: 54\n"
     ]
    },
    {
     "name": "stderr",
     "output_type": "stream",
     "text": [
      "pigz: skipping: ramdisk/geno_kmers is a directory\n",
      "in1: 100% in2: 100% \n"
     ]
    },
    {
     "name": "stdout",
     "output_type": "stream",
     "text": [
      "Genotypes remaining: 53\n"
     ]
    },
    {
     "name": "stderr",
     "output_type": "stream",
     "text": [
      "pigz: skipping: ramdisk/geno_kmers is a directory\n",
      "in1: 100% in2: 100% \n",
      "pigz: skipping: ramdisk/geno_kmers is a directory\n",
      "pigz: skipping: ramdisk/kmer_union0.kmc_pre does not have compressed suffix\n",
      "pigz: skipping: ramdisk/kmer_union0.kmc_suf does not have compressed suffix\n",
      "in1: 100% in2: 100% \n",
      "pigz: skipping: ramdisk/geno_kmers is a directory\n",
      "pigz: skipping: ramdisk/kmer_union1.kmc_pre does not have compressed suffix\n",
      "pigz: skipping: ramdisk/kmer_union1.kmc_suf does not have compressed suffix\n",
      "in1: 100% in2: 100% \n",
      "pigz: skipping: ramdisk/geno_kmers is a directory\n",
      "pigz: skipping: ramdisk/kmer_union0.kmc_pre does not have compressed suffix\n",
      "pigz: skipping: ramdisk/kmer_union0.kmc_suf does not have compressed suffix\n",
      "in1: 100% in2: 100% \n",
      "pigz: skipping: ramdisk/geno_kmers is a directory\n",
      "pigz: skipping: ramdisk/kmer_union1.kmc_pre does not have compressed suffix\n",
      "pigz: skipping: ramdisk/kmer_union1.kmc_suf does not have compressed suffix\n",
      "in1: 100% in2: 100% \n",
      "pigz: skipping: ramdisk/geno_kmers is a directory\n",
      "pigz: skipping: ramdisk/kmer_union0.kmc_pre does not have compressed suffix\n",
      "pigz: skipping: ramdisk/kmer_union0.kmc_suf does not have compressed suffix\n",
      "in1: 100% in2: 100% \n"
     ]
    },
    {
     "name": "stdout",
     "output_type": "stream",
     "text": [
      "Genotypes remaining: 52\n"
     ]
    },
    {
     "name": "stderr",
     "output_type": "stream",
     "text": [
      "pigz: skipping: ramdisk/geno_kmers is a directory\n",
      "in1: 100% in2: 100% \n",
      "pigz: skipping: ramdisk/geno_kmers is a directory\n",
      "pigz: skipping: ramdisk/kmer_union0.kmc_pre does not have compressed suffix\n",
      "pigz: skipping: ramdisk/kmer_union0.kmc_suf does not have compressed suffix\n",
      "in1: 100% in2: 100% \n",
      "pigz: skipping: ramdisk/geno_kmers is a directory\n",
      "pigz: skipping: ramdisk/kmer_union1.kmc_pre does not have compressed suffix\n",
      "pigz: skipping: ramdisk/kmer_union1.kmc_suf does not have compressed suffix\n",
      "in1: 100% in2: 100% \n",
      "pigz: skipping: ramdisk/geno_kmers is a directory\n",
      "pigz: skipping: ramdisk/kmer_union0.kmc_pre does not have compressed suffix\n",
      "pigz: skipping: ramdisk/kmer_union0.kmc_suf does not have compressed suffix\n",
      "in1: 100% in2: 100% \n",
      "pigz: skipping: ramdisk/geno_kmers is a directory\n",
      "pigz: skipping: ramdisk/kmer_union1.kmc_pre does not have compressed suffix\n",
      "pigz: skipping: ramdisk/kmer_union1.kmc_suf does not have compressed suffix\n",
      "in1: 100% in2: 100% \n",
      "pigz: skipping: ramdisk/geno_kmers is a directory\n",
      "pigz: skipping: ramdisk/kmer_union0.kmc_pre does not have compressed suffix\n",
      "pigz: skipping: ramdisk/kmer_union0.kmc_suf does not have compressed suffix\n",
      "in1: 100% in2: 100% \n"
     ]
    },
    {
     "name": "stdout",
     "output_type": "stream",
     "text": [
      "Genotypes remaining: 51\n"
     ]
    },
    {
     "name": "stderr",
     "output_type": "stream",
     "text": [
      "pigz: skipping: ramdisk/geno_kmers is a directory\n",
      "in1: 100% in2: 100% \n",
      "pigz: skipping: ramdisk/geno_kmers is a directory\n",
      "pigz: skipping: ramdisk/kmer_union0.kmc_pre does not have compressed suffix\n",
      "pigz: skipping: ramdisk/kmer_union0.kmc_suf does not have compressed suffix\n",
      "in1: 100% in2: 100% \n",
      "pigz: skipping: ramdisk/geno_kmers is a directory\n",
      "pigz: skipping: ramdisk/kmer_union1.kmc_pre does not have compressed suffix\n",
      "pigz: skipping: ramdisk/kmer_union1.kmc_suf does not have compressed suffix\n",
      "in1: 100% in2: 100% \n",
      "pigz: skipping: ramdisk/geno_kmers is a directory\n",
      "pigz: skipping: ramdisk/kmer_union0.kmc_pre does not have compressed suffix\n",
      "pigz: skipping: ramdisk/kmer_union0.kmc_suf does not have compressed suffix\n",
      "in1: 100% in2: 100% \n",
      "pigz: skipping: ramdisk/geno_kmers is a directory\n",
      "pigz: skipping: ramdisk/kmer_union1.kmc_pre does not have compressed suffix\n",
      "pigz: skipping: ramdisk/kmer_union1.kmc_suf does not have compressed suffix\n",
      "in1: 100% in2: 100% \n"
     ]
    },
    {
     "name": "stdout",
     "output_type": "stream",
     "text": [
      "Genotypes remaining: 50\n"
     ]
    },
    {
     "name": "stderr",
     "output_type": "stream",
     "text": [
      "pigz: skipping: ramdisk/geno_kmers is a directory\n",
      "in1: 100% in2: 100% \n",
      "pigz: skipping: ramdisk/geno_kmers is a directory\n",
      "pigz: skipping: ramdisk/kmer_union0.kmc_pre does not have compressed suffix\n",
      "pigz: skipping: ramdisk/kmer_union0.kmc_suf does not have compressed suffix\n",
      "in1: 100% in2: 100% \n",
      "pigz: skipping: ramdisk/geno_kmers is a directory\n",
      "pigz: skipping: ramdisk/kmer_union1.kmc_pre does not have compressed suffix\n",
      "pigz: skipping: ramdisk/kmer_union1.kmc_suf does not have compressed suffix\n",
      "in1: 100% in2: 100% \n",
      "pigz: skipping: ramdisk/geno_kmers is a directory\n",
      "pigz: skipping: ramdisk/kmer_union0.kmc_pre does not have compressed suffix\n",
      "pigz: skipping: ramdisk/kmer_union0.kmc_suf does not have compressed suffix\n",
      "in1: 100% in2: 100% \n",
      "pigz: skipping: ramdisk/geno_kmers is a directory\n",
      "pigz: skipping: ramdisk/kmer_union1.kmc_pre does not have compressed suffix\n",
      "pigz: skipping: ramdisk/kmer_union1.kmc_suf does not have compressed suffix\n",
      "in1: 100% in2: 100% \n",
      "pigz: skipping: ramdisk/geno_kmers is a directory\n",
      "pigz: skipping: ramdisk/kmer_union0.kmc_pre does not have compressed suffix\n",
      "pigz: skipping: ramdisk/kmer_union0.kmc_suf does not have compressed suffix\n",
      "in1: 100% in2: 100% \n",
      "pigz: skipping: ramdisk/geno_kmers is a directory\n",
      "pigz: skipping: ramdisk/kmer_union1.kmc_pre does not have compressed suffix\n",
      "pigz: skipping: ramdisk/kmer_union1.kmc_suf does not have compressed suffix\n",
      "in1: 100% in2: 100% \n"
     ]
    },
    {
     "name": "stdout",
     "output_type": "stream",
     "text": [
      "Genotypes remaining: 49\n"
     ]
    },
    {
     "name": "stderr",
     "output_type": "stream",
     "text": [
      "pigz: skipping: ramdisk/geno_kmers is a directory\n",
      "in1: 100% in2: 100% \n",
      "pigz: skipping: ramdisk/geno_kmers is a directory\n",
      "pigz: skipping: ramdisk/kmer_union0.kmc_pre does not have compressed suffix\n",
      "pigz: skipping: ramdisk/kmer_union0.kmc_suf does not have compressed suffix\n",
      "in1: 100% in2: 100% \n",
      "pigz: skipping: ramdisk/geno_kmers is a directory\n",
      "pigz: skipping: ramdisk/kmer_union1.kmc_pre does not have compressed suffix\n",
      "pigz: skipping: ramdisk/kmer_union1.kmc_suf does not have compressed suffix\n",
      "in1: 100% in2: 100% \n",
      "pigz: skipping: ramdisk/geno_kmers is a directory\n",
      "pigz: skipping: ramdisk/kmer_union0.kmc_pre does not have compressed suffix\n",
      "pigz: skipping: ramdisk/kmer_union0.kmc_suf does not have compressed suffix\n",
      "in1: 100% in2: 100% \n",
      "pigz: skipping: ramdisk/geno_kmers is a directory\n",
      "pigz: skipping: ramdisk/kmer_union1.kmc_pre does not have compressed suffix\n",
      "pigz: skipping: ramdisk/kmer_union1.kmc_suf does not have compressed suffix\n",
      "in1: 100% in2: 100% \n",
      "pigz: skipping: ramdisk/geno_kmers is a directory\n",
      "pigz: skipping: ramdisk/kmer_union0.kmc_pre does not have compressed suffix\n",
      "pigz: skipping: ramdisk/kmer_union0.kmc_suf does not have compressed suffix\n",
      "in1: 100% in2: 100% \n"
     ]
    },
    {
     "name": "stdout",
     "output_type": "stream",
     "text": [
      "Genotypes remaining: 48\n"
     ]
    },
    {
     "name": "stderr",
     "output_type": "stream",
     "text": [
      "pigz: skipping: ramdisk/geno_kmers is a directory\n",
      "in1: 100% in2: 100% \n",
      "pigz: skipping: ramdisk/geno_kmers is a directory\n",
      "pigz: skipping: ramdisk/kmer_union0.kmc_pre does not have compressed suffix\n",
      "pigz: skipping: ramdisk/kmer_union0.kmc_suf does not have compressed suffix\n",
      "in1: 100% in2: 100% % in2: 94% \n",
      "pigz: skipping: ramdisk/geno_kmers is a directory\n",
      "pigz: skipping: ramdisk/kmer_union1.kmc_pre does not have compressed suffix\n",
      "pigz: skipping: ramdisk/kmer_union1.kmc_suf does not have compressed suffix\n",
      "in1: 100% in2: 100% \n",
      "pigz: skipping: ramdisk/geno_kmers is a directory\n",
      "pigz: skipping: ramdisk/kmer_union0.kmc_pre does not have compressed suffix\n",
      "pigz: skipping: ramdisk/kmer_union0.kmc_suf does not have compressed suffix\n",
      "in1: 100% in2: 100% \n",
      "pigz: skipping: ramdisk/geno_kmers is a directory\n",
      "pigz: skipping: ramdisk/kmer_union1.kmc_pre does not have compressed suffix\n",
      "pigz: skipping: ramdisk/kmer_union1.kmc_suf does not have compressed suffix\n",
      "in1: 100% in2: 100% \n"
     ]
    },
    {
     "name": "stdout",
     "output_type": "stream",
     "text": [
      "Genotypes remaining: 47\n"
     ]
    },
    {
     "name": "stderr",
     "output_type": "stream",
     "text": [
      "pigz: skipping: ramdisk/geno_kmers is a directory\n",
      "in1: 100% in2: 100% \n",
      "pigz: skipping: ramdisk/geno_kmers is a directory\n",
      "pigz: skipping: ramdisk/kmer_union0.kmc_pre does not have compressed suffix\n",
      "pigz: skipping: ramdisk/kmer_union0.kmc_suf does not have compressed suffix\n",
      "in1: 100% in2: 100% \n",
      "pigz: skipping: ramdisk/geno_kmers is a directory\n",
      "pigz: skipping: ramdisk/kmer_union1.kmc_pre does not have compressed suffix\n",
      "pigz: skipping: ramdisk/kmer_union1.kmc_suf does not have compressed suffix\n",
      "in1: 100% in2: 100% \n",
      "pigz: skipping: ramdisk/geno_kmers is a directory\n",
      "pigz: skipping: ramdisk/kmer_union0.kmc_pre does not have compressed suffix\n",
      "pigz: skipping: ramdisk/kmer_union0.kmc_suf does not have compressed suffix\n",
      "in1: 100% in2: 100% \n"
     ]
    },
    {
     "name": "stdout",
     "output_type": "stream",
     "text": [
      "Genotypes remaining: 46\n"
     ]
    },
    {
     "name": "stderr",
     "output_type": "stream",
     "text": [
      "pigz: skipping: ramdisk/geno_kmers is a directory\n",
      "in1: 100% in2: 100% \n",
      "pigz: skipping: ramdisk/geno_kmers is a directory\n",
      "pigz: skipping: ramdisk/kmer_union0.kmc_pre does not have compressed suffix\n",
      "pigz: skipping: ramdisk/kmer_union0.kmc_suf does not have compressed suffix\n",
      "in1: 100% in2: 100% \n",
      "pigz: skipping: ramdisk/geno_kmers is a directory\n",
      "pigz: skipping: ramdisk/kmer_union1.kmc_pre does not have compressed suffix\n",
      "pigz: skipping: ramdisk/kmer_union1.kmc_suf does not have compressed suffix\n",
      "in1: 100% in2: 100% \n",
      "pigz: skipping: ramdisk/geno_kmers is a directory\n",
      "pigz: skipping: ramdisk/kmer_union0.kmc_pre does not have compressed suffix\n",
      "pigz: skipping: ramdisk/kmer_union0.kmc_suf does not have compressed suffix\n",
      "in1: 100% in2: 100% \n"
     ]
    },
    {
     "name": "stdout",
     "output_type": "stream",
     "text": [
      "Genotypes remaining: 45\n"
     ]
    },
    {
     "name": "stderr",
     "output_type": "stream",
     "text": [
      "pigz: skipping: ramdisk/geno_kmers is a directory\n",
      "in1: 100% in2: 100% \n",
      "pigz: skipping: ramdisk/geno_kmers is a directory\n",
      "pigz: skipping: ramdisk/kmer_union0.kmc_pre does not have compressed suffix\n",
      "pigz: skipping: ramdisk/kmer_union0.kmc_suf does not have compressed suffix\n",
      "in1: 100% in2: 100% \n"
     ]
    },
    {
     "name": "stdout",
     "output_type": "stream",
     "text": [
      "Genotypes remaining: 44\n"
     ]
    },
    {
     "name": "stderr",
     "output_type": "stream",
     "text": [
      "pigz: skipping: ramdisk/geno_kmers is a directory\n",
      "in1: 100% in2: 100% \n",
      "pigz: skipping: ramdisk/geno_kmers is a directory\n",
      "pigz: skipping: ramdisk/kmer_union0.kmc_pre does not have compressed suffix\n",
      "pigz: skipping: ramdisk/kmer_union0.kmc_suf does not have compressed suffix\n",
      "in1: 100% in2: 100% \n",
      "pigz: skipping: ramdisk/geno_kmers is a directory\n",
      "pigz: skipping: ramdisk/kmer_union1.kmc_pre does not have compressed suffix\n",
      "pigz: skipping: ramdisk/kmer_union1.kmc_suf does not have compressed suffix\n",
      "in1: 100% in2: 100% \n",
      "pigz: skipping: ramdisk/geno_kmers is a directory\n",
      "pigz: skipping: ramdisk/kmer_union0.kmc_pre does not have compressed suffix\n",
      "pigz: skipping: ramdisk/kmer_union0.kmc_suf does not have compressed suffix\n",
      "in1: 100% in2: 100% \n",
      "pigz: skipping: ramdisk/geno_kmers is a directory\n",
      "pigz: skipping: ramdisk/kmer_union1.kmc_pre does not have compressed suffix\n",
      "pigz: skipping: ramdisk/kmer_union1.kmc_suf does not have compressed suffix\n",
      "in1: 100% in2: 100% \n",
      "pigz: skipping: ramdisk/geno_kmers is a directory\n",
      "pigz: skipping: ramdisk/kmer_union0.kmc_pre does not have compressed suffix\n",
      "pigz: skipping: ramdisk/kmer_union0.kmc_suf does not have compressed suffix\n",
      "in1: 100% in2: 100% \n",
      "pigz: skipping: ramdisk/geno_kmers is a directory\n",
      "pigz: skipping: ramdisk/kmer_union1.kmc_pre does not have compressed suffix\n",
      "pigz: skipping: ramdisk/kmer_union1.kmc_suf does not have compressed suffix\n",
      "in1: 100% in2: 100% \n"
     ]
    },
    {
     "name": "stdout",
     "output_type": "stream",
     "text": [
      "Genotypes remaining: 43\n"
     ]
    },
    {
     "name": "stderr",
     "output_type": "stream",
     "text": [
      "pigz: skipping: ramdisk/geno_kmers is a directory\n",
      "in1: 100% in2: 100% \n",
      "pigz: skipping: ramdisk/geno_kmers is a directory\n",
      "pigz: skipping: ramdisk/kmer_union0.kmc_pre does not have compressed suffix\n",
      "pigz: skipping: ramdisk/kmer_union0.kmc_suf does not have compressed suffix\n",
      "in1: 100% in2: 100% \n",
      "pigz: skipping: ramdisk/geno_kmers is a directory\n",
      "pigz: skipping: ramdisk/kmer_union1.kmc_pre does not have compressed suffix\n",
      "pigz: skipping: ramdisk/kmer_union1.kmc_suf does not have compressed suffix\n",
      "in1: 100% in2: 100% \n",
      "pigz: skipping: ramdisk/geno_kmers is a directory\n",
      "pigz: skipping: ramdisk/kmer_union0.kmc_pre does not have compressed suffix\n",
      "pigz: skipping: ramdisk/kmer_union0.kmc_suf does not have compressed suffix\n",
      "in1: 100% in2: 100% \n",
      "pigz: skipping: ramdisk/geno_kmers is a directory\n",
      "pigz: skipping: ramdisk/kmer_union1.kmc_pre does not have compressed suffix\n",
      "pigz: skipping: ramdisk/kmer_union1.kmc_suf does not have compressed suffix\n",
      "in1: 100% in2: 100% \n",
      "pigz: skipping: ramdisk/geno_kmers is a directory\n",
      "pigz: skipping: ramdisk/kmer_union0.kmc_pre does not have compressed suffix\n",
      "pigz: skipping: ramdisk/kmer_union0.kmc_suf does not have compressed suffix\n",
      "in1: 100% in2: 100% \n"
     ]
    },
    {
     "name": "stdout",
     "output_type": "stream",
     "text": [
      "Genotypes remaining: 42\n"
     ]
    },
    {
     "name": "stderr",
     "output_type": "stream",
     "text": [
      "pigz: skipping: ramdisk/geno_kmers is a directory\n",
      "in1: 100% in2: 100% \n",
      "pigz: skipping: ramdisk/geno_kmers is a directory\n",
      "pigz: skipping: ramdisk/kmer_union0.kmc_pre does not have compressed suffix\n",
      "pigz: skipping: ramdisk/kmer_union0.kmc_suf does not have compressed suffix\n",
      "in1: 100% in2: 100% \n",
      "pigz: skipping: ramdisk/geno_kmers is a directory\n",
      "pigz: skipping: ramdisk/kmer_union1.kmc_pre does not have compressed suffix\n",
      "pigz: skipping: ramdisk/kmer_union1.kmc_suf does not have compressed suffix\n",
      "in1: 100% in2: 100% \n",
      "pigz: skipping: ramdisk/geno_kmers is a directory\n",
      "pigz: skipping: ramdisk/kmer_union0.kmc_pre does not have compressed suffix\n",
      "pigz: skipping: ramdisk/kmer_union0.kmc_suf does not have compressed suffix\n",
      "in1: 100% in2: 100% \n",
      "pigz: skipping: ramdisk/geno_kmers is a directory\n",
      "pigz: skipping: ramdisk/kmer_union1.kmc_pre does not have compressed suffix\n",
      "pigz: skipping: ramdisk/kmer_union1.kmc_suf does not have compressed suffix\n",
      "in1: 100% in2: 100% \n",
      "pigz: skipping: ramdisk/geno_kmers is a directory\n",
      "pigz: skipping: ramdisk/kmer_union0.kmc_pre does not have compressed suffix\n",
      "pigz: skipping: ramdisk/kmer_union0.kmc_suf does not have compressed suffix\n",
      "in1: 100% in2: 100% \n"
     ]
    },
    {
     "name": "stdout",
     "output_type": "stream",
     "text": [
      "Genotypes remaining: 41\n"
     ]
    },
    {
     "name": "stderr",
     "output_type": "stream",
     "text": [
      "pigz: skipping: ramdisk/geno_kmers is a directory\n",
      "in1: 100% in2: 100% \n",
      "pigz: skipping: ramdisk/geno_kmers is a directory\n",
      "pigz: skipping: ramdisk/kmer_union0.kmc_pre does not have compressed suffix\n",
      "pigz: skipping: ramdisk/kmer_union0.kmc_suf does not have compressed suffix\n",
      "in1: 100% in2: 100% \n",
      "pigz: skipping: ramdisk/geno_kmers is a directory\n",
      "pigz: skipping: ramdisk/kmer_union1.kmc_pre does not have compressed suffix\n",
      "pigz: skipping: ramdisk/kmer_union1.kmc_suf does not have compressed suffix\n",
      "in1: 100% in2: 100% \n",
      "pigz: skipping: ramdisk/geno_kmers is a directory\n",
      "pigz: skipping: ramdisk/kmer_union0.kmc_pre does not have compressed suffix\n",
      "pigz: skipping: ramdisk/kmer_union0.kmc_suf does not have compressed suffix\n",
      "in1: 100% in2: 100% \n",
      "pigz: skipping: ramdisk/geno_kmers is a directory\n",
      "pigz: skipping: ramdisk/kmer_union1.kmc_pre does not have compressed suffix\n",
      "pigz: skipping: ramdisk/kmer_union1.kmc_suf does not have compressed suffix\n",
      "in1: 100% in2: 100% \n",
      "pigz: skipping: ramdisk/geno_kmers is a directory\n",
      "pigz: skipping: ramdisk/kmer_union0.kmc_pre does not have compressed suffix\n",
      "pigz: skipping: ramdisk/kmer_union0.kmc_suf does not have compressed suffix\n",
      "in1: 100% in2: 100% \n"
     ]
    },
    {
     "name": "stdout",
     "output_type": "stream",
     "text": [
      "Genotypes remaining: 40\n"
     ]
    },
    {
     "name": "stderr",
     "output_type": "stream",
     "text": [
      "pigz: skipping: ramdisk/geno_kmers is a directory\n",
      "in1: 100% in2: 100% \n",
      "pigz: skipping: ramdisk/geno_kmers is a directory\n",
      "pigz: skipping: ramdisk/kmer_union0.kmc_pre does not have compressed suffix\n",
      "pigz: skipping: ramdisk/kmer_union0.kmc_suf does not have compressed suffix\n",
      "in1: 100% in2: 100% \n",
      "pigz: skipping: ramdisk/geno_kmers is a directory\n",
      "pigz: skipping: ramdisk/kmer_union1.kmc_pre does not have compressed suffix\n",
      "pigz: skipping: ramdisk/kmer_union1.kmc_suf does not have compressed suffix\n",
      "in1: 100% in2: 100% \n",
      "pigz: skipping: ramdisk/geno_kmers is a directory\n",
      "pigz: skipping: ramdisk/kmer_union0.kmc_pre does not have compressed suffix\n",
      "pigz: skipping: ramdisk/kmer_union0.kmc_suf does not have compressed suffix\n",
      "in1: 100% in2: 100% \n",
      "pigz: skipping: ramdisk/geno_kmers is a directory\n",
      "pigz: skipping: ramdisk/kmer_union1.kmc_pre does not have compressed suffix\n",
      "pigz: skipping: ramdisk/kmer_union1.kmc_suf does not have compressed suffix\n",
      "in1: 100% in2: 100% in2: 40% \n",
      "pigz: skipping: ramdisk/geno_kmers is a directory\n",
      "pigz: skipping: ramdisk/kmer_union0.kmc_pre does not have compressed suffix\n",
      "pigz: skipping: ramdisk/kmer_union0.kmc_suf does not have compressed suffix\n",
      "in1: 100% in2: 100% \n",
      "pigz: skipping: ramdisk/geno_kmers is a directory\n",
      "pigz: skipping: ramdisk/kmer_union1.kmc_pre does not have compressed suffix\n",
      "pigz: skipping: ramdisk/kmer_union1.kmc_suf does not have compressed suffix\n",
      "in1: 100% in2: 100% \n"
     ]
    },
    {
     "name": "stdout",
     "output_type": "stream",
     "text": [
      "Genotypes remaining: 39\n"
     ]
    },
    {
     "name": "stderr",
     "output_type": "stream",
     "text": [
      "pigz: skipping: ramdisk/geno_kmers is a directory\n",
      "in1: 100% in2: 100% \n",
      "pigz: skipping: ramdisk/geno_kmers is a directory\n",
      "pigz: skipping: ramdisk/kmer_union0.kmc_pre does not have compressed suffix\n",
      "pigz: skipping: ramdisk/kmer_union0.kmc_suf does not have compressed suffix\n",
      "in1: 100% in2: 100% \n",
      "pigz: skipping: ramdisk/geno_kmers is a directory\n",
      "pigz: skipping: ramdisk/kmer_union1.kmc_pre does not have compressed suffix\n",
      "pigz: skipping: ramdisk/kmer_union1.kmc_suf does not have compressed suffix\n",
      "in1: 100% in2: 100% \n",
      "pigz: skipping: ramdisk/geno_kmers is a directory\n",
      "pigz: skipping: ramdisk/kmer_union0.kmc_pre does not have compressed suffix\n",
      "pigz: skipping: ramdisk/kmer_union0.kmc_suf does not have compressed suffix\n",
      "in1: 100% in2: 100% \n",
      "pigz: skipping: ramdisk/geno_kmers is a directory\n",
      "pigz: skipping: ramdisk/kmer_union1.kmc_pre does not have compressed suffix\n",
      "pigz: skipping: ramdisk/kmer_union1.kmc_suf does not have compressed suffix\n",
      "in1: 100% in2: 100% \n",
      "pigz: skipping: ramdisk/geno_kmers is a directory\n",
      "pigz: skipping: ramdisk/kmer_union0.kmc_pre does not have compressed suffix\n",
      "pigz: skipping: ramdisk/kmer_union0.kmc_suf does not have compressed suffix\n",
      "in1: 100% in2: 100% \n"
     ]
    },
    {
     "name": "stdout",
     "output_type": "stream",
     "text": [
      "Genotypes remaining: 38\n"
     ]
    },
    {
     "name": "stderr",
     "output_type": "stream",
     "text": [
      "pigz: skipping: ramdisk/geno_kmers is a directory\n",
      "in1: 100% in2: 100% \n",
      "pigz: skipping: ramdisk/geno_kmers is a directory\n",
      "pigz: skipping: ramdisk/kmer_union0.kmc_pre does not have compressed suffix\n",
      "pigz: skipping: ramdisk/kmer_union0.kmc_suf does not have compressed suffix\n",
      "in1: 100% in2: 100% \n",
      "pigz: skipping: ramdisk/geno_kmers is a directory\n",
      "pigz: skipping: ramdisk/kmer_union1.kmc_pre does not have compressed suffix\n",
      "pigz: skipping: ramdisk/kmer_union1.kmc_suf does not have compressed suffix\n",
      "in1: 100% in2: 100% \n",
      "pigz: skipping: ramdisk/geno_kmers is a directory\n",
      "pigz: skipping: ramdisk/kmer_union0.kmc_pre does not have compressed suffix\n",
      "pigz: skipping: ramdisk/kmer_union0.kmc_suf does not have compressed suffix\n",
      "in1: 100% in2: 100% \n",
      "pigz: skipping: ramdisk/geno_kmers is a directory\n",
      "pigz: skipping: ramdisk/kmer_union1.kmc_pre does not have compressed suffix\n",
      "pigz: skipping: ramdisk/kmer_union1.kmc_suf does not have compressed suffix\n",
      "in1: 100% in2: 100% \n",
      "pigz: skipping: ramdisk/geno_kmers is a directory\n",
      "pigz: skipping: ramdisk/kmer_union0.kmc_pre does not have compressed suffix\n",
      "pigz: skipping: ramdisk/kmer_union0.kmc_suf does not have compressed suffix\n",
      "in1: 100% in2: 100% \n"
     ]
    },
    {
     "name": "stdout",
     "output_type": "stream",
     "text": [
      "Genotypes remaining: 37\n"
     ]
    },
    {
     "name": "stderr",
     "output_type": "stream",
     "text": [
      "pigz: skipping: ramdisk/geno_kmers is a directory\n",
      "in1: 100% in2: 100% \n",
      "pigz: skipping: ramdisk/geno_kmers is a directory\n",
      "pigz: skipping: ramdisk/kmer_union0.kmc_pre does not have compressed suffix\n",
      "pigz: skipping: ramdisk/kmer_union0.kmc_suf does not have compressed suffix\n",
      "in1: 100% in2: 100% \n",
      "pigz: skipping: ramdisk/geno_kmers is a directory\n",
      "pigz: skipping: ramdisk/kmer_union1.kmc_pre does not have compressed suffix\n",
      "pigz: skipping: ramdisk/kmer_union1.kmc_suf does not have compressed suffix\n",
      "in1: 100% in2: 100% \n",
      "pigz: skipping: ramdisk/geno_kmers is a directory\n",
      "pigz: skipping: ramdisk/kmer_union0.kmc_pre does not have compressed suffix\n",
      "pigz: skipping: ramdisk/kmer_union0.kmc_suf does not have compressed suffix\n",
      "in1: 100% in2: 100% \n",
      "pigz: skipping: ramdisk/geno_kmers is a directory\n",
      "pigz: skipping: ramdisk/kmer_union1.kmc_pre does not have compressed suffix\n",
      "pigz: skipping: ramdisk/kmer_union1.kmc_suf does not have compressed suffix\n",
      "in1: 100% in2: 100% \n",
      "pigz: skipping: ramdisk/geno_kmers is a directory\n",
      "pigz: skipping: ramdisk/kmer_union0.kmc_pre does not have compressed suffix\n",
      "pigz: skipping: ramdisk/kmer_union0.kmc_suf does not have compressed suffix\n",
      "in1: 100% in2: 100% \n"
     ]
    },
    {
     "name": "stdout",
     "output_type": "stream",
     "text": [
      "Genotypes remaining: 36\n"
     ]
    },
    {
     "name": "stderr",
     "output_type": "stream",
     "text": [
      "pigz: skipping: ramdisk/geno_kmers is a directory\n",
      "in1: 100% in2: 100% \n",
      "pigz: skipping: ramdisk/geno_kmers is a directory\n",
      "pigz: skipping: ramdisk/kmer_union0.kmc_pre does not have compressed suffix\n",
      "pigz: skipping: ramdisk/kmer_union0.kmc_suf does not have compressed suffix\n",
      "in1: 100% in2: 100% \n",
      "pigz: skipping: ramdisk/geno_kmers is a directory\n",
      "pigz: skipping: ramdisk/kmer_union1.kmc_pre does not have compressed suffix\n",
      "pigz: skipping: ramdisk/kmer_union1.kmc_suf does not have compressed suffix\n",
      "in1: 100% in2: 100% \n",
      "pigz: skipping: ramdisk/geno_kmers is a directory\n",
      "pigz: skipping: ramdisk/kmer_union0.kmc_pre does not have compressed suffix\n",
      "pigz: skipping: ramdisk/kmer_union0.kmc_suf does not have compressed suffix\n",
      "in1: 100% in2: 100% \n",
      "pigz: skipping: ramdisk/geno_kmers is a directory\n",
      "pigz: skipping: ramdisk/kmer_union1.kmc_pre does not have compressed suffix\n",
      "pigz: skipping: ramdisk/kmer_union1.kmc_suf does not have compressed suffix\n",
      "in1: 100% in2: 100% \n",
      "pigz: skipping: ramdisk/geno_kmers is a directory\n",
      "pigz: skipping: ramdisk/kmer_union0.kmc_pre does not have compressed suffix\n",
      "pigz: skipping: ramdisk/kmer_union0.kmc_suf does not have compressed suffix\n",
      "in1: 100% in2: 100% \n"
     ]
    },
    {
     "name": "stdout",
     "output_type": "stream",
     "text": [
      "Genotypes remaining: 35\n"
     ]
    },
    {
     "name": "stderr",
     "output_type": "stream",
     "text": [
      "pigz: skipping: ramdisk/geno_kmers is a directory\n",
      "in1: 100% in2: 100% \n",
      "pigz: skipping: ramdisk/geno_kmers is a directory\n",
      "pigz: skipping: ramdisk/kmer_union0.kmc_pre does not have compressed suffix\n",
      "pigz: skipping: ramdisk/kmer_union0.kmc_suf does not have compressed suffix\n",
      "in1: 100% in2: 100% \n",
      "pigz: skipping: ramdisk/geno_kmers is a directory\n",
      "pigz: skipping: ramdisk/kmer_union1.kmc_pre does not have compressed suffix\n",
      "pigz: skipping: ramdisk/kmer_union1.kmc_suf does not have compressed suffix\n",
      "in1: 100% in2: 100% \n",
      "pigz: skipping: ramdisk/geno_kmers is a directory\n",
      "pigz: skipping: ramdisk/kmer_union0.kmc_pre does not have compressed suffix\n",
      "pigz: skipping: ramdisk/kmer_union0.kmc_suf does not have compressed suffix\n",
      "in1: 100% in2: 100% \n",
      "pigz: skipping: ramdisk/geno_kmers is a directory\n",
      "pigz: skipping: ramdisk/kmer_union1.kmc_pre does not have compressed suffix\n",
      "pigz: skipping: ramdisk/kmer_union1.kmc_suf does not have compressed suffix\n",
      "in1: 100% in2: 100% \n",
      "pigz: skipping: ramdisk/geno_kmers is a directory\n",
      "pigz: skipping: ramdisk/kmer_union0.kmc_pre does not have compressed suffix\n",
      "pigz: skipping: ramdisk/kmer_union0.kmc_suf does not have compressed suffix\n",
      "in1: 100% in2: 100% \n"
     ]
    },
    {
     "name": "stdout",
     "output_type": "stream",
     "text": [
      "Genotypes remaining: 34\n"
     ]
    },
    {
     "name": "stderr",
     "output_type": "stream",
     "text": [
      "pigz: skipping: ramdisk/geno_kmers is a directory\n",
      "in1: 100% in2: 100% \n",
      "pigz: skipping: ramdisk/geno_kmers is a directory\n",
      "pigz: skipping: ramdisk/kmer_union0.kmc_pre does not have compressed suffix\n",
      "pigz: skipping: ramdisk/kmer_union0.kmc_suf does not have compressed suffix\n",
      "in1: 100% in2: 100% \n",
      "pigz: skipping: ramdisk/geno_kmers is a directory\n",
      "pigz: skipping: ramdisk/kmer_union1.kmc_pre does not have compressed suffix\n",
      "pigz: skipping: ramdisk/kmer_union1.kmc_suf does not have compressed suffix\n",
      "in1: 100% in2: 100% \n",
      "pigz: skipping: ramdisk/geno_kmers is a directory\n",
      "pigz: skipping: ramdisk/kmer_union0.kmc_pre does not have compressed suffix\n",
      "pigz: skipping: ramdisk/kmer_union0.kmc_suf does not have compressed suffix\n",
      "in1: 100% in2: 100% \n",
      "pigz: skipping: ramdisk/geno_kmers is a directory\n",
      "pigz: skipping: ramdisk/kmer_union1.kmc_pre does not have compressed suffix\n",
      "pigz: skipping: ramdisk/kmer_union1.kmc_suf does not have compressed suffix\n",
      "in1: 100% in2: 100% \n",
      "pigz: skipping: ramdisk/geno_kmers is a directory\n",
      "pigz: skipping: ramdisk/kmer_union0.kmc_pre does not have compressed suffix\n",
      "pigz: skipping: ramdisk/kmer_union0.kmc_suf does not have compressed suffix\n",
      "in1: 100% in2: 100% \n"
     ]
    },
    {
     "name": "stdout",
     "output_type": "stream",
     "text": [
      "Genotypes remaining: 33\n"
     ]
    },
    {
     "name": "stderr",
     "output_type": "stream",
     "text": [
      "pigz: skipping: ramdisk/geno_kmers is a directory\n",
      "in1: 100% in2: 100% \n",
      "pigz: skipping: ramdisk/geno_kmers is a directory\n",
      "pigz: skipping: ramdisk/kmer_union0.kmc_pre does not have compressed suffix\n",
      "pigz: skipping: ramdisk/kmer_union0.kmc_suf does not have compressed suffix\n",
      "in1: 100% in2: 100% \n",
      "pigz: skipping: ramdisk/geno_kmers is a directory\n",
      "pigz: skipping: ramdisk/kmer_union1.kmc_pre does not have compressed suffix\n",
      "pigz: skipping: ramdisk/kmer_union1.kmc_suf does not have compressed suffix\n",
      "in1: 100% in2: 100% \n",
      "pigz: skipping: ramdisk/geno_kmers is a directory\n",
      "pigz: skipping: ramdisk/kmer_union0.kmc_pre does not have compressed suffix\n",
      "pigz: skipping: ramdisk/kmer_union0.kmc_suf does not have compressed suffix\n",
      "in1: 100% in2: 100% \n",
      "pigz: skipping: ramdisk/geno_kmers is a directory\n",
      "pigz: skipping: ramdisk/kmer_union1.kmc_pre does not have compressed suffix\n",
      "pigz: skipping: ramdisk/kmer_union1.kmc_suf does not have compressed suffix\n",
      "in1: 100% in2: 100% \n",
      "pigz: skipping: ramdisk/geno_kmers is a directory\n",
      "pigz: skipping: ramdisk/kmer_union0.kmc_pre does not have compressed suffix\n",
      "pigz: skipping: ramdisk/kmer_union0.kmc_suf does not have compressed suffix\n",
      "in1: 100% in2: 100% \n"
     ]
    },
    {
     "name": "stdout",
     "output_type": "stream",
     "text": [
      "Genotypes remaining: 32\n"
     ]
    },
    {
     "name": "stderr",
     "output_type": "stream",
     "text": [
      "pigz: skipping: ramdisk/geno_kmers is a directory\n",
      "in1: 100% in2: 100% \n",
      "pigz: skipping: ramdisk/geno_kmers is a directory\n",
      "pigz: skipping: ramdisk/kmer_union0.kmc_pre does not have compressed suffix\n",
      "pigz: skipping: ramdisk/kmer_union0.kmc_suf does not have compressed suffix\n",
      "in1: 100% in2: 100% \n",
      "pigz: skipping: ramdisk/geno_kmers is a directory\n",
      "pigz: skipping: ramdisk/kmer_union1.kmc_pre does not have compressed suffix\n",
      "pigz: skipping: ramdisk/kmer_union1.kmc_suf does not have compressed suffix\n",
      "in1: 100% in2: 100% \n",
      "pigz: skipping: ramdisk/geno_kmers is a directory\n",
      "pigz: skipping: ramdisk/kmer_union0.kmc_pre does not have compressed suffix\n",
      "pigz: skipping: ramdisk/kmer_union0.kmc_suf does not have compressed suffix\n",
      "in1: 100% in2: 100% \n",
      "pigz: skipping: ramdisk/geno_kmers is a directory\n",
      "pigz: skipping: ramdisk/kmer_union1.kmc_pre does not have compressed suffix\n",
      "pigz: skipping: ramdisk/kmer_union1.kmc_suf does not have compressed suffix\n",
      "in1: 100% in2: 100% % in2: 58% \n",
      "pigz: skipping: ramdisk/geno_kmers is a directory\n",
      "pigz: skipping: ramdisk/kmer_union0.kmc_pre does not have compressed suffix\n",
      "pigz: skipping: ramdisk/kmer_union0.kmc_suf does not have compressed suffix\n",
      "in1: 100% in2: 100% \n"
     ]
    },
    {
     "name": "stdout",
     "output_type": "stream",
     "text": [
      "Genotypes remaining: 31\n"
     ]
    },
    {
     "name": "stderr",
     "output_type": "stream",
     "text": [
      "pigz: skipping: ramdisk/geno_kmers is a directory\n",
      "in1: 100% in2: 100% \n",
      "pigz: skipping: ramdisk/geno_kmers is a directory\n",
      "pigz: skipping: ramdisk/kmer_union0.kmc_pre does not have compressed suffix\n",
      "pigz: skipping: ramdisk/kmer_union0.kmc_suf does not have compressed suffix\n",
      "in1: 100% in2: 100% \n",
      "pigz: skipping: ramdisk/geno_kmers is a directory\n",
      "pigz: skipping: ramdisk/kmer_union1.kmc_pre does not have compressed suffix\n",
      "pigz: skipping: ramdisk/kmer_union1.kmc_suf does not have compressed suffix\n",
      "in1: 100% in2: 100% \n",
      "pigz: skipping: ramdisk/geno_kmers is a directory\n",
      "pigz: skipping: ramdisk/kmer_union0.kmc_pre does not have compressed suffix\n",
      "pigz: skipping: ramdisk/kmer_union0.kmc_suf does not have compressed suffix\n",
      "in1: 100% in2: 100% \n",
      "pigz: skipping: ramdisk/geno_kmers is a directory\n",
      "pigz: skipping: ramdisk/kmer_union1.kmc_pre does not have compressed suffix\n",
      "pigz: skipping: ramdisk/kmer_union1.kmc_suf does not have compressed suffix\n",
      "in1: 100% in2: 100% \n"
     ]
    },
    {
     "name": "stdout",
     "output_type": "stream",
     "text": [
      "Genotypes remaining: 30\n"
     ]
    },
    {
     "name": "stderr",
     "output_type": "stream",
     "text": [
      "pigz: skipping: ramdisk/geno_kmers is a directory\n",
      "in1: 100% in2: 100% \n",
      "pigz: skipping: ramdisk/geno_kmers is a directory\n",
      "pigz: skipping: ramdisk/kmer_union0.kmc_pre does not have compressed suffix\n",
      "pigz: skipping: ramdisk/kmer_union0.kmc_suf does not have compressed suffix\n",
      "in1: 100% in2: 100% \n",
      "pigz: skipping: ramdisk/geno_kmers is a directory\n",
      "pigz: skipping: ramdisk/kmer_union1.kmc_pre does not have compressed suffix\n",
      "pigz: skipping: ramdisk/kmer_union1.kmc_suf does not have compressed suffix\n",
      "in1: 100% in2: 100% \n",
      "pigz: skipping: ramdisk/geno_kmers is a directory\n",
      "pigz: skipping: ramdisk/kmer_union0.kmc_pre does not have compressed suffix\n",
      "pigz: skipping: ramdisk/kmer_union0.kmc_suf does not have compressed suffix\n",
      "in1: 100% in2: 100% \n",
      "pigz: skipping: ramdisk/geno_kmers is a directory\n",
      "pigz: skipping: ramdisk/kmer_union1.kmc_pre does not have compressed suffix\n",
      "pigz: skipping: ramdisk/kmer_union1.kmc_suf does not have compressed suffix\n",
      "in1: 100% in2: 100% \n"
     ]
    },
    {
     "name": "stdout",
     "output_type": "stream",
     "text": [
      "Genotypes remaining: 29\n"
     ]
    },
    {
     "name": "stderr",
     "output_type": "stream",
     "text": [
      "pigz: skipping: ramdisk/geno_kmers is a directory\n",
      "in1: 100% in2: 100% \n",
      "pigz: skipping: ramdisk/geno_kmers is a directory\n",
      "pigz: skipping: ramdisk/kmer_union0.kmc_pre does not have compressed suffix\n",
      "pigz: skipping: ramdisk/kmer_union0.kmc_suf does not have compressed suffix\n",
      "in1: 100% in2: 100% \n",
      "pigz: skipping: ramdisk/geno_kmers is a directory\n",
      "pigz: skipping: ramdisk/kmer_union1.kmc_pre does not have compressed suffix\n",
      "pigz: skipping: ramdisk/kmer_union1.kmc_suf does not have compressed suffix\n",
      "in1: 100% in2: 100% \n",
      "pigz: skipping: ramdisk/geno_kmers is a directory\n",
      "pigz: skipping: ramdisk/kmer_union0.kmc_pre does not have compressed suffix\n",
      "pigz: skipping: ramdisk/kmer_union0.kmc_suf does not have compressed suffix\n",
      "in1: 100% in2: 100% \n",
      "pigz: skipping: ramdisk/geno_kmers is a directory\n",
      "pigz: skipping: ramdisk/kmer_union1.kmc_pre does not have compressed suffix\n",
      "pigz: skipping: ramdisk/kmer_union1.kmc_suf does not have compressed suffix\n",
      "in1: 100% in2: 100% \n",
      "pigz: skipping: ramdisk/geno_kmers is a directory\n",
      "pigz: skipping: ramdisk/kmer_union0.kmc_pre does not have compressed suffix\n",
      "pigz: skipping: ramdisk/kmer_union0.kmc_suf does not have compressed suffix\n",
      "in1: 100% in2: 100% \n",
      "pigz: skipping: ramdisk/geno_kmers is a directory\n",
      "pigz: skipping: ramdisk/kmer_union1.kmc_pre does not have compressed suffix\n",
      "pigz: skipping: ramdisk/kmer_union1.kmc_suf does not have compressed suffix\n",
      "in1: 100% in2: 100% 87% in2: 99% \n"
     ]
    },
    {
     "name": "stdout",
     "output_type": "stream",
     "text": [
      "Genotypes remaining: 28\n"
     ]
    },
    {
     "name": "stderr",
     "output_type": "stream",
     "text": [
      "pigz: skipping: ramdisk/geno_kmers is a directory\n",
      "in1: 100% in2: 100% \n",
      "pigz: skipping: ramdisk/geno_kmers is a directory\n",
      "pigz: skipping: ramdisk/kmer_union0.kmc_pre does not have compressed suffix\n",
      "pigz: skipping: ramdisk/kmer_union0.kmc_suf does not have compressed suffix\n",
      "in1: 100% in2: 100% \n",
      "pigz: skipping: ramdisk/geno_kmers is a directory\n",
      "pigz: skipping: ramdisk/kmer_union1.kmc_pre does not have compressed suffix\n",
      "pigz: skipping: ramdisk/kmer_union1.kmc_suf does not have compressed suffix\n",
      "in1: 100% in2: 100% \n",
      "pigz: skipping: ramdisk/geno_kmers is a directory\n",
      "pigz: skipping: ramdisk/kmer_union0.kmc_pre does not have compressed suffix\n",
      "pigz: skipping: ramdisk/kmer_union0.kmc_suf does not have compressed suffix\n",
      "in1: 100% in2: 100% \n",
      "pigz: skipping: ramdisk/geno_kmers is a directory\n",
      "pigz: skipping: ramdisk/kmer_union1.kmc_pre does not have compressed suffix\n",
      "pigz: skipping: ramdisk/kmer_union1.kmc_suf does not have compressed suffix\n",
      "in1: 100% in2: 100% \n",
      "pigz: skipping: ramdisk/geno_kmers is a directory\n",
      "pigz: skipping: ramdisk/kmer_union0.kmc_pre does not have compressed suffix\n",
      "pigz: skipping: ramdisk/kmer_union0.kmc_suf does not have compressed suffix\n",
      "in1: 100% in2: 100% \n",
      "pigz: skipping: ramdisk/geno_kmers is a directory\n",
      "pigz: skipping: ramdisk/kmer_union1.kmc_pre does not have compressed suffix\n",
      "pigz: skipping: ramdisk/kmer_union1.kmc_suf does not have compressed suffix\n",
      "in1: 100% in2: 100% \n"
     ]
    },
    {
     "name": "stdout",
     "output_type": "stream",
     "text": [
      "Genotypes remaining: 27\n"
     ]
    },
    {
     "name": "stderr",
     "output_type": "stream",
     "text": [
      "pigz: skipping: ramdisk/geno_kmers is a directory\n",
      "in1: 100% in2: 100% \n",
      "pigz: skipping: ramdisk/geno_kmers is a directory\n",
      "pigz: skipping: ramdisk/kmer_union0.kmc_pre does not have compressed suffix\n",
      "pigz: skipping: ramdisk/kmer_union0.kmc_suf does not have compressed suffix\n",
      "in1: 100% in2: 100% \n",
      "pigz: skipping: ramdisk/geno_kmers is a directory\n",
      "pigz: skipping: ramdisk/kmer_union1.kmc_pre does not have compressed suffix\n",
      "pigz: skipping: ramdisk/kmer_union1.kmc_suf does not have compressed suffix\n",
      "in1: 100% in2: 100% \n",
      "pigz: skipping: ramdisk/geno_kmers is a directory\n",
      "pigz: skipping: ramdisk/kmer_union0.kmc_pre does not have compressed suffix\n",
      "pigz: skipping: ramdisk/kmer_union0.kmc_suf does not have compressed suffix\n",
      "in1: 100% in2: 100% \n",
      "pigz: skipping: ramdisk/geno_kmers is a directory\n",
      "pigz: skipping: ramdisk/kmer_union1.kmc_pre does not have compressed suffix\n",
      "pigz: skipping: ramdisk/kmer_union1.kmc_suf does not have compressed suffix\n",
      "in1: 100% in2: 100% \n",
      "pigz: skipping: ramdisk/geno_kmers is a directory\n",
      "pigz: skipping: ramdisk/kmer_union0.kmc_pre does not have compressed suffix\n",
      "pigz: skipping: ramdisk/kmer_union0.kmc_suf does not have compressed suffix\n",
      "in1: 100% in2: 100% \n"
     ]
    },
    {
     "name": "stdout",
     "output_type": "stream",
     "text": [
      "Genotypes remaining: 26\n"
     ]
    },
    {
     "name": "stderr",
     "output_type": "stream",
     "text": [
      "pigz: skipping: ramdisk/geno_kmers is a directory\n",
      "in1: 100% in2: 100% \n",
      "pigz: skipping: ramdisk/geno_kmers is a directory\n",
      "pigz: skipping: ramdisk/kmer_union0.kmc_pre does not have compressed suffix\n",
      "pigz: skipping: ramdisk/kmer_union0.kmc_suf does not have compressed suffix\n",
      "in1: 100% in2: 100% \n",
      "pigz: skipping: ramdisk/geno_kmers is a directory\n",
      "pigz: skipping: ramdisk/kmer_union1.kmc_pre does not have compressed suffix\n",
      "pigz: skipping: ramdisk/kmer_union1.kmc_suf does not have compressed suffix\n",
      "in1: 100% in2: 100% \n",
      "pigz: skipping: ramdisk/geno_kmers is a directory\n",
      "pigz: skipping: ramdisk/kmer_union0.kmc_pre does not have compressed suffix\n",
      "pigz: skipping: ramdisk/kmer_union0.kmc_suf does not have compressed suffix\n",
      "in1: 100% in2: 100% \n",
      "pigz: skipping: ramdisk/geno_kmers is a directory\n",
      "pigz: skipping: ramdisk/kmer_union1.kmc_pre does not have compressed suffix\n",
      "pigz: skipping: ramdisk/kmer_union1.kmc_suf does not have compressed suffix\n",
      "in1: 100% in2: 100% \n"
     ]
    },
    {
     "name": "stdout",
     "output_type": "stream",
     "text": [
      "Genotypes remaining: 25\n"
     ]
    },
    {
     "name": "stderr",
     "output_type": "stream",
     "text": [
      "pigz: skipping: ramdisk/geno_kmers is a directory\n",
      "in1: 100% in2: 100% \n"
     ]
    },
    {
     "name": "stdout",
     "output_type": "stream",
     "text": [
      "Genotypes remaining: 24\n"
     ]
    },
    {
     "name": "stderr",
     "output_type": "stream",
     "text": [
      "pigz: skipping: ramdisk/geno_kmers is a directory\n",
      "in1: 100% in2: 100% \n",
      "pigz: skipping: ramdisk/geno_kmers is a directory\n",
      "pigz: skipping: ramdisk/kmer_union0.kmc_pre does not have compressed suffix\n",
      "pigz: skipping: ramdisk/kmer_union0.kmc_suf does not have compressed suffix\n",
      "in1: 100% in2: 100% \n",
      "pigz: skipping: ramdisk/geno_kmers is a directory\n",
      "pigz: skipping: ramdisk/kmer_union1.kmc_pre does not have compressed suffix\n",
      "pigz: skipping: ramdisk/kmer_union1.kmc_suf does not have compressed suffix\n",
      "in1: 100% in2: 100% \n",
      "pigz: skipping: ramdisk/geno_kmers is a directory\n",
      "pigz: skipping: ramdisk/kmer_union0.kmc_pre does not have compressed suffix\n",
      "pigz: skipping: ramdisk/kmer_union0.kmc_suf does not have compressed suffix\n",
      "in1: 100% in2: 100% \n",
      "pigz: skipping: ramdisk/geno_kmers is a directory\n",
      "pigz: skipping: ramdisk/kmer_union1.kmc_pre does not have compressed suffix\n",
      "pigz: skipping: ramdisk/kmer_union1.kmc_suf does not have compressed suffix\n",
      "in1: 100% in2: 100% \n",
      "pigz: skipping: ramdisk/geno_kmers is a directory\n",
      "pigz: skipping: ramdisk/kmer_union0.kmc_pre does not have compressed suffix\n",
      "pigz: skipping: ramdisk/kmer_union0.kmc_suf does not have compressed suffix\n",
      "in1: 100% in2: 100% \n"
     ]
    },
    {
     "name": "stdout",
     "output_type": "stream",
     "text": [
      "Genotypes remaining: 23\n"
     ]
    },
    {
     "name": "stderr",
     "output_type": "stream",
     "text": [
      "pigz: skipping: ramdisk/geno_kmers is a directory\n",
      "in1: 100% in2: 100% \n",
      "pigz: skipping: ramdisk/geno_kmers is a directory\n",
      "pigz: skipping: ramdisk/kmer_union0.kmc_pre does not have compressed suffix\n",
      "pigz: skipping: ramdisk/kmer_union0.kmc_suf does not have compressed suffix\n",
      "in1: 100% in2: 100% \n",
      "pigz: skipping: ramdisk/geno_kmers is a directory\n",
      "pigz: skipping: ramdisk/kmer_union1.kmc_pre does not have compressed suffix\n",
      "pigz: skipping: ramdisk/kmer_union1.kmc_suf does not have compressed suffix\n",
      "in1: 100% in2: 100% \n",
      "pigz: skipping: ramdisk/geno_kmers is a directory\n",
      "pigz: skipping: ramdisk/kmer_union0.kmc_pre does not have compressed suffix\n",
      "pigz: skipping: ramdisk/kmer_union0.kmc_suf does not have compressed suffix\n",
      "in1: 100% in2: 100% \n",
      "pigz: skipping: ramdisk/geno_kmers is a directory\n",
      "pigz: skipping: ramdisk/kmer_union1.kmc_pre does not have compressed suffix\n",
      "pigz: skipping: ramdisk/kmer_union1.kmc_suf does not have compressed suffix\n",
      "in1: 100% in2: 100% \n"
     ]
    },
    {
     "name": "stdout",
     "output_type": "stream",
     "text": [
      "Genotypes remaining: 22\n"
     ]
    },
    {
     "name": "stderr",
     "output_type": "stream",
     "text": [
      "pigz: skipping: ramdisk/geno_kmers is a directory\n",
      "in1: 100% in2: 100% \n",
      "pigz: skipping: ramdisk/geno_kmers is a directory\n",
      "pigz: skipping: ramdisk/kmer_union0.kmc_pre does not have compressed suffix\n",
      "pigz: skipping: ramdisk/kmer_union0.kmc_suf does not have compressed suffix\n",
      "in1: 100% in2: 100% \n",
      "pigz: skipping: ramdisk/geno_kmers is a directory\n",
      "pigz: skipping: ramdisk/kmer_union1.kmc_pre does not have compressed suffix\n",
      "pigz: skipping: ramdisk/kmer_union1.kmc_suf does not have compressed suffix\n",
      "in1: 100% in2: 100% \n",
      "pigz: skipping: ramdisk/geno_kmers is a directory\n",
      "pigz: skipping: ramdisk/kmer_union0.kmc_pre does not have compressed suffix\n",
      "pigz: skipping: ramdisk/kmer_union0.kmc_suf does not have compressed suffix\n",
      "in1: 100% in2: 100% \n",
      "pigz: skipping: ramdisk/geno_kmers is a directory\n",
      "pigz: skipping: ramdisk/kmer_union1.kmc_pre does not have compressed suffix\n",
      "pigz: skipping: ramdisk/kmer_union1.kmc_suf does not have compressed suffix\n",
      "in1: 100% in2: 100% \n",
      "pigz: skipping: ramdisk/geno_kmers is a directory\n",
      "pigz: skipping: ramdisk/kmer_union0.kmc_pre does not have compressed suffix\n",
      "pigz: skipping: ramdisk/kmer_union0.kmc_suf does not have compressed suffix\n",
      "in1: 100% in2: 100% \n"
     ]
    },
    {
     "name": "stdout",
     "output_type": "stream",
     "text": [
      "Genotypes remaining: 21\n"
     ]
    },
    {
     "name": "stderr",
     "output_type": "stream",
     "text": [
      "pigz: skipping: ramdisk/geno_kmers is a directory\n",
      "in1: 100% in2: 100% \n",
      "pigz: skipping: ramdisk/geno_kmers is a directory\n",
      "pigz: skipping: ramdisk/kmer_union0.kmc_pre does not have compressed suffix\n",
      "pigz: skipping: ramdisk/kmer_union0.kmc_suf does not have compressed suffix\n",
      "in1: 100% in2: 100% \n",
      "pigz: skipping: ramdisk/geno_kmers is a directory\n",
      "pigz: skipping: ramdisk/kmer_union1.kmc_pre does not have compressed suffix\n",
      "pigz: skipping: ramdisk/kmer_union1.kmc_suf does not have compressed suffix\n",
      "in1: 100% in2: 100% in2: 88% \n",
      "pigz: skipping: ramdisk/geno_kmers is a directory\n",
      "pigz: skipping: ramdisk/kmer_union0.kmc_pre does not have compressed suffix\n",
      "pigz: skipping: ramdisk/kmer_union0.kmc_suf does not have compressed suffix\n",
      "in1: 100% in2: 100% \n",
      "pigz: skipping: ramdisk/geno_kmers is a directory\n",
      "pigz: skipping: ramdisk/kmer_union1.kmc_pre does not have compressed suffix\n",
      "pigz: skipping: ramdisk/kmer_union1.kmc_suf does not have compressed suffix\n",
      "in1: 100% in2: 100% \n"
     ]
    },
    {
     "name": "stdout",
     "output_type": "stream",
     "text": [
      "Genotypes remaining: 20\n"
     ]
    },
    {
     "name": "stderr",
     "output_type": "stream",
     "text": [
      "pigz: skipping: ramdisk/geno_kmers is a directory\n",
      "in1: 100% in2: 100% \n",
      "pigz: skipping: ramdisk/geno_kmers is a directory\n",
      "pigz: skipping: ramdisk/kmer_union0.kmc_pre does not have compressed suffix\n",
      "pigz: skipping: ramdisk/kmer_union0.kmc_suf does not have compressed suffix\n",
      "in1: 100% in2: 100% \n",
      "pigz: skipping: ramdisk/geno_kmers is a directory\n",
      "pigz: skipping: ramdisk/kmer_union1.kmc_pre does not have compressed suffix\n",
      "pigz: skipping: ramdisk/kmer_union1.kmc_suf does not have compressed suffix\n",
      "in1: 100% in2: 100% \n",
      "pigz: skipping: ramdisk/geno_kmers is a directory\n",
      "pigz: skipping: ramdisk/kmer_union0.kmc_pre does not have compressed suffix\n",
      "pigz: skipping: ramdisk/kmer_union0.kmc_suf does not have compressed suffix\n",
      "in1: 100% in2: 100% \n",
      "pigz: skipping: ramdisk/geno_kmers is a directory\n",
      "pigz: skipping: ramdisk/kmer_union1.kmc_pre does not have compressed suffix\n",
      "pigz: skipping: ramdisk/kmer_union1.kmc_suf does not have compressed suffix\n",
      "in1: 100% in2: 100% \n",
      "pigz: skipping: ramdisk/geno_kmers is a directory\n",
      "pigz: skipping: ramdisk/kmer_union0.kmc_pre does not have compressed suffix\n",
      "pigz: skipping: ramdisk/kmer_union0.kmc_suf does not have compressed suffix\n",
      "in1: 100% in2: 100% \n"
     ]
    },
    {
     "name": "stdout",
     "output_type": "stream",
     "text": [
      "Genotypes remaining: 19\n"
     ]
    },
    {
     "name": "stderr",
     "output_type": "stream",
     "text": [
      "pigz: skipping: ramdisk/geno_kmers is a directory\n",
      "in1: 100% in2: 100% \n",
      "pigz: skipping: ramdisk/geno_kmers is a directory\n",
      "pigz: skipping: ramdisk/kmer_union0.kmc_pre does not have compressed suffix\n",
      "pigz: skipping: ramdisk/kmer_union0.kmc_suf does not have compressed suffix\n",
      "in1: 100% in2: 100% \n",
      "pigz: skipping: ramdisk/geno_kmers is a directory\n",
      "pigz: skipping: ramdisk/kmer_union1.kmc_pre does not have compressed suffix\n",
      "pigz: skipping: ramdisk/kmer_union1.kmc_suf does not have compressed suffix\n",
      "in1: 100% in2: 100% % in2: 57% \n",
      "pigz: skipping: ramdisk/geno_kmers is a directory\n",
      "pigz: skipping: ramdisk/kmer_union0.kmc_pre does not have compressed suffix\n",
      "pigz: skipping: ramdisk/kmer_union0.kmc_suf does not have compressed suffix\n",
      "in1: 100% in2: 100% \n",
      "pigz: skipping: ramdisk/geno_kmers is a directory\n",
      "pigz: skipping: ramdisk/kmer_union1.kmc_pre does not have compressed suffix\n",
      "pigz: skipping: ramdisk/kmer_union1.kmc_suf does not have compressed suffix\n",
      "in1: 100% in2: 100% \n",
      "pigz: skipping: ramdisk/geno_kmers is a directory\n",
      "pigz: skipping: ramdisk/kmer_union0.kmc_pre does not have compressed suffix\n",
      "pigz: skipping: ramdisk/kmer_union0.kmc_suf does not have compressed suffix\n",
      "in1: 100% in2: 100% \n"
     ]
    },
    {
     "name": "stdout",
     "output_type": "stream",
     "text": [
      "Genotypes remaining: 18\n"
     ]
    },
    {
     "name": "stderr",
     "output_type": "stream",
     "text": [
      "pigz: skipping: ramdisk/geno_kmers is a directory\n",
      "in1: 100% in2: 100% \n",
      "pigz: skipping: ramdisk/geno_kmers is a directory\n",
      "pigz: skipping: ramdisk/kmer_union0.kmc_pre does not have compressed suffix\n",
      "pigz: skipping: ramdisk/kmer_union0.kmc_suf does not have compressed suffix\n",
      "in1: 100% in2: 100% \n",
      "pigz: skipping: ramdisk/geno_kmers is a directory\n",
      "pigz: skipping: ramdisk/kmer_union1.kmc_pre does not have compressed suffix\n",
      "pigz: skipping: ramdisk/kmer_union1.kmc_suf does not have compressed suffix\n",
      "in1: 100% in2: 100% \n",
      "pigz: skipping: ramdisk/geno_kmers is a directory\n",
      "pigz: skipping: ramdisk/kmer_union0.kmc_pre does not have compressed suffix\n",
      "pigz: skipping: ramdisk/kmer_union0.kmc_suf does not have compressed suffix\n",
      "in1: 100% in2: 100% \n",
      "pigz: skipping: ramdisk/geno_kmers is a directory\n",
      "pigz: skipping: ramdisk/kmer_union1.kmc_pre does not have compressed suffix\n",
      "pigz: skipping: ramdisk/kmer_union1.kmc_suf does not have compressed suffix\n",
      "in1: 100% in2: 100% \n",
      "pigz: skipping: ramdisk/geno_kmers is a directory\n",
      "pigz: skipping: ramdisk/kmer_union0.kmc_pre does not have compressed suffix\n",
      "pigz: skipping: ramdisk/kmer_union0.kmc_suf does not have compressed suffix\n",
      "in1: 100% in2: 100% \n"
     ]
    },
    {
     "name": "stdout",
     "output_type": "stream",
     "text": [
      "Genotypes remaining: 17\n"
     ]
    },
    {
     "name": "stderr",
     "output_type": "stream",
     "text": [
      "pigz: skipping: ramdisk/geno_kmers is a directory\n",
      "in1: 100% in2: 100% \n",
      "pigz: skipping: ramdisk/geno_kmers is a directory\n",
      "pigz: skipping: ramdisk/kmer_union0.kmc_pre does not have compressed suffix\n",
      "pigz: skipping: ramdisk/kmer_union0.kmc_suf does not have compressed suffix\n",
      "in1: 100% in2: 100% \n",
      "pigz: skipping: ramdisk/geno_kmers is a directory\n",
      "pigz: skipping: ramdisk/kmer_union1.kmc_pre does not have compressed suffix\n",
      "pigz: skipping: ramdisk/kmer_union1.kmc_suf does not have compressed suffix\n",
      "in1: 100% in2: 100% \n",
      "pigz: skipping: ramdisk/geno_kmers is a directory\n",
      "pigz: skipping: ramdisk/kmer_union0.kmc_pre does not have compressed suffix\n",
      "pigz: skipping: ramdisk/kmer_union0.kmc_suf does not have compressed suffix\n",
      "in1: 100% in2: 100% % in2: 33% \n",
      "pigz: skipping: ramdisk/geno_kmers is a directory\n",
      "pigz: skipping: ramdisk/kmer_union1.kmc_pre does not have compressed suffix\n",
      "pigz: skipping: ramdisk/kmer_union1.kmc_suf does not have compressed suffix\n",
      "in1: 100% in2: 100% \n",
      "pigz: skipping: ramdisk/geno_kmers is a directory\n",
      "pigz: skipping: ramdisk/kmer_union0.kmc_pre does not have compressed suffix\n",
      "pigz: skipping: ramdisk/kmer_union0.kmc_suf does not have compressed suffix\n",
      "in1: 100% in2: 100% \n"
     ]
    },
    {
     "name": "stdout",
     "output_type": "stream",
     "text": [
      "Genotypes remaining: 16\n"
     ]
    },
    {
     "name": "stderr",
     "output_type": "stream",
     "text": [
      "pigz: skipping: ramdisk/geno_kmers is a directory\n",
      "in1: 100% in2: 100% \n",
      "pigz: skipping: ramdisk/geno_kmers is a directory\n",
      "pigz: skipping: ramdisk/kmer_union0.kmc_pre does not have compressed suffix\n",
      "pigz: skipping: ramdisk/kmer_union0.kmc_suf does not have compressed suffix\n",
      "in1: 100% in2: 100% \n",
      "pigz: skipping: ramdisk/geno_kmers is a directory\n",
      "pigz: skipping: ramdisk/kmer_union1.kmc_pre does not have compressed suffix\n",
      "pigz: skipping: ramdisk/kmer_union1.kmc_suf does not have compressed suffix\n",
      "in1: 100% in2: 100% \n",
      "pigz: skipping: ramdisk/geno_kmers is a directory\n",
      "pigz: skipping: ramdisk/kmer_union0.kmc_pre does not have compressed suffix\n",
      "pigz: skipping: ramdisk/kmer_union0.kmc_suf does not have compressed suffix\n",
      "in1: 100% in2: 100% \n",
      "pigz: skipping: ramdisk/geno_kmers is a directory\n",
      "pigz: skipping: ramdisk/kmer_union1.kmc_pre does not have compressed suffix\n",
      "pigz: skipping: ramdisk/kmer_union1.kmc_suf does not have compressed suffix\n",
      "in1: 100% in2: 100% \n"
     ]
    },
    {
     "name": "stdout",
     "output_type": "stream",
     "text": [
      "Genotypes remaining: 15\n"
     ]
    },
    {
     "name": "stderr",
     "output_type": "stream",
     "text": [
      "pigz: skipping: ramdisk/geno_kmers is a directory\n",
      "in1: 100% in2: 100% \n",
      "pigz: skipping: ramdisk/geno_kmers is a directory\n",
      "pigz: skipping: ramdisk/kmer_union0.kmc_pre does not have compressed suffix\n",
      "pigz: skipping: ramdisk/kmer_union0.kmc_suf does not have compressed suffix\n",
      "in1: 100% in2: 100% \n",
      "pigz: skipping: ramdisk/geno_kmers is a directory\n",
      "pigz: skipping: ramdisk/kmer_union1.kmc_pre does not have compressed suffix\n",
      "pigz: skipping: ramdisk/kmer_union1.kmc_suf does not have compressed suffix\n",
      "in1: 100% in2: 100% \n",
      "pigz: skipping: ramdisk/geno_kmers is a directory\n",
      "pigz: skipping: ramdisk/kmer_union0.kmc_pre does not have compressed suffix\n",
      "pigz: skipping: ramdisk/kmer_union0.kmc_suf does not have compressed suffix\n",
      "in1: 100% in2: 100% \n",
      "pigz: skipping: ramdisk/geno_kmers is a directory\n",
      "pigz: skipping: ramdisk/kmer_union1.kmc_pre does not have compressed suffix\n",
      "pigz: skipping: ramdisk/kmer_union1.kmc_suf does not have compressed suffix\n",
      "in1: 100% in2: 100% \n",
      "pigz: skipping: ramdisk/geno_kmers is a directory\n",
      "pigz: skipping: ramdisk/kmer_union0.kmc_pre does not have compressed suffix\n",
      "pigz: skipping: ramdisk/kmer_union0.kmc_suf does not have compressed suffix\n",
      "in1: 100% in2: 100% \n"
     ]
    },
    {
     "name": "stdout",
     "output_type": "stream",
     "text": [
      "Genotypes remaining: 14\n"
     ]
    },
    {
     "name": "stderr",
     "output_type": "stream",
     "text": [
      "pigz: skipping: ramdisk/geno_kmers is a directory\n",
      "in1: 100% in2: 100% \n",
      "pigz: skipping: ramdisk/geno_kmers is a directory\n",
      "pigz: skipping: ramdisk/kmer_union0.kmc_pre does not have compressed suffix\n",
      "pigz: skipping: ramdisk/kmer_union0.kmc_suf does not have compressed suffix\n",
      "in1: 100% in2: 100% \n",
      "pigz: skipping: ramdisk/geno_kmers is a directory\n",
      "pigz: skipping: ramdisk/kmer_union1.kmc_pre does not have compressed suffix\n",
      "pigz: skipping: ramdisk/kmer_union1.kmc_suf does not have compressed suffix\n",
      "in1: 100% in2: 100% \n",
      "pigz: skipping: ramdisk/geno_kmers is a directory\n",
      "pigz: skipping: ramdisk/kmer_union0.kmc_pre does not have compressed suffix\n",
      "pigz: skipping: ramdisk/kmer_union0.kmc_suf does not have compressed suffix\n",
      "in1: 100% in2: 100% \n",
      "pigz: skipping: ramdisk/geno_kmers is a directory\n",
      "pigz: skipping: ramdisk/kmer_union1.kmc_pre does not have compressed suffix\n",
      "pigz: skipping: ramdisk/kmer_union1.kmc_suf does not have compressed suffix\n",
      "in1: 100% in2: 100% \n",
      "pigz: skipping: ramdisk/geno_kmers is a directory\n",
      "pigz: skipping: ramdisk/kmer_union0.kmc_pre does not have compressed suffix\n",
      "pigz: skipping: ramdisk/kmer_union0.kmc_suf does not have compressed suffix\n",
      "in1: 100% in2: 100% \n"
     ]
    },
    {
     "name": "stdout",
     "output_type": "stream",
     "text": [
      "Genotypes remaining: 13\n"
     ]
    },
    {
     "name": "stderr",
     "output_type": "stream",
     "text": [
      "pigz: skipping: ramdisk/geno_kmers is a directory\n",
      "in1: 100% in2: 100% \n",
      "pigz: skipping: ramdisk/geno_kmers is a directory\n",
      "pigz: skipping: ramdisk/kmer_union0.kmc_pre does not have compressed suffix\n",
      "pigz: skipping: ramdisk/kmer_union0.kmc_suf does not have compressed suffix\n",
      "in1: 100% in2: 100% \n",
      "pigz: skipping: ramdisk/geno_kmers is a directory\n",
      "pigz: skipping: ramdisk/kmer_union1.kmc_pre does not have compressed suffix\n",
      "pigz: skipping: ramdisk/kmer_union1.kmc_suf does not have compressed suffix\n",
      "in1: 100% in2: 100% \n",
      "pigz: skipping: ramdisk/geno_kmers is a directory\n",
      "pigz: skipping: ramdisk/kmer_union0.kmc_pre does not have compressed suffix\n",
      "pigz: skipping: ramdisk/kmer_union0.kmc_suf does not have compressed suffix\n",
      "in1: 100% in2: 100% \n",
      "pigz: skipping: ramdisk/geno_kmers is a directory\n",
      "pigz: skipping: ramdisk/kmer_union1.kmc_pre does not have compressed suffix\n",
      "pigz: skipping: ramdisk/kmer_union1.kmc_suf does not have compressed suffix\n",
      "in1: 100% in2: 100% \n",
      "pigz: skipping: ramdisk/geno_kmers is a directory\n",
      "pigz: skipping: ramdisk/kmer_union0.kmc_pre does not have compressed suffix\n",
      "pigz: skipping: ramdisk/kmer_union0.kmc_suf does not have compressed suffix\n",
      "in1: 100% in2: 100% \n"
     ]
    },
    {
     "name": "stdout",
     "output_type": "stream",
     "text": [
      "Genotypes remaining: 12\n"
     ]
    },
    {
     "name": "stderr",
     "output_type": "stream",
     "text": [
      "pigz: skipping: ramdisk/geno_kmers is a directory\n",
      "in1: 100% in2: 100% \n",
      "pigz: skipping: ramdisk/geno_kmers is a directory\n",
      "pigz: skipping: ramdisk/kmer_union0.kmc_pre does not have compressed suffix\n",
      "pigz: skipping: ramdisk/kmer_union0.kmc_suf does not have compressed suffix\n",
      "in1: 100% in2: 100% \n",
      "pigz: skipping: ramdisk/geno_kmers is a directory\n",
      "pigz: skipping: ramdisk/kmer_union1.kmc_pre does not have compressed suffix\n",
      "pigz: skipping: ramdisk/kmer_union1.kmc_suf does not have compressed suffix\n",
      "in1: 100% in2: 100% \n",
      "pigz: skipping: ramdisk/geno_kmers is a directory\n",
      "pigz: skipping: ramdisk/kmer_union0.kmc_pre does not have compressed suffix\n",
      "pigz: skipping: ramdisk/kmer_union0.kmc_suf does not have compressed suffix\n",
      "in1: 100% in2: 100% \n",
      "pigz: skipping: ramdisk/geno_kmers is a directory\n",
      "pigz: skipping: ramdisk/kmer_union1.kmc_pre does not have compressed suffix\n",
      "pigz: skipping: ramdisk/kmer_union1.kmc_suf does not have compressed suffix\n",
      "in1: 100% in2: 100% \n",
      "pigz: skipping: ramdisk/geno_kmers is a directory\n",
      "pigz: skipping: ramdisk/kmer_union0.kmc_pre does not have compressed suffix\n",
      "pigz: skipping: ramdisk/kmer_union0.kmc_suf does not have compressed suffix\n",
      "in1: 100% in2: 100% \n"
     ]
    },
    {
     "name": "stdout",
     "output_type": "stream",
     "text": [
      "Genotypes remaining: 11\n"
     ]
    },
    {
     "name": "stderr",
     "output_type": "stream",
     "text": [
      "pigz: skipping: ramdisk/geno_kmers is a directory\n",
      "in1: 100% in2: 100% \n",
      "pigz: skipping: ramdisk/geno_kmers is a directory\n",
      "pigz: skipping: ramdisk/kmer_union0.kmc_pre does not have compressed suffix\n",
      "pigz: skipping: ramdisk/kmer_union0.kmc_suf does not have compressed suffix\n",
      "in1: 100% in2: 100% \n",
      "pigz: skipping: ramdisk/geno_kmers is a directory\n",
      "pigz: skipping: ramdisk/kmer_union1.kmc_pre does not have compressed suffix\n",
      "pigz: skipping: ramdisk/kmer_union1.kmc_suf does not have compressed suffix\n",
      "in1: 100% in2: 100% \n",
      "pigz: skipping: ramdisk/geno_kmers is a directory\n",
      "pigz: skipping: ramdisk/kmer_union0.kmc_pre does not have compressed suffix\n",
      "pigz: skipping: ramdisk/kmer_union0.kmc_suf does not have compressed suffix\n",
      "in1: 100% in2: 100% \n",
      "pigz: skipping: ramdisk/geno_kmers is a directory\n",
      "pigz: skipping: ramdisk/kmer_union1.kmc_pre does not have compressed suffix\n",
      "pigz: skipping: ramdisk/kmer_union1.kmc_suf does not have compressed suffix\n",
      "in1: 100% in2: 100% \n",
      "pigz: skipping: ramdisk/geno_kmers is a directory\n",
      "pigz: skipping: ramdisk/kmer_union0.kmc_pre does not have compressed suffix\n",
      "pigz: skipping: ramdisk/kmer_union0.kmc_suf does not have compressed suffix\n",
      "in1: 100% in2: 100% \n",
      "pigz: skipping: ramdisk/geno_kmers is a directory\n",
      "pigz: skipping: ramdisk/kmer_union1.kmc_pre does not have compressed suffix\n",
      "pigz: skipping: ramdisk/kmer_union1.kmc_suf does not have compressed suffix\n",
      "in1: 100% in2: 100% \n",
      "pigz: skipping: ramdisk/geno_kmers is a directory\n",
      "pigz: skipping: ramdisk/kmer_union0.kmc_pre does not have compressed suffix\n",
      "pigz: skipping: ramdisk/kmer_union0.kmc_suf does not have compressed suffix\n",
      "in1: 100% in2: 100% \n"
     ]
    },
    {
     "name": "stdout",
     "output_type": "stream",
     "text": [
      "Genotypes remaining: 10\n"
     ]
    },
    {
     "name": "stderr",
     "output_type": "stream",
     "text": [
      "pigz: skipping: ramdisk/geno_kmers is a directory\n",
      "in1: 100% in2: 100% \n",
      "pigz: skipping: ramdisk/geno_kmers is a directory\n",
      "pigz: skipping: ramdisk/kmer_union0.kmc_pre does not have compressed suffix\n",
      "pigz: skipping: ramdisk/kmer_union0.kmc_suf does not have compressed suffix\n",
      "in1: 100% in2: 100% \n",
      "pigz: skipping: ramdisk/geno_kmers is a directory\n",
      "pigz: skipping: ramdisk/kmer_union1.kmc_pre does not have compressed suffix\n",
      "pigz: skipping: ramdisk/kmer_union1.kmc_suf does not have compressed suffix\n",
      "in1: 100% in2: 100% \n",
      "pigz: skipping: ramdisk/geno_kmers is a directory\n",
      "pigz: skipping: ramdisk/kmer_union0.kmc_pre does not have compressed suffix\n",
      "pigz: skipping: ramdisk/kmer_union0.kmc_suf does not have compressed suffix\n",
      "in1: 100% in2: 100% \n",
      "pigz: skipping: ramdisk/geno_kmers is a directory\n",
      "pigz: skipping: ramdisk/kmer_union1.kmc_pre does not have compressed suffix\n",
      "pigz: skipping: ramdisk/kmer_union1.kmc_suf does not have compressed suffix\n",
      "in1: 100% in2: 100% \n"
     ]
    },
    {
     "name": "stdout",
     "output_type": "stream",
     "text": [
      "Genotypes remaining: 9\n"
     ]
    },
    {
     "name": "stderr",
     "output_type": "stream",
     "text": [
      "pigz: skipping: ramdisk/geno_kmers is a directory\n",
      "in1: 100% in2: 100% \n",
      "pigz: skipping: ramdisk/geno_kmers is a directory\n",
      "pigz: skipping: ramdisk/kmer_union0.kmc_pre does not have compressed suffix\n",
      "pigz: skipping: ramdisk/kmer_union0.kmc_suf does not have compressed suffix\n",
      "in1: 100% in2: 100% \n",
      "pigz: skipping: ramdisk/geno_kmers is a directory\n",
      "pigz: skipping: ramdisk/kmer_union1.kmc_pre does not have compressed suffix\n",
      "pigz: skipping: ramdisk/kmer_union1.kmc_suf does not have compressed suffix\n",
      "in1: 100% in2: 100% \n",
      "pigz: skipping: ramdisk/geno_kmers is a directory\n",
      "pigz: skipping: ramdisk/kmer_union0.kmc_pre does not have compressed suffix\n",
      "pigz: skipping: ramdisk/kmer_union0.kmc_suf does not have compressed suffix\n",
      "in1: 100% in2: 100% \n",
      "pigz: skipping: ramdisk/geno_kmers is a directory\n",
      "pigz: skipping: ramdisk/kmer_union1.kmc_pre does not have compressed suffix\n",
      "pigz: skipping: ramdisk/kmer_union1.kmc_suf does not have compressed suffix\n",
      "in1: 100% in2: 100% \n",
      "pigz: skipping: ramdisk/geno_kmers is a directory\n",
      "pigz: skipping: ramdisk/kmer_union0.kmc_pre does not have compressed suffix\n",
      "pigz: skipping: ramdisk/kmer_union0.kmc_suf does not have compressed suffix\n",
      "in1: 100% in2: 100% \n"
     ]
    },
    {
     "name": "stdout",
     "output_type": "stream",
     "text": [
      "Genotypes remaining: 8\n"
     ]
    },
    {
     "name": "stderr",
     "output_type": "stream",
     "text": [
      "pigz: skipping: ramdisk/geno_kmers is a directory\n",
      "in1: 100% in2: 100% \n",
      "pigz: skipping: ramdisk/geno_kmers is a directory\n",
      "pigz: skipping: ramdisk/kmer_union0.kmc_pre does not have compressed suffix\n",
      "pigz: skipping: ramdisk/kmer_union0.kmc_suf does not have compressed suffix\n",
      "in1: 100% in2: 100% \n",
      "pigz: skipping: ramdisk/geno_kmers is a directory\n",
      "pigz: skipping: ramdisk/kmer_union1.kmc_pre does not have compressed suffix\n",
      "pigz: skipping: ramdisk/kmer_union1.kmc_suf does not have compressed suffix\n",
      "in1: 100% in2: 100% \n",
      "pigz: skipping: ramdisk/geno_kmers is a directory\n",
      "pigz: skipping: ramdisk/kmer_union0.kmc_pre does not have compressed suffix\n",
      "pigz: skipping: ramdisk/kmer_union0.kmc_suf does not have compressed suffix\n",
      "in1: 100% in2: 100% \n",
      "pigz: skipping: ramdisk/geno_kmers is a directory\n",
      "pigz: skipping: ramdisk/kmer_union1.kmc_pre does not have compressed suffix\n",
      "pigz: skipping: ramdisk/kmer_union1.kmc_suf does not have compressed suffix\n",
      "in1: 100% in2: 100% \n",
      "pigz: skipping: ramdisk/geno_kmers is a directory\n",
      "pigz: skipping: ramdisk/kmer_union0.kmc_pre does not have compressed suffix\n",
      "pigz: skipping: ramdisk/kmer_union0.kmc_suf does not have compressed suffix\n",
      "in1: 100% in2: 100% \n",
      "pigz: skipping: ramdisk/geno_kmers is a directory\n",
      "pigz: skipping: ramdisk/kmer_union1.kmc_pre does not have compressed suffix\n",
      "pigz: skipping: ramdisk/kmer_union1.kmc_suf does not have compressed suffix\n",
      "in1: 100% in2: 100% \n",
      "pigz: skipping: ramdisk/geno_kmers is a directory\n",
      "pigz: skipping: ramdisk/kmer_union0.kmc_pre does not have compressed suffix\n",
      "pigz: skipping: ramdisk/kmer_union0.kmc_suf does not have compressed suffix\n",
      "in1: 100% in2: 100% \n"
     ]
    },
    {
     "name": "stdout",
     "output_type": "stream",
     "text": [
      "Genotypes remaining: 7\n"
     ]
    },
    {
     "name": "stderr",
     "output_type": "stream",
     "text": [
      "pigz: skipping: ramdisk/geno_kmers is a directory\n",
      "in1: 100% in2: 100% \n"
     ]
    },
    {
     "name": "stdout",
     "output_type": "stream",
     "text": [
      "Genotypes remaining: 6\n"
     ]
    },
    {
     "name": "stderr",
     "output_type": "stream",
     "text": [
      "pigz: skipping: ramdisk/geno_kmers is a directory\n",
      "in1: 100% in2: 100% \n",
      "pigz: skipping: ramdisk/geno_kmers is a directory\n",
      "pigz: skipping: ramdisk/kmer_union0.kmc_pre does not have compressed suffix\n",
      "pigz: skipping: ramdisk/kmer_union0.kmc_suf does not have compressed suffix\n",
      "in1: 100% in2: 100% \n",
      "pigz: skipping: ramdisk/geno_kmers is a directory\n",
      "pigz: skipping: ramdisk/kmer_union1.kmc_pre does not have compressed suffix\n",
      "pigz: skipping: ramdisk/kmer_union1.kmc_suf does not have compressed suffix\n",
      "in1: 100% in2: 100% \n",
      "pigz: skipping: ramdisk/geno_kmers is a directory\n",
      "pigz: skipping: ramdisk/kmer_union0.kmc_pre does not have compressed suffix\n",
      "pigz: skipping: ramdisk/kmer_union0.kmc_suf does not have compressed suffix\n",
      "in1: 100% in2: 100% \n",
      "pigz: skipping: ramdisk/geno_kmers is a directory\n",
      "pigz: skipping: ramdisk/kmer_union1.kmc_pre does not have compressed suffix\n",
      "pigz: skipping: ramdisk/kmer_union1.kmc_suf does not have compressed suffix\n",
      "in1: 100% in2: 100% \n"
     ]
    },
    {
     "name": "stdout",
     "output_type": "stream",
     "text": [
      "Genotypes remaining: 5\n"
     ]
    },
    {
     "name": "stderr",
     "output_type": "stream",
     "text": [
      "pigz: skipping: ramdisk/geno_kmers is a directory\n",
      "in1: 100% in2: 100% \n",
      "pigz: skipping: ramdisk/geno_kmers is a directory\n",
      "pigz: skipping: ramdisk/kmer_union0.kmc_pre does not have compressed suffix\n",
      "pigz: skipping: ramdisk/kmer_union0.kmc_suf does not have compressed suffix\n",
      "in1: 100% in2: 100% \n",
      "pigz: skipping: ramdisk/geno_kmers is a directory\n",
      "pigz: skipping: ramdisk/kmer_union1.kmc_pre does not have compressed suffix\n",
      "pigz: skipping: ramdisk/kmer_union1.kmc_suf does not have compressed suffix\n",
      "in1: 100% in2: 100% \n",
      "pigz: skipping: ramdisk/geno_kmers is a directory\n",
      "pigz: skipping: ramdisk/kmer_union0.kmc_pre does not have compressed suffix\n",
      "pigz: skipping: ramdisk/kmer_union0.kmc_suf does not have compressed suffix\n",
      "in1: 100% in2: 100% \n",
      "pigz: skipping: ramdisk/geno_kmers is a directory\n",
      "pigz: skipping: ramdisk/kmer_union1.kmc_pre does not have compressed suffix\n",
      "pigz: skipping: ramdisk/kmer_union1.kmc_suf does not have compressed suffix\n",
      "in1: 100% in2: 100% \n",
      "pigz: skipping: ramdisk/geno_kmers is a directory\n",
      "pigz: skipping: ramdisk/kmer_union0.kmc_pre does not have compressed suffix\n",
      "pigz: skipping: ramdisk/kmer_union0.kmc_suf does not have compressed suffix\n",
      "in1: 100% in2: 100% \n",
      "pigz: skipping: ramdisk/geno_kmers is a directory\n",
      "pigz: skipping: ramdisk/kmer_union1.kmc_pre does not have compressed suffix\n",
      "pigz: skipping: ramdisk/kmer_union1.kmc_suf does not have compressed suffix\n",
      "in1: 100% in2: 100% \n"
     ]
    },
    {
     "name": "stdout",
     "output_type": "stream",
     "text": [
      "Genotypes remaining: 4\n"
     ]
    },
    {
     "name": "stderr",
     "output_type": "stream",
     "text": [
      "pigz: skipping: ramdisk/geno_kmers is a directory\n",
      "in1: 100% in2: 100% \n"
     ]
    },
    {
     "name": "stdout",
     "output_type": "stream",
     "text": [
      "Genotypes remaining: 3\n"
     ]
    },
    {
     "name": "stderr",
     "output_type": "stream",
     "text": [
      "pigz: skipping: ramdisk/geno_kmers is a directory\n",
      "in1: 100% in2: 100% \n",
      "pigz: skipping: ramdisk/geno_kmers is a directory\n",
      "pigz: skipping: ramdisk/kmer_union0.kmc_pre does not have compressed suffix\n",
      "pigz: skipping: ramdisk/kmer_union0.kmc_suf does not have compressed suffix\n",
      "in1: 100% in2: 100% \n",
      "pigz: skipping: ramdisk/geno_kmers is a directory\n",
      "pigz: skipping: ramdisk/kmer_union1.kmc_pre does not have compressed suffix\n",
      "pigz: skipping: ramdisk/kmer_union1.kmc_suf does not have compressed suffix\n",
      "in1: 100% in2: 100% \n",
      "pigz: skipping: ramdisk/geno_kmers is a directory\n",
      "pigz: skipping: ramdisk/kmer_union0.kmc_pre does not have compressed suffix\n",
      "pigz: skipping: ramdisk/kmer_union0.kmc_suf does not have compressed suffix\n",
      "in1: 100% in2: 100% \n",
      "pigz: skipping: ramdisk/geno_kmers is a directory\n",
      "pigz: skipping: ramdisk/kmer_union1.kmc_pre does not have compressed suffix\n",
      "pigz: skipping: ramdisk/kmer_union1.kmc_suf does not have compressed suffix\n",
      "in1: 100% in2: 100% \n"
     ]
    },
    {
     "name": "stdout",
     "output_type": "stream",
     "text": [
      "Genotypes remaining: 2\n"
     ]
    },
    {
     "name": "stderr",
     "output_type": "stream",
     "text": [
      "pigz: skipping: ramdisk/geno_kmers is a directory\n",
      "in1: 100% in2: 100% \n",
      "pigz: skipping: ramdisk/geno_kmers is a directory\n",
      "pigz: skipping: ramdisk/kmer_union0.kmc_pre does not have compressed suffix\n",
      "pigz: skipping: ramdisk/kmer_union0.kmc_suf does not have compressed suffix\n",
      "in1: 100% in2: 100% \n",
      "pigz: skipping: ramdisk/geno_kmers is a directory\n",
      "pigz: skipping: ramdisk/kmer_union1.kmc_pre does not have compressed suffix\n",
      "pigz: skipping: ramdisk/kmer_union1.kmc_suf does not have compressed suffix\n",
      "in1: 100% in2: 100% 2: 61% \n",
      "pigz: skipping: ramdisk/geno_kmers is a directory\n",
      "pigz: skipping: ramdisk/kmer_union0.kmc_pre does not have compressed suffix\n",
      "pigz: skipping: ramdisk/kmer_union0.kmc_suf does not have compressed suffix\n",
      "in1: 100% in2: 100% \n",
      "pigz: skipping: ramdisk/geno_kmers is a directory\n",
      "pigz: skipping: ramdisk/kmer_union1.kmc_pre does not have compressed suffix\n",
      "pigz: skipping: ramdisk/kmer_union1.kmc_suf does not have compressed suffix\n",
      "in1: 100% in2: 100% \n",
      "pigz: skipping: ramdisk/geno_kmers is a directory\n",
      "pigz: skipping: ramdisk/kmer_union0.kmc_pre does not have compressed suffix\n",
      "pigz: skipping: ramdisk/kmer_union0.kmc_suf does not have compressed suffix\n",
      "in1: 100% in2: 100% \n",
      "pigz: skipping: ramdisk/geno_kmers is a directory\n",
      "pigz: skipping: ramdisk/kmer_union1.kmc_pre does not have compressed suffix\n",
      "pigz: skipping: ramdisk/kmer_union1.kmc_suf does not have compressed suffix\n",
      "in1: 100% in2: 100% \n"
     ]
    },
    {
     "name": "stdout",
     "output_type": "stream",
     "text": [
      "Genotypes remaining: 1\n"
     ]
    },
    {
     "name": "stderr",
     "output_type": "stream",
     "text": [
      "pigz: skipping: ramdisk/geno_kmers is a directory\n",
      "in1: 100% in2: 100% \n",
      "pigz: skipping: ramdisk/geno_kmers is a directory\n",
      "pigz: skipping: ramdisk/kmer_union0.kmc_pre does not have compressed suffix\n",
      "pigz: skipping: ramdisk/kmer_union0.kmc_suf does not have compressed suffix\n",
      "in1: 100% in2: 100% \n",
      "pigz: skipping: ramdisk/geno_kmers is a directory\n",
      "pigz: skipping: ramdisk/kmer_union1.kmc_pre does not have compressed suffix\n",
      "pigz: skipping: ramdisk/kmer_union1.kmc_suf does not have compressed suffix\n",
      "in1: 100% in2: 100% \n",
      "pigz: skipping: ramdisk/geno_kmers is a directory\n",
      "pigz: skipping: ramdisk/kmer_union0.kmc_pre does not have compressed suffix\n",
      "pigz: skipping: ramdisk/kmer_union0.kmc_suf does not have compressed suffix\n",
      "in1: 100% in2: 100% \n",
      "pigz: skipping: ramdisk/geno_kmers is a directory\n",
      "pigz: skipping: ramdisk/kmer_union1.kmc_pre does not have compressed suffix\n",
      "pigz: skipping: ramdisk/kmer_union1.kmc_suf does not have compressed suffix\n",
      "in1: 100% in2: 100% \n"
     ]
    },
    {
     "name": "stdout",
     "output_type": "stream",
     "text": [
      "Genotypes remaining: 0\n"
     ]
    }
   ],
   "source": [
    "try:\n",
    "    os.mkdir(\"ramdisk/geno_kmers\")\n",
    "except:\n",
    "    None\n",
    "\n",
    "genotypes = set(annot[\"genotype\"].values)\n",
    "genotype_counter = len(genotypes)\n",
    "print(\"Total genotypes:\", genotype_counter)\n",
    "for geno in genotypes:\n",
    "    acc = annot[annot[\"genotype\"] == geno][\"run_accession\"].values.tolist()\n",
    "    if len(acc)==1:\n",
    "        os.system('cp kmc/{0}.kmc_suf.gz ramdisk/'.format(acc[0]))\n",
    "        os.system('cp kmc/{0}.kmc_pre.gz ramdisk/'.format(acc[0]))\n",
    "        os.system('pigz --decompress ramdisk/*')\n",
    "        os.system('mv ramdisk/{0}.kmc_suf ramdisk/geno_kmers/{1}.kmc_suf'.format(acc[0], geno))\n",
    "        os.system('mv ramdisk/{0}.kmc_pre ramdisk/geno_kmers/{1}.kmc_pre'.format(acc[0], geno))\n",
    "    if len(acc)>=2:\n",
    "        fl1, fl2 = acc[0], acc[1]\n",
    "        os.system('cp kmc/{0}.kmc_suf.gz ramdisk/'.format(fl1))\n",
    "        os.system('cp kmc/{0}.kmc_pre.gz ramdisk/'.format(fl1))\n",
    "        os.system('cp kmc/{0}.kmc_suf.gz ramdisk/'.format(fl2))\n",
    "        os.system('cp kmc/{0}.kmc_pre.gz ramdisk/'.format(fl2))\n",
    "        os.system('pigz --decompress ramdisk/*')\n",
    "        os.system('kmc_tools simple ramdisk/{0} ramdisk/{1} union ramdisk/kmer_union0'.format(fl1, fl2))\n",
    "        os.system('rm {0}/{1}.kmc_suf {0}/{1}.kmc_pre {0}/{2}.kmc_suf {0}/{2}.kmc_pre'.format(\"ramdisk\", fl1, fl2))\n",
    "    if len(acc)==2:\n",
    "        os.system('mv ramdisk/kmer_union0.kmc_suf ramdisk/geno_kmers/{0}.kmc_suf'.format(geno))\n",
    "        os.system('mv ramdisk/kmer_union0.kmc_pre ramdisk/geno_kmers/{0}.kmc_pre'.format(geno))\n",
    "    if len(acc)>2:\n",
    "        acc = acc[2:]\n",
    "        # kmc_tools can't overwrite a file so have to iterate back and \n",
    "        # forth with the output file to union merge multiple kmer files\n",
    "        # This also seems to be an easier solution than the internal 'complex'\n",
    "        count = 1\n",
    "        for fl in acc:\n",
    "            os.system('cp kmc/{0}.kmc_suf.gz ramdisk/'.format(fl))\n",
    "            os.system('cp kmc/{0}.kmc_pre.gz ramdisk/'.format(fl))\n",
    "            os.system('pigz --decompress ramdisk/*')\n",
    "            prv, nxt = str((count-1)%2), str(count%2)\n",
    "            os.system('kmc_tools simple ramdisk/kmer_union{0} ramdisk/{1} union ramdisk/kmer_union{2}'.format(prv, fl, nxt))\n",
    "            os.system('rm {0}/{1}.kmc_suf {0}/{1}.kmc_pre {0}/kmer_union{2}.kmc_suf {0}/kmer_union{2}.kmc_pre'.format(\"ramdisk\", fl, prv))\n",
    "            count+=1\n",
    "        # Done union merge of group kmers. Read table \n",
    "        os.system('mv ramdisk/kmer_union{0}.kmc_suf ramdisk/geno_kmers/{1}.kmc_suf'.format(nxt, geno))\n",
    "        os.system('mv ramdisk/kmer_union{0}.kmc_pre ramdisk/geno_kmers/{1}.kmc_pre'.format(nxt, geno))\n",
    "    genotype_counter = genotype_counter - 1\n",
    "    print(\"Genotypes remaining:\", genotype_counter)\n"
   ]
  },
  {
   "cell_type": "markdown",
   "id": "09b9bd17",
   "metadata": {},
   "source": [
    "# Get the combined kmer file for all genotypes "
   ]
  },
  {
   "cell_type": "code",
   "execution_count": 6,
   "id": "55534ba3",
   "metadata": {},
   "outputs": [
    {
     "name": "stdout",
     "output_type": "stream",
     "text": [
      "Total genotypes: 300\n"
     ]
    },
    {
     "name": "stderr",
     "output_type": "stream",
     "text": [
      "in1: 100% in2: 100% \n"
     ]
    },
    {
     "name": "stdout",
     "output_type": "stream",
     "text": [
      "Total genotypes: 298\n"
     ]
    },
    {
     "name": "stderr",
     "output_type": "stream",
     "text": [
      "in1: 100% in2: 100% \n"
     ]
    },
    {
     "name": "stdout",
     "output_type": "stream",
     "text": [
      "Genotypes remaining: 297\n"
     ]
    },
    {
     "name": "stderr",
     "output_type": "stream",
     "text": [
      "in1: 100% in2: 100% \n",
      "in1: 0% "
     ]
    },
    {
     "name": "stdout",
     "output_type": "stream",
     "text": [
      "Genotypes remaining: 296\n"
     ]
    },
    {
     "name": "stderr",
     "output_type": "stream",
     "text": [
      "in1: 100% in2: 100% \n"
     ]
    },
    {
     "name": "stdout",
     "output_type": "stream",
     "text": [
      "Genotypes remaining: 295\n"
     ]
    },
    {
     "name": "stderr",
     "output_type": "stream",
     "text": [
      "in1: 100% in2: 100% \n",
      "in1: 0% in2: 0% "
     ]
    },
    {
     "name": "stdout",
     "output_type": "stream",
     "text": [
      "Genotypes remaining: 294\n"
     ]
    },
    {
     "name": "stderr",
     "output_type": "stream",
     "text": [
      "in1: 100% in2: 100% \n"
     ]
    },
    {
     "name": "stdout",
     "output_type": "stream",
     "text": [
      "Genotypes remaining: 293\n"
     ]
    },
    {
     "name": "stderr",
     "output_type": "stream",
     "text": [
      "in1: 100% in2: 100% \n"
     ]
    },
    {
     "name": "stdout",
     "output_type": "stream",
     "text": [
      "Genotypes remaining: 292\n"
     ]
    },
    {
     "name": "stderr",
     "output_type": "stream",
     "text": [
      "in1: 100% in2: 100% \n"
     ]
    },
    {
     "name": "stdout",
     "output_type": "stream",
     "text": [
      "Genotypes remaining: 291\n"
     ]
    },
    {
     "name": "stderr",
     "output_type": "stream",
     "text": [
      "in1: 100% in2: 100% \n"
     ]
    },
    {
     "name": "stdout",
     "output_type": "stream",
     "text": [
      "Genotypes remaining: 290\n"
     ]
    },
    {
     "name": "stderr",
     "output_type": "stream",
     "text": [
      "in1: 100% in2: 100% \n"
     ]
    },
    {
     "name": "stdout",
     "output_type": "stream",
     "text": [
      "Genotypes remaining: 289\n"
     ]
    },
    {
     "name": "stderr",
     "output_type": "stream",
     "text": [
      "in1: 100% in2: 100% \n",
      "in1: 0% in2: 0% "
     ]
    },
    {
     "name": "stdout",
     "output_type": "stream",
     "text": [
      "Genotypes remaining: 288\n"
     ]
    },
    {
     "name": "stderr",
     "output_type": "stream",
     "text": [
      "in1: 100% in2: 100% \n"
     ]
    },
    {
     "name": "stdout",
     "output_type": "stream",
     "text": [
      "Genotypes remaining: 287\n"
     ]
    },
    {
     "name": "stderr",
     "output_type": "stream",
     "text": [
      "in1: 100% in2: 100% \n"
     ]
    },
    {
     "name": "stdout",
     "output_type": "stream",
     "text": [
      "Genotypes remaining: 286\n"
     ]
    },
    {
     "name": "stderr",
     "output_type": "stream",
     "text": [
      "in1: 100% in2: 100% \n"
     ]
    },
    {
     "name": "stdout",
     "output_type": "stream",
     "text": [
      "Genotypes remaining: 285\n"
     ]
    },
    {
     "name": "stderr",
     "output_type": "stream",
     "text": [
      "in1: 100% in2: 100% \n"
     ]
    },
    {
     "name": "stdout",
     "output_type": "stream",
     "text": [
      "Genotypes remaining: 284\n"
     ]
    },
    {
     "name": "stderr",
     "output_type": "stream",
     "text": [
      "in1: 100% in2: 100% \n"
     ]
    },
    {
     "name": "stdout",
     "output_type": "stream",
     "text": [
      "Genotypes remaining: 283\n"
     ]
    },
    {
     "name": "stderr",
     "output_type": "stream",
     "text": [
      "in1: 100% in2: 100% \n"
     ]
    },
    {
     "name": "stdout",
     "output_type": "stream",
     "text": [
      "Genotypes remaining: 282\n"
     ]
    },
    {
     "name": "stderr",
     "output_type": "stream",
     "text": [
      "in1: 100% in2: 100% \n"
     ]
    },
    {
     "name": "stdout",
     "output_type": "stream",
     "text": [
      "Genotypes remaining: 281\n"
     ]
    },
    {
     "name": "stderr",
     "output_type": "stream",
     "text": [
      "in1: 100% in2: 100% \n"
     ]
    },
    {
     "name": "stdout",
     "output_type": "stream",
     "text": [
      "Genotypes remaining: 280\n"
     ]
    },
    {
     "name": "stderr",
     "output_type": "stream",
     "text": [
      "in1: 100% in2: 100% \n"
     ]
    },
    {
     "name": "stdout",
     "output_type": "stream",
     "text": [
      "Genotypes remaining: 279\n"
     ]
    },
    {
     "name": "stderr",
     "output_type": "stream",
     "text": [
      "in1: 100% in2: 100% \n"
     ]
    },
    {
     "name": "stdout",
     "output_type": "stream",
     "text": [
      "Genotypes remaining: 278\n"
     ]
    },
    {
     "name": "stderr",
     "output_type": "stream",
     "text": [
      "in1: 100% in2: 100% \n"
     ]
    },
    {
     "name": "stdout",
     "output_type": "stream",
     "text": [
      "Genotypes remaining: 277\n"
     ]
    },
    {
     "name": "stderr",
     "output_type": "stream",
     "text": [
      "in1: 100% in2: 100% 36% in2: 36% \n"
     ]
    },
    {
     "name": "stdout",
     "output_type": "stream",
     "text": [
      "Genotypes remaining: 276\n"
     ]
    },
    {
     "name": "stderr",
     "output_type": "stream",
     "text": [
      "in1: 100% in2: 100% \n"
     ]
    },
    {
     "name": "stdout",
     "output_type": "stream",
     "text": [
      "Genotypes remaining: 275\n"
     ]
    },
    {
     "name": "stderr",
     "output_type": "stream",
     "text": [
      "in1: 100% in2: 100% \n"
     ]
    },
    {
     "name": "stdout",
     "output_type": "stream",
     "text": [
      "Genotypes remaining: 274\n"
     ]
    },
    {
     "name": "stderr",
     "output_type": "stream",
     "text": [
      "in1: 100% in2: 100% \n"
     ]
    },
    {
     "name": "stdout",
     "output_type": "stream",
     "text": [
      "Genotypes remaining: 273\n"
     ]
    },
    {
     "name": "stderr",
     "output_type": "stream",
     "text": [
      "in1: 100% in2: 100% \n"
     ]
    },
    {
     "name": "stdout",
     "output_type": "stream",
     "text": [
      "Genotypes remaining: 272\n"
     ]
    },
    {
     "name": "stderr",
     "output_type": "stream",
     "text": [
      "in1: 100% in2: 100% \n"
     ]
    },
    {
     "name": "stdout",
     "output_type": "stream",
     "text": [
      "Genotypes remaining: 271\n"
     ]
    },
    {
     "name": "stderr",
     "output_type": "stream",
     "text": [
      "in1: 100% in2: 100% \n"
     ]
    },
    {
     "name": "stdout",
     "output_type": "stream",
     "text": [
      "Genotypes remaining: 270\n"
     ]
    },
    {
     "name": "stderr",
     "output_type": "stream",
     "text": [
      "in1: 100% in2: 100% \n"
     ]
    },
    {
     "name": "stdout",
     "output_type": "stream",
     "text": [
      "Genotypes remaining: 269\n"
     ]
    },
    {
     "name": "stderr",
     "output_type": "stream",
     "text": [
      "in1: 100% in2: 100% \n"
     ]
    },
    {
     "name": "stdout",
     "output_type": "stream",
     "text": [
      "Genotypes remaining: 268\n"
     ]
    },
    {
     "name": "stderr",
     "output_type": "stream",
     "text": [
      "in1: 100% in2: 100% \n"
     ]
    },
    {
     "name": "stdout",
     "output_type": "stream",
     "text": [
      "Genotypes remaining: 267\n"
     ]
    },
    {
     "name": "stderr",
     "output_type": "stream",
     "text": [
      "in1: 100% in2: 100% \n"
     ]
    },
    {
     "name": "stdout",
     "output_type": "stream",
     "text": [
      "Genotypes remaining: 266\n"
     ]
    },
    {
     "name": "stderr",
     "output_type": "stream",
     "text": [
      "in1: 100% in2: 100% \n"
     ]
    },
    {
     "name": "stdout",
     "output_type": "stream",
     "text": [
      "Genotypes remaining: 265\n"
     ]
    },
    {
     "name": "stderr",
     "output_type": "stream",
     "text": [
      "in1: 100% in2: 100% \n"
     ]
    },
    {
     "name": "stdout",
     "output_type": "stream",
     "text": [
      "Genotypes remaining: 264\n"
     ]
    },
    {
     "name": "stderr",
     "output_type": "stream",
     "text": [
      "in1: 100% in2: 100% \n"
     ]
    },
    {
     "name": "stdout",
     "output_type": "stream",
     "text": [
      "Genotypes remaining: 263\n"
     ]
    },
    {
     "name": "stderr",
     "output_type": "stream",
     "text": [
      "in1: 100% in2: 100% \n"
     ]
    },
    {
     "name": "stdout",
     "output_type": "stream",
     "text": [
      "Genotypes remaining: 262\n"
     ]
    },
    {
     "name": "stderr",
     "output_type": "stream",
     "text": [
      "in1: 100% in2: 100% \n"
     ]
    },
    {
     "name": "stdout",
     "output_type": "stream",
     "text": [
      "Genotypes remaining: 261\n"
     ]
    },
    {
     "name": "stderr",
     "output_type": "stream",
     "text": [
      "in1: 100% in2: 100% \n"
     ]
    },
    {
     "name": "stdout",
     "output_type": "stream",
     "text": [
      "Genotypes remaining: 260\n"
     ]
    },
    {
     "name": "stderr",
     "output_type": "stream",
     "text": [
      "in1: 100% in2: 100% \n"
     ]
    },
    {
     "name": "stdout",
     "output_type": "stream",
     "text": [
      "Genotypes remaining: 259\n"
     ]
    },
    {
     "name": "stderr",
     "output_type": "stream",
     "text": [
      "in1: 100% in2: 100% \n"
     ]
    },
    {
     "name": "stdout",
     "output_type": "stream",
     "text": [
      "Genotypes remaining: 258\n"
     ]
    },
    {
     "name": "stderr",
     "output_type": "stream",
     "text": [
      "in1: 100% in2: 100% \n"
     ]
    },
    {
     "name": "stdout",
     "output_type": "stream",
     "text": [
      "Genotypes remaining: 257\n"
     ]
    },
    {
     "name": "stderr",
     "output_type": "stream",
     "text": [
      "in1: 100% in2: 100% \n"
     ]
    },
    {
     "name": "stdout",
     "output_type": "stream",
     "text": [
      "Genotypes remaining: 256\n"
     ]
    },
    {
     "name": "stderr",
     "output_type": "stream",
     "text": [
      "in1: 100% in2: 100% \n"
     ]
    },
    {
     "name": "stdout",
     "output_type": "stream",
     "text": [
      "Genotypes remaining: 255\n"
     ]
    },
    {
     "name": "stderr",
     "output_type": "stream",
     "text": [
      "in1: 100% in2: 100% \n"
     ]
    },
    {
     "name": "stdout",
     "output_type": "stream",
     "text": [
      "Genotypes remaining: 254\n"
     ]
    },
    {
     "name": "stderr",
     "output_type": "stream",
     "text": [
      "in1: 100% in2: 100% \n"
     ]
    },
    {
     "name": "stdout",
     "output_type": "stream",
     "text": [
      "Genotypes remaining: 253\n"
     ]
    },
    {
     "name": "stderr",
     "output_type": "stream",
     "text": [
      "in1: 100% in2: 100% \n"
     ]
    },
    {
     "name": "stdout",
     "output_type": "stream",
     "text": [
      "Genotypes remaining: 252\n"
     ]
    },
    {
     "name": "stderr",
     "output_type": "stream",
     "text": [
      "in1: 100% in2: 100% % in2: 19% % in2: 79% \n"
     ]
    },
    {
     "name": "stdout",
     "output_type": "stream",
     "text": [
      "Genotypes remaining: 251\n"
     ]
    },
    {
     "name": "stderr",
     "output_type": "stream",
     "text": [
      "in1: 100% in2: 100% \n"
     ]
    },
    {
     "name": "stdout",
     "output_type": "stream",
     "text": [
      "Genotypes remaining: 250\n"
     ]
    },
    {
     "name": "stderr",
     "output_type": "stream",
     "text": [
      "in1: 100% in2: 100% \n"
     ]
    },
    {
     "name": "stdout",
     "output_type": "stream",
     "text": [
      "Genotypes remaining: 249\n"
     ]
    },
    {
     "name": "stderr",
     "output_type": "stream",
     "text": [
      "in1: 100% in2: 100% \n"
     ]
    },
    {
     "name": "stdout",
     "output_type": "stream",
     "text": [
      "Genotypes remaining: 248\n"
     ]
    },
    {
     "name": "stderr",
     "output_type": "stream",
     "text": [
      "in1: 100% in2: 100% \n"
     ]
    },
    {
     "name": "stdout",
     "output_type": "stream",
     "text": [
      "Genotypes remaining: 247\n"
     ]
    },
    {
     "name": "stderr",
     "output_type": "stream",
     "text": [
      "in1: 100% in2: 100% \n"
     ]
    },
    {
     "name": "stdout",
     "output_type": "stream",
     "text": [
      "Genotypes remaining: 246\n"
     ]
    },
    {
     "name": "stderr",
     "output_type": "stream",
     "text": [
      "in1: 100% in2: 100% \n"
     ]
    },
    {
     "name": "stdout",
     "output_type": "stream",
     "text": [
      "Genotypes remaining: 245\n"
     ]
    },
    {
     "name": "stderr",
     "output_type": "stream",
     "text": [
      "in1: 100% in2: 100% \n"
     ]
    },
    {
     "name": "stdout",
     "output_type": "stream",
     "text": [
      "Genotypes remaining: 244\n"
     ]
    },
    {
     "name": "stderr",
     "output_type": "stream",
     "text": [
      "in1: 100% in2: 100% \n"
     ]
    },
    {
     "name": "stdout",
     "output_type": "stream",
     "text": [
      "Genotypes remaining: 243\n"
     ]
    },
    {
     "name": "stderr",
     "output_type": "stream",
     "text": [
      "in1: 100% in2: 100% \n"
     ]
    },
    {
     "name": "stdout",
     "output_type": "stream",
     "text": [
      "Genotypes remaining: 242\n"
     ]
    },
    {
     "name": "stderr",
     "output_type": "stream",
     "text": [
      "in1: 100% in2: 100% \n"
     ]
    },
    {
     "name": "stdout",
     "output_type": "stream",
     "text": [
      "Genotypes remaining: 241\n"
     ]
    },
    {
     "name": "stderr",
     "output_type": "stream",
     "text": [
      "in1: 100% in2: 100% \n"
     ]
    },
    {
     "name": "stdout",
     "output_type": "stream",
     "text": [
      "Genotypes remaining: 240\n"
     ]
    },
    {
     "name": "stderr",
     "output_type": "stream",
     "text": [
      "in1: 100% in2: 100% \n"
     ]
    },
    {
     "name": "stdout",
     "output_type": "stream",
     "text": [
      "Genotypes remaining: 239\n"
     ]
    },
    {
     "name": "stderr",
     "output_type": "stream",
     "text": [
      "in1: 100% in2: 100% \n"
     ]
    },
    {
     "name": "stdout",
     "output_type": "stream",
     "text": [
      "Genotypes remaining: 238\n"
     ]
    },
    {
     "name": "stderr",
     "output_type": "stream",
     "text": [
      "in1: 100% in2: 100% \n"
     ]
    },
    {
     "name": "stdout",
     "output_type": "stream",
     "text": [
      "Genotypes remaining: 237\n"
     ]
    },
    {
     "name": "stderr",
     "output_type": "stream",
     "text": [
      "in1: 100% in2: 100% \n"
     ]
    },
    {
     "name": "stdout",
     "output_type": "stream",
     "text": [
      "Genotypes remaining: 236\n"
     ]
    },
    {
     "name": "stderr",
     "output_type": "stream",
     "text": [
      "in1: 100% in2: 100% \n"
     ]
    },
    {
     "name": "stdout",
     "output_type": "stream",
     "text": [
      "Genotypes remaining: 235\n"
     ]
    },
    {
     "name": "stderr",
     "output_type": "stream",
     "text": [
      "in1: 100% in2: 100% \n"
     ]
    },
    {
     "name": "stdout",
     "output_type": "stream",
     "text": [
      "Genotypes remaining: 234\n"
     ]
    },
    {
     "name": "stderr",
     "output_type": "stream",
     "text": [
      "in1: 100% in2: 100% % in2: 50% \n"
     ]
    },
    {
     "name": "stdout",
     "output_type": "stream",
     "text": [
      "Genotypes remaining: 233\n"
     ]
    },
    {
     "name": "stderr",
     "output_type": "stream",
     "text": [
      "in1: 100% in2: 100% \n"
     ]
    },
    {
     "name": "stdout",
     "output_type": "stream",
     "text": [
      "Genotypes remaining: 232\n"
     ]
    },
    {
     "name": "stderr",
     "output_type": "stream",
     "text": [
      "in1: 100% in2: 100% \n"
     ]
    },
    {
     "name": "stdout",
     "output_type": "stream",
     "text": [
      "Genotypes remaining: 231\n"
     ]
    },
    {
     "name": "stderr",
     "output_type": "stream",
     "text": [
      "in1: 100% in2: 100% \n"
     ]
    },
    {
     "name": "stdout",
     "output_type": "stream",
     "text": [
      "Genotypes remaining: 230\n"
     ]
    },
    {
     "name": "stderr",
     "output_type": "stream",
     "text": [
      "in1: 100% in2: 100% \n"
     ]
    },
    {
     "name": "stdout",
     "output_type": "stream",
     "text": [
      "Genotypes remaining: 229\n"
     ]
    },
    {
     "name": "stderr",
     "output_type": "stream",
     "text": [
      "in1: 100% in2: 100% \n"
     ]
    },
    {
     "name": "stdout",
     "output_type": "stream",
     "text": [
      "Genotypes remaining: 228\n"
     ]
    },
    {
     "name": "stderr",
     "output_type": "stream",
     "text": [
      "in1: 100% in2: 100% \n"
     ]
    },
    {
     "name": "stdout",
     "output_type": "stream",
     "text": [
      "Genotypes remaining: 227\n"
     ]
    },
    {
     "name": "stderr",
     "output_type": "stream",
     "text": [
      "in1: 100% in2: 100% \n"
     ]
    },
    {
     "name": "stdout",
     "output_type": "stream",
     "text": [
      "Genotypes remaining: 226\n"
     ]
    },
    {
     "name": "stderr",
     "output_type": "stream",
     "text": [
      "in1: 100% in2: 100% \n"
     ]
    },
    {
     "name": "stdout",
     "output_type": "stream",
     "text": [
      "Genotypes remaining: 225\n"
     ]
    },
    {
     "name": "stderr",
     "output_type": "stream",
     "text": [
      "in1: 100% in2: 100% 28% in2: 29% \n"
     ]
    },
    {
     "name": "stdout",
     "output_type": "stream",
     "text": [
      "Genotypes remaining: 224\n"
     ]
    },
    {
     "name": "stderr",
     "output_type": "stream",
     "text": [
      "in1: 100% in2: 100% \n"
     ]
    },
    {
     "name": "stdout",
     "output_type": "stream",
     "text": [
      "Genotypes remaining: 223\n"
     ]
    },
    {
     "name": "stderr",
     "output_type": "stream",
     "text": [
      "in1: 100% in2: 100% \n"
     ]
    },
    {
     "name": "stdout",
     "output_type": "stream",
     "text": [
      "Genotypes remaining: 222\n"
     ]
    },
    {
     "name": "stderr",
     "output_type": "stream",
     "text": [
      "in1: 100% in2: 100% \n"
     ]
    },
    {
     "name": "stdout",
     "output_type": "stream",
     "text": [
      "Genotypes remaining: 221\n"
     ]
    },
    {
     "name": "stderr",
     "output_type": "stream",
     "text": [
      "in1: 100% in2: 100% \n"
     ]
    },
    {
     "name": "stdout",
     "output_type": "stream",
     "text": [
      "Genotypes remaining: 220\n"
     ]
    },
    {
     "name": "stderr",
     "output_type": "stream",
     "text": [
      "in1: 100% in2: 100% \n"
     ]
    },
    {
     "name": "stdout",
     "output_type": "stream",
     "text": [
      "Genotypes remaining: 219\n"
     ]
    },
    {
     "name": "stderr",
     "output_type": "stream",
     "text": [
      "in1: 100% in2: 100% \n"
     ]
    },
    {
     "name": "stdout",
     "output_type": "stream",
     "text": [
      "Genotypes remaining: 218\n"
     ]
    },
    {
     "name": "stderr",
     "output_type": "stream",
     "text": [
      "in1: 100% in2: 100% \n"
     ]
    },
    {
     "name": "stdout",
     "output_type": "stream",
     "text": [
      "Genotypes remaining: 217\n"
     ]
    },
    {
     "name": "stderr",
     "output_type": "stream",
     "text": [
      "in1: 100% in2: 100% \n"
     ]
    },
    {
     "name": "stdout",
     "output_type": "stream",
     "text": [
      "Genotypes remaining: 216\n"
     ]
    },
    {
     "name": "stderr",
     "output_type": "stream",
     "text": [
      "in1: 100% in2: 100% \n"
     ]
    },
    {
     "name": "stdout",
     "output_type": "stream",
     "text": [
      "Genotypes remaining: 215\n"
     ]
    },
    {
     "name": "stderr",
     "output_type": "stream",
     "text": [
      "in1: 100% in2: 100% \n"
     ]
    },
    {
     "name": "stdout",
     "output_type": "stream",
     "text": [
      "Genotypes remaining: 214\n"
     ]
    },
    {
     "name": "stderr",
     "output_type": "stream",
     "text": [
      "in1: 100% in2: 100% \n"
     ]
    },
    {
     "name": "stdout",
     "output_type": "stream",
     "text": [
      "Genotypes remaining: 213\n"
     ]
    },
    {
     "name": "stderr",
     "output_type": "stream",
     "text": [
      "in1: 100% in2: 100% \n"
     ]
    },
    {
     "name": "stdout",
     "output_type": "stream",
     "text": [
      "Genotypes remaining: 212\n"
     ]
    },
    {
     "name": "stderr",
     "output_type": "stream",
     "text": [
      "in1: 100% in2: 100% \n"
     ]
    },
    {
     "name": "stdout",
     "output_type": "stream",
     "text": [
      "Genotypes remaining: 211\n"
     ]
    },
    {
     "name": "stderr",
     "output_type": "stream",
     "text": [
      "in1: 100% in2: 100% \n"
     ]
    },
    {
     "name": "stdout",
     "output_type": "stream",
     "text": [
      "Genotypes remaining: 210\n"
     ]
    },
    {
     "name": "stderr",
     "output_type": "stream",
     "text": [
      "in1: 100% in2: 100% \n"
     ]
    },
    {
     "name": "stdout",
     "output_type": "stream",
     "text": [
      "Genotypes remaining: 209\n"
     ]
    },
    {
     "name": "stderr",
     "output_type": "stream",
     "text": [
      "in1: 100% in2: 100% \n"
     ]
    },
    {
     "name": "stdout",
     "output_type": "stream",
     "text": [
      "Genotypes remaining: 208\n"
     ]
    },
    {
     "name": "stderr",
     "output_type": "stream",
     "text": [
      "in1: 100% in2: 100% \n"
     ]
    },
    {
     "name": "stdout",
     "output_type": "stream",
     "text": [
      "Genotypes remaining: 207\n"
     ]
    },
    {
     "name": "stderr",
     "output_type": "stream",
     "text": [
      "in1: 100% in2: 100% \n"
     ]
    },
    {
     "name": "stdout",
     "output_type": "stream",
     "text": [
      "Genotypes remaining: 206\n"
     ]
    },
    {
     "name": "stderr",
     "output_type": "stream",
     "text": [
      "in1: 100% in2: 100% \n"
     ]
    },
    {
     "name": "stdout",
     "output_type": "stream",
     "text": [
      "Genotypes remaining: 205\n"
     ]
    },
    {
     "name": "stderr",
     "output_type": "stream",
     "text": [
      "in1: 100% in2: 100% % in2: 93% \n"
     ]
    },
    {
     "name": "stdout",
     "output_type": "stream",
     "text": [
      "Genotypes remaining: 204\n"
     ]
    },
    {
     "name": "stderr",
     "output_type": "stream",
     "text": [
      "in1: 100% in2: 100% \n"
     ]
    },
    {
     "name": "stdout",
     "output_type": "stream",
     "text": [
      "Genotypes remaining: 203\n"
     ]
    },
    {
     "name": "stderr",
     "output_type": "stream",
     "text": [
      "in1: 100% in2: 100% \n"
     ]
    },
    {
     "name": "stdout",
     "output_type": "stream",
     "text": [
      "Genotypes remaining: 202\n"
     ]
    },
    {
     "name": "stderr",
     "output_type": "stream",
     "text": [
      "in1: 100% in2: 100% \n"
     ]
    },
    {
     "name": "stdout",
     "output_type": "stream",
     "text": [
      "Genotypes remaining: 201\n"
     ]
    },
    {
     "name": "stderr",
     "output_type": "stream",
     "text": [
      "in1: 100% in2: 100% \n"
     ]
    },
    {
     "name": "stdout",
     "output_type": "stream",
     "text": [
      "Genotypes remaining: 200\n"
     ]
    },
    {
     "name": "stderr",
     "output_type": "stream",
     "text": [
      "in1: 100% in2: 100% \n"
     ]
    },
    {
     "name": "stdout",
     "output_type": "stream",
     "text": [
      "Genotypes remaining: 199\n"
     ]
    },
    {
     "name": "stderr",
     "output_type": "stream",
     "text": [
      "in1: 100% in2: 100% \n"
     ]
    },
    {
     "name": "stdout",
     "output_type": "stream",
     "text": [
      "Genotypes remaining: 198\n"
     ]
    },
    {
     "name": "stderr",
     "output_type": "stream",
     "text": [
      "in1: 100% in2: 100% \n"
     ]
    },
    {
     "name": "stdout",
     "output_type": "stream",
     "text": [
      "Genotypes remaining: 197\n"
     ]
    },
    {
     "name": "stderr",
     "output_type": "stream",
     "text": [
      "in1: 100% in2: 100% \n"
     ]
    },
    {
     "name": "stdout",
     "output_type": "stream",
     "text": [
      "Genotypes remaining: 196\n"
     ]
    },
    {
     "name": "stderr",
     "output_type": "stream",
     "text": [
      "in1: 100% in2: 100% \n"
     ]
    },
    {
     "name": "stdout",
     "output_type": "stream",
     "text": [
      "Genotypes remaining: 195\n"
     ]
    },
    {
     "name": "stderr",
     "output_type": "stream",
     "text": [
      "in1: 100% in2: 100%  in2: 9% \n"
     ]
    },
    {
     "name": "stdout",
     "output_type": "stream",
     "text": [
      "Genotypes remaining: 194\n"
     ]
    },
    {
     "name": "stderr",
     "output_type": "stream",
     "text": [
      "in1: 100% in2: 100% \n"
     ]
    },
    {
     "name": "stdout",
     "output_type": "stream",
     "text": [
      "Genotypes remaining: 193\n"
     ]
    },
    {
     "name": "stderr",
     "output_type": "stream",
     "text": [
      "in1: 100% in2: 100% \n"
     ]
    },
    {
     "name": "stdout",
     "output_type": "stream",
     "text": [
      "Genotypes remaining: 192\n"
     ]
    },
    {
     "name": "stderr",
     "output_type": "stream",
     "text": [
      "in1: 100% in2: 100% \n"
     ]
    },
    {
     "name": "stdout",
     "output_type": "stream",
     "text": [
      "Genotypes remaining: 191\n"
     ]
    },
    {
     "name": "stderr",
     "output_type": "stream",
     "text": [
      "in1: 100% in2: 100% \n"
     ]
    },
    {
     "name": "stdout",
     "output_type": "stream",
     "text": [
      "Genotypes remaining: 190\n"
     ]
    },
    {
     "name": "stderr",
     "output_type": "stream",
     "text": [
      "in1: 100% in2: 100% \n"
     ]
    },
    {
     "name": "stdout",
     "output_type": "stream",
     "text": [
      "Genotypes remaining: 189\n"
     ]
    },
    {
     "name": "stderr",
     "output_type": "stream",
     "text": [
      "in1: 100% in2: 100% \n"
     ]
    },
    {
     "name": "stdout",
     "output_type": "stream",
     "text": [
      "Genotypes remaining: 188\n"
     ]
    },
    {
     "name": "stderr",
     "output_type": "stream",
     "text": [
      "in1: 100% in2: 100% \n"
     ]
    },
    {
     "name": "stdout",
     "output_type": "stream",
     "text": [
      "Genotypes remaining: 187\n"
     ]
    },
    {
     "name": "stderr",
     "output_type": "stream",
     "text": [
      "in1: 100% in2: 100% \n"
     ]
    },
    {
     "name": "stdout",
     "output_type": "stream",
     "text": [
      "Genotypes remaining: 186\n"
     ]
    },
    {
     "name": "stderr",
     "output_type": "stream",
     "text": [
      "in1: 100% in2: 100% \n"
     ]
    },
    {
     "name": "stdout",
     "output_type": "stream",
     "text": [
      "Genotypes remaining: 185\n"
     ]
    },
    {
     "name": "stderr",
     "output_type": "stream",
     "text": [
      "in1: 100% in2: 100% \n"
     ]
    },
    {
     "name": "stdout",
     "output_type": "stream",
     "text": [
      "Genotypes remaining: 184\n"
     ]
    },
    {
     "name": "stderr",
     "output_type": "stream",
     "text": [
      "in1: 100% in2: 100% \n"
     ]
    },
    {
     "name": "stdout",
     "output_type": "stream",
     "text": [
      "Genotypes remaining: 183\n"
     ]
    },
    {
     "name": "stderr",
     "output_type": "stream",
     "text": [
      "in1: 100% in2: 100% \n"
     ]
    },
    {
     "name": "stdout",
     "output_type": "stream",
     "text": [
      "Genotypes remaining: 182\n"
     ]
    },
    {
     "name": "stderr",
     "output_type": "stream",
     "text": [
      "in1: 100% in2: 100% \n"
     ]
    },
    {
     "name": "stdout",
     "output_type": "stream",
     "text": [
      "Genotypes remaining: 181\n"
     ]
    },
    {
     "name": "stderr",
     "output_type": "stream",
     "text": [
      "in1: 100% in2: 100% \n"
     ]
    },
    {
     "name": "stdout",
     "output_type": "stream",
     "text": [
      "Genotypes remaining: 180\n"
     ]
    },
    {
     "name": "stderr",
     "output_type": "stream",
     "text": [
      "in1: 100% in2: 100% \n"
     ]
    },
    {
     "name": "stdout",
     "output_type": "stream",
     "text": [
      "Genotypes remaining: 179\n"
     ]
    },
    {
     "name": "stderr",
     "output_type": "stream",
     "text": [
      "in1: 100% in2: 100% \n"
     ]
    },
    {
     "name": "stdout",
     "output_type": "stream",
     "text": [
      "Genotypes remaining: 178\n"
     ]
    },
    {
     "name": "stderr",
     "output_type": "stream",
     "text": [
      "in1: 100% in2: 100% \n"
     ]
    },
    {
     "name": "stdout",
     "output_type": "stream",
     "text": [
      "Genotypes remaining: 177\n"
     ]
    },
    {
     "name": "stderr",
     "output_type": "stream",
     "text": [
      "in1: 100% in2: 100% \n"
     ]
    },
    {
     "name": "stdout",
     "output_type": "stream",
     "text": [
      "Genotypes remaining: 176\n"
     ]
    },
    {
     "name": "stderr",
     "output_type": "stream",
     "text": [
      "in1: 100% in2: 100% \n"
     ]
    },
    {
     "name": "stdout",
     "output_type": "stream",
     "text": [
      "Genotypes remaining: 175\n"
     ]
    },
    {
     "name": "stderr",
     "output_type": "stream",
     "text": [
      "in1: 100% in2: 100% \n"
     ]
    },
    {
     "name": "stdout",
     "output_type": "stream",
     "text": [
      "Genotypes remaining: 174\n"
     ]
    },
    {
     "name": "stderr",
     "output_type": "stream",
     "text": [
      "in1: 100% in2: 100% \n"
     ]
    },
    {
     "name": "stdout",
     "output_type": "stream",
     "text": [
      "Genotypes remaining: 173\n"
     ]
    },
    {
     "name": "stderr",
     "output_type": "stream",
     "text": [
      "in1: 100% in2: 100% \n"
     ]
    },
    {
     "name": "stdout",
     "output_type": "stream",
     "text": [
      "Genotypes remaining: 172\n"
     ]
    },
    {
     "name": "stderr",
     "output_type": "stream",
     "text": [
      "in1: 100% in2: 100% 21% in2: 22% 35% in2: 36% \n"
     ]
    },
    {
     "name": "stdout",
     "output_type": "stream",
     "text": [
      "Genotypes remaining: 171\n"
     ]
    },
    {
     "name": "stderr",
     "output_type": "stream",
     "text": [
      "in1: 100% in2: 100% \n"
     ]
    },
    {
     "name": "stdout",
     "output_type": "stream",
     "text": [
      "Genotypes remaining: 170\n"
     ]
    },
    {
     "name": "stderr",
     "output_type": "stream",
     "text": [
      "in1: 100% in2: 100% \n"
     ]
    },
    {
     "name": "stdout",
     "output_type": "stream",
     "text": [
      "Genotypes remaining: 169\n"
     ]
    },
    {
     "name": "stderr",
     "output_type": "stream",
     "text": [
      "in1: 100% in2: 100% \n"
     ]
    },
    {
     "name": "stdout",
     "output_type": "stream",
     "text": [
      "Genotypes remaining: 168\n"
     ]
    },
    {
     "name": "stderr",
     "output_type": "stream",
     "text": [
      "in1: 100% in2: 100% \n"
     ]
    },
    {
     "name": "stdout",
     "output_type": "stream",
     "text": [
      "Genotypes remaining: 167\n"
     ]
    },
    {
     "name": "stderr",
     "output_type": "stream",
     "text": [
      "in1: 100% in2: 100% \n"
     ]
    },
    {
     "name": "stdout",
     "output_type": "stream",
     "text": [
      "Genotypes remaining: 166\n"
     ]
    },
    {
     "name": "stderr",
     "output_type": "stream",
     "text": [
      "in1: 100% in2: 100% \n"
     ]
    },
    {
     "name": "stdout",
     "output_type": "stream",
     "text": [
      "Genotypes remaining: 165\n"
     ]
    },
    {
     "name": "stderr",
     "output_type": "stream",
     "text": [
      "in1: 100% in2: 100% \n"
     ]
    },
    {
     "name": "stdout",
     "output_type": "stream",
     "text": [
      "Genotypes remaining: 164\n"
     ]
    },
    {
     "name": "stderr",
     "output_type": "stream",
     "text": [
      "in1: 100% in2: 100% \n"
     ]
    },
    {
     "name": "stdout",
     "output_type": "stream",
     "text": [
      "Genotypes remaining: 163\n"
     ]
    },
    {
     "name": "stderr",
     "output_type": "stream",
     "text": [
      "in1: 100% in2: 100% \n"
     ]
    },
    {
     "name": "stdout",
     "output_type": "stream",
     "text": [
      "Genotypes remaining: 162\n"
     ]
    },
    {
     "name": "stderr",
     "output_type": "stream",
     "text": [
      "in1: 100% in2: 100% \n"
     ]
    },
    {
     "name": "stdout",
     "output_type": "stream",
     "text": [
      "Genotypes remaining: 161\n"
     ]
    },
    {
     "name": "stderr",
     "output_type": "stream",
     "text": [
      "in1: 100% in2: 100% \n"
     ]
    },
    {
     "name": "stdout",
     "output_type": "stream",
     "text": [
      "Genotypes remaining: 160\n"
     ]
    },
    {
     "name": "stderr",
     "output_type": "stream",
     "text": [
      "in1: 100% in2: 100% 32% in2: 33% \n"
     ]
    },
    {
     "name": "stdout",
     "output_type": "stream",
     "text": [
      "Genotypes remaining: 159\n"
     ]
    },
    {
     "name": "stderr",
     "output_type": "stream",
     "text": [
      "in1: 100% in2: 100% % in2: 44% \n"
     ]
    },
    {
     "name": "stdout",
     "output_type": "stream",
     "text": [
      "Genotypes remaining: 158\n"
     ]
    },
    {
     "name": "stderr",
     "output_type": "stream",
     "text": [
      "in1: 100% in2: 100% \n"
     ]
    },
    {
     "name": "stdout",
     "output_type": "stream",
     "text": [
      "Genotypes remaining: 157\n"
     ]
    },
    {
     "name": "stderr",
     "output_type": "stream",
     "text": [
      "in1: 100% in2: 100% \n"
     ]
    },
    {
     "name": "stdout",
     "output_type": "stream",
     "text": [
      "Genotypes remaining: 156\n"
     ]
    },
    {
     "name": "stderr",
     "output_type": "stream",
     "text": [
      "in1: 100% in2: 100% \n"
     ]
    },
    {
     "name": "stdout",
     "output_type": "stream",
     "text": [
      "Genotypes remaining: 155\n"
     ]
    },
    {
     "name": "stderr",
     "output_type": "stream",
     "text": [
      "in1: 100% in2: 100% \n"
     ]
    },
    {
     "name": "stdout",
     "output_type": "stream",
     "text": [
      "Genotypes remaining: 154\n"
     ]
    },
    {
     "name": "stderr",
     "output_type": "stream",
     "text": [
      "in1: 100% in2: 100% \n"
     ]
    },
    {
     "name": "stdout",
     "output_type": "stream",
     "text": [
      "Genotypes remaining: 153\n"
     ]
    },
    {
     "name": "stderr",
     "output_type": "stream",
     "text": [
      "in1: 100% in2: 100% \n"
     ]
    },
    {
     "name": "stdout",
     "output_type": "stream",
     "text": [
      "Genotypes remaining: 152\n"
     ]
    },
    {
     "name": "stderr",
     "output_type": "stream",
     "text": [
      "in1: 100% in2: 100% \n"
     ]
    },
    {
     "name": "stdout",
     "output_type": "stream",
     "text": [
      "Genotypes remaining: 151\n"
     ]
    },
    {
     "name": "stderr",
     "output_type": "stream",
     "text": [
      "in1: 100% in2: 100% % in2: 17% \n"
     ]
    },
    {
     "name": "stdout",
     "output_type": "stream",
     "text": [
      "Genotypes remaining: 150\n"
     ]
    },
    {
     "name": "stderr",
     "output_type": "stream",
     "text": [
      "in1: 100% in2: 100% \n"
     ]
    },
    {
     "name": "stdout",
     "output_type": "stream",
     "text": [
      "Genotypes remaining: 149\n"
     ]
    },
    {
     "name": "stderr",
     "output_type": "stream",
     "text": [
      "in1: 100% in2: 100% \n"
     ]
    },
    {
     "name": "stdout",
     "output_type": "stream",
     "text": [
      "Genotypes remaining: 148\n"
     ]
    },
    {
     "name": "stderr",
     "output_type": "stream",
     "text": [
      "in1: 100% in2: 100% \n"
     ]
    },
    {
     "name": "stdout",
     "output_type": "stream",
     "text": [
      "Genotypes remaining: 147\n"
     ]
    },
    {
     "name": "stderr",
     "output_type": "stream",
     "text": [
      "in1: 100% in2: 100% \n"
     ]
    },
    {
     "name": "stdout",
     "output_type": "stream",
     "text": [
      "Genotypes remaining: 146\n"
     ]
    },
    {
     "name": "stderr",
     "output_type": "stream",
     "text": [
      "in1: 100% in2: 100% \n"
     ]
    },
    {
     "name": "stdout",
     "output_type": "stream",
     "text": [
      "Genotypes remaining: 145\n"
     ]
    },
    {
     "name": "stderr",
     "output_type": "stream",
     "text": [
      "in1: 100% in2: 100% \n"
     ]
    },
    {
     "name": "stdout",
     "output_type": "stream",
     "text": [
      "Genotypes remaining: 144\n"
     ]
    },
    {
     "name": "stderr",
     "output_type": "stream",
     "text": [
      "in1: 100% in2: 100% \n"
     ]
    },
    {
     "name": "stdout",
     "output_type": "stream",
     "text": [
      "Genotypes remaining: 143\n"
     ]
    },
    {
     "name": "stderr",
     "output_type": "stream",
     "text": [
      "in1: 100% in2: 100% % in2: 37% \n"
     ]
    },
    {
     "name": "stdout",
     "output_type": "stream",
     "text": [
      "Genotypes remaining: 142\n"
     ]
    },
    {
     "name": "stderr",
     "output_type": "stream",
     "text": [
      "in1: 100% in2: 100% \n"
     ]
    },
    {
     "name": "stdout",
     "output_type": "stream",
     "text": [
      "Genotypes remaining: 141\n"
     ]
    },
    {
     "name": "stderr",
     "output_type": "stream",
     "text": [
      "in1: 100% in2: 100% \n"
     ]
    },
    {
     "name": "stdout",
     "output_type": "stream",
     "text": [
      "Genotypes remaining: 140\n"
     ]
    },
    {
     "name": "stderr",
     "output_type": "stream",
     "text": [
      "in1: 100% in2: 100% \n"
     ]
    },
    {
     "name": "stdout",
     "output_type": "stream",
     "text": [
      "Genotypes remaining: 139\n"
     ]
    },
    {
     "name": "stderr",
     "output_type": "stream",
     "text": [
      "in1: 100% in2: 100% \n"
     ]
    },
    {
     "name": "stdout",
     "output_type": "stream",
     "text": [
      "Genotypes remaining: 138\n"
     ]
    },
    {
     "name": "stderr",
     "output_type": "stream",
     "text": [
      "in1: 100% in2: 100% \n"
     ]
    },
    {
     "name": "stdout",
     "output_type": "stream",
     "text": [
      "Genotypes remaining: 137\n"
     ]
    },
    {
     "name": "stderr",
     "output_type": "stream",
     "text": [
      "in1: 100% in2: 100% \n"
     ]
    },
    {
     "name": "stdout",
     "output_type": "stream",
     "text": [
      "Genotypes remaining: 136\n"
     ]
    },
    {
     "name": "stderr",
     "output_type": "stream",
     "text": [
      "in1: 100% in2: 100% \n"
     ]
    },
    {
     "name": "stdout",
     "output_type": "stream",
     "text": [
      "Genotypes remaining: 135\n"
     ]
    },
    {
     "name": "stderr",
     "output_type": "stream",
     "text": [
      "in1: 100% in2: 100% \n"
     ]
    },
    {
     "name": "stdout",
     "output_type": "stream",
     "text": [
      "Genotypes remaining: 134\n"
     ]
    },
    {
     "name": "stderr",
     "output_type": "stream",
     "text": [
      "in1: 100% in2: 100% \n"
     ]
    },
    {
     "name": "stdout",
     "output_type": "stream",
     "text": [
      "Genotypes remaining: 133\n"
     ]
    },
    {
     "name": "stderr",
     "output_type": "stream",
     "text": [
      "in1: 100% in2: 100% % in2: 18% \n"
     ]
    },
    {
     "name": "stdout",
     "output_type": "stream",
     "text": [
      "Genotypes remaining: 132\n"
     ]
    },
    {
     "name": "stderr",
     "output_type": "stream",
     "text": [
      "in1: 100% in2: 100% \n"
     ]
    },
    {
     "name": "stdout",
     "output_type": "stream",
     "text": [
      "Genotypes remaining: 131\n"
     ]
    },
    {
     "name": "stderr",
     "output_type": "stream",
     "text": [
      "in1: 100% in2: 100% \n"
     ]
    },
    {
     "name": "stdout",
     "output_type": "stream",
     "text": [
      "Genotypes remaining: 130\n"
     ]
    },
    {
     "name": "stderr",
     "output_type": "stream",
     "text": [
      "in1: 100% in2: 100% \n"
     ]
    },
    {
     "name": "stdout",
     "output_type": "stream",
     "text": [
      "Genotypes remaining: 129\n"
     ]
    },
    {
     "name": "stderr",
     "output_type": "stream",
     "text": [
      "in1: 100% in2: 100% \n"
     ]
    },
    {
     "name": "stdout",
     "output_type": "stream",
     "text": [
      "Genotypes remaining: 128\n"
     ]
    },
    {
     "name": "stderr",
     "output_type": "stream",
     "text": [
      "in1: 100% in2: 100% % in2: 42% \n"
     ]
    },
    {
     "name": "stdout",
     "output_type": "stream",
     "text": [
      "Genotypes remaining: 127\n"
     ]
    },
    {
     "name": "stderr",
     "output_type": "stream",
     "text": [
      "in1: 100% in2: 100% \n"
     ]
    },
    {
     "name": "stdout",
     "output_type": "stream",
     "text": [
      "Genotypes remaining: 126\n"
     ]
    },
    {
     "name": "stderr",
     "output_type": "stream",
     "text": [
      "in1: 100% in2: 100% \n"
     ]
    },
    {
     "name": "stdout",
     "output_type": "stream",
     "text": [
      "Genotypes remaining: 125\n"
     ]
    },
    {
     "name": "stderr",
     "output_type": "stream",
     "text": [
      "in1: 100% in2: 100% \n"
     ]
    },
    {
     "name": "stdout",
     "output_type": "stream",
     "text": [
      "Genotypes remaining: 124\n"
     ]
    },
    {
     "name": "stderr",
     "output_type": "stream",
     "text": [
      "in1: 100% in2: 100% \n"
     ]
    },
    {
     "name": "stdout",
     "output_type": "stream",
     "text": [
      "Genotypes remaining: 123\n"
     ]
    },
    {
     "name": "stderr",
     "output_type": "stream",
     "text": [
      "in1: 100% in2: 100% % in2: 66% 77% in2: 77% \n"
     ]
    },
    {
     "name": "stdout",
     "output_type": "stream",
     "text": [
      "Genotypes remaining: 122\n"
     ]
    },
    {
     "name": "stderr",
     "output_type": "stream",
     "text": [
      "in1: 100% in2: 100% \n"
     ]
    },
    {
     "name": "stdout",
     "output_type": "stream",
     "text": [
      "Genotypes remaining: 121\n"
     ]
    },
    {
     "name": "stderr",
     "output_type": "stream",
     "text": [
      "in1: 100% in2: 100% \n"
     ]
    },
    {
     "name": "stdout",
     "output_type": "stream",
     "text": [
      "Genotypes remaining: 120\n"
     ]
    },
    {
     "name": "stderr",
     "output_type": "stream",
     "text": [
      "in1: 100% in2: 100% \n"
     ]
    },
    {
     "name": "stdout",
     "output_type": "stream",
     "text": [
      "Genotypes remaining: 119\n"
     ]
    },
    {
     "name": "stderr",
     "output_type": "stream",
     "text": [
      "in1: 100% in2: 100% \n"
     ]
    },
    {
     "name": "stdout",
     "output_type": "stream",
     "text": [
      "Genotypes remaining: 118\n"
     ]
    },
    {
     "name": "stderr",
     "output_type": "stream",
     "text": [
      "in1: 100% in2: 100% \n"
     ]
    },
    {
     "name": "stdout",
     "output_type": "stream",
     "text": [
      "Genotypes remaining: 117\n"
     ]
    },
    {
     "name": "stderr",
     "output_type": "stream",
     "text": [
      "in1: 100% in2: 100% \n"
     ]
    },
    {
     "name": "stdout",
     "output_type": "stream",
     "text": [
      "Genotypes remaining: 116\n"
     ]
    },
    {
     "name": "stderr",
     "output_type": "stream",
     "text": [
      "in1: 100% in2: 100% \n"
     ]
    },
    {
     "name": "stdout",
     "output_type": "stream",
     "text": [
      "Genotypes remaining: 115\n"
     ]
    },
    {
     "name": "stderr",
     "output_type": "stream",
     "text": [
      "in1: 100% in2: 100% \n"
     ]
    },
    {
     "name": "stdout",
     "output_type": "stream",
     "text": [
      "Genotypes remaining: 114\n"
     ]
    },
    {
     "name": "stderr",
     "output_type": "stream",
     "text": [
      "in1: 100% in2: 100% \n"
     ]
    },
    {
     "name": "stdout",
     "output_type": "stream",
     "text": [
      "Genotypes remaining: 113\n"
     ]
    },
    {
     "name": "stderr",
     "output_type": "stream",
     "text": [
      "in1: 100% in2: 100% \n"
     ]
    },
    {
     "name": "stdout",
     "output_type": "stream",
     "text": [
      "Genotypes remaining: 112\n"
     ]
    },
    {
     "name": "stderr",
     "output_type": "stream",
     "text": [
      "in1: 100% in2: 100% \n"
     ]
    },
    {
     "name": "stdout",
     "output_type": "stream",
     "text": [
      "Genotypes remaining: 111\n"
     ]
    },
    {
     "name": "stderr",
     "output_type": "stream",
     "text": [
      "in1: 100% in2: 100% \n"
     ]
    },
    {
     "name": "stdout",
     "output_type": "stream",
     "text": [
      "Genotypes remaining: 110\n"
     ]
    },
    {
     "name": "stderr",
     "output_type": "stream",
     "text": [
      "in1: 100% in2: 100% \n"
     ]
    },
    {
     "name": "stdout",
     "output_type": "stream",
     "text": [
      "Genotypes remaining: 109\n"
     ]
    },
    {
     "name": "stderr",
     "output_type": "stream",
     "text": [
      "in1: 100% in2: 100% \n"
     ]
    },
    {
     "name": "stdout",
     "output_type": "stream",
     "text": [
      "Genotypes remaining: 108\n"
     ]
    },
    {
     "name": "stderr",
     "output_type": "stream",
     "text": [
      "in1: 100% in2: 100% \n"
     ]
    },
    {
     "name": "stdout",
     "output_type": "stream",
     "text": [
      "Genotypes remaining: 107\n"
     ]
    },
    {
     "name": "stderr",
     "output_type": "stream",
     "text": [
      "in1: 100% in2: 100% \n"
     ]
    },
    {
     "name": "stdout",
     "output_type": "stream",
     "text": [
      "Genotypes remaining: 106\n"
     ]
    },
    {
     "name": "stderr",
     "output_type": "stream",
     "text": [
      "in1: 100% in2: 100% \n"
     ]
    },
    {
     "name": "stdout",
     "output_type": "stream",
     "text": [
      "Genotypes remaining: 105\n"
     ]
    },
    {
     "name": "stderr",
     "output_type": "stream",
     "text": [
      "in1: 100% in2: 100% \n"
     ]
    },
    {
     "name": "stdout",
     "output_type": "stream",
     "text": [
      "Genotypes remaining: 104\n"
     ]
    },
    {
     "name": "stderr",
     "output_type": "stream",
     "text": [
      "in1: 100% in2: 100% \n"
     ]
    },
    {
     "name": "stdout",
     "output_type": "stream",
     "text": [
      "Genotypes remaining: 103\n"
     ]
    },
    {
     "name": "stderr",
     "output_type": "stream",
     "text": [
      "in1: 100% in2: 100% \n"
     ]
    },
    {
     "name": "stdout",
     "output_type": "stream",
     "text": [
      "Genotypes remaining: 102\n"
     ]
    },
    {
     "name": "stderr",
     "output_type": "stream",
     "text": [
      "in1: 100% in2: 100% \n"
     ]
    },
    {
     "name": "stdout",
     "output_type": "stream",
     "text": [
      "Genotypes remaining: 101\n"
     ]
    },
    {
     "name": "stderr",
     "output_type": "stream",
     "text": [
      "in1: 100% in2: 100% \n"
     ]
    },
    {
     "name": "stdout",
     "output_type": "stream",
     "text": [
      "Genotypes remaining: 100\n"
     ]
    },
    {
     "name": "stderr",
     "output_type": "stream",
     "text": [
      "in1: 100% in2: 100% % in2: 24% \n"
     ]
    },
    {
     "name": "stdout",
     "output_type": "stream",
     "text": [
      "Genotypes remaining: 99\n"
     ]
    },
    {
     "name": "stderr",
     "output_type": "stream",
     "text": [
      "in1: 100% in2: 100% \n"
     ]
    },
    {
     "name": "stdout",
     "output_type": "stream",
     "text": [
      "Genotypes remaining: 98\n"
     ]
    },
    {
     "name": "stderr",
     "output_type": "stream",
     "text": [
      "in1: 100% in2: 100% \n"
     ]
    },
    {
     "name": "stdout",
     "output_type": "stream",
     "text": [
      "Genotypes remaining: 97\n"
     ]
    },
    {
     "name": "stderr",
     "output_type": "stream",
     "text": [
      "in1: 100% in2: 100% \n"
     ]
    },
    {
     "name": "stdout",
     "output_type": "stream",
     "text": [
      "Genotypes remaining: 96\n"
     ]
    },
    {
     "name": "stderr",
     "output_type": "stream",
     "text": [
      "in1: 100% in2: 100% \n"
     ]
    },
    {
     "name": "stdout",
     "output_type": "stream",
     "text": [
      "Genotypes remaining: 95\n"
     ]
    },
    {
     "name": "stderr",
     "output_type": "stream",
     "text": [
      "in1: 100% in2: 100% \n"
     ]
    },
    {
     "name": "stdout",
     "output_type": "stream",
     "text": [
      "Genotypes remaining: 94\n"
     ]
    },
    {
     "name": "stderr",
     "output_type": "stream",
     "text": [
      "in1: 100% in2: 100% \n"
     ]
    },
    {
     "name": "stdout",
     "output_type": "stream",
     "text": [
      "Genotypes remaining: 93\n"
     ]
    },
    {
     "name": "stderr",
     "output_type": "stream",
     "text": [
      "in1: 100% in2: 100% \n"
     ]
    },
    {
     "name": "stdout",
     "output_type": "stream",
     "text": [
      "Genotypes remaining: 92\n"
     ]
    },
    {
     "name": "stderr",
     "output_type": "stream",
     "text": [
      "in1: 100% in2: 100% \n"
     ]
    },
    {
     "name": "stdout",
     "output_type": "stream",
     "text": [
      "Genotypes remaining: 91\n"
     ]
    },
    {
     "name": "stderr",
     "output_type": "stream",
     "text": [
      "in1: 100% in2: 100% \n"
     ]
    },
    {
     "name": "stdout",
     "output_type": "stream",
     "text": [
      "Genotypes remaining: 90\n"
     ]
    },
    {
     "name": "stderr",
     "output_type": "stream",
     "text": [
      "in1: 100% in2: 100% \n"
     ]
    },
    {
     "name": "stdout",
     "output_type": "stream",
     "text": [
      "Genotypes remaining: 89\n"
     ]
    },
    {
     "name": "stderr",
     "output_type": "stream",
     "text": [
      "in1: 100% in2: 100% \n"
     ]
    },
    {
     "name": "stdout",
     "output_type": "stream",
     "text": [
      "Genotypes remaining: 88\n"
     ]
    },
    {
     "name": "stderr",
     "output_type": "stream",
     "text": [
      "in1: 100% in2: 100% \n"
     ]
    },
    {
     "name": "stdout",
     "output_type": "stream",
     "text": [
      "Genotypes remaining: 87\n"
     ]
    },
    {
     "name": "stderr",
     "output_type": "stream",
     "text": [
      "in1: 100% in2: 100% \n"
     ]
    },
    {
     "name": "stdout",
     "output_type": "stream",
     "text": [
      "Genotypes remaining: 86\n"
     ]
    },
    {
     "name": "stderr",
     "output_type": "stream",
     "text": [
      "in1: 100% in2: 100% \n"
     ]
    },
    {
     "name": "stdout",
     "output_type": "stream",
     "text": [
      "Genotypes remaining: 85\n"
     ]
    },
    {
     "name": "stderr",
     "output_type": "stream",
     "text": [
      "in1: 100% in2: 100% \n"
     ]
    },
    {
     "name": "stdout",
     "output_type": "stream",
     "text": [
      "Genotypes remaining: 84\n"
     ]
    },
    {
     "name": "stderr",
     "output_type": "stream",
     "text": [
      "in1: 100% in2: 100% \n"
     ]
    },
    {
     "name": "stdout",
     "output_type": "stream",
     "text": [
      "Genotypes remaining: 83\n"
     ]
    },
    {
     "name": "stderr",
     "output_type": "stream",
     "text": [
      "in1: 100% in2: 100% \n"
     ]
    },
    {
     "name": "stdout",
     "output_type": "stream",
     "text": [
      "Genotypes remaining: 82\n"
     ]
    },
    {
     "name": "stderr",
     "output_type": "stream",
     "text": [
      "in1: 100% in2: 100% \n"
     ]
    },
    {
     "name": "stdout",
     "output_type": "stream",
     "text": [
      "Genotypes remaining: 81\n"
     ]
    },
    {
     "name": "stderr",
     "output_type": "stream",
     "text": [
      "in1: 100% in2: 100% \n"
     ]
    },
    {
     "name": "stdout",
     "output_type": "stream",
     "text": [
      "Genotypes remaining: 80\n"
     ]
    },
    {
     "name": "stderr",
     "output_type": "stream",
     "text": [
      "in1: 100% in2: 100% \n"
     ]
    },
    {
     "name": "stdout",
     "output_type": "stream",
     "text": [
      "Genotypes remaining: 79\n"
     ]
    },
    {
     "name": "stderr",
     "output_type": "stream",
     "text": [
      "in1: 100% in2: 100% \n"
     ]
    },
    {
     "name": "stdout",
     "output_type": "stream",
     "text": [
      "Genotypes remaining: 78\n"
     ]
    },
    {
     "name": "stderr",
     "output_type": "stream",
     "text": [
      "in1: 100% in2: 100% \n"
     ]
    },
    {
     "name": "stdout",
     "output_type": "stream",
     "text": [
      "Genotypes remaining: 77\n"
     ]
    },
    {
     "name": "stderr",
     "output_type": "stream",
     "text": [
      "in1: 100% in2: 100% \n"
     ]
    },
    {
     "name": "stdout",
     "output_type": "stream",
     "text": [
      "Genotypes remaining: 76\n"
     ]
    },
    {
     "name": "stderr",
     "output_type": "stream",
     "text": [
      "in1: 100% in2: 100% \n"
     ]
    },
    {
     "name": "stdout",
     "output_type": "stream",
     "text": [
      "Genotypes remaining: 75\n"
     ]
    },
    {
     "name": "stderr",
     "output_type": "stream",
     "text": [
      "in1: 100% in2: 100% \n"
     ]
    },
    {
     "name": "stdout",
     "output_type": "stream",
     "text": [
      "Genotypes remaining: 74\n"
     ]
    },
    {
     "name": "stderr",
     "output_type": "stream",
     "text": [
      "in1: 100% in2: 100% \n"
     ]
    },
    {
     "name": "stdout",
     "output_type": "stream",
     "text": [
      "Genotypes remaining: 73\n"
     ]
    },
    {
     "name": "stderr",
     "output_type": "stream",
     "text": [
      "in1: 100% in2: 100% \n"
     ]
    },
    {
     "name": "stdout",
     "output_type": "stream",
     "text": [
      "Genotypes remaining: 72\n"
     ]
    },
    {
     "name": "stderr",
     "output_type": "stream",
     "text": [
      "in1: 100% in2: 100% \n"
     ]
    },
    {
     "name": "stdout",
     "output_type": "stream",
     "text": [
      "Genotypes remaining: 71\n"
     ]
    },
    {
     "name": "stderr",
     "output_type": "stream",
     "text": [
      "in1: 100% in2: 100% \n"
     ]
    },
    {
     "name": "stdout",
     "output_type": "stream",
     "text": [
      "Genotypes remaining: 70\n"
     ]
    },
    {
     "name": "stderr",
     "output_type": "stream",
     "text": [
      "in1: 100% in2: 100% \n"
     ]
    },
    {
     "name": "stdout",
     "output_type": "stream",
     "text": [
      "Genotypes remaining: 69\n"
     ]
    },
    {
     "name": "stderr",
     "output_type": "stream",
     "text": [
      "in1: 100% in2: 100% \n"
     ]
    },
    {
     "name": "stdout",
     "output_type": "stream",
     "text": [
      "Genotypes remaining: 68\n"
     ]
    },
    {
     "name": "stderr",
     "output_type": "stream",
     "text": [
      "in1: 100% in2: 100% \n"
     ]
    },
    {
     "name": "stdout",
     "output_type": "stream",
     "text": [
      "Genotypes remaining: 67\n"
     ]
    },
    {
     "name": "stderr",
     "output_type": "stream",
     "text": [
      "in1: 100% in2: 100% \n"
     ]
    },
    {
     "name": "stdout",
     "output_type": "stream",
     "text": [
      "Genotypes remaining: 66\n"
     ]
    },
    {
     "name": "stderr",
     "output_type": "stream",
     "text": [
      "in1: 100% in2: 100% \n"
     ]
    },
    {
     "name": "stdout",
     "output_type": "stream",
     "text": [
      "Genotypes remaining: 65\n"
     ]
    },
    {
     "name": "stderr",
     "output_type": "stream",
     "text": [
      "in1: 100% in2: 100% \n"
     ]
    },
    {
     "name": "stdout",
     "output_type": "stream",
     "text": [
      "Genotypes remaining: 64\n"
     ]
    },
    {
     "name": "stderr",
     "output_type": "stream",
     "text": [
      "in1: 100% in2: 100% \n"
     ]
    },
    {
     "name": "stdout",
     "output_type": "stream",
     "text": [
      "Genotypes remaining: 63\n"
     ]
    },
    {
     "name": "stderr",
     "output_type": "stream",
     "text": [
      "in1: 100% in2: 100% 26% in2: 27% \n"
     ]
    },
    {
     "name": "stdout",
     "output_type": "stream",
     "text": [
      "Genotypes remaining: 62\n"
     ]
    },
    {
     "name": "stderr",
     "output_type": "stream",
     "text": [
      "in1: 100% in2: 100% \n"
     ]
    },
    {
     "name": "stdout",
     "output_type": "stream",
     "text": [
      "Genotypes remaining: 61\n"
     ]
    },
    {
     "name": "stderr",
     "output_type": "stream",
     "text": [
      "in1: 100% in2: 100% \n"
     ]
    },
    {
     "name": "stdout",
     "output_type": "stream",
     "text": [
      "Genotypes remaining: 60\n"
     ]
    },
    {
     "name": "stderr",
     "output_type": "stream",
     "text": [
      "in1: 100% in2: 100% 21% in2: 22% 23% in2: 23% \n"
     ]
    },
    {
     "name": "stdout",
     "output_type": "stream",
     "text": [
      "Genotypes remaining: 59\n"
     ]
    },
    {
     "name": "stderr",
     "output_type": "stream",
     "text": [
      "in1: 100% in2: 100% \n"
     ]
    },
    {
     "name": "stdout",
     "output_type": "stream",
     "text": [
      "Genotypes remaining: 58\n"
     ]
    },
    {
     "name": "stderr",
     "output_type": "stream",
     "text": [
      "in1: 100% in2: 100% \n"
     ]
    },
    {
     "name": "stdout",
     "output_type": "stream",
     "text": [
      "Genotypes remaining: 57\n"
     ]
    },
    {
     "name": "stderr",
     "output_type": "stream",
     "text": [
      "in1: 100% in2: 100% \n"
     ]
    },
    {
     "name": "stdout",
     "output_type": "stream",
     "text": [
      "Genotypes remaining: 56\n"
     ]
    },
    {
     "name": "stderr",
     "output_type": "stream",
     "text": [
      "in1: 100% in2: 100% \n"
     ]
    },
    {
     "name": "stdout",
     "output_type": "stream",
     "text": [
      "Genotypes remaining: 55\n"
     ]
    },
    {
     "name": "stderr",
     "output_type": "stream",
     "text": [
      "in1: 100% in2: 100% \n"
     ]
    },
    {
     "name": "stdout",
     "output_type": "stream",
     "text": [
      "Genotypes remaining: 54\n"
     ]
    },
    {
     "name": "stderr",
     "output_type": "stream",
     "text": [
      "in1: 100% in2: 100% \n"
     ]
    },
    {
     "name": "stdout",
     "output_type": "stream",
     "text": [
      "Genotypes remaining: 53\n"
     ]
    },
    {
     "name": "stderr",
     "output_type": "stream",
     "text": [
      "in1: 100% in2: 100% \n"
     ]
    },
    {
     "name": "stdout",
     "output_type": "stream",
     "text": [
      "Genotypes remaining: 52\n"
     ]
    },
    {
     "name": "stderr",
     "output_type": "stream",
     "text": [
      "in1: 100% in2: 100% \n"
     ]
    },
    {
     "name": "stdout",
     "output_type": "stream",
     "text": [
      "Genotypes remaining: 51\n"
     ]
    },
    {
     "name": "stderr",
     "output_type": "stream",
     "text": [
      "in1: 100% in2: 100% \n"
     ]
    },
    {
     "name": "stdout",
     "output_type": "stream",
     "text": [
      "Genotypes remaining: 50\n"
     ]
    },
    {
     "name": "stderr",
     "output_type": "stream",
     "text": [
      "in1: 100% in2: 100% \n"
     ]
    },
    {
     "name": "stdout",
     "output_type": "stream",
     "text": [
      "Genotypes remaining: 49\n"
     ]
    },
    {
     "name": "stderr",
     "output_type": "stream",
     "text": [
      "in1: 100% in2: 100% \n"
     ]
    },
    {
     "name": "stdout",
     "output_type": "stream",
     "text": [
      "Genotypes remaining: 48\n"
     ]
    },
    {
     "name": "stderr",
     "output_type": "stream",
     "text": [
      "in1: 100% in2: 100% \n"
     ]
    },
    {
     "name": "stdout",
     "output_type": "stream",
     "text": [
      "Genotypes remaining: 47\n"
     ]
    },
    {
     "name": "stderr",
     "output_type": "stream",
     "text": [
      "in1: 100% in2: 100% \n"
     ]
    },
    {
     "name": "stdout",
     "output_type": "stream",
     "text": [
      "Genotypes remaining: 46\n"
     ]
    },
    {
     "name": "stderr",
     "output_type": "stream",
     "text": [
      "in1: 100% in2: 100% \n"
     ]
    },
    {
     "name": "stdout",
     "output_type": "stream",
     "text": [
      "Genotypes remaining: 45\n"
     ]
    },
    {
     "name": "stderr",
     "output_type": "stream",
     "text": [
      "in1: 100% in2: 100% \n"
     ]
    },
    {
     "name": "stdout",
     "output_type": "stream",
     "text": [
      "Genotypes remaining: 44\n"
     ]
    },
    {
     "name": "stderr",
     "output_type": "stream",
     "text": [
      "in1: 100% in2: 100% \n"
     ]
    },
    {
     "name": "stdout",
     "output_type": "stream",
     "text": [
      "Genotypes remaining: 43\n"
     ]
    },
    {
     "name": "stderr",
     "output_type": "stream",
     "text": [
      "in1: 100% in2: 100% \n"
     ]
    },
    {
     "name": "stdout",
     "output_type": "stream",
     "text": [
      "Genotypes remaining: 42\n"
     ]
    },
    {
     "name": "stderr",
     "output_type": "stream",
     "text": [
      "in1: 100% in2: 100% \n"
     ]
    },
    {
     "name": "stdout",
     "output_type": "stream",
     "text": [
      "Genotypes remaining: 41\n"
     ]
    },
    {
     "name": "stderr",
     "output_type": "stream",
     "text": [
      "in1: 100% in2: 100% \n"
     ]
    },
    {
     "name": "stdout",
     "output_type": "stream",
     "text": [
      "Genotypes remaining: 40\n"
     ]
    },
    {
     "name": "stderr",
     "output_type": "stream",
     "text": [
      "in1: 100% in2: 100% \n"
     ]
    },
    {
     "name": "stdout",
     "output_type": "stream",
     "text": [
      "Genotypes remaining: 39\n"
     ]
    },
    {
     "name": "stderr",
     "output_type": "stream",
     "text": [
      "in1: 100% in2: 100% \n"
     ]
    },
    {
     "name": "stdout",
     "output_type": "stream",
     "text": [
      "Genotypes remaining: 38\n"
     ]
    },
    {
     "name": "stderr",
     "output_type": "stream",
     "text": [
      "in1: 100% in2: 100% % in2: 30% \n"
     ]
    },
    {
     "name": "stdout",
     "output_type": "stream",
     "text": [
      "Genotypes remaining: 37\n"
     ]
    },
    {
     "name": "stderr",
     "output_type": "stream",
     "text": [
      "in1: 100% in2: 100% \n"
     ]
    },
    {
     "name": "stdout",
     "output_type": "stream",
     "text": [
      "Genotypes remaining: 36\n"
     ]
    },
    {
     "name": "stderr",
     "output_type": "stream",
     "text": [
      "in1: 100% in2: 100% \n"
     ]
    },
    {
     "name": "stdout",
     "output_type": "stream",
     "text": [
      "Genotypes remaining: 35\n"
     ]
    },
    {
     "name": "stderr",
     "output_type": "stream",
     "text": [
      "in1: 100% in2: 100% \n"
     ]
    },
    {
     "name": "stdout",
     "output_type": "stream",
     "text": [
      "Genotypes remaining: 34\n"
     ]
    },
    {
     "name": "stderr",
     "output_type": "stream",
     "text": [
      "in1: 100% in2: 100% \n"
     ]
    },
    {
     "name": "stdout",
     "output_type": "stream",
     "text": [
      "Genotypes remaining: 33\n"
     ]
    },
    {
     "name": "stderr",
     "output_type": "stream",
     "text": [
      "in1: 100% in2: 100% \n"
     ]
    },
    {
     "name": "stdout",
     "output_type": "stream",
     "text": [
      "Genotypes remaining: 32\n"
     ]
    },
    {
     "name": "stderr",
     "output_type": "stream",
     "text": [
      "in1: 100% in2: 100% \n"
     ]
    },
    {
     "name": "stdout",
     "output_type": "stream",
     "text": [
      "Genotypes remaining: 31\n"
     ]
    },
    {
     "name": "stderr",
     "output_type": "stream",
     "text": [
      "in1: 100% in2: 100% \n"
     ]
    },
    {
     "name": "stdout",
     "output_type": "stream",
     "text": [
      "Genotypes remaining: 30\n"
     ]
    },
    {
     "name": "stderr",
     "output_type": "stream",
     "text": [
      "in1: 100% in2: 100% \n"
     ]
    },
    {
     "name": "stdout",
     "output_type": "stream",
     "text": [
      "Genotypes remaining: 29\n"
     ]
    },
    {
     "name": "stderr",
     "output_type": "stream",
     "text": [
      "in1: 100% in2: 100% \n"
     ]
    },
    {
     "name": "stdout",
     "output_type": "stream",
     "text": [
      "Genotypes remaining: 28\n"
     ]
    },
    {
     "name": "stderr",
     "output_type": "stream",
     "text": [
      "in1: 100% in2: 100% \n"
     ]
    },
    {
     "name": "stdout",
     "output_type": "stream",
     "text": [
      "Genotypes remaining: 27\n"
     ]
    },
    {
     "name": "stderr",
     "output_type": "stream",
     "text": [
      "in1: 100% in2: 100% \n"
     ]
    },
    {
     "name": "stdout",
     "output_type": "stream",
     "text": [
      "Genotypes remaining: 26\n"
     ]
    },
    {
     "name": "stderr",
     "output_type": "stream",
     "text": [
      "in1: 100% in2: 100% \n"
     ]
    },
    {
     "name": "stdout",
     "output_type": "stream",
     "text": [
      "Genotypes remaining: 25\n"
     ]
    },
    {
     "name": "stderr",
     "output_type": "stream",
     "text": [
      "in1: 100% in2: 100% \n"
     ]
    },
    {
     "name": "stdout",
     "output_type": "stream",
     "text": [
      "Genotypes remaining: 24\n"
     ]
    },
    {
     "name": "stderr",
     "output_type": "stream",
     "text": [
      "in1: 100% in2: 100% \n"
     ]
    },
    {
     "name": "stdout",
     "output_type": "stream",
     "text": [
      "Genotypes remaining: 23\n"
     ]
    },
    {
     "name": "stderr",
     "output_type": "stream",
     "text": [
      "in1: 100% in2: 100% \n"
     ]
    },
    {
     "name": "stdout",
     "output_type": "stream",
     "text": [
      "Genotypes remaining: 22\n"
     ]
    },
    {
     "name": "stderr",
     "output_type": "stream",
     "text": [
      "in1: 100% in2: 100% \n"
     ]
    },
    {
     "name": "stdout",
     "output_type": "stream",
     "text": [
      "Genotypes remaining: 21\n"
     ]
    },
    {
     "name": "stderr",
     "output_type": "stream",
     "text": [
      "in1: 100% in2: 100% \n"
     ]
    },
    {
     "name": "stdout",
     "output_type": "stream",
     "text": [
      "Genotypes remaining: 20\n"
     ]
    },
    {
     "name": "stderr",
     "output_type": "stream",
     "text": [
      "in1: 100% in2: 100% \n"
     ]
    },
    {
     "name": "stdout",
     "output_type": "stream",
     "text": [
      "Genotypes remaining: 19\n"
     ]
    },
    {
     "name": "stderr",
     "output_type": "stream",
     "text": [
      "in1: 100% in2: 100% \n"
     ]
    },
    {
     "name": "stdout",
     "output_type": "stream",
     "text": [
      "Genotypes remaining: 18\n"
     ]
    },
    {
     "name": "stderr",
     "output_type": "stream",
     "text": [
      "in1: 100% in2: 100% \n"
     ]
    },
    {
     "name": "stdout",
     "output_type": "stream",
     "text": [
      "Genotypes remaining: 17\n"
     ]
    },
    {
     "name": "stderr",
     "output_type": "stream",
     "text": [
      "in1: 100% in2: 100% \n"
     ]
    },
    {
     "name": "stdout",
     "output_type": "stream",
     "text": [
      "Genotypes remaining: 16\n"
     ]
    },
    {
     "name": "stderr",
     "output_type": "stream",
     "text": [
      "in1: 100% in2: 100% \n"
     ]
    },
    {
     "name": "stdout",
     "output_type": "stream",
     "text": [
      "Genotypes remaining: 15\n"
     ]
    },
    {
     "name": "stderr",
     "output_type": "stream",
     "text": [
      "in1: 100% in2: 100% \n"
     ]
    },
    {
     "name": "stdout",
     "output_type": "stream",
     "text": [
      "Genotypes remaining: 14\n"
     ]
    },
    {
     "name": "stderr",
     "output_type": "stream",
     "text": [
      "in1: 100% in2: 100% \n"
     ]
    },
    {
     "name": "stdout",
     "output_type": "stream",
     "text": [
      "Genotypes remaining: 13\n"
     ]
    },
    {
     "name": "stderr",
     "output_type": "stream",
     "text": [
      "in1: 100% in2: 100% \n"
     ]
    },
    {
     "name": "stdout",
     "output_type": "stream",
     "text": [
      "Genotypes remaining: 12\n"
     ]
    },
    {
     "name": "stderr",
     "output_type": "stream",
     "text": [
      "in1: 100% in2: 100% \n"
     ]
    },
    {
     "name": "stdout",
     "output_type": "stream",
     "text": [
      "Genotypes remaining: 11\n"
     ]
    },
    {
     "name": "stderr",
     "output_type": "stream",
     "text": [
      "in1: 100% in2: 100% \n"
     ]
    },
    {
     "name": "stdout",
     "output_type": "stream",
     "text": [
      "Genotypes remaining: 10\n"
     ]
    },
    {
     "name": "stderr",
     "output_type": "stream",
     "text": [
      "in1: 100% in2: 100% \n"
     ]
    },
    {
     "name": "stdout",
     "output_type": "stream",
     "text": [
      "Genotypes remaining: 9\n"
     ]
    },
    {
     "name": "stderr",
     "output_type": "stream",
     "text": [
      "in1: 100% in2: 100% \n"
     ]
    },
    {
     "name": "stdout",
     "output_type": "stream",
     "text": [
      "Genotypes remaining: 8\n"
     ]
    },
    {
     "name": "stderr",
     "output_type": "stream",
     "text": [
      "in1: 100% in2: 100% \n"
     ]
    },
    {
     "name": "stdout",
     "output_type": "stream",
     "text": [
      "Genotypes remaining: 7\n"
     ]
    },
    {
     "name": "stderr",
     "output_type": "stream",
     "text": [
      "in1: 100% in2: 100% \n"
     ]
    },
    {
     "name": "stdout",
     "output_type": "stream",
     "text": [
      "Genotypes remaining: 6\n"
     ]
    },
    {
     "name": "stderr",
     "output_type": "stream",
     "text": [
      "in1: 100% in2: 100% \n"
     ]
    },
    {
     "name": "stdout",
     "output_type": "stream",
     "text": [
      "Genotypes remaining: 5\n"
     ]
    },
    {
     "name": "stderr",
     "output_type": "stream",
     "text": [
      "in1: 100% in2: 100% \n"
     ]
    },
    {
     "name": "stdout",
     "output_type": "stream",
     "text": [
      "Genotypes remaining: 4\n"
     ]
    },
    {
     "name": "stderr",
     "output_type": "stream",
     "text": [
      "in1: 100% in2: 100% \n"
     ]
    },
    {
     "name": "stdout",
     "output_type": "stream",
     "text": [
      "Genotypes remaining: 3\n"
     ]
    },
    {
     "name": "stderr",
     "output_type": "stream",
     "text": [
      "in1: 100% in2: 100% % in2: 58% \n"
     ]
    },
    {
     "name": "stdout",
     "output_type": "stream",
     "text": [
      "Genotypes remaining: 2\n"
     ]
    },
    {
     "name": "stderr",
     "output_type": "stream",
     "text": [
      "in1: 100% in2: 100% \n"
     ]
    },
    {
     "name": "stdout",
     "output_type": "stream",
     "text": [
      "Genotypes remaining: 1\n"
     ]
    },
    {
     "name": "stderr",
     "output_type": "stream",
     "text": [
      "in1: 100% in2: 100% \n"
     ]
    },
    {
     "name": "stdout",
     "output_type": "stream",
     "text": [
      "Genotypes remaining: 0\n"
     ]
    }
   ],
   "source": [
    "genotypes = list(set(annot[\"genotype\"].values))\n",
    "genotype_counter = len(genotypes)\n",
    "print(\"Total genotypes:\", genotype_counter)\n",
    "\n",
    "fl1, fl2 = genotypes[0], genotypes[1]\n",
    "os.system('kmc_tools simple ramdisk/geno_kmers/{0} ramdisk/geno_kmers/{1} union ramdisk/kmer_union0'.format(fl1, fl2))\n",
    "\n",
    "genotype_counter = genotype_counter - 2\n",
    "print(\"Total genotypes:\", genotype_counter)\n",
    "\n",
    "count = 1\n",
    "for geno in genotypes[2:]:\n",
    "    # kmc_tools can't overwrite a file so have to iterate back and \n",
    "    # forth with the output file to union merge multiple kmer files\n",
    "    # This also seems to be an easier solution than the internal 'complex'\n",
    "    prv, nxt = str((count-1)%2), str(count%2)\n",
    "    os.system('kmc_tools simple ramdisk/kmer_union{0} ramdisk/geno_kmers/{1} union ramdisk/kmer_union{2}'.format(prv, geno, nxt))\n",
    "    os.system('rm {0}{1}.kmc_suf {0}{1}.kmc_pre'.format(\"ramdisk/kmer_union\", prv))\n",
    "    count+=1\n",
    "\n",
    "    genotype_counter = genotype_counter - 1\n",
    "    print(\"Genotypes remaining:\", genotype_counter)"
   ]
  },
  {
   "cell_type": "markdown",
   "id": "75094dd0",
   "metadata": {},
   "source": [
    "# Combine k-mers to Hapmap file"
   ]
  },
  {
   "cell_type": "code",
   "execution_count": null,
   "id": "dd305af4",
   "metadata": {},
   "outputs": [],
   "source": []
  }
 ],
 "metadata": {
  "kernelspec": {
   "display_name": "Python 3 (ipykernel)",
   "language": "python",
   "name": "python3"
  },
  "language_info": {
   "codemirror_mode": {
    "name": "ipython",
    "version": 3
   },
   "file_extension": ".py",
   "mimetype": "text/x-python",
   "name": "python",
   "nbconvert_exporter": "python",
   "pygments_lexer": "ipython3",
   "version": "3.10.4"
  }
 },
 "nbformat": 4,
 "nbformat_minor": 5
}
