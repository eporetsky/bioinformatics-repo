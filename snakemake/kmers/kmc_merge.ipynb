{
 "cells": [
  {
   "cell_type": "code",
   "execution_count": null,
   "id": "54ef9e90",
   "metadata": {},
   "outputs": [],
   "source": [
    "import os\n",
    "import pandas as pd\n",
    "import dask.dataframe as dd\n",
    "import seaborn as sns\n",
    "from datatable import dt, fread\n",
    "# With python v>3.9 need to install datatable from source for the time being\n",
    "# pip install git+https://github.com/h2oai/datatable"
   ]
  },
  {
   "cell_type": "code",
   "execution_count": null,
   "id": "c6f94acc",
   "metadata": {},
   "outputs": [],
   "source": [
    "annot = pd.read_csv(\"PRJNA123456_extracted_condition_genotype.csv\")"
   ]
  },
  {
   "cell_type": "markdown",
   "id": "fb2950d3",
   "metadata": {},
   "source": [
    "# Union kmers for a group of accessions and outer merge dataframes"
   ]
  },
  {
   "cell_type": "code",
   "execution_count": null,
   "id": "29d4b4b4",
   "metadata": {},
   "outputs": [],
   "source": [
    "merged = pd.DataFrame(columns=['C0'])\n",
    "sizes = [] # number of unique kmers following the addition of each genotype group\n",
    "columns = [] # name of kmer genotype group\n",
    "for geno in set(annot[\"genotype\"].values):\n",
    "    acc = annot[annot[\"genotype\"] == geno][\"run_accession\"].values.tolist()\n",
    "    fl1, fl2 = acc[0], acc[1]\n",
    "    acc = acc[2:]\n",
    "    os.system('cp kmc/{0}.kmc_suf.gz ramdisk/'.format(fl1))\n",
    "    os.system('cp kmc/{0}.kmc_pre.gz ramdisk/'.format(fl1))\n",
    "    os.system('cp kmc/{0}.kmc_suf.gz ramdisk/'.format(fl2))\n",
    "    os.system('cp kmc/{0}.kmc_pre.gz ramdisk/'.format(fl2))\n",
    "    os.system('gunzip {0}/{1}.kmc_suf.gz {0}/{1}.kmc_suf.gz {0}/{2}.kmc_suf.gz {0}/{2}.kmc_suf.gz'.format('ramdisk', fl1, fl2))\n",
    "    os.system('kmc_tools simple ramdisk/{0} ramdisk/{1} union ramdisk/kmer_union0'.format(fl1, fl2))\n",
    "    os.system('rm {0}/{1}.kmc_suf {0}/{1}.kmc_pre {0}/{2}.kmc_suf {0}/{2}.kmc_pre'.format(\"ramdisk\", fl1, fl2))\n",
    "\n",
    "    # kmc_tools can't overwrite a file so have to iterate back and \n",
    "    # forth with the output file to union merge multiple kmer files\n",
    "    # This also seems to be an easier solution than the internal 'complex'\n",
    "    count = 1\n",
    "    for fl in acc:\n",
    "        os.system('cp kmc/{0}.kmc_suf.gz ramdisk/'.format(fl))\n",
    "        os.system('cp kmc/{0}.kmc_pre.gz ramdisk/'.format(fl))\n",
    "        os.system('gunzip ramdisk/{0}.kmc_suf.gz'.format(fl))\n",
    "        os.system('gunzip ramdisk/{0}.kmc_pre.gz'.format(fl))\n",
    "        prv, nxt = str((count-1)%2), str(count%2)\n",
    "        os.system('kmc_tools simple ramdisk/kmer_union{0} ramdisk/{1} union ramdisk/kmer_union{2}'.format(prv, fl, nxt))\n",
    "        os.system('rm {0}/{1}.kmc_suf {0}/{1}.kmc_pre {0}/kmer_union{2}.kmc_suf {0}/kmer_union{2}.kmc_pre'.format(\"ramdisk\", fl, prv))\n",
    "        count+=1\n",
    "    \n",
    "    # Done union merge of group kmers. Read table \n",
    "    os.system('kmc_dump ramdisk/{0} ramdisk/kmers'.format(nxt))\n",
    "    kmers = fread('ramdisk/kmer_union{0}'.format(nxt)).to_pandas()\n",
    "    os.system('rm ramdisk/kmer_union{0} ramdisk/kmers'.format(nxt))\n",
    "    columns.append(geno)\n",
    "    merged = dd.merge(merged, kmers, how=\"outer\", on='C0')\n",
    "    merged.columns = columns # must rename to prevent multiple columns with same name\n",
    "    sizes.append(merged.shape[0])\n",
    "    print(len(columns), sizes[-1])"
   ]
  },
  {
   "cell_type": "markdown",
   "id": "c32692cd",
   "metadata": {},
   "source": [
    "# Outer merge all samples given a list of file name accessions"
   ]
  },
  {
   "cell_type": "code",
   "execution_count": null,
   "id": "d95b9c7e",
   "metadata": {
    "scrolled": true
   },
   "outputs": [],
   "source": [
    "df = pd.read_csv(\"selected.csv\")\n",
    "acc = df[\"run_accession\"].values.tolist()\n",
    "\n",
    "fl1, fl2 = acc[0], acc[1]\n",
    "acc = acc[2:]\n",
    "os.system('cp {0}.kmc_suf.gz ramdisk/'.format(fl1))\n",
    "os.system('cp {0}.kmc_pre.gz ramdisk/'.format(fl1))\n",
    "os.system('cp {0}.kmc_suf.gz ramdisk/'.format(fl2))\n",
    "os.system('cp {0}.kmc_pre.gz ramdisk/'.format(fl2))\n",
    "os.system('gunzip ramdisk/{0}.kmc_suf.gz ramdisk/{0}.kmc_pre.gz'.format(fl1))\n",
    "os.system('gunzip ramdisk/{0}.kmc_suf.gz ramdisk/{0}.kmc_pre.gz'.format(fl2))\n",
    "os.system('kmc_dump ramdisk/{0} ramdisk/count'.format(fl1))\n",
    "os.system('kmc_dump ramdisk/{0} ramdisk/count2'.format(fl2))\n",
    "os.system('rm ramdisk/{0}.kmc_suf ramdisk/{0}.kmc_pre'.format(fl1))\n",
    "os.system('rm ramdisk/{0}.kmc_suf ramdisk/{0}.kmc_pre'.format(fl2))\n",
    "\n",
    "c1 = fread('ramdisk/count').to_pandas()\n",
    "c2 = fread('ramdisk/count2').to_pandas()\n",
    "merged = dd.merge(c1, c2, how=\"outer\", on='C0')\n",
    "os.system('rm ramdisk/count ramdisk/count2')\n",
    "\n",
    "columns = [\"C0\",fl1, fl2]\n",
    "sizes = [min([c1.shape[0], c2.shape[0]]), merged.shape[0]]\n",
    "\n",
    "for fl in acc:\n",
    "    os.system('cp {0}.kmc_suf.gz ramdisk/'.format(fl))\n",
    "    os.system('cp {0}.kmc_pre.gz ramdisk/'.format(fl))\n",
    "    os.system('gunzip ramdisk/{0}.kmc_suf.gz'.format(fl))\n",
    "    os.system('gunzip ramdisk/{0}.kmc_pre.gz'.format(fl))\n",
    "    os.system('kmc_dump ramdisk/{0} ramdisk/count'.format(fl))\n",
    "    os.system('rm ramdisk/{0}.kmc_suf ramdisk/{0}.kmc_pre'.format(fl))\n",
    "    c1 = fread('ramdisk/count').to_pandas()\n",
    "    os.system('rm ramdisk/count'.format(fl))\n",
    "    columns.append(fl)\n",
    "    merged = dd.merge(merged, c1, how=\"outer\", on='C0')\n",
    "    merged.columns = columns\n",
    "    sizes.append(merged.shape[0])\n",
    "    print(len(columns), merged.shape[0])"
   ]
  },
  {
   "cell_type": "code",
   "execution_count": null,
   "id": "4373c1d2",
   "metadata": {},
   "outputs": [],
   "source": [
    "mini_merged = merged.iloc[:10000,:].copy()\n",
    "mini_merged = mini_merged.set_index(\"C0\")\n",
    "mini_merged = mini_merged.where(mini_merged < 100, other=0)\n",
    "mini_merged = mini_merged.where(mini_merged == 0, other=1)\n",
    "mini_merged"
   ]
  },
  {
   "cell_type": "code",
   "execution_count": null,
   "id": "4b2b48a6",
   "metadata": {},
   "outputs": [],
   "source": [
    "tmp = mini_merged[[\"SRR5911856\", \"SRR5911781\"]].sum(axis=1)\n",
    "tmp.where(tmp == 0, 1)"
   ]
  },
  {
   "cell_type": "code",
   "execution_count": null,
   "id": "af38bafb",
   "metadata": {},
   "outputs": [],
   "source": [
    "sns.lineplot(x=[i for i in range(len(sizes))], y=sizes)"
   ]
  }
 ],
 "metadata": {
  "kernelspec": {
   "display_name": "Python 3 (ipykernel)",
   "language": "python",
   "name": "python3"
  },
  "language_info": {
   "codemirror_mode": {
    "name": "ipython",
    "version": 3
   },
   "file_extension": ".py",
   "mimetype": "text/x-python",
   "name": "python",
   "nbconvert_exporter": "python",
   "pygments_lexer": "ipython3",
   "version": "3.10.4"
  }
 },
 "nbformat": 4,
 "nbformat_minor": 5
}
