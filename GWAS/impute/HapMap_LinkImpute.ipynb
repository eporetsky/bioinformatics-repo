{
 "cells": [
  {
   "cell_type": "code",
   "execution_count": null,
   "id": "assisted-depth",
   "metadata": {},
   "outputs": [],
   "source": [
    "import pandas as pd\n",
    "import numpy as np\n",
    "import datatable as dt"
   ]
  },
  {
   "cell_type": "markdown",
   "id": "sustained-repeat",
   "metadata": {},
   "source": [
    "# Steps to prepare Hapmap SNP file for LinkImpute imputation"
   ]
  },
  {
   "cell_type": "markdown",
   "id": "adverse-papua",
   "metadata": {},
   "source": [
    "### 1. Convert the hapmap to a numeric format"
   ]
  },
  {
   "cell_type": "code",
   "execution_count": null,
   "id": "touched-institution",
   "metadata": {},
   "outputs": [],
   "source": [
    "# Load hapmap file\n",
    "df = pd.read_csv(\"file.hmp.txt\", sep=\"\\t\")\n",
    "df = df.drop(df.columns[4:11], axis=1)\n",
    "df.head()"
   ]
  },
  {
   "cell_type": "code",
   "execution_count": null,
   "id": "greek-public",
   "metadata": {},
   "outputs": [],
   "source": [
    "# Keep only single base-pair alleles\n",
    "# Ended up not being necessary but worth running\n",
    "df = df[df[\"alleles\"].isin([\"A/T\", \"A/G\", \"A/C\",\n",
    "                            \"T/A\", \"T/G\", \"T/C\",\n",
    "                            \"G/A\", \"G/T\", \"G/A\",\n",
    "                            \"C/A\", \"C/G\", \"C/T\"])]\n",
    "df.head()"
   ]
  },
  {
   "cell_type": "code",
   "execution_count": null,
   "id": "effective-outside",
   "metadata": {},
   "outputs": [],
   "source": [
    "# Convert single bi-allelic single-SNP alleles to numeric\n",
    "def to_numeric(row):\n",
    "    row_list = row.tolist()\n",
    "    # Convert the left allele to 0, right to 1, and missing to -1\n",
    "    allele_dict = {row_list[1][0]: 0, row_list[1][-1]: 1, \"N\": -1}\n",
    "    row_list[4:] = [allele_dict[allele] for allele in row_list[4:]]\n",
    "    return pd.Series(row_list)\n",
    "df = df.apply(to_numeric, axis=1)"
   ]
  },
  {
   "cell_type": "markdown",
   "id": "characteristic-episode",
   "metadata": {},
   "source": [
    "### 2. Save numeric hapmap array and run LinkImpute (externally)"
   ]
  },
  {
   "cell_type": "code",
   "execution_count": null,
   "id": "complex-hybrid",
   "metadata": {},
   "outputs": [],
   "source": [
    "array_format = df.T\n",
    "array_format = array_format.drop(array_format.index[:4])\n",
    "array_format.to_csv(\"numerical/sorghum.array\", sep=\" \", index=False, header=False)"
   ]
  },
  {
   "cell_type": "markdown",
   "id": "eligible-matrix",
   "metadata": {},
   "source": [
    "### 3. Load the imputation results and the original hapmap file"
   ]
  },
  {
   "cell_type": "code",
   "execution_count": null,
   "id": "finnish-favorite",
   "metadata": {},
   "outputs": [],
   "source": [
    "imp = pd.read_csv(\"numerical/sorghum_imp.array\", sep=\"\\t\", header=None).T\n",
    "df = pd.read_csv(\"EP_filtered_165883_numeric.txt.hmp.txt\", sep=\"\\t\")\n",
    "df = df[df[\"alleles\"].isin([\"A/T\", \"A/G\", \"A/C\",\n",
    "                            \"T/A\", \"T/G\", \"T/C\",\n",
    "                            \"G/A\", \"G/T\", \"G/A\",\n",
    "                            \"C/A\", \"C/G\", \"C/T\"])]\n",
    "df = df.reset_index(drop=True)\n",
    "df.iloc[:,11:] = imp\n",
    "#imp.columns = df.columns[11:]\n",
    "columns = df.columns # not sure why column names are deleted later\n",
    "df"
   ]
  },
  {
   "cell_type": "markdown",
   "id": "bigger-fabric",
   "metadata": {},
   "source": [
    "### 4. Convert the numerical imputed array back to hapmap format"
   ]
  },
  {
   "cell_type": "code",
   "execution_count": null,
   "id": "adjusted-valley",
   "metadata": {},
   "outputs": [],
   "source": [
    "#After imputation reverse the numeric format to allelic to load hapmap file in TASSEL\n",
    "def to_allelic(row):\n",
    "    row_list = row.tolist()\n",
    "    # Convert the left allele to 0, right to 1, and missing to -1\n",
    "    allele_dict = {0: row_list[1][0], 1: row_list[1][-1]}\n",
    "    row_list[11:] = [allele_dict[allele] for allele in row_list[11:]]\n",
    "    return pd.Series(row_list)\n",
    "\n",
    "hmp = df.apply(to_allelic, axis=1)\n",
    "hmp.columns = columns"
   ]
  },
  {
   "cell_type": "code",
   "execution_count": null,
   "id": "judicial-satisfaction",
   "metadata": {},
   "outputs": [],
   "source": [
    "hmp.to_csv(\"numerical/sorghum_imp.hmp.txt\", sep=\"\\t\", index=False, header=True)"
   ]
  }
 ],
 "metadata": {
  "kernelspec": {
   "display_name": "Python 3",
   "language": "python",
   "name": "python3"
  },
  "language_info": {
   "codemirror_mode": {
    "name": "ipython",
    "version": 3
   },
   "file_extension": ".py",
   "mimetype": "text/x-python",
   "name": "python",
   "nbconvert_exporter": "python",
   "pygments_lexer": "ipython3",
   "version": "3.8.5"
  }
 },
 "nbformat": 4,
 "nbformat_minor": 5
}
