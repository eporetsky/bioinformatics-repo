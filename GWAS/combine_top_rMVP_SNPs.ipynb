{
 "cells": [
  {
   "cell_type": "code",
   "execution_count": 7,
   "id": "stable-insider",
   "metadata": {},
   "outputs": [],
   "source": [
    "import os\n",
    "import pandas as pd\n",
    "import numpy as np"
   ]
  },
  {
   "cell_type": "markdown",
   "id": "favorite-sister",
   "metadata": {},
   "source": [
    "# Combine top rMVP SNPs\n",
    "* Use this script to get the top SNP for all the significant hits\n",
    "* Using separate folders an extra column can be used to group results\n",
    "* This assumes the input files are the rMVP sigs. Should be easy to modify"
   ]
  },
  {
   "cell_type": "code",
   "execution_count": 25,
   "id": "recorded-place",
   "metadata": {},
   "outputs": [],
   "source": [
    "def write_top_rMVP(f, folder, file_name):\n",
    "    if file_name.split(\".\")[-1] == \"csv\":\n",
    "        df = pd.read_csv(folder+\"/\"+file_name)\n",
    "        df[df.columns[-1]] = np.round(-np.log2(df[df.columns[-1]]), 2)\n",
    "        df = df.sort_values(by=df.columns[-1], ascending=False)\n",
    "        top = [str(x) for x in df.values[0]]\n",
    "        f.write(','.join([folder, df.columns[-1], top[0], top[1], top[2], top[-1]])+\"\\n\")\n",
    "\n",
    "folders = [\"group1\",\"group2\", \"group3\"]\n",
    "with open('combined_result.csv', 'a') as f:\n",
    "    f.write(','.join([\"group\", \"trait\", \"SNP\", \"chr\", \"pos\", \"log10(p)\"])+\"\\n\")\n",
    "    for folder in folders:\n",
    "        for file_name in os.listdir(folder):\n",
    "            write_top_rMVP(f, folder, file_name)"
   ]
  }
 ],
 "metadata": {
  "kernelspec": {
   "display_name": "Python 3",
   "language": "python",
   "name": "python3"
  },
  "language_info": {
   "codemirror_mode": {
    "name": "ipython",
    "version": 3
   },
   "file_extension": ".py",
   "mimetype": "text/x-python",
   "name": "python",
   "nbconvert_exporter": "python",
   "pygments_lexer": "ipython3",
   "version": "3.8.5"
  }
 },
 "nbformat": 4,
 "nbformat_minor": 5
}
