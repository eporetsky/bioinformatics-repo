{
 "cells": [
  {
   "cell_type": "code",
   "execution_count": null,
   "id": "breathing-exposure",
   "metadata": {},
   "outputs": [],
   "source": [
    "import glob\n",
    "import os\n",
    "\n",
    "import pandas as pd\n",
    "import numpy as np"
   ]
  },
  {
   "cell_type": "markdown",
   "id": "moved-atmosphere",
   "metadata": {},
   "source": [
    "# Combine Significant GWAS Results "
   ]
  },
  {
   "cell_type": "code",
   "execution_count": null,
   "id": "worldwide-stevens",
   "metadata": {},
   "outputs": [],
   "source": [
    "# Sometimes long trait names get in the way of the GWAS analysis software\n",
    "# Use this to convert the trait names back to theur full name\n",
    "trait_dict = pd.read_csv(\"trait_conversion.txt\", sep=\"\\t\", header=None)\n",
    "trait_dict = dict(zip(trait_dict[0], trait_dict[1]))"
   ]
  },
  {
   "cell_type": "code",
   "execution_count": null,
   "id": "mobile-netscape",
   "metadata": {},
   "outputs": [],
   "source": [
    "# Calculate the adjusted p-value. Use custom n or count rows in full result file\n",
    "from statsmodels.sandbox.stats.multicomp import multipletests\n",
    "# Create a list of the adjusted p-values - for bonferroni only need list of SNPs length\n",
    "p_adjusted = multipletests(range(178316), alpha=0.1, method='bonferroni')\n",
    "-np.log10(p_adjusted[-1])"
   ]
  },
  {
   "cell_type": "markdown",
   "id": "extensive-webmaster",
   "metadata": {},
   "source": [
    "### TODO: Results are still producing duplicate rows which needs to be fixed."
   ]
  },
  {
   "cell_type": "code",
   "execution_count": null,
   "id": "included-turkish",
   "metadata": {},
   "outputs": [],
   "source": [
    "# Get a list of the MLM result files in the folder\n",
    "result_files = glob.glob('MLM_results/*.tsv')\n",
    "result_dict = {}\n",
    "for file_name in result_files:\n",
    "    # Open the GWAS result file\n",
    "    result_df = pd.read_csv(file_name, sep=\"\\t\")\n",
    "    result_name = result_df[\"Trait\"].iloc[0]\n",
    "    result_df = result_df.loc[:, [\"Chr\", \"Pos\", \"p\"]]\n",
    "    result_df = result_df[result_df[\"p\"]<10**-5]\n",
    "    result_df = result_df.sort_values(by=\"p\", axis=0)\n",
    "    for row in result_df.values.tolist():\n",
    "        tname = trait_dict[result_name]\n",
    "        if tname not in result_dict.keys():\n",
    "            result_dict[tname] = row[:2]\n",
    "        else:\n",
    "            # compare chromosome names first. If not in, add to list\n",
    "            if row[0] not in result_dict[tname]:\n",
    "                result_dict[tname] += row[:2]\n",
    "            # if exists, check if it's within 100kb\n",
    "            else:\n",
    "                # if chromosome appears multiple times get all indexes of loc\n",
    "                ix_list = [i+1 for i in range(len(result_dict[tname])) if result_dict[tname][i] == row[0]]\n",
    "                for ix in ix_list:\n",
    "                    if row[1] > result_dict[tname][ix] + 500000 or row[1] < result_dict[tname][ix] - 500000:\n",
    "                        result_dict[tname] += row[:2]"
   ]
  },
  {
   "cell_type": "code",
   "execution_count": null,
   "id": "removed-trailer",
   "metadata": {},
   "outputs": [],
   "source": [
    "snp_list = []\n",
    "for feature in result_dict.keys():\n",
    "    for i in range(0, len(result_dict[feature]), 2):\n",
    "        # seperate nested lists into pairs of chromosome and location\n",
    "        snp_list.append([feature] + result_dict[feature][i:i+2])\n",
    "# creating the combined DataFrame of all SNPs\n",
    "comb_db = pd.DataFrame(snp_list, columns =[\"name\", \"chrom\", \"loc\"])\n",
    "comb_db.to_csv(\"combined_snp_results.tsv\", sep=\"\\t\")"
   ]
  }
 ],
 "metadata": {
  "kernelspec": {
   "display_name": "Python 3",
   "language": "python",
   "name": "python3"
  },
  "language_info": {
   "codemirror_mode": {
    "name": "ipython",
    "version": 3
   },
   "file_extension": ".py",
   "mimetype": "text/x-python",
   "name": "python",
   "nbconvert_exporter": "python",
   "pygments_lexer": "ipython3",
   "version": "3.8.5"
  }
 },
 "nbformat": 4,
 "nbformat_minor": 5
}
