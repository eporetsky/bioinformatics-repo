{
 "cells": [
  {
   "cell_type": "markdown",
   "id": "e626f30d",
   "metadata": {},
   "source": [
    "# Extract edges that are in a cluster"
   ]
  },
  {
   "cell_type": "code",
   "execution_count": null,
   "id": "d2cd9676",
   "metadata": {},
   "outputs": [],
   "source": [
    "# Input edge_list of 3 columns: node1, node2, weight. No header.\n",
    "edge_df = pd.read_csv('name_edgelist.tsv', sep=\"\\t\", header=None)\n",
    "# ClusterONE output results\n",
    "dfone = pd.read_csv('name_clusterONE.csv')\n",
    "# Convert the node column of each cluster to a list of members\n",
    "dfone[\"Members\"] = dfone[\"Members\"].apply(lambda x: x.split(\" \"))"
   ]
  },
  {
   "cell_type": "code",
   "execution_count": null,
   "id": "1caef369",
   "metadata": {},
   "outputs": [],
   "source": [
    "from multiprocessing import  Pool\n",
    "\n",
    "def is_in_cluster(splt):\n",
    "    # A function that keeps edges only if they are found within a ClusterONE cluster\n",
    "    return(splt[splt[[0,1]].apply(lambda a: \n",
    "        any(dfone[\"Members\"].apply(lambda x: set([a[0], a[1],]).issubset(x))), axis=1)])\n",
    "\n",
    "#edges_in_clusters = test_df[test_df[[0,1]].apply(is_in_cluster, axis=1)]\n",
    "\n",
    "def parallel_is_in_cluster(df, func, n_cores=32):\n",
    "    df_split = np.array_split(df, n_cores)\n",
    "    pool = Pool(n_cores)\n",
    "    df = pd.concat(pool.map(func, df_split))\n",
    "    pool.close()\n",
    "    pool.join()\n",
    "    return df\n",
    "\n",
    "edges_in_clusters_df = parallel_is_in_cluster(edge_df, is_in_cluster)\n",
    "print(len(edges_in_clusters_df))\n",
    "edges_in_clusters_df"
   ]
  }
 ],
 "metadata": {
  "kernelspec": {
   "display_name": "Python 3 (ipykernel)",
   "language": "python",
   "name": "python3"
  },
  "language_info": {
   "codemirror_mode": {
    "name": "ipython",
    "version": 3
   },
   "file_extension": ".py",
   "mimetype": "text/x-python",
   "name": "python",
   "nbconvert_exporter": "python",
   "pygments_lexer": "ipython3",
   "version": "3.9.7"
  }
 },
 "nbformat": 4,
 "nbformat_minor": 5
}
