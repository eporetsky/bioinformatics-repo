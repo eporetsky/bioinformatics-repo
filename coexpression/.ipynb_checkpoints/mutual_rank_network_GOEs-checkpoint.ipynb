{
 "cells": [
  {
   "cell_type": "code",
   "execution_count": 5,
   "metadata": {},
   "outputs": [
    {
     "data": {
      "text/html": [
       "<style type='text/css'>\n",
       ".datatable table.frame { margin-bottom: 0; }\n",
       ".datatable table.frame thead { border-bottom: none; }\n",
       ".datatable table.frame tr.coltypes td {  color: #FFFFFF;  line-height: 6px;  padding: 0 0.5em;}\n",
       ".datatable .bool    { background: #DDDD99; }\n",
       ".datatable .object  { background: #565656; }\n",
       ".datatable .int     { background: #5D9E5D; }\n",
       ".datatable .float   { background: #4040CC; }\n",
       ".datatable .str     { background: #CC4040; }\n",
       ".datatable .time    { background: #40CC40; }\n",
       ".datatable .row_index {  background: var(--jp-border-color3);  border-right: 1px solid var(--jp-border-color0);  color: var(--jp-ui-font-color3);  font-size: 9px;}\n",
       ".datatable .frame tbody td { text-align: left; }\n",
       ".datatable .frame tr.coltypes .row_index {  background: var(--jp-border-color0);}\n",
       ".datatable th:nth-child(2) { padding-left: 12px; }\n",
       ".datatable .hellipsis {  color: var(--jp-cell-editor-border-color);}\n",
       ".datatable .vellipsis {  background: var(--jp-layout-color0);  color: var(--jp-cell-editor-border-color);}\n",
       ".datatable .na {  color: var(--jp-cell-editor-border-color);  font-size: 80%;}\n",
       ".datatable .sp {  opacity: 0.25;}\n",
       ".datatable .footer { font-size: 9px; }\n",
       ".datatable .frame_dimensions {  background: var(--jp-border-color3);  border-top: 1px solid var(--jp-border-color0);  color: var(--jp-ui-font-color3);  display: inline-block;  opacity: 0.6;  padding: 1px 10px 1px 5px;}\n",
       "</style>\n"
      ],
      "text/plain": [
       "<IPython.core.display.HTML object>"
      ]
     },
     "metadata": {},
     "output_type": "display_data"
    }
   ],
   "source": [
    "import pandas as pd\n",
    "import datatable as dt\n",
    "import networkx as nx\n",
    "from nancorrmp.nancorrmp import NaNCorrMp    \n",
    "\n",
    "import warnings\n",
    "warnings.filterwarnings('ignore')"
   ]
  },
  {
   "cell_type": "markdown",
   "metadata": {},
   "source": [
    "# MR Network with Genes of Interest (GOEs)"
   ]
  },
  {
   "cell_type": "code",
   "execution_count": 104,
   "metadata": {},
   "outputs": [
    {
     "data": {
      "text/html": [
       "<div>\n",
       "<style scoped>\n",
       "    .dataframe tbody tr th:only-of-type {\n",
       "        vertical-align: middle;\n",
       "    }\n",
       "\n",
       "    .dataframe tbody tr th {\n",
       "        vertical-align: top;\n",
       "    }\n",
       "\n",
       "    .dataframe thead th {\n",
       "        text-align: right;\n",
       "    }\n",
       "</style>\n",
       "<table border=\"1\" class=\"dataframe\">\n",
       "  <thead>\n",
       "    <tr style=\"text-align: right;\">\n",
       "      <th></th>\n",
       "      <th>B73_Apex</th>\n",
       "      <th>B97_Apex</th>\n",
       "      <th>CML228_Apex</th>\n",
       "      <th>CML247_Apex</th>\n",
       "      <th>CML277_Apex</th>\n",
       "    </tr>\n",
       "    <tr>\n",
       "      <th>gene_name</th>\n",
       "      <th></th>\n",
       "      <th></th>\n",
       "      <th></th>\n",
       "      <th></th>\n",
       "      <th></th>\n",
       "    </tr>\n",
       "  </thead>\n",
       "  <tbody>\n",
       "    <tr>\n",
       "      <th>Zm00001d027230</th>\n",
       "      <td>1.68667</td>\n",
       "      <td>1.87518</td>\n",
       "      <td>2.38551</td>\n",
       "      <td>1.97716</td>\n",
       "      <td>1.57015</td>\n",
       "    </tr>\n",
       "    <tr>\n",
       "      <th>Zm00001d027231</th>\n",
       "      <td>70.51800</td>\n",
       "      <td>72.33440</td>\n",
       "      <td>70.64200</td>\n",
       "      <td>69.22280</td>\n",
       "      <td>119.65000</td>\n",
       "    </tr>\n",
       "    <tr>\n",
       "      <th>Zm00001d027232</th>\n",
       "      <td>0.14630</td>\n",
       "      <td>0.00000</td>\n",
       "      <td>2.53758</td>\n",
       "      <td>0.07547</td>\n",
       "      <td>0.00000</td>\n",
       "    </tr>\n",
       "    <tr>\n",
       "      <th>Zm00001d027233</th>\n",
       "      <td>0.00000</td>\n",
       "      <td>0.00000</td>\n",
       "      <td>0.21448</td>\n",
       "      <td>0.00000</td>\n",
       "      <td>0.00000</td>\n",
       "    </tr>\n",
       "    <tr>\n",
       "      <th>Zm00001d027234</th>\n",
       "      <td>0.00000</td>\n",
       "      <td>0.00000</td>\n",
       "      <td>0.00000</td>\n",
       "      <td>0.00000</td>\n",
       "      <td>0.00000</td>\n",
       "    </tr>\n",
       "  </tbody>\n",
       "</table>\n",
       "</div>"
      ],
      "text/plain": [
       "                B73_Apex  B97_Apex  CML228_Apex  CML247_Apex  CML277_Apex\n",
       "gene_name                                                                \n",
       "Zm00001d027230   1.68667   1.87518      2.38551      1.97716      1.57015\n",
       "Zm00001d027231  70.51800  72.33440     70.64200     69.22280    119.65000\n",
       "Zm00001d027232   0.14630   0.00000      2.53758      0.07547      0.00000\n",
       "Zm00001d027233   0.00000   0.00000      0.21448      0.00000      0.00000\n",
       "Zm00001d027234   0.00000   0.00000      0.00000      0.00000      0.00000"
      ]
     },
     "execution_count": 104,
     "metadata": {},
     "output_type": "execute_result"
    }
   ],
   "source": [
    "# Use the commented code to save or read the intermediate file\n",
    "# It takes about an hour to get 40k x 40k coexpression matrix with 32 threads\n",
    "\n",
    "df = pd.read_csv(\"expression_data.csv\", index_col=0)\n",
    "df = df.loc[~(df==0).all(axis=1)] # remove all-zero rows\n",
    "df = np.log2(df+1) # if you want to log transform the data\n",
    "df.iloc[:5,:5]"
   ]
  },
  {
   "cell_type": "code",
   "execution_count": null,
   "metadata": {},
   "outputs": [],
   "source": [
    "# Calculate the coexpression matrix\n",
    "analysis_name = \"experiment_name\"\n",
    "corr = NaNCorrMp.calculate(df.T) # Generate the complete coexpression matrix\n",
    "#dt.Frame(corr).to_csv(analysis_name+'.corr.csv')\n",
    "\n",
    "# Calculate the MR matrix\n",
    "#corr = dt.fread(name+'.corr.csv').to_pandas()\n",
    "#corr.index = corr.columns\n",
    "mr = np.sqrt(corr.rank(ascending=False)) * np.sqrt(corr.rank(axis=1, ascending=False))"
   ]
  },
  {
   "cell_type": "code",
   "execution_count": 110,
   "metadata": {},
   "outputs": [],
   "source": [
    "# Get the list of GOEs and keep the ones that exist in the MR table\n",
    "# You can loop over the dictionary, or just have one file, I keep it for convenience\n",
    "keep_dict = {\"file1\": \"filter_set1.csv\",\n",
    "             \"file2\": \"filter_set2.csv\"}\n",
    "\n",
    "for keep_name in keep_dict.keys():\n",
    "    keep_set = set(pd.read_csv(keep_dict[keep_name])[\"GeneID\"].tolist())\n",
    "    keep_set = mr.index.intersection(keep_set)\n",
    "\n",
    "    for mr_threshold in [10, 100]:\n",
    "        mr_adj = mr.copy()\n",
    "\n",
    "        # keep rows and columns from the keep_set\n",
    "        mr_adj = mr_adj.loc[keep_set, keep_set]\n",
    "\n",
    "        # To generate matrix set diagonal and > mr_threshold to zero (no edges)\n",
    "        mr_adj[mr_adj>mr_threshold]=0\n",
    "        mr_adj[mr_adj==1.0]=0\n",
    "\n",
    "        # Convert MR table, in the form of adj matrix, to networkx Graph\n",
    "        G = nx.convert_matrix.from_pandas_adjacency(mr_adj)\n",
    "\n",
    "        # Extract edge weights from the MR table and set as graph attribute\n",
    "        weighted_edges = []\n",
    "        for e in G.edges:\n",
    "            weighted_edges.append(tuple([e[0], e[1], mr_adj.loc[e[0], e[1]]]))\n",
    "        G.add_weighted_edges_from(weighted_edges, weight=\"mr\")\n",
    "        \n",
    "        # On few occasions I found genes that are barely expressed that have pcc=1 with multiple genes\n",
    "        # This causes the MR value to differ from 1 (arbitrary ranking value) that causes selfloop formation \n",
    "        G.remove_edges_from(nx.selfloop_edges(G))\n",
    "\n",
    "\n",
    "        # Write network to file\n",
    "        nx.write_edgelist(G, analysis_name+\"_\"+keep_name+\"_mr\"+str(mr_threshold)+\".edgelist\", comments='#', delimiter='\\t', data=[\"mr\"], encoding='utf-8')"
   ]
  }
 ],
 "metadata": {
  "kernelspec": {
   "display_name": "Python 3 (ipykernel)",
   "language": "python",
   "name": "python3"
  },
  "language_info": {
   "codemirror_mode": {
    "name": "ipython",
    "version": 3
   },
   "file_extension": ".py",
   "mimetype": "text/x-python",
   "name": "python",
   "nbconvert_exporter": "python",
   "pygments_lexer": "ipython3",
   "version": "3.9.7"
  }
 },
 "nbformat": 4,
 "nbformat_minor": 4
}
