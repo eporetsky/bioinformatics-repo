{
 "cells": [
  {
   "cell_type": "code",
   "execution_count": null,
   "id": "9fd7b8bf-ce98-4400-abe1-608b391ac1a3",
   "metadata": {},
   "outputs": [],
   "source": [
    "import pandas as pd\n",
    "from combat.pycombat import pycombat\n",
    "import warnings\n",
    "warnings.filterwarnings('ignore')"
   ]
  },
  {
   "cell_type": "code",
   "execution_count": null,
   "id": "5c968ebd-83b1-4e35-bf40-1224e180bf27",
   "metadata": {},
   "outputs": [],
   "source": [
    "from combat.pycombat import pycombat\n",
    "df1 = pd.read_csv(\"expression1.csv\", index_col=0),\n",
    "df2 = pd.read_csv(\"expression2.csv\", index_col=0),\n",
    "df3 = pd.read_csv(\"expression3.csv\", index_col=0),\n",
    "datasets = [df1, df2, df3]\n",
    "\n",
    "# Concat all the columns of dataframe list\n",
    "df = pd.concat(datasets, join=\"inner\", axis=1)\n",
    "\n",
    "batch = []\n",
    "# Create batches of columns based on the original dataframes\n",
    "for j in range(len(datasets)):\n",
    "    batch.extend([j for _ in range(len(datasets[j].columns))])"
   ]
  },
  {
   "cell_type": "markdown",
   "id": "3321d353-6318-4a22-a4cf-d76147ce1862",
   "metadata": {},
   "source": [
    "## Run the combat batch correction\n",
    "Might want to check that there no NaN in columns and rows"
   ]
  },
  {
   "cell_type": "code",
   "execution_count": null,
   "id": "f7358631-3d43-44e0-a299-a083fe85a166",
   "metadata": {},
   "outputs": [],
   "source": [
    "df_corrected = pycombat(df.dropna(), batch)"
   ]
  }
 ],
 "metadata": {
  "kernelspec": {
   "display_name": "Python 3 (ipykernel)",
   "language": "python",
   "name": "python3"
  },
  "language_info": {
   "codemirror_mode": {
    "name": "ipython",
    "version": 3
   },
   "file_extension": ".py",
   "mimetype": "text/x-python",
   "name": "python",
   "nbconvert_exporter": "python",
   "pygments_lexer": "ipython3",
   "version": "3.9.7"
  }
 },
 "nbformat": 4,
 "nbformat_minor": 5
}
