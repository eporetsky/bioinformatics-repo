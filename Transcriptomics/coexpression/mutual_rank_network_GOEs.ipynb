{
 "cells": [
  {
   "cell_type": "code",
   "execution_count": null,
   "metadata": {},
   "outputs": [],
   "source": [
    "import pandas as pd\n",
    "import datatable as dt\n",
    "import networkx as nx\n",
    "from nancorrmp.nancorrmp import NaNCorrMp    \n",
    "\n",
    "import warnings\n",
    "warnings.filterwarnings('ignore')"
   ]
  },
  {
   "cell_type": "markdown",
   "metadata": {},
   "source": [
    "# MR Network with Genes of Interest (GOEs)"
   ]
  },
  {
   "cell_type": "code",
   "execution_count": null,
   "metadata": {},
   "outputs": [],
   "source": [
    "# Use the commented code to save or read the intermediate file\n",
    "# It takes about an hour to get 40k x 40k coexpression matrix with 32 threads\n",
    "df = pd.read_csv(\"expression_data.csv\", index_col=0)\n",
    "df = df.loc[~(df==0).all(axis=1)] # remove all-zero rows\n",
    "df = np.log2(df+1) # if you want to log transform the data\n",
    "df.iloc[:5,:5]"
   ]
  },
  {
   "cell_type": "code",
   "execution_count": null,
   "metadata": {},
   "outputs": [],
   "source": [
    "# Calculate the coexpression matrix\n",
    "analysis_name = \"experiment_name\"\n",
    "corr = NaNCorrMp.calculate(df.T) # Generate the complete coexpression matrix\n",
    "#dt.Frame(corr).to_csv(analysis_name+'.corr.csv')\n",
    "\n",
    "# Calculate the MR matrix\n",
    "#corr = dt.fread(name+'.corr.csv').to_pandas()\n",
    "#corr.index = corr.columns\n",
    "mr = np.sqrt(corr.rank(ascending=False)) * np.sqrt(corr.rank(axis=1, ascending=False))"
   ]
  },
  {
   "cell_type": "code",
   "execution_count": null,
   "metadata": {},
   "outputs": [],
   "source": [
    "# Get the list of GOEs and keep the ones that exist in the MR table\n",
    "# You can loop over the dictionary, or just have one file, I keep it for convenience\n",
    "keep_dict = {\"file1\": \"filter_set1.csv\",\n",
    "             \"file2\": \"filter_set2.csv\"}\n",
    "\n",
    "for keep_name in keep_dict.keys():\n",
    "    keep_set = set(pd.read_csv(keep_dict[keep_name])[\"GeneID\"].tolist())\n",
    "    keep_set = mr.index.intersection(keep_set)\n",
    "\n",
    "    for mr_threshold in [10, 100]:\n",
    "        mr_adj = mr.copy()\n",
    "\n",
    "        # keep rows and columns from the keep_set\n",
    "        mr_adj = mr_adj.loc[keep_set, keep_set]\n",
    "\n",
    "        # To generate matrix set diagonal and > mr_threshold to zero (no edges)\n",
    "        mr_adj[mr_adj>mr_threshold]=0\n",
    "        mr_adj[mr_adj==1.0]=0\n",
    "\n",
    "        # Convert MR table, in the form of adj matrix, to networkx Graph\n",
    "        G = nx.convert_matrix.from_pandas_adjacency(mr_adj)\n",
    "\n",
    "        # Extract edge weights from the MR table and set as graph attribute\n",
    "        weighted_edges = []\n",
    "        for e in G.edges:\n",
    "            weighted_edges.append(tuple([e[0], e[1], mr_adj.loc[e[0], e[1]]]))\n",
    "        G.add_weighted_edges_from(weighted_edges, weight=\"mr\")\n",
    "        \n",
    "        # On few occasions I found genes that are barely expressed that have pcc=1 with multiple genes\n",
    "        # This causes the MR value to differ from 1 (arbitrary ranking value) that causes selfloop formation \n",
    "        G.remove_edges_from(nx.selfloop_edges(G))\n",
    "\n",
    "\n",
    "        # Write network to file\n",
    "        nx.write_edgelist(G, analysis_name+\"_\"+keep_name+\"_mr\"+str(mr_threshold)+\".edgelist\", comments='#', delimiter='\\t', data=[\"mr\"], encoding='utf-8')"
   ]
  }
 ],
 "metadata": {
  "kernelspec": {
   "display_name": "Python 3 (ipykernel)",
   "language": "python",
   "name": "python3"
  },
  "language_info": {
   "codemirror_mode": {
    "name": "ipython",
    "version": 3
   },
   "file_extension": ".py",
   "mimetype": "text/x-python",
   "name": "python",
   "nbconvert_exporter": "python",
   "pygments_lexer": "ipython3",
   "version": "3.9.7"
  }
 },
 "nbformat": 4,
 "nbformat_minor": 4
}
