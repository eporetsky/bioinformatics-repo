{
 "cells": [
  {
   "cell_type": "markdown",
   "id": "84271db7",
   "metadata": {},
   "source": [
    "# Get the first PC of each Connected Component\n",
    "The networks were generated using the ClusterONE MR network notebook"
   ]
  },
  {
   "cell_type": "code",
   "execution_count": 47,
   "id": "4d09ebd3",
   "metadata": {},
   "outputs": [],
   "source": [
    "import networkx as nx\n",
    "import pandas as pd\n",
    "import numpy as np\n",
    "from sklearn.decomposition import PCA\n",
    "import warnings\n",
    "warnings.filterwarnings('ignore')"
   ]
  },
  {
   "cell_type": "markdown",
   "id": "e4551b9b",
   "metadata": {},
   "source": [
    "### 1. Get the raw data used to generate the MR network"
   ]
  },
  {
   "cell_type": "code",
   "execution_count": 17,
   "id": "ac1c3d18",
   "metadata": {},
   "outputs": [],
   "source": [
    "df = pd.read_csv(\"data.tsv\", index_col=0, sep=\"\\t\")\n",
    "df = df.loc[~(df==0).all(axis=1)] # remove all-zero rows\n",
    "# Optionally - normalize the raw data\n",
    "df = np.log2(df+1)\n",
    "df = df / df.sum()"
   ]
  },
  {
   "cell_type": "markdown",
   "id": "841cb83a",
   "metadata": {},
   "source": [
    "### 2 Generate a list of all CCs"
   ]
  },
  {
   "cell_type": "code",
   "execution_count": 41,
   "id": "8b2ab4eb",
   "metadata": {},
   "outputs": [],
   "source": [
    "# Load the the edges tables. The code was written to iterate over any file combinations\n",
    "# If you have a third weights column, include the data.\n",
    "G = nx.read_edgelist(\"clusterONE.edges.tsv\", delimiter=\"\\t\", data=[(\"weight\", float,)])\n",
    "cc_list = [G.subgraph(c).copy() for c in nx.connected_components(G)]"
   ]
  },
  {
   "cell_type": "markdown",
   "id": "3807bcda",
   "metadata": {},
   "source": [
    "### 3. Generate the Eigen ClusterONE"
   ]
  },
  {
   "cell_type": "code",
   "execution_count": 48,
   "id": "ee96617c",
   "metadata": {},
   "outputs": [],
   "source": [
    "edf = pd.DataFrame()\n",
    "cc_count = 1\n",
    "for cc in cc_list:\n",
    "    pca = PCA(n_components = 1)\n",
    "    X = pca.fit_transform(df.loc[list(cc.nodes)].T)\n",
    "    edf[\"cc\"+str(cc_count)] = X.T[0]\n",
    "    cc_count += 1\n",
    "edf.index = df.columns\n",
    "edf.to_csv(\"eigenClusterONE.csv\")"
   ]
  },
  {
   "cell_type": "markdown",
   "id": "2dbf6123",
   "metadata": {},
   "source": [
    "### 4. Write the gene list of each connected component"
   ]
  },
  {
   "cell_type": "code",
   "execution_count": 56,
   "id": "e524c1c9",
   "metadata": {},
   "outputs": [],
   "source": [
    "# Write one row for feature followed by the CC name\n",
    "with open(\"eigenClusterONE.tsv\", 'w') as out:\n",
    "    out.write(\"feature\"+\"\\t\"+\"cc_name\"+\"\\n\")\n",
    "    cc_count = 1\n",
    "    for cc in cc_list:\n",
    "        for node in list(cc_list[0].nodes):\n",
    "            out.write(node+\"\\t\"+\"cc\"+str(cc_count)+\"\\n\")\n",
    "        cc_count += 1"
   ]
  },
  {
   "cell_type": "code",
   "execution_count": 57,
   "id": "94e1a4d3",
   "metadata": {},
   "outputs": [],
   "source": [
    "# Write one row for each CC followed by the gene list\n",
    "with open(\"eigenClusterONE.tsv\", 'w') as out:\n",
    "    out.write(\"name\"+\"\\t\"+\"name_list\"+\"\\n\")\n",
    "    cc_count = 1\n",
    "    for cc in cc_list:\n",
    "        out.write(\"cc\"+str(cc_count)+\"\\t\"+\",\".join(list(cc_list[0].nodes))+\"\\n\")\n",
    "        cc_count += 1"
   ]
  }
 ],
 "metadata": {
  "kernelspec": {
   "display_name": "Python 3 (ipykernel)",
   "language": "python",
   "name": "python3"
  },
  "language_info": {
   "codemirror_mode": {
    "name": "ipython",
    "version": 3
   },
   "file_extension": ".py",
   "mimetype": "text/x-python",
   "name": "python",
   "nbconvert_exporter": "python",
   "pygments_lexer": "ipython3",
   "version": "3.9.7"
  }
 },
 "nbformat": 4,
 "nbformat_minor": 5
}
