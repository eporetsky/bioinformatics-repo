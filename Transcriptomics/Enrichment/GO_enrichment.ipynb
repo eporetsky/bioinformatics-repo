{
 "cells": [
  {
   "cell_type": "markdown",
   "id": "filled-invasion",
   "metadata": {},
   "source": [
    "# Gene Ontology (GO) Enrichment Analysis"
   ]
  },
  {
   "cell_type": "code",
   "execution_count": null,
   "id": "banner-collective",
   "metadata": {},
   "outputs": [],
   "source": [
    "import pandas as pd\n",
    "import numpy as np\n",
    "import seaborn as sns\n",
    "from scipy.stats import  hypergeom\n",
    "from statsmodels.stats.multitest import multipletests"
   ]
  },
  {
   "cell_type": "markdown",
   "id": "velvet-arrangement",
   "metadata": {},
   "source": [
    "### 0. Generate a parsed GO base file"
   ]
  },
  {
   "cell_type": "code",
   "execution_count": null,
   "id": "prompt-delhi",
   "metadata": {},
   "outputs": [],
   "source": [
    "# Parser is pretty simple, open the OBO file to understand the structure\n",
    "# but note that I am assuming that every GO term has the same structure\n",
    "temp_go = {\"id\":[], \"name\":[], \"namespace\":[], \"def\":[]}\n",
    "obo_df = pd.DataFrame(temp_go)\n",
    "\n",
    "file = open('go-basic.obo')\n",
    "for row in file:\n",
    "    splt = row.split(\": \")\n",
    "    if splt[0] == \"id\":\n",
    "        temp_go[\"id\"] = [splt[1][:-1]]\n",
    "    if splt[0] == \"name\":\n",
    "        temp_go[\"name\"] = [splt[1][:-1]]\n",
    "    if splt[0] == \"namespace\":\n",
    "        temp_go[\"namespace\"] = [splt[1][:-1]]\n",
    "    if splt[0] == \"def\":\n",
    "        temp_go[\"def\"] = [splt[1][:-1].split('\"')[1]]\n",
    "        obo_df = pd.concat([obo_df, pd.DataFrame(temp_go)], axis=0)\n",
    "        temp_go = {\"id\":[], \"name\":[], \"namespace\":[], \"def\":[]}\n",
    "obo_df.to_csv(\"go-basic-parsed.csv\")"
   ]
  },
  {
   "cell_type": "markdown",
   "id": "spanish-luxembourg",
   "metadata": {},
   "source": [
    "### 1. Load the go-basic-parsed.csv file"
   ]
  },
  {
   "cell_type": "code",
   "execution_count": 1,
   "id": "positive-barrel",
   "metadata": {},
   "outputs": [
    {
     "data": {
      "text/html": [
       "<div>\n",
       "<style scoped>\n",
       "    .dataframe tbody tr th:only-of-type {\n",
       "        vertical-align: middle;\n",
       "    }\n",
       "\n",
       "    .dataframe tbody tr th {\n",
       "        vertical-align: top;\n",
       "    }\n",
       "\n",
       "    .dataframe thead th {\n",
       "        text-align: right;\n",
       "    }\n",
       "</style>\n",
       "<table border=\"1\" class=\"dataframe\">\n",
       "  <thead>\n",
       "    <tr style=\"text-align: right;\">\n",
       "      <th></th>\n",
       "      <th>id</th>\n",
       "      <th>name</th>\n",
       "      <th>namespace</th>\n",
       "      <th>def</th>\n",
       "    </tr>\n",
       "  </thead>\n",
       "  <tbody>\n",
       "    <tr>\n",
       "      <th>0</th>\n",
       "      <td>GO:0000001</td>\n",
       "      <td>mitochondrion inheritance</td>\n",
       "      <td>biological_process</td>\n",
       "      <td>The distribution of mitochondria, including th...</td>\n",
       "    </tr>\n",
       "    <tr>\n",
       "      <th>1</th>\n",
       "      <td>GO:0000002</td>\n",
       "      <td>mitochondrial genome maintenance</td>\n",
       "      <td>biological_process</td>\n",
       "      <td>The maintenance of the structure and integrity...</td>\n",
       "    </tr>\n",
       "    <tr>\n",
       "      <th>2</th>\n",
       "      <td>GO:0000003</td>\n",
       "      <td>reproduction</td>\n",
       "      <td>biological_process</td>\n",
       "      <td>The production of new individuals that contain...</td>\n",
       "    </tr>\n",
       "    <tr>\n",
       "      <th>3</th>\n",
       "      <td>GO:0000005</td>\n",
       "      <td>obsolete ribosomal chaperone activity</td>\n",
       "      <td>molecular_function</td>\n",
       "      <td>OBSOLETE. Assists in the correct assembly of r...</td>\n",
       "    </tr>\n",
       "    <tr>\n",
       "      <th>4</th>\n",
       "      <td>GO:0000006</td>\n",
       "      <td>high-affinity zinc transmembrane transporter a...</td>\n",
       "      <td>molecular_function</td>\n",
       "      <td>Enables the transfer of zinc ions (Zn2+) from ...</td>\n",
       "    </tr>\n",
       "    <tr>\n",
       "      <th>...</th>\n",
       "      <td>...</td>\n",
       "      <td>...</td>\n",
       "      <td>...</td>\n",
       "      <td>...</td>\n",
       "    </tr>\n",
       "    <tr>\n",
       "      <th>47412</th>\n",
       "      <td>GO:2001313</td>\n",
       "      <td>UDP-4-deoxy-4-formamido-beta-L-arabinopyranose...</td>\n",
       "      <td>biological_process</td>\n",
       "      <td>The chemical reactions and pathways involving ...</td>\n",
       "    </tr>\n",
       "    <tr>\n",
       "      <th>47413</th>\n",
       "      <td>GO:2001314</td>\n",
       "      <td>UDP-4-deoxy-4-formamido-beta-L-arabinopyranose...</td>\n",
       "      <td>biological_process</td>\n",
       "      <td>The chemical reactions and pathways resulting ...</td>\n",
       "    </tr>\n",
       "    <tr>\n",
       "      <th>47414</th>\n",
       "      <td>GO:2001315</td>\n",
       "      <td>UDP-4-deoxy-4-formamido-beta-L-arabinopyranose...</td>\n",
       "      <td>biological_process</td>\n",
       "      <td>The chemical reactions and pathways resulting ...</td>\n",
       "    </tr>\n",
       "    <tr>\n",
       "      <th>47415</th>\n",
       "      <td>GO:2001316</td>\n",
       "      <td>kojic acid metabolic process</td>\n",
       "      <td>biological_process</td>\n",
       "      <td>The chemical reactions and pathways involving ...</td>\n",
       "    </tr>\n",
       "    <tr>\n",
       "      <th>47416</th>\n",
       "      <td>GO:2001317</td>\n",
       "      <td>kojic acid biosynthetic process</td>\n",
       "      <td>biological_process</td>\n",
       "      <td>The chemical reactions and pathways resulting ...</td>\n",
       "    </tr>\n",
       "  </tbody>\n",
       "</table>\n",
       "<p>47417 rows × 4 columns</p>\n",
       "</div>"
      ],
      "text/plain": [
       "               id                                               name  \\\n",
       "0      GO:0000001                          mitochondrion inheritance   \n",
       "1      GO:0000002                   mitochondrial genome maintenance   \n",
       "2      GO:0000003                                       reproduction   \n",
       "3      GO:0000005              obsolete ribosomal chaperone activity   \n",
       "4      GO:0000006  high-affinity zinc transmembrane transporter a...   \n",
       "...           ...                                                ...   \n",
       "47412  GO:2001313  UDP-4-deoxy-4-formamido-beta-L-arabinopyranose...   \n",
       "47413  GO:2001314  UDP-4-deoxy-4-formamido-beta-L-arabinopyranose...   \n",
       "47414  GO:2001315  UDP-4-deoxy-4-formamido-beta-L-arabinopyranose...   \n",
       "47415  GO:2001316                       kojic acid metabolic process   \n",
       "47416  GO:2001317                    kojic acid biosynthetic process   \n",
       "\n",
       "                namespace                                                def  \n",
       "0      biological_process  The distribution of mitochondria, including th...  \n",
       "1      biological_process  The maintenance of the structure and integrity...  \n",
       "2      biological_process  The production of new individuals that contain...  \n",
       "3      molecular_function  OBSOLETE. Assists in the correct assembly of r...  \n",
       "4      molecular_function  Enables the transfer of zinc ions (Zn2+) from ...  \n",
       "...                   ...                                                ...  \n",
       "47412  biological_process  The chemical reactions and pathways involving ...  \n",
       "47413  biological_process  The chemical reactions and pathways resulting ...  \n",
       "47414  biological_process  The chemical reactions and pathways resulting ...  \n",
       "47415  biological_process  The chemical reactions and pathways involving ...  \n",
       "47416  biological_process  The chemical reactions and pathways resulting ...  \n",
       "\n",
       "[47417 rows x 4 columns]"
      ]
     },
     "execution_count": 1,
     "metadata": {},
     "output_type": "execute_result"
    }
   ],
   "source": [
    "# https://github.com/cmungall/obo\n",
    "# import obo - tried using this, got an error, made my own parser...\n",
    "obo_df = pd.read_csv(\"go-basic-parsed.csv\")\n",
    "# remove the wrong column, need to adjust the to_csv next time\n",
    "obo_df.drop(obo_df.columns[0],axis=1)"
   ]
  },
  {
   "cell_type": "markdown",
   "id": "negative-contact",
   "metadata": {},
   "source": [
    "### 2. Create a genome specific GO term dictionary \n",
    "Note: this works with Phytozome annotation files that have all GO terms for each gene in a single cell"
   ]
  },
  {
   "cell_type": "code",
   "execution_count": 3,
   "id": "technical-scratch",
   "metadata": {},
   "outputs": [
    {
     "data": {
      "text/html": [
       "<div>\n",
       "<style scoped>\n",
       "    .dataframe tbody tr th:only-of-type {\n",
       "        vertical-align: middle;\n",
       "    }\n",
       "\n",
       "    .dataframe tbody tr th {\n",
       "        vertical-align: top;\n",
       "    }\n",
       "\n",
       "    .dataframe thead th {\n",
       "        text-align: right;\n",
       "    }\n",
       "</style>\n",
       "<table border=\"1\" class=\"dataframe\">\n",
       "  <thead>\n",
       "    <tr style=\"text-align: right;\">\n",
       "      <th></th>\n",
       "      <th>genes</th>\n",
       "      <th>term</th>\n",
       "      <th>Unnamed: 2</th>\n",
       "    </tr>\n",
       "  </thead>\n",
       "  <tbody>\n",
       "    <tr>\n",
       "      <th>0</th>\n",
       "      <td>Zm00001d000001</td>\n",
       "      <td>GO:0004097,GO:0004503,GO:0046872,GO:0052716,GO...</td>\n",
       "      <td>NaN</td>\n",
       "    </tr>\n",
       "    <tr>\n",
       "      <th>1</th>\n",
       "      <td>Zm00001d000002</td>\n",
       "      <td>GO:0004373,GO:0009011,GO:2001070,GO:0005739,GO...</td>\n",
       "      <td>NaN</td>\n",
       "    </tr>\n",
       "    <tr>\n",
       "      <th>2</th>\n",
       "      <td>Zm00001d000003</td>\n",
       "      <td>GO:0005488,GO:0044237</td>\n",
       "      <td>NaN</td>\n",
       "    </tr>\n",
       "    <tr>\n",
       "      <th>3</th>\n",
       "      <td>Zm00001d000004</td>\n",
       "      <td>GO:0005730,GO:0005737,GO:0044463,GO:0008017,GO...</td>\n",
       "      <td>NaN</td>\n",
       "    </tr>\n",
       "    <tr>\n",
       "      <th>4</th>\n",
       "      <td>Zm00001d000005</td>\n",
       "      <td>GO:0007155,GO:0009913,GO:0010090,GO:0044237,GO...</td>\n",
       "      <td>NaN</td>\n",
       "    </tr>\n",
       "  </tbody>\n",
       "</table>\n",
       "</div>"
      ],
      "text/plain": [
       "            genes                                               term  \\\n",
       "0  Zm00001d000001  GO:0004097,GO:0004503,GO:0046872,GO:0052716,GO...   \n",
       "1  Zm00001d000002  GO:0004373,GO:0009011,GO:2001070,GO:0005739,GO...   \n",
       "2  Zm00001d000003                              GO:0005488,GO:0044237   \n",
       "3  Zm00001d000004  GO:0005730,GO:0005737,GO:0044463,GO:0008017,GO...   \n",
       "4  Zm00001d000005  GO:0007155,GO:0009913,GO:0010090,GO:0044237,GO...   \n",
       "\n",
       "   Unnamed: 2  \n",
       "0         NaN  \n",
       "1         NaN  \n",
       "2         NaN  \n",
       "3         NaN  \n",
       "4         NaN  "
      ]
     },
     "execution_count": 3,
     "metadata": {},
     "output_type": "execute_result"
    }
   ],
   "source": [
    "gene_go_terms = pd.read_csv(\"GOs_agpv4.tsv\", sep=\"\\t\")\n",
    "gene_go_terms.head()"
   ]
  },
  {
   "cell_type": "code",
   "execution_count": 6,
   "id": "fifteen-quick",
   "metadata": {},
   "outputs": [],
   "source": [
    "go_dict = {}\n",
    "for row in range(len(gene_go_terms)):\n",
    "    for go_term in gene_go_terms.iloc[row][1].split(\",\"):\n",
    "        if go_term not in go_dict.keys():\n",
    "            go_dict[go_term] = [gene_go_terms.iloc[row][0]]\n",
    "        else:\n",
    "            go_dict[go_term].append(gene_go_terms.iloc[row][0])"
   ]
  },
  {
   "cell_type": "markdown",
   "id": "robust-survival",
   "metadata": {},
   "source": [
    "# Hyper-geometric test in python: \n",
    "\n",
    "https://gist.github.com/fbrundu/cfa675c1d79b4ade4724\n",
    "* M = Total number of genes\n",
    "* n = Number of genes having GO term\n",
    "* N = Number of DEGs\n",
    "* k = Number of DEGs having GO term\n",
    "\n",
    "#### To calculate the hypergeometric p value:\n",
    "* hpd = hypergeom(M, n, N)\n",
    "* p = hpd.pmf(k)"
   ]
  },
  {
   "cell_type": "markdown",
   "id": "plain-covering",
   "metadata": {},
   "source": [
    "### 3. Prepare the DEG gene lists"
   ]
  },
  {
   "cell_type": "code",
   "execution_count": 22,
   "id": "canadian-adobe",
   "metadata": {},
   "outputs": [
    {
     "name": "stdout",
     "output_type": "stream",
     "text": [
      "M: 39323 N: 275\n"
     ]
    }
   ],
   "source": [
    "M = len(gene_go_terms) # Total number of genes taken from GO annotation\n",
    "\n",
    "# Import the list of gene IDs from the supplementary table\n",
    "degs_all   = pd.read_csv(\"DEG_list.csv\")\n",
    "degs = degs_all.copy()\n",
    "degs = degs[degs[\"category\"]==\"treatment1\"]\n",
    "\n",
    "N = len(degs) # Number of DEGs\n",
    "print(\"M:\", M, \"N:\", N)"
   ]
  },
  {
   "cell_type": "markdown",
   "id": "mounted-watson",
   "metadata": {},
   "source": [
    "### 4. Start the GO term enrichment analysis using hypergeom"
   ]
  },
  {
   "cell_type": "code",
   "execution_count": 23,
   "id": "spanish-share",
   "metadata": {},
   "outputs": [],
   "source": [
    "# go_dict is a dictionary of GO term names and the values are list of associated genes\n",
    "# n is how many genes are in the GO term\n",
    "# k is a how many genes in the DEG list are associated with specific GO term\n",
    "n_list = []\n",
    "k_list = []\n",
    "go_list = []\n",
    "pval_list = []\n",
    "gene_list = []\n",
    "for key in go_dict.keys():\n",
    "    n = len(go_dict[key])\n",
    "    k = len(degs[degs[\"gene\"].isin(go_dict[key])])\n",
    "    hpd = hypergeom(M, n, N)\n",
    "    p = hpd.pmf(k)\n",
    "    n_list.append(n)\n",
    "    k_list.append(k)\n",
    "    go_list.append(key)\n",
    "    pval_list.append(p)\n",
    "    gene_list.append(\",\".join(list(degs[degs[\"gene\"].isin(go_dict[key])][\"gene\"])))"
   ]
  },
  {
   "cell_type": "markdown",
   "id": "smaller-flash",
   "metadata": {},
   "source": [
    "### 5. Prepare the GO term enrichment analysis results in a dataframe"
   ]
  },
  {
   "cell_type": "code",
   "execution_count": 24,
   "id": "multiple-clearance",
   "metadata": {},
   "outputs": [],
   "source": [
    "# Create a dataframe for the hypergeometric test results\n",
    "df_hg = pd.DataFrame({\"id\": go_list, \"pval\": pval_list, \n",
    "                      \"n\": n_list, \"k\": k_list, \n",
    "                      \"M\": [M] * len(n_list), \"N\": [N] * len(n_list),\n",
    "                      \"genes\": gene_list})\n",
    "# Calculate the adjusted p-values using the FDR BH method\n",
    "fdr_results = multipletests(pval_list, method=\"fdr_bh\")\n",
    "df_hg[\"adj\"] = fdr_results[1]\n",
    "# Filter non-significant rows based on default alpha < 0.05\n",
    "df_hg = df_hg[fdr_results[0]]"
   ]
  },
  {
   "cell_type": "markdown",
   "id": "amateur-committee",
   "metadata": {},
   "source": [
    "### 6. Calculate the the GO term fold-enrichment "
   ]
  },
  {
   "cell_type": "code",
   "execution_count": 25,
   "id": "falling-daughter",
   "metadata": {},
   "outputs": [],
   "source": [
    "# https://stackoverflow.com/questions/23414161/pandas-isin-with-output-keeping-order-of-input-list\n",
    "# descriptions = mapman.drop_duplicates(\"BINCODE\")\n",
    "# descriptions = descriptions[descriptions[\"BINCODE\"].isin(df_hg[\"BINCODE\"])]\n",
    "df_hg = df_hg.merge(obo_df, left_on='id', right_on='id')\n",
    "df_hg[\"FC_enrichment\"] = (df_hg[\"k\"] / df_hg[\"n\"]) / (N / M)"
   ]
  },
  {
   "cell_type": "markdown",
   "id": "global-parking",
   "metadata": {},
   "source": [
    "### 7. Write the GO term enrichment results to a CSV file"
   ]
  },
  {
   "cell_type": "code",
   "execution_count": 26,
   "id": "final-edinburgh",
   "metadata": {},
   "outputs": [],
   "source": [
    "# Can't remember if the commented line below is necessary\n",
    "# df_hg = df_hg.drop(\"Unnamed: 0\", axis=1)\n",
    "df_hg.to_csv(\"treatment1_go.tsv\", sep=\"\\t\")"
   ]
  }
 ],
 "metadata": {
  "kernelspec": {
   "display_name": "Python 3",
   "language": "python",
   "name": "python3"
  },
  "language_info": {
   "codemirror_mode": {
    "name": "ipython",
    "version": 3
   },
   "file_extension": ".py",
   "mimetype": "text/x-python",
   "name": "python",
   "nbconvert_exporter": "python",
   "pygments_lexer": "ipython3",
   "version": "3.8.5"
  }
 },
 "nbformat": 4,
 "nbformat_minor": 5
}
