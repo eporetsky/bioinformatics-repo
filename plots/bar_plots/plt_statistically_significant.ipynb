{
 "cells": [
  {
   "cell_type": "code",
   "execution_count": 1,
   "metadata": {},
   "outputs": [],
   "source": [
    "%matplotlib inline  \n",
    "import numpy as np\n",
    "import matplotlib.pyplot as plt\n",
    "from matplotlib import rcParams"
   ]
  },
  {
   "cell_type": "code",
   "execution_count": null,
   "metadata": {},
   "outputs": [],
   "source": []
  },
  {
   "cell_type": "code",
   "execution_count": 28,
   "metadata": {},
   "outputs": [
    {
     "data": {
      "image/png": "[encoded data removed]",
      "text/plain": [
       "<Figure size 432x288 with 1 Axes>"
      ]
     },
     "metadata": {
      "needs_background": "light"
     },
     "output_type": "display_data"
    }
   ],
   "source": [
    "menMeans   = (5, 15, 30, 40)\n",
    "menStd     = (2, 3, 4, 5)\n",
    "ind  = np.arange(4)    # the x locations for the groups\n",
    "width= 0.7\n",
    "labels = ('A', 'B', 'C', 'D')\n",
    "\n",
    "# Pull the formatting out here\n",
    "bar_kwargs = {'width':width,'color':'black','linewidth':2,'zorder':5}\n",
    "err_kwargs = {'zorder':0,'lw':2,'ecolor':'black', 'fmt':'none'} # ,\n",
    "\n",
    "X = ind\n",
    "\n",
    "fig, ax = plt.subplots()\n",
    "ax.p1 = plt.bar(ind, menMeans, **bar_kwargs)\n",
    "ax.errs = plt.errorbar(X, menMeans, yerr=menStd, **err_kwargs)\n",
    "\n",
    "\n",
    "# Custom function to draw the diff bars\n",
    "def label_diff(i,j,text,X,Y):\n",
    "    x = (X[i]+X[j])/2\n",
    "    y = 1.1*max(Y[i], Y[j])\n",
    "    dx = abs(X[i]-X[j])\n",
    "\n",
    "    props = {'connectionstyle':'bar','arrowstyle':'-',\\\n",
    "                 'shrinkA':20,'shrinkB':20,'lw':2}\n",
    "    ax.annotate(text, xy=(X[i]+0.5,y+8), zorder=10,ha='center')\n",
    "    ax.annotate('', xy=(X[i],y), xytext=(X[j],y), arrowprops=props)\n",
    "\n",
    "# Call the function\n",
    "label_diff(0,1,'p=0.0370',X,menMeans)\n",
    "label_diff(1,2,'p<0.0001',X,menMeans)\n",
    "label_diff(2,3,'p=0.0025',X,menMeans)\n",
    "\n",
    "plt.ylim(ymax=60)\n",
    "plt.xticks(X, labels, color='k')\n",
    "plt.show()"
   ]
  }
 ],
 "metadata": {
  "kernelspec": {
   "display_name": "Python 3",
   "language": "python",
   "name": "python3"
  },
  "language_info": {
   "codemirror_mode": {
    "name": "ipython",
    "version": 3
   },
   "file_extension": ".py",
   "mimetype": "text/x-python",
   "name": "python",
   "nbconvert_exporter": "python",
   "pygments_lexer": "ipython3",
   "version": "3.8.5"
  }
 },
 "nbformat": 4,
 "nbformat_minor": 1
}
