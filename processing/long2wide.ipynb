{
 "cells": [
  {
   "cell_type": "code",
   "execution_count": 31,
   "id": "diagnostic-database",
   "metadata": {},
   "outputs": [],
   "source": [
    "import pandas as pd\n",
    "import numpy as np"
   ]
  },
  {
   "cell_type": "code",
   "execution_count": 12,
   "id": "ancient-appliance",
   "metadata": {
    "scrolled": true
   },
   "outputs": [],
   "source": [
    "data = pd.read_csv(\"enriched_nCtrl_all.tsv\", sep=\"\\t\")"
   ]
  },
  {
   "cell_type": "code",
   "execution_count": 11,
   "id": "heard-standing",
   "metadata": {},
   "outputs": [],
   "source": [
    "names = pd.read_csv(\"names.txt\", header=None)[0].to_list()"
   ]
  },
  {
   "cell_type": "code",
   "execution_count": 15,
   "id": "unsigned-paper",
   "metadata": {},
   "outputs": [],
   "source": [
    "data = data[[\"condition\", \"altname\", \"ratio\"]]"
   ]
  },
  {
   "cell_type": "code",
   "execution_count": 58,
   "id": "whole-living",
   "metadata": {},
   "outputs": [
    {
     "data": {
      "text/plain": [
       "['2H', '4H', '8H', '24H', '48H', 'Sb13', 'Sb14', 'SbComb']"
      ]
     },
     "execution_count": 58,
     "metadata": {},
     "output_type": "execute_result"
    }
   ],
   "source": [
    "condition_col = data[\"condition\"].to_list()\n",
    "condition = []\n",
    "[condition.append(item) for item in condition_col if item not in condition]\n",
    "condition"
   ]
  },
  {
   "cell_type": "code",
   "execution_count": 37,
   "id": "noticed-glory",
   "metadata": {},
   "outputs": [],
   "source": [
    "df = pd.DataFrame(0, index=np.arange(len(names)), columns=result)"
   ]
  },
  {
   "cell_type": "code",
   "execution_count": 60,
   "id": "sealed-indie",
   "metadata": {},
   "outputs": [],
   "source": [
    "for _, row in data.iterrows():\n",
    "    r = names.index(row[1])\n",
    "    c = condition.index(row[0])\n",
    "    df.iloc[r,c]=row[2] "
   ]
  },
  {
   "cell_type": "code",
   "execution_count": 73,
   "id": "vulnerable-picture",
   "metadata": {},
   "outputs": [],
   "source": [
    "df.index = names\n",
    "df.to_csv(\"df_final.csv\")"
   ]
  }
 ],
 "metadata": {
  "kernelspec": {
   "display_name": "Python 3",
   "language": "python",
   "name": "python3"
  },
  "language_info": {
   "codemirror_mode": {
    "name": "ipython",
    "version": 3
   },
   "file_extension": ".py",
   "mimetype": "text/x-python",
   "name": "python",
   "nbconvert_exporter": "python",
   "pygments_lexer": "ipython3",
   "version": "3.8.5"
  }
 },
 "nbformat": 4,
 "nbformat_minor": 5
}
