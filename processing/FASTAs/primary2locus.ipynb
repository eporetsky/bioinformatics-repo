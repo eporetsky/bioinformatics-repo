{
 "cells": [
  {
   "cell_type": "code",
   "execution_count": null,
   "id": "e642f197",
   "metadata": {},
   "outputs": [],
   "source": [
    "# This script converts the Phytozome primary only sequences that contain the variant\n",
    "# ID in the sequence name to just the locus ID in the description that contains the\n",
    "# clean gene ID. It uses the compressed files and generates a gz file using linux."
   ]
  },
  {
   "cell_type": "code",
   "execution_count": 11,
   "id": "fb758eb2",
   "metadata": {},
   "outputs": [
    {
     "data": {
      "text/plain": [
       "['Sbicolor_454_v3.1.1.protein_primaryTranscriptOnly.fa.gz',\n",
       " 'Sitalica_312_v2.2.protein_primaryTranscriptOnly.fa.gz',\n",
       " 'Osativa_323_v7.0.protein_primaryTranscriptOnly.fa.gz',\n",
       " 'Athaliana_167_TAIR10.protein_primaryTranscriptOnly.fa.gz',\n",
       " 'Zmays_493_RefGen_V4.protein_primaryTranscriptOnly.fa.gz',\n",
       " 'Sviridis_500_v2.1.protein_primaryTranscriptOnly.fa.gz',\n",
       " 'Pvirgatum_516_v5.1.protein_primaryTranscriptOnly.fa.gz',\n",
       " 'Gmax_508_Wm82.a4.v1.protein_primaryTranscriptOnly.fa.gz']"
      ]
     },
     "execution_count": 11,
     "metadata": {},
     "output_type": "execute_result"
    }
   ],
   "source": [
    "import glob\n",
    "from Bio import SeqIO\n",
    "from Bio.SeqRecord import SeqRecord\n",
    "from Bio.Seq import Seq\n",
    "import gzip\n",
    "import os\n",
    "from collections import OrderedDict\n",
    "\n",
    "\n",
    "fasta_list = glob.glob('*.gz') # returns a list of all .fa files in the folder\n",
    "fasta_list"
   ]
  },
  {
   "cell_type": "code",
   "execution_count": 12,
   "id": "9cc53cc0",
   "metadata": {},
   "outputs": [],
   "source": [
    "for fl in fasta_list:\n",
    "    fasta_file = gzip.open(fl, mode='rt')\n",
    "    od = OrderedDict()\n",
    "    for seq in SeqIO.parse(fasta_file, \"fasta\"):\n",
    "        # Extract the locus ID that doesn't contain the isoform\n",
    "        locus = seq.description.split(\" \")\n",
    "        for ls in locus:\n",
    "            if \"locus\" in ls:\n",
    "                locus = ls[6:]\n",
    "        od[locus] = SeqRecord(Seq(seq.seq), id=locus, name=\"\", description=\"\")  \n",
    "    with open(fl[:-6]+\".locus.fa\", 'w') as handle:\n",
    "        SeqIO.write(od.values(), handle, 'fasta')\n",
    "    os.system(\"gzip \" + fl[:-6]+\".locus.fa\")"
   ]
  }
 ],
 "metadata": {
  "kernelspec": {
   "display_name": "Python 3 (ipykernel)",
   "language": "python",
   "name": "python3"
  },
  "language_info": {
   "codemirror_mode": {
    "name": "ipython",
    "version": 3
   },
   "file_extension": ".py",
   "mimetype": "text/x-python",
   "name": "python",
   "nbconvert_exporter": "python",
   "pygments_lexer": "ipython3",
   "version": "3.9.7"
  }
 },
 "nbformat": 4,
 "nbformat_minor": 5
}
