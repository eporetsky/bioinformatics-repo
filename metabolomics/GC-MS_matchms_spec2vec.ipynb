{
 "cells": [
  {
   "cell_type": "code",
   "execution_count": null,
   "id": "rotary-milwaukee",
   "metadata": {},
   "outputs": [],
   "source": [
    "import os\n",
    "import pandas as pd\n",
    "\n",
    "from matchms.filtering import add_losses\n",
    "from matchms.filtering import add_parent_mass\n",
    "from matchms.filtering import default_filters\n",
    "from matchms.filtering import normalize_intensities\n",
    "from matchms.filtering import reduce_to_number_of_peaks\n",
    "from matchms.filtering import require_minimum_number_of_peaks\n",
    "from matchms.filtering import select_by_mz\n",
    "from matchms.importing import load_from_mgf\n",
    "from matchms.importing import load_from_mzml\n",
    "from spec2vec import SpectrumDocument\n",
    "from spec2vec.model_building import train_new_word2vec_model"
   ]
  },
  {
   "cell_type": "markdown",
   "id": "forty-verification",
   "metadata": {},
   "source": [
    "# Import the raw GC-MS data\n",
    "\n",
    "Note: The GC-MS Agilent .M data was converted to mgf format using OpenChrom"
   ]
  },
  {
   "cell_type": "code",
   "execution_count": null,
   "id": "romantic-spyware",
   "metadata": {},
   "outputs": [],
   "source": [
    "# With GC-MS data it gets WARNING:matchms:add_precursor_mz:No precursor_mz found in metadata.\n",
    "# Setting metadata_harmonization=False seems to suppress warning.\n",
    "\n",
    "# The specrums list contains double the amount of scans in the raw file, two identical sets.\n",
    "# I assume that it is trying to load the MS-MS data. Keep first half of list only\n",
    "# list(spectrums[-1].peaks)[10]==list(spectrums[1766].peaks)[10] ::: array([ True,  True])\n",
    "\n",
    "spectrums = list(load_from_mgf(\"mgf/file_1.mgf\", metadata_harmonization=False))\n",
    "spectrums = spectrums[:int(len(spectrums)/2)]\n",
    "\n",
    "# Only do minor processing because I am using my own pre-selected list of features\n",
    "import matchms.filtering as msfilters\n",
    "def spectrum_processing(s):\n",
    "    s = normalize_intensities(s)\n",
    "    s = reduce_to_number_of_peaks(s, n_required=20, n_max=200)\n",
    "    return s\n",
    "spectrums = [spectrum_processing(s) for s in spectrums]"
   ]
  },
  {
   "cell_type": "markdown",
   "id": "different-compact",
   "metadata": {},
   "source": [
    "# Import the list of pre-selected feature RTs"
   ]
  },
  {
   "cell_type": "code",
   "execution_count": null,
   "id": "smooth-international",
   "metadata": {},
   "outputs": [],
   "source": [
    "# The table contains the metabolite names and retention times\n",
    "spectra = pd.read_csv(\"spectra_info.txt\", sep=\"\\t\")\n",
    "\n",
    "known_dict = {}\n",
    "# Overlapping metabolites will be overwritten\n",
    "for rt, name in spectra.dropna()[[\"RTINSECONDS\", \"known\"]].values.tolist():\n",
    "    known_dict[rt] = name\n",
    "rt_list = spectra[\"RTINSECONDS\"].values.tolist()\n",
    "\n",
    "short_names = spectra[\"short\"].values.tolist()"
   ]
  },
  {
   "cell_type": "markdown",
   "id": "challenging-asthma",
   "metadata": {},
   "source": [
    "# Keep the pre-selected spectra and add metabolite names"
   ]
  },
  {
   "cell_type": "code",
   "execution_count": null,
   "id": "canadian-headset",
   "metadata": {},
   "outputs": [],
   "source": [
    "selected_spectrums = []\n",
    "for rt in rt_list:\n",
    "    for s in spectrums:\n",
    "        # There might be come features with overlapping RTs\n",
    "        if rt == int(s.metadata['retention_time']):\n",
    "            if rt in known_dict.keys():\n",
    "                s.set(\"compound_name\", known_dict[rt])\n",
    "            selected_spectrums.append(s)\n",
    "            break\n",
    "len(selected_spectrums)"
   ]
  },
  {
   "cell_type": "markdown",
   "id": "isolated-yield",
   "metadata": {},
   "source": [
    "# Make a plot of selected metabolite"
   ]
  },
  {
   "cell_type": "code",
   "execution_count": null,
   "id": "complimentary-strengthening",
   "metadata": {},
   "outputs": [],
   "source": [
    "# selected_spectrums[384].plot(grid=False,annotate_ions=True)\n",
    "# plt.savefig(\"spectrum-plot-example_1.png\", dpi=300)  # If you want to save a plot"
   ]
  },
  {
   "cell_type": "markdown",
   "id": "abroad-short",
   "metadata": {},
   "source": [
    "# Calculate the all-vs-all cosine similarity scores"
   ]
  },
  {
   "cell_type": "code",
   "execution_count": null,
   "id": "spectacular-series",
   "metadata": {},
   "outputs": [],
   "source": [
    "import numpy as np\n",
    "from matchms import Spectrum, calculate_scores\n",
    "from matchms.similarity import CosineGreedy\n",
    "from matchms.networking import SimilarityNetwork\n",
    "\n",
    "# Use factory to construct a similarity function\n",
    "cosinegreedy = CosineGreedy(tolerance=0.2)\n",
    "# modified_cosine = ModifiedCosine(tolerance=0.2)\n",
    "scores = calculate_scores(selected_spectrums, selected_spectrums, cosinegreedy, is_symmetric=True)"
   ]
  },
  {
   "cell_type": "markdown",
   "id": "arctic-stuff",
   "metadata": {},
   "source": [
    "# Convert the similarity scores to a network file for Cytoscape"
   ]
  },
  {
   "cell_type": "code",
   "execution_count": null,
   "id": "dense-soundtrack",
   "metadata": {},
   "outputs": [],
   "source": [
    "import networkx as nx\n",
    "\n",
    "sim_matrix = []\n",
    "for row in scores.scores:\n",
    "    sim_matrix.append([])\n",
    "    for col in row:\n",
    "        sim_matrix[-1].append(col[0])\n",
    "sim_matrix = pd.DataFrame(sim_matrix)\n",
    "sim_matrix[sim_matrix < 0.9] = 0\n",
    "sim_matrix[sim_matrix == 1] = 0\n",
    "G = nx.from_pandas_adjacency(sim_matrix)\n",
    "mapping = {num: short_names[num] for num in range(len(short_names))}\n",
    "G = nx.relabel_nodes(G, mapping)\n",
    "\n",
    "print(len(G.edges))\n",
    "nx.write_edgelist(G, \"similarity.cosine.networkx\", comments='#', data=False, delimiter='\\t', encoding='utf-8')"
   ]
  },
  {
   "cell_type": "markdown",
   "id": "racial-macintosh",
   "metadata": {},
   "source": [
    "# Generate word2vec model"
   ]
  },
  {
   "cell_type": "code",
   "execution_count": null,
   "id": "cutting-watts",
   "metadata": {},
   "outputs": [],
   "source": [
    "reference_documents = [SpectrumDocument(s, n_decimals=2) for s in selected_spectrums]\n",
    "\n",
    "model_file = \"references.model\"\n",
    "model = train_new_word2vec_model(reference_documents, iterations=[10, 20, 30], filename=model_file,\n",
    "                                 workers=8, progress_logger=True, \n",
    "                                 learning_rate_initial=0.25, learning_rate_decay=0.025)"
   ]
  },
  {
   "cell_type": "markdown",
   "id": "simplified-broadcast",
   "metadata": {},
   "source": [
    "# Import spec2vec model to get the all-vs-all similarity scores"
   ]
  },
  {
   "cell_type": "code",
   "execution_count": null,
   "id": "hazardous-uganda",
   "metadata": {},
   "outputs": [],
   "source": [
    "import gensim\n",
    "from matchms import calculate_scores\n",
    "from spec2vec import Spec2Vec\n",
    "\n",
    "# Import pre-trained word2vec model (see code example above)\n",
    "model_file = \"references.model\"\n",
    "model = gensim.models.Word2Vec.load(model_file)\n",
    "\n",
    "# Define similarity_function\n",
    "spec2vec_similarity = Spec2Vec(model=model, intensity_weighting_power=0.5,\n",
    "                               allowed_missing_percentage=5.0)\n",
    "\n",
    "# Calculate scores on all combinations of reference spectrums and queries\n",
    "scores = calculate_scores(selected_spectrums, selected_spectrums, spec2vec_similarity)\n",
    "\n",
    "import networkx as nx\n",
    "\n",
    "sim_matrix = pd.DataFrame(scores.scores)\n",
    "sim_matrix[sim_matrix < 0.85] = 0\n",
    "sim_matrix[sim_matrix == 1] = 0\n",
    "G = nx.from_pandas_adjacency(sim_matrix)\n",
    "mapping = {num: short_names[num] for num in range(len(short_names))}\n",
    "G = nx.relabel_nodes(G, mapping)\n",
    "\n",
    "print(len(G.edges))\n",
    "nx.write_edgelist(G, \"similarity.spec2vec.networkx\", comments='#', data=False, delimiter='\\t', encoding='utf-8')"
   ]
  }
 ],
 "metadata": {
  "kernelspec": {
   "display_name": "Python 3",
   "language": "python",
   "name": "python3"
  },
  "language_info": {
   "codemirror_mode": {
    "name": "ipython",
    "version": 3
   },
   "file_extension": ".py",
   "mimetype": "text/x-python",
   "name": "python",
   "nbconvert_exporter": "python",
   "pygments_lexer": "ipython3",
   "version": "3.8.5"
  }
 },
 "nbformat": 4,
 "nbformat_minor": 5
}
