{
 "cells": [
  {
   "cell_type": "code",
   "execution_count": null,
   "id": "4ee3dbde",
   "metadata": {},
   "outputs": [],
   "source": [
    "# You can run TMHMM online from here: http://www.cbs.dtu.dk/services/TMHMM/\n",
    "# Or install stand-alone TMHMM from here: https://pypi.org/project/tmhmm.py/\n",
    "# Register and download .model files from https://services.healthtech.dtu.dk/software.php\n",
    "import tmhmm \n",
    "from Bio import SeqIO "
   ]
  },
  {
   "cell_type": "code",
   "execution_count": null,
   "id": "56ccca27",
   "metadata": {},
   "outputs": [],
   "source": [
    "seqs = SeqIO.parse(\"amino_acid.fasta\", \"fasta\")\n",
    "for seq in seqs:\n",
    "    annotation, posterior = tmhmm.predict(seq.seq, \n",
    "                                          header=None, \n",
    "                                          model_or_filelike='TMHMM2.0.model', \n",
    "                                          compute_posterior=True)\n",
    "    \n",
    "    # If any membrane \"M\" amino-acids are predicted print it out\n",
    "    if \"M\" in annotation:\n",
    "        print(\"TM,\"+seq.name)\n",
    "    else:\n",
    "        print(\"None,\"+seq.name)"
   ]
  }
 ],
 "metadata": {
  "kernelspec": {
   "display_name": "Python 3",
   "language": "python",
   "name": "python3"
  },
  "language_info": {
   "codemirror_mode": {
    "name": "ipython",
    "version": 3
   },
   "file_extension": ".py",
   "mimetype": "text/x-python",
   "name": "python",
   "nbconvert_exporter": "python",
   "pygments_lexer": "ipython3",
   "version": "3.7.11"
  }
 },
 "nbformat": 4,
 "nbformat_minor": 5
}
