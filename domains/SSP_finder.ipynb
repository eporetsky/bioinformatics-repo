{
 "cells": [
  {
   "cell_type": "code",
   "execution_count": null,
   "id": "separated-cleveland",
   "metadata": {},
   "outputs": [],
   "source": [
    "import gzip\n",
    "import os\n",
    "\n",
    "from collections import OrderedDict\n",
    "from Bio import SeqIO\n",
    "from Bio.Seq import Seq\n",
    "from Bio.SeqRecord import SeqRecord\n",
    "\n",
    "import pandas as pd"
   ]
  },
  {
   "cell_type": "markdown",
   "id": "interim-virginia",
   "metadata": {},
   "source": [
    "# Small Secreted Peptides (SSPs) Finder\n",
    "\n",
    "The code below is intended to reproduce the analysis conducted in -\n",
    "Li, Y.L., Dai, X.R., Yue, X., Gao, X.-Q. and Zhang, X.S. (2014) Identification of small secreted peptides (SSPs) in maize and expression analysis of partial SSP genes in reproductive tissues. Planta, 240, 713–728. (https://pubmed.ncbi.nlm.nih.gov/25048445/)\n",
    "\n",
    "According to the paper, SSPs are defined as:\n",
    "1. Proteins shorter than 200aa\n",
    "2. Containt signal peptide (using signalp)\n",
    "3. Don't containt transmembrane helices (using TMHMM)"
   ]
  },
  {
   "cell_type": "code",
   "execution_count": null,
   "id": "handy-isaac",
   "metadata": {},
   "outputs": [],
   "source": [
    "# Load the compressed fasta file and parse it using biopython\n",
    "fasta_file = gzip.open(\"protein_seqs.fa.gz\", mode='rt')\n",
    "\n",
    "record_iterator = SeqIO.parse(fasta_file, \"fasta\")\n",
    "od = OrderedDict()\n",
    "for record in record_iterator:\n",
    "    # filter any genes shorter than 200aa\n",
    "    if len(record.seq) <= 200:\n",
    "        od[record.id] = record\n",
    "\n",
    "# Save results to short_seqs.fa file fo\n",
    "with open(\"short_seqs.fa\", 'w') as handle:\n",
    "    SeqIO.write(od.values(), handle, 'fasta')"
   ]
  },
  {
   "cell_type": "code",
   "execution_count": null,
   "id": "adequate-armenia",
   "metadata": {},
   "outputs": [],
   "source": [
    "# Use signalp5 (signalp-5.0b.Linux.tar.gz) to predoct signal peptides\n",
    "os.system(\"signalp \"+\" -fasta short_seqs.fa -prefix signalp\")"
   ]
  },
  {
   "cell_type": "code",
   "execution_count": null,
   "id": "upper-venture",
   "metadata": {},
   "outputs": [],
   "source": [
    "# Read the signalp results\n",
    "sp = pd.read_csv(\"signalp_summary.signalp5\", sep=\"\\t\", skiprows=1, index_col=0)\n",
    "# Keep the rows with predicted signal peptides (SP(Sec/SPI))\n",
    "spp = sp[sp[\"Prediction\"]==\"SP(Sec/SPI)\"]"
   ]
  },
  {
   "cell_type": "code",
   "execution_count": null,
   "id": "latest-viking",
   "metadata": {},
   "outputs": [],
   "source": [
    "# Use tmhmm (tmhmm-2.0c.Linux.tar.gz) to predoct transmembrane domains\n",
    "os.system(\"tmhmm \"+\" -short short_seqs.fa > tmhmm_short_seqs.tsv\")\n",
    "# read the tmhmm result table\n",
    "tm = pd.read_csv(\"tmhmm_short_seqs.tsv\", sep=\"\\t\", index_col=0, header=None)\n",
    "# Keep the rows with 0 predicted helices\n",
    "tmp = tm[tm[4]==\"PredHel=0\"]"
   ]
  },
  {
   "cell_type": "code",
   "execution_count": null,
   "id": "third-theorem",
   "metadata": {},
   "outputs": [],
   "source": [
    "# https://stackoverflow.com/questions/5094083/find-the-overlap-between-2-python-lists\n",
    "# Get the intersect between the signalp and tmhmm results\n",
    "intersection = set(spp.index) & set(tmp.index)\n",
    "print(\"The intersection has\", len(intersection), \"genes. SignalP:\", len(spp), \"TMHMM:\", len(tmp))"
   ]
  },
  {
   "cell_type": "code",
   "execution_count": null,
   "id": "correct-bottom",
   "metadata": {},
   "outputs": [],
   "source": [
    "fasta_file = gzip.open(\"Zm-B73-REFERENCE-GRAMENE-4.0_Zm00001d.2.protein.longest.fa.gz\", mode='rt')\n",
    "\n",
    "record_iterator = SeqIO.parse(fasta_file, \"fasta\")\n",
    "od = OrderedDict()\n",
    "\n",
    "# Write both a fasta file and a tsv file that containt the sequences\n",
    "# I also include a column that has the last 30aa of the protein\n",
    "outFile = open(\"predicted_SSPs.tsv\" ,\"w\")\n",
    "outFile.write(\"GeneID\\tlast30aa\\tSequence\\n\")\n",
    "\n",
    "for record in record_iterator:\n",
    "    if record.id in intersection:\n",
    "        od[record.id] = record\n",
    "        outFile.write(record.id+'\\t'+str(record.seq[-31:-1])+'\\t'+str(record.seq)+\"\\n\")\n",
    "\n",
    "with open(\"predicted_SSPs.fa\", 'w') as handle:\n",
    "    SeqIO.write(od.values(), handle, 'fasta')"
   ]
  }
 ],
 "metadata": {
  "kernelspec": {
   "display_name": "Python 3",
   "language": "python",
   "name": "python3"
  },
  "language_info": {
   "codemirror_mode": {
    "name": "ipython",
    "version": 3
   },
   "file_extension": ".py",
   "mimetype": "text/x-python",
   "name": "python",
   "nbconvert_exporter": "python",
   "pygments_lexer": "ipython3",
   "version": "3.8.5"
  }
 },
 "nbformat": 4,
 "nbformat_minor": 5
}
