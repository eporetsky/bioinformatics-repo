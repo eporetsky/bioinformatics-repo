{
 "cells": [
  {
   "cell_type": "code",
   "execution_count": 1,
   "id": "separated-cleveland",
   "metadata": {},
   "outputs": [],
   "source": [
    "import gzip\n",
    "import os\n",
    "\n",
    "from collections import OrderedDict\n",
    "from Bio import SeqIO\n",
    "from Bio.Seq import Seq\n",
    "from Bio.SeqRecord import SeqRecord\n",
    "\n",
    "import pandas as pd"
   ]
  },
  {
   "cell_type": "markdown",
   "id": "09ea4998",
   "metadata": {},
   "source": [
    "# Small Secreted Peptides (SSPs) Finder (with Phobius)\n",
    "\n",
    "Check the next section to see the reproduction of the Li et al. 2014 paper about SSPs.\n",
    "\n",
    "The section below uses Phobius as an alternative method for SSP-discovery.\n",
    "\n",
    "In this case I am using the output tsv file from InterProScan but Phobius can be run in stand-alone format.\n",
    "\n",
    "According to the paper, SSPs are defined as:\n",
    "1. Proteins shorter than 200aa\n",
    "2. Containt signal peptide (using signalp)\n",
    "3. Don't containt transmembrane helices (using TMHMM)"
   ]
  },
  {
   "cell_type": "code",
   "execution_count": 108,
   "id": "532911bc",
   "metadata": {},
   "outputs": [
    {
     "name": "stdout",
     "output_type": "stream",
     "text": [
      "InterProScan tools: ['CDD' 'SUPERFAMILY' 'Pfam' 'ProSiteProfiles' 'PANTHER' 'ProSitePatterns'\n",
      " 'Gene3D' 'Phobius' 'MobiDBLite' 'PRINTS' 'SMART' 'Coils' 'TMHMM' 'PIRSF'\n",
      " 'Hamap' 'TIGRFAM' 'SFLD']\n",
      "Phobius annotations: ['CYTOPLASMIC_DOMAIN' 'NON_CYTOPLASMIC_DOMAIN' 'TRANSMEMBRANE'\n",
      " 'SIGNAL_PEPTIDE_C_REGION' 'SIGNAL_PEPTIDE_N_REGION' 'SIGNAL_PEPTIDE'\n",
      " 'SIGNAL_PEPTIDE_H_REGION']\n"
     ]
    }
   ],
   "source": [
    "df = pd.read_csv(\"InterProScan_results.tsv\", sep=\"\\t\", header=None)\n",
    "\n",
    "# First get all proteins shorter than 200aa\n",
    "df = df[df[2]<=200]\n",
    "\n",
    "# Second, remove all non-Phobius annotation rows\n",
    "print(\"InterProScan tools:\", df[3].unique())\n",
    "phobius = df[df[3]==\"Phobius\"]\n",
    "# We only need column 0 and 4 from now on for gene IDs and Phobius annotations\n",
    "phobius = phobius[[0,4,5]]\n",
    "\n",
    "# Third, we want to filter based on \"SIGNAL_PEPTIDE\" and \"TRANSMEMBRANE\" annotations\n",
    "print(\"Phobius annotations:\", phobius[4].unique())\n",
    "phobius = phobius[phobius[4].isin([\"SIGNAL_PEPTIDE\", \"TRANSMEMBRANE\"])]\n",
    "\n",
    "# Groupby gene ID and Phobius annotation and count each value\n",
    "phobius = phobius.groupby([0,4]).count().reset_index()\n",
    "\n",
    "# Find genes with a TM domain and then remove them from ones that have a signal peptide\n",
    "selected_genes = phobius[((phobius[4]==\"TRANSMEMBRANE\") & (phobius[5]>=0))]\n",
    "# selected_genes = phobius[((phobius[4]==\"TRANSMEMBRANE\") & (phobius[5]==1))] # if 1 TM is OK remove ~ below\n",
    "phobius = phobius[(phobius[4]==\"SIGNAL_PEPTIDE\") & (~phobius[0].isin(selected_genes[0]))]\n",
    "\n",
    "# You can check that there is exactly one annotated signal sequence, not necessary\n",
    "# phobius = phobius[phobius[5]==1]\n",
    "\n",
    "phobius[0].to_csv(\"ref_SSPs.txt\", header=False, index=False)"
   ]
  },
  {
   "cell_type": "code",
   "execution_count": 109,
   "id": "66931750",
   "metadata": {},
   "outputs": [],
   "source": [
    "# To save the SSPs as a tsv and fasta file\n",
    "\n",
    "fasta_file = gzip.open(\"protein_seqs.fa.gz\", mode='rt')\n",
    "\n",
    "record_iterator = SeqIO.parse(fasta_file, \"fasta\")\n",
    "od = OrderedDict()\n",
    "\n",
    "# Write both a fasta file and a tsv file that containt the sequences\n",
    "# I also include a column that has the last 30aa of the protein\n",
    "outFile = open(\"ref_SSPs.tsv\" ,\"w\")\n",
    "outFile.write(\"GeneID\\tlast30aa\\tSequence\\n\")\n",
    "\n",
    "for record in record_iterator:\n",
    "    if record.id in phobius[0].to_list():\n",
    "        record.seq = record.seq.replace(\"*\",\"\")\n",
    "        od[record.id] = record\n",
    "        outFile.write(record.id+'\\t'+str(record.seq[-31:-1])+'\\t'+str(record.seq)+\"\\n\")\n",
    "\n",
    "with open(\"ref_SSPs.fa\", 'w') as handle:\n",
    "    SeqIO.write(od.values(), handle, 'fasta')"
   ]
  },
  {
   "cell_type": "markdown",
   "id": "interim-virginia",
   "metadata": {},
   "source": [
    "# Small Secreted Peptides (SSPs) Finder (original method)\n",
    "\n",
    "The code below is intended to reproduce the analysis conducted in -\n",
    "Li, Y.L., Dai, X.R., Yue, X., Gao, X.-Q. and Zhang, X.S. (2014) Identification of small secreted peptides (SSPs) in maize and expression analysis of partial SSP genes in reproductive tissues. Planta, 240, 713–728. (https://pubmed.ncbi.nlm.nih.gov/25048445/)\n",
    "\n",
    "According to the paper, SSPs are defined as:\n",
    "1. Proteins shorter than 200aa\n",
    "2. Containt signal peptide (using signalp)\n",
    "3. Don't containt transmembrane helices (using TMHMM)"
   ]
  },
  {
   "cell_type": "code",
   "execution_count": null,
   "id": "handy-isaac",
   "metadata": {},
   "outputs": [],
   "source": [
    "# Load the compressed fasta file and parse it using biopython\n",
    "fasta_file = gzip.open(\"protein_seqs.fa.gz\", mode='rt')\n",
    "\n",
    "record_iterator = SeqIO.parse(fasta_file, \"fasta\")\n",
    "od = OrderedDict()\n",
    "for record in record_iterator:\n",
    "    # filter any genes shorter than 200aa\n",
    "    if len(record.seq) <= 200:\n",
    "        od[record.id] = record\n",
    "\n",
    "# Save results to short_seqs.fa file fo\n",
    "with open(\"short_seqs.fa\", 'w') as handle:\n",
    "    SeqIO.write(od.values(), handle, 'fasta')"
   ]
  },
  {
   "cell_type": "code",
   "execution_count": null,
   "id": "adequate-armenia",
   "metadata": {},
   "outputs": [],
   "source": [
    "# Use signalp5 (signalp-5.0b.Linux.tar.gz) to predoct signal peptides\n",
    "os.system(\"signalp \"+\" -fasta short_seqs.fa -prefix signalp\")"
   ]
  },
  {
   "cell_type": "code",
   "execution_count": null,
   "id": "upper-venture",
   "metadata": {},
   "outputs": [],
   "source": [
    "# Read the signalp results\n",
    "sp = pd.read_csv(\"signalp_summary.signalp5\", sep=\"\\t\", skiprows=1, index_col=0)\n",
    "# Keep the rows with predicted signal peptides (SP(Sec/SPI))\n",
    "spp = sp[sp[\"Prediction\"]==\"SP(Sec/SPI)\"]"
   ]
  },
  {
   "cell_type": "code",
   "execution_count": null,
   "id": "latest-viking",
   "metadata": {},
   "outputs": [],
   "source": [
    "# Use tmhmm (tmhmm-2.0c.Linux.tar.gz) to predoct transmembrane domains\n",
    "os.system(\"tmhmm \"+\" -short short_seqs.fa > tmhmm_short_seqs.tsv\")\n",
    "# read the tmhmm result table\n",
    "tm = pd.read_csv(\"tmhmm_short_seqs.tsv\", sep=\"\\t\", index_col=0, header=None)\n",
    "# Keep the rows with 0 predicted helices\n",
    "tmp = tm[tm[4]==\"PredHel=0\"]"
   ]
  },
  {
   "cell_type": "code",
   "execution_count": null,
   "id": "third-theorem",
   "metadata": {},
   "outputs": [],
   "source": [
    "# https://stackoverflow.com/questions/5094083/find-the-overlap-between-2-python-lists\n",
    "# Get the intersect between the signalp and tmhmm results\n",
    "intersection = set(spp.index) & set(tmp.index)\n",
    "print(\"The intersection has\", len(intersection), \"genes. SignalP:\", len(spp), \"TMHMM:\", len(tmp))"
   ]
  },
  {
   "cell_type": "code",
   "execution_count": null,
   "id": "correct-bottom",
   "metadata": {},
   "outputs": [],
   "source": [
    "fasta_file = gzip.open(\"protein_seqs.fa.gz\", mode='rt')\n",
    "\n",
    "record_iterator = SeqIO.parse(fasta_file, \"fasta\")\n",
    "od = OrderedDict()\n",
    "\n",
    "# Write both a fasta file and a tsv file that containt the sequences\n",
    "# I also include a column that has the last 30aa of the protein\n",
    "outFile = open(\"ref_SSPs.tsv\" ,\"w\")\n",
    "outFile.write(\"GeneID\\tlast30aa\\tSequence\\n\")\n",
    "\n",
    "for record in record_iterator:\n",
    "    if record.id in intersection:\n",
    "        od[record.id] = record\n",
    "        outFile.write(record.id+'\\t'+str(record.seq[-31:-1])+'\\t'+str(record.seq)+\"\\n\")\n",
    "\n",
    "with open(\"ref_SSPs.fa\", 'w') as handle:\n",
    "    SeqIO.write(od.values(), handle, 'fasta')"
   ]
  }
 ],
 "metadata": {
  "kernelspec": {
   "display_name": "Python 3 (ipykernel)",
   "language": "python",
   "name": "python3"
  },
  "language_info": {
   "codemirror_mode": {
    "name": "ipython",
    "version": 3
   },
   "file_extension": ".py",
   "mimetype": "text/x-python",
   "name": "python",
   "nbconvert_exporter": "python",
   "pygments_lexer": "ipython3",
   "version": "3.9.7"
  }
 },
 "nbformat": 4,
 "nbformat_minor": 5
}
