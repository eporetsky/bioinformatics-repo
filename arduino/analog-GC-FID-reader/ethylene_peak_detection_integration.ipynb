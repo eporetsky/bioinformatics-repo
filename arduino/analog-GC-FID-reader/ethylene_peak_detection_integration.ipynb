{
 "cells": [
  {
   "cell_type": "code",
   "execution_count": 177,
   "metadata": {},
   "outputs": [],
   "source": [
    "import pandas as pd\n",
    "import numpy as np\n",
    "import seaborn as sns\n",
    "import matplotlib.pyplot as plt\n",
    "from scipy.signal import find_peaks\n",
    "from scipy.signal import find_peaks_cwt\n",
    "from scipy.signal import peak_prominences\n",
    "from scipy.signal import savgol_filter\n",
    "from scipy.signal import peak_widths\n",
    "from scipy.signal import argrelmax"
   ]
  },
  {
   "cell_type": "code",
   "execution_count": 238,
   "metadata": {
    "scrolled": true
   },
   "outputs": [
    {
     "data": {
      "text/html": [
       "<div>\n",
       "<style scoped>\n",
       "    .dataframe tbody tr th:only-of-type {\n",
       "        vertical-align: middle;\n",
       "    }\n",
       "\n",
       "    .dataframe tbody tr th {\n",
       "        vertical-align: top;\n",
       "    }\n",
       "\n",
       "    .dataframe thead th {\n",
       "        text-align: right;\n",
       "    }\n",
       "</style>\n",
       "<table border=\"1\" class=\"dataframe\">\n",
       "  <thead>\n",
       "    <tr style=\"text-align: right;\">\n",
       "      <th></th>\n",
       "      <th>1</th>\n",
       "      <th>2</th>\n",
       "      <th>3</th>\n",
       "      <th>4</th>\n",
       "      <th>5</th>\n",
       "      <th>6</th>\n",
       "      <th>7</th>\n",
       "      <th>8</th>\n",
       "      <th>9</th>\n",
       "      <th>10</th>\n",
       "      <th>...</th>\n",
       "      <th>5990</th>\n",
       "      <th>5991</th>\n",
       "      <th>5992</th>\n",
       "      <th>5993</th>\n",
       "      <th>5994</th>\n",
       "      <th>5995</th>\n",
       "      <th>5996</th>\n",
       "      <th>5997</th>\n",
       "      <th>5998</th>\n",
       "      <th>5999</th>\n",
       "    </tr>\n",
       "    <tr>\n",
       "      <th>0</th>\n",
       "      <th></th>\n",
       "      <th></th>\n",
       "      <th></th>\n",
       "      <th></th>\n",
       "      <th></th>\n",
       "      <th></th>\n",
       "      <th></th>\n",
       "      <th></th>\n",
       "      <th></th>\n",
       "      <th></th>\n",
       "      <th></th>\n",
       "      <th></th>\n",
       "      <th></th>\n",
       "      <th></th>\n",
       "      <th></th>\n",
       "      <th></th>\n",
       "      <th></th>\n",
       "      <th></th>\n",
       "      <th></th>\n",
       "      <th></th>\n",
       "      <th></th>\n",
       "    </tr>\n",
       "  </thead>\n",
       "  <tbody>\n",
       "    <tr>\n",
       "      <th>sample_1</th>\n",
       "      <td>1097</td>\n",
       "      <td>1095</td>\n",
       "      <td>1093</td>\n",
       "      <td>1093</td>\n",
       "      <td>1092</td>\n",
       "      <td>1088</td>\n",
       "      <td>1087</td>\n",
       "      <td>1079</td>\n",
       "      <td>1089</td>\n",
       "      <td>1086</td>\n",
       "      <td>...</td>\n",
       "      <td>1102</td>\n",
       "      <td>1106</td>\n",
       "      <td>1107</td>\n",
       "      <td>1105</td>\n",
       "      <td>1104</td>\n",
       "      <td>1103</td>\n",
       "      <td>1101</td>\n",
       "      <td>1103</td>\n",
       "      <td>1105</td>\n",
       "      <td>1103</td>\n",
       "    </tr>\n",
       "    <tr>\n",
       "      <th>sample_2</th>\n",
       "      <td>1102</td>\n",
       "      <td>1098</td>\n",
       "      <td>1097</td>\n",
       "      <td>1097</td>\n",
       "      <td>1098</td>\n",
       "      <td>1092</td>\n",
       "      <td>1095</td>\n",
       "      <td>1094</td>\n",
       "      <td>1097</td>\n",
       "      <td>1095</td>\n",
       "      <td>...</td>\n",
       "      <td>1098</td>\n",
       "      <td>1101</td>\n",
       "      <td>1100</td>\n",
       "      <td>1099</td>\n",
       "      <td>1099</td>\n",
       "      <td>1100</td>\n",
       "      <td>1098</td>\n",
       "      <td>1098</td>\n",
       "      <td>1099</td>\n",
       "      <td>1100</td>\n",
       "    </tr>\n",
       "    <tr>\n",
       "      <th>sample_3</th>\n",
       "      <td>1099</td>\n",
       "      <td>1099</td>\n",
       "      <td>1099</td>\n",
       "      <td>1098</td>\n",
       "      <td>1094</td>\n",
       "      <td>1095</td>\n",
       "      <td>1095</td>\n",
       "      <td>1093</td>\n",
       "      <td>1093</td>\n",
       "      <td>1092</td>\n",
       "      <td>...</td>\n",
       "      <td>1105</td>\n",
       "      <td>1108</td>\n",
       "      <td>1110</td>\n",
       "      <td>1109</td>\n",
       "      <td>1109</td>\n",
       "      <td>1111</td>\n",
       "      <td>1114</td>\n",
       "      <td>1108</td>\n",
       "      <td>1110</td>\n",
       "      <td>1112</td>\n",
       "    </tr>\n",
       "    <tr>\n",
       "      <th>sample_4</th>\n",
       "      <td>1117</td>\n",
       "      <td>1114</td>\n",
       "      <td>1110</td>\n",
       "      <td>1114</td>\n",
       "      <td>1114</td>\n",
       "      <td>1112</td>\n",
       "      <td>1110</td>\n",
       "      <td>1111</td>\n",
       "      <td>1106</td>\n",
       "      <td>1112</td>\n",
       "      <td>...</td>\n",
       "      <td>1117</td>\n",
       "      <td>1117</td>\n",
       "      <td>1118</td>\n",
       "      <td>1113</td>\n",
       "      <td>1118</td>\n",
       "      <td>1118</td>\n",
       "      <td>1118</td>\n",
       "      <td>1119</td>\n",
       "      <td>1117</td>\n",
       "      <td>1120</td>\n",
       "    </tr>\n",
       "    <tr>\n",
       "      <th>sample_5</th>\n",
       "      <td>1125</td>\n",
       "      <td>1125</td>\n",
       "      <td>1123</td>\n",
       "      <td>1120</td>\n",
       "      <td>1126</td>\n",
       "      <td>1118</td>\n",
       "      <td>1119</td>\n",
       "      <td>1119</td>\n",
       "      <td>1114</td>\n",
       "      <td>1114</td>\n",
       "      <td>...</td>\n",
       "      <td>1124</td>\n",
       "      <td>1125</td>\n",
       "      <td>1120</td>\n",
       "      <td>1124</td>\n",
       "      <td>1124</td>\n",
       "      <td>1122</td>\n",
       "      <td>1122</td>\n",
       "      <td>1122</td>\n",
       "      <td>1123</td>\n",
       "      <td>1125</td>\n",
       "    </tr>\n",
       "  </tbody>\n",
       "</table>\n",
       "<p>5 rows × 5999 columns</p>\n",
       "</div>"
      ],
      "text/plain": [
       "          1     2     3     4     5     6     7     8     9     10    ...  \\\n",
       "0                                                                     ...   \n",
       "sample_1  1097  1095  1093  1093  1092  1088  1087  1079  1089  1086  ...   \n",
       "sample_2  1102  1098  1097  1097  1098  1092  1095  1094  1097  1095  ...   \n",
       "sample_3  1099  1099  1099  1098  1094  1095  1095  1093  1093  1092  ...   \n",
       "sample_4  1117  1114  1110  1114  1114  1112  1110  1111  1106  1112  ...   \n",
       "sample_5  1125  1125  1123  1120  1126  1118  1119  1119  1114  1114  ...   \n",
       "\n",
       "          5990  5991  5992  5993  5994  5995  5996  5997  5998  5999  \n",
       "0                                                                     \n",
       "sample_1  1102  1106  1107  1105  1104  1103  1101  1103  1105  1103  \n",
       "sample_2  1098  1101  1100  1099  1099  1100  1098  1098  1099  1100  \n",
       "sample_3  1105  1108  1110  1109  1109  1111  1114  1108  1110  1112  \n",
       "sample_4  1117  1117  1118  1113  1118  1118  1118  1119  1117  1120  \n",
       "sample_5  1124  1125  1120  1124  1124  1122  1122  1122  1123  1125  \n",
       "\n",
       "[5 rows x 5999 columns]"
      ]
     },
     "execution_count": 238,
     "metadata": {},
     "output_type": "execute_result"
    }
   ],
   "source": [
    "df = pd.read_csv(\"220511/data.raw.csv\", header=None, index_col=0)\n",
    "df.head()"
   ]
  },
  {
   "cell_type": "markdown",
   "metadata": {},
   "source": [
    "# Example plot output"
   ]
  },
  {
   "cell_type": "code",
   "execution_count": 236,
   "metadata": {},
   "outputs": [
    {
     "data": {
      "image/png": "[encoded data removed]",
      "text/plain": [
       "<Figure size 432x288 with 1 Axes>"
      ]
     },
     "metadata": {
      "needs_background": "light"
     },
     "output_type": "display_data"
    }
   ],
   "source": [
    "n=2\n",
    "y_raw = list(df.iloc[n])\n",
    "y = savgol_filter(y_raw, 51, 2) # window size 51, polynomial order 3\n",
    "x = range(len(x))\n",
    "maxi = argrelmax(y, order=200)[0]\n",
    "maxi_val = [y[n] for n in maxi]\n",
    "solvent_peak = maxi[maxi_val.index(max(maxi_val))]\n",
    "\n",
    "# The solvent peak is approximately this distance from the etyhlene peak\n",
    "start, end = solvent_peak+1100 ,solvent_peak+1600\n",
    "trapz.append(np.trapz(y[start:end]-y[start]))\n",
    "\n",
    "# Draw and save the plot\n",
    "ax = sns.lineplot(y=y_raw, x=x)\n",
    "ax = sns.lineplot(y=y, x=x)\n",
    "plt.axvline(start, color='blue')\n",
    "plt.axvline(end, color='blue')\n",
    "plt.show()\n",
    "plt.close()"
   ]
  },
  {
   "cell_type": "markdown",
   "metadata": {},
   "source": [
    "# Automated script"
   ]
  },
  {
   "cell_type": "code",
   "execution_count": 241,
   "metadata": {},
   "outputs": [],
   "source": [
    "trapz = []\n",
    "for n in range(len(df)):\n",
    "    y_raw = df.iloc[n]\n",
    "    y = savgol_filter(y_raw, 51, 2) # window size 51, polynomial order 3\n",
    "    x = range(len(x))\n",
    "    maxi = argrelmax(y, order=200)[0]\n",
    "    maxi_val = [y[n] for n in maxi]\n",
    "    solvent_peak = maxi[maxi_val.index(max(maxi_val))]\n",
    "    \n",
    "    # The solvent peak is approximately this distance from the etyhlene peak\n",
    "    start, end = solvent_peak+1050 ,solvent_peak+1650\n",
    "    trapz.append(np.trapz(y[start:end]-y[start]))\n",
    "    \n",
    "    # Draw and save the plot\n",
    "    ax = sns.lineplot(y=y_raw, x=x)\n",
    "    ax = sns.lineplot(y=y, x=x)\n",
    "    plt.axvline(start, color='blue')\n",
    "    plt.axvline(end, color='blue')\n",
    "    plt.savefig(\"plots/\"+str(n)+\".png\") \n",
    "    plt.close()"
   ]
  },
  {
   "cell_type": "code",
   "execution_count": 240,
   "metadata": {},
   "outputs": [
    {
     "data": {
      "text/plain": [
       "<matplotlib.axes._subplots.AxesSubplot at 0x7ff34a5496a0>"
      ]
     },
     "execution_count": 240,
     "metadata": {},
     "output_type": "execute_result"
    },
    {
     "data": {
      "image/png": "[encoded data removed]",
      "text/plain": [
       "<Figure size 432x288 with 1 Axes>"
      ]
     },
     "metadata": {
      "needs_background": "light"
     },
     "output_type": "display_data"
    }
   ],
   "source": [
    "# Draw the plot for the internal standard\n",
    "standard = [0,0,0,4,4,4,2,2,2,1,1,1,0.5,0.5,0.5,0.25,0.25,0.25,0.1,0.1,0.1]\n",
    "res = pd.DataFrame([standard, trapz]).T\n",
    "sns.lineplot(x=0, y=1, data=res)\n",
    "sns.scatterplot(x=0, y=1, data=res)"
   ]
  },
  {
   "cell_type": "markdown",
   "metadata": {},
   "source": [
    "# Troubleshooting "
   ]
  },
  {
   "cell_type": "code",
   "execution_count": null,
   "metadata": {},
   "outputs": [],
   "source": [
    "# For improved accuracy the baseline needs to be corrected due to downward slope\n",
    "# Maybe this could be useful: https://github.com/derb12/pybaselines"
   ]
  },
  {
   "cell_type": "code",
   "execution_count": 220,
   "metadata": {},
   "outputs": [
    {
     "name": "stderr",
     "output_type": "stream",
     "text": [
      "<ipython-input-220-289053f6f46f>:6: PeakPropertyWarning: some peaks have a prominence of 0\n",
      "  prominences = peak_prominences(y, peaks)\n"
     ]
    },
    {
     "data": {
      "image/png": "[encoded data removed]",
      "text/plain": [
       "<Figure size 432x288 with 1 Axes>"
      ]
     },
     "metadata": {
      "needs_background": "light"
     },
     "output_type": "display_data"
    }
   ],
   "source": [
    "# Scipy can find the major peaks but fails at correctly identifying the left and right peak borders\n",
    "n = 4\n",
    "y_raw = df.iloc[n]\n",
    "y = savgol_filter(y_raw, 51, 2) # window size 51, polynomial order 3\n",
    "x = range(len(x))\n",
    "peaks = find_peaks_cwt(y, widths=[60])\n",
    "prominences = peak_prominences(y, peaks)\n",
    "out_df = pd.DataFrame([peaks, prominences[0], prominences[1], prominences[2]]).T\n",
    "out_df.columns = [\"peak_time\", \"prominences\", \"left\", \"right\"]\n",
    "\n",
    "ax = sns.lineplot(y=y_raw, x=x)\n",
    "ax = sns.lineplot(y=y, x=x)\n",
    "for n in range(len(peaks)):\n",
    "    plt.axvline(peaks[n], color='black')"
   ]
  }
 ],
 "metadata": {
  "kernelspec": {
   "display_name": "Python 3",
   "language": "python",
   "name": "python3"
  },
  "language_info": {
   "codemirror_mode": {
    "name": "ipython",
    "version": 3
   },
   "file_extension": ".py",
   "mimetype": "text/x-python",
   "name": "python",
   "nbconvert_exporter": "python",
   "pygments_lexer": "ipython3",
   "version": "3.8.2"
  }
 },
 "nbformat": 4,
 "nbformat_minor": 4
}
