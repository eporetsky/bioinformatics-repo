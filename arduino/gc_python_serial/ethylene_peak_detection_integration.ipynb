{
 "cells": [
  {
   "cell_type": "code",
   "execution_count": 177,
   "metadata": {},
   "outputs": [],
   "source": [
    "import pandas as pd\n",
    "import numpy as np\n",
    "import seaborn as sns\n",
    "import matplotlib.pyplot as plt\n",
    "from scipy.signal import find_peaks\n",
    "from scipy.signal import find_peaks_cwt\n",
    "from scipy.signal import peak_prominences\n",
    "from scipy.signal import savgol_filter\n",
    "from scipy.signal import peak_widths\n",
    "from scipy.signal import argrelmax, argrelmin"
   ]
  },
  {
   "cell_type": "code",
   "execution_count": 9,
   "metadata": {
    "scrolled": true
   },
   "outputs": [
    {
     "data": {
      "text/html": [
       "<div>\n",
       "<style scoped>\n",
       "    .dataframe tbody tr th:only-of-type {\n",
       "        vertical-align: middle;\n",
       "    }\n",
       "\n",
       "    .dataframe tbody tr th {\n",
       "        vertical-align: top;\n",
       "    }\n",
       "\n",
       "    .dataframe thead th {\n",
       "        text-align: right;\n",
       "    }\n",
       "</style>\n",
       "<table border=\"1\" class=\"dataframe\">\n",
       "  <thead>\n",
       "    <tr style=\"text-align: right;\">\n",
       "      <th></th>\n",
       "      <th>1</th>\n",
       "      <th>2</th>\n",
       "      <th>3</th>\n",
       "      <th>4</th>\n",
       "      <th>5</th>\n",
       "      <th>6</th>\n",
       "      <th>7</th>\n",
       "      <th>8</th>\n",
       "      <th>9</th>\n",
       "      <th>10</th>\n",
       "      <th>...</th>\n",
       "      <th>5990</th>\n",
       "      <th>5991</th>\n",
       "      <th>5992</th>\n",
       "      <th>5993</th>\n",
       "      <th>5994</th>\n",
       "      <th>5995</th>\n",
       "      <th>5996</th>\n",
       "      <th>5997</th>\n",
       "      <th>5998</th>\n",
       "      <th>5999</th>\n",
       "    </tr>\n",
       "    <tr>\n",
       "      <th>0</th>\n",
       "      <th></th>\n",
       "      <th></th>\n",
       "      <th></th>\n",
       "      <th></th>\n",
       "      <th></th>\n",
       "      <th></th>\n",
       "      <th></th>\n",
       "      <th></th>\n",
       "      <th></th>\n",
       "      <th></th>\n",
       "      <th></th>\n",
       "      <th></th>\n",
       "      <th></th>\n",
       "      <th></th>\n",
       "      <th></th>\n",
       "      <th></th>\n",
       "      <th></th>\n",
       "      <th></th>\n",
       "      <th></th>\n",
       "      <th></th>\n",
       "      <th></th>\n",
       "    </tr>\n",
       "  </thead>\n",
       "  <tbody>\n",
       "    <tr>\n",
       "      <th>sample_1</th>\n",
       "      <td>1062</td>\n",
       "      <td>1059</td>\n",
       "      <td>1065</td>\n",
       "      <td>1061</td>\n",
       "      <td>1064</td>\n",
       "      <td>1060</td>\n",
       "      <td>1057</td>\n",
       "      <td>1059</td>\n",
       "      <td>1060</td>\n",
       "      <td>1058</td>\n",
       "      <td>...</td>\n",
       "      <td>1090</td>\n",
       "      <td>1085</td>\n",
       "      <td>1089</td>\n",
       "      <td>1087</td>\n",
       "      <td>1085</td>\n",
       "      <td>1086</td>\n",
       "      <td>1088</td>\n",
       "      <td>1084</td>\n",
       "      <td>1082</td>\n",
       "      <td>1083</td>\n",
       "    </tr>\n",
       "    <tr>\n",
       "      <th>sample_2</th>\n",
       "      <td>1085</td>\n",
       "      <td>1081</td>\n",
       "      <td>1081</td>\n",
       "      <td>1079</td>\n",
       "      <td>1080</td>\n",
       "      <td>1079</td>\n",
       "      <td>1079</td>\n",
       "      <td>1078</td>\n",
       "      <td>1074</td>\n",
       "      <td>1076</td>\n",
       "      <td>...</td>\n",
       "      <td>1096</td>\n",
       "      <td>1097</td>\n",
       "      <td>1096</td>\n",
       "      <td>1099</td>\n",
       "      <td>1099</td>\n",
       "      <td>1096</td>\n",
       "      <td>1097</td>\n",
       "      <td>1099</td>\n",
       "      <td>1098</td>\n",
       "      <td>1095</td>\n",
       "    </tr>\n",
       "    <tr>\n",
       "      <th>sample_3</th>\n",
       "      <td>1092</td>\n",
       "      <td>1087</td>\n",
       "      <td>1086</td>\n",
       "      <td>1088</td>\n",
       "      <td>1084</td>\n",
       "      <td>1085</td>\n",
       "      <td>1091</td>\n",
       "      <td>1085</td>\n",
       "      <td>1085</td>\n",
       "      <td>1083</td>\n",
       "      <td>...</td>\n",
       "      <td>1105</td>\n",
       "      <td>1100</td>\n",
       "      <td>1102</td>\n",
       "      <td>1103</td>\n",
       "      <td>1105</td>\n",
       "      <td>1100</td>\n",
       "      <td>1104</td>\n",
       "      <td>1101</td>\n",
       "      <td>1101</td>\n",
       "      <td>1104</td>\n",
       "    </tr>\n",
       "    <tr>\n",
       "      <th>sample_4</th>\n",
       "      <td>1101</td>\n",
       "      <td>1105</td>\n",
       "      <td>1111</td>\n",
       "      <td>1106</td>\n",
       "      <td>1105</td>\n",
       "      <td>1106</td>\n",
       "      <td>1105</td>\n",
       "      <td>1101</td>\n",
       "      <td>1103</td>\n",
       "      <td>1104</td>\n",
       "      <td>...</td>\n",
       "      <td>1103</td>\n",
       "      <td>1102</td>\n",
       "      <td>1104</td>\n",
       "      <td>1101</td>\n",
       "      <td>1099</td>\n",
       "      <td>1101</td>\n",
       "      <td>1102</td>\n",
       "      <td>1104</td>\n",
       "      <td>1097</td>\n",
       "      <td>1099</td>\n",
       "    </tr>\n",
       "    <tr>\n",
       "      <th>sample_5</th>\n",
       "      <td>1101</td>\n",
       "      <td>1094</td>\n",
       "      <td>1092</td>\n",
       "      <td>1091</td>\n",
       "      <td>1093</td>\n",
       "      <td>1093</td>\n",
       "      <td>1090</td>\n",
       "      <td>1092</td>\n",
       "      <td>1093</td>\n",
       "      <td>1088</td>\n",
       "      <td>...</td>\n",
       "      <td>1090</td>\n",
       "      <td>1095</td>\n",
       "      <td>1097</td>\n",
       "      <td>1094</td>\n",
       "      <td>1093</td>\n",
       "      <td>1097</td>\n",
       "      <td>1095</td>\n",
       "      <td>1097</td>\n",
       "      <td>1096</td>\n",
       "      <td>1095</td>\n",
       "    </tr>\n",
       "  </tbody>\n",
       "</table>\n",
       "<p>5 rows × 5999 columns</p>\n",
       "</div>"
      ],
      "text/plain": [
       "          1     2     3     4     5     6     7     8     9     10    ...  \\\n",
       "0                                                                     ...   \n",
       "sample_1  1062  1059  1065  1061  1064  1060  1057  1059  1060  1058  ...   \n",
       "sample_2  1085  1081  1081  1079  1080  1079  1079  1078  1074  1076  ...   \n",
       "sample_3  1092  1087  1086  1088  1084  1085  1091  1085  1085  1083  ...   \n",
       "sample_4  1101  1105  1111  1106  1105  1106  1105  1101  1103  1104  ...   \n",
       "sample_5  1101  1094  1092  1091  1093  1093  1090  1092  1093  1088  ...   \n",
       "\n",
       "          5990  5991  5992  5993  5994  5995  5996  5997  5998  5999  \n",
       "0                                                                     \n",
       "sample_1  1090  1085  1089  1087  1085  1086  1088  1084  1082  1083  \n",
       "sample_2  1096  1097  1096  1099  1099  1096  1097  1099  1098  1095  \n",
       "sample_3  1105  1100  1102  1103  1105  1100  1104  1101  1101  1104  \n",
       "sample_4  1103  1102  1104  1101  1099  1101  1102  1104  1097  1099  \n",
       "sample_5  1090  1095  1097  1094  1093  1097  1095  1097  1096  1095  \n",
       "\n",
       "[5 rows x 5999 columns]"
      ]
     },
     "execution_count": 9,
     "metadata": {},
     "output_type": "execute_result"
    }
   ],
   "source": [
    "df = pd.read_csv(\"analog-data.csv\", header=None, index_col=0)\n",
    "df.head()"
   ]
  },
  {
   "cell_type": "markdown",
   "metadata": {},
   "source": [
    "# Example plot output"
   ]
  },
  {
   "cell_type": "code",
   "execution_count": 226,
   "metadata": {},
   "outputs": [
    {
     "data": {
      "image/png": "[encoded data removed]",
      "text/plain": [
       "<Figure size 432x288 with 1 Axes>"
      ]
     },
     "metadata": {
      "needs_background": "light"
     },
     "output_type": "display_data"
    }
   ],
   "source": [
    "n=2\n",
    "y_raw = df.iloc[n]\n",
    "y = savgol_filter(y_raw, 51, 2) # window size 51, polynomial order 3\n",
    "x = range(len(x))\n",
    "maxi = argrelmax(y, order=200)[0]\n",
    "maxi_val = [y[n] for n in maxi]\n",
    "solvent_peak = maxi[maxi_val.index(max(maxi_val))]\n",
    "\n",
    "# The solvent peak is approximately this distance from the etyhlene peak\n",
    "start, end = solvent_peak+1100 ,solvent_peak+1600\n",
    "trapz.append(np.trapz(y[start:end]-y[start]))\n",
    "\n",
    "# Draw and save the plot\n",
    "ax = sns.lineplot(y=y_raw, x=x)\n",
    "ax = sns.lineplot(y=y, x=x)\n",
    "plt.axvline(start, color='blue')\n",
    "plt.axvline(end, color='blue')\n",
    "plt.show()\n",
    "plt.close()"
   ]
  },
  {
   "cell_type": "markdown",
   "metadata": {},
   "source": [
    "# Automated script"
   ]
  },
  {
   "cell_type": "code",
   "execution_count": 227,
   "metadata": {},
   "outputs": [],
   "source": [
    "trapz = []\n",
    "for n in range(len(df)):\n",
    "    y_raw = df.iloc[n]\n",
    "    y = savgol_filter(y_raw, 51, 2) # window size 51, polynomial order 3\n",
    "    x = range(len(x))\n",
    "    maxi = argrelmax(y, order=200)[0]\n",
    "    maxi_val = [y[n] for n in maxi]\n",
    "    solvent_peak = maxi[maxi_val.index(max(maxi_val))]\n",
    "    \n",
    "    # The solvent peak is approximately this distance from the etyhlene peak\n",
    "    start, end = solvent_peak+1100 ,solvent_peak+1600\n",
    "    trapz.append(np.trapz(y[start:end]-y[start]))\n",
    "    \n",
    "    # Draw and save the plot\n",
    "    ax = sns.lineplot(y=y_raw, x=x)\n",
    "    ax = sns.lineplot(y=y, x=x)\n",
    "    plt.axvline(start, color='blue')\n",
    "    plt.axvline(end, color='blue')\n",
    "    plt.savefig(\"plots/\"+str(n)+\".png\") \n",
    "    plt.close()"
   ]
  },
  {
   "cell_type": "code",
   "execution_count": 229,
   "metadata": {},
   "outputs": [
    {
     "data": {
      "text/plain": [
       "<matplotlib.axes._subplots.AxesSubplot at 0x7ff34b20df40>"
      ]
     },
     "execution_count": 229,
     "metadata": {},
     "output_type": "execute_result"
    },
    {
     "data": {
      "image/png": "[encoded data removed]",
      "text/plain": [
       "<Figure size 432x288 with 1 Axes>"
      ]
     },
     "metadata": {
      "needs_background": "light"
     },
     "output_type": "display_data"
    }
   ],
   "source": [
    "# Draw the plot for the internal standard\n",
    "standard = [0,2,2,1,1,0.5,0.5,0.25,0.25,0.1,0.1,0]\n",
    "res = pd.DataFrame([standard, trapz]).T\n",
    "sns.lineplot(x=0, y=1, data=res)\n",
    "sns.scatterplot(x=0, y=1, data=res)"
   ]
  },
  {
   "cell_type": "markdown",
   "metadata": {},
   "source": [
    "# Troubleshooting "
   ]
  },
  {
   "cell_type": "code",
   "execution_count": null,
   "metadata": {},
   "outputs": [],
   "source": [
    "# For improved accuracy the baseline needs to be corrected due to downward slope\n",
    "# Maybe this could be useful: https://github.com/derb12/pybaselines"
   ]
  },
  {
   "cell_type": "code",
   "execution_count": 220,
   "metadata": {},
   "outputs": [
    {
     "name": "stderr",
     "output_type": "stream",
     "text": [
      "<ipython-input-220-289053f6f46f>:6: PeakPropertyWarning: some peaks have a prominence of 0\n",
      "  prominences = peak_prominences(y, peaks)\n"
     ]
    },
    {
     "data": {
      "image/png": "[encoded data removed]",
      "text/plain": [
       "<Figure size 432x288 with 1 Axes>"
      ]
     },
     "metadata": {
      "needs_background": "light"
     },
     "output_type": "display_data"
    }
   ],
   "source": [
    "# Scipy can find the major peaks but fails at correctly identifying the left and right peak borders\n",
    "n = 4\n",
    "y_raw = df.iloc[n]\n",
    "y = savgol_filter(y_raw, 51, 2) # window size 51, polynomial order 3\n",
    "x = range(len(x))\n",
    "peaks = find_peaks_cwt(y, widths=[60])\n",
    "prominences = peak_prominences(y, peaks)\n",
    "out_df = pd.DataFrame([peaks, prominences[0], prominences[1], prominences[2]]).T\n",
    "out_df.columns = [\"peak_time\", \"prominences\", \"left\", \"right\"]\n",
    "\n",
    "ax = sns.lineplot(y=y_raw, x=x)\n",
    "ax = sns.lineplot(y=y, x=x)\n",
    "for n in range(len(peaks)):\n",
    "    plt.axvline(peaks[n], color='black')"
   ]
  }
 ],
 "metadata": {
  "kernelspec": {
   "display_name": "Python 3",
   "language": "python",
   "name": "python3"
  },
  "language_info": {
   "codemirror_mode": {
    "name": "ipython",
    "version": 3
   },
   "file_extension": ".py",
   "mimetype": "text/x-python",
   "name": "python",
   "nbconvert_exporter": "python",
   "pygments_lexer": "ipython3",
   "version": "3.8.2"
  }
 },
 "nbformat": 4,
 "nbformat_minor": 4
}
