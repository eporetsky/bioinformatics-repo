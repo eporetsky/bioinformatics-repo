{
 "cells": [
  {
   "cell_type": "code",
   "execution_count": null,
   "id": "dbb553e9",
   "metadata": {},
   "outputs": [],
   "source": [
    "import enasearch\n",
    "import pandas as pd"
   ]
  },
  {
   "cell_type": "code",
   "execution_count": null,
   "id": "0915535c",
   "metadata": {},
   "outputs": [],
   "source": [
    "# Based on the EBI ENA tutorial on accessing their data\n",
    "# https://ena-docs.readthedocs.io/en/latest/retrieval/programmatic-access/file-reports.html\n",
    "\n",
    "# Change Study Accession (PRJNAXXXXXX) to get the \n",
    "# Change \"fields=all\" to get all columns in the metadata table\n",
    "acc = \"PRJNAXXXXXX\"\n",
    "res = \"read_run\"\n",
    "fie = \"study_accession,tax_id,scientific_name,instrument_model,library_strategy,read_count,run_alias,fastq_ftp,fastq_md5\"\n",
    "\n",
    "# Generate the url that will containt the study accession information once opened\n",
    "url=\"https://www.ebi.ac.uk/ena/portal/api/filereport?accession={0}&result={1}&fields={2}\".format(acc, res, fie)\n",
    "# Open the URL with pandas and load it as a dataframe\n",
    "pd.read_csv(url, sep=\"\\t\")"
   ]
  }
 ],
 "metadata": {
  "kernelspec": {
   "display_name": "Python 3",
   "language": "python",
   "name": "python3"
  },
  "language_info": {
   "codemirror_mode": {
    "name": "ipython",
    "version": 3
   },
   "file_extension": ".py",
   "mimetype": "text/x-python",
   "name": "python",
   "nbconvert_exporter": "python",
   "pygments_lexer": "ipython3",
   "version": "3.7.11"
  }
 },
 "nbformat": 4,
 "nbformat_minor": 5
}
