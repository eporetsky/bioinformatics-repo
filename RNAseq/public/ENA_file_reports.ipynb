{
 "cells": [
  {
   "cell_type": "code",
   "execution_count": 2,
   "id": "dbb553e9",
   "metadata": {},
   "outputs": [],
   "source": [
    "import enasearch\n",
    "import pandas as pd"
   ]
  },
  {
   "cell_type": "code",
   "execution_count": 21,
   "id": "0915535c",
   "metadata": {},
   "outputs": [],
   "source": [
    "def get_reports(acc):\n",
    "    # Based on the EBI ENA tutorial on accessing their data\n",
    "    # https://ena-docs.readthedocs.io/en/latest/retrieval/programmatic-access/file-reports.html\n",
    "    # Change Study Accession (PRJNAXXXXXX) to get the \n",
    "    # Change \"fields=all\" to get all columns in the metadata table\n",
    "    res = \"read_run\"\n",
    "    fie = \"study_accession,tax_id,scientific_name,instrument_model,library_strategy,read_count,run_alias,sample_alias,fastq_ftp,fastq_md5\"\n",
    "\n",
    "    # Generate the url that will containt the study accession information once opened\n",
    "    url=\"https://www.ebi.ac.uk/ena/portal/api/filereport?accession={0}&result={1}&fields={2}\".format(acc, res, fie)\n",
    "    # Open the URL with pandas and load it as a dataframe\n",
    "    return pd.read_csv(url, sep=\"\\t\")"
   ]
  },
  {
   "cell_type": "code",
   "execution_count": 22,
   "id": "30e9a298",
   "metadata": {},
   "outputs": [],
   "source": [
    "accession_list = [\"PRJNAXXXXX1\", \"PRJNAXXXXX2\", \"PRJNAXXXXX3\"]\n",
    "complete_df = pd.DataFrame()\n",
    "for accession in accession_list:\n",
    "    complete_df = pd.concat([complete_df, get_reports(accession)])"
   ]
  },
  {
   "cell_type": "code",
   "execution_count": 23,
   "id": "31dd49bd",
   "metadata": {},
   "outputs": [],
   "source": [
    "complete_df.to_csv(\"complete_df.tsv\", sep=\"\\t\")"
   ]
  }
 ],
 "metadata": {
  "kernelspec": {
   "display_name": "Python 3",
   "language": "python",
   "name": "python3"
  },
  "language_info": {
   "codemirror_mode": {
    "name": "ipython",
    "version": 3
   },
   "file_extension": ".py",
   "mimetype": "text/x-python",
   "name": "python",
   "nbconvert_exporter": "python",
   "pygments_lexer": "ipython3",
   "version": "3.7.11"
  }
 },
 "nbformat": 4,
 "nbformat_minor": 5
}
