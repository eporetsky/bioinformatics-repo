{
 "cells": [
  {
   "cell_type": "code",
   "execution_count": 37,
   "id": "painful-container",
   "metadata": {},
   "outputs": [],
   "source": [
    "import pandas as pd\n",
    "import pandas as np\n",
    "import sqlite3\n",
    "import zlib\n",
    "import csv\n",
    "import os\n",
    "import subprocess\n",
    "from functools import reduce\n",
    "from collections import OrderedDict\n",
    "\n",
    "from Bio import SeqIO \n",
    "from Bio.SeqRecord import SeqRecord\n",
    "from Bio.Seq import Seq\n",
    "from Bio import AlignIO\n",
    "\n",
    "import numpy as np\n",
    "import pandas as pd\n",
    "import matplotlib.pyplot as plt\n",
    "%matplotlib inline\n",
    "plt.ion()\n",
    "import logomaker as lm\n",
    "from PyPDF2 import PdfFileMerger\n",
    "from matplotlib.backends.backend_pdf import PdfPages"
   ]
  },
  {
   "cell_type": "markdown",
   "id": "breathing-devices",
   "metadata": {},
   "source": [
    "## 1. Open connection to SQNce\n",
    "\n",
    "This script relies on a SQNce database that contains a protein_seqs table.\\\n",
    "For more information: https://github.com/eporetsky/SQNce \\\n",
    "I will upload my SQNce.db file that contains multiple plant genomes in the near future.\\"
   ]
  },
  {
   "cell_type": "code",
   "execution_count": 38,
   "id": "enclosed-intervention",
   "metadata": {},
   "outputs": [],
   "source": [
    "con = sqlite3.connect('SQNce.db')"
   ]
  },
  {
   "cell_type": "code",
   "execution_count": 41,
   "id": "dental-abraham",
   "metadata": {},
   "outputs": [],
   "source": [
    "def proteins_select(con, entity_list, c_term_len=0):\n",
    "        od = OrderedDict()\n",
    "        for entity in entity_list:\n",
    "            cursorObj = con.cursor()\n",
    "            cursorObj.execute('''SELECT protein_id, protein_sequence\n",
    "                                FROM protein_seqs\n",
    "                                WHERE protein_id =  ?  ''', (entity,))\n",
    "            # (name,) - need the comma to treat it as a single item and not list of letters\n",
    "            selected = cursorObj.fetchall()\n",
    "            if selected == []:\n",
    "                continue\n",
    "            else:\n",
    "                selected = selected[0]\n",
    "                od[selected[0]] = zlib.decompress(selected[1]).decode('utf-8').replace(\"*\",\"\")[-c_term_len:]\n",
    "        return(od)\n",
    "    \n",
    "def proteins_write_fasta(con, entity_list, c_term_len=0):\n",
    "    od = {}\n",
    "    for entity in entity_list:\n",
    "        cursorObj = con.cursor()\n",
    "        cursorObj.execute('''SELECT protein_id, protein_sequence\n",
    "                            FROM protein_seqs\n",
    "                            WHERE protein_id =  ?  ''', (entity,))\n",
    "        # (name,) - need the comma to treat it as a single item and not list of letters\n",
    "        selected = cursorObj.fetchall()\n",
    "        if selected == []:\n",
    "            continue\n",
    "        else:\n",
    "            \n",
    "            selected = selected[0]\n",
    "            name = selected[0]\n",
    "            seq = Seq(zlib.decompress(selected[1]).decode('utf-8').replace(\"*\",\"\"))\n",
    "            od[name] = SeqRecord(seq=seq[-c_term_len:], id=name, description=\"\")\n",
    "    return(od)"
   ]
  },
  {
   "cell_type": "markdown",
   "id": "fundamental-investing",
   "metadata": {},
   "source": [
    "## 2. Get list of candidate gemes"
   ]
  },
  {
   "cell_type": "code",
   "execution_count": 42,
   "id": "earned-disaster",
   "metadata": {},
   "outputs": [],
   "source": [
    "candidates = list(pd.read_csv(\"candidates.txt\").iloc[:,0])"
   ]
  },
  {
   "cell_type": "markdown",
   "id": "neutral-sector",
   "metadata": {},
   "source": [
    "## 3. Get the Orthogroup dataframe"
   ]
  },
  {
   "cell_type": "code",
   "execution_count": 43,
   "id": "seven-devices",
   "metadata": {},
   "outputs": [
    {
     "name": "stderr",
     "output_type": "stream",
     "text": [
      "DtypeWarning: Columns (1,2,3,4,5,6,7,8,9,10,11,12,13,14,15,16,17) have mixed types.Specify dtype option on import or set low_memory=False. [interactiveshell.py:3437]\n"
     ]
    },
    {
     "data": {
      "text/html": [
       "<div>\n",
       "<style scoped>\n",
       "    .dataframe tbody tr th:only-of-type {\n",
       "        vertical-align: middle;\n",
       "    }\n",
       "\n",
       "    .dataframe tbody tr th {\n",
       "        vertical-align: top;\n",
       "    }\n",
       "\n",
       "    .dataframe thead th {\n",
       "        text-align: right;\n",
       "    }\n",
       "</style>\n",
       "<table border=\"1\" class=\"dataframe\">\n",
       "  <thead>\n",
       "    <tr style=\"text-align: right;\">\n",
       "      <th></th>\n",
       "      <th>Athaliana</th>\n",
       "      <th>Sbicolor</th>\n",
       "      <th>ZmA188</th>\n",
       "    </tr>\n",
       "    <tr>\n",
       "      <th>Orthogroup</th>\n",
       "      <th></th>\n",
       "      <th></th>\n",
       "      <th></th>\n",
       "    </tr>\n",
       "  </thead>\n",
       "  <tbody>\n",
       "    <tr>\n",
       "      <th>OG0000000</th>\n",
       "      <td>NaN</td>\n",
       "      <td>NaN</td>\n",
       "      <td>NaN</td>\n",
       "    </tr>\n",
       "    <tr>\n",
       "      <th>OG0000001</th>\n",
       "      <td>NaN</td>\n",
       "      <td>[Sobic.001G163000, Sobic.002G069601, Sobic.002...</td>\n",
       "      <td>[Zm00056aa036230]</td>\n",
       "    </tr>\n",
       "    <tr>\n",
       "      <th>OG0000002</th>\n",
       "      <td>NaN</td>\n",
       "      <td>NaN</td>\n",
       "      <td>[Zm00056aa001722, Zm00056aa003027, Zm00056aa00...</td>\n",
       "    </tr>\n",
       "  </tbody>\n",
       "</table>\n",
       "</div>"
      ],
      "text/plain": [
       "           Athaliana                                           Sbicolor  \\\n",
       "Orthogroup                                                                \n",
       "OG0000000        NaN                                                NaN   \n",
       "OG0000001        NaN  [Sobic.001G163000, Sobic.002G069601, Sobic.002...   \n",
       "OG0000002        NaN                                                NaN   \n",
       "\n",
       "                                                       ZmA188  \n",
       "Orthogroup                                                     \n",
       "OG0000000                                                 NaN  \n",
       "OG0000001                                   [Zm00056aa036230]  \n",
       "OG0000002   [Zm00056aa001722, Zm00056aa003027, Zm00056aa00...  "
      ]
     },
     "execution_count": 43,
     "metadata": {},
     "output_type": "execute_result"
    }
   ],
   "source": [
    "orth = pd.read_csv(\"Orthogroups.txt\", sep=\"\\t\", index_col=0)\n",
    "\n",
    "# Convert the \", \"-separated values to a list of lists\n",
    "# https://stackoverflow.com/questions/44557151/pandas-apply-map-to-every-element-of-every-column\n",
    "orth = orth.applymap(lambda x: x.split(\", \") if isinstance(x, str) else x)\n",
    "orth.iloc[:3,:3]"
   ]
  },
  {
   "cell_type": "markdown",
   "id": "isolated-complex",
   "metadata": {},
   "source": [
    "## 4. Generate the orthogroup fasta and csv files"
   ]
  },
  {
   "cell_type": "code",
   "execution_count": 44,
   "id": "fallen-state",
   "metadata": {},
   "outputs": [],
   "source": [
    "# The function find the orthogroup row that has the specified geneID\n",
    "def gene_in_og(col, gene):\n",
    "    if isinstance(col, list):\n",
    "        return (True if gene in col else False)\n",
    "    else:\n",
    "        return(False)"
   ]
  },
  {
   "cell_type": "code",
   "execution_count": 45,
   "id": "significant-boston",
   "metadata": {},
   "outputs": [],
   "source": [
    "# Currently redundant since the orthogroup fasta is part of the OrthoFinder output\n",
    "# Use the SQNce.db sequences to generate the fasta files and sequence tables for each selected orthogroup\n",
    "# Sequences not found in the database are skipped\n",
    "for candidate in candidates:\n",
    "    og = orth[orth[\"ZmB73v4\"].apply(gene_in_og, args=[candidate])]\n",
    "    assert len(og) <= 1, \"Not expecting more than 1 orthogroups\"\n",
    "    # https://stackoverflow.com/questions/17485747/how-to-convert-a-nested-list-into-a-one-dimensional-list-in-python\n",
    "    og = og.dropna(axis=1)\n",
    "    og_list = reduce(lambda x,y: x+y, og.values.tolist()[0])\n",
    "    c_term_len = 0 # Set to 0 to get full length\n",
    "    # Get a dataframe of sequences\n",
    "    og_df = pd.DataFrame.from_dict(proteins_select(con, og_list, c_term_len), orient=\"index\").reset_index()\n",
    "    og_df.columns = [\"GeneID\", \"Seq\"]\n",
    "    og_df.to_csv(\"tables/\"+candidate+\".csv\", index=False)\n",
    "    od = proteins_write_fasta(con, og_list, c_term_len)\n",
    "    with open(\"fasta/\"+candidate+\".fasta\", \"w\") as handle:\n",
    "            SeqIO.write(od.values(), handle, \"fasta\")"
   ]
  },
  {
   "cell_type": "markdown",
   "id": "c8dda3a9",
   "metadata": {},
   "source": [
    "## 5. Run multiple sequence alignment using famsa"
   ]
  },
  {
   "cell_type": "code",
   "execution_count": 46,
   "id": "969c6653",
   "metadata": {},
   "outputs": [],
   "source": [
    "for fasta in os.listdir(\"fasta\"):\n",
    "    subprocess.run([\"famsa \"+f\"fasta/{fasta} \"+f\"aln/{fasta.replace('fasta', 'aln')}\", \"arguments\"], shell=True)"
   ]
  },
  {
   "cell_type": "markdown",
   "id": "32cde1a4",
   "metadata": {},
   "source": [
    "## 6. Generate sequence logo PDFs of all orthogroups using logomaker"
   ]
  },
  {
   "cell_type": "code",
   "execution_count": 50,
   "id": "686cbf57",
   "metadata": {},
   "outputs": [
    {
     "name": "stdout",
     "output_type": "stream",
     "text": [
      "Alignment with 1 rows and 268 columns\n",
      "LLLSPSSLPRGSQCSSTPSSATMTANKLELNIFSWNSSIGDPFI...FRA Zm00001d016929 failed.\n"
     ]
    }
   ],
   "source": [
    "name = \"cropped\"\n",
    "#n = 0\n",
    "for aln in os.listdir(\"aln\"):\n",
    "    seq_list = []\n",
    "    align = AlignIO.read(\"aln/\"+aln, \"fasta\")\n",
    "    for seq in align:\n",
    "        seq_list.append(str(seq.seq)[-0:]) #change 0 to n to get the C-terminus regiononly\n",
    "    fig, ax = plt.subplots(figsize=(11.69,0.5))#figsize=(len(seqs[0])*10, 10))\n",
    "\n",
    "    ww_counts_df = lm.alignment_to_matrix(sequences=seq_list, to_type='counts', characters_to_ignore='.-X')\n",
    "    \n",
    "    # Crop positions based on counts\n",
    "    # filter base on counts (manually change True/False to apply cropping or not)\n",
    "    if True:\n",
    "        num_seqs = ww_counts_df.sum(axis=1)\n",
    "        pos_to_keep = num_seqs > 2 #len(seqs)/2\n",
    "        ww_counts_df = ww_counts_df[pos_to_keep]\n",
    "        ww_counts_df.reset_index(drop=True, inplace=True)\n",
    "\n",
    "    try:\n",
    "        logo = lm.Logo(ww_counts_df, ax=ax, color_scheme='chemistry')\n",
    "    except:\n",
    "        print(align, \"failed.\")\n",
    "    # weblogo_protein, skylign_protein, charge, chemistry\n",
    "    \n",
    "    # The title is not text-searchable so not very helpful when merging all PDFs, but the margin is nice\n",
    "    ax.set_title(\"Sequence Logo\")#aln.replace(\".aln\",\"\")) \n",
    "    fig.text(0,0.5, aln.replace(\".aln\",\"\"), size=8)    \n",
    "    fig.savefig(\"seqLogos_\"+name+\"/\"+aln.replace(\"aln\",\"pdf\"), bbox_inches='tight')# png - make smaller images\n",
    "    plt.close()\n",
    "\n",
    "# Merge all the PDF figures\n",
    "pdfs = os.listdir(\"seqLogos_\"+name)\n",
    "pdfs = [\"seqLogos_\"+name+\"/\"+pdf for pdf in pdfs]\n",
    "    \n",
    "merger = PdfFileMerger()\n",
    "\n",
    "for pdf in pdfs:\n",
    "    merger.append(pdf)\n",
    "merger.write(\"seqLogos_\"+name+\".pdf\")\n",
    "merger.close()"
   ]
  }
 ],
 "metadata": {
  "kernelspec": {
   "display_name": "Python 3",
   "language": "python",
   "name": "python3"
  },
  "language_info": {
   "codemirror_mode": {
    "name": "ipython",
    "version": 3
   },
   "file_extension": ".py",
   "mimetype": "text/x-python",
   "name": "python",
   "nbconvert_exporter": "python",
   "pygments_lexer": "ipython3",
   "version": "3.7.11"
  }
 },
 "nbformat": 4,
 "nbformat_minor": 5
}
