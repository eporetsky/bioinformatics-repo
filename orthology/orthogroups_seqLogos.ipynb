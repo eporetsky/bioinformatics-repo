{
 "cells": [
  {
   "cell_type": "code",
   "execution_count": null,
   "id": "painful-container",
   "metadata": {},
   "outputs": [],
   "source": [
    "import pandas as pd\n",
    "import pandas as np\n",
    "import sqlite3\n",
    "import zlib\n",
    "import csv\n",
    "from functools import reduce\n",
    "from collections import OrderedDict\n",
    "\n",
    "from Bio import SeqIO \n",
    "from Bio.SeqRecord import SeqRecord\n",
    "from Bio.Seq import Seq"
   ]
  },
  {
   "cell_type": "markdown",
   "id": "breathing-devices",
   "metadata": {},
   "source": [
    "## 1. Open connection to SQNce\n",
    "\n",
    "This script relies on a SQNce database that contains a protein_seqs table.\\\n",
    "For more information: https://github.com/eporetsky/SQNce \\\n",
    "I will upload my SQNce.db file that contains multiple plant genomes in the near future.\\"
   ]
  },
  {
   "cell_type": "code",
   "execution_count": null,
   "id": "enclosed-intervention",
   "metadata": {},
   "outputs": [],
   "source": [
    "con = sqlite3.connect('SQNce.db')"
   ]
  },
  {
   "cell_type": "code",
   "execution_count": null,
   "id": "dental-abraham",
   "metadata": {},
   "outputs": [],
   "source": [
    "def proteins_select(con, entity_list):\n",
    "        od = OrderedDict()\n",
    "        for entity in entity_list:\n",
    "            cursorObj = con.cursor()\n",
    "            cursorObj.execute('''SELECT protein_id, protein_sequence\n",
    "                                FROM protein_seqs\n",
    "                                WHERE protein_id =  ?  ''', (entity,))\n",
    "            # (name,) - need the comma to treat it as a single item and not list of letters\n",
    "            selected = cursorObj.fetchall()\n",
    "            if selected == []:\n",
    "                continue\n",
    "            else:\n",
    "                selected = selected[0]\n",
    "                od[selected[0]] = zlib.decompress(selected[1]).decode('utf-8')[:-1]\n",
    "        return(od)\n",
    "    \n",
    "def proteins_write_fasta(con, entity_list):\n",
    "    od = {}\n",
    "    for entity in entity_list:\n",
    "        cursorObj = con.cursor()\n",
    "        cursorObj.execute('''SELECT protein_id, protein_sequence\n",
    "                            FROM protein_seqs\n",
    "                            WHERE protein_id =  ?  ''', (entity,))\n",
    "        # (name,) - need the comma to treat it as a single item and not list of letters\n",
    "        selected = cursorObj.fetchall()\n",
    "        if selected == []:\n",
    "            continue\n",
    "        else:\n",
    "            \n",
    "            selected = selected[0]\n",
    "            name = selected[0]\n",
    "            seq = Seq(zlib.decompress(selected[1]).decode('utf-8')[:-1].replace(\"*\",\"\"))\n",
    "            od[name] = SeqRecord(seq=seq, id=name, description=\"\")\n",
    "    return(od)"
   ]
  },
  {
   "cell_type": "markdown",
   "id": "fundamental-investing",
   "metadata": {},
   "source": [
    "## 2. Get list of candidate gemes"
   ]
  },
  {
   "cell_type": "code",
   "execution_count": null,
   "id": "earned-disaster",
   "metadata": {},
   "outputs": [],
   "source": [
    "candidates = list(pd.read_csv(\"candidates.txt\").iloc[:,0])"
   ]
  },
  {
   "cell_type": "markdown",
   "id": "neutral-sector",
   "metadata": {},
   "source": [
    "## 3. Get the Orthogroup dataframe"
   ]
  },
  {
   "cell_type": "code",
   "execution_count": null,
   "id": "seven-devices",
   "metadata": {},
   "outputs": [],
   "source": [
    "orth = pd.read_csv(\"Orthogroups.txt\", sep=\"\\t\", index_col=0)\n",
    "\n",
    "# Convert the \", \"-separated values to a list of lists\n",
    "# https://stackoverflow.com/questions/44557151/pandas-apply-map-to-every-element-of-every-column\n",
    "orth = orth.applymap(lambda x: x.split(\", \") if isinstance(x, str) else x)\n",
    "orth.iloc[:3,:3]"
   ]
  },
  {
   "cell_type": "markdown",
   "id": "isolated-complex",
   "metadata": {},
   "source": [
    "## 4. Generate the orthogroup fasta and csv files"
   ]
  },
  {
   "cell_type": "code",
   "execution_count": null,
   "id": "fallen-state",
   "metadata": {},
   "outputs": [],
   "source": [
    "# The function find the orthogroup row that has the specified geneID\n",
    "def gene_in_og(col, gene):\n",
    "    if isinstance(col, list):\n",
    "        return (True if gene in col else False)\n",
    "    else:\n",
    "        return(False)"
   ]
  },
  {
   "cell_type": "code",
   "execution_count": null,
   "id": "significant-boston",
   "metadata": {},
   "outputs": [],
   "source": [
    "# Currently redundant since the orthogroup fasta is part of the OrthoFinder output\n",
    "# Use the SQNce.db sequences to generate the fasta files and sequence tables for each selected orthogroup\n",
    "# Sequences not found in the database are skipped\n",
    "for candidate in candidates:\n",
    "    og = orth[orth[\"ZmB73v4\"].apply(gene_in_og, args=[candidate])]\n",
    "    print(og.index)\n",
    "    assert len(og) <= 1, \"Not expecting more than 1 orthogroups\"\n",
    "    # https://stackoverflow.com/questions/17485747/how-to-convert-a-nested-list-into-a-one-dimensional-list-in-python\n",
    "    og = og.dropna(axis=1)\n",
    "    og_list = reduce(lambda x,y: x+y, og.values.tolist()[0])\n",
    "    \n",
    "    # Get a dataframe of sequences\n",
    "    og_df = pd.DataFrame.from_dict(proteins_select(con, og_list), orient=\"index\").reset_index()\n",
    "    og_df.columns = [\"GeneID\", \"Seq\"]\n",
    "    og_df.to_csv(\"tables/\"+candidate+\".csv\", index=False)\n",
    "    od = proteins_write_fasta(con, og_list)\n",
    "    with open(\"fasta/\"+candidate+\".fasta\", \"w\") as handle:\n",
    "            SeqIO.write(od.values(), handle, \"fasta\")"
   ]
  }
 ],
 "metadata": {
  "kernelspec": {
   "display_name": "Python 3",
   "language": "python",
   "name": "python3"
  },
  "language_info": {
   "codemirror_mode": {
    "name": "ipython",
    "version": 3
   },
   "file_extension": ".py",
   "mimetype": "text/x-python",
   "name": "python",
   "nbconvert_exporter": "python",
   "pygments_lexer": "ipython3",
   "version": "3.8.5"
  }
 },
 "nbformat": 4,
 "nbformat_minor": 5
}
