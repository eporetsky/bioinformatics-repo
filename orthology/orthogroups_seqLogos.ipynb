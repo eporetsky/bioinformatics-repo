{
 "cells": [
  {
   "cell_type": "code",
   "execution_count": null,
   "id": "female-right",
   "metadata": {},
   "outputs": [],
   "source": [
    "import pandas as pd\n",
    "import pandas as np\n",
    "import sqlite3\n",
    "import zlib\n",
    "import csv\n",
    "import os\n",
    "import subprocess\n",
    "from functools import reduce\n",
    "from collections import OrderedDict\n",
    "\n",
    "from Bio import SeqIO \n",
    "from Bio.SeqRecord import SeqRecord\n",
    "from Bio.Seq import Seq\n",
    "from Bio import AlignIO\n",
    "\n",
    "import numpy as np\n",
    "import pandas as pd\n",
    "import matplotlib.pyplot as plt\n",
    "%matplotlib inline\n",
    "plt.ion()\n",
    "import logomaker as lm\n"
   ]
  },
  {
   "cell_type": "markdown",
   "id": "stupid-place",
   "metadata": {},
   "source": [
    "## 1. Open connection to SQNce\n",
    "\n",
    "This script relies on a SQNce database that contains a protein_seqs table.\\\n",
    "For more information: https://github.com/eporetsky/SQNce \\\n",
    "I will upload my SQNce.db file that contains multiple plant genomes in the near future.\\"
   ]
  },
  {
   "cell_type": "code",
   "execution_count": null,
   "id": "intended-transfer",
   "metadata": {},
   "outputs": [],
   "source": [
    "con = sqlite3.connect('SQNce.db')"
   ]
  },
  {
   "cell_type": "code",
   "execution_count": null,
   "id": "satisfactory-hypothesis",
   "metadata": {},
   "outputs": [],
   "source": [
    "def proteins_select(con, entity_list):\n",
    "        od = OrderedDict()\n",
    "        for entity in entity_list:\n",
    "            cursorObj = con.cursor()\n",
    "            cursorObj.execute('''SELECT protein_id, protein_sequence\n",
    "                                FROM protein_seqs\n",
    "                                WHERE protein_id =  ?  ''', (entity,))\n",
    "            # (name,) - need the comma to treat it as a single item and not list of letters\n",
    "            selected = cursorObj.fetchall()\n",
    "            if selected == []:\n",
    "                continue\n",
    "            else:\n",
    "                selected = selected[0]\n",
    "                od[selected[0]] = zlib.decompress(selected[1]).decode('utf-8')[:-1]\n",
    "        return(od)\n",
    "    \n",
    "def proteins_write_fasta(con, entity_list):\n",
    "    od = {}\n",
    "    for entity in entity_list:\n",
    "        cursorObj = con.cursor()\n",
    "        cursorObj.execute('''SELECT protein_id, protein_sequence\n",
    "                            FROM protein_seqs\n",
    "                            WHERE protein_id =  ?  ''', (entity,))\n",
    "        # (name,) - need the comma to treat it as a single item and not list of letters\n",
    "        selected = cursorObj.fetchall()\n",
    "        if selected == []:\n",
    "            continue\n",
    "        else:\n",
    "            \n",
    "            selected = selected[0]\n",
    "            name = selected[0]\n",
    "            seq = Seq(zlib.decompress(selected[1]).decode('utf-8')[:-1].replace(\"*\",\"\"))\n",
    "            od[name] = SeqRecord(seq=seq, id=name, description=\"\")\n",
    "    return(od)"
   ]
  },
  {
   "cell_type": "markdown",
   "id": "appreciated-memorabilia",
   "metadata": {},
   "source": [
    "## 2. Get list of candidate gemes"
   ]
  },
  {
   "cell_type": "code",
   "execution_count": null,
   "id": "australian-nation",
   "metadata": {},
   "outputs": [],
   "source": [
    "candidates = list(pd.read_csv(\"candidates.txt\").iloc[:,0])"
   ]
  },
  {
   "cell_type": "markdown",
   "id": "hollow-profile",
   "metadata": {},
   "source": [
    "## 3. Get the Orthogroup dataframe"
   ]
  },
  {
   "cell_type": "code",
   "execution_count": null,
   "id": "phantom-petite",
   "metadata": {},
   "outputs": [],
   "source": [
    "orth = pd.read_csv(\"Orthogroups.txt\", sep=\"\\t\", index_col=0)\n",
    "\n",
    "# Convert the \", \"-separated values to a list of lists\n",
    "# https://stackoverflow.com/questions/44557151/pandas-apply-map-to-every-element-of-every-column\n",
    "orth = orth.applymap(lambda x: x.split(\", \") if isinstance(x, str) else x)\n",
    "orth.iloc[:3,:3]"
   ]
  },
  {
   "cell_type": "markdown",
   "id": "special-capitol",
   "metadata": {},
   "source": [
    "## 4. Generate the orthogroup fasta and csv files"
   ]
  },
  {
   "cell_type": "code",
   "execution_count": null,
   "id": "moving-charleston",
   "metadata": {},
   "outputs": [],
   "source": [
    "# The function find the orthogroup row that has the specified geneID\n",
    "def gene_in_og(col, gene):\n",
    "    if isinstance(col, list):\n",
    "        return (True if gene in col else False)\n",
    "    else:\n",
    "        return(False)"
   ]
  },
  {
   "cell_type": "code",
   "execution_count": null,
   "id": "scientific-diagram",
   "metadata": {},
   "outputs": [],
   "source": [
    "# Currently redundant since the orthogroup fasta is part of the OrthoFinder output\n",
    "# Use the SQNce.db sequences to generate the fasta files and sequence tables for each selected orthogroup\n",
    "# Sequences not found in the database are skipped\n",
    "for candidate in candidates:\n",
    "    og = orth[orth[\"ZmB73v4\"].apply(gene_in_og, args=[candidate])]\n",
    "    print(og.index)\n",
    "    assert len(og) <= 1, \"Not expecting more than 1 orthogroups\"\n",
    "    # https://stackoverflow.com/questions/17485747/how-to-convert-a-nested-list-into-a-one-dimensional-list-in-python\n",
    "    og = og.dropna(axis=1)\n",
    "    og_list = reduce(lambda x,y: x+y, og.values.tolist()[0])\n",
    "    \n",
    "    # Get a dataframe of sequences\n",
    "    og_df = pd.DataFrame.from_dict(proteins_select(con, og_list), orient=\"index\").reset_index()\n",
    "    og_df.columns = [\"GeneID\", \"Seq\"]\n",
    "    og_df.to_csv(\"tables/\"+candidate+\".csv\", index=False)\n",
    "    od = proteins_write_fasta(con, og_list)\n",
    "    with open(\"fasta/\"+candidate+\".fasta\", \"w\") as handle:\n",
    "            SeqIO.write(od.values(), handle, \"fasta\")"
   ]
  },
  {
   "cell_type": "markdown",
   "id": "mineral-denmark",
   "metadata": {},
   "source": [
    "## 5. Run multiple sequence alignment using famsa"
   ]
  },
  {
   "cell_type": "code",
   "execution_count": null,
   "id": "determined-headset",
   "metadata": {},
   "outputs": [],
   "source": [
    "for fasta in os.listdir(\"fasta\"):\n",
    "    subprocess.run([\"famsa \"+f\"fasta/{fasta} \"+f\"aln/{fasta.replace('fasta', 'aln')}\", \"arguments\"], shell=True)"
   ]
  },
  {
   "cell_type": "markdown",
   "id": "accomplished-technical",
   "metadata": {},
   "source": [
    "## 6. Generate sequence logo PDFs of all orthogroups using logomaker"
   ]
  },
  {
   "cell_type": "code",
   "execution_count": null,
   "id": "small-aurora",
   "metadata": {},
   "outputs": [],
   "source": [
    "for aln in os.listdir(\"aln\"):\n",
    "    seq_list = []\n",
    "    align = AlignIO.read(\"aln/\"+aln, \"fasta\")\n",
    "    for seq in align:\n",
    "        seq_list.append(str(seq.seq))\n",
    "    fig, ax = plt.subplots(figsize=(len(seqs[0])*10, 10))\n",
    "\n",
    "    ww_counts_df = lm.alignment_to_matrix(sequences=seq_list, to_type='counts', characters_to_ignore='.-X')\n",
    "    logo = lm.Logo(ww_counts_df, ax=ax, color_scheme='chemistry')\n",
    "    # weblogo_protein, skylign_protein, charge, chemistry\n",
    "    fig.savefig(\"seqLogos/\"+aln.replace(\"aln\",\"pdf\"))# png - make smaller images"
   ]
  },
  {
   "cell_type": "markdown",
   "id": "healthy-number",
   "metadata": {},
   "source": [
    "## Optional: Merge all PDFs into one file"
   ]
  },
  {
   "cell_type": "code",
   "execution_count": null,
   "id": "abandoned-hormone",
   "metadata": {},
   "outputs": [],
   "source": [
    "from PyPDF2 import PdfFileMerger\n",
    "\n",
    "pdfs = os.listdir(\"seqLogos\")\n",
    "pdfs = [\"seqLogos/\"+pdf for pdf in pdfs]\n",
    "merger = PdfFileMerger()\n",
    "\n",
    "for pdf in pdfs:\n",
    "    merger.append(pdf)\n",
    "merger.write(\"seqLogos.pdf\")\n",
    "merger.close()\n"
   ]
  },
  {
   "cell_type": "code",
   "execution_count": null,
   "id": "helpful-toronto",
   "metadata": {},
   "outputs": [],
   "source": []
  },
  {
   "cell_type": "markdown",
   "id": "reserved-novelty",
   "metadata": {},
   "source": [
    "# SeqLogos for long sequences - alignmed spread across multiple lines\n",
    "* Mostly works but will add documentation and example\n",
    "* Need to adjust the final row to be of relative-length"
   ]
  },
  {
   "cell_type": "markdown",
   "id": "introductory-slope",
   "metadata": {},
   "source": [
    "# 1. A figure for a single alignment"
   ]
  },
  {
   "cell_type": "code",
   "execution_count": null,
   "id": "alpha-plant",
   "metadata": {},
   "outputs": [],
   "source": [
    "aln = \"gene_id\"\n",
    "seq_list = []\n",
    "row_len=50\n",
    "nrows=len(seq)//row_len if len(seq)%row_len == 0 else len(seq)//row_len+1\n",
    "align = AlignIO.read(\"145aln/\"+aln, \"fasta\")\n",
    "fig, ax = plt.subplots(figsize=(11.69,0.5*nrows), nrows=nrows, ncols=1)#figsize=(len(seqs[0])*10, 10))\n",
    "for row in range(nrows):\n",
    "    seq_list = []\n",
    "    for seq in align:\n",
    "        row_end = row_len*(row+1)\n",
    "        row_end = row_end if len(seq)>row_end else len(seq) \n",
    "        seq_list.append(str(seq.seq)[row_len*row:row_end]) #change 0 to n to get the C-terminus regiononly\n",
    "    ww_counts_df = lm.alignment_to_matrix(sequences=seq_list, to_type='counts', characters_to_ignore='.-X')\n",
    "    crop=False\n",
    "    # Crop positions based on counts\n",
    "    # filter base on counts (manually change True/False to apply cropping or not)\n",
    "    if crop:\n",
    "        num_seqs = ww_counts_df.sum(axis=1)\n",
    "        pos_to_keep = num_seqs > 2 #len(seqs)/2\n",
    "        ww_counts_df = ww_counts_df[pos_to_keep]\n",
    "        ww_counts_df.reset_index(drop=True, inplace=True)\n",
    "\n",
    "    try:\n",
    "        logo = lm.Logo(ww_counts_df, ax=ax[row], color_scheme='chemistry')\n",
    "    except:\n",
    "        print(align, \"failed.\")\n",
    "    # weblogo_protein, skylign_protein, charge, chemistry\n",
    "\n",
    "    # The title is not text-searchable so not very helpful when merging all PDFs, but the margin is nice\n",
    "    #ax.set_title(\"Sequence Logo\")#aln.replace(\".aln\",\"\")) \n",
    "    fig.text(0,0.5, aln.replace(\".aln\",\"\"), size=8)    \n",
    "fig.savefig(name+\"/\"+aln.replace(\"aln\",\"pdf\"), bbox_inches='tight')# png - make smaller images\n",
    "plt.show()\n",
    "plt.close()"
   ]
  },
  {
   "cell_type": "markdown",
   "id": "creative-miami",
   "metadata": {},
   "source": [
    "# 2. A figure for multiple alignments"
   ]
  },
  {
   "cell_type": "code",
   "execution_count": null,
   "id": "precise-inventory",
   "metadata": {},
   "outputs": [],
   "source": [
    "name = \"project_name\"\n",
    "crop = True\n",
    "if \"cropped\" in name:\n",
    "    n = 60\n",
    "else:\n",
    "    n = 0\n",
    "crop = False\n",
    "    \n",
    "folder_name = name+\"aln\"\n",
    "os.system(\"mkdir \" + name)\n",
    "for aln in os.listdir(folder_name):\n",
    "    seq_list = []\n",
    "    row_len=50\n",
    "    \n",
    "    align = AlignIO.read(folder_name+\"/\"+aln, \"fasta\")\n",
    "    seq_len = align.get_alignment_length()\n",
    "    nrows=seq_len//row_len if seq_len%row_len == 0 else seq_len//row_len+1\n",
    "    fig, ax = plt.subplots(figsize=(11.69,0.5*nrows), nrows=nrows, ncols=1)#figsize=(len(seqs[0])*10, 10))\n",
    "    \n",
    "    for row in range(nrows):\n",
    "        seq_list = []\n",
    "        for seq in align:\n",
    "            row_end = row_len*(row+1)\n",
    "            row_end = row_end if seq_len>row_end else seq_len\n",
    "            seq_list.append(str(seq.seq)[row_len*row:row_end]) #change 0 to n to get the C-terminus regiononly\n",
    "        ww_counts_df = lm.alignment_to_matrix(sequences=seq_list, to_type='counts', characters_to_ignore='.-X')\n",
    "        \n",
    "        crop=False\n",
    "        # Crop positions based on counts\n",
    "        # filter base on counts (manually change True/False to apply cropping or not)\n",
    "        if crop:\n",
    "            num_seqs = ww_counts_df.sum(axis=1)\n",
    "            pos_to_keep = num_seqs > 2 #len(seqs)/2\n",
    "            ww_counts_df = ww_counts_df[pos_to_keep]\n",
    "            ww_counts_df.reset_index(drop=True, inplace=True)\n",
    "\n",
    "        try:\n",
    "            logo = lm.Logo(ww_counts_df, ax=ax[row], color_scheme='chemistry')\n",
    "        except:\n",
    "            print(align, \"failed.\")\n",
    "        # weblogo_protein, skylign_protein, charge, chemistry\n",
    "\n",
    "        # The title is not text-searchable so not very helpful when merging all PDFs, but the margin is nice\n",
    "        #ax.set_title(\"Sequence Logo\")#aln.replace(\".aln\",\"\")) \n",
    "    fig.text(0,0.5, aln.replace(\".aln\",\"\"), size=8)   \n",
    "    fig.text(0,0.4, str(len(align))+\" sequences\", size=8)   \n",
    "    fig.savefig(name+\"/\"+aln.replace(\"aln\",\"pdf\"), bbox_inches='tight')# png - make smaller images\n",
    "    #plt.show()\n",
    "    plt.close()\n",
    "\n",
    "# Merge all the PDF figures\n",
    "pdfs = os.listdir(name)\n",
    "pdfs = [name+\"/\"+pdf for pdf in pdfs]\n",
    "    \n",
    "merger = PdfFileMerger()\n",
    "\n",
    "for pdf in pdfs:\n",
    "    merger.append(pdf)\n",
    "merger.write(name+\".pdf\")\n",
    "merger.close()"
   ]
  }
 ],
 "metadata": {
  "kernelspec": {
   "display_name": "Python 3",
   "language": "python",
   "name": "python3"
  },
  "language_info": {
   "codemirror_mode": {
    "name": "ipython",
    "version": 3
   },
   "file_extension": ".py",
   "mimetype": "text/x-python",
   "name": "python",
   "nbconvert_exporter": "python",
   "pygments_lexer": "ipython3",
   "version": "3.8.5"
  }
 },
 "nbformat": 4,
 "nbformat_minor": 5
}
