{
 "cells": [
  {
   "cell_type": "markdown",
   "id": "f9f8c6ca",
   "metadata": {},
   "source": [
    "# topDIAMOND\n",
    "* Generate a table of the top DIAMOND BLASTP hits for each gene in a reference proteomes\n",
    "* These tables generated were generated for Athaliana (ARAPORT) and Zmays (v4) proteomes \n",
    "* For each table 45 other references proteomes were used to generate the top hits\n",
    "* For all proteomes the canonical representetives sequences and sequence IDs were pre-generated"
   ]
  },
  {
   "cell_type": "code",
   "execution_count": 112,
   "id": "486cfd3d",
   "metadata": {},
   "outputs": [],
   "source": [
    "import glob\n",
    "from Bio import SeqIO\n",
    "from Bio.SeqRecord import SeqRecord\n",
    "from Bio.Seq import Seq\n",
    "import gzip\n",
    "import os\n",
    "from collections import OrderedDict\n",
    "import pandas as pd\n",
    "\n",
    "# A list of all fasta files in a folder\n",
    "fasta_list = glob.glob('*.gz') # returns a list of all .fa files in the folder\n",
    "\n",
    "# A dictionary of fasta file keys and they short names as items \n",
    "names_dict = pd.read_csv(\"name_mapping.csv\", sep=\",\", header=None, index_col=0).to_dict()[1]\n",
    "\n",
    "# Delete the reference fasta file from the list\n",
    "#ref = \"Zmays_493_RefGen_V4.protein_primaryTranscriptOnly.canonical.fa.gz\"\n",
    "ref = \"Athaliana_447_Araport11.protein_primaryTranscriptOnly.canonical.fa.gz\"\n",
    "del fasta_list[fasta_list.index(ref)]"
   ]
  },
  {
   "cell_type": "code",
   "execution_count": 113,
   "id": "0e8a4440",
   "metadata": {},
   "outputs": [
    {
     "name": "stdout",
     "output_type": "stream",
     "text": [
      "Processing: 1 Zm-CML247-REFERENCE-NAM-1.0_Zm00023ab.1.protein.canonical.fa.gz\n",
      "Processing: 2 Phallii_590_v3.2.protein_primaryTranscriptOnly.canonical.fa.gz\n",
      "Processing: 3 Zm-CML228-REFERENCE-NAM-1.0_Zm00022ab.1.protein.canonical.fa.gz\n",
      "Processing: 4 Zm-CML277-REFERENCE-NAM-1.0_Zm00024ab.1.protein.canonical.fa.gz\n",
      "Processing: 5 Zmays_493_RefGen_V4.protein_primaryTranscriptOnly.canonical.fa.gz\n",
      "Processing: 6 ZmaysPH207_443_v1.1.protein_primaryTranscriptOnly.canonical.fa.gz\n",
      "Processing: 7 Zm-Ky21-REFERENCE-NAM-1.0_Zm00031ab.1.protein.canonical.fa.gz\n",
      "Processing: 8 Zm-HP301-REFERENCE-NAM-1.0_Zm00027ab.1.protein.canonical.fa.gz\n",
      "Processing: 9 Zm-Oh7B-REFERENCE-NAM-1.0_Zm00038ab.1.protein.canonical.fa.gz\n",
      "Processing: 10 Gmax_508_Wm82.a4.v1.protein_primaryTranscriptOnly.canonical.fa.gz\n",
      "Processing: 11 Bhybridum_463_v1.1.protein_primaryTranscriptOnly.canonical.fa.gz\n",
      "Processing: 12 Slycopersicum_691_ITAG4.0.protein_primaryTranscriptOnly.canonical.fa.gz\n",
      "Processing: 13 Zm-CML333-REFERENCE-NAM-1.0_Zm00026ab.1.protein.canonical.fa.gz\n",
      "Processing: 14 Pvulgaris_442_v2.1.protein_primaryTranscriptOnly.canonical.fa.gz\n",
      "Processing: 15 Zm-Mo18W-REFERENCE-NAM-1.0_Zm00034ab.1.protein.canonical.fa.gz\n",
      "Processing: 16 Zm-Oh43-REFERENCE-NAM-1.0_Zm00039ab.1.protein.canonical.fa.gz\n",
      "Processing: 17 Zm-CML103-REFERENCE-NAM-1.0_Zm00021ab.1.protein.canonical.fa.gz\n",
      "Processing: 18 Zm-Tzi8-REFERENCE-NAM-1.0_Zm00042ab.1.protein.canonical.fa.gz\n",
      "Processing: 19 Taestivum_296_v2.2.protein_primaryTranscriptOnly.canonical.fa.gz\n",
      "Processing: 20 HvulgareMorex_702_V3.protein_primaryTranscriptOnly.canonical.fa.gz\n",
      "Processing: 21 Zm-P39-REFERENCE-NAM-1.0_Zm00040ab.1.protein.canonical.fa.gz\n",
      "Processing: 22 Osativa_323_v7.0.protein_primaryTranscriptOnly.canonical.fa.gz\n",
      "Processing: 23 Ahalleri_264_v1.1.protein_primaryTranscriptOnly.canonical.fa.gz\n",
      "Processing: 24 Zm-Ki3-REFERENCE-NAM-1.0_Zm00029ab.1.protein.canonical.fa.gz\n",
      "Processing: 25 Zm-Il14H-REFERENCE-NAM-1.0_Zm00028ab.1.protein.canonical.fa.gz\n",
      "Processing: 26 Zm-CML322-REFERENCE-NAM-1.0_Zm00025ab.1.protein.canonical.fa.gz\n",
      "Processing: 27 Zm-Ki11-REFERENCE-NAM-1.0_Zm00030ab.1.protein.canonical.fa.gz\n",
      "Processing: 28 Zm-B97-REFERENCE-NAM-1.0_Zm00018ab.1.protein.canonical.fa.gz\n",
      "Processing: 29 Zm-Tx303-REFERENCE-NAM-1.0_Zm00041ab.1.protein.canonical.fa.gz\n",
      "Processing: 30 Qrubra_687_v2.1.protein_primaryTranscriptOnly.canonical.fa.gz\n",
      "Processing: 31 Pvirgatum_516_v5.1.protein_primaryTranscriptOnly.canonical.fa.gz\n",
      "Processing: 32 Bdistachyon_556_v3.2.protein_primaryTranscriptOnly.canonical.fa.gz\n",
      "Processing: 33 Sitalica_312_v2.2.protein_primaryTranscriptOnly.canonical.fa.gz\n",
      "Processing: 34 Alyrata_384_v2.1.protein_primaryTranscriptOnly.canonical.fa.gz\n",
      "Processing: 35 Sviridis_500_v2.1.protein_primaryTranscriptOnly.canonical.fa.gz\n",
      "Processing: 36 Zm-M162W-REFERENCE-NAM-1.0_Zm00033ab.1.protein.canonical.fa.gz\n",
      "Processing: 37 Sbicolor_454_v3.1.1.protein_primaryTranscriptOnly.canonical.fa.gz\n",
      "Processing: 38 Vunguiculata_540_v1.2.protein_primaryTranscriptOnly.canonical.fa.gz\n",
      "Processing: 39 Zm-B73-REFERENCE-NAM-5.0_Zm00001eb.1.protein.canonical.fa.gz\n",
      "Processing: 40 Zm-CML69-REFERENCE-NAM-1.0_Zm00020ab.1.protein.canonical.fa.gz\n",
      "Processing: 41 Zm-NC358-REFERENCE-NAM-1.0_Zm00037ab.1.protein.canonical.fa.gz\n",
      "Processing: 42 Zm-M37W-REFERENCE-NAM-1.0_Zm00032ab.1.protein.canonical.fa.gz\n",
      "Processing: 43 Zm-CML52-REFERENCE-NAM-1.0_Zm00019ab.1.protein.canonical.fa.gz\n",
      "Processing: 44 Zm-Ms71-REFERENCE-NAM-1.0_Zm00035ab.1.protein.canonical.fa.gz\n",
      "Processing: 45 Zm-NC350-REFERENCE-NAM-1.0_Zm00036ab.1.protein.canonical.fa.gz\n"
     ]
    }
   ],
   "source": [
    "count = 1\n",
    "first = True\n",
    "for fl in fasta_list:\n",
    "    print(\"Processing:\",count, fl)\n",
    "    count += 1\n",
    "    os.system(\"diamond makedb --in \"+fl+\" --db temp\")\n",
    "    # Run blastp while returning only the top hit and report unaligned queries\n",
    "    os.system(\"diamond blastp -d temp -q \"+ref+\" -o temp.tsv --max-target-seqs 1 --unal 1 --quiet\")\n",
    "    \n",
    "    if first:\n",
    "        df = pd.read_csv(\"temp.tsv\", sep=\"\\t\", index_col=0, header=None)\n",
    "        df = pd.DataFrame(df[1])\n",
    "        df.columns = [names_dict[fl]]\n",
    "        \n",
    "        # For some unkown reason some sequences (about 100) get duplicated rows \n",
    "        # Deduplicating returns the correct number of rows though (=number of seqs in fasta)\n",
    "        df = df[~df.index.duplicated(keep=\"first\")]\n",
    "        first = False\n",
    "    else:\n",
    "        tmp = pd.read_csv(\"temp.tsv\", sep=\"\\t\", index_col=0, header=None)\n",
    "        # See brief note above about unexplained duplicated rows\n",
    "        tmp = tmp[~tmp.index.duplicated(keep=\"first\")]\n",
    "        \n",
    "        # Using concat will throw an error if number of rows don't match, which is the assertion\n",
    "        df = pd.concat([df, pd.DataFrame(tmp[1])], axis=1)\n",
    "        df.columns = list(df.columns[:-1])+[names_dict[fl]]\n",
    "df.index.name = names_dict[ref]\n",
    "df.to_csv(\"topDIAMOND_\"+df.index.name+\".csv\")"
   ]
  }
 ],
 "metadata": {
  "kernelspec": {
   "display_name": "Python 3",
   "language": "python",
   "name": "python3"
  },
  "language_info": {
   "codemirror_mode": {
    "name": "ipython",
    "version": 3
   },
   "file_extension": ".py",
   "mimetype": "text/x-python",
   "name": "python",
   "nbconvert_exporter": "python",
   "pygments_lexer": "ipython3",
   "version": "3.7.11"
  }
 },
 "nbformat": 4,
 "nbformat_minor": 5
}
