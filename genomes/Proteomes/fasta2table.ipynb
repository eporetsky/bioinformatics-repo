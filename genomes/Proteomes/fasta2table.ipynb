{
 "cells": [
  {
   "cell_type": "code",
   "execution_count": 2,
   "metadata": {},
   "outputs": [],
   "source": [
    "import gzip\n",
    "import os\n",
    "\n",
    "from collections import OrderedDict\n",
    "from Bio import SeqIO\n",
    "from Bio.Seq import Seq\n",
    "from Bio.SeqRecord import SeqRecord\n",
    "\n",
    "import pandas as pd"
   ]
  },
  {
   "cell_type": "markdown",
   "metadata": {},
   "source": [
    "# Read fasta file and write to gene IDs and sequences to tsv"
   ]
  },
  {
   "cell_type": "code",
   "execution_count": 4,
   "metadata": {},
   "outputs": [],
   "source": [
    "# Load the compressed fasta file and parse it using biopython\n",
    "fasta_file = gzip.open(\"input.fa.gz\", mode='rt')\n",
    "\n",
    "outFile = open(\"output.tsv\" ,\"w\")\n",
    "outFile.write(\"GeneID\\tSequence\\n\")\n",
    "\n",
    "record_iterator = SeqIO.parse(fasta_file, \"fasta\")\n",
    "od = OrderedDict()\n",
    "for record in record_iterator:\n",
    "    # filter any genes shorter than 200aa\n",
    "    outFile.write(record.id+'\\t'+str(record.seq).replace(\"*\",\"\")+\"\\n\")"
   ]
  }
 ],
 "metadata": {
  "kernelspec": {
   "display_name": "Python 3",
   "language": "python",
   "name": "python3"
  },
  "language_info": {
   "codemirror_mode": {
    "name": "ipython",
    "version": 3
   },
   "file_extension": ".py",
   "mimetype": "text/x-python",
   "name": "python",
   "nbconvert_exporter": "python",
   "pygments_lexer": "ipython3",
   "version": "3.8.2"
  }
 },
 "nbformat": 4,
 "nbformat_minor": 5
}
