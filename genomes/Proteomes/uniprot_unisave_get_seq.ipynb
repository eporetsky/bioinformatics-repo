{
 "cells": [
  {
   "cell_type": "code",
   "execution_count": null,
   "id": "b462e039",
   "metadata": {},
   "outputs": [],
   "source": [
    "import requests as r\n",
    "from Bio import SeqIO\n",
    "from io import StringIO\n",
    "\n",
    "# get a list of unirprot IDs to try to find the sequence for\n",
    "uniprot_id_list = []\n",
    "\n",
    "# dictionary of Seq records\n",
    "seq_records_dict = {}\n",
    "# list of IDs not found\n",
    "not_uniprot_list = []\n",
    "\n",
    "# I use the counter to measure the progress since it is fairly slow\n",
    "count = 0\n",
    "\n",
    "for seq_id in df_missing[\"Protein ID\"].tolist():\n",
    "    \n",
    "    # progress counter will print every 100 sequences\n",
    "    count+=1\n",
    "    if count % 100 == 0:\n",
    "        print(count)\n",
    "        \n",
    "    # call the unisave and return text to parse\n",
    "    baseUrl=\"http://www.uniprot.org/unisave/\"\n",
    "    currentUrl=baseUrl+seq_id+\".fasta\"\n",
    "    response = r.post(currentUrl)\n",
    "\n",
    "    # if uniprot ID not found then skip\n",
    "    if response.status_code == 400:\n",
    "        not_uniprot_list.append(seq_id)\n",
    "        continue\n",
    "\n",
    "    # remove all \"\\nRAW\" for returned text\n",
    "    cData=''.join(response.text).replace(\"\\nRAW\", \"\")\n",
    "    \n",
    "    # use biopython to parse the output\n",
    "    Seq=StringIO(cData)\n",
    "    # The first item of the list is the latest versison\n",
    "    record=list(SeqIO.parse(Seq,'fasta'))[0]\n",
    "    # I prefer the shorter id version, not original fasta id\n",
    "    record_id = record.id.split(\"|\")[1]\n",
    "    record.id = record_id\n",
    "    # I prefer to remove all information except id and seq\n",
    "    record.name = \"\"\n",
    "    record.description = \"\"\n",
    "    \n",
    "    # dictionary stores complete Seq record, not just sequence\n",
    "    seq_records_dict[record_id] = record"
   ]
  }
 ],
 "metadata": {
  "kernelspec": {
   "display_name": "Python 3 (ipykernel)",
   "language": "python",
   "name": "python3"
  },
  "language_info": {
   "codemirror_mode": {
    "name": "ipython",
    "version": 3
   },
   "file_extension": ".py",
   "mimetype": "text/x-python",
   "name": "python",
   "nbconvert_exporter": "python",
   "pygments_lexer": "ipython3",
   "version": "3.9.15"
  }
 },
 "nbformat": 4,
 "nbformat_minor": 5
}
