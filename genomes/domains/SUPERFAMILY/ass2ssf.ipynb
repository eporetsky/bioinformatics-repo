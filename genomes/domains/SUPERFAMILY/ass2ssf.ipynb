{
 "cells": [
  {
   "cell_type": "code",
   "execution_count": 2,
   "id": "41aba211",
   "metadata": {},
   "outputs": [],
   "source": [
    "import os\n",
    "import pandas as pd"
   ]
  },
  {
   "cell_type": "code",
   "execution_count": 3,
   "id": "31324317",
   "metadata": {},
   "outputs": [
    {
     "data": {
      "text/plain": [
       "['Zm-CML69-REFERENCE-NAM-1.0_Zm00020ab.1.protein.canonical.fa.ass',\n",
       " 'Zm-Ky21-REFERENCE-NAM-1.0_Zm00031ab.1.protein.canonical.fa.ass',\n",
       " 'Zm-Ki3-REFERENCE-NAM-1.0_Zm00029ab.1.protein.canonical.fa.ass',\n",
       " 'Zm-Tzi8-REFERENCE-NAM-1.0_Zm00042ab.1.protein.canonical.fa.ass',\n",
       " 'Zm-CML322-REFERENCE-NAM-1.0_Zm00025ab.1.protein.canonical.fa.ass',\n",
       " 'Zm-NC350-REFERENCE-NAM-1.0_Zm00036ab.1.protein.canonical.fa.ass',\n",
       " 'Athaliana_167_TAIR10.protein_primaryTranscriptOnly.fa.ass',\n",
       " 'Zm-Ms71-REFERENCE-NAM-1.0_Zm00035ab.1.protein.canonical.fa.ass',\n",
       " 'Zmays_493_RefGen_V4.protein_primaryTranscriptOnly.fa.ass',\n",
       " 'Zm-M162W-REFERENCE-NAM-1.0_Zm00033ab.1.protein.canonical.fa.ass',\n",
       " 'Sbicolor_454_v3.1.1.protein_primaryTranscriptOnly.fa.ass',\n",
       " 'Sviridis_500_v2.1.protein_primaryTranscriptOnly.fa.ass',\n",
       " 'Zm-CML52-REFERENCE-NAM-1.0_Zm00019ab.1.protein.canonical.fa.ass',\n",
       " 'Osativa_323_v7.0.protein_primaryTranscriptOnly.fa.ass',\n",
       " 'Zm-B73-REFERENCE-NAM-5.0_Zm00001eb.1.protein.canonical.fa.ass',\n",
       " 'Zm-HP301-REFERENCE-NAM-1.0_Zm00027ab.1.protein.canonical.fa.ass',\n",
       " 'Sitalica_312_v2.2.protein_primaryTranscriptOnly.fa.ass',\n",
       " 'Zm-CML247-REFERENCE-NAM-1.0_Zm00023ab.1.protein.canonical.fa.ass',\n",
       " 'Zm-M37W-REFERENCE-NAM-1.0_Zm00032ab.1.protein.canonical.fa.ass',\n",
       " 'Zm-CML228-REFERENCE-NAM-1.0_Zm00022ab.1.protein.canonical.fa.ass',\n",
       " 'Zm-P39-REFERENCE-NAM-1.0_Zm00040ab.1.protein.canonical.fa.ass',\n",
       " 'Zm-B97-REFERENCE-NAM-1.0_Zm00018ab.1.protein.canonical.fa.ass',\n",
       " 'Zm-Il14H-REFERENCE-NAM-1.0_Zm00028ab.1.protein.canonical.fa.ass',\n",
       " 'Zm-CML277-REFERENCE-NAM-1.0_Zm00024ab.1.protein.canonical.fa.ass',\n",
       " 'Zm-NC358-REFERENCE-NAM-1.0_Zm00037ab.1.protein.canonical.fa.ass',\n",
       " 'Zm-Mo18W-REFERENCE-NAM-1.0_Zm00034ab.1.protein.canonical.fa.ass',\n",
       " 'Zm-CML103-REFERENCE-NAM-1.0_Zm00021ab.1.protein.canonical.fa.ass',\n",
       " 'Pvirgatum_516_v5.1.protein_primaryTranscriptOnly.fa.ass',\n",
       " 'Zm-Oh43-REFERENCE-NAM-1.0_Zm00039ab.1.protein.canonical.fa.ass',\n",
       " 'Zm-Ki11-REFERENCE-NAM-1.0_Zm00030ab.1.protein.canonical.fa.ass',\n",
       " 'Zm-Oh7B-REFERENCE-NAM-1.0_Zm00038ab.1.protein.canonical.fa.ass',\n",
       " 'Zm-CML333-REFERENCE-NAM-1.0_Zm00026ab.1.protein.canonical.fa.ass',\n",
       " 'Zm-Tx303-REFERENCE-NAM-1.0_Zm00041ab.1.protein.canonical.fa.ass']"
      ]
     },
     "execution_count": 3,
     "metadata": {},
     "output_type": "execute_result"
    }
   ],
   "source": [
    "file_list = [fl for fl in os.listdir() if fl[-3:]==\"ass\"]\n",
    "file_list"
   ]
  },
  {
   "cell_type": "code",
   "execution_count": 8,
   "id": "7a52bd03",
   "metadata": {
    "scrolled": true
   },
   "outputs": [],
   "source": [
    "models = pd.read_csv(\"model.tab\", sep=\"\\t\", header=None, dtype=str)\n",
    "for fl in file_list:\n",
    "    ass = pd.read_csv(fl, sep=\"\\t\", header=None)\n",
    "    merged = pd.merge(ass, models, left_on=1, right_on=0)\n",
    "    merged = merged[[\"0_x\", \"1_x\", \"4_y\"]]\n",
    "    merged.columns = [\"gene_ID\", \"SSF\", \"description\"]\n",
    "    merged.to_csv(\"ssf/\"+fl[:-7]+\".ssf\", sep=\"\\t\", index=False)"
   ]
  },
  {
   "cell_type": "code",
   "execution_count": 11,
   "id": "0ca2e211",
   "metadata": {},
   "outputs": [
    {
     "name": "stdout",
     "output_type": "stream",
     "text": [
      "Zm-CML69-REFERENCE-NAM-1.0_Zm00020ab.1.protein.canonical.ssf\n",
      "Zm-Ky21-REFERENCE-NAM-1.0_Zm00031ab.1.protein.canonical.ssf\n",
      "Zm-Ki3-REFERENCE-NAM-1.0_Zm00029ab.1.protein.canonical.ssf\n",
      "Zm-Tzi8-REFERENCE-NAM-1.0_Zm00042ab.1.protein.canonical.ssf\n",
      "Zm-CML322-REFERENCE-NAM-1.0_Zm00025ab.1.protein.canonical.ssf\n",
      "Zm-NC350-REFERENCE-NAM-1.0_Zm00036ab.1.protein.canonical.ssf\n",
      "Athaliana_167_TAIR10.protein_primaryTranscriptOnly.ssf\n",
      "Zm-Ms71-REFERENCE-NAM-1.0_Zm00035ab.1.protein.canonical.ssf\n",
      "Zmays_493_RefGen_V4.protein_primaryTranscriptOnly.ssf\n",
      "Zm-M162W-REFERENCE-NAM-1.0_Zm00033ab.1.protein.canonical.ssf\n",
      "Sbicolor_454_v3.1.1.protein_primaryTranscriptOnly.ssf\n",
      "Sviridis_500_v2.1.protein_primaryTranscriptOnly.ssf\n",
      "Zm-CML52-REFERENCE-NAM-1.0_Zm00019ab.1.protein.canonical.ssf\n",
      "Osativa_323_v7.0.protein_primaryTranscriptOnly.ssf\n",
      "Zm-B73-REFERENCE-NAM-5.0_Zm00001eb.1.protein.canonical.ssf\n",
      "Zm-HP301-REFERENCE-NAM-1.0_Zm00027ab.1.protein.canonical.ssf\n",
      "Sitalica_312_v2.2.protein_primaryTranscriptOnly.ssf\n",
      "Zm-CML247-REFERENCE-NAM-1.0_Zm00023ab.1.protein.canonical.ssf\n",
      "Zm-M37W-REFERENCE-NAM-1.0_Zm00032ab.1.protein.canonical.ssf\n",
      "Zm-CML228-REFERENCE-NAM-1.0_Zm00022ab.1.protein.canonical.ssf\n",
      "Zm-P39-REFERENCE-NAM-1.0_Zm00040ab.1.protein.canonical.ssf\n",
      "Zm-B97-REFERENCE-NAM-1.0_Zm00018ab.1.protein.canonical.ssf\n",
      "Zm-Il14H-REFERENCE-NAM-1.0_Zm00028ab.1.protein.canonical.ssf\n",
      "Zm-CML277-REFERENCE-NAM-1.0_Zm00024ab.1.protein.canonical.ssf\n",
      "Zm-NC358-REFERENCE-NAM-1.0_Zm00037ab.1.protein.canonical.ssf\n",
      "Zm-Mo18W-REFERENCE-NAM-1.0_Zm00034ab.1.protein.canonical.ssf\n",
      "Zm-CML103-REFERENCE-NAM-1.0_Zm00021ab.1.protein.canonical.ssf\n",
      "Pvirgatum_516_v5.1.protein_primaryTranscriptOnly.ssf\n",
      "Zm-Oh43-REFERENCE-NAM-1.0_Zm00039ab.1.protein.canonical.ssf\n",
      "Zm-Ki11-REFERENCE-NAM-1.0_Zm00030ab.1.protein.canonical.ssf\n",
      "Zm-Oh7B-REFERENCE-NAM-1.0_Zm00038ab.1.protein.canonical.ssf\n",
      "Zm-CML333-REFERENCE-NAM-1.0_Zm00026ab.1.protein.canonical.ssf\n",
      "Zm-Tx303-REFERENCE-NAM-1.0_Zm00041ab.1.protein.canonical.ssf\n"
     ]
    }
   ],
   "source": [
    "for fl in file_list:\n",
    "    print(fl[:-7]+\".ssf\")"
   ]
  }
 ],
 "metadata": {
  "kernelspec": {
   "display_name": "Python 3 (ipykernel)",
   "language": "python",
   "name": "python3"
  },
  "language_info": {
   "codemirror_mode": {
    "name": "ipython",
    "version": 3
   },
   "file_extension": ".py",
   "mimetype": "text/x-python",
   "name": "python",
   "nbconvert_exporter": "python",
   "pygments_lexer": "ipython3",
   "version": "3.9.7"
  }
 },
 "nbformat": 4,
 "nbformat_minor": 5
}
