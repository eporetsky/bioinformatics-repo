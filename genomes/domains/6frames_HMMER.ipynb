{
 "cells": [
  {
   "cell_type": "code",
   "execution_count": 1,
   "metadata": {},
   "outputs": [],
   "source": [
    "from Bio import SeqIO\n",
    "from Bio.SeqRecord import SeqRecord"
   ]
  },
  {
   "cell_type": "markdown",
   "metadata": {},
   "source": [
    "# Create a 6-frame translation of whole genome sequence"
   ]
  },
  {
   "cell_type": "code",
   "execution_count": 12,
   "metadata": {},
   "outputs": [],
   "source": [
    "with open(\"6frame_amino_acid.fasta\", 'w') as aa_fa:\n",
    "    for dna_record in SeqIO.parse(\"genome.dna.toplevel.fa\", 'fasta'):\n",
    "        # use both fwd and rev sequences\n",
    "        dna_seqs = [dna_record.seq, dna_record.seq.reverse_complement()]\n",
    "\n",
    "        # generate all translation frames\n",
    "        aa_seqs = (s[i:].translate(to_stop=False) for i in range(3) for s in dna_seqs)\n",
    "\n",
    "        # select the longest one\n",
    "        # max_aa = max(aa_seqs, key=len)\n",
    "\n",
    "        # write new record\n",
    "        frame_count = 1\n",
    "        for aa in aa_seqs:\n",
    "            aa_record = SeqRecord(aa, id=dna_record.id+\"_\"+str(frame_count), description=\"\")\n",
    "            SeqIO.write(aa_record, aa_fa, 'fasta')\n",
    "            frame_count += 1\n"
   ]
  },
  {
   "cell_type": "markdown",
   "metadata": {},
   "source": [
    "# Use HMMER to identify domains of interests across the genome"
   ]
  },
  {
   "cell_type": "code",
   "execution_count": null,
   "metadata": {},
   "outputs": [],
   "source": [
    "# TODO: Parse HMMER results and get accurate domain coordinates\n",
    "# TODO: Parse HMMER results and gff3 files to asign gene IDs and coordinates"
   ]
  }
 ],
 "metadata": {
  "kernelspec": {
   "display_name": "Python 3",
   "language": "python",
   "name": "python3"
  },
  "language_info": {
   "codemirror_mode": {
    "name": "ipython",
    "version": 3
   },
   "file_extension": ".py",
   "mimetype": "text/x-python",
   "name": "python",
   "nbconvert_exporter": "python",
   "pygments_lexer": "ipython3",
   "version": "3.9.5"
  }
 },
 "nbformat": 4,
 "nbformat_minor": 4
}
