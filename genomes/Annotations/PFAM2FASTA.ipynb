{
 "cells": [
  {
   "cell_type": "code",
   "execution_count": 12,
   "id": "c325f809",
   "metadata": {},
   "outputs": [],
   "source": [
    "import pandas as pd\n",
    "from Bio import SeqIO \n",
    "from Bio.SeqRecord import SeqRecord\n",
    "from Bio.Seq import Seq"
   ]
  },
  {
   "cell_type": "markdown",
   "id": "82606126",
   "metadata": {},
   "source": [
    "# Parse PFAM predicted results and generate fasta"
   ]
  },
  {
   "cell_type": "code",
   "execution_count": 7,
   "id": "151b5e02",
   "metadata": {},
   "outputs": [
    {
     "data": {
      "text/html": [
       "<div>\n",
       "<style scoped>\n",
       "    .dataframe tbody tr th:only-of-type {\n",
       "        vertical-align: middle;\n",
       "    }\n",
       "\n",
       "    .dataframe tbody tr th {\n",
       "        vertical-align: top;\n",
       "    }\n",
       "\n",
       "    .dataframe thead th {\n",
       "        text-align: right;\n",
       "    }\n",
       "</style>\n",
       "<table border=\"1\" class=\"dataframe\">\n",
       "  <thead>\n",
       "    <tr style=\"text-align: right;\">\n",
       "      <th></th>\n",
       "      <th>Unnamed: 0</th>\n",
       "      <th># target name</th>\n",
       "      <th>query name</th>\n",
       "    </tr>\n",
       "  </thead>\n",
       "  <tbody>\n",
       "    <tr>\n",
       "      <th>0</th>\n",
       "      <td>Glycine max</td>\n",
       "      <td>Peptidase_S8</td>\n",
       "      <td>Glyma.16G018900.1.p</td>\n",
       "    </tr>\n",
       "    <tr>\n",
       "      <th>1</th>\n",
       "      <td>Glycine max</td>\n",
       "      <td>Peptidase_S8</td>\n",
       "      <td>Glyma.16G019000.2.p</td>\n",
       "    </tr>\n",
       "    <tr>\n",
       "      <th>2</th>\n",
       "      <td>Glycine max</td>\n",
       "      <td>Peptidase_S8</td>\n",
       "      <td>Glyma.16G201700.1.p</td>\n",
       "    </tr>\n",
       "    <tr>\n",
       "      <th>3</th>\n",
       "      <td>Glycine max</td>\n",
       "      <td>Peptidase_S8</td>\n",
       "      <td>Glyma.16G012700.1.p</td>\n",
       "    </tr>\n",
       "    <tr>\n",
       "      <th>4</th>\n",
       "      <td>Glycine max</td>\n",
       "      <td>Peptidase_S8</td>\n",
       "      <td>Glyma.16G182500.1.p</td>\n",
       "    </tr>\n",
       "    <tr>\n",
       "      <th>...</th>\n",
       "      <td>...</td>\n",
       "      <td>...</td>\n",
       "      <td>...</td>\n",
       "    </tr>\n",
       "    <tr>\n",
       "      <th>311</th>\n",
       "      <td>Vigna unguiculata</td>\n",
       "      <td>Peptidase_S8</td>\n",
       "      <td>Vigun02g110700.1.p</td>\n",
       "    </tr>\n",
       "    <tr>\n",
       "      <th>312</th>\n",
       "      <td>Vigna unguiculata</td>\n",
       "      <td>Peptidase_S8</td>\n",
       "      <td>Vigun07g225100.1.p</td>\n",
       "    </tr>\n",
       "    <tr>\n",
       "      <th>313</th>\n",
       "      <td>Vigna unguiculata</td>\n",
       "      <td>Peptidase_S8</td>\n",
       "      <td>Vigun07g045300.1.p</td>\n",
       "    </tr>\n",
       "    <tr>\n",
       "      <th>314</th>\n",
       "      <td>Vigna unguiculata</td>\n",
       "      <td>Peptidase_S8</td>\n",
       "      <td>Vigun07g161600.1.p</td>\n",
       "    </tr>\n",
       "    <tr>\n",
       "      <th>315</th>\n",
       "      <td>Vigna unguiculata</td>\n",
       "      <td>Peptidase_S8</td>\n",
       "      <td>Vigun07g232500.1.p</td>\n",
       "    </tr>\n",
       "  </tbody>\n",
       "</table>\n",
       "<p>316 rows × 3 columns</p>\n",
       "</div>"
      ],
      "text/plain": [
       "            Unnamed: 0 # target name           query name\n",
       "0          Glycine max  Peptidase_S8  Glyma.16G018900.1.p\n",
       "1          Glycine max  Peptidase_S8  Glyma.16G019000.2.p\n",
       "2          Glycine max  Peptidase_S8  Glyma.16G201700.1.p\n",
       "3          Glycine max  Peptidase_S8  Glyma.16G012700.1.p\n",
       "4          Glycine max  Peptidase_S8  Glyma.16G182500.1.p\n",
       "..                 ...           ...                  ...\n",
       "311  Vigna unguiculata  Peptidase_S8   Vigun02g110700.1.p\n",
       "312  Vigna unguiculata  Peptidase_S8   Vigun07g225100.1.p\n",
       "313  Vigna unguiculata  Peptidase_S8   Vigun07g045300.1.p\n",
       "314  Vigna unguiculata  Peptidase_S8   Vigun07g161600.1.p\n",
       "315  Vigna unguiculata  Peptidase_S8   Vigun07g232500.1.p\n",
       "\n",
       "[316 rows x 3 columns]"
      ]
     },
     "execution_count": 7,
     "metadata": {},
     "output_type": "execute_result"
    }
   ],
   "source": [
    "# Assumes two columns: species name and gene name\n",
    "df = pd.read_csv(\"PFAM_combined_results.csv\", sep=\",\")"
   ]
  },
  {
   "cell_type": "code",
   "execution_count": 6,
   "id": "fdc53149",
   "metadata": {},
   "outputs": [],
   "source": [
    "# This dictionary will convert the species name to the fasta file name\n",
    "file_names = {\n",
    "    \"Glycine max\": \"Gmax_508_Wm82.a4.v1.protein_primaryTranscriptOnly.fa\",\n",
    "    \"Arabidopsis thaliana\": \"Athaliana_167_TAIR10.protein_primaryTranscriptOnly.fa\"\n",
    "}"
   ]
  },
  {
   "cell_type": "code",
   "execution_count": 27,
   "id": "a7df7fa9",
   "metadata": {},
   "outputs": [],
   "source": [
    "# An empty dictionary to hold all the SeqRecord values\n",
    "gene_dict = dict()\n",
    "\n",
    "for species in set(df[\"species name\"]):\n",
    "    # For each species get a list of all genes\n",
    "    gene_list = list(df[df[\"species name\"]==line][\"gene name\"])\n",
    "    # Parse the fasta file using the file_names dictionary\n",
    "    for seq in SeqIO.parse(\"proteomes/\"+file_names[line], \"fasta\"):\n",
    "        # If the gene is in the species-specific gene list add SeqRecord to dictionary\n",
    "        if seq.name in gene_list:\n",
    "            gene_dict[seq.name] = SeqRecord(seq=seq.seq, id=seq.name, description=\"\")\n",
    "\n",
    "# Write the gene_dict values to a fasta file\n",
    "with open(\"PFAM_combined_results.fasta\", \"w\") as handle:\n",
    "    SeqIO.write(gene_dict.values(), handle, \"fasta\") "
   ]
  }
 ],
 "metadata": {
  "kernelspec": {
   "display_name": "Python 3",
   "language": "python",
   "name": "python3"
  },
  "language_info": {
   "codemirror_mode": {
    "name": "ipython",
    "version": 3
   },
   "file_extension": ".py",
   "mimetype": "text/x-python",
   "name": "python",
   "nbconvert_exporter": "python",
   "pygments_lexer": "ipython3",
   "version": "3.7.11"
  }
 },
 "nbformat": 4,
 "nbformat_minor": 5
}
