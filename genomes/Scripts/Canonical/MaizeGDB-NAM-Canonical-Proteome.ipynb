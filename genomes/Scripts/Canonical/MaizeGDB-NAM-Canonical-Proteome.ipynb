{
 "cells": [
  {
   "cell_type": "code",
   "execution_count": 1,
   "id": "centered-coaching",
   "metadata": {},
   "outputs": [],
   "source": [
    "import os\n",
    "import gzip\n",
    "import pandas as pd\n",
    "from Bio import SeqIO\n",
    "from Bio.SeqRecord import SeqRecord"
   ]
  },
  {
   "cell_type": "code",
   "execution_count": 2,
   "id": "operating-population",
   "metadata": {},
   "outputs": [],
   "source": [
    "# MaizeGDB NAM sequenced lines come with a list of canonical genes\n",
    "# The script below extracts them from the complete proteome fasta file\n",
    "pdict = {ln.split(\"-\")[1]: ln for ln in os.listdir(\"Proteomes\")}  # protein sequence fasta files\n",
    "cdict = {ln.split(\"-\")[1]: ln for ln in os.listdir(\"Canonicals\")} # canonical_transcripts files"
   ]
  },
  {
   "cell_type": "code",
   "execution_count": 16,
   "id": "federal-musical",
   "metadata": {},
   "outputs": [
    {
     "name": "stdout",
     "output_type": "stream",
     "text": [
      "Start: B73\n",
      "Start: B97\n",
      "Start: CML103\n",
      "Start: CML228\n",
      "Start: CML247\n",
      "Start: CML277\n",
      "Start: CML322\n",
      "Start: CML333\n",
      "Start: CML52\n",
      "Start: CML69\n",
      "Start: HP301\n",
      "Start: Il14H\n",
      "Start: Ki11\n",
      "Start: Ki3\n",
      "Start: Ky21\n",
      "Start: M162W\n",
      "Start: M37W\n",
      "Start: Mo18W\n",
      "Start: Ms71\n",
      "Start: NC350\n",
      "Start: NC358\n",
      "Start: Oh43\n",
      "Start: Oh7B\n",
      "Start: P39\n",
      "Start: Tx303\n",
      "Start: Tzi8\n"
     ]
    }
   ],
   "source": [
    "for ln in pdict.keys():\n",
    "    print(\"Start:\", ln)\n",
    "    gene_list = pd.read_csv(\"Canonicals/\"+cdict[ln], header=None, sep=\"\\t\")[0].to_list()\n",
    "    with gzip.open(\"Proteomes/\"+pdict[ln], \"rt\") as handle:\n",
    "        gene_dict = dict()\n",
    "        for record in SeqIO.parse(handle, \"fasta\"):\n",
    "            record.id = record.id.replace(\"P\", \"T\") # Need to replace P001 with T001, only use with gene IDs not containing P\n",
    "            if record.id in gene_list:\n",
    "                name = record.id.split(\"_\")[0]\n",
    "                gene_dict[name] = SeqRecord(seq=record.seq, id=name, description=\"\")\n",
    "    \n",
    "    file_name = \"Extracted/\"+pdict[ln][:-6]+\".canonical.fa\"\n",
    "    with open(file_name, \"w\") as handle:\n",
    "        SeqIO.write(gene_dict.values(), handle, \"fasta\")"
   ]
  }
 ],
 "metadata": {
  "kernelspec": {
   "display_name": "Python 3 (ipykernel)",
   "language": "python",
   "name": "python3"
  },
  "language_info": {
   "codemirror_mode": {
    "name": "ipython",
    "version": 3
   },
   "file_extension": ".py",
   "mimetype": "text/x-python",
   "name": "python",
   "nbconvert_exporter": "python",
   "pygments_lexer": "ipython3",
   "version": "3.9.7"
  }
 },
 "nbformat": 4,
 "nbformat_minor": 5
}
