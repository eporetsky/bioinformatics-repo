{
 "cells": [
  {
   "cell_type": "markdown",
   "id": "d026de4e",
   "metadata": {},
   "source": [
    "# Create a control fasta file for STREME analysis\n",
    "Given:\n",
    "1) a fasta file containing all promoter sequences\\\n",
    "2) a fasta file containing promoters of selected DEGs\\\n",
    "\n",
    "Remove selected fasta lines from the complete fasta file"
   ]
  },
  {
   "cell_type": "code",
   "execution_count": 1,
   "id": "537272f6",
   "metadata": {},
   "outputs": [],
   "source": [
    "# https://www.biostars.org/p/710/\n",
    "from Bio import SeqIO\n",
    "\n",
    "fasta_sequences = SeqIO.parse(open(\"promoters/Wt_Sb14_promoters.fasta\"),'fasta')\n",
    "remove_list = []\n",
    "for seq in fasta_sequences:\n",
    "    remove_list.append(seq.id)"
   ]
  },
  {
   "cell_type": "code",
   "execution_count": 2,
   "id": "861de314",
   "metadata": {},
   "outputs": [],
   "source": [
    "fasta_sequences = SeqIO.parse(open(\"promoters/Athaliana_167_1kb_promoter.fasta\"),'fasta')\n",
    "with open(\"promoters/Wt_Sb14_controls.fasta\", \"w\") as out_file:\n",
    "    for seq in fasta_sequences:\n",
    "        #name, sequence = fasta.id, str(fasta.seq)\n",
    "        if seq.id in remove_list:\n",
    "            continue\n",
    "        SeqIO.write(seq, out_file, \"fasta\")"
   ]
  }
 ],
 "metadata": {
  "kernelspec": {
   "display_name": "Python 3 (ipykernel)",
   "language": "python",
   "name": "python3"
  },
  "language_info": {
   "codemirror_mode": {
    "name": "ipython",
    "version": 3
   },
   "file_extension": ".py",
   "mimetype": "text/x-python",
   "name": "python",
   "nbconvert_exporter": "python",
   "pygments_lexer": "ipython3",
   "version": "3.9.7"
  }
 },
 "nbformat": 4,
 "nbformat_minor": 5
}
