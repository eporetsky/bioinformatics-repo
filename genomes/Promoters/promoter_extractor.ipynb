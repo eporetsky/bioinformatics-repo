{
 "cells": [
  {
   "cell_type": "code",
   "execution_count": 2,
   "id": "dramatic-blair",
   "metadata": {},
   "outputs": [],
   "source": [
    "import pandas as pd"
   ]
  },
  {
   "cell_type": "code",
   "execution_count": 79,
   "id": "sporting-cinema",
   "metadata": {},
   "outputs": [
    {
     "name": "stdout",
     "output_type": "stream",
     "text": [
      "AT1G01010 1 3760 +\n",
      "AT1G01020 1 8666 -\n",
      "AT1G01030 1 12940 -\n",
      "AT1G01040 1 23519 +\n",
      "AT1G01050 1 32670 -\n",
      "AT1G01060 1 37061 -\n"
     ]
    }
   ],
   "source": [
    "# Read the GFF file that contains the gene IDs in the 8th column\n",
    "# Find the transcription start site (TSS) for each gene.\n",
    "# Based on phytozome GFF3 files. Adjustments to be made for other sources\n",
    "# Assumes row are ordered: gene > mRNA > CDS\n",
    "# Assumes CDS are ordered for both fwd and rev genes and 1st CDS is TSS\n",
    "\n",
    "gff = pd.read_csv(\"data/gffs/Athaliana_167_gene.gff3\", sep=\"\\t\", skiprows=1, header=None)\n",
    "gff = gff[gff[2].isin([\"gene\", \"mRNA\", \"CDS\"])]\n",
    "\n",
    "gene_id = None\n",
    "longest = None\n",
    "TSS     = None\n",
    "\n",
    "# Test just the first 100 lines (.iloc[:100]) in the GFF3 files\n",
    "for index, row in gff.iterrows():\n",
    "    gff3_name = row[8]\n",
    "    \n",
    "    if row[2] == \"gene\":\n",
    "        gene_id = gff3_name[gff3_name.find(\"Name=\")+5:].split(\";\")[0]\n",
    "        skip_row = False\n",
    "    \n",
    "    if row[2] == \"mRNA\":\n",
    "        longest = int(gff3_name[gff3_name.find(\"longest\")+8:gff3_name.find(\"longest\")+9])\n",
    "\n",
    "    if skip_row:\n",
    "        continue\n",
    "    \n",
    "    if row[2] == \"CDS\" and longest == 1 and row[6]==\"+\":\n",
    "        TSS = row[3]\n",
    "        skip_row = True\n",
    "        print(gene_id, longest, TSS, row[6])\n",
    "        \n",
    "    if row[2] == \"CDS\" and longest == 1 and row[6]==\"-\":\n",
    "        TSS = row[4]\n",
    "        skip_row = True\n",
    "        print(gene_id, longest, TSS, row[6])  "
   ]
  }
 ],
 "metadata": {
  "kernelspec": {
   "display_name": "Python 3 (ipykernel)",
   "language": "python",
   "name": "python3"
  },
  "language_info": {
   "codemirror_mode": {
    "name": "ipython",
    "version": 3
   },
   "file_extension": ".py",
   "mimetype": "text/x-python",
   "name": "python",
   "nbconvert_exporter": "python",
   "pygments_lexer": "ipython3",
   "version": "3.9.7"
  }
 },
 "nbformat": 4,
 "nbformat_minor": 5
}
